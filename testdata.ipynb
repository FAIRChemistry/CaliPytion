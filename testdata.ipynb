{
 "cells": [
  {
   "cell_type": "code",
   "execution_count": 12,
   "metadata": {},
   "outputs": [],
   "source": [
    "import numpy as np\n",
    "import json\n",
    "from CaliPytion.tools.calibrationmodel import linear1, quadratic, poly3, poly_e, rational\n",
    "\n",
    "from CaliPytion.core.standard import Standard\n",
    "from CaliPytion.core.spectrum import Spectrum\n",
    "from CaliPytion.core.device import Device\n",
    "from CaliPytion.core.concentrationunits import ConcentrationUnits\n",
    "from CaliPytion.core.series import Series\n",
    "from CaliPytion.core.calibration import Calibration\n",
    "from CaliPytion.core.temperatureunits import TemperatureUnits"
   ]
  },
  {
   "attachments": {},
   "cell_type": "markdown",
   "metadata": {},
   "source": [
    "## Create test instance of the data model"
   ]
  },
  {
   "cell_type": "code",
   "execution_count": 3,
   "metadata": {},
   "outputs": [],
   "source": [
    "device = Device(manufacturer=\"IBTB\",\n",
    "                model=\"photo 3000\",\n",
    "                sofware_version=\"0.1.5\")\n",
    "\n",
    "standard_series = Series(values=[])\n",
    "\n",
    "standard = Standard(wavelength=420,\n",
    "                    concentration=[],\n",
    "                    concentration_unit=ConcentrationUnits.MICROMOLAR,\n",
    "                    absorption=[standard_series]\n",
    "                    )\n",
    "\n",
    "spectrum_series = Series(values=np.repeat([1], 11).tolist())\n",
    "\n",
    "spectrum = Spectrum(concentration=2.0,\n",
    "                    concentration_unit=ConcentrationUnits.MICROMOLAR,\n",
    "                    wavelength=np.linspace(300.0, 400.0, 11).tolist(),\n",
    "                    absorption=[spectrum_series]\n",
    "                    )\n",
    "\n",
    "calibration = Calibration(reactant_id=\"s0\",\n",
    "                          date=\"14.03.2022\",\n",
    "                          pH=7,\n",
    "                          temperature=25,\n",
    "                          temperature_unit=TemperatureUnits.CELSIUS,\n",
    "                          device=device,\n",
    "                          standard=[standard],\n",
    "                          spectrum=spectrum)"
   ]
  },
  {
   "cell_type": "code",
   "execution_count": 4,
   "metadata": {},
   "outputs": [
    {
     "data": {
      "text/plain": [
       "{'id': 'calibration1',\n",
       " 'reactant_id': 's0',\n",
       " 'date': '14.03.2022',\n",
       " 'pH': 7.0,\n",
       " 'temperature': 25.0,\n",
       " 'temperature_unit': 'C',\n",
       " 'device': Device(id='device1', manufacturer='IBTB', model='photo 3000', software_version=None),\n",
       " 'standard': [Standard(id='standard1', wavelength=420.0, concentration=[], concentration_unit='umole / l', absorption=[Series(id='series2', values=[])])],\n",
       " 'spectrum': Spectrum(id='spectrum1', concentration=2.0, wavelength=[300.0, 310.0, 320.0, 330.0, 340.0, 350.0, 360.0, 370.0, 380.0, 390.0, 400.0], concentration_unit='umole / l', absorption=[Series(id='series3', values=[1.0, 1.0, 1.0, 1.0, 1.0, 1.0, 1.0, 1.0, 1.0, 1.0, 1.0])]),\n",
       " 'result': None}"
      ]
     },
     "execution_count": 4,
     "metadata": {},
     "output_type": "execute_result"
    }
   ],
   "source": [
    "calibration.__dict__"
   ]
  },
  {
   "attachments": {},
   "cell_type": "markdown",
   "metadata": {},
   "source": [
    "## Linear Model"
   ]
  },
  {
   "cell_type": "code",
   "execution_count": 5,
   "metadata": {},
   "outputs": [],
   "source": [
    "# Model parameters\n",
    "a = 0.04\n",
    "\n",
    "conc = np.linspace(0, 70, 8)\n",
    "\n",
    "absorption = linear1(conc, a)\n",
    "\n",
    "# Instanciate data model\n",
    "standard.concentration = conc.tolist()\n",
    "standard.absorption[0].values = absorption.tolist()\n",
    "\n",
    "\n"
   ]
  },
  {
   "cell_type": "code",
   "execution_count": 14,
   "metadata": {},
   "outputs": [],
   "source": [
    "calibration.__dict__\n",
    "\n",
    "with open(\"linear_test.json\", \"w\") as f:\n",
    "    f.write(standard.json())"
   ]
  }
 ],
 "metadata": {
  "kernelspec": {
   "display_name": "base",
   "language": "python",
   "name": "python3"
  },
  "language_info": {
   "codemirror_mode": {
    "name": "ipython",
    "version": 3
   },
   "file_extension": ".py",
   "mimetype": "text/x-python",
   "name": "python",
   "nbconvert_exporter": "python",
   "pygments_lexer": "ipython3",
   "version": "3.10.9"
  },
  "orig_nbformat": 4
 },
 "nbformat": 4,
 "nbformat_minor": 2
}
