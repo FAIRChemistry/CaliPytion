{
 "cells": [
  {
   "cell_type": "code",
   "execution_count": 1,
   "metadata": {},
   "outputs": [],
   "source": [
    "import numpy as np\n",
    "from datetime import datetime\n",
    "\n",
    "\n",
    "from CaliPytion import Calibrator, Standard"
   ]
  },
  {
   "cell_type": "markdown",
   "metadata": {},
   "source": [
    "## Generate artificial data for a `Standard`"
   ]
  },
  {
   "cell_type": "code",
   "execution_count": 2,
   "metadata": {},
   "outputs": [],
   "source": [
    "def random(xs):\n",
    "    return xs+np.random.normal(0, 0.03, 1)\n",
    "\n",
    "\n",
    "SLOPE = 0.014\n",
    "CONC = np.linspace(0, 200, 11)\n",
    "ABSO = CONC*SLOPE"
   ]
  },
  {
   "cell_type": "code",
   "execution_count": 3,
   "metadata": {},
   "outputs": [],
   "source": [
    "# Generate standard\n",
    "standard = Standard(\n",
    "    species_id=\"s0\",\n",
    "    name=\"ABTS\",\n",
    "    wavelength=340,\n",
    "    ph=2,\n",
    "    temperature=25,\n",
    "    temperature_unit=\"C\",\n",
    "    created=datetime.now(),\n",
    ")\n",
    "\n",
    "# Add samples with noise\n",
    "for conc, abso in zip(CONC, ABSO):\n",
    "    standard.add_to_samples(\n",
    "        concentration=conc,\n",
    "        conc_unit=\"umol / l\",\n",
    "        signal=random(abso),\n",
    "    )\n",
    "    standard.add_to_samples(\n",
    "        concentration=conc,\n",
    "        conc_unit=\"umol / l\",\n",
    "        signal=random(abso),\n",
    "    )\n",
    "    standard.add_to_samples(\n",
    "        concentration=conc,\n",
    "        conc_unit=\"umol / l\",\n",
    "        signal=random(abso),\n",
    "    )"
   ]
  },
  {
   "cell_type": "markdown",
   "metadata": {},
   "source": [
    "## Initialize a `Calibrator` from a `Standard`\n",
    "\n",
    "By defining a cutoff value, samples with a higher signal than the defined cutoff are ignored for the calibration.\n",
    "For concentration calculation, the model does not extrapolate beyond the cutoff value by default."
   ]
  },
  {
   "cell_type": "code",
   "execution_count": 4,
   "metadata": {},
   "outputs": [],
   "source": [
    "# initialize calibrator\n",
    "calibrator = Calibrator.from_standard(standard, cutoff=2.5)"
   ]
  },
  {
   "cell_type": "markdown",
   "metadata": {},
   "source": [
    "CaliPytion contains predefined models, which can be used for calibration.\n",
    "Alternatively, custom models can be added. \n",
    "\n",
    "```{note}\n",
    "The equation of a model must include 'signal' and 'concentration' as variables.\n",
    "```"
   ]
  },
  {
   "cell_type": "code",
   "execution_count": 5,
   "metadata": {},
   "outputs": [],
   "source": [
    "exponential = calibrator.add_to_models(\n",
    "    name=\"exponential\",\n",
    "    equation=\"a * exp(b * concentration) = signal\",\n",
    ")"
   ]
  },
  {
   "cell_type": "markdown",
   "metadata": {},
   "source": [
    "By calling `fit_models`, all models are fitted to the data defined in `Standard`. A report, summarizing statistical parameters of each model is generated."
   ]
  },
  {
   "cell_type": "code",
   "execution_count": 6,
   "metadata": {},
   "outputs": [
    {
     "data": {
      "text/html": [
       "<style type=\"text/css\">\n",
       "#T_8b92a_row0_col0, #T_8b92a_row1_col0, #T_8b92a_row1_col2, #T_8b92a_row2_col0, #T_8b92a_row2_col2, #T_8b92a_row3_col2, #T_8b92a_row4_col1 {\n",
       "  background-color: #f7fbff;\n",
       "  color: #000000;\n",
       "}\n",
       "#T_8b92a_row0_col1, #T_8b92a_row1_col1, #T_8b92a_row2_col1, #T_8b92a_row3_col1, #T_8b92a_row4_col0, #T_8b92a_row4_col2 {\n",
       "  background-color: #08306b;\n",
       "  color: #f1f1f1;\n",
       "}\n",
       "#T_8b92a_row0_col2, #T_8b92a_row3_col0 {\n",
       "  background-color: #f5fafe;\n",
       "  color: #000000;\n",
       "}\n",
       "</style>\n",
       "<table id=\"T_8b92a\">\n",
       "  <thead>\n",
       "    <tr>\n",
       "      <th class=\"blank level0\" >&nbsp;</th>\n",
       "      <th id=\"T_8b92a_level0_col0\" class=\"col_heading level0 col0\" >AIC</th>\n",
       "      <th id=\"T_8b92a_level0_col1\" class=\"col_heading level0 col1\" >R squared</th>\n",
       "      <th id=\"T_8b92a_level0_col2\" class=\"col_heading level0 col2\" >RMSD</th>\n",
       "    </tr>\n",
       "    <tr>\n",
       "      <th class=\"index_name level0\" >Model Name</th>\n",
       "      <th class=\"blank col0\" >&nbsp;</th>\n",
       "      <th class=\"blank col1\" >&nbsp;</th>\n",
       "      <th class=\"blank col2\" >&nbsp;</th>\n",
       "    </tr>\n",
       "  </thead>\n",
       "  <tbody>\n",
       "    <tr>\n",
       "      <th id=\"T_8b92a_level0_row0\" class=\"row_heading level0 row0\" >linear</th>\n",
       "      <td id=\"T_8b92a_row0_col0\" class=\"data row0 col0\" >-198</td>\n",
       "      <td id=\"T_8b92a_row0_col1\" class=\"data row0 col1\" >0.9988</td>\n",
       "      <td id=\"T_8b92a_row0_col2\" class=\"data row0 col2\" >0.0248</td>\n",
       "    </tr>\n",
       "    <tr>\n",
       "      <th id=\"T_8b92a_level0_row1\" class=\"row_heading level0 row1\" >quadratic</th>\n",
       "      <td id=\"T_8b92a_row1_col0\" class=\"data row1 col0\" >-198</td>\n",
       "      <td id=\"T_8b92a_row1_col1\" class=\"data row1 col1\" >0.9989</td>\n",
       "      <td id=\"T_8b92a_row1_col2\" class=\"data row1 col2\" >0.0236</td>\n",
       "    </tr>\n",
       "    <tr>\n",
       "      <th id=\"T_8b92a_level0_row2\" class=\"row_heading level0 row2\" >rational</th>\n",
       "      <td id=\"T_8b92a_row2_col0\" class=\"data row2 col0\" >-198</td>\n",
       "      <td id=\"T_8b92a_row2_col1\" class=\"data row2 col1\" >0.9989</td>\n",
       "      <td id=\"T_8b92a_row2_col2\" class=\"data row2 col2\" >0.0236</td>\n",
       "    </tr>\n",
       "    <tr>\n",
       "      <th id=\"T_8b92a_level0_row3\" class=\"row_heading level0 row3\" >cubic</th>\n",
       "      <td id=\"T_8b92a_row3_col0\" class=\"data row3 col0\" >-197</td>\n",
       "      <td id=\"T_8b92a_row3_col1\" class=\"data row3 col1\" >0.9990</td>\n",
       "      <td id=\"T_8b92a_row3_col2\" class=\"data row3 col2\" >0.0233</td>\n",
       "    </tr>\n",
       "    <tr>\n",
       "      <th id=\"T_8b92a_level0_row4\" class=\"row_heading level0 row4\" >exponential</th>\n",
       "      <td id=\"T_8b92a_row4_col0\" class=\"data row4 col0\" >-86</td>\n",
       "      <td id=\"T_8b92a_row4_col1\" class=\"data row4 col1\" >0.9307</td>\n",
       "      <td id=\"T_8b92a_row4_col2\" class=\"data row4 col2\" >0.1899</td>\n",
       "    </tr>\n",
       "  </tbody>\n",
       "</table>\n"
      ],
      "text/plain": [
       "<pandas.io.formats.style.Styler at 0x287e49a10>"
      ]
     },
     "execution_count": 6,
     "metadata": {},
     "output_type": "execute_result"
    }
   ],
   "source": [
    "# Fit all defined models\n",
    "calibrator.fit_models()"
   ]
  },
  {
   "cell_type": "markdown",
   "metadata": {},
   "source": [
    "## Model visualization\n",
    "\n",
    "Models can be visualized, displaying the measured samples used for fitting of thee model, as well as the fitted model. Additionally, the residuals of the model are visualized."
   ]
  },
  {
   "cell_type": "code",
   "execution_count": 7,
   "metadata": {},
   "outputs": [
    {
     "data": {
      "application/vnd.plotly.v1+json": {
       "config": {
        "plotlyServerURL": "https://plot.ly",
        "toImageButtonOptions": {
         "filename": "linear_calibration_curve",
         "format": "svg",
         "scale": 1
        }
       },
       "data": [
        {
         "hoverinfo": "skip",
         "marker": {
          "color": "#1f77b4"
         },
         "mode": "markers",
         "name": "ABTS",
         "type": "scatter",
         "visible": true,
         "x": [
          0,
          0,
          0,
          20,
          20,
          20,
          40,
          40,
          40,
          60,
          60,
          60,
          80,
          80,
          80,
          100,
          100,
          100,
          120,
          120,
          120,
          140,
          140,
          140,
          160,
          160,
          160
         ],
         "xaxis": "x",
         "y": [
          0.005157383364019946,
          0.019572056697463286,
          0.012587752156714687,
          0.3089144352400354,
          0.28650796856406585,
          0.29572632325351916,
          0.5654537427767319,
          0.556030507773439,
          0.530372674824755,
          0.870853089803742,
          0.8289725808021209,
          0.8611857526052108,
          1.1298673564805555,
          1.1450357825756683,
          1.1315843270179986,
          1.4421959159326843,
          1.383702932407179,
          1.477926616542963,
          1.654847911714873,
          1.7081749080295257,
          1.6687838677501614,
          1.9893595275134928,
          1.9568359238803255,
          1.9834544180633822,
          2.2678874576025825,
          2.2158625493920634,
          2.2145194313412677
         ],
         "yaxis": "y"
        },
        {
         "hoverinfo": "skip",
         "marker": {
          "color": "#1f77b4"
         },
         "mode": "lines",
         "name": "linear model",
         "type": "scatter",
         "visible": true,
         "x": [
          0,
          1.1940298507462686,
          2.388059701492537,
          3.5820895522388057,
          4.776119402985074,
          5.970149253731343,
          7.164179104477611,
          8.35820895522388,
          9.552238805970148,
          10.746268656716417,
          11.940298507462686,
          13.134328358208954,
          14.328358208955223,
          15.522388059701491,
          16.71641791044776,
          17.91044776119403,
          19.104477611940297,
          20.298507462686565,
          21.492537313432834,
          22.686567164179102,
          23.88059701492537,
          25.07462686567164,
          26.268656716417908,
          27.462686567164177,
          28.656716417910445,
          29.850746268656714,
          31.044776119402982,
          32.23880597014925,
          33.43283582089552,
          34.62686567164179,
          35.82089552238806,
          37.014925373134325,
          38.208955223880594,
          39.40298507462686,
          40.59701492537313,
          41.7910447761194,
          42.98507462686567,
          44.179104477611936,
          45.373134328358205,
          46.56716417910447,
          47.76119402985074,
          48.95522388059701,
          50.14925373134328,
          51.34328358208955,
          52.537313432835816,
          53.731343283582085,
          54.92537313432835,
          56.11940298507462,
          57.31343283582089,
          58.50746268656716,
          59.70149253731343,
          60.895522388059696,
          62.089552238805965,
          63.28358208955223,
          64.4776119402985,
          65.67164179104478,
          66.86567164179104,
          68.0597014925373,
          69.25373134328358,
          70.44776119402985,
          71.64179104477611,
          72.83582089552237,
          74.02985074626865,
          75.22388059701493,
          76.41791044776119,
          77.61194029850745,
          78.80597014925372,
          80,
          81.19402985074626,
          82.38805970149252,
          83.5820895522388,
          84.77611940298507,
          85.97014925373134,
          87.1641791044776,
          88.35820895522387,
          89.55223880597015,
          90.74626865671641,
          91.94029850746267,
          93.13432835820895,
          94.32835820895522,
          95.52238805970148,
          96.71641791044775,
          97.91044776119402,
          99.1044776119403,
          100.29850746268656,
          101.49253731343282,
          102.6865671641791,
          103.88059701492537,
          105.07462686567163,
          106.2686567164179,
          107.46268656716417,
          108.65671641791045,
          109.8507462686567,
          111.04477611940297,
          112.23880597014924,
          113.43283582089552,
          114.62686567164178,
          115.82089552238804,
          117.01492537313432,
          118.2089552238806,
          119.40298507462686,
          120.59701492537312,
          121.79104477611939,
          122.98507462686567,
          124.17910447761193,
          125.37313432835819,
          126.56716417910447,
          127.76119402985074,
          128.955223880597,
          130.14925373134326,
          131.34328358208955,
          132.53731343283582,
          133.73134328358208,
          134.92537313432834,
          136.1194029850746,
          137.3134328358209,
          138.50746268656715,
          139.7014925373134,
          140.8955223880597,
          142.08955223880596,
          143.28358208955223,
          144.4776119402985,
          145.67164179104475,
          146.86567164179104,
          148.0597014925373,
          149.25373134328356,
          150.44776119402985,
          151.6417910447761,
          152.83582089552237,
          154.02985074626864,
          155.2238805970149,
          156.4179104477612,
          157.61194029850745,
          158.8059701492537,
          160
         ],
         "xaxis": "x",
         "y": [
          0,
          0.01680884974675674,
          0.03361769949351348,
          0.05042654924027022,
          0.06723539898702696,
          0.0840442487337837,
          0.10085309848054044,
          0.11766194822729718,
          0.13447079797405392,
          0.15127964772081065,
          0.1680884974675674,
          0.18489734721432413,
          0.20170619696108089,
          0.2185150467078376,
          0.23532389645459437,
          0.2521327462013511,
          0.26894159594810785,
          0.2857504456948646,
          0.3025592954416213,
          0.3193681451883781,
          0.3361769949351348,
          0.35298584468189154,
          0.36979469442864826,
          0.38660354417540505,
          0.40341239392216177,
          0.4202212436689185,
          0.4370300934156752,
          0.453838943162432,
          0.47064779290918873,
          0.48745664265594546,
          0.5042654924027022,
          0.5210743421494589,
          0.5378831918962157,
          0.5546920416429724,
          0.5715008913897291,
          0.5883097411364859,
          0.6051185908832426,
          0.6219274406299994,
          0.6387362903767562,
          0.6555451401235128,
          0.6723539898702696,
          0.6891628396170263,
          0.7059716893637831,
          0.7227805391105399,
          0.7395893888572965,
          0.7563982386040533,
          0.7732070883508101,
          0.7900159380975668,
          0.8068247878443235,
          0.8236336375910802,
          0.840442487337837,
          0.8572513370845938,
          0.8740601868313504,
          0.8908690365781072,
          0.907677886324864,
          0.9244867360716208,
          0.9412955858183775,
          0.958104435565134,
          0.9749132853118909,
          0.9917221350586478,
          1.0085309848054045,
          1.025339834552161,
          1.0421486842989178,
          1.0589575340456747,
          1.0757663837924314,
          1.092575233539188,
          1.1093840832859447,
          1.1261929330327016,
          1.1430017827794583,
          1.159810632526215,
          1.1766194822729719,
          1.1934283320197285,
          1.2102371817664852,
          1.2270460315132419,
          1.2438548812599988,
          1.2606637310067557,
          1.2774725807535123,
          1.2942814305002688,
          1.3110902802470257,
          1.3278991299937826,
          1.3447079797405392,
          1.361516829487296,
          1.3783256792340526,
          1.3951345289808095,
          1.4119433787275661,
          1.4287522284743228,
          1.4455610782210797,
          1.4623699279678364,
          1.479178777714593,
          1.4959876274613497,
          1.5127964772081066,
          1.5296053269548635,
          1.5464141767016202,
          1.5632230264483766,
          1.5800318761951335,
          1.5968407259418904,
          1.613649575688647,
          1.6304584254354038,
          1.6472672751821604,
          1.6640761249289173,
          1.680884974675674,
          1.6976938244224307,
          1.7145026741691876,
          1.7313115239159442,
          1.748120373662701,
          1.7649292234094576,
          1.7817380731562145,
          1.7985469229029714,
          1.815355772649728,
          1.8321646223964845,
          1.8489734721432416,
          1.8657823218899983,
          1.882591171636755,
          1.8994000213835116,
          1.916208871130268,
          1.9330177208770252,
          1.9498265706237818,
          1.9666354203705385,
          1.9834442701172956,
          2.0002531198640523,
          2.017061969610809,
          2.0338708193575656,
          2.050679669104322,
          2.067488518851079,
          2.0842973685978357,
          2.1011062183445923,
          2.1179150680913494,
          2.134723917838106,
          2.151532767584863,
          2.1683416173316195,
          2.185150467078376,
          2.2019593168251332,
          2.2187681665718895,
          2.235577016318646,
          2.2523858660654033
         ],
         "yaxis": "y"
        },
        {
         "hoverinfo": "skip",
         "marker": {
          "color": "#d62728"
         },
         "mode": "markers",
         "name": "Residuals",
         "type": "scatter",
         "visible": true,
         "x": [
          0,
          0,
          0,
          20,
          20,
          20,
          40,
          40,
          40,
          60,
          60,
          60,
          80,
          80,
          80,
          100,
          100,
          100,
          120,
          120,
          120,
          140,
          140,
          140,
          160,
          160,
          160
         ],
         "xaxis": "x2",
         "y": [
          0,
          0,
          0,
          9.719898315527923,
          1.7615934749419804,
          5.035758822305471,
          0.4186274289669371,
          -1.2548398299541896,
          -5.8114006457977965,
          3.102889302000227,
          -1.8554688115119868,
          1.958344477281403,
          0.32626944638686983,
          1.6731457808232864,
          0.4787273856157669,
          2.4475202165600223,
          -1.707574834018262,
          4.985678612852583,
          -2.0388151280279994,
          1.1179557798394102,
          -1.2138554710853564,
          0.9397981040113684,
          -0.7104445690413699,
          0.6401737538461323,
          0.6882298353371528,
          -1.6215390632485578,
          -1.6811699671283586
         ],
         "yaxis": "y2"
        }
       ],
       "layout": {
        "annotations": [
         {
          "font": {
           "size": 16
          },
          "showarrow": false,
          "text": "Standard",
          "x": 0.2125,
          "xanchor": "center",
          "xref": "paper",
          "y": 1,
          "yanchor": "bottom",
          "yref": "paper"
         },
         {
          "font": {
           "size": 16
          },
          "showarrow": false,
          "text": "Model Residuals",
          "x": 0.7875,
          "xanchor": "center",
          "xref": "paper",
          "y": 1,
          "yanchor": "bottom",
          "yref": "paper"
         },
         {
          "font": {
           "size": 16
          },
          "showarrow": false,
          "text": "ABTS concentration (umol / l)",
          "x": 0.5,
          "xanchor": "center",
          "xref": "paper",
          "y": 0,
          "yanchor": "top",
          "yref": "paper",
          "yshift": -30
         }
        ],
        "shapes": [
         {
          "line": {
           "color": "#000000",
           "dash": "dot",
           "width": 2
          },
          "type": "line",
          "x0": 0,
          "x1": 1,
          "xref": "x2 domain",
          "y0": 0,
          "y1": 0,
          "yref": "y2"
         }
        ],
        "template": {
         "data": {
          "bar": [
           {
            "error_x": {
             "color": "#2a3f5f"
            },
            "error_y": {
             "color": "#2a3f5f"
            },
            "marker": {
             "line": {
              "color": "#E5ECF6",
              "width": 0.5
             },
             "pattern": {
              "fillmode": "overlay",
              "size": 10,
              "solidity": 0.2
             }
            },
            "type": "bar"
           }
          ],
          "barpolar": [
           {
            "marker": {
             "line": {
              "color": "#E5ECF6",
              "width": 0.5
             },
             "pattern": {
              "fillmode": "overlay",
              "size": 10,
              "solidity": 0.2
             }
            },
            "type": "barpolar"
           }
          ],
          "carpet": [
           {
            "aaxis": {
             "endlinecolor": "#2a3f5f",
             "gridcolor": "white",
             "linecolor": "white",
             "minorgridcolor": "white",
             "startlinecolor": "#2a3f5f"
            },
            "baxis": {
             "endlinecolor": "#2a3f5f",
             "gridcolor": "white",
             "linecolor": "white",
             "minorgridcolor": "white",
             "startlinecolor": "#2a3f5f"
            },
            "type": "carpet"
           }
          ],
          "choropleth": [
           {
            "colorbar": {
             "outlinewidth": 0,
             "ticks": ""
            },
            "type": "choropleth"
           }
          ],
          "contour": [
           {
            "colorbar": {
             "outlinewidth": 0,
             "ticks": ""
            },
            "colorscale": [
             [
              0,
              "#0d0887"
             ],
             [
              0.1111111111111111,
              "#46039f"
             ],
             [
              0.2222222222222222,
              "#7201a8"
             ],
             [
              0.3333333333333333,
              "#9c179e"
             ],
             [
              0.4444444444444444,
              "#bd3786"
             ],
             [
              0.5555555555555556,
              "#d8576b"
             ],
             [
              0.6666666666666666,
              "#ed7953"
             ],
             [
              0.7777777777777778,
              "#fb9f3a"
             ],
             [
              0.8888888888888888,
              "#fdca26"
             ],
             [
              1,
              "#f0f921"
             ]
            ],
            "type": "contour"
           }
          ],
          "contourcarpet": [
           {
            "colorbar": {
             "outlinewidth": 0,
             "ticks": ""
            },
            "type": "contourcarpet"
           }
          ],
          "heatmap": [
           {
            "colorbar": {
             "outlinewidth": 0,
             "ticks": ""
            },
            "colorscale": [
             [
              0,
              "#0d0887"
             ],
             [
              0.1111111111111111,
              "#46039f"
             ],
             [
              0.2222222222222222,
              "#7201a8"
             ],
             [
              0.3333333333333333,
              "#9c179e"
             ],
             [
              0.4444444444444444,
              "#bd3786"
             ],
             [
              0.5555555555555556,
              "#d8576b"
             ],
             [
              0.6666666666666666,
              "#ed7953"
             ],
             [
              0.7777777777777778,
              "#fb9f3a"
             ],
             [
              0.8888888888888888,
              "#fdca26"
             ],
             [
              1,
              "#f0f921"
             ]
            ],
            "type": "heatmap"
           }
          ],
          "heatmapgl": [
           {
            "colorbar": {
             "outlinewidth": 0,
             "ticks": ""
            },
            "colorscale": [
             [
              0,
              "#0d0887"
             ],
             [
              0.1111111111111111,
              "#46039f"
             ],
             [
              0.2222222222222222,
              "#7201a8"
             ],
             [
              0.3333333333333333,
              "#9c179e"
             ],
             [
              0.4444444444444444,
              "#bd3786"
             ],
             [
              0.5555555555555556,
              "#d8576b"
             ],
             [
              0.6666666666666666,
              "#ed7953"
             ],
             [
              0.7777777777777778,
              "#fb9f3a"
             ],
             [
              0.8888888888888888,
              "#fdca26"
             ],
             [
              1,
              "#f0f921"
             ]
            ],
            "type": "heatmapgl"
           }
          ],
          "histogram": [
           {
            "marker": {
             "pattern": {
              "fillmode": "overlay",
              "size": 10,
              "solidity": 0.2
             }
            },
            "type": "histogram"
           }
          ],
          "histogram2d": [
           {
            "colorbar": {
             "outlinewidth": 0,
             "ticks": ""
            },
            "colorscale": [
             [
              0,
              "#0d0887"
             ],
             [
              0.1111111111111111,
              "#46039f"
             ],
             [
              0.2222222222222222,
              "#7201a8"
             ],
             [
              0.3333333333333333,
              "#9c179e"
             ],
             [
              0.4444444444444444,
              "#bd3786"
             ],
             [
              0.5555555555555556,
              "#d8576b"
             ],
             [
              0.6666666666666666,
              "#ed7953"
             ],
             [
              0.7777777777777778,
              "#fb9f3a"
             ],
             [
              0.8888888888888888,
              "#fdca26"
             ],
             [
              1,
              "#f0f921"
             ]
            ],
            "type": "histogram2d"
           }
          ],
          "histogram2dcontour": [
           {
            "colorbar": {
             "outlinewidth": 0,
             "ticks": ""
            },
            "colorscale": [
             [
              0,
              "#0d0887"
             ],
             [
              0.1111111111111111,
              "#46039f"
             ],
             [
              0.2222222222222222,
              "#7201a8"
             ],
             [
              0.3333333333333333,
              "#9c179e"
             ],
             [
              0.4444444444444444,
              "#bd3786"
             ],
             [
              0.5555555555555556,
              "#d8576b"
             ],
             [
              0.6666666666666666,
              "#ed7953"
             ],
             [
              0.7777777777777778,
              "#fb9f3a"
             ],
             [
              0.8888888888888888,
              "#fdca26"
             ],
             [
              1,
              "#f0f921"
             ]
            ],
            "type": "histogram2dcontour"
           }
          ],
          "mesh3d": [
           {
            "colorbar": {
             "outlinewidth": 0,
             "ticks": ""
            },
            "type": "mesh3d"
           }
          ],
          "parcoords": [
           {
            "line": {
             "colorbar": {
              "outlinewidth": 0,
              "ticks": ""
             }
            },
            "type": "parcoords"
           }
          ],
          "pie": [
           {
            "automargin": true,
            "type": "pie"
           }
          ],
          "scatter": [
           {
            "fillpattern": {
             "fillmode": "overlay",
             "size": 10,
             "solidity": 0.2
            },
            "type": "scatter"
           }
          ],
          "scatter3d": [
           {
            "line": {
             "colorbar": {
              "outlinewidth": 0,
              "ticks": ""
             }
            },
            "marker": {
             "colorbar": {
              "outlinewidth": 0,
              "ticks": ""
             }
            },
            "type": "scatter3d"
           }
          ],
          "scattercarpet": [
           {
            "marker": {
             "colorbar": {
              "outlinewidth": 0,
              "ticks": ""
             }
            },
            "type": "scattercarpet"
           }
          ],
          "scattergeo": [
           {
            "marker": {
             "colorbar": {
              "outlinewidth": 0,
              "ticks": ""
             }
            },
            "type": "scattergeo"
           }
          ],
          "scattergl": [
           {
            "marker": {
             "colorbar": {
              "outlinewidth": 0,
              "ticks": ""
             }
            },
            "type": "scattergl"
           }
          ],
          "scattermapbox": [
           {
            "marker": {
             "colorbar": {
              "outlinewidth": 0,
              "ticks": ""
             }
            },
            "type": "scattermapbox"
           }
          ],
          "scatterpolar": [
           {
            "marker": {
             "colorbar": {
              "outlinewidth": 0,
              "ticks": ""
             }
            },
            "type": "scatterpolar"
           }
          ],
          "scatterpolargl": [
           {
            "marker": {
             "colorbar": {
              "outlinewidth": 0,
              "ticks": ""
             }
            },
            "type": "scatterpolargl"
           }
          ],
          "scatterternary": [
           {
            "marker": {
             "colorbar": {
              "outlinewidth": 0,
              "ticks": ""
             }
            },
            "type": "scatterternary"
           }
          ],
          "surface": [
           {
            "colorbar": {
             "outlinewidth": 0,
             "ticks": ""
            },
            "colorscale": [
             [
              0,
              "#0d0887"
             ],
             [
              0.1111111111111111,
              "#46039f"
             ],
             [
              0.2222222222222222,
              "#7201a8"
             ],
             [
              0.3333333333333333,
              "#9c179e"
             ],
             [
              0.4444444444444444,
              "#bd3786"
             ],
             [
              0.5555555555555556,
              "#d8576b"
             ],
             [
              0.6666666666666666,
              "#ed7953"
             ],
             [
              0.7777777777777778,
              "#fb9f3a"
             ],
             [
              0.8888888888888888,
              "#fdca26"
             ],
             [
              1,
              "#f0f921"
             ]
            ],
            "type": "surface"
           }
          ],
          "table": [
           {
            "cells": {
             "fill": {
              "color": "#EBF0F8"
             },
             "line": {
              "color": "white"
             }
            },
            "header": {
             "fill": {
              "color": "#C8D4E3"
             },
             "line": {
              "color": "white"
             }
            },
            "type": "table"
           }
          ]
         },
         "layout": {
          "annotationdefaults": {
           "arrowcolor": "#2a3f5f",
           "arrowhead": 0,
           "arrowwidth": 1
          },
          "autotypenumbers": "strict",
          "coloraxis": {
           "colorbar": {
            "outlinewidth": 0,
            "ticks": ""
           }
          },
          "colorscale": {
           "diverging": [
            [
             0,
             "#8e0152"
            ],
            [
             0.1,
             "#c51b7d"
            ],
            [
             0.2,
             "#de77ae"
            ],
            [
             0.3,
             "#f1b6da"
            ],
            [
             0.4,
             "#fde0ef"
            ],
            [
             0.5,
             "#f7f7f7"
            ],
            [
             0.6,
             "#e6f5d0"
            ],
            [
             0.7,
             "#b8e186"
            ],
            [
             0.8,
             "#7fbc41"
            ],
            [
             0.9,
             "#4d9221"
            ],
            [
             1,
             "#276419"
            ]
           ],
           "sequential": [
            [
             0,
             "#0d0887"
            ],
            [
             0.1111111111111111,
             "#46039f"
            ],
            [
             0.2222222222222222,
             "#7201a8"
            ],
            [
             0.3333333333333333,
             "#9c179e"
            ],
            [
             0.4444444444444444,
             "#bd3786"
            ],
            [
             0.5555555555555556,
             "#d8576b"
            ],
            [
             0.6666666666666666,
             "#ed7953"
            ],
            [
             0.7777777777777778,
             "#fb9f3a"
            ],
            [
             0.8888888888888888,
             "#fdca26"
            ],
            [
             1,
             "#f0f921"
            ]
           ],
           "sequentialminus": [
            [
             0,
             "#0d0887"
            ],
            [
             0.1111111111111111,
             "#46039f"
            ],
            [
             0.2222222222222222,
             "#7201a8"
            ],
            [
             0.3333333333333333,
             "#9c179e"
            ],
            [
             0.4444444444444444,
             "#bd3786"
            ],
            [
             0.5555555555555556,
             "#d8576b"
            ],
            [
             0.6666666666666666,
             "#ed7953"
            ],
            [
             0.7777777777777778,
             "#fb9f3a"
            ],
            [
             0.8888888888888888,
             "#fdca26"
            ],
            [
             1,
             "#f0f921"
            ]
           ]
          },
          "colorway": [
           "#636efa",
           "#EF553B",
           "#00cc96",
           "#ab63fa",
           "#FFA15A",
           "#19d3f3",
           "#FF6692",
           "#B6E880",
           "#FF97FF",
           "#FECB52"
          ],
          "font": {
           "color": "#2a3f5f"
          },
          "geo": {
           "bgcolor": "white",
           "lakecolor": "white",
           "landcolor": "#E5ECF6",
           "showlakes": true,
           "showland": true,
           "subunitcolor": "white"
          },
          "hoverlabel": {
           "align": "left"
          },
          "hovermode": "closest",
          "mapbox": {
           "style": "light"
          },
          "paper_bgcolor": "white",
          "plot_bgcolor": "#E5ECF6",
          "polar": {
           "angularaxis": {
            "gridcolor": "white",
            "linecolor": "white",
            "ticks": ""
           },
           "bgcolor": "#E5ECF6",
           "radialaxis": {
            "gridcolor": "white",
            "linecolor": "white",
            "ticks": ""
           }
          },
          "scene": {
           "xaxis": {
            "backgroundcolor": "#E5ECF6",
            "gridcolor": "white",
            "gridwidth": 2,
            "linecolor": "white",
            "showbackground": true,
            "ticks": "",
            "zerolinecolor": "white"
           },
           "yaxis": {
            "backgroundcolor": "#E5ECF6",
            "gridcolor": "white",
            "gridwidth": 2,
            "linecolor": "white",
            "showbackground": true,
            "ticks": "",
            "zerolinecolor": "white"
           },
           "zaxis": {
            "backgroundcolor": "#E5ECF6",
            "gridcolor": "white",
            "gridwidth": 2,
            "linecolor": "white",
            "showbackground": true,
            "ticks": "",
            "zerolinecolor": "white"
           }
          },
          "shapedefaults": {
           "line": {
            "color": "#2a3f5f"
           }
          },
          "ternary": {
           "aaxis": {
            "gridcolor": "white",
            "linecolor": "white",
            "ticks": ""
           },
           "baxis": {
            "gridcolor": "white",
            "linecolor": "white",
            "ticks": ""
           },
           "bgcolor": "#E5ECF6",
           "caxis": {
            "gridcolor": "white",
            "linecolor": "white",
            "ticks": ""
           }
          },
          "title": {
           "x": 0.05
          },
          "xaxis": {
           "automargin": true,
           "gridcolor": "white",
           "linecolor": "white",
           "ticks": "",
           "title": {
            "standoff": 15
           },
           "zerolinecolor": "white",
           "zerolinewidth": 2
          },
          "yaxis": {
           "automargin": true,
           "gridcolor": "white",
           "linecolor": "white",
           "ticks": "",
           "title": {
            "standoff": 15
           },
           "zerolinecolor": "white",
           "zerolinewidth": 2
          }
         }
        },
        "xaxis": {
         "anchor": "y",
         "domain": [
          0,
          0.425
         ]
        },
        "xaxis2": {
         "anchor": "y2",
         "domain": [
          0.575,
          1
         ]
        },
        "yaxis": {
         "anchor": "x",
         "domain": [
          0,
          1
         ],
         "title": {
          "text": "Signal (a.u.)"
         }
        },
        "yaxis2": {
         "anchor": "x2",
         "domain": [
          0,
          1
         ],
         "title": {
          "text": "Residuals (%)"
         }
        }
       }
      }
     },
     "metadata": {},
     "output_type": "display_data"
    },
    {
     "data": {
      "application/vnd.plotly.v1+json": {
       "config": {
        "plotlyServerURL": "https://plot.ly",
        "toImageButtonOptions": {
         "filename": "exponential_calibration_curve",
         "format": "svg",
         "scale": 1
        }
       },
       "data": [
        {
         "hoverinfo": "skip",
         "marker": {
          "color": "#1f77b4"
         },
         "mode": "markers",
         "name": "ABTS",
         "type": "scatter",
         "visible": true,
         "x": [
          0,
          0,
          0,
          20,
          20,
          20,
          40,
          40,
          40,
          60,
          60,
          60,
          80,
          80,
          80,
          100,
          100,
          100,
          120,
          120,
          120,
          140,
          140,
          140,
          160,
          160,
          160
         ],
         "xaxis": "x",
         "y": [
          0.005157383364019946,
          0.019572056697463286,
          0.012587752156714687,
          0.3089144352400354,
          0.28650796856406585,
          0.29572632325351916,
          0.5654537427767319,
          0.556030507773439,
          0.530372674824755,
          0.870853089803742,
          0.8289725808021209,
          0.8611857526052108,
          1.1298673564805555,
          1.1450357825756683,
          1.1315843270179986,
          1.4421959159326843,
          1.383702932407179,
          1.477926616542963,
          1.654847911714873,
          1.7081749080295257,
          1.6687838677501614,
          1.9893595275134928,
          1.9568359238803255,
          1.9834544180633822,
          2.2678874576025825,
          2.2158625493920634,
          2.2145194313412677
         ],
         "yaxis": "y"
        },
        {
         "hoverinfo": "skip",
         "marker": {
          "color": "#1f77b4"
         },
         "mode": "lines",
         "name": "exponential model",
         "type": "scatter",
         "visible": true,
         "x": [
          0,
          1.1940298507462686,
          2.388059701492537,
          3.5820895522388057,
          4.776119402985074,
          5.970149253731343,
          7.164179104477611,
          8.35820895522388,
          9.552238805970148,
          10.746268656716417,
          11.940298507462686,
          13.134328358208954,
          14.328358208955223,
          15.522388059701491,
          16.71641791044776,
          17.91044776119403,
          19.104477611940297,
          20.298507462686565,
          21.492537313432834,
          22.686567164179102,
          23.88059701492537,
          25.07462686567164,
          26.268656716417908,
          27.462686567164177,
          28.656716417910445,
          29.850746268656714,
          31.044776119402982,
          32.23880597014925,
          33.43283582089552,
          34.62686567164179,
          35.82089552238806,
          37.014925373134325,
          38.208955223880594,
          39.40298507462686,
          40.59701492537313,
          41.7910447761194,
          42.98507462686567,
          44.179104477611936,
          45.373134328358205,
          46.56716417910447,
          47.76119402985074,
          48.95522388059701,
          50.14925373134328,
          51.34328358208955,
          52.537313432835816,
          53.731343283582085,
          54.92537313432835,
          56.11940298507462,
          57.31343283582089,
          58.50746268656716,
          59.70149253731343,
          60.895522388059696,
          62.089552238805965,
          63.28358208955223,
          64.4776119402985,
          65.67164179104478,
          66.86567164179104,
          68.0597014925373,
          69.25373134328358,
          70.44776119402985,
          71.64179104477611,
          72.83582089552237,
          74.02985074626865,
          75.22388059701493,
          76.41791044776119,
          77.61194029850745,
          78.80597014925372,
          80,
          81.19402985074626,
          82.38805970149252,
          83.5820895522388,
          84.77611940298507,
          85.97014925373134,
          87.1641791044776,
          88.35820895522387,
          89.55223880597015,
          90.74626865671641,
          91.94029850746267,
          93.13432835820895,
          94.32835820895522,
          95.52238805970148,
          96.71641791044775,
          97.91044776119402,
          99.1044776119403,
          100.29850746268656,
          101.49253731343282,
          102.6865671641791,
          103.88059701492537,
          105.07462686567163,
          106.2686567164179,
          107.46268656716417,
          108.65671641791045,
          109.8507462686567,
          111.04477611940297,
          112.23880597014924,
          113.43283582089552,
          114.62686567164178,
          115.82089552238804,
          117.01492537313432,
          118.2089552238806,
          119.40298507462686,
          120.59701492537312,
          121.79104477611939,
          122.98507462686567,
          124.17910447761193,
          125.37313432835819,
          126.56716417910447,
          127.76119402985074,
          128.955223880597,
          130.14925373134326,
          131.34328358208955,
          132.53731343283582,
          133.73134328358208,
          134.92537313432834,
          136.1194029850746,
          137.3134328358209,
          138.50746268656715,
          139.7014925373134,
          140.8955223880597,
          142.08955223880596,
          143.28358208955223,
          144.4776119402985,
          145.67164179104475,
          146.86567164179104,
          148.0597014925373,
          149.25373134328356,
          150.44776119402985,
          151.6417910447761,
          152.83582089552237,
          154.02985074626864,
          155.2238805970149,
          156.4179104477612,
          157.61194029850745,
          158.8059701492537,
          160
         ],
         "xaxis": "x",
         "y": [
          0.3952048721109806,
          0.40059137243059906,
          0.40605128881297564,
          0.41158562189265074,
          0.41719538594245364,
          0.42288160905938743,
          0.4286453333530482,
          0.43448761513661077,
          0.44040952512041887,
          0.44641214860821316,
          0.4524965856960344,
          0.4586639514738365,
          0.46491537622984885,
          0.4712520056577228,
          0.47767500106650235,
          0.48418553959345634,
          0.49078481441981114,
          0.4974740349894245,
          0.5042544272304389,
          0.511127233779957,
          0.5180937142117779,
          0.5251551452672389,
          0.5323128210892033,
          0.5395680534592353,
          0.5469221720380111,
          0.5543765246090033,
          0.561932477325489,
          0.5695914149609231,
          0.577354741162725,
          0.5852238787095235,
          0.593200269771909,
          0.601285376176738,
          0.6094806796750418,
          0.6177876822135859,
          0.6262079062101293,
          0.6347428948324387,
          0.643394212281102,
          0.652163444076199,
          0.6610521973478778,
          0.670062101130893,
          0.6791948066631573,
          0.6884519876883622,
          0.6978353407627239,
          0.7073465855659102,
          0.7169874652162042,
          0.7267597465899645,
          0.7366652206454395,
          0.7467057027509945,
          0.7568830330178128,
          0.7671990766371316,
          0.7776557242220743,
          0.7882548921541411,
          0.7989985229344236,
          0.809888585539604,
          0.8209270757828097,
          0.8321160166793828,
          0.8434574588176376,
          0.8549534807346698,
          0.8666061892972884,
          0.8784177200881395,
          0.8903902377970925,
          0.9025259366179621,
          0.9148270406506355,
          0.9272958043086819,
          0.9399345127325165,
          0.9527454822081971,
          0.965731060591928,
          0.9788936277403489,
          0.9922355959466901,
          1.005759410382871,
          1.0194675495476264,
          1.0333625257207362,
          1.0474468854234507,
          1.0617232098851905,
          1.0761941155166042,
          1.090862254389077,
          1.1057303147207733,
          1.1208010213693052,
          1.1360771363311144,
          1.1515614592476608,
          1.1672568279185103,
          1.1831661188214173,
          1.1992922476394943,
          1.2156381697955654,
          1.2322068809938052,
          1.2490014177687598,
          1.2660248580418494,
          1.2832803216854562,
          1.3007709710947013,
          1.3185000117670147,
          1.3364706928896035,
          1.3546863079349287,
          1.3731501952642957,
          1.3918657387396762,
          1.4108363683438625,
          1.4300655608090795,
          1.4495568402541625,
          1.4693137788304194,
          1.4893399973762962,
          1.5096391660809654,
          1.5302150051569576,
          1.551071285521963,
          1.5722118294899252,
          1.5936405114715515,
          1.6153612586843737,
          1.6373780518724879,
          1.6596949260361005,
          1.68231597117102,
          1.7052453330182267,
          1.728487213823661,
          1.7520458731083657,
          1.77592562844912,
          1.8001308562697258,
          1.8246659926430673,
          1.8495355341041062,
          1.874744038473961,
          1.900296125695211,
          1.9261964786785932,
          1.9524498441612355,
          1.9790610335765821,
          2.0060349239361903,
          2.033376458723529,
          2.0610906487999685,
          2.0891825733231206,
          2.1176573806776875,
          2.146520289419003,
          2.175776589229437,
          2.205431641887825,
          2.2354908822521224,
          2.265959819255443,
          2.2968440369156813,
          2.3281491953588844,
          2.3598810318565837,
          2.3920453618772606,
          2.4246480801521395
         ],
         "yaxis": "y"
        },
        {
         "hoverinfo": "skip",
         "marker": {
          "color": "#d62728"
         },
         "mode": "markers",
         "name": "Residuals",
         "type": "scatter",
         "visible": true,
         "x": [
          0,
          0,
          0,
          20,
          20,
          20,
          40,
          40,
          40,
          60,
          60,
          60,
          80,
          80,
          80,
          100,
          100,
          100,
          120,
          120,
          120,
          140,
          140,
          140,
          160,
          160,
          160
         ],
         "xaxis": "x2",
         "y": [
          -98.69501017624812,
          -95.04761755771901,
          -96.81487930817315,
          -37.692889671002824,
          -42.21220645261531,
          -40.3528921015676,
          -9.088633163534235,
          -10.60366279259594,
          -14.728825448646452,
          11.606039929294116,
          6.2387537421974395,
          10.367101658279458,
          15.422894220765349,
          16.972442166043855,
          15.598293313045328,
          17.438489611567725,
          12.675386650159615,
          20.348052359650083,
          7.4152587910854955,
          10.876684502257804,
          8.319833956836197,
          2.9302122208290386,
          1.247428702893349,
          2.6246796308266607,
          -6.465293822752239,
          -8.610962245167366,
          -8.666356595456394
         ],
         "yaxis": "y2"
        }
       ],
       "layout": {
        "annotations": [
         {
          "font": {
           "size": 16
          },
          "showarrow": false,
          "text": "Standard",
          "x": 0.2125,
          "xanchor": "center",
          "xref": "paper",
          "y": 1,
          "yanchor": "bottom",
          "yref": "paper"
         },
         {
          "font": {
           "size": 16
          },
          "showarrow": false,
          "text": "Model Residuals",
          "x": 0.7875,
          "xanchor": "center",
          "xref": "paper",
          "y": 1,
          "yanchor": "bottom",
          "yref": "paper"
         },
         {
          "font": {
           "size": 16
          },
          "showarrow": false,
          "text": "ABTS concentration (umol / l)",
          "x": 0.5,
          "xanchor": "center",
          "xref": "paper",
          "y": 0,
          "yanchor": "top",
          "yref": "paper",
          "yshift": -30
         }
        ],
        "shapes": [
         {
          "line": {
           "color": "#000000",
           "dash": "dot",
           "width": 2
          },
          "type": "line",
          "x0": 0,
          "x1": 1,
          "xref": "x2 domain",
          "y0": 0,
          "y1": 0,
          "yref": "y2"
         }
        ],
        "template": {
         "data": {
          "bar": [
           {
            "error_x": {
             "color": "#2a3f5f"
            },
            "error_y": {
             "color": "#2a3f5f"
            },
            "marker": {
             "line": {
              "color": "#E5ECF6",
              "width": 0.5
             },
             "pattern": {
              "fillmode": "overlay",
              "size": 10,
              "solidity": 0.2
             }
            },
            "type": "bar"
           }
          ],
          "barpolar": [
           {
            "marker": {
             "line": {
              "color": "#E5ECF6",
              "width": 0.5
             },
             "pattern": {
              "fillmode": "overlay",
              "size": 10,
              "solidity": 0.2
             }
            },
            "type": "barpolar"
           }
          ],
          "carpet": [
           {
            "aaxis": {
             "endlinecolor": "#2a3f5f",
             "gridcolor": "white",
             "linecolor": "white",
             "minorgridcolor": "white",
             "startlinecolor": "#2a3f5f"
            },
            "baxis": {
             "endlinecolor": "#2a3f5f",
             "gridcolor": "white",
             "linecolor": "white",
             "minorgridcolor": "white",
             "startlinecolor": "#2a3f5f"
            },
            "type": "carpet"
           }
          ],
          "choropleth": [
           {
            "colorbar": {
             "outlinewidth": 0,
             "ticks": ""
            },
            "type": "choropleth"
           }
          ],
          "contour": [
           {
            "colorbar": {
             "outlinewidth": 0,
             "ticks": ""
            },
            "colorscale": [
             [
              0,
              "#0d0887"
             ],
             [
              0.1111111111111111,
              "#46039f"
             ],
             [
              0.2222222222222222,
              "#7201a8"
             ],
             [
              0.3333333333333333,
              "#9c179e"
             ],
             [
              0.4444444444444444,
              "#bd3786"
             ],
             [
              0.5555555555555556,
              "#d8576b"
             ],
             [
              0.6666666666666666,
              "#ed7953"
             ],
             [
              0.7777777777777778,
              "#fb9f3a"
             ],
             [
              0.8888888888888888,
              "#fdca26"
             ],
             [
              1,
              "#f0f921"
             ]
            ],
            "type": "contour"
           }
          ],
          "contourcarpet": [
           {
            "colorbar": {
             "outlinewidth": 0,
             "ticks": ""
            },
            "type": "contourcarpet"
           }
          ],
          "heatmap": [
           {
            "colorbar": {
             "outlinewidth": 0,
             "ticks": ""
            },
            "colorscale": [
             [
              0,
              "#0d0887"
             ],
             [
              0.1111111111111111,
              "#46039f"
             ],
             [
              0.2222222222222222,
              "#7201a8"
             ],
             [
              0.3333333333333333,
              "#9c179e"
             ],
             [
              0.4444444444444444,
              "#bd3786"
             ],
             [
              0.5555555555555556,
              "#d8576b"
             ],
             [
              0.6666666666666666,
              "#ed7953"
             ],
             [
              0.7777777777777778,
              "#fb9f3a"
             ],
             [
              0.8888888888888888,
              "#fdca26"
             ],
             [
              1,
              "#f0f921"
             ]
            ],
            "type": "heatmap"
           }
          ],
          "heatmapgl": [
           {
            "colorbar": {
             "outlinewidth": 0,
             "ticks": ""
            },
            "colorscale": [
             [
              0,
              "#0d0887"
             ],
             [
              0.1111111111111111,
              "#46039f"
             ],
             [
              0.2222222222222222,
              "#7201a8"
             ],
             [
              0.3333333333333333,
              "#9c179e"
             ],
             [
              0.4444444444444444,
              "#bd3786"
             ],
             [
              0.5555555555555556,
              "#d8576b"
             ],
             [
              0.6666666666666666,
              "#ed7953"
             ],
             [
              0.7777777777777778,
              "#fb9f3a"
             ],
             [
              0.8888888888888888,
              "#fdca26"
             ],
             [
              1,
              "#f0f921"
             ]
            ],
            "type": "heatmapgl"
           }
          ],
          "histogram": [
           {
            "marker": {
             "pattern": {
              "fillmode": "overlay",
              "size": 10,
              "solidity": 0.2
             }
            },
            "type": "histogram"
           }
          ],
          "histogram2d": [
           {
            "colorbar": {
             "outlinewidth": 0,
             "ticks": ""
            },
            "colorscale": [
             [
              0,
              "#0d0887"
             ],
             [
              0.1111111111111111,
              "#46039f"
             ],
             [
              0.2222222222222222,
              "#7201a8"
             ],
             [
              0.3333333333333333,
              "#9c179e"
             ],
             [
              0.4444444444444444,
              "#bd3786"
             ],
             [
              0.5555555555555556,
              "#d8576b"
             ],
             [
              0.6666666666666666,
              "#ed7953"
             ],
             [
              0.7777777777777778,
              "#fb9f3a"
             ],
             [
              0.8888888888888888,
              "#fdca26"
             ],
             [
              1,
              "#f0f921"
             ]
            ],
            "type": "histogram2d"
           }
          ],
          "histogram2dcontour": [
           {
            "colorbar": {
             "outlinewidth": 0,
             "ticks": ""
            },
            "colorscale": [
             [
              0,
              "#0d0887"
             ],
             [
              0.1111111111111111,
              "#46039f"
             ],
             [
              0.2222222222222222,
              "#7201a8"
             ],
             [
              0.3333333333333333,
              "#9c179e"
             ],
             [
              0.4444444444444444,
              "#bd3786"
             ],
             [
              0.5555555555555556,
              "#d8576b"
             ],
             [
              0.6666666666666666,
              "#ed7953"
             ],
             [
              0.7777777777777778,
              "#fb9f3a"
             ],
             [
              0.8888888888888888,
              "#fdca26"
             ],
             [
              1,
              "#f0f921"
             ]
            ],
            "type": "histogram2dcontour"
           }
          ],
          "mesh3d": [
           {
            "colorbar": {
             "outlinewidth": 0,
             "ticks": ""
            },
            "type": "mesh3d"
           }
          ],
          "parcoords": [
           {
            "line": {
             "colorbar": {
              "outlinewidth": 0,
              "ticks": ""
             }
            },
            "type": "parcoords"
           }
          ],
          "pie": [
           {
            "automargin": true,
            "type": "pie"
           }
          ],
          "scatter": [
           {
            "fillpattern": {
             "fillmode": "overlay",
             "size": 10,
             "solidity": 0.2
            },
            "type": "scatter"
           }
          ],
          "scatter3d": [
           {
            "line": {
             "colorbar": {
              "outlinewidth": 0,
              "ticks": ""
             }
            },
            "marker": {
             "colorbar": {
              "outlinewidth": 0,
              "ticks": ""
             }
            },
            "type": "scatter3d"
           }
          ],
          "scattercarpet": [
           {
            "marker": {
             "colorbar": {
              "outlinewidth": 0,
              "ticks": ""
             }
            },
            "type": "scattercarpet"
           }
          ],
          "scattergeo": [
           {
            "marker": {
             "colorbar": {
              "outlinewidth": 0,
              "ticks": ""
             }
            },
            "type": "scattergeo"
           }
          ],
          "scattergl": [
           {
            "marker": {
             "colorbar": {
              "outlinewidth": 0,
              "ticks": ""
             }
            },
            "type": "scattergl"
           }
          ],
          "scattermapbox": [
           {
            "marker": {
             "colorbar": {
              "outlinewidth": 0,
              "ticks": ""
             }
            },
            "type": "scattermapbox"
           }
          ],
          "scatterpolar": [
           {
            "marker": {
             "colorbar": {
              "outlinewidth": 0,
              "ticks": ""
             }
            },
            "type": "scatterpolar"
           }
          ],
          "scatterpolargl": [
           {
            "marker": {
             "colorbar": {
              "outlinewidth": 0,
              "ticks": ""
             }
            },
            "type": "scatterpolargl"
           }
          ],
          "scatterternary": [
           {
            "marker": {
             "colorbar": {
              "outlinewidth": 0,
              "ticks": ""
             }
            },
            "type": "scatterternary"
           }
          ],
          "surface": [
           {
            "colorbar": {
             "outlinewidth": 0,
             "ticks": ""
            },
            "colorscale": [
             [
              0,
              "#0d0887"
             ],
             [
              0.1111111111111111,
              "#46039f"
             ],
             [
              0.2222222222222222,
              "#7201a8"
             ],
             [
              0.3333333333333333,
              "#9c179e"
             ],
             [
              0.4444444444444444,
              "#bd3786"
             ],
             [
              0.5555555555555556,
              "#d8576b"
             ],
             [
              0.6666666666666666,
              "#ed7953"
             ],
             [
              0.7777777777777778,
              "#fb9f3a"
             ],
             [
              0.8888888888888888,
              "#fdca26"
             ],
             [
              1,
              "#f0f921"
             ]
            ],
            "type": "surface"
           }
          ],
          "table": [
           {
            "cells": {
             "fill": {
              "color": "#EBF0F8"
             },
             "line": {
              "color": "white"
             }
            },
            "header": {
             "fill": {
              "color": "#C8D4E3"
             },
             "line": {
              "color": "white"
             }
            },
            "type": "table"
           }
          ]
         },
         "layout": {
          "annotationdefaults": {
           "arrowcolor": "#2a3f5f",
           "arrowhead": 0,
           "arrowwidth": 1
          },
          "autotypenumbers": "strict",
          "coloraxis": {
           "colorbar": {
            "outlinewidth": 0,
            "ticks": ""
           }
          },
          "colorscale": {
           "diverging": [
            [
             0,
             "#8e0152"
            ],
            [
             0.1,
             "#c51b7d"
            ],
            [
             0.2,
             "#de77ae"
            ],
            [
             0.3,
             "#f1b6da"
            ],
            [
             0.4,
             "#fde0ef"
            ],
            [
             0.5,
             "#f7f7f7"
            ],
            [
             0.6,
             "#e6f5d0"
            ],
            [
             0.7,
             "#b8e186"
            ],
            [
             0.8,
             "#7fbc41"
            ],
            [
             0.9,
             "#4d9221"
            ],
            [
             1,
             "#276419"
            ]
           ],
           "sequential": [
            [
             0,
             "#0d0887"
            ],
            [
             0.1111111111111111,
             "#46039f"
            ],
            [
             0.2222222222222222,
             "#7201a8"
            ],
            [
             0.3333333333333333,
             "#9c179e"
            ],
            [
             0.4444444444444444,
             "#bd3786"
            ],
            [
             0.5555555555555556,
             "#d8576b"
            ],
            [
             0.6666666666666666,
             "#ed7953"
            ],
            [
             0.7777777777777778,
             "#fb9f3a"
            ],
            [
             0.8888888888888888,
             "#fdca26"
            ],
            [
             1,
             "#f0f921"
            ]
           ],
           "sequentialminus": [
            [
             0,
             "#0d0887"
            ],
            [
             0.1111111111111111,
             "#46039f"
            ],
            [
             0.2222222222222222,
             "#7201a8"
            ],
            [
             0.3333333333333333,
             "#9c179e"
            ],
            [
             0.4444444444444444,
             "#bd3786"
            ],
            [
             0.5555555555555556,
             "#d8576b"
            ],
            [
             0.6666666666666666,
             "#ed7953"
            ],
            [
             0.7777777777777778,
             "#fb9f3a"
            ],
            [
             0.8888888888888888,
             "#fdca26"
            ],
            [
             1,
             "#f0f921"
            ]
           ]
          },
          "colorway": [
           "#636efa",
           "#EF553B",
           "#00cc96",
           "#ab63fa",
           "#FFA15A",
           "#19d3f3",
           "#FF6692",
           "#B6E880",
           "#FF97FF",
           "#FECB52"
          ],
          "font": {
           "color": "#2a3f5f"
          },
          "geo": {
           "bgcolor": "white",
           "lakecolor": "white",
           "landcolor": "#E5ECF6",
           "showlakes": true,
           "showland": true,
           "subunitcolor": "white"
          },
          "hoverlabel": {
           "align": "left"
          },
          "hovermode": "closest",
          "mapbox": {
           "style": "light"
          },
          "paper_bgcolor": "white",
          "plot_bgcolor": "#E5ECF6",
          "polar": {
           "angularaxis": {
            "gridcolor": "white",
            "linecolor": "white",
            "ticks": ""
           },
           "bgcolor": "#E5ECF6",
           "radialaxis": {
            "gridcolor": "white",
            "linecolor": "white",
            "ticks": ""
           }
          },
          "scene": {
           "xaxis": {
            "backgroundcolor": "#E5ECF6",
            "gridcolor": "white",
            "gridwidth": 2,
            "linecolor": "white",
            "showbackground": true,
            "ticks": "",
            "zerolinecolor": "white"
           },
           "yaxis": {
            "backgroundcolor": "#E5ECF6",
            "gridcolor": "white",
            "gridwidth": 2,
            "linecolor": "white",
            "showbackground": true,
            "ticks": "",
            "zerolinecolor": "white"
           },
           "zaxis": {
            "backgroundcolor": "#E5ECF6",
            "gridcolor": "white",
            "gridwidth": 2,
            "linecolor": "white",
            "showbackground": true,
            "ticks": "",
            "zerolinecolor": "white"
           }
          },
          "shapedefaults": {
           "line": {
            "color": "#2a3f5f"
           }
          },
          "ternary": {
           "aaxis": {
            "gridcolor": "white",
            "linecolor": "white",
            "ticks": ""
           },
           "baxis": {
            "gridcolor": "white",
            "linecolor": "white",
            "ticks": ""
           },
           "bgcolor": "#E5ECF6",
           "caxis": {
            "gridcolor": "white",
            "linecolor": "white",
            "ticks": ""
           }
          },
          "title": {
           "x": 0.05
          },
          "xaxis": {
           "automargin": true,
           "gridcolor": "white",
           "linecolor": "white",
           "ticks": "",
           "title": {
            "standoff": 15
           },
           "zerolinecolor": "white",
           "zerolinewidth": 2
          },
          "yaxis": {
           "automargin": true,
           "gridcolor": "white",
           "linecolor": "white",
           "ticks": "",
           "title": {
            "standoff": 15
           },
           "zerolinecolor": "white",
           "zerolinewidth": 2
          }
         }
        },
        "xaxis": {
         "anchor": "y",
         "domain": [
          0,
          0.425
         ]
        },
        "xaxis2": {
         "anchor": "y2",
         "domain": [
          0.575,
          1
         ]
        },
        "yaxis": {
         "anchor": "x",
         "domain": [
          0,
          1
         ],
         "title": {
          "text": "Signal (a.u.)"
         }
        },
        "yaxis2": {
         "anchor": "x2",
         "domain": [
          0,
          1
         ],
         "title": {
          "text": "Residuals (%)"
         }
        }
       }
      }
     },
     "metadata": {},
     "output_type": "display_data"
    }
   ],
   "source": [
    "# Get the linear, predefined model\n",
    "linear = [model for model in calibrator.models if model.name == \"linear\"][0]\n",
    "\n",
    "# Visualize the models\n",
    "calibrator.visualize(linear)\n",
    "calibrator.visualize(exponential)"
   ]
  },
  {
   "cell_type": "markdown",
   "metadata": {},
   "source": [
    "## Save model to `Standard`\n",
    "\n",
    "After assessing different models, the best model can be saved to the `Standard` object."
   ]
  },
  {
   "cell_type": "code",
   "execution_count": 8,
   "metadata": {},
   "outputs": [],
   "source": [
    "standard = calibrator.save_fitted_model(linear)"
   ]
  },
  {
   "cell_type": "markdown",
   "metadata": {},
   "source": [
    "## Calculate concentrations\n",
    "\n",
    "Models can be used to calculate concentrations of unknown signals. "
   ]
  },
  {
   "cell_type": "code",
   "execution_count": 9,
   "metadata": {},
   "outputs": [
    {
     "data": {
      "text/plain": [
       "[71.03578583517627, 7.103578583517627, 158.69394555578378]"
      ]
     },
     "execution_count": 9,
     "metadata": {},
     "output_type": "execute_result"
    }
   ],
   "source": [
    "linear.calculate([1, 0.1, 2.234])"
   ]
  },
  {
   "cell_type": "markdown",
   "metadata": {},
   "source": [
    "If the signal is out of calibration bonds, the calculate method returns `float('nan')` values for the respective signals."
   ]
  },
  {
   "cell_type": "code",
   "execution_count": 10,
   "metadata": {},
   "outputs": [
    {
     "data": {
      "text/plain": [
       "[71.03578583517627, nan, nan, 35.517892917588135]"
      ]
     },
     "execution_count": 10,
     "metadata": {},
     "output_type": "execute_result"
    }
   ],
   "source": [
    "linear.calculate([1, 100, 5, 0.5])"
   ]
  }
 ],
 "metadata": {
  "kernelspec": {
   "display_name": "sdrdm_example",
   "language": "python",
   "name": "python3"
  },
  "language_info": {
   "codemirror_mode": {
    "name": "ipython",
    "version": 3
   },
   "file_extension": ".py",
   "mimetype": "text/x-python",
   "name": "python",
   "nbconvert_exporter": "python",
   "pygments_lexer": "ipython3",
   "version": "3.11.3"
  },
  "orig_nbformat": 4
 },
 "nbformat": 4,
 "nbformat_minor": 2
}
