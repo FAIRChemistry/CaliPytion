{
 "cells": [
  {
   "cell_type": "code",
   "execution_count": 1,
   "metadata": {},
   "outputs": [],
   "source": [
    "import numpy as np\n",
    "from datetime import datetime\n",
    "\n",
    "from CaliPytion.core import Standard, SignalType, Sample"
   ]
  },
  {
   "cell_type": "markdown",
   "metadata": {},
   "source": [
    "## Create Samples"
   ]
  },
  {
   "cell_type": "code",
   "execution_count": 2,
   "metadata": {},
   "outputs": [],
   "source": [
    "def signal_relation(x: np.ndarray):\n",
    "    param_a = 0.0123\n",
    "    return x*param_a\n",
    "\n",
    "analyte_concs = np.linspace(0,200,11)\n",
    "signals = signal_relation(analyte_concs)\n",
    "\n",
    "samples = [Sample(concentration=analyte_conc, signal=signal, conc_unit=\"mM\") \n",
    "           for analyte_conc, signal \n",
    "           in zip(analyte_concs, signals)]"
   ]
  },
  {
   "cell_type": "code",
   "execution_count": 3,
   "metadata": {},
   "outputs": [],
   "source": [
    "standard = Standard(\n",
    "    species_id=\"s0\",\n",
    "    name=\"test substrance\",\n",
    "    ph=3,\n",
    "    temperature=25,\n",
    "    temperature_unit='C',\n",
    "    signal_type=SignalType.ABSORBANCE,\n",
    "    samples=samples,\n",
    "    wavelength=420\n",
    ")"
   ]
  },
  {
   "cell_type": "code",
   "execution_count": 4,
   "metadata": {},
   "outputs": [
    {
     "name": "stdout",
     "output_type": "stream",
     "text": [
      "\u001b[4mStandard\u001b[0m\n",
      "├── \u001b[94mid\u001b[0m = 0b6a5bc4-9d34-4d0d-94cc-b6520280401b\n",
      "├── \u001b[94mspecies_id\u001b[0m = s0\n",
      "├── \u001b[94mname\u001b[0m = test substrance\n",
      "├── \u001b[94mph\u001b[0m = 3.0\n",
      "├── \u001b[94mtemperature\u001b[0m = 25.0\n",
      "├── \u001b[94mtemperature_unit\u001b[0m = C\n",
      "├── \u001b[94mwavelength\u001b[0m = 420.0\n",
      "├── \u001b[94msignal_type\u001b[0m = Absorbance\n",
      "└── \u001b[94msamples\u001b[0m\n",
      "    ├── 0\n",
      "    │   └── \u001b[4mSample\u001b[0m\n",
      "    │       ├── \u001b[94mid\u001b[0m = ce2cabfb-283d-4dc2-8fc5-7d02842719b0\n",
      "    │       ├── \u001b[94mconcentration\u001b[0m = 0.0\n",
      "    │       ├── \u001b[94mconc_unit\u001b[0m = mM\n",
      "    │       └── \u001b[94msignal\u001b[0m = 0.0\n",
      "    ├── 1\n",
      "    │   └── \u001b[4mSample\u001b[0m\n",
      "    │       ├── \u001b[94mid\u001b[0m = 1cfe516e-0f20-496f-ad1b-3734a2fbb899\n",
      "    │       ├── \u001b[94mconcentration\u001b[0m = 20.0\n",
      "    │       ├── \u001b[94mconc_unit\u001b[0m = mM\n",
      "    │       └── \u001b[94msignal\u001b[0m = 0.246\n",
      "    ├── 2\n",
      "    │   └── \u001b[4mSample\u001b[0m\n",
      "    │       ├── \u001b[94mid\u001b[0m = 04e0bf1b-b2e1-40ef-b3e0-0655952eafa2\n",
      "    │       ├── \u001b[94mconcentration\u001b[0m = 40.0\n",
      "    │       ├── \u001b[94mconc_unit\u001b[0m = mM\n",
      "    │       └── \u001b[94msignal\u001b[0m = 0.492\n",
      "    ├── 3\n",
      "    │   └── \u001b[4mSample\u001b[0m\n",
      "    │       ├── \u001b[94mid\u001b[0m = ca0c9639-bd94-408a-a6ff-6ff2b461e33e\n",
      "    │       ├── \u001b[94mconcentration\u001b[0m = 60.0\n",
      "    │       ├── \u001b[94mconc_unit\u001b[0m = mM\n",
      "    │       └── \u001b[94msignal\u001b[0m = 0.738\n",
      "    ├── 4\n",
      "    │   └── \u001b[4mSample\u001b[0m\n",
      "    │       ├── \u001b[94mid\u001b[0m = beb5f1bc-be1d-4de7-92dc-f0bc02632a8c\n",
      "    │       ├── \u001b[94mconcentration\u001b[0m = 80.0\n",
      "    │       ├── \u001b[94mconc_unit\u001b[0m = mM\n",
      "    │       └── \u001b[94msignal\u001b[0m = 0.984\n",
      "    ├── 5\n",
      "    │   └── \u001b[4mSample\u001b[0m\n",
      "    │       ├── \u001b[94mid\u001b[0m = 7e48ffa1-ed03-4713-9b52-edf3d8e0b0f8\n",
      "    │       ├── \u001b[94mconcentration\u001b[0m = 100.0\n",
      "    │       ├── \u001b[94mconc_unit\u001b[0m = mM\n",
      "    │       └── \u001b[94msignal\u001b[0m = 1.23\n",
      "    ├── 6\n",
      "    │   └── \u001b[4mSample\u001b[0m\n",
      "    │       ├── \u001b[94mid\u001b[0m = 705a846b-96ec-4bbf-b5f2-eaf341f96e06\n",
      "    │       ├── \u001b[94mconcentration\u001b[0m = 120.0\n",
      "    │       ├── \u001b[94mconc_unit\u001b[0m = mM\n",
      "    │       └── \u001b[94msignal\u001b[0m = 1.476\n",
      "    ├── 7\n",
      "    │   └── \u001b[4mSample\u001b[0m\n",
      "    │       ├── \u001b[94mid\u001b[0m = 095ef718-738c-4106-bc63-1e5222a7aa99\n",
      "    │       ├── \u001b[94mconcentration\u001b[0m = 140.0\n",
      "    │       ├── \u001b[94mconc_unit\u001b[0m = mM\n",
      "    │       └── \u001b[94msignal\u001b[0m = 1.722\n",
      "    ├── 8\n",
      "    │   └── \u001b[4mSample\u001b[0m\n",
      "    │       ├── \u001b[94mid\u001b[0m = 1f055277-c658-402f-91f1-b97482625536\n",
      "    │       ├── \u001b[94mconcentration\u001b[0m = 160.0\n",
      "    │       ├── \u001b[94mconc_unit\u001b[0m = mM\n",
      "    │       └── \u001b[94msignal\u001b[0m = 1.968\n",
      "    ├── 9\n",
      "    │   └── \u001b[4mSample\u001b[0m\n",
      "    │       ├── \u001b[94mid\u001b[0m = df81e321-d04f-42a7-a27b-ba13c5681df5\n",
      "    │       ├── \u001b[94mconcentration\u001b[0m = 180.0\n",
      "    │       ├── \u001b[94mconc_unit\u001b[0m = mM\n",
      "    │       └── \u001b[94msignal\u001b[0m = 2.214\n",
      "    └── 10\n",
      "        └── \u001b[4mSample\u001b[0m\n",
      "            ├── \u001b[94mid\u001b[0m = d79cd746-a945-459a-927f-aadc86440d6c\n",
      "            ├── \u001b[94mconcentration\u001b[0m = 200.0\n",
      "            ├── \u001b[94mconc_unit\u001b[0m = mM\n",
      "            └── \u001b[94msignal\u001b[0m = 2.46\n",
      "\n"
     ]
    }
   ],
   "source": [
    "print(standard)"
   ]
  },
  {
   "cell_type": "markdown",
   "metadata": {},
   "source": [
    "## Create calibration model"
   ]
  },
  {
   "cell_type": "code",
   "execution_count": 5,
   "metadata": {},
   "outputs": [],
   "source": [
    "%reload_ext autoreload\n",
    "%autoreload 2\n",
    "\n",
    "from CaliPytion.tools import Calibrator"
   ]
  },
  {
   "cell_type": "code",
   "execution_count": 6,
   "metadata": {},
   "outputs": [],
   "source": [
    "cal = Calibrator.from_standard(standard)"
   ]
  },
  {
   "cell_type": "code",
   "execution_count": 7,
   "metadata": {},
   "outputs": [
    {
     "data": {
      "text/html": [
       "<style type=\"text/css\">\n",
       "#T_25fa1_row0_col0 {\n",
       "  background-color: #f7fbff;\n",
       "  color: #000000;\n",
       "  background-color: #08306b;\n",
       "  color: #f1f1f1;\n",
       "}\n",
       "#T_25fa1_row0_col1, #T_25fa1_row1_col1, #T_25fa1_row2_col1 {\n",
       "  background-color: #f7fbff;\n",
       "  color: #000000;\n",
       "}\n",
       "#T_25fa1_row0_col2, #T_25fa1_row1_col2, #T_25fa1_row2_col2 {\n",
       "  background-color: #f7fbff;\n",
       "  color: #000000;\n",
       "  background-color: #f7fbff;\n",
       "  color: #000000;\n",
       "}\n",
       "#T_25fa1_row1_col0, #T_25fa1_row2_col0 {\n",
       "  background-color: #08306b;\n",
       "  color: #f1f1f1;\n",
       "  background-color: #f7fbff;\n",
       "  color: #000000;\n",
       "}\n",
       "</style>\n",
       "<table id=\"T_25fa1\">\n",
       "  <thead>\n",
       "    <tr>\n",
       "      <th class=\"blank level0\" >&nbsp;</th>\n",
       "      <th id=\"T_25fa1_level0_col0\" class=\"col_heading level0 col0\" >AIC</th>\n",
       "      <th id=\"T_25fa1_level0_col1\" class=\"col_heading level0 col1\" >R squared</th>\n",
       "      <th id=\"T_25fa1_level0_col2\" class=\"col_heading level0 col2\" >RMSD</th>\n",
       "    </tr>\n",
       "    <tr>\n",
       "      <th class=\"index_name level0\" >Model Name</th>\n",
       "      <th class=\"blank col0\" >&nbsp;</th>\n",
       "      <th class=\"blank col1\" >&nbsp;</th>\n",
       "      <th class=\"blank col2\" >&nbsp;</th>\n",
       "    </tr>\n",
       "  </thead>\n",
       "  <tbody>\n",
       "    <tr>\n",
       "      <th id=\"T_25fa1_level0_row0\" class=\"row_heading level0 row0\" >linear</th>\n",
       "      <td id=\"T_25fa1_row0_col0\" class=\"data row0 col0\" >-6330</td>\n",
       "      <td id=\"T_25fa1_row0_col1\" class=\"data row0 col1\" >1.0000</td>\n",
       "      <td id=\"T_25fa1_row0_col2\" class=\"data row0 col2\" >0.0000</td>\n",
       "    </tr>\n",
       "    <tr>\n",
       "      <th id=\"T_25fa1_level0_row1\" class=\"row_heading level0 row1\" >quadratic</th>\n",
       "      <td id=\"T_25fa1_row1_col0\" class=\"data row1 col0\" >-581</td>\n",
       "      <td id=\"T_25fa1_row1_col1\" class=\"data row1 col1\" >1.0000</td>\n",
       "      <td id=\"T_25fa1_row1_col2\" class=\"data row1 col2\" >0.0000</td>\n",
       "    </tr>\n",
       "    <tr>\n",
       "      <th id=\"T_25fa1_level0_row2\" class=\"row_heading level0 row2\" >cubic</th>\n",
       "      <td id=\"T_25fa1_row2_col0\" class=\"data row2 col0\" >-577</td>\n",
       "      <td id=\"T_25fa1_row2_col1\" class=\"data row2 col1\" >1.0000</td>\n",
       "      <td id=\"T_25fa1_row2_col2\" class=\"data row2 col2\" >0.0000</td>\n",
       "    </tr>\n",
       "  </tbody>\n",
       "</table>\n"
      ],
      "text/plain": [
       "<pandas.io.formats.style.Styler at 0x1483c9e90>"
      ]
     },
     "metadata": {},
     "output_type": "display_data"
    }
   ],
   "source": [
    "cal.fit_models()"
   ]
  },
  {
   "cell_type": "code",
   "execution_count": 8,
   "metadata": {},
   "outputs": [
    {
     "data": {
      "text/plain": [
       "[36.58536585385819, nan, 91.05691056917989, 162.60162601638226]"
      ]
     },
     "execution_count": 8,
     "metadata": {},
     "output_type": "execute_result"
    }
   ],
   "source": [
    "cal.models[2].calculate_concentrations([0.45, float(\"nan\"), 1.12, 2])"
   ]
  },
  {
   "cell_type": "code",
   "execution_count": 9,
   "metadata": {},
   "outputs": [
    {
     "ename": "NameError",
     "evalue": "name 'List' is not defined",
     "output_type": "error",
     "traceback": [
      "\u001b[0;31m---------------------------------------------------------------------------\u001b[0m",
      "\u001b[0;31mNameError\u001b[0m                                 Traceback (most recent call last)",
      "Cell \u001b[0;32mIn[9], line 2\u001b[0m\n\u001b[1;32m      1\u001b[0m \u001b[38;5;28;01mdef\u001b[39;00m \u001b[38;5;21m_get_residuals\u001b[39m(\n\u001b[0;32m----> 2\u001b[0m     \u001b[38;5;28mself\u001b[39m, concentrations: \u001b[43mList\u001b[49m[\u001b[38;5;28mfloat\u001b[39m], signals: List[\u001b[38;5;28mfloat\u001b[39m]\n\u001b[1;32m      3\u001b[0m ) \u001b[38;5;241m-\u001b[39m\u001b[38;5;241m>\u001b[39m np\u001b[38;5;241m.\u001b[39mndarray:\n\u001b[1;32m      4\u001b[0m     \u001b[38;5;28;01mreturn\u001b[39;00m np\u001b[38;5;241m.\u001b[39marray(signals) \u001b[38;5;241m-\u001b[39m \u001b[38;5;28mself\u001b[39m\u001b[38;5;241m.\u001b[39msignal_callable(concentrations, \u001b[38;5;241m*\u001b[39m\u001b[38;5;241m*\u001b[39m\u001b[38;5;28mself\u001b[39m\u001b[38;5;241m.\u001b[39m_params)\n",
      "\u001b[0;31mNameError\u001b[0m: name 'List' is not defined"
     ]
    }
   ],
   "source": [
    "def _get_residuals(\n",
    "    self, concentrations: List[float], signals: List[float]\n",
    ") -> np.ndarray:\n",
    "    return np.array(signals) - self.signal_callable(concentrations, **self._params)\n"
   ]
  },
  {
   "cell_type": "code",
   "execution_count": null,
   "metadata": {},
   "outputs": [
    {
     "ename": "AttributeError",
     "evalue": "'CalibrationModel' object has no attribute '_get_residuals'",
     "output_type": "error",
     "traceback": [
      "\u001b[0;31m---------------------------------------------------------------------------\u001b[0m",
      "\u001b[0;31mAttributeError\u001b[0m                            Traceback (most recent call last)",
      "Cell \u001b[0;32mIn[16], line 1\u001b[0m\n\u001b[0;32m----> 1\u001b[0m \u001b[43mcal\u001b[49m\u001b[38;5;241;43m.\u001b[39;49m\u001b[43mvisualize\u001b[49m\u001b[43m(\u001b[49m\u001b[43m)\u001b[49m\n",
      "File \u001b[0;32m~/code/CaliPytion/CaliPytion/tools/calibrator.py:279\u001b[0m, in \u001b[0;36mCalibrator.visualize\u001b[0;34m(self)\u001b[0m\n\u001b[1;32m    277\u001b[0m model_callable, _ \u001b[38;5;241m=\u001b[39m model\u001b[38;5;241m.\u001b[39msignal_callable\n\u001b[1;32m    278\u001b[0m model_data \u001b[38;5;241m=\u001b[39m model_callable(np\u001b[38;5;241m.\u001b[39marray(\u001b[38;5;28mself\u001b[39m\u001b[38;5;241m.\u001b[39mconcentrations), \u001b[38;5;241m*\u001b[39m\u001b[38;5;241m*\u001b[39mmodel\u001b[38;5;241m.\u001b[39mparam_dict)\n\u001b[0;32m--> 279\u001b[0m model_residuals \u001b[38;5;241m=\u001b[39m \u001b[43mmodel\u001b[49m\u001b[38;5;241;43m.\u001b[39;49m\u001b[43m_get_residuals\u001b[49m(\u001b[38;5;28mself\u001b[39m\u001b[38;5;241m.\u001b[39mconcentrations, \u001b[38;5;28mself\u001b[39m\u001b[38;5;241m.\u001b[39msignals)\n\u001b[1;32m    281\u001b[0m smooth_model_data \u001b[38;5;241m=\u001b[39m model\u001b[38;5;241m.\u001b[39msignal_callable(smooth_x, \u001b[38;5;241m*\u001b[39m\u001b[38;5;241m*\u001b[39mmodel\u001b[38;5;241m.\u001b[39m_params)\n\u001b[1;32m    283\u001b[0m \u001b[38;5;66;03m# Add model traces\u001b[39;00m\n",
      "File \u001b[0;32m~/miniconda3/envs/calibration/lib/python3.11/site-packages/pydantic/main.py:761\u001b[0m, in \u001b[0;36mBaseModel.__getattr__\u001b[0;34m(self, item)\u001b[0m\n\u001b[1;32m    758\u001b[0m     \u001b[38;5;28;01mreturn\u001b[39;00m \u001b[38;5;28msuper\u001b[39m()\u001b[38;5;241m.\u001b[39m\u001b[38;5;21m__getattribute__\u001b[39m(item)  \u001b[38;5;66;03m# Raises AttributeError if appropriate\u001b[39;00m\n\u001b[1;32m    759\u001b[0m \u001b[38;5;28;01melse\u001b[39;00m:\n\u001b[1;32m    760\u001b[0m     \u001b[38;5;66;03m# this is the current error\u001b[39;00m\n\u001b[0;32m--> 761\u001b[0m     \u001b[38;5;28;01mraise\u001b[39;00m \u001b[38;5;167;01mAttributeError\u001b[39;00m(\u001b[38;5;124mf\u001b[39m\u001b[38;5;124m'\u001b[39m\u001b[38;5;132;01m{\u001b[39;00m\u001b[38;5;28mtype\u001b[39m(\u001b[38;5;28mself\u001b[39m)\u001b[38;5;241m.\u001b[39m\u001b[38;5;18m__name__\u001b[39m\u001b[38;5;132;01m!r}\u001b[39;00m\u001b[38;5;124m object has no attribute \u001b[39m\u001b[38;5;132;01m{\u001b[39;00mitem\u001b[38;5;132;01m!r}\u001b[39;00m\u001b[38;5;124m'\u001b[39m)\n",
      "\u001b[0;31mAttributeError\u001b[0m: 'CalibrationModel' object has no attribute '_get_residuals'"
     ]
    }
   ],
   "source": [
    "cal.visualize()"
   ]
  },
  {
   "cell_type": "code",
   "execution_count": null,
   "metadata": {},
   "outputs": [
    {
     "name": "stdout",
     "output_type": "stream",
     "text": [
      "\u001b[4mCalibrationModel\u001b[0m\n",
      "├── \u001b[94mid\u001b[0m = 1c315bbe-493b-4310-8d8d-b6261e332709\n",
      "├── \u001b[94mname\u001b[0m = linear\n",
      "├── \u001b[94msignal_equation\u001b[0m = a * s0\n",
      "├── \u001b[94mparameters\u001b[0m\n",
      "│   └── 0\n",
      "│       └── \u001b[4mParameter\u001b[0m\n",
      "│           ├── \u001b[94mid\u001b[0m = 1198f8d2-0725-412d-8031-7eedf521bf1d\n",
      "│           ├── \u001b[94mname\u001b[0m = a\n",
      "│           └── \u001b[94minit_value\u001b[0m = 0.1\n",
      "├── \u001b[94mcalibration_range\u001b[0m\n",
      "│   └── \u001b[4mCalibrationRange\u001b[0m\n",
      "│       └── \u001b[94mid\u001b[0m = 81b14dcb-6b4a-4198-b6bc-af5bdd14c84a\n",
      "└── \u001b[94mstatistics\u001b[0m\n",
      "    └── \u001b[4mFitStatistics\u001b[0m\n",
      "        └── \u001b[94mid\u001b[0m = 7507e1ce-4ab5-4c81-8f75-edfbe1baab34\n",
      "\n"
     ]
    }
   ],
   "source": [
    "print(c.models[0])"
   ]
  },
  {
   "cell_type": "code",
   "execution_count": null,
   "metadata": {},
   "outputs": [
    {
     "data": {
      "text/html": [
       "<style type=\"text/css\">\n",
       "#T_40e78_row0_col0 {\n",
       "  background-color: #f7fbff;\n",
       "  color: #000000;\n",
       "  background-color: #08306b;\n",
       "  color: #f1f1f1;\n",
       "}\n",
       "#T_40e78_row0_col1, #T_40e78_row1_col1, #T_40e78_row2_col1 {\n",
       "  background-color: #f7fbff;\n",
       "  color: #000000;\n",
       "}\n",
       "#T_40e78_row0_col2, #T_40e78_row1_col2, #T_40e78_row2_col2 {\n",
       "  background-color: #f7fbff;\n",
       "  color: #000000;\n",
       "  background-color: #f7fbff;\n",
       "  color: #000000;\n",
       "}\n",
       "#T_40e78_row1_col0, #T_40e78_row2_col0 {\n",
       "  background-color: #08306b;\n",
       "  color: #f1f1f1;\n",
       "  background-color: #f7fbff;\n",
       "  color: #000000;\n",
       "}\n",
       "</style>\n",
       "<table id=\"T_40e78\">\n",
       "  <thead>\n",
       "    <tr>\n",
       "      <th class=\"blank level0\" >&nbsp;</th>\n",
       "      <th id=\"T_40e78_level0_col0\" class=\"col_heading level0 col0\" >AIC</th>\n",
       "      <th id=\"T_40e78_level0_col1\" class=\"col_heading level0 col1\" >R squared</th>\n",
       "      <th id=\"T_40e78_level0_col2\" class=\"col_heading level0 col2\" >RMSD</th>\n",
       "    </tr>\n",
       "    <tr>\n",
       "      <th class=\"index_name level0\" >Model Name</th>\n",
       "      <th class=\"blank col0\" >&nbsp;</th>\n",
       "      <th class=\"blank col1\" >&nbsp;</th>\n",
       "      <th class=\"blank col2\" >&nbsp;</th>\n",
       "    </tr>\n",
       "  </thead>\n",
       "  <tbody>\n",
       "    <tr>\n",
       "      <th id=\"T_40e78_level0_row0\" class=\"row_heading level0 row0\" >linear</th>\n",
       "      <td id=\"T_40e78_row0_col0\" class=\"data row0 col0\" >-2301</td>\n",
       "      <td id=\"T_40e78_row0_col1\" class=\"data row0 col1\" >1.0000</td>\n",
       "      <td id=\"T_40e78_row0_col2\" class=\"data row0 col2\" >0.0000</td>\n",
       "    </tr>\n",
       "    <tr>\n",
       "      <th id=\"T_40e78_level0_row1\" class=\"row_heading level0 row1\" >quadratic</th>\n",
       "      <td id=\"T_40e78_row1_col0\" class=\"data row1 col0\" >-201</td>\n",
       "      <td id=\"T_40e78_row1_col1\" class=\"data row1 col1\" >1.0000</td>\n",
       "      <td id=\"T_40e78_row1_col2\" class=\"data row1 col2\" >0.0000</td>\n",
       "    </tr>\n",
       "    <tr>\n",
       "      <th id=\"T_40e78_level0_row2\" class=\"row_heading level0 row2\" >cubic</th>\n",
       "      <td id=\"T_40e78_row2_col0\" class=\"data row2 col0\" >-199</td>\n",
       "      <td id=\"T_40e78_row2_col1\" class=\"data row2 col1\" >1.0000</td>\n",
       "      <td id=\"T_40e78_row2_col2\" class=\"data row2 col2\" >0.0000</td>\n",
       "    </tr>\n",
       "  </tbody>\n",
       "</table>\n"
      ],
      "text/plain": [
       "<pandas.io.formats.style.Styler at 0x17b312d10>"
      ]
     },
     "metadata": {},
     "output_type": "display_data"
    }
   ],
   "source": [
    "c.fit_models()"
   ]
  },
  {
   "cell_type": "markdown",
   "metadata": {},
   "source": [
    "## Generate artificial data for a `Standard`"
   ]
  },
  {
   "cell_type": "markdown",
   "metadata": {},
   "source": [
    "## Initialize a `Calibrator` from a `Standard`\n",
    "\n",
    "By defining a cutoff value, samples with a higher signal than the defined cutoff are ignored for the calibration.\n",
    "For concentration calculation, the model does not extrapolate beyond the cutoff value by default."
   ]
  },
  {
   "cell_type": "code",
   "execution_count": null,
   "metadata": {},
   "outputs": [
    {
     "name": "stdout",
     "output_type": "stream",
     "text": [
      "species_id='s0' name=None concentrations=[0.0, 20.0, 40.0, 60.0, 80.0, 100.0, 120.0, 140.0, 160.0, 180.0, 200.0] conc_unit='mM' signals=[0.0, 0.246, 0.492, 0.738, 0.984, 1.23, 1.476, 1.722, 1.968, 2.214, 2.46] models=[CalibrationModel(id='1c315bbe-493b-4310-8d8d-b6261e332709', name='linear', signal_equation='a * s0', parameters=[Parameter(id='e94dee92-7cfa-45e6-9d9e-f155478bb487', name='a', value=None, init_value=0.1, standard_error=None, lower_bound=None, upper_bound=None)], was_fitted=True, calibration_range=CalibrationRange(id='ad914325-0f08-41a3-b0e1-2cb2be97d46d', conc_lower=0.0, conc_upper=3.0, signal_lower=0.0, signal_upper=3.0), statistics=FitStatistics(id='943e7cfb-463d-43b3-a3da-a8f5236901b8', aic=-2300.5850929940457, bic=-2301.198798632926, r2=1.0, rmsd=0.0)), CalibrationModel(id='fc1eedbf-d221-4c0e-a12b-239739727678', name='quadratic', signal_equation='a * s0**2 + b * s0', parameters=[Parameter(id='b38dbe8d-7f86-4043-b3fb-98190b43bdc8', name='a', value=None, init_value=0.1, standard_error=None, lower_bound=None, upper_bound=None), Parameter(id='19da2e09-c6f0-4fe5-972d-3c969b3d5cad', name='b', value=None, init_value=0.1, standard_error=None, lower_bound=None, upper_bound=None)], was_fitted=True, calibration_range=CalibrationRange(id='7fc0cff3-2125-451e-bd44-10ec3b0ef527', conc_lower=0.0, conc_upper=3.0, signal_lower=0.0, signal_upper=3.0), statistics=FitStatistics(id='0fd474a9-2e43-4b54-ad9f-36a7d1a26a33', aic=-201.1513381244416, bic=-202.3787494022018, r2=1.0, rmsd=7.294377532526228e-12)), CalibrationModel(id='8771d721-aee5-422e-8697-36cbbeedccb8', name='cubic', signal_equation='a * s0**3 + b * s0**2 + c * s0', parameters=[Parameter(id='f37eb3ef-7c69-47d2-97e8-f65bc52ed4fe', name='a', value=None, init_value=0.1, standard_error=None, lower_bound=None, upper_bound=None), Parameter(id='4dff1d2f-a7be-4a69-b391-494b2b9015dc', name='b', value=None, init_value=0.1, standard_error=None, lower_bound=None, upper_bound=None), Parameter(id='d73b9e18-bc88-4095-9d88-f3abc4120068', name='c', value=None, init_value=0.1, standard_error=None, lower_bound=None, upper_bound=None)], was_fitted=True, calibration_range=CalibrationRange(id='fa38655f-c2a6-43d7-b5e8-353181ff65e1', conc_lower=0.0, conc_upper=3.0, signal_lower=0.0, signal_upper=3.0), statistics=FitStatistics(id='716b0796-bb24-424a-ae2c-06028761d888', aic=-199.20989301389798, bic=-201.0510099305383, r2=1.0, rmsd=7.241182263945259e-12))] cutoff=2.5\n"
     ]
    }
   ],
   "source": [
    "# initialize calibrator\n",
    "calibrator = Calibrator.from_standard(standard, cutoff=2.5)\n",
    "\n",
    "print(calibrator)"
   ]
  },
  {
   "cell_type": "markdown",
   "metadata": {},
   "source": [
    "CaliPytion contains predefined models, which can be used for calibration.\n",
    "Alternatively, custom models can be added. \n",
    "\n",
    "```{note}\n",
    "The equation of a model must include 'signal' and 'concentration' as variables.\n",
    "```"
   ]
  },
  {
   "cell_type": "code",
   "execution_count": null,
   "metadata": {},
   "outputs": [
    {
     "ename": "TypeError",
     "evalue": "Calibrator.add_model() got an unexpected keyword argument 'signal_equation'",
     "output_type": "error",
     "traceback": [
      "\u001b[0;31m---------------------------------------------------------------------------\u001b[0m",
      "\u001b[0;31mTypeError\u001b[0m                                 Traceback (most recent call last)",
      "Cell \u001b[0;32mIn[14], line 1\u001b[0m\n\u001b[0;32m----> 1\u001b[0m exponential \u001b[38;5;241m=\u001b[39m \u001b[43mcalibrator\u001b[49m\u001b[38;5;241;43m.\u001b[39;49m\u001b[43madd_model\u001b[49m\u001b[43m(\u001b[49m\n\u001b[1;32m      2\u001b[0m \u001b[43m    \u001b[49m\u001b[43mname\u001b[49m\u001b[38;5;241;43m=\u001b[39;49m\u001b[38;5;124;43m\"\u001b[39;49m\u001b[38;5;124;43mexponential\u001b[39;49m\u001b[38;5;124;43m\"\u001b[39;49m\u001b[43m,\u001b[49m\n\u001b[1;32m      3\u001b[0m \u001b[43m    \u001b[49m\u001b[43msignal_equation\u001b[49m\u001b[38;5;241;43m=\u001b[39;49m\u001b[38;5;124;43m\"\u001b[39;49m\u001b[38;5;124;43ma * exp(b * concentration)\u001b[39;49m\u001b[38;5;124;43m\"\u001b[39;49m\u001b[43m,\u001b[49m\n\u001b[1;32m      4\u001b[0m \u001b[43m)\u001b[49m\n",
      "\u001b[0;31mTypeError\u001b[0m: Calibrator.add_model() got an unexpected keyword argument 'signal_equation'"
     ]
    }
   ],
   "source": [
    "exponential = calibrator.add_model(\n",
    "    name=\"exponential\",\n",
    "    signal_equation=\"a * exp(b * concentration)\",\n",
    ")"
   ]
  },
  {
   "cell_type": "markdown",
   "metadata": {},
   "source": [
    "By calling `fit_models`, all models are fitted to the data defined in `Standard`. A report, summarizing statistical parameters of each model is generated."
   ]
  },
  {
   "cell_type": "code",
   "execution_count": null,
   "metadata": {},
   "outputs": [
    {
     "data": {
      "text/html": [
       "<style type=\"text/css\">\n",
       "#T_a1944_row0_col0, #T_a1944_row1_col2, #T_a1944_row2_col2 {\n",
       "  background-color: #f7fbff;\n",
       "  color: #000000;\n",
       "  background-color: #08306b;\n",
       "  color: #f1f1f1;\n",
       "}\n",
       "#T_a1944_row0_col1, #T_a1944_row1_col1, #T_a1944_row2_col1 {\n",
       "  background-color: #08306b;\n",
       "  color: #f1f1f1;\n",
       "}\n",
       "#T_a1944_row0_col2 {\n",
       "  background-color: #f6faff;\n",
       "  color: #000000;\n",
       "  background-color: #08316d;\n",
       "  color: #f1f1f1;\n",
       "}\n",
       "#T_a1944_row1_col0 {\n",
       "  background-color: #f5fafe;\n",
       "  color: #000000;\n",
       "  background-color: #08326e;\n",
       "  color: #f1f1f1;\n",
       "}\n",
       "#T_a1944_row2_col0 {\n",
       "  background-color: #f4f9fe;\n",
       "  color: #000000;\n",
       "  background-color: #083471;\n",
       "  color: #f1f1f1;\n",
       "}\n",
       "#T_a1944_row3_col0, #T_a1944_row3_col2 {\n",
       "  background-color: #08306b;\n",
       "  color: #f1f1f1;\n",
       "  background-color: #f7fbff;\n",
       "  color: #000000;\n",
       "}\n",
       "#T_a1944_row3_col1 {\n",
       "  background-color: #f7fbff;\n",
       "  color: #000000;\n",
       "}\n",
       "</style>\n",
       "<table id=\"T_a1944\">\n",
       "  <thead>\n",
       "    <tr>\n",
       "      <th class=\"blank level0\" >&nbsp;</th>\n",
       "      <th id=\"T_a1944_level0_col0\" class=\"col_heading level0 col0\" >AIC</th>\n",
       "      <th id=\"T_a1944_level0_col1\" class=\"col_heading level0 col1\" >R squared</th>\n",
       "      <th id=\"T_a1944_level0_col2\" class=\"col_heading level0 col2\" >RMSD</th>\n",
       "    </tr>\n",
       "    <tr>\n",
       "      <th class=\"index_name level0\" >Model Name</th>\n",
       "      <th class=\"blank col0\" >&nbsp;</th>\n",
       "      <th class=\"blank col1\" >&nbsp;</th>\n",
       "      <th class=\"blank col2\" >&nbsp;</th>\n",
       "    </tr>\n",
       "  </thead>\n",
       "  <tbody>\n",
       "    <tr>\n",
       "      <th id=\"T_a1944_level0_row0\" class=\"row_heading level0 row0\" >linear</th>\n",
       "      <td id=\"T_a1944_row0_col0\" class=\"data row0 col0\" >-197</td>\n",
       "      <td id=\"T_a1944_row0_col1\" class=\"data row0 col1\" >0.9988</td>\n",
       "      <td id=\"T_a1944_row0_col2\" class=\"data row0 col2\" >0.0252</td>\n",
       "    </tr>\n",
       "    <tr>\n",
       "      <th id=\"T_a1944_level0_row1\" class=\"row_heading level0 row1\" >quadratic</th>\n",
       "      <td id=\"T_a1944_row1_col0\" class=\"data row1 col0\" >-196</td>\n",
       "      <td id=\"T_a1944_row1_col1\" class=\"data row1 col1\" >0.9989</td>\n",
       "      <td id=\"T_a1944_row1_col2\" class=\"data row1 col2\" >0.0245</td>\n",
       "    </tr>\n",
       "    <tr>\n",
       "      <th id=\"T_a1944_level0_row2\" class=\"row_heading level0 row2\" >cubic</th>\n",
       "      <td id=\"T_a1944_row2_col0\" class=\"data row2 col0\" >-195</td>\n",
       "      <td id=\"T_a1944_row2_col1\" class=\"data row2 col1\" >0.9989</td>\n",
       "      <td id=\"T_a1944_row2_col2\" class=\"data row2 col2\" >0.0242</td>\n",
       "    </tr>\n",
       "    <tr>\n",
       "      <th id=\"T_a1944_level0_row3\" class=\"row_heading level0 row3\" >exponential</th>\n",
       "      <td id=\"T_a1944_row3_col0\" class=\"data row3 col0\" >-85</td>\n",
       "      <td id=\"T_a1944_row3_col1\" class=\"data row3 col1\" >0.9303</td>\n",
       "      <td id=\"T_a1944_row3_col2\" class=\"data row3 col2\" >0.1909</td>\n",
       "    </tr>\n",
       "  </tbody>\n",
       "</table>\n"
      ],
      "text/plain": [
       "<pandas.io.formats.style.Styler at 0x179219390>"
      ]
     },
     "metadata": {},
     "output_type": "display_data"
    }
   ],
   "source": [
    "# Fit all defined models\n",
    "calibrator.fit_models()"
   ]
  },
  {
   "cell_type": "markdown",
   "metadata": {},
   "source": [
    "## Model visualization\n",
    "\n",
    "Models can be visualized, displaying the measured samples used for fitting of thee model, as well as the fitted model. Additionally, the residuals of the model are visualized."
   ]
  },
  {
   "cell_type": "code",
   "execution_count": null,
   "metadata": {},
   "outputs": [
    {
     "data": {
      "application/vnd.plotly.v1+json": {
       "config": {
        "plotlyServerURL": "https://plot.ly",
        "toImageButtonOptions": {
         "filename": "ABTS_calibration_curve",
         "format": "svg",
         "scale": 1
        }
       },
       "data": [
        {
         "customdata": [
          "ABTS standard"
         ],
         "hovertemplate": "Signal: %{y:.2f}",
         "marker": {
          "color": "#000000"
         },
         "mode": "markers",
         "name": "sample0",
         "showlegend": false,
         "type": "scatter",
         "visible": true,
         "x": [
          0
         ],
         "xaxis": "x",
         "y": [
          -0.023015429423407584
         ],
         "yaxis": "y"
        },
        {
         "customdata": [
          "ABTS standard"
         ],
         "hovertemplate": "Signal: %{y:.2f}",
         "marker": {
          "color": "#000000"
         },
         "mode": "markers",
         "name": "sample1",
         "showlegend": false,
         "type": "scatter",
         "visible": true,
         "x": [
          0
         ],
         "xaxis": "x",
         "y": [
          -0.01573009573796011
         ],
         "yaxis": "y"
        },
        {
         "customdata": [
          "ABTS standard"
         ],
         "hovertemplate": "Signal: %{y:.2f}",
         "marker": {
          "color": "#000000"
         },
         "mode": "markers",
         "name": "sample2",
         "showlegend": false,
         "type": "scatter",
         "visible": true,
         "x": [
          0
         ],
         "xaxis": "x",
         "y": [
          -0.0036488297695662078
         ],
         "yaxis": "y"
        },
        {
         "customdata": [
          "ABTS standard"
         ],
         "hovertemplate": "Signal: %{y:.2f}",
         "marker": {
          "color": "#000000"
         },
         "mode": "markers",
         "name": "sample3",
         "showlegend": false,
         "type": "scatter",
         "visible": true,
         "x": [
          20
         ],
         "xaxis": "x",
         "y": [
          0.30124449863532876
         ],
         "yaxis": "y"
        },
        {
         "customdata": [
          "ABTS standard"
         ],
         "hovertemplate": "Signal: %{y:.2f}",
         "marker": {
          "color": "#000000"
         },
         "mode": "markers",
         "name": "sample4",
         "showlegend": false,
         "type": "scatter",
         "visible": true,
         "x": [
          20
         ],
         "xaxis": "x",
         "y": [
          0.2984143908412947
         ],
         "yaxis": "y"
        },
        {
         "customdata": [
          "ABTS standard"
         ],
         "hovertemplate": "Signal: %{y:.2f}",
         "marker": {
          "color": "#000000"
         },
         "mode": "markers",
         "name": "sample5",
         "showlegend": false,
         "type": "scatter",
         "visible": true,
         "x": [
          20
         ],
         "xaxis": "x",
         "y": [
          0.3117301134239957
         ],
         "yaxis": "y"
        },
        {
         "customdata": [
          "ABTS standard"
         ],
         "hovertemplate": "Signal: %{y:.2f}",
         "marker": {
          "color": "#000000"
         },
         "mode": "markers",
         "name": "sample6",
         "showlegend": false,
         "type": "scatter",
         "visible": true,
         "x": [
          40
         ],
         "xaxis": "x",
         "y": [
          0.5553191410854381
         ],
         "yaxis": "y"
        },
        {
         "customdata": [
          "ABTS standard"
         ],
         "hovertemplate": "Signal: %{y:.2f}",
         "marker": {
          "color": "#000000"
         },
         "mode": "markers",
         "name": "sample7",
         "showlegend": false,
         "type": "scatter",
         "visible": true,
         "x": [
          40
         ],
         "xaxis": "x",
         "y": [
          0.5491165005307768
         ],
         "yaxis": "y"
        },
        {
         "customdata": [
          "ABTS standard"
         ],
         "hovertemplate": "Signal: %{y:.2f}",
         "marker": {
          "color": "#000000"
         },
         "mode": "markers",
         "name": "sample8",
         "showlegend": false,
         "type": "scatter",
         "visible": true,
         "x": [
          40
         ],
         "xaxis": "x",
         "y": [
          0.5794146964468769
         ],
         "yaxis": "y"
        },
        {
         "customdata": [
          "ABTS standard"
         ],
         "hovertemplate": "Signal: %{y:.2f}",
         "marker": {
          "color": "#000000"
         },
         "mode": "markers",
         "name": "sample9",
         "showlegend": false,
         "type": "scatter",
         "visible": true,
         "x": [
          60
         ],
         "xaxis": "x",
         "y": [
          0.8767313487728826
         ],
         "yaxis": "y"
        },
        {
         "customdata": [
          "ABTS standard"
         ],
         "hovertemplate": "Signal: %{y:.2f}",
         "marker": {
          "color": "#000000"
         },
         "mode": "markers",
         "name": "sample10",
         "showlegend": false,
         "type": "scatter",
         "visible": true,
         "x": [
          60
         ],
         "xaxis": "x",
         "y": [
          0.8546809671402313
         ],
         "yaxis": "y"
        },
        {
         "customdata": [
          "ABTS standard"
         ],
         "hovertemplate": "Signal: %{y:.2f}",
         "marker": {
          "color": "#000000"
         },
         "mode": "markers",
         "name": "sample11",
         "showlegend": false,
         "type": "scatter",
         "visible": true,
         "x": [
          60
         ],
         "xaxis": "x",
         "y": [
          0.8757766539066191
         ],
         "yaxis": "y"
        },
        {
         "customdata": [
          "ABTS standard"
         ],
         "hovertemplate": "Signal: %{y:.2f}",
         "marker": {
          "color": "#000000"
         },
         "mode": "markers",
         "name": "sample12",
         "showlegend": false,
         "type": "scatter",
         "visible": true,
         "x": [
          80
         ],
         "xaxis": "x",
         "y": [
          1.0915684054687116
         ],
         "yaxis": "y"
        },
        {
         "customdata": [
          "ABTS standard"
         ],
         "hovertemplate": "Signal: %{y:.2f}",
         "marker": {
          "color": "#000000"
         },
         "mode": "markers",
         "name": "sample13",
         "showlegend": false,
         "type": "scatter",
         "visible": true,
         "x": [
          80
         ],
         "xaxis": "x",
         "y": [
          1.114041732694458
         ],
         "yaxis": "y"
        },
        {
         "customdata": [
          "ABTS standard"
         ],
         "hovertemplate": "Signal: %{y:.2f}",
         "marker": {
          "color": "#000000"
         },
         "mode": "markers",
         "name": "sample14",
         "showlegend": false,
         "type": "scatter",
         "visible": true,
         "x": [
          80
         ],
         "xaxis": "x",
         "y": [
          1.137871100454781
         ],
         "yaxis": "y"
        },
        {
         "customdata": [
          "ABTS standard"
         ],
         "hovertemplate": "Signal: %{y:.2f}",
         "marker": {
          "color": "#000000"
         },
         "mode": "markers",
         "name": "sample15",
         "showlegend": false,
         "type": "scatter",
         "visible": true,
         "x": [
          100
         ],
         "xaxis": "x",
         "y": [
          1.4216526383908534
         ],
         "yaxis": "y"
        },
        {
         "customdata": [
          "ABTS standard"
         ],
         "hovertemplate": "Signal: %{y:.2f}",
         "marker": {
          "color": "#000000"
         },
         "mode": "markers",
         "name": "sample16",
         "showlegend": false,
         "type": "scatter",
         "visible": true,
         "x": [
          100
         ],
         "xaxis": "x",
         "y": [
          1.382221227718134
         ],
         "yaxis": "y"
        },
        {
         "customdata": [
          "ABTS standard"
         ],
         "hovertemplate": "Signal: %{y:.2f}",
         "marker": {
          "color": "#000000"
         },
         "mode": "markers",
         "name": "sample17",
         "showlegend": false,
         "type": "scatter",
         "visible": true,
         "x": [
          100
         ],
         "xaxis": "x",
         "y": [
          1.4304070694665094
         ],
         "yaxis": "y"
        },
        {
         "customdata": [
          "ABTS standard"
         ],
         "hovertemplate": "Signal: %{y:.2f}",
         "marker": {
          "color": "#000000"
         },
         "mode": "markers",
         "name": "sample18",
         "showlegend": false,
         "type": "scatter",
         "visible": true,
         "x": [
          120
         ],
         "xaxis": "x",
         "y": [
          1.6908492249179952
         ],
         "yaxis": "y"
        },
        {
         "customdata": [
          "ABTS standard"
         ],
         "hovertemplate": "Signal: %{y:.2f}",
         "marker": {
          "color": "#000000"
         },
         "mode": "markers",
         "name": "sample19",
         "showlegend": false,
         "type": "scatter",
         "visible": true,
         "x": [
          120
         ],
         "xaxis": "x",
         "y": [
          1.6381791992390775
         ],
         "yaxis": "y"
        },
        {
         "customdata": [
          "ABTS standard"
         ],
         "hovertemplate": "Signal: %{y:.2f}",
         "marker": {
          "color": "#000000"
         },
         "mode": "markers",
         "name": "sample20",
         "showlegend": false,
         "type": "scatter",
         "visible": true,
         "x": [
          120
         ],
         "xaxis": "x",
         "y": [
          1.6799820239964147
         ],
         "yaxis": "y"
        },
        {
         "customdata": [
          "ABTS standard"
         ],
         "hovertemplate": "Signal: %{y:.2f}",
         "marker": {
          "color": "#000000"
         },
         "mode": "markers",
         "name": "sample21",
         "showlegend": false,
         "type": "scatter",
         "visible": true,
         "x": [
          140
         ],
         "xaxis": "x",
         "y": [
          2.0339369992968885
         ],
         "yaxis": "y"
        },
        {
         "customdata": [
          "ABTS standard"
         ],
         "hovertemplate": "Signal: %{y:.2f}",
         "marker": {
          "color": "#000000"
         },
         "mode": "markers",
         "name": "sample22",
         "showlegend": false,
         "type": "scatter",
         "visible": true,
         "x": [
          140
         ],
         "xaxis": "x",
         "y": [
          1.9707300898399593
         ],
         "yaxis": "y"
        },
        {
         "customdata": [
          "ABTS standard"
         ],
         "hovertemplate": "Signal: %{y:.2f}",
         "marker": {
          "color": "#000000"
         },
         "mode": "markers",
         "name": "sample23",
         "showlegend": false,
         "type": "scatter",
         "visible": true,
         "x": [
          140
         ],
         "xaxis": "x",
         "y": [
          1.9589759288879933
         ],
         "yaxis": "y"
        },
        {
         "customdata": [
          "ABTS standard"
         ],
         "hovertemplate": "Signal: %{y:.2f}",
         "marker": {
          "color": "#000000"
         },
         "mode": "markers",
         "name": "sample24",
         "showlegend": false,
         "type": "scatter",
         "visible": true,
         "x": [
          160
         ],
         "xaxis": "x",
         "y": [
          2.260977385282519
         ],
         "yaxis": "y"
        },
        {
         "customdata": [
          "ABTS standard"
         ],
         "hovertemplate": "Signal: %{y:.2f}",
         "marker": {
          "color": "#000000"
         },
         "mode": "markers",
         "name": "sample25",
         "showlegend": false,
         "type": "scatter",
         "visible": true,
         "x": [
          160
         ],
         "xaxis": "x",
         "y": [
          2.212266486428081
         ],
         "yaxis": "y"
        },
        {
         "customdata": [
          "ABTS standard"
         ],
         "hovertemplate": "Signal: %{y:.2f}",
         "marker": {
          "color": "#000000"
         },
         "mode": "markers",
         "name": "sample26",
         "showlegend": false,
         "type": "scatter",
         "visible": true,
         "x": [
          160
         ],
         "xaxis": "x",
         "y": [
          2.222321958735239
         ],
         "yaxis": "y"
        },
        {
         "customdata": [
          "ABTS standard"
         ],
         "hovertemplate": "Signal: %{y:.2f}",
         "marker": {
          "color": "#000000"
         },
         "mode": "markers",
         "name": "sample27",
         "showlegend": false,
         "type": "scatter",
         "visible": true,
         "x": [
          180
         ],
         "xaxis": "x",
         "y": [
          2.5616522418092873
         ],
         "yaxis": "y"
        },
        {
         "customdata": [
          "ABTS standard"
         ],
         "hovertemplate": "Signal: %{y:.2f}",
         "marker": {
          "color": "#000000"
         },
         "mode": "markers",
         "name": "sample28",
         "showlegend": false,
         "type": "scatter",
         "visible": true,
         "x": [
          180
         ],
         "xaxis": "x",
         "y": [
          2.550034973024906
         ],
         "yaxis": "y"
        },
        {
         "customdata": [
          "ABTS standard"
         ],
         "hovertemplate": "Signal: %{y:.2f}",
         "marker": {
          "color": "#000000"
         },
         "mode": "markers",
         "name": "sample29",
         "showlegend": false,
         "type": "scatter",
         "visible": true,
         "x": [
          180
         ],
         "xaxis": "x",
         "y": [
          2.535366792538363
         ],
         "yaxis": "y"
        },
        {
         "customdata": [
          "ABTS standard"
         ],
         "hovertemplate": "Signal: %{y:.2f}",
         "marker": {
          "color": "#000000"
         },
         "mode": "markers",
         "name": "sample30",
         "showlegend": false,
         "type": "scatter",
         "visible": true,
         "x": [
          200
         ],
         "xaxis": "x",
         "y": [
          2.8307843610466072
         ],
         "yaxis": "y"
        },
        {
         "customdata": [
          "ABTS standard"
         ],
         "hovertemplate": "Signal: %{y:.2f}",
         "marker": {
          "color": "#000000"
         },
         "mode": "markers",
         "name": "sample31",
         "showlegend": false,
         "type": "scatter",
         "visible": true,
         "x": [
          200
         ],
         "xaxis": "x",
         "y": [
          2.8285075563633253
         ],
         "yaxis": "y"
        },
        {
         "customdata": [
          "ABTS standard"
         ],
         "hovertemplate": "Signal: %{y:.2f}",
         "marker": {
          "color": "#000000"
         },
         "mode": "markers",
         "name": "sample32",
         "showlegend": false,
         "type": "scatter",
         "visible": true,
         "x": [
          200
         ],
         "xaxis": "x",
         "y": [
          2.8075991618252347
         ],
         "yaxis": "y"
        },
        {
         "customdata": [
          "linear model"
         ],
         "hovertemplate": "Signal: %{y:.2f}",
         "marker": {
          "color": "#636EFA"
         },
         "mode": "lines",
         "name": "linear model",
         "type": "scatter",
         "visible": false,
         "x": [
          0,
          1.1940298507462686,
          2.388059701492537,
          3.5820895522388057,
          4.776119402985074,
          5.970149253731343,
          7.164179104477611,
          8.35820895522388,
          9.552238805970148,
          10.746268656716417,
          11.940298507462686,
          13.134328358208954,
          14.328358208955223,
          15.522388059701491,
          16.71641791044776,
          17.91044776119403,
          19.104477611940297,
          20.298507462686565,
          21.492537313432834,
          22.686567164179102,
          23.88059701492537,
          25.07462686567164,
          26.268656716417908,
          27.462686567164177,
          28.656716417910445,
          29.850746268656714,
          31.044776119402982,
          32.23880597014925,
          33.43283582089552,
          34.62686567164179,
          35.82089552238806,
          37.014925373134325,
          38.208955223880594,
          39.40298507462686,
          40.59701492537313,
          41.7910447761194,
          42.98507462686567,
          44.179104477611936,
          45.373134328358205,
          46.56716417910447,
          47.76119402985074,
          48.95522388059701,
          50.14925373134328,
          51.34328358208955,
          52.537313432835816,
          53.731343283582085,
          54.92537313432835,
          56.11940298507462,
          57.31343283582089,
          58.50746268656716,
          59.70149253731343,
          60.895522388059696,
          62.089552238805965,
          63.28358208955223,
          64.4776119402985,
          65.67164179104478,
          66.86567164179104,
          68.0597014925373,
          69.25373134328358,
          70.44776119402985,
          71.64179104477611,
          72.83582089552237,
          74.02985074626865,
          75.22388059701493,
          76.41791044776119,
          77.61194029850745,
          78.80597014925372,
          80,
          81.19402985074626,
          82.38805970149252,
          83.5820895522388,
          84.77611940298507,
          85.97014925373134,
          87.1641791044776,
          88.35820895522387,
          89.55223880597015,
          90.74626865671641,
          91.94029850746267,
          93.13432835820895,
          94.32835820895522,
          95.52238805970148,
          96.71641791044775,
          97.91044776119402,
          99.1044776119403,
          100.29850746268656,
          101.49253731343282,
          102.6865671641791,
          103.88059701492537,
          105.07462686567163,
          106.2686567164179,
          107.46268656716417,
          108.65671641791045,
          109.8507462686567,
          111.04477611940297,
          112.23880597014924,
          113.43283582089552,
          114.62686567164178,
          115.82089552238804,
          117.01492537313432,
          118.2089552238806,
          119.40298507462686,
          120.59701492537312,
          121.79104477611939,
          122.98507462686567,
          124.17910447761193,
          125.37313432835819,
          126.56716417910447,
          127.76119402985074,
          128.955223880597,
          130.14925373134326,
          131.34328358208955,
          132.53731343283582,
          133.73134328358208,
          134.92537313432834,
          136.1194029850746,
          137.3134328358209,
          138.50746268656715,
          139.7014925373134,
          140.8955223880597,
          142.08955223880596,
          143.28358208955223,
          144.4776119402985,
          145.67164179104475,
          146.86567164179104,
          148.0597014925373,
          149.25373134328356,
          150.44776119402985,
          151.6417910447761,
          152.83582089552237,
          154.02985074626864,
          155.2238805970149,
          156.4179104477612,
          157.61194029850745,
          158.8059701492537,
          160
         ],
         "xaxis": "x",
         "y": [
          0,
          0.016779833839317974,
          0.03355966767863595,
          0.05033950151795392,
          0.0671193353572719,
          0.08389916919658987,
          0.10067900303590784,
          0.1174588368752258,
          0.1342386707145438,
          0.15101850455386176,
          0.16779833839317973,
          0.1845781722324977,
          0.20135800607181567,
          0.21813783991113364,
          0.2349176737504516,
          0.2516975075897696,
          0.2684773414290876,
          0.28525717526840555,
          0.3020370091077235,
          0.3188168429470415,
          0.33559667678635946,
          0.35237651062567743,
          0.3691563444649954,
          0.38593617830431337,
          0.40271601214363134,
          0.4194958459829493,
          0.4362756798222673,
          0.45305551366158525,
          0.4698353475009032,
          0.4866151813402212,
          0.5033950151795392,
          0.5201748490188571,
          0.5369546828581752,
          0.5537345166974931,
          0.5705143505368111,
          0.587294184376129,
          0.604074018215447,
          0.620853852054765,
          0.637633685894083,
          0.6544135197334009,
          0.6711933535727189,
          0.6879731874120368,
          0.7047530212513549,
          0.7215328550906729,
          0.7383126889299908,
          0.7550925227693088,
          0.7718723566086267,
          0.7886521904479448,
          0.8054320242872627,
          0.8222118581265807,
          0.8389916919658986,
          0.8557715258052166,
          0.8725513596445346,
          0.8893311934838526,
          0.9061110273231705,
          0.9228908611624886,
          0.9396706950018064,
          0.9564505288411244,
          0.9732303626804424,
          0.9900101965197605,
          1.0067900303590784,
          1.0235698641983964,
          1.0403496980377143,
          1.0571295318770324,
          1.0739093657163503,
          1.0906891995556682,
          1.1074690333949861,
          1.1242488672343043,
          1.1410287010736222,
          1.1578085349129401,
          1.174588368752258,
          1.1913682025915762,
          1.208148036430894,
          1.224927870270212,
          1.24170770410953,
          1.258487537948848,
          1.275267371788166,
          1.2920472056274839,
          1.3088270394668018,
          1.32560687330612,
          1.3423867071454378,
          1.3591665409847558,
          1.3759463748240737,
          1.3927262086633918,
          1.4095060425027097,
          1.4262858763420276,
          1.4430657101813458,
          1.4598455440206637,
          1.4766253778599816,
          1.4934052116992995,
          1.5101850455386177,
          1.5269648793779356,
          1.5437447132172535,
          1.5605245470565714,
          1.5773043808958895,
          1.5940842147352074,
          1.6108640485745254,
          1.6276438824138433,
          1.6444237162531614,
          1.6612035500924793,
          1.6779833839317972,
          1.6947632177711152,
          1.7115430516104333,
          1.7283228854497512,
          1.7451027192890691,
          1.761882553128387,
          1.7786623869677052,
          1.795442220807023,
          1.812222054646341,
          1.829001888485659,
          1.8457817223249773,
          1.8625615561642952,
          1.8793413900036129,
          1.8961212238429308,
          1.9129010576822487,
          1.929680891521567,
          1.9464607253608848,
          1.9632405592002027,
          1.980020393039521,
          1.996800226878839,
          2.013580060718157,
          2.0303598945574746,
          2.0471397283967927,
          2.063919562236111,
          2.0806993960754285,
          2.0974792299147467,
          2.114259063754065,
          2.1310388975933825,
          2.1478187314327006,
          2.1645985652720183,
          2.1813783991113365,
          2.1981582329506546,
          2.2149380667899723,
          2.2317179006292904,
          2.2484977344686086
         ],
         "yaxis": "y"
        },
        {
         "customdata": [
          "linear model"
         ],
         "hoverinfo": "skip",
         "hovertemplate": "Signal: %{y:.2f}",
         "marker": {
          "color": "#636EFA"
         },
         "mode": "markers",
         "name": "Residuals",
         "type": "scatter",
         "visible": false,
         "x": [
          0,
          0,
          0,
          20,
          20,
          20,
          40,
          40,
          40,
          60,
          60,
          60,
          80,
          80,
          80,
          100,
          100,
          100,
          120,
          120,
          120,
          140,
          140,
          140,
          160,
          160,
          160
         ],
         "xaxis": "x2",
         "y": [
          -0.023015429423407584,
          -0.01573009573796011,
          -0.0036488297695662078,
          0.02018228182675269,
          0.017352174032718604,
          0.030667896615419632,
          -0.0068052925317140245,
          -0.013007933086375378,
          0.01729026282972479,
          0.033544698347154456,
          0.011494316714503183,
          0.03259000348089092,
          -0.032680461765592694,
          -0.01020713453984623,
          0.013622233220476732,
          0.01634155434797302,
          -0.02308985632474636,
          0.025095985423629008,
          0.00447592406653885,
          -0.048194101612378804,
          -0.006391276855041594,
          0.0665014816368561,
          0.0032945721799269023,
          -0.008459588772039117,
          0.012479650813910226,
          -0.036231248040527575,
          -0.026175775733369377
         ],
         "yaxis": "y2"
        },
        {
         "customdata": [
          "linear model"
         ],
         "hovertemplate": "Signal: %{y:.2f}",
         "line": {
          "color": "grey",
          "dash": "dash",
          "width": 2
         },
         "showlegend": false,
         "type": "scatter",
         "visible": true,
         "x": [
          0,
          0,
          0,
          20,
          20,
          20,
          40,
          40,
          40,
          60,
          60,
          60,
          80,
          80,
          80,
          100,
          100,
          100,
          120,
          120,
          120,
          140,
          140,
          140,
          160,
          160,
          160
         ],
         "xaxis": "x2",
         "y": [
          0,
          0,
          0,
          0,
          0,
          0,
          0,
          0,
          0,
          0,
          0,
          0,
          0,
          0,
          0,
          0,
          0,
          0,
          0,
          0,
          0,
          0,
          0,
          0,
          0,
          0,
          0
         ],
         "yaxis": "y2"
        },
        {
         "customdata": [
          "quadratic model"
         ],
         "hovertemplate": "Signal: %{y:.2f}",
         "marker": {
          "color": "#EF553B"
         },
         "mode": "lines",
         "name": "quadratic model",
         "type": "scatter",
         "visible": false,
         "x": [
          0,
          1.1940298507462686,
          2.388059701492537,
          3.5820895522388057,
          4.776119402985074,
          5.970149253731343,
          7.164179104477611,
          8.35820895522388,
          9.552238805970148,
          10.746268656716417,
          11.940298507462686,
          13.134328358208954,
          14.328358208955223,
          15.522388059701491,
          16.71641791044776,
          17.91044776119403,
          19.104477611940297,
          20.298507462686565,
          21.492537313432834,
          22.686567164179102,
          23.88059701492537,
          25.07462686567164,
          26.268656716417908,
          27.462686567164177,
          28.656716417910445,
          29.850746268656714,
          31.044776119402982,
          32.23880597014925,
          33.43283582089552,
          34.62686567164179,
          35.82089552238806,
          37.014925373134325,
          38.208955223880594,
          39.40298507462686,
          40.59701492537313,
          41.7910447761194,
          42.98507462686567,
          44.179104477611936,
          45.373134328358205,
          46.56716417910447,
          47.76119402985074,
          48.95522388059701,
          50.14925373134328,
          51.34328358208955,
          52.537313432835816,
          53.731343283582085,
          54.92537313432835,
          56.11940298507462,
          57.31343283582089,
          58.50746268656716,
          59.70149253731343,
          60.895522388059696,
          62.089552238805965,
          63.28358208955223,
          64.4776119402985,
          65.67164179104478,
          66.86567164179104,
          68.0597014925373,
          69.25373134328358,
          70.44776119402985,
          71.64179104477611,
          72.83582089552237,
          74.02985074626865,
          75.22388059701493,
          76.41791044776119,
          77.61194029850745,
          78.80597014925372,
          80,
          81.19402985074626,
          82.38805970149252,
          83.5820895522388,
          84.77611940298507,
          85.97014925373134,
          87.1641791044776,
          88.35820895522387,
          89.55223880597015,
          90.74626865671641,
          91.94029850746267,
          93.13432835820895,
          94.32835820895522,
          95.52238805970148,
          96.71641791044775,
          97.91044776119402,
          99.1044776119403,
          100.29850746268656,
          101.49253731343282,
          102.6865671641791,
          103.88059701492537,
          105.07462686567163,
          106.2686567164179,
          107.46268656716417,
          108.65671641791045,
          109.8507462686567,
          111.04477611940297,
          112.23880597014924,
          113.43283582089552,
          114.62686567164178,
          115.82089552238804,
          117.01492537313432,
          118.2089552238806,
          119.40298507462686,
          120.59701492537312,
          121.79104477611939,
          122.98507462686567,
          124.17910447761193,
          125.37313432835819,
          126.56716417910447,
          127.76119402985074,
          128.955223880597,
          130.14925373134326,
          131.34328358208955,
          132.53731343283582,
          133.73134328358208,
          134.92537313432834,
          136.1194029850746,
          137.3134328358209,
          138.50746268656715,
          139.7014925373134,
          140.8955223880597,
          142.08955223880596,
          143.28358208955223,
          144.4776119402985,
          145.67164179104475,
          146.86567164179104,
          148.0597014925373,
          149.25373134328356,
          150.44776119402985,
          151.6417910447761,
          152.83582089552237,
          154.02985074626864,
          155.2238805970149,
          156.4179104477612,
          157.61194029850745,
          158.8059701492537,
          160
         ],
         "xaxis": "x",
         "y": [
          0,
          0.0170697043881839,
          0.034133909000315446,
          0.05119261383639464,
          0.06824581889642146,
          0.08529352418039594,
          0.10233572968831806,
          0.11937243542018783,
          0.13640364137600522,
          0.15342934755577028,
          0.17044955395948297,
          0.1874642605871433,
          0.20447346743875128,
          0.2214771745143069,
          0.23847538181381017,
          0.25546808933726106,
          0.27245529708465965,
          0.28943700505600584,
          0.30641321325129967,
          0.32338392167054114,
          0.34034913031373026,
          0.35730883918086703,
          0.37426304827195145,
          0.3912117575869835,
          0.40815496712596316,
          0.4250926768888906,
          0.4420248868757655,
          0.45895159708658817,
          0.4758728075213584,
          0.49278851818007635,
          0.5096987290627419,
          0.5266034401693551,
          0.543502651499916,
          0.5603963630544244,
          0.5772845748328806,
          0.5941672868352844,
          0.6110444990616357,
          0.6279162115119348,
          0.6447824241861816,
          0.6616431370843759,
          0.6784983502065179,
          0.6953480635526075,
          0.7121922771226449,
          0.7290309909166297,
          0.7458642049345623,
          0.7626919191764425,
          0.7795141336422703,
          0.7963308483320459,
          0.813142063245769,
          0.8299477783834398,
          0.8467479937450582,
          0.8635427093306244,
          0.880331925140138,
          0.8971156411735993,
          0.9138938574310084,
          0.9306665739123651,
          0.9474337906176693,
          0.9641955075469211,
          0.9809517247001208,
          0.9977024420772681,
          1.014447659678363,
          1.0311873775034053,
          1.0479215955523955,
          1.0646503138253334,
          1.0813735323222189,
          1.0980912510430518,
          1.1148034699878326,
          1.131510189156561,
          1.1482114085492368,
          1.1649071281658605,
          1.181597348006432,
          1.198282068070951,
          1.2149612883594174,
          1.2316350088718315,
          1.2483032296081935,
          1.2649659505685031,
          1.2816231717527602,
          1.2982748931609647,
          1.3149211147931175,
          1.3315618366492177,
          1.348197058729265,
          1.3648267810332604,
          1.3814510035612038,
          1.3980697263130943,
          1.4146829492889326,
          1.4312906724887184,
          1.4478928959124522,
          1.4644896195601336,
          1.4810808434317622,
          1.4976665675273386,
          1.5142467918468627,
          1.530821516390335,
          1.547390741157754,
          1.5639544661491211,
          1.5805126913644358,
          1.5970654168036986,
          1.6136126424669084,
          1.630154368354066,
          1.6466905944651713,
          1.6632213208002242,
          1.679746547359225,
          1.696266274142173,
          1.7127805011490689,
          1.7292892283799126,
          1.7457924558347038,
          1.7622901835134424,
          1.778782411416129,
          1.7952691395427631,
          1.8117503678933449,
          1.8282260964678743,
          1.8446963252663515,
          1.861161054288776,
          1.877620283535148,
          1.894074013005468,
          1.9105222426997357,
          1.9269649726179512,
          1.9434022027601139,
          1.9598339331262244,
          1.9762601637162829,
          1.9926808945302885,
          2.009096125568242,
          2.0255058568301427,
          2.0419100883159915,
          2.0583088200257884,
          2.074702051959532,
          2.091089784117224,
          2.1074720164988636,
          2.12384874910445,
          2.140219981933985,
          2.1565857149874668,
          2.1729459482648967,
          2.189300681766275,
          2.2056499154915996,
          2.2219936494408725,
          2.238331883614093
         ],
         "yaxis": "y"
        },
        {
         "customdata": [
          "quadratic model"
         ],
         "hoverinfo": "skip",
         "hovertemplate": "Signal: %{y:.2f}",
         "marker": {
          "color": "#EF553B"
         },
         "mode": "markers",
         "name": "Residuals",
         "type": "scatter",
         "visible": false,
         "x": [
          0,
          0,
          0,
          20,
          20,
          20,
          40,
          40,
          40,
          60,
          60,
          60,
          80,
          80,
          80,
          100,
          100,
          100,
          120,
          120,
          120,
          140,
          140,
          140,
          160,
          160,
          160
         ],
         "xaxis": "x2",
         "y": [
          -0.023015429423407584,
          -0.01573009573796011,
          -0.0036488297695662078,
          0.016052404968154577,
          0.01322229717412049,
          0.026538019756821518,
          -0.013522015330221016,
          -0.01972465588488237,
          0.010573540031217799,
          0.025784160527427935,
          0.0037337788947766626,
          0.024829465661164396,
          -0.03994178368784951,
          -0.017468456462103044,
          0.006360911298219918,
          0.011122479241875372,
          -0.02830893143084401,
          0.01987691031753136,
          0.002842126695289604,
          -0.04982789898362805,
          -0.00802507422629084,
          0.06999599291914449,
          0.006789083462215295,
          -0.004965077489750724,
          0.022645501668425716,
          -0.026065397186012085,
          -0.016009924878853887
         ],
         "yaxis": "y2"
        },
        {
         "customdata": [
          "quadratic model"
         ],
         "hovertemplate": "Signal: %{y:.2f}",
         "line": {
          "color": "grey",
          "dash": "dash",
          "width": 2
         },
         "showlegend": false,
         "type": "scatter",
         "visible": true,
         "x": [
          0,
          0,
          0,
          20,
          20,
          20,
          40,
          40,
          40,
          60,
          60,
          60,
          80,
          80,
          80,
          100,
          100,
          100,
          120,
          120,
          120,
          140,
          140,
          140,
          160,
          160,
          160
         ],
         "xaxis": "x2",
         "y": [
          0,
          0,
          0,
          0,
          0,
          0,
          0,
          0,
          0,
          0,
          0,
          0,
          0,
          0,
          0,
          0,
          0,
          0,
          0,
          0,
          0,
          0,
          0,
          0,
          0,
          0,
          0
         ],
         "yaxis": "y2"
        },
        {
         "customdata": [
          "cubic model"
         ],
         "hovertemplate": "Signal: %{y:.2f}",
         "marker": {
          "color": "#00CC96"
         },
         "mode": "lines",
         "name": "cubic model",
         "type": "scatter",
         "visible": false,
         "x": [
          0,
          1.1940298507462686,
          2.388059701492537,
          3.5820895522388057,
          4.776119402985074,
          5.970149253731343,
          7.164179104477611,
          8.35820895522388,
          9.552238805970148,
          10.746268656716417,
          11.940298507462686,
          13.134328358208954,
          14.328358208955223,
          15.522388059701491,
          16.71641791044776,
          17.91044776119403,
          19.104477611940297,
          20.298507462686565,
          21.492537313432834,
          22.686567164179102,
          23.88059701492537,
          25.07462686567164,
          26.268656716417908,
          27.462686567164177,
          28.656716417910445,
          29.850746268656714,
          31.044776119402982,
          32.23880597014925,
          33.43283582089552,
          34.62686567164179,
          35.82089552238806,
          37.014925373134325,
          38.208955223880594,
          39.40298507462686,
          40.59701492537313,
          41.7910447761194,
          42.98507462686567,
          44.179104477611936,
          45.373134328358205,
          46.56716417910447,
          47.76119402985074,
          48.95522388059701,
          50.14925373134328,
          51.34328358208955,
          52.537313432835816,
          53.731343283582085,
          54.92537313432835,
          56.11940298507462,
          57.31343283582089,
          58.50746268656716,
          59.70149253731343,
          60.895522388059696,
          62.089552238805965,
          63.28358208955223,
          64.4776119402985,
          65.67164179104478,
          66.86567164179104,
          68.0597014925373,
          69.25373134328358,
          70.44776119402985,
          71.64179104477611,
          72.83582089552237,
          74.02985074626865,
          75.22388059701493,
          76.41791044776119,
          77.61194029850745,
          78.80597014925372,
          80,
          81.19402985074626,
          82.38805970149252,
          83.5820895522388,
          84.77611940298507,
          85.97014925373134,
          87.1641791044776,
          88.35820895522387,
          89.55223880597015,
          90.74626865671641,
          91.94029850746267,
          93.13432835820895,
          94.32835820895522,
          95.52238805970148,
          96.71641791044775,
          97.91044776119402,
          99.1044776119403,
          100.29850746268656,
          101.49253731343282,
          102.6865671641791,
          103.88059701492537,
          105.07462686567163,
          106.2686567164179,
          107.46268656716417,
          108.65671641791045,
          109.8507462686567,
          111.04477611940297,
          112.23880597014924,
          113.43283582089552,
          114.62686567164178,
          115.82089552238804,
          117.01492537313432,
          118.2089552238806,
          119.40298507462686,
          120.59701492537312,
          121.79104477611939,
          122.98507462686567,
          124.17910447761193,
          125.37313432835819,
          126.56716417910447,
          127.76119402985074,
          128.955223880597,
          130.14925373134326,
          131.34328358208955,
          132.53731343283582,
          133.73134328358208,
          134.92537313432834,
          136.1194029850746,
          137.3134328358209,
          138.50746268656715,
          139.7014925373134,
          140.8955223880597,
          142.08955223880596,
          143.28358208955223,
          144.4776119402985,
          145.67164179104475,
          146.86567164179104,
          148.0597014925373,
          149.25373134328356,
          150.44776119402985,
          151.6417910447761,
          152.83582089552237,
          154.02985074626864,
          155.2238805970149,
          156.4179104477612,
          157.61194029850745,
          158.8059701492537,
          160
         ],
         "xaxis": "x",
         "y": [
          0,
          0.017430766759291998,
          0.03483881824359563,
          0.052224433484789584,
          0.06958789151475255,
          0.08692947136536316,
          0.10424945206850014,
          0.12154811265604216,
          0.1388257321598679,
          0.156082589611856,
          0.1733189640438852,
          0.19053513448783413,
          0.2077313799755815,
          0.224907979539006,
          0.24206521220998625,
          0.259203357020401,
          0.27632269300212886,
          0.2934234991870486,
          0.31050605460703873,
          0.32757063829397814,
          0.34461752927974537,
          0.3616470065962192,
          0.3786593492752782,
          0.3956548363488011,
          0.4126337468486666,
          0.4295963598067533,
          0.44654295425494,
          0.4634738092251053,
          0.48038920374912786,
          0.4972894168588864,
          0.5141747275862596,
          0.5310454149631262,
          0.5479017580213646,
          0.5647440357928539,
          0.5815725273094725,
          0.5983875116030992,
          0.6151892677056126,
          0.6319780746488913,
          0.6487542114648142,
          0.6655179571852599,
          0.6822695908421069,
          0.6990093914672341,
          0.71573763809252,
          0.7324546097498434,
          0.7491605854710831,
          0.7658558442881175,
          0.7825406652328255,
          0.7992153273370857,
          0.8158801096327768,
          0.8325352911517773,
          0.8491811509259661,
          0.8658179679872219,
          0.8824460213674231,
          0.8990655900984488,
          0.9156769532121773,
          0.9322803897404875,
          0.948876178715258,
          0.9654645991683672,
          0.9820459301316945,
          0.998620450637118,
          1.0151884397165165,
          1.0317501764017685,
          1.0483059397247534,
          1.0648560087173489,
          1.0814006624114343,
          1.097940179838888,
          1.114474840031589,
          1.1310049220214156,
          1.1475307048402468,
          1.1640524675199606,
          1.180570489092437,
          1.1970850485895534,
          1.2135964250431892,
          1.2301048974852227,
          1.2466107449475328,
          1.2631142464619982,
          1.279615681060497,
          1.296115327774909,
          1.3126134656371118,
          1.3291103736789849,
          1.3456063309324064,
          1.362101616429255,
          1.3785965092014099,
          1.3950912882807494,
          1.411586232699152,
          1.4280816214884966,
          1.444577733680662,
          1.4610748483075269,
          1.4775732444009695,
          1.494073200992869,
          1.510574997115104,
          1.527078911799553,
          1.5435852240780945,
          1.5600942129826076,
          1.5766061575449708,
          1.5931213367970631,
          1.6096400297707625,
          1.626162515497948,
          1.6426890730104984,
          1.6592199813402926,
          1.6757555195192086,
          1.6922959665791255,
          1.708841601551922,
          1.725392703469477,
          1.7419495513636687,
          1.7585124242663757,
          1.7750816012094774,
          1.7916573612248519,
          1.8082399833443776,
          1.824829746599934,
          1.8414269300233996,
          1.8580318126466524,
          1.8746446735015716,
          1.891265791620036,
          1.9078954460339237,
          1.9245339157751145,
          1.9411814798754856,
          1.9578384173669168,
          1.9745050072812864,
          1.991181528650473,
          2.0078682605063554,
          2.024565481880812,
          2.041273471805722,
          2.057992509312964,
          2.074722873434416,
          2.0914648432019574,
          2.108218697647467,
          2.1249847158028223,
          2.1417631766999032,
          2.158554359370588,
          2.1753585428467552,
          2.1921760061602837,
          2.2090070283430525,
          2.2258518884269396,
          2.242710865443824
         ],
         "yaxis": "y"
        },
        {
         "customdata": [
          "cubic model"
         ],
         "hoverinfo": "skip",
         "hovertemplate": "Signal: %{y:.2f}",
         "marker": {
          "color": "#00CC96"
         },
         "mode": "markers",
         "name": "Residuals",
         "type": "scatter",
         "visible": false,
         "x": [
          0,
          0,
          0,
          20,
          20,
          20,
          40,
          40,
          40,
          60,
          60,
          60,
          80,
          80,
          80,
          100,
          100,
          100,
          120,
          120,
          120,
          140,
          140,
          140,
          160,
          160,
          160
         ],
         "xaxis": "x2",
         "y": [
          -0.023015429423407584,
          -0.01573009573796011,
          -0.0036488297695662078,
          0.012094479085615228,
          0.009264371291581142,
          0.02258009387428217,
          -0.017840846308091574,
          -0.024043486862752927,
          0.0062547090533472405,
          0.023390156726947775,
          0.0013397750942965025,
          0.022435461860684236,
          -0.03943651655270397,
          -0.016963189326957506,
          0.006866178433365455,
          0.014190172556394876,
          -0.025241238116324505,
          0.022944603632050864,
          0.006824112918445424,
          -0.04584591276047223,
          -0.00404308800313502,
          0.07193285026571239,
          0.008725940808783195,
          -0.003028220143182825,
          0.018266519838694872,
          -0.03044437901574293,
          -0.02038890670858473
         ],
         "yaxis": "y2"
        },
        {
         "customdata": [
          "cubic model"
         ],
         "hovertemplate": "Signal: %{y:.2f}",
         "line": {
          "color": "grey",
          "dash": "dash",
          "width": 2
         },
         "showlegend": false,
         "type": "scatter",
         "visible": true,
         "x": [
          0,
          0,
          0,
          20,
          20,
          20,
          40,
          40,
          40,
          60,
          60,
          60,
          80,
          80,
          80,
          100,
          100,
          100,
          120,
          120,
          120,
          140,
          140,
          140,
          160,
          160,
          160
         ],
         "xaxis": "x2",
         "y": [
          0,
          0,
          0,
          0,
          0,
          0,
          0,
          0,
          0,
          0,
          0,
          0,
          0,
          0,
          0,
          0,
          0,
          0,
          0,
          0,
          0,
          0,
          0,
          0,
          0,
          0,
          0
         ],
         "yaxis": "y2"
        },
        {
         "customdata": [
          "exponential model"
         ],
         "hovertemplate": "Signal: %{y:.2f}",
         "marker": {
          "color": "#AB63FA"
         },
         "mode": "lines",
         "name": "exponential model",
         "type": "scatter",
         "visible": false,
         "x": [
          0,
          1.1940298507462686,
          2.388059701492537,
          3.5820895522388057,
          4.776119402985074,
          5.970149253731343,
          7.164179104477611,
          8.35820895522388,
          9.552238805970148,
          10.746268656716417,
          11.940298507462686,
          13.134328358208954,
          14.328358208955223,
          15.522388059701491,
          16.71641791044776,
          17.91044776119403,
          19.104477611940297,
          20.298507462686565,
          21.492537313432834,
          22.686567164179102,
          23.88059701492537,
          25.07462686567164,
          26.268656716417908,
          27.462686567164177,
          28.656716417910445,
          29.850746268656714,
          31.044776119402982,
          32.23880597014925,
          33.43283582089552,
          34.62686567164179,
          35.82089552238806,
          37.014925373134325,
          38.208955223880594,
          39.40298507462686,
          40.59701492537313,
          41.7910447761194,
          42.98507462686567,
          44.179104477611936,
          45.373134328358205,
          46.56716417910447,
          47.76119402985074,
          48.95522388059701,
          50.14925373134328,
          51.34328358208955,
          52.537313432835816,
          53.731343283582085,
          54.92537313432835,
          56.11940298507462,
          57.31343283582089,
          58.50746268656716,
          59.70149253731343,
          60.895522388059696,
          62.089552238805965,
          63.28358208955223,
          64.4776119402985,
          65.67164179104478,
          66.86567164179104,
          68.0597014925373,
          69.25373134328358,
          70.44776119402985,
          71.64179104477611,
          72.83582089552237,
          74.02985074626865,
          75.22388059701493,
          76.41791044776119,
          77.61194029850745,
          78.80597014925372,
          80,
          81.19402985074626,
          82.38805970149252,
          83.5820895522388,
          84.77611940298507,
          85.97014925373134,
          87.1641791044776,
          88.35820895522387,
          89.55223880597015,
          90.74626865671641,
          91.94029850746267,
          93.13432835820895,
          94.32835820895522,
          95.52238805970148,
          96.71641791044775,
          97.91044776119402,
          99.1044776119403,
          100.29850746268656,
          101.49253731343282,
          102.6865671641791,
          103.88059701492537,
          105.07462686567163,
          106.2686567164179,
          107.46268656716417,
          108.65671641791045,
          109.8507462686567,
          111.04477611940297,
          112.23880597014924,
          113.43283582089552,
          114.62686567164178,
          115.82089552238804,
          117.01492537313432,
          118.2089552238806,
          119.40298507462686,
          120.59701492537312,
          121.79104477611939,
          122.98507462686567,
          124.17910447761193,
          125.37313432835819,
          126.56716417910447,
          127.76119402985074,
          128.955223880597,
          130.14925373134326,
          131.34328358208955,
          132.53731343283582,
          133.73134328358208,
          134.92537313432834,
          136.1194029850746,
          137.3134328358209,
          138.50746268656715,
          139.7014925373134,
          140.8955223880597,
          142.08955223880596,
          143.28358208955223,
          144.4776119402985,
          145.67164179104475,
          146.86567164179104,
          148.0597014925373,
          149.25373134328356,
          150.44776119402985,
          151.6417910447761,
          152.83582089552237,
          154.02985074626864,
          155.2238805970149,
          156.4179104477612,
          157.61194029850745,
          158.8059701492537,
          160
         ],
         "xaxis": "x",
         "y": [
          0.3911019460050958,
          0.39646415592569795,
          0.40189988451713854,
          0.40741013975841156,
          0.41299594344842433,
          0.41865833139547576,
          0.42439835360933176,
          0.4302170744959355,
          0.43611557305478554,
          0.4420949430790222,
          0.4481562933582547,
          0.45430074788417163,
          0.4605294460589686,
          0.46684354290663466,
          0.4732442092871348,
          0.4797326321135299,
          0.4863100145720724,
          0.49297757634532063,
          0.4997365538383112,
          0.5065882004078337,
          0.5135337865948466,
          0.5205746003600826,
          0.5277119473228818,
          0.5349471510033007,
          0.54228155306754,
          0.5497165135767378,
          0.5572534112391739,
          0.5648936436659314,
          0.572638627630064,
          0.580489799329317,
          0.5884486146524487,
          0.596516549449206,
          0.6046950998039982,
          0.6129857823133259,
          0.6213901343670122,
          0.629909714433289,
          0.6385461023477942,
          0.6473008996065287,
          0.6561757296628324,
          0.6651722382284292,
          0.674292093578602,
          0.6835369868615511,
          0.6929086324119921,
          0.7024087680690569,
          0.7120391554985502,
          0.721801580519626,
          0.7316978534359417,
          0.7417298093713551,
          0.75189930861022,
          0.7622082369423514,
          0.7726585060127172,
          0.783252053675927,
          0.7939908443555785,
          0.804876869408533,
          0.8159121474941844,
          0.8270987249487904,
          0.8384386761649371,
          0.8499341039762053,
          0.8615871400471123,
          0.8733999452683979,
          0.8853747101577307,
          0.8975136552659101,
          0.9098190315886352,
          0.9222931209839197,
          0.9349382365952305,
          0.947756723280428,
          0.9607509580465868,
          0.9739233504907766,
          0.9872763432468895,
          1.0008124124385913,
          1.0145340681384845,
          1.028443854833563,
          1.0425443518970552,
          1.0568381740667288,
          1.0713279719297593,
          1.0860164324142427,
          1.1009062792874482,
          1.1160002736609034,
          1.1313012145024028,
          1.146811939155036,
          1.162535323863334,
          1.1784742843066276,
          1.1946317761397192,
          1.2110107955409666,
          1.2276143797678818,
          1.2444456077203487,
          1.2615076005115606,
          1.278803522046786,
          1.2963365796100712,
          1.3141100244589856,
          1.33212715242752,
          1.350391304537255,
          1.3689058676169032,
          1.3876742749303514,
          1.4067000068133093,
          1.4259865913186884,
          1.4455376048708304,
          1.465356672928704,
          1.4854474706581953,
          1.5058137236136155,
          1.5264592084285504,
          1.547387753516187,
          1.568603239779236,
          1.5901096013295912,
          1.6119108262178536,
          1.6340109571728623,
          1.6564140923513584,
          1.6791243860979306,
          1.7021460497153802,
          1.725483352245648,
          1.749140621261449,
          1.7731222436687537,
          1.7974326665202858,
          1.8220763978401595,
          1.8470580074598322,
          1.8723821278655122,
          1.8980534550571897,
          1.924076749419443,
          1.9504568366041866,
          1.9771986084255135,
          2.0043070237668217,
          2.031787109500363,
          2.0596439614194084,
          2.087882745183189,
          2.116508697274794,
          2.145527125972205,
          2.1749434123326403,
          2.2047630111903924,
          2.2349914521683565,
          2.2656343407034134,
          2.296697359085885,
          2.3281862675132317,
          2.360106905158196,
          2.392465191251602,
          2.42526712617999
         ],
         "yaxis": "y"
        },
        {
         "customdata": [
          "exponential model"
         ],
         "hoverinfo": "skip",
         "hovertemplate": "Signal: %{y:.2f}",
         "marker": {
          "color": "#AB63FA"
         },
         "mode": "markers",
         "name": "Residuals",
         "type": "scatter",
         "visible": false,
         "x": [
          0,
          0,
          0,
          20,
          20,
          20,
          40,
          40,
          40,
          60,
          60,
          60,
          80,
          80,
          80,
          100,
          100,
          100,
          120,
          120,
          120,
          140,
          140,
          140,
          160,
          160,
          160
         ],
         "xaxis": "x2",
         "y": [
          -0.41411737542850335,
          -0.40683204174305587,
          -0.394750775774662,
          -0.1900576656279543,
          -0.19288777342198837,
          -0.17957205083928734,
          -0.06185451165481437,
          -0.06805715220947572,
          -0.037758956293375556,
          0.10143796449089504,
          0.07938758285824377,
          0.1004832696246315,
          0.11764505497793498,
          0.14011838220368145,
          0.1639477499640044,
          0.19821037529244356,
          0.15877896461972418,
          0.20696480636809955,
          0.15396136779752445,
          0.1012913421186068,
          0.143094166875944,
          0.10329886735722127,
          0.040091957900292075,
          0.028337796948326055,
          -0.16428974089747106,
          -0.21300063975190886,
          -0.20294516744475066
         ],
         "yaxis": "y2"
        },
        {
         "customdata": [
          "exponential model"
         ],
         "hovertemplate": "Signal: %{y:.2f}",
         "line": {
          "color": "grey",
          "dash": "dash",
          "width": 2
         },
         "showlegend": false,
         "type": "scatter",
         "visible": true,
         "x": [
          0,
          0,
          0,
          20,
          20,
          20,
          40,
          40,
          40,
          60,
          60,
          60,
          80,
          80,
          80,
          100,
          100,
          100,
          120,
          120,
          120,
          140,
          140,
          140,
          160,
          160,
          160
         ],
         "xaxis": "x2",
         "y": [
          0,
          0,
          0,
          0,
          0,
          0,
          0,
          0,
          0,
          0,
          0,
          0,
          0,
          0,
          0,
          0,
          0,
          0,
          0,
          0,
          0,
          0,
          0,
          0,
          0,
          0,
          0
         ],
         "yaxis": "y2"
        }
       ],
       "layout": {
        "annotations": [
         {
          "font": {
           "size": 16
          },
          "showarrow": false,
          "text": "Standard",
          "x": 0.2125,
          "xanchor": "center",
          "xref": "paper",
          "y": 1,
          "yanchor": "bottom",
          "yref": "paper"
         },
         {
          "font": {
           "size": 16
          },
          "showarrow": false,
          "text": "Model Residuals",
          "x": 0.7875,
          "xanchor": "center",
          "xref": "paper",
          "y": 1,
          "yanchor": "bottom",
          "yref": "paper"
         },
         {
          "font": {
           "size": 16
          },
          "showarrow": false,
          "text": "ABTS / µmol L<sup>-1</sup>",
          "x": 0.5,
          "xanchor": "center",
          "xref": "paper",
          "y": 0,
          "yanchor": "top",
          "yref": "paper",
          "yshift": -30
         }
        ],
        "margin": {
         "b": 60,
         "l": 20,
         "r": 20,
         "t": 100
        },
        "template": {
         "data": {
          "bar": [
           {
            "error_x": {
             "color": "rgb(36,36,36)"
            },
            "error_y": {
             "color": "rgb(36,36,36)"
            },
            "marker": {
             "line": {
              "color": "white",
              "width": 0.5
             },
             "pattern": {
              "fillmode": "overlay",
              "size": 10,
              "solidity": 0.2
             }
            },
            "type": "bar"
           }
          ],
          "barpolar": [
           {
            "marker": {
             "line": {
              "color": "white",
              "width": 0.5
             },
             "pattern": {
              "fillmode": "overlay",
              "size": 10,
              "solidity": 0.2
             }
            },
            "type": "barpolar"
           }
          ],
          "carpet": [
           {
            "aaxis": {
             "endlinecolor": "rgb(36,36,36)",
             "gridcolor": "white",
             "linecolor": "white",
             "minorgridcolor": "white",
             "startlinecolor": "rgb(36,36,36)"
            },
            "baxis": {
             "endlinecolor": "rgb(36,36,36)",
             "gridcolor": "white",
             "linecolor": "white",
             "minorgridcolor": "white",
             "startlinecolor": "rgb(36,36,36)"
            },
            "type": "carpet"
           }
          ],
          "choropleth": [
           {
            "colorbar": {
             "outlinewidth": 1,
             "tickcolor": "rgb(36,36,36)",
             "ticks": "outside"
            },
            "type": "choropleth"
           }
          ],
          "contour": [
           {
            "colorbar": {
             "outlinewidth": 1,
             "tickcolor": "rgb(36,36,36)",
             "ticks": "outside"
            },
            "colorscale": [
             [
              0,
              "#440154"
             ],
             [
              0.1111111111111111,
              "#482878"
             ],
             [
              0.2222222222222222,
              "#3e4989"
             ],
             [
              0.3333333333333333,
              "#31688e"
             ],
             [
              0.4444444444444444,
              "#26828e"
             ],
             [
              0.5555555555555556,
              "#1f9e89"
             ],
             [
              0.6666666666666666,
              "#35b779"
             ],
             [
              0.7777777777777778,
              "#6ece58"
             ],
             [
              0.8888888888888888,
              "#b5de2b"
             ],
             [
              1,
              "#fde725"
             ]
            ],
            "type": "contour"
           }
          ],
          "contourcarpet": [
           {
            "colorbar": {
             "outlinewidth": 1,
             "tickcolor": "rgb(36,36,36)",
             "ticks": "outside"
            },
            "type": "contourcarpet"
           }
          ],
          "heatmap": [
           {
            "colorbar": {
             "outlinewidth": 1,
             "tickcolor": "rgb(36,36,36)",
             "ticks": "outside"
            },
            "colorscale": [
             [
              0,
              "#440154"
             ],
             [
              0.1111111111111111,
              "#482878"
             ],
             [
              0.2222222222222222,
              "#3e4989"
             ],
             [
              0.3333333333333333,
              "#31688e"
             ],
             [
              0.4444444444444444,
              "#26828e"
             ],
             [
              0.5555555555555556,
              "#1f9e89"
             ],
             [
              0.6666666666666666,
              "#35b779"
             ],
             [
              0.7777777777777778,
              "#6ece58"
             ],
             [
              0.8888888888888888,
              "#b5de2b"
             ],
             [
              1,
              "#fde725"
             ]
            ],
            "type": "heatmap"
           }
          ],
          "heatmapgl": [
           {
            "colorbar": {
             "outlinewidth": 1,
             "tickcolor": "rgb(36,36,36)",
             "ticks": "outside"
            },
            "colorscale": [
             [
              0,
              "#440154"
             ],
             [
              0.1111111111111111,
              "#482878"
             ],
             [
              0.2222222222222222,
              "#3e4989"
             ],
             [
              0.3333333333333333,
              "#31688e"
             ],
             [
              0.4444444444444444,
              "#26828e"
             ],
             [
              0.5555555555555556,
              "#1f9e89"
             ],
             [
              0.6666666666666666,
              "#35b779"
             ],
             [
              0.7777777777777778,
              "#6ece58"
             ],
             [
              0.8888888888888888,
              "#b5de2b"
             ],
             [
              1,
              "#fde725"
             ]
            ],
            "type": "heatmapgl"
           }
          ],
          "histogram": [
           {
            "marker": {
             "line": {
              "color": "white",
              "width": 0.6
             }
            },
            "type": "histogram"
           }
          ],
          "histogram2d": [
           {
            "colorbar": {
             "outlinewidth": 1,
             "tickcolor": "rgb(36,36,36)",
             "ticks": "outside"
            },
            "colorscale": [
             [
              0,
              "#440154"
             ],
             [
              0.1111111111111111,
              "#482878"
             ],
             [
              0.2222222222222222,
              "#3e4989"
             ],
             [
              0.3333333333333333,
              "#31688e"
             ],
             [
              0.4444444444444444,
              "#26828e"
             ],
             [
              0.5555555555555556,
              "#1f9e89"
             ],
             [
              0.6666666666666666,
              "#35b779"
             ],
             [
              0.7777777777777778,
              "#6ece58"
             ],
             [
              0.8888888888888888,
              "#b5de2b"
             ],
             [
              1,
              "#fde725"
             ]
            ],
            "type": "histogram2d"
           }
          ],
          "histogram2dcontour": [
           {
            "colorbar": {
             "outlinewidth": 1,
             "tickcolor": "rgb(36,36,36)",
             "ticks": "outside"
            },
            "colorscale": [
             [
              0,
              "#440154"
             ],
             [
              0.1111111111111111,
              "#482878"
             ],
             [
              0.2222222222222222,
              "#3e4989"
             ],
             [
              0.3333333333333333,
              "#31688e"
             ],
             [
              0.4444444444444444,
              "#26828e"
             ],
             [
              0.5555555555555556,
              "#1f9e89"
             ],
             [
              0.6666666666666666,
              "#35b779"
             ],
             [
              0.7777777777777778,
              "#6ece58"
             ],
             [
              0.8888888888888888,
              "#b5de2b"
             ],
             [
              1,
              "#fde725"
             ]
            ],
            "type": "histogram2dcontour"
           }
          ],
          "mesh3d": [
           {
            "colorbar": {
             "outlinewidth": 1,
             "tickcolor": "rgb(36,36,36)",
             "ticks": "outside"
            },
            "type": "mesh3d"
           }
          ],
          "parcoords": [
           {
            "line": {
             "colorbar": {
              "outlinewidth": 1,
              "tickcolor": "rgb(36,36,36)",
              "ticks": "outside"
             }
            },
            "type": "parcoords"
           }
          ],
          "pie": [
           {
            "automargin": true,
            "type": "pie"
           }
          ],
          "scatter": [
           {
            "fillpattern": {
             "fillmode": "overlay",
             "size": 10,
             "solidity": 0.2
            },
            "type": "scatter"
           }
          ],
          "scatter3d": [
           {
            "line": {
             "colorbar": {
              "outlinewidth": 1,
              "tickcolor": "rgb(36,36,36)",
              "ticks": "outside"
             }
            },
            "marker": {
             "colorbar": {
              "outlinewidth": 1,
              "tickcolor": "rgb(36,36,36)",
              "ticks": "outside"
             }
            },
            "type": "scatter3d"
           }
          ],
          "scattercarpet": [
           {
            "marker": {
             "colorbar": {
              "outlinewidth": 1,
              "tickcolor": "rgb(36,36,36)",
              "ticks": "outside"
             }
            },
            "type": "scattercarpet"
           }
          ],
          "scattergeo": [
           {
            "marker": {
             "colorbar": {
              "outlinewidth": 1,
              "tickcolor": "rgb(36,36,36)",
              "ticks": "outside"
             }
            },
            "type": "scattergeo"
           }
          ],
          "scattergl": [
           {
            "marker": {
             "colorbar": {
              "outlinewidth": 1,
              "tickcolor": "rgb(36,36,36)",
              "ticks": "outside"
             }
            },
            "type": "scattergl"
           }
          ],
          "scattermapbox": [
           {
            "marker": {
             "colorbar": {
              "outlinewidth": 1,
              "tickcolor": "rgb(36,36,36)",
              "ticks": "outside"
             }
            },
            "type": "scattermapbox"
           }
          ],
          "scatterpolar": [
           {
            "marker": {
             "colorbar": {
              "outlinewidth": 1,
              "tickcolor": "rgb(36,36,36)",
              "ticks": "outside"
             }
            },
            "type": "scatterpolar"
           }
          ],
          "scatterpolargl": [
           {
            "marker": {
             "colorbar": {
              "outlinewidth": 1,
              "tickcolor": "rgb(36,36,36)",
              "ticks": "outside"
             }
            },
            "type": "scatterpolargl"
           }
          ],
          "scatterternary": [
           {
            "marker": {
             "colorbar": {
              "outlinewidth": 1,
              "tickcolor": "rgb(36,36,36)",
              "ticks": "outside"
             }
            },
            "type": "scatterternary"
           }
          ],
          "surface": [
           {
            "colorbar": {
             "outlinewidth": 1,
             "tickcolor": "rgb(36,36,36)",
             "ticks": "outside"
            },
            "colorscale": [
             [
              0,
              "#440154"
             ],
             [
              0.1111111111111111,
              "#482878"
             ],
             [
              0.2222222222222222,
              "#3e4989"
             ],
             [
              0.3333333333333333,
              "#31688e"
             ],
             [
              0.4444444444444444,
              "#26828e"
             ],
             [
              0.5555555555555556,
              "#1f9e89"
             ],
             [
              0.6666666666666666,
              "#35b779"
             ],
             [
              0.7777777777777778,
              "#6ece58"
             ],
             [
              0.8888888888888888,
              "#b5de2b"
             ],
             [
              1,
              "#fde725"
             ]
            ],
            "type": "surface"
           }
          ],
          "table": [
           {
            "cells": {
             "fill": {
              "color": "rgb(237,237,237)"
             },
             "line": {
              "color": "white"
             }
            },
            "header": {
             "fill": {
              "color": "rgb(217,217,217)"
             },
             "line": {
              "color": "white"
             }
            },
            "type": "table"
           }
          ]
         },
         "layout": {
          "annotationdefaults": {
           "arrowhead": 0,
           "arrowwidth": 1
          },
          "autotypenumbers": "strict",
          "coloraxis": {
           "colorbar": {
            "outlinewidth": 1,
            "tickcolor": "rgb(36,36,36)",
            "ticks": "outside"
           }
          },
          "colorscale": {
           "diverging": [
            [
             0,
             "rgb(103,0,31)"
            ],
            [
             0.1,
             "rgb(178,24,43)"
            ],
            [
             0.2,
             "rgb(214,96,77)"
            ],
            [
             0.3,
             "rgb(244,165,130)"
            ],
            [
             0.4,
             "rgb(253,219,199)"
            ],
            [
             0.5,
             "rgb(247,247,247)"
            ],
            [
             0.6,
             "rgb(209,229,240)"
            ],
            [
             0.7,
             "rgb(146,197,222)"
            ],
            [
             0.8,
             "rgb(67,147,195)"
            ],
            [
             0.9,
             "rgb(33,102,172)"
            ],
            [
             1,
             "rgb(5,48,97)"
            ]
           ],
           "sequential": [
            [
             0,
             "#440154"
            ],
            [
             0.1111111111111111,
             "#482878"
            ],
            [
             0.2222222222222222,
             "#3e4989"
            ],
            [
             0.3333333333333333,
             "#31688e"
            ],
            [
             0.4444444444444444,
             "#26828e"
            ],
            [
             0.5555555555555556,
             "#1f9e89"
            ],
            [
             0.6666666666666666,
             "#35b779"
            ],
            [
             0.7777777777777778,
             "#6ece58"
            ],
            [
             0.8888888888888888,
             "#b5de2b"
            ],
            [
             1,
             "#fde725"
            ]
           ],
           "sequentialminus": [
            [
             0,
             "#440154"
            ],
            [
             0.1111111111111111,
             "#482878"
            ],
            [
             0.2222222222222222,
             "#3e4989"
            ],
            [
             0.3333333333333333,
             "#31688e"
            ],
            [
             0.4444444444444444,
             "#26828e"
            ],
            [
             0.5555555555555556,
             "#1f9e89"
            ],
            [
             0.6666666666666666,
             "#35b779"
            ],
            [
             0.7777777777777778,
             "#6ece58"
            ],
            [
             0.8888888888888888,
             "#b5de2b"
            ],
            [
             1,
             "#fde725"
            ]
           ]
          },
          "colorway": [
           "#1F77B4",
           "#FF7F0E",
           "#2CA02C",
           "#D62728",
           "#9467BD",
           "#8C564B",
           "#E377C2",
           "#7F7F7F",
           "#BCBD22",
           "#17BECF"
          ],
          "font": {
           "color": "rgb(36,36,36)"
          },
          "geo": {
           "bgcolor": "white",
           "lakecolor": "white",
           "landcolor": "white",
           "showlakes": true,
           "showland": true,
           "subunitcolor": "white"
          },
          "hoverlabel": {
           "align": "left"
          },
          "hovermode": "closest",
          "mapbox": {
           "style": "light"
          },
          "paper_bgcolor": "white",
          "plot_bgcolor": "white",
          "polar": {
           "angularaxis": {
            "gridcolor": "rgb(232,232,232)",
            "linecolor": "rgb(36,36,36)",
            "showgrid": false,
            "showline": true,
            "ticks": "outside"
           },
           "bgcolor": "white",
           "radialaxis": {
            "gridcolor": "rgb(232,232,232)",
            "linecolor": "rgb(36,36,36)",
            "showgrid": false,
            "showline": true,
            "ticks": "outside"
           }
          },
          "scene": {
           "xaxis": {
            "backgroundcolor": "white",
            "gridcolor": "rgb(232,232,232)",
            "gridwidth": 2,
            "linecolor": "rgb(36,36,36)",
            "showbackground": true,
            "showgrid": false,
            "showline": true,
            "ticks": "outside",
            "zeroline": false,
            "zerolinecolor": "rgb(36,36,36)"
           },
           "yaxis": {
            "backgroundcolor": "white",
            "gridcolor": "rgb(232,232,232)",
            "gridwidth": 2,
            "linecolor": "rgb(36,36,36)",
            "showbackground": true,
            "showgrid": false,
            "showline": true,
            "ticks": "outside",
            "zeroline": false,
            "zerolinecolor": "rgb(36,36,36)"
           },
           "zaxis": {
            "backgroundcolor": "white",
            "gridcolor": "rgb(232,232,232)",
            "gridwidth": 2,
            "linecolor": "rgb(36,36,36)",
            "showbackground": true,
            "showgrid": false,
            "showline": true,
            "ticks": "outside",
            "zeroline": false,
            "zerolinecolor": "rgb(36,36,36)"
           }
          },
          "shapedefaults": {
           "fillcolor": "black",
           "line": {
            "width": 0
           },
           "opacity": 0.3
          },
          "ternary": {
           "aaxis": {
            "gridcolor": "rgb(232,232,232)",
            "linecolor": "rgb(36,36,36)",
            "showgrid": false,
            "showline": true,
            "ticks": "outside"
           },
           "baxis": {
            "gridcolor": "rgb(232,232,232)",
            "linecolor": "rgb(36,36,36)",
            "showgrid": false,
            "showline": true,
            "ticks": "outside"
           },
           "bgcolor": "white",
           "caxis": {
            "gridcolor": "rgb(232,232,232)",
            "linecolor": "rgb(36,36,36)",
            "showgrid": false,
            "showline": true,
            "ticks": "outside"
           }
          },
          "title": {
           "x": 0.05
          },
          "xaxis": {
           "automargin": true,
           "gridcolor": "rgb(232,232,232)",
           "linecolor": "rgb(36,36,36)",
           "showgrid": false,
           "showline": true,
           "ticks": "outside",
           "title": {
            "standoff": 15
           },
           "zeroline": false,
           "zerolinecolor": "rgb(36,36,36)"
          },
          "yaxis": {
           "automargin": true,
           "gridcolor": "rgb(232,232,232)",
           "linecolor": "rgb(36,36,36)",
           "showgrid": false,
           "showline": true,
           "ticks": "outside",
           "title": {
            "standoff": 15
           },
           "zeroline": false,
           "zerolinecolor": "rgb(36,36,36)"
          }
         }
        },
        "updatemenus": [
         {
          "active": 0,
          "buttons": [
           {
            "args": [
             {
              "visible": [
               true,
               true,
               true,
               true,
               true,
               true,
               true,
               true,
               true,
               true,
               true,
               true,
               true,
               true,
               true,
               true,
               true,
               true,
               true,
               true,
               true,
               true,
               true,
               true,
               true,
               true,
               true,
               true,
               true,
               true,
               true,
               true,
               true,
               false,
               false,
               false,
               false,
               false,
               false,
               false,
               false,
               false,
               false,
               false,
               false
              ]
             }
            ],
            "label": "ABTS standard",
            "method": "update"
           },
           {
            "args": [
             {
              "title": "linear model",
              "visible": [
               true,
               true,
               true,
               true,
               true,
               true,
               true,
               true,
               true,
               true,
               true,
               true,
               true,
               true,
               true,
               true,
               true,
               true,
               true,
               true,
               true,
               true,
               true,
               true,
               true,
               true,
               true,
               true,
               true,
               true,
               true,
               true,
               true,
               true,
               true,
               true,
               false,
               false,
               false,
               false,
               false,
               false,
               false,
               false,
               false
              ]
             }
            ],
            "label": "linear model",
            "method": "update"
           },
           {
            "args": [
             {
              "title": "quadratic model",
              "visible": [
               true,
               true,
               true,
               true,
               true,
               true,
               true,
               true,
               true,
               true,
               true,
               true,
               true,
               true,
               true,
               true,
               true,
               true,
               true,
               true,
               true,
               true,
               true,
               true,
               true,
               true,
               true,
               true,
               true,
               true,
               true,
               true,
               true,
               false,
               false,
               false,
               true,
               true,
               true,
               false,
               false,
               false,
               false,
               false,
               false
              ]
             }
            ],
            "label": "quadratic model",
            "method": "update"
           },
           {
            "args": [
             {
              "title": "cubic model",
              "visible": [
               true,
               true,
               true,
               true,
               true,
               true,
               true,
               true,
               true,
               true,
               true,
               true,
               true,
               true,
               true,
               true,
               true,
               true,
               true,
               true,
               true,
               true,
               true,
               true,
               true,
               true,
               true,
               true,
               true,
               true,
               true,
               true,
               true,
               false,
               false,
               false,
               false,
               false,
               false,
               true,
               true,
               true,
               false,
               false,
               false
              ]
             }
            ],
            "label": "cubic model",
            "method": "update"
           },
           {
            "args": [
             {
              "title": "exponential model",
              "visible": [
               true,
               true,
               true,
               true,
               true,
               true,
               true,
               true,
               true,
               true,
               true,
               true,
               true,
               true,
               true,
               true,
               true,
               true,
               true,
               true,
               true,
               true,
               true,
               true,
               true,
               true,
               true,
               true,
               true,
               true,
               true,
               true,
               true,
               false,
               false,
               false,
               false,
               false,
               false,
               false,
               false,
               false,
               true,
               true,
               true
              ]
             }
            ],
            "label": "exponential model",
            "method": "update"
           },
           {
            "args": [
             {
              "visible": [
               true,
               true,
               true,
               true,
               true,
               true,
               true,
               true,
               true,
               true,
               true,
               true,
               true,
               true,
               true,
               true,
               true,
               true,
               true,
               true,
               true,
               true,
               true,
               true,
               true,
               true,
               true,
               true,
               true,
               true,
               true,
               true,
               true,
               true,
               true,
               true,
               true,
               true,
               true,
               true,
               true,
               true,
               true,
               true,
               true
              ]
             }
            ],
            "label": "all",
            "method": "update"
           }
          ],
          "direction": "right",
          "type": "buttons",
          "x": 0,
          "xanchor": "left",
          "y": 1.2,
          "yanchor": "top"
         }
        ],
        "xaxis": {
         "anchor": "y",
         "domain": [
          0,
          0.425
         ]
        },
        "xaxis2": {
         "anchor": "y2",
         "domain": [
          0.575,
          1
         ]
        },
        "yaxis": {
         "anchor": "x",
         "domain": [
          0,
          1
         ],
         "title": {
          "text": "E<sub>340 nm <sub>"
         }
        },
        "yaxis2": {
         "anchor": "x2",
         "domain": [
          0,
          1
         ],
         "title": {
          "text": "Residuals E<sub>340 nm <sub>"
         }
        }
       }
      }
     },
     "metadata": {},
     "output_type": "display_data"
    }
   ],
   "source": [
    "# Visualize the models\n",
    "calibrator.visualize()"
   ]
  },
  {
   "cell_type": "markdown",
   "metadata": {},
   "source": [
    "## Save model to `Standard`\n",
    "\n",
    "After assessing different models, the best model can be saved to the `Standard` object."
   ]
  },
  {
   "cell_type": "code",
   "execution_count": null,
   "metadata": {},
   "outputs": [
    {
     "name": "stdout",
     "output_type": "stream",
     "text": [
      "\u001b[4mCalibrationModel\u001b[0m\n",
      "├── \u001b[94mid\u001b[0m = calibrationmodel1\n",
      "├── \u001b[94mname\u001b[0m = linear\n",
      "├── \u001b[94mequation\u001b[0m = a * concentration = signal\n",
      "├── \u001b[94mparameters\u001b[0m\n",
      "│   └── 0\n",
      "│       └── \u001b[4mParameter\u001b[0m\n",
      "│           ├── \u001b[94mid\u001b[0m = parameter0\n",
      "│           ├── \u001b[94mname\u001b[0m = a\n",
      "│           ├── \u001b[94mvalue\u001b[0m = 0.014053110840428804\n",
      "│           ├── \u001b[94minit_value\u001b[0m = 0.1\n",
      "│           ├── \u001b[94mstandard_error\u001b[0m = 5.1837684365924884e-05\n",
      "│           ├── \u001b[94mlower_bound\u001b[0m = -inf\n",
      "│           └── \u001b[94mupper_bound\u001b[0m = inf\n",
      "├── \u001b[94mwas_fitted\u001b[0m = True\n",
      "├── \u001b[94mcalibration_range\u001b[0m\n",
      "│   └── \u001b[4mCalibrationRange\u001b[0m\n",
      "│       ├── \u001b[94mid\u001b[0m = calibrationrange4\n",
      "│       ├── \u001b[94mconc_lower\u001b[0m = 0.0\n",
      "│       ├── \u001b[94mconc_upper\u001b[0m = 160.0\n",
      "│       ├── \u001b[94msignal_lower\u001b[0m = -0.023015429423407584\n",
      "│       └── \u001b[94msignal_upper\u001b[0m = 2.260977385282519\n",
      "└── \u001b[94mstatistics\u001b[0m\n",
      "    └── \u001b[4mFitStatistics\u001b[0m\n",
      "        ├── \u001b[94mid\u001b[0m = fitstatistics4\n",
      "        ├── \u001b[94maic\u001b[0m = -196.83690594773665\n",
      "        ├── \u001b[94mbic\u001b[0m = -195.54106908173233\n",
      "        ├── \u001b[94mr2\u001b[0m = 0.9987888099324782\n",
      "        └── \u001b[94mrmsd\u001b[0m = 0.02516842805363828\n",
      "\n"
     ]
    }
   ],
   "source": [
    "linear = calibrator.get_model(\"linear\")\n",
    "print(linear)"
   ]
  },
  {
   "cell_type": "code",
   "execution_count": null,
   "metadata": {},
   "outputs": [],
   "source": [
    "standard = calibrator.save_model(linear)"
   ]
  },
  {
   "cell_type": "markdown",
   "metadata": {},
   "source": [
    "## Calculate concentrations\n",
    "\n",
    "Models can be used to calculate concentrations of unknown signals. "
   ]
  },
  {
   "cell_type": "code",
   "execution_count": null,
   "metadata": {},
   "outputs": [
    {
     "data": {
      "text/plain": [
       "[71.15862184215769, 7.115862184215769, 158.96836119538025]"
      ]
     },
     "execution_count": 11,
     "metadata": {},
     "output_type": "execute_result"
    }
   ],
   "source": [
    "linear.calculate([1, 0.1, 2.234])"
   ]
  },
  {
   "cell_type": "markdown",
   "metadata": {},
   "source": [
    "If the signal is out of calibration bonds, the calculate method returns `float('nan')` values for the respective signals."
   ]
  },
  {
   "cell_type": "code",
   "execution_count": null,
   "metadata": {},
   "outputs": [
    {
     "data": {
      "text/plain": [
       "[71.15862184215769, nan, nan, 35.57931092107884]"
      ]
     },
     "execution_count": 12,
     "metadata": {},
     "output_type": "execute_result"
    }
   ],
   "source": [
    "linear.calculate([1, 100, 5, 0.5])"
   ]
  },
  {
   "cell_type": "code",
   "execution_count": null,
   "metadata": {},
   "outputs": [],
   "source": [
    "standard.to_animl(\n",
    "    out_file=f\"../data/standard_{str(datetime.now().date())}.animl\")"
   ]
  }
 ],
 "metadata": {
  "kernelspec": {
   "display_name": "sdrdm_example",
   "language": "python",
   "name": "python3"
  },
  "language_info": {
   "codemirror_mode": {
    "name": "ipython",
    "version": 3
   },
   "file_extension": ".py",
   "mimetype": "text/x-python",
   "name": "python",
   "nbconvert_exporter": "python",
   "pygments_lexer": "ipython3",
   "version": "3.11.7"
  },
  "orig_nbformat": 4
 },
 "nbformat": 4,
 "nbformat_minor": 2
}
