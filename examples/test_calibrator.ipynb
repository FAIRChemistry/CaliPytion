{
 "cells": [
  {
   "cell_type": "code",
   "execution_count": 1,
   "metadata": {},
   "outputs": [],
   "source": [
    "import numpy as np\n",
    "from datetime import datetime\n",
    "\n",
    "\n",
    "from CaliPytion import Calibrator, Standard"
   ]
  },
  {
   "cell_type": "markdown",
   "metadata": {},
   "source": [
    "## Generate artificial data for a `Standard`"
   ]
  },
  {
   "cell_type": "code",
   "execution_count": 2,
   "metadata": {},
   "outputs": [],
   "source": [
    "def random(xs):\n",
    "    return xs + np.random.normal(0, 0.03, 1)\n",
    "\n",
    "\n",
    "SLOPE = 0.014\n",
    "CONC = np.linspace(0, 200, 11)\n",
    "ABSO = CONC * SLOPE"
   ]
  },
  {
   "cell_type": "code",
   "execution_count": 3,
   "metadata": {},
   "outputs": [],
   "source": [
    "# Generate standard\n",
    "standard = Standard(\n",
    "    species_id=\"s0\",\n",
    "    name=\"ABTS\",\n",
    "    wavelength=340,\n",
    "    ph=2,\n",
    "    temperature=25,\n",
    "    temperature_unit=\"C\",\n",
    "    created=datetime.now(),\n",
    ")\n",
    "\n",
    "# Add samples with noise\n",
    "for conc, abso in zip(CONC, ABSO):\n",
    "    standard.add_to_samples(\n",
    "        concentration=conc,\n",
    "        conc_unit=\"umol / l\",\n",
    "        signal=random(abso),\n",
    "    )\n",
    "    standard.add_to_samples(\n",
    "        concentration=conc,\n",
    "        conc_unit=\"umol / l\",\n",
    "        signal=random(abso),\n",
    "    )\n",
    "    standard.add_to_samples(\n",
    "        concentration=conc,\n",
    "        conc_unit=\"umol / l\",\n",
    "        signal=random(abso),\n",
    "    )"
   ]
  },
  {
   "cell_type": "markdown",
   "metadata": {},
   "source": [
    "## Initialize a `Calibrator` from a `Standard`\n",
    "\n",
    "By defining a cutoff value, samples with a higher signal than the defined cutoff are ignored for the calibration.\n",
    "For concentration calculation, the model does not extrapolate beyond the cutoff value by default."
   ]
  },
  {
   "cell_type": "code",
   "execution_count": 4,
   "metadata": {},
   "outputs": [],
   "source": [
    "# initialize calibrator\n",
    "calibrator = Calibrator.from_standard(standard, cutoff=2.5)"
   ]
  },
  {
   "cell_type": "markdown",
   "metadata": {},
   "source": [
    "CaliPytion contains predefined models, which can be used for calibration.\n",
    "Alternatively, custom models can be added. \n",
    "\n",
    "```{note}\n",
    "The equation of a model must include 'signal' and 'concentration' as variables.\n",
    "```"
   ]
  },
  {
   "cell_type": "code",
   "execution_count": 5,
   "metadata": {},
   "outputs": [],
   "source": [
    "exponential = calibrator.add_to_models(\n",
    "    name=\"exponential\",\n",
    "    equation=\"a * exp(b * concentration) = signal\",\n",
    ")"
   ]
  },
  {
   "cell_type": "markdown",
   "metadata": {},
   "source": [
    "By calling `fit_models`, all models are fitted to the data defined in `Standard`. A report, summarizing statistical parameters of each model is generated."
   ]
  },
  {
   "cell_type": "code",
   "execution_count": 6,
   "metadata": {},
   "outputs": [
    {
     "data": {
      "text/html": [
       "<style type=\"text/css\">\n",
       "#T_cf192_row0_col0, #T_cf192_row0_col2, #T_cf192_row2_col2, #T_cf192_row3_col1 {\n",
       "  background-color: #f7fbff;\n",
       "  color: #000000;\n",
       "}\n",
       "#T_cf192_row0_col1, #T_cf192_row1_col1, #T_cf192_row2_col1, #T_cf192_row3_col0, #T_cf192_row3_col2 {\n",
       "  background-color: #08306b;\n",
       "  color: #f1f1f1;\n",
       "}\n",
       "#T_cf192_row1_col0, #T_cf192_row1_col2 {\n",
       "  background-color: #f5fafe;\n",
       "  color: #000000;\n",
       "}\n",
       "#T_cf192_row2_col0 {\n",
       "  background-color: #f4f9fe;\n",
       "  color: #000000;\n",
       "}\n",
       "</style>\n",
       "<table id=\"T_cf192\">\n",
       "  <thead>\n",
       "    <tr>\n",
       "      <th class=\"blank level0\" >&nbsp;</th>\n",
       "      <th id=\"T_cf192_level0_col0\" class=\"col_heading level0 col0\" >AIC</th>\n",
       "      <th id=\"T_cf192_level0_col1\" class=\"col_heading level0 col1\" >R squared</th>\n",
       "      <th id=\"T_cf192_level0_col2\" class=\"col_heading level0 col2\" >RMSD</th>\n",
       "    </tr>\n",
       "    <tr>\n",
       "      <th class=\"index_name level0\" >Model Name</th>\n",
       "      <th class=\"blank col0\" >&nbsp;</th>\n",
       "      <th class=\"blank col1\" >&nbsp;</th>\n",
       "      <th class=\"blank col2\" >&nbsp;</th>\n",
       "    </tr>\n",
       "  </thead>\n",
       "  <tbody>\n",
       "    <tr>\n",
       "      <th id=\"T_cf192_level0_row0\" class=\"row_heading level0 row0\" >quadratic</th>\n",
       "      <td id=\"T_cf192_row0_col0\" class=\"data row0 col0\" >-195</td>\n",
       "      <td id=\"T_cf192_row0_col1\" class=\"data row0 col1\" >0.9985</td>\n",
       "      <td id=\"T_cf192_row0_col2\" class=\"data row0 col2\" >0.0288</td>\n",
       "    </tr>\n",
       "    <tr>\n",
       "      <th id=\"T_cf192_level0_row1\" class=\"row_heading level0 row1\" >linear</th>\n",
       "      <td id=\"T_cf192_row1_col0\" class=\"data row1 col0\" >-194</td>\n",
       "      <td id=\"T_cf192_row1_col1\" class=\"data row1 col1\" >0.9984</td>\n",
       "      <td id=\"T_cf192_row1_col2\" class=\"data row1 col2\" >0.0301</td>\n",
       "    </tr>\n",
       "    <tr>\n",
       "      <th id=\"T_cf192_level0_row2\" class=\"row_heading level0 row2\" >cubic</th>\n",
       "      <td id=\"T_cf192_row2_col0\" class=\"data row2 col0\" >-193</td>\n",
       "      <td id=\"T_cf192_row2_col1\" class=\"data row2 col1\" >0.9986</td>\n",
       "      <td id=\"T_cf192_row2_col2\" class=\"data row2 col2\" >0.0284</td>\n",
       "    </tr>\n",
       "    <tr>\n",
       "      <th id=\"T_cf192_level0_row3\" class=\"row_heading level0 row3\" >exponential</th>\n",
       "      <td id=\"T_cf192_row3_col0\" class=\"data row3 col0\" >-84</td>\n",
       "      <td id=\"T_cf192_row3_col1\" class=\"data row3 col1\" >0.9236</td>\n",
       "      <td id=\"T_cf192_row3_col2\" class=\"data row3 col2\" >0.2091</td>\n",
       "    </tr>\n",
       "  </tbody>\n",
       "</table>\n"
      ],
      "text/plain": [
       "<pandas.io.formats.style.Styler at 0x28aec9b90>"
      ]
     },
     "metadata": {},
     "output_type": "display_data"
    }
   ],
   "source": [
    "# Fit all defined models\n",
    "calibrator.fit_models()"
   ]
  },
  {
   "cell_type": "markdown",
   "metadata": {},
   "source": [
    "## Model visualization\n",
    "\n",
    "Models can be visualized, displaying the measured samples used for fitting of thee model, as well as the fitted model. Additionally, the residuals of the model are visualized."
   ]
  },
  {
   "cell_type": "code",
   "execution_count": 7,
   "metadata": {},
   "outputs": [
    {
     "data": {
      "application/vnd.plotly.v1+json": {
       "config": {
        "plotlyServerURL": "https://plot.ly",
        "toImageButtonOptions": {
         "filename": "ABTS_calibration_curve",
         "format": "svg",
         "scale": 1
        }
       },
       "data": [
        {
         "customdata": [
          "ABTS standard"
         ],
         "hovertemplate": "Signal: %{y:.2f}",
         "marker": {
          "color": "#000000"
         },
         "mode": "markers",
         "name": "sample0",
         "showlegend": false,
         "type": "scatter",
         "visible": true,
         "x": [
          0
         ],
         "xaxis": "x",
         "y": [
          -0.0018840127714762772
         ],
         "yaxis": "y"
        },
        {
         "customdata": [
          "ABTS standard"
         ],
         "hovertemplate": "Signal: %{y:.2f}",
         "marker": {
          "color": "#000000"
         },
         "mode": "markers",
         "name": "sample1",
         "showlegend": false,
         "type": "scatter",
         "visible": true,
         "x": [
          0
         ],
         "xaxis": "x",
         "y": [
          -0.04730702914723716
         ],
         "yaxis": "y"
        },
        {
         "customdata": [
          "ABTS standard"
         ],
         "hovertemplate": "Signal: %{y:.2f}",
         "marker": {
          "color": "#000000"
         },
         "mode": "markers",
         "name": "sample2",
         "showlegend": false,
         "type": "scatter",
         "visible": true,
         "x": [
          0
         ],
         "xaxis": "x",
         "y": [
          -0.034396972904981206
         ],
         "yaxis": "y"
        },
        {
         "customdata": [
          "ABTS standard"
         ],
         "hovertemplate": "Signal: %{y:.2f}",
         "marker": {
          "color": "#000000"
         },
         "mode": "markers",
         "name": "sample3",
         "showlegend": false,
         "type": "scatter",
         "visible": true,
         "x": [
          20
         ],
         "xaxis": "x",
         "y": [
          0.2466907414469089
         ],
         "yaxis": "y"
        },
        {
         "customdata": [
          "ABTS standard"
         ],
         "hovertemplate": "Signal: %{y:.2f}",
         "marker": {
          "color": "#000000"
         },
         "mode": "markers",
         "name": "sample4",
         "showlegend": false,
         "type": "scatter",
         "visible": true,
         "x": [
          20
         ],
         "xaxis": "x",
         "y": [
          0.32243723452276596
         ],
         "yaxis": "y"
        },
        {
         "customdata": [
          "ABTS standard"
         ],
         "hovertemplate": "Signal: %{y:.2f}",
         "marker": {
          "color": "#000000"
         },
         "mode": "markers",
         "name": "sample5",
         "showlegend": false,
         "type": "scatter",
         "visible": true,
         "x": [
          20
         ],
         "xaxis": "x",
         "y": [
          0.28704459276871697
         ],
         "yaxis": "y"
        },
        {
         "customdata": [
          "ABTS standard"
         ],
         "hovertemplate": "Signal: %{y:.2f}",
         "marker": {
          "color": "#000000"
         },
         "mode": "markers",
         "name": "sample6",
         "showlegend": false,
         "type": "scatter",
         "visible": true,
         "x": [
          40
         ],
         "xaxis": "x",
         "y": [
          0.5528070759057079
         ],
         "yaxis": "y"
        },
        {
         "customdata": [
          "ABTS standard"
         ],
         "hovertemplate": "Signal: %{y:.2f}",
         "marker": {
          "color": "#000000"
         },
         "mode": "markers",
         "name": "sample7",
         "showlegend": false,
         "type": "scatter",
         "visible": true,
         "x": [
          40
         ],
         "xaxis": "x",
         "y": [
          0.6296459103729647
         ],
         "yaxis": "y"
        },
        {
         "customdata": [
          "ABTS standard"
         ],
         "hovertemplate": "Signal: %{y:.2f}",
         "marker": {
          "color": "#000000"
         },
         "mode": "markers",
         "name": "sample8",
         "showlegend": false,
         "type": "scatter",
         "visible": true,
         "x": [
          40
         ],
         "xaxis": "x",
         "y": [
          0.588887275573002
         ],
         "yaxis": "y"
        },
        {
         "customdata": [
          "ABTS standard"
         ],
         "hovertemplate": "Signal: %{y:.2f}",
         "marker": {
          "color": "#000000"
         },
         "mode": "markers",
         "name": "sample9",
         "showlegend": false,
         "type": "scatter",
         "visible": true,
         "x": [
          60
         ],
         "xaxis": "x",
         "y": [
          0.8271606211261104
         ],
         "yaxis": "y"
        },
        {
         "customdata": [
          "ABTS standard"
         ],
         "hovertemplate": "Signal: %{y:.2f}",
         "marker": {
          "color": "#000000"
         },
         "mode": "markers",
         "name": "sample10",
         "showlegend": false,
         "type": "scatter",
         "visible": true,
         "x": [
          60
         ],
         "xaxis": "x",
         "y": [
          0.8859234739822064
         ],
         "yaxis": "y"
        },
        {
         "customdata": [
          "ABTS standard"
         ],
         "hovertemplate": "Signal: %{y:.2f}",
         "marker": {
          "color": "#000000"
         },
         "mode": "markers",
         "name": "sample11",
         "showlegend": false,
         "type": "scatter",
         "visible": true,
         "x": [
          60
         ],
         "xaxis": "x",
         "y": [
          0.8581823573240861
         ],
         "yaxis": "y"
        },
        {
         "customdata": [
          "ABTS standard"
         ],
         "hovertemplate": "Signal: %{y:.2f}",
         "marker": {
          "color": "#000000"
         },
         "mode": "markers",
         "name": "sample12",
         "showlegend": false,
         "type": "scatter",
         "visible": true,
         "x": [
          80
         ],
         "xaxis": "x",
         "y": [
          1.1029940395143605
         ],
         "yaxis": "y"
        },
        {
         "customdata": [
          "ABTS standard"
         ],
         "hovertemplate": "Signal: %{y:.2f}",
         "marker": {
          "color": "#000000"
         },
         "mode": "markers",
         "name": "sample13",
         "showlegend": false,
         "type": "scatter",
         "visible": true,
         "x": [
          80
         ],
         "xaxis": "x",
         "y": [
          1.1323515105630364
         ],
         "yaxis": "y"
        },
        {
         "customdata": [
          "ABTS standard"
         ],
         "hovertemplate": "Signal: %{y:.2f}",
         "marker": {
          "color": "#000000"
         },
         "mode": "markers",
         "name": "sample14",
         "showlegend": false,
         "type": "scatter",
         "visible": true,
         "x": [
          80
         ],
         "xaxis": "x",
         "y": [
          1.142982284257555
         ],
         "yaxis": "y"
        },
        {
         "customdata": [
          "ABTS standard"
         ],
         "hovertemplate": "Signal: %{y:.2f}",
         "marker": {
          "color": "#000000"
         },
         "mode": "markers",
         "name": "sample15",
         "showlegend": false,
         "type": "scatter",
         "visible": true,
         "x": [
          100
         ],
         "xaxis": "x",
         "y": [
          1.4033136804189923
         ],
         "yaxis": "y"
        },
        {
         "customdata": [
          "ABTS standard"
         ],
         "hovertemplate": "Signal: %{y:.2f}",
         "marker": {
          "color": "#000000"
         },
         "mode": "markers",
         "name": "sample16",
         "showlegend": false,
         "type": "scatter",
         "visible": true,
         "x": [
          100
         ],
         "xaxis": "x",
         "y": [
          1.4359895208670284
         ],
         "yaxis": "y"
        },
        {
         "customdata": [
          "ABTS standard"
         ],
         "hovertemplate": "Signal: %{y:.2f}",
         "marker": {
          "color": "#000000"
         },
         "mode": "markers",
         "name": "sample17",
         "showlegend": false,
         "type": "scatter",
         "visible": true,
         "x": [
          100
         ],
         "xaxis": "x",
         "y": [
          1.3961200459644256
         ],
         "yaxis": "y"
        },
        {
         "customdata": [
          "ABTS standard"
         ],
         "hovertemplate": "Signal: %{y:.2f}",
         "marker": {
          "color": "#000000"
         },
         "mode": "markers",
         "name": "sample18",
         "showlegend": false,
         "type": "scatter",
         "visible": true,
         "x": [
          120
         ],
         "xaxis": "x",
         "y": [
          1.6924598195999
         ],
         "yaxis": "y"
        },
        {
         "customdata": [
          "ABTS standard"
         ],
         "hovertemplate": "Signal: %{y:.2f}",
         "marker": {
          "color": "#000000"
         },
         "mode": "markers",
         "name": "sample19",
         "showlegend": false,
         "type": "scatter",
         "visible": true,
         "x": [
          120
         ],
         "xaxis": "x",
         "y": [
          1.6235994402139937
         ],
         "yaxis": "y"
        },
        {
         "customdata": [
          "ABTS standard"
         ],
         "hovertemplate": "Signal: %{y:.2f}",
         "marker": {
          "color": "#000000"
         },
         "mode": "markers",
         "name": "sample20",
         "showlegend": false,
         "type": "scatter",
         "visible": true,
         "x": [
          120
         ],
         "xaxis": "x",
         "y": [
          1.688448421966642
         ],
         "yaxis": "y"
        },
        {
         "customdata": [
          "ABTS standard"
         ],
         "hovertemplate": "Signal: %{y:.2f}",
         "marker": {
          "color": "#000000"
         },
         "mode": "markers",
         "name": "sample21",
         "showlegend": false,
         "type": "scatter",
         "visible": true,
         "x": [
          140
         ],
         "xaxis": "x",
         "y": [
          1.9168771267097964
         ],
         "yaxis": "y"
        },
        {
         "customdata": [
          "ABTS standard"
         ],
         "hovertemplate": "Signal: %{y:.2f}",
         "marker": {
          "color": "#000000"
         },
         "mode": "markers",
         "name": "sample22",
         "showlegend": false,
         "type": "scatter",
         "visible": true,
         "x": [
          140
         ],
         "xaxis": "x",
         "y": [
          1.9889763783457581
         ],
         "yaxis": "y"
        },
        {
         "customdata": [
          "ABTS standard"
         ],
         "hovertemplate": "Signal: %{y:.2f}",
         "marker": {
          "color": "#000000"
         },
         "mode": "markers",
         "name": "sample23",
         "showlegend": false,
         "type": "scatter",
         "visible": true,
         "x": [
          140
         ],
         "xaxis": "x",
         "y": [
          1.9901227128890973
         ],
         "yaxis": "y"
        },
        {
         "customdata": [
          "ABTS standard"
         ],
         "hovertemplate": "Signal: %{y:.2f}",
         "marker": {
          "color": "#000000"
         },
         "mode": "markers",
         "name": "sample24",
         "showlegend": false,
         "type": "scatter",
         "visible": true,
         "x": [
          160
         ],
         "xaxis": "x",
         "y": [
          2.254127411849243
         ],
         "yaxis": "y"
        },
        {
         "customdata": [
          "ABTS standard"
         ],
         "hovertemplate": "Signal: %{y:.2f}",
         "marker": {
          "color": "#000000"
         },
         "mode": "markers",
         "name": "sample25",
         "showlegend": false,
         "type": "scatter",
         "visible": true,
         "x": [
          160
         ],
         "xaxis": "x",
         "y": [
          2.218564469297304
         ],
         "yaxis": "y"
        },
        {
         "customdata": [
          "ABTS standard"
         ],
         "hovertemplate": "Signal: %{y:.2f}",
         "marker": {
          "color": "#000000"
         },
         "mode": "markers",
         "name": "sample26",
         "showlegend": false,
         "type": "scatter",
         "visible": true,
         "x": [
          160
         ],
         "xaxis": "x",
         "y": [
          2.2620135401242036
         ],
         "yaxis": "y"
        },
        {
         "customdata": [
          "ABTS standard"
         ],
         "hovertemplate": "Signal: %{y:.2f}",
         "marker": {
          "color": "#000000"
         },
         "mode": "markers",
         "name": "sample27",
         "showlegend": false,
         "type": "scatter",
         "visible": true,
         "x": [
          180
         ],
         "xaxis": "x",
         "y": [
          2.524286344035981
         ],
         "yaxis": "y"
        },
        {
         "customdata": [
          "ABTS standard"
         ],
         "hovertemplate": "Signal: %{y:.2f}",
         "marker": {
          "color": "#000000"
         },
         "mode": "markers",
         "name": "sample28",
         "showlegend": false,
         "type": "scatter",
         "visible": true,
         "x": [
          180
         ],
         "xaxis": "x",
         "y": [
          2.517154187611964
         ],
         "yaxis": "y"
        },
        {
         "customdata": [
          "ABTS standard"
         ],
         "hovertemplate": "Signal: %{y:.2f}",
         "marker": {
          "color": "#000000"
         },
         "mode": "markers",
         "name": "sample29",
         "showlegend": false,
         "type": "scatter",
         "visible": true,
         "x": [
          180
         ],
         "xaxis": "x",
         "y": [
          2.4977849765889673
         ],
         "yaxis": "y"
        },
        {
         "customdata": [
          "ABTS standard"
         ],
         "hovertemplate": "Signal: %{y:.2f}",
         "marker": {
          "color": "#000000"
         },
         "mode": "markers",
         "name": "sample30",
         "showlegend": false,
         "type": "scatter",
         "visible": true,
         "x": [
          200
         ],
         "xaxis": "x",
         "y": [
          2.776145621746288
         ],
         "yaxis": "y"
        },
        {
         "customdata": [
          "ABTS standard"
         ],
         "hovertemplate": "Signal: %{y:.2f}",
         "marker": {
          "color": "#000000"
         },
         "mode": "markers",
         "name": "sample31",
         "showlegend": false,
         "type": "scatter",
         "visible": true,
         "x": [
          200
         ],
         "xaxis": "x",
         "y": [
          2.8020340213745105
         ],
         "yaxis": "y"
        },
        {
         "customdata": [
          "ABTS standard"
         ],
         "hovertemplate": "Signal: %{y:.2f}",
         "marker": {
          "color": "#000000"
         },
         "mode": "markers",
         "name": "sample32",
         "showlegend": false,
         "type": "scatter",
         "visible": true,
         "x": [
          200
         ],
         "xaxis": "x",
         "y": [
          2.8213246994133687
         ],
         "yaxis": "y"
        },
        {
         "customdata": [
          "linear model"
         ],
         "hovertemplate": "Signal: %{y:.2f}",
         "marker": {
          "color": "#636EFA"
         },
         "mode": "lines",
         "name": "linear model",
         "type": "scatter",
         "visible": false,
         "x": [
          0,
          1.2949640287769784,
          2.5899280575539567,
          3.884892086330935,
          5.179856115107913,
          6.474820143884892,
          7.76978417266187,
          9.06474820143885,
          10.359712230215827,
          11.654676258992804,
          12.949640287769784,
          14.244604316546763,
          15.53956834532374,
          16.834532374100718,
          18.1294964028777,
          19.424460431654676,
          20.719424460431654,
          22.01438848920863,
          23.30935251798561,
          24.60431654676259,
          25.899280575539567,
          27.194244604316545,
          28.489208633093526,
          29.784172661870503,
          31.07913669064748,
          32.37410071942446,
          33.669064748201436,
          34.96402877697842,
          36.2589928057554,
          37.55395683453237,
          38.84892086330935,
          40.14388489208633,
          41.43884892086331,
          42.73381294964029,
          44.02877697841726,
          45.32374100719424,
          46.61870503597122,
          47.9136690647482,
          49.20863309352518,
          50.50359712230215,
          51.798561151079134,
          53.093525179856115,
          54.38848920863309,
          55.68345323741007,
          56.97841726618705,
          58.273381294964025,
          59.568345323741006,
          60.86330935251798,
          62.15827338129496,
          63.45323741007194,
          64.74820143884892,
          66.0431654676259,
          67.33812949640287,
          68.63309352517986,
          69.92805755395683,
          71.22302158273381,
          72.5179856115108,
          73.81294964028777,
          75.10791366906474,
          76.40287769784172,
          77.6978417266187,
          78.99280575539568,
          80.28776978417265,
          81.58273381294964,
          82.87769784172662,
          84.17266187050359,
          85.46762589928058,
          86.76258992805755,
          88.05755395683452,
          89.35251798561151,
          90.64748201438849,
          91.94244604316546,
          93.23741007194243,
          94.53237410071942,
          95.8273381294964,
          97.12230215827337,
          98.41726618705036,
          99.71223021582733,
          101.0071942446043,
          102.3021582733813,
          103.59712230215827,
          104.89208633093524,
          106.18705035971223,
          107.4820143884892,
          108.77697841726618,
          110.07194244604317,
          111.36690647482014,
          112.66187050359711,
          113.9568345323741,
          115.25179856115108,
          116.54676258992805,
          117.84172661870502,
          119.13669064748201,
          120.43165467625899,
          121.72661870503596,
          123.02158273381295,
          124.31654676258992,
          125.6115107913669,
          126.90647482014388,
          128.20143884892084,
          129.49640287769785,
          130.79136690647482,
          132.0863309352518,
          133.38129496402877,
          134.67625899280574,
          135.97122302158272,
          137.26618705035972,
          138.5611510791367,
          139.85611510791367,
          141.15107913669064,
          142.44604316546761,
          143.7410071942446,
          145.0359712230216,
          146.33093525179856,
          147.62589928057554,
          148.9208633093525,
          150.2158273381295,
          151.51079136690646,
          152.80575539568343,
          154.10071942446044,
          155.3956834532374,
          156.69064748201438,
          157.98561151079136,
          159.28057553956833,
          160.5755395683453,
          161.8705035971223,
          163.16546762589928,
          164.46043165467626,
          165.75539568345323,
          167.0503597122302,
          168.34532374100718,
          169.64028776978415,
          170.93525179856115,
          172.23021582733813,
          173.5251798561151,
          174.82014388489208,
          176.11510791366905,
          177.41007194244602,
          178.70503597122303,
          180
         ],
         "xaxis": "x",
         "y": [
          0,
          0.018168706699679606,
          0.03633741339935921,
          0.05450612009903882,
          0.07267482679871842,
          0.09084353349839802,
          0.10901224019807763,
          0.12718094689775725,
          0.14534965359743685,
          0.16351836029711644,
          0.18168706699679604,
          0.19985577369647567,
          0.21802448039615527,
          0.23619318709583487,
          0.2543618937955145,
          0.2725306004951941,
          0.2906993071948737,
          0.30886801389455326,
          0.3270367205942329,
          0.3452054272939125,
          0.3633741339935921,
          0.3815428406932717,
          0.39971154739295134,
          0.4178802540926309,
          0.43604896079231054,
          0.45421766749199016,
          0.47238637419166973,
          0.49055508089134936,
          0.508723787591029,
          0.5268924942907085,
          0.5450612009903882,
          0.5632299076900678,
          0.5813986143897474,
          0.599567321089427,
          0.6177360277891065,
          0.6359047344887861,
          0.6540734411884658,
          0.6722421478881454,
          0.690410854587825,
          0.7085795612875045,
          0.7267482679871842,
          0.7449169746868639,
          0.7630856813865434,
          0.781254388086223,
          0.7994230947859027,
          0.8175918014855822,
          0.8357605081852618,
          0.8539292148849414,
          0.8720979215846211,
          0.8902666282843007,
          0.9084353349839803,
          0.9266040416836598,
          0.9447727483833395,
          0.9629414550830192,
          0.9811101617826987,
          0.9992788684823782,
          1.017447575182058,
          1.0356162818817376,
          1.053784988581417,
          1.0719536952810966,
          1.0901224019807765,
          1.1082911086804559,
          1.1264598153801355,
          1.1446285220798151,
          1.1627972287794948,
          1.1809659354791744,
          1.199134642178854,
          1.2173033488785336,
          1.235472055578213,
          1.253640762277893,
          1.2718094689775723,
          1.289978175677252,
          1.3081468823769316,
          1.3263155890766112,
          1.3444842957762908,
          1.3626530024759702,
          1.38082170917565,
          1.3989904158753297,
          1.417159122575009,
          1.435327829274689,
          1.4534965359743683,
          1.471665242674048,
          1.4898339493737278,
          1.5080026560734072,
          1.5261713627730868,
          1.5443400694727665,
          1.562508776172446,
          1.5806774828721257,
          1.5988461895718054,
          1.617014896271485,
          1.6351836029711644,
          1.653352309670844,
          1.6715210163705236,
          1.6896897230702033,
          1.707858429769883,
          1.7260271364695625,
          1.7441958431692421,
          1.7623645498689215,
          1.7805332565686014,
          1.7987019632682808,
          1.8168706699679606,
          1.8350393766676403,
          1.8532080833673197,
          1.8713767900669993,
          1.889545496766679,
          1.9077142034663583,
          1.9258829101660384,
          1.9440516168657178,
          1.9622203235653974,
          1.980389030265077,
          1.9985577369647565,
          2.016726443664436,
          2.034895150364116,
          2.0530638570637953,
          2.071232563763475,
          2.0894012704631546,
          2.107569977162834,
          2.125738683862514,
          2.1439073905621933,
          2.162076097261873,
          2.180244803961553,
          2.1984135106612324,
          2.2165822173609118,
          2.234750924060591,
          2.252919630760271,
          2.271088337459951,
          2.2892570441596303,
          2.30742575085931,
          2.3255944575589895,
          2.343763164258669,
          2.361931870958349,
          2.380100577658028,
          2.398269284357708,
          2.4164379910573874,
          2.4346066977570673,
          2.4527754044567467,
          2.470944111156426,
          2.489112817856106,
          2.507281524555786,
          2.525450231255465
         ],
         "yaxis": "y"
        },
        {
         "customdata": [
          "linear model"
         ],
         "hoverinfo": "skip",
         "hovertemplate": "Signal: %{y:.2f}",
         "marker": {
          "color": "#636EFA"
         },
         "mode": "markers",
         "name": "Residuals",
         "type": "scatter",
         "visible": false,
         "x": [
          0,
          0,
          0,
          20,
          20,
          20,
          40,
          40,
          40,
          60,
          60,
          60,
          80,
          80,
          80,
          100,
          100,
          100,
          120,
          120,
          120,
          140,
          140,
          140,
          160,
          160,
          160,
          180
         ],
         "xaxis": "x2",
         "y": [
          0,
          0,
          0,
          -12.086302650341516,
          14.907634084013138,
          2.2946840506208863,
          -1.4974909903878533,
          12.194117374064541,
          4.931497254694685,
          -1.7410110614326502,
          5.239469345051161,
          1.944082687085288,
          -1.730924720160611,
          0.8846211750631309,
          1.831748959116748,
          0.020368387876139593,
          2.349319957720608,
          -0.4923537342217864,
          0.5242430826998737,
          -3.5657432413430756,
          0.285984716907574,
          -2.4112106717484276,
          1.2593838491969358,
          1.31774408454579,
          0.4135146654520194,
          -1.1706903953241148,
          0.7648141763087474,
          -1.0954583196337566
         ],
         "yaxis": "y2"
        },
        {
         "customdata": [
          "quadratic model"
         ],
         "hovertemplate": "Signal: %{y:.2f}",
         "marker": {
          "color": "#EF553B"
         },
         "mode": "lines",
         "name": "quadratic model",
         "type": "scatter",
         "visible": false,
         "x": [
          0,
          1.2949640287769784,
          2.5899280575539567,
          3.884892086330935,
          5.179856115107913,
          6.474820143884892,
          7.76978417266187,
          9.06474820143885,
          10.359712230215827,
          11.654676258992804,
          12.949640287769784,
          14.244604316546763,
          15.53956834532374,
          16.834532374100718,
          18.1294964028777,
          19.424460431654676,
          20.719424460431654,
          22.01438848920863,
          23.30935251798561,
          24.60431654676259,
          25.899280575539567,
          27.194244604316545,
          28.489208633093526,
          29.784172661870503,
          31.07913669064748,
          32.37410071942446,
          33.669064748201436,
          34.96402877697842,
          36.2589928057554,
          37.55395683453237,
          38.84892086330935,
          40.14388489208633,
          41.43884892086331,
          42.73381294964029,
          44.02877697841726,
          45.32374100719424,
          46.61870503597122,
          47.9136690647482,
          49.20863309352518,
          50.50359712230215,
          51.798561151079134,
          53.093525179856115,
          54.38848920863309,
          55.68345323741007,
          56.97841726618705,
          58.273381294964025,
          59.568345323741006,
          60.86330935251798,
          62.15827338129496,
          63.45323741007194,
          64.74820143884892,
          66.0431654676259,
          67.33812949640287,
          68.63309352517986,
          69.92805755395683,
          71.22302158273381,
          72.5179856115108,
          73.81294964028777,
          75.10791366906474,
          76.40287769784172,
          77.6978417266187,
          78.99280575539568,
          80.28776978417265,
          81.58273381294964,
          82.87769784172662,
          84.17266187050359,
          85.46762589928058,
          86.76258992805755,
          88.05755395683452,
          89.35251798561151,
          90.64748201438849,
          91.94244604316546,
          93.23741007194243,
          94.53237410071942,
          95.8273381294964,
          97.12230215827337,
          98.41726618705036,
          99.71223021582733,
          101.0071942446043,
          102.3021582733813,
          103.59712230215827,
          104.89208633093524,
          106.18705035971223,
          107.4820143884892,
          108.77697841726618,
          110.07194244604317,
          111.36690647482014,
          112.66187050359711,
          113.9568345323741,
          115.25179856115108,
          116.54676258992805,
          117.84172661870502,
          119.13669064748201,
          120.43165467625899,
          121.72661870503596,
          123.02158273381295,
          124.31654676258992,
          125.6115107913669,
          126.90647482014388,
          128.20143884892084,
          129.49640287769785,
          130.79136690647482,
          132.0863309352518,
          133.38129496402877,
          134.67625899280574,
          135.97122302158272,
          137.26618705035972,
          138.5611510791367,
          139.85611510791367,
          141.15107913669064,
          142.44604316546761,
          143.7410071942446,
          145.0359712230216,
          146.33093525179856,
          147.62589928057554,
          148.9208633093525,
          150.2158273381295,
          151.51079136690646,
          152.80575539568343,
          154.10071942446044,
          155.3956834532374,
          156.69064748201438,
          157.98561151079136,
          159.28057553956833,
          160.5755395683453,
          161.8705035971223,
          163.16546762589928,
          164.46043165467626,
          165.75539568345323,
          167.0503597122302,
          168.34532374100718,
          169.64028776978415,
          170.93525179856115,
          172.23021582733813,
          173.5251798561151,
          174.82014388489208,
          176.11510791366905,
          177.41007194244602,
          178.70503597122303,
          180
         ],
         "xaxis": "x",
         "y": [
          0,
          0.0185979837235812,
          0.037187541668193526,
          0.05576867383383696,
          0.07434138022051152,
          0.0929056608282172,
          0.11146151565695402,
          0.13000894470672195,
          0.14854794797752097,
          0.16707852546935112,
          0.1856006771822124,
          0.20411440311610482,
          0.22261970327102834,
          0.24111657764698294,
          0.25960502624396875,
          0.2780850490619856,
          0.2965566461010336,
          0.3150198173611127,
          0.33347456284222293,
          0.3519208825443643,
          0.3703587764675368,
          0.38878824461174033,
          0.4072092869769751,
          0.4256219035632409,
          0.44402609437053786,
          0.462421859398866,
          0.48080919864822513,
          0.4991881121186154,
          0.5175585998100369,
          0.5359206617224894,
          0.554274297855973,
          0.5726195082104878,
          0.5909562927860338,
          0.6092846515826108,
          0.6276045846002188,
          0.6459160918388582,
          0.6642191732985285,
          0.6825138289792301,
          0.7008000588809628,
          0.7190778630037264,
          0.7373472413475213,
          0.7556081939123473,
          0.7738607206982043,
          0.7921048217050927,
          0.810340496933012,
          0.8285677463819625,
          0.846786570051944,
          0.8649969679429568,
          0.8831989400550005,
          0.9013924863880756,
          0.9195776069421816,
          0.9377543017173188,
          0.955922570713487,
          0.9740824139306866,
          0.992233831368917,
          1.0103768230281787,
          1.0285113889084716,
          1.0466375290097953,
          1.0647552433321503,
          1.0828645318755363,
          1.1009653946399538,
          1.119057831625402,
          1.1371418428318816,
          1.155217428259392,
          1.1732845879079339,
          1.1913433217775067,
          1.209393629868111,
          1.2274355121797458,
          1.245468968712412,
          1.2634939994661094,
          1.281510604440838,
          1.2995187836365973,
          1.317518537053388,
          1.3355098646912098,
          1.353492766550063,
          1.3714672426299468,
          1.3894332929308622,
          1.4073909174528083,
          1.4253401161957857,
          1.4432808891597944,
          1.461213236344834,
          1.4791371577509045,
          1.4970526533780066,
          1.5149597232261396,
          1.5328583672953036,
          1.550748585585499,
          1.5686303780967252,
          1.5865037448289827,
          1.6043686857822714,
          1.6222252009565912,
          1.6400732903519417,
          1.6579129539683237,
          1.675744191805737,
          1.6935670038641812,
          1.7113813901436563,
          1.729187350644163,
          1.7469848853657004,
          1.7647739943082692,
          1.782554677471869,
          1.8003269348564996,
          1.818090766462162,
          1.8358461722888553,
          1.8535931523365792,
          1.8713317066053348,
          1.8890618350951212,
          1.9067835378059388,
          1.9244968147377877,
          1.9422016658906676,
          1.9598980912645785,
          1.9775860908595206,
          1.9952656646754936,
          2.012936812712498,
          2.0305995349705337,
          2.0482538314496,
          2.065899702149698,
          2.083537147070827,
          2.1011661662129866,
          2.1187867595761776,
          2.1363989271604,
          2.1540026689656533,
          2.1715979849919376,
          2.189184875239253,
          2.2067633397076,
          2.2243333783969774,
          2.2418949913073867,
          2.2594481784388267,
          2.276992939791298,
          2.2945292753648,
          2.3120571851593335,
          2.3295766691748976,
          2.3470877274114934,
          2.36459035986912,
          2.3820845665477783,
          2.399570347447467,
          2.4170477025681874,
          2.4345166319099385,
          2.451977135472721,
          2.469429213256534,
          2.486872865261379,
          2.5043080914872546
         ],
         "yaxis": "y"
        },
        {
         "customdata": [
          "quadratic model"
         ],
         "hoverinfo": "skip",
         "hovertemplate": "Signal: %{y:.2f}",
         "marker": {
          "color": "#EF553B"
         },
         "mode": "markers",
         "name": "Residuals",
         "type": "scatter",
         "visible": false,
         "x": [
          0,
          0,
          0,
          20,
          20,
          20,
          40,
          40,
          40,
          60,
          60,
          60,
          80,
          80,
          80,
          100,
          100,
          100,
          120,
          120,
          120,
          140,
          140,
          140,
          160,
          160,
          160,
          180
         ],
         "xaxis": "x2",
         "y": [
          0,
          0,
          0,
          -13.833581218127897,
          12.623852917223024,
          0.26158438096146247,
          -3.115153502342764,
          10.351603720730262,
          3.208254353179809,
          -3.0130489055104417,
          3.8770638374872073,
          0.624338482930659,
          -2.659008627886178,
          -0.06816476683099038,
          0.8700180459543331,
          -0.5715451531211249,
          1.7436238443059753,
          -1.0812330215792152,
          0.2863675968156866,
          -3.7939403903976987,
          0.04867303357280957,
          -2.2930599463144343,
          1.3819785625972618,
          1.4404094546700126,
          0.8968543707289587,
          -0.6949762493130263,
          1.2498448591658173,
          -0.26047573461352547
         ],
         "yaxis": "y2"
        },
        {
         "customdata": [
          "cubic model"
         ],
         "hovertemplate": "Signal: %{y:.2f}",
         "marker": {
          "color": "#00CC96"
         },
         "mode": "lines",
         "name": "cubic model",
         "type": "scatter",
         "visible": false,
         "x": [
          0,
          1.2949640287769784,
          2.5899280575539567,
          3.884892086330935,
          5.179856115107913,
          6.474820143884892,
          7.76978417266187,
          9.06474820143885,
          10.359712230215827,
          11.654676258992804,
          12.949640287769784,
          14.244604316546763,
          15.53956834532374,
          16.834532374100718,
          18.1294964028777,
          19.424460431654676,
          20.719424460431654,
          22.01438848920863,
          23.30935251798561,
          24.60431654676259,
          25.899280575539567,
          27.194244604316545,
          28.489208633093526,
          29.784172661870503,
          31.07913669064748,
          32.37410071942446,
          33.669064748201436,
          34.96402877697842,
          36.2589928057554,
          37.55395683453237,
          38.84892086330935,
          40.14388489208633,
          41.43884892086331,
          42.73381294964029,
          44.02877697841726,
          45.32374100719424,
          46.61870503597122,
          47.9136690647482,
          49.20863309352518,
          50.50359712230215,
          51.798561151079134,
          53.093525179856115,
          54.38848920863309,
          55.68345323741007,
          56.97841726618705,
          58.273381294964025,
          59.568345323741006,
          60.86330935251798,
          62.15827338129496,
          63.45323741007194,
          64.74820143884892,
          66.0431654676259,
          67.33812949640287,
          68.63309352517986,
          69.92805755395683,
          71.22302158273381,
          72.5179856115108,
          73.81294964028777,
          75.10791366906474,
          76.40287769784172,
          77.6978417266187,
          78.99280575539568,
          80.28776978417265,
          81.58273381294964,
          82.87769784172662,
          84.17266187050359,
          85.46762589928058,
          86.76258992805755,
          88.05755395683452,
          89.35251798561151,
          90.64748201438849,
          91.94244604316546,
          93.23741007194243,
          94.53237410071942,
          95.8273381294964,
          97.12230215827337,
          98.41726618705036,
          99.71223021582733,
          101.0071942446043,
          102.3021582733813,
          103.59712230215827,
          104.89208633093524,
          106.18705035971223,
          107.4820143884892,
          108.77697841726618,
          110.07194244604317,
          111.36690647482014,
          112.66187050359711,
          113.9568345323741,
          115.25179856115108,
          116.54676258992805,
          117.84172661870502,
          119.13669064748201,
          120.43165467625899,
          121.72661870503596,
          123.02158273381295,
          124.31654676258992,
          125.6115107913669,
          126.90647482014388,
          128.20143884892084,
          129.49640287769785,
          130.79136690647482,
          132.0863309352518,
          133.38129496402877,
          134.67625899280574,
          135.97122302158272,
          137.26618705035972,
          138.5611510791367,
          139.85611510791367,
          141.15107913669064,
          142.44604316546761,
          143.7410071942446,
          145.0359712230216,
          146.33093525179856,
          147.62589928057554,
          148.9208633093525,
          150.2158273381295,
          151.51079136690646,
          152.80575539568343,
          154.10071942446044,
          155.3956834532374,
          156.69064748201438,
          157.98561151079136,
          159.28057553956833,
          160.5755395683453,
          161.8705035971223,
          163.16546762589928,
          164.46043165467626,
          165.75539568345323,
          167.0503597122302,
          168.34532374100718,
          169.64028776978415,
          170.93525179856115,
          172.23021582733813,
          173.5251798561151,
          174.82014388489208,
          176.11510791366905,
          177.41007194244602,
          178.70503597122303,
          180
         ],
         "xaxis": "x",
         "y": [
          0,
          0.019132447390217217,
          0.038230623387988515,
          0.05729495434170309,
          0.07632586659975016,
          0.09532378651051891,
          0.11428914042239853,
          0.13322235468377827,
          0.15212385564304728,
          0.17099406964859476,
          0.18983342304880998,
          0.2086423421920821,
          0.22742125342680028,
          0.24617058310135378,
          0.26489075756413183,
          0.28358220316352356,
          0.30224534624791816,
          0.3208806131657049,
          0.3394884302652729,
          0.3580692238950115,
          0.37662342040330976,
          0.39515144613855696,
          0.4136537274491423,
          0.432130690683455,
          0.4505827621898841,
          0.4690103683168191,
          0.4874139354126488,
          0.5057938898257628,
          0.5241506579045502,
          0.5424846659974,
          0.5607963404527015,
          0.5790861076188439,
          0.5973543938442166,
          0.6156016254772086,
          0.6338282288662092,
          0.6520346303596074,
          0.6702212563057927,
          0.6883885330531541,
          0.7065368869500809,
          0.7246667443449621,
          0.7427785315861872,
          0.7608726750221453,
          0.7789496010012255,
          0.797009735871817,
          0.8150535059823091,
          0.8330813376810909,
          0.8510936573165518,
          0.8690908912370808,
          0.8870734657910674,
          0.9050418073269003,
          0.9229963421929691,
          0.9409374967376628,
          0.9588656973093707,
          0.9767813702564822,
          0.994684941927386,
          1.0125768386704717,
          1.0304574868341285,
          1.0483273127667454,
          1.0661867428167116,
          1.0840362033324162,
          1.1018761206622492,
          1.1197069211545987,
          1.1375290311578545,
          1.155342877020406,
          1.173148885090642,
          1.1909474817169516,
          1.2087390932477244,
          1.2265241460313494,
          1.2443030664162158,
          1.2620762807507129,
          1.2798442153832297,
          1.2976072966621552,
          1.3153659509358795,
          1.333120604552791,
          1.350871683861279,
          1.368619615209733,
          1.3863648249465421,
          1.4041077394200954,
          1.4218487849787818,
          1.4395883879709914,
          1.4573269747451125,
          1.4750649716495345,
          1.492802805032647,
          1.510540901242839,
          1.5282796866284996,
          1.546019587538018,
          1.5637610303197833,
          1.581504441322185,
          1.5992502468936125,
          1.616998873382454,
          1.6347507471371,
          1.6525062945059386,
          1.6702659418373595,
          1.6880301154797521,
          1.7057992417815053,
          1.7235737470910084,
          1.7413540577566504,
          1.7591406001268208,
          1.776933800549909,
          1.794734085374303,
          1.812541880948394,
          1.8303576136205695,
          1.8481817097392192,
          1.8660145956527328,
          1.8838566977094986,
          1.9017084422579065,
          1.9195702556463456,
          1.937442564223205,
          1.9553257943368736,
          1.9732203723357413,
          1.9911267245681967,
          2.0090452773826293,
          2.0269764571274282,
          2.0449206901509824,
          2.0628784028016818,
          2.0808500214279144,
          2.0988359723780707,
          2.116836682000539,
          2.134852576643709,
          2.15288408265597,
          2.1709316263857104,
          2.18899563418132,
          2.2070765323911883,
          2.225174747363704,
          2.2432907054472557,
          2.2614248329902344,
          2.279577556341028,
          2.2977493018480257,
          2.3159404958596173,
          2.3341515647241913,
          2.352382934790137,
          2.3706350324058443,
          2.388908283919702,
          2.407203115680099,
          2.425519954035425,
          2.443859225334068,
          2.4622213559244193,
          2.4806067721548666,
          2.4990159003737995,
          2.517449166929607
         ],
         "yaxis": "y"
        },
        {
         "customdata": [
          "cubic model"
         ],
         "hoverinfo": "skip",
         "hovertemplate": "Signal: %{y:.2f}",
         "marker": {
          "color": "#00CC96"
         },
         "mode": "markers",
         "name": "Residuals",
         "type": "scatter",
         "visible": false,
         "x": [
          0,
          0,
          0,
          20,
          20,
          20,
          40,
          40,
          40,
          60,
          60,
          60,
          80,
          80,
          80,
          100,
          100,
          100,
          120,
          120,
          120,
          140,
          140,
          140,
          160,
          160,
          160,
          180
         ],
         "xaxis": "x2",
         "y": [
          0,
          0,
          0,
          -15.482252466270285,
          10.468956487911207,
          -1.6567777118225193,
          -4.202009304663204,
          9.113677614276227,
          2.0504624574798997,
          -3.4924705650409082,
          3.363583273657525,
          0.12693664897010162,
          -2.697254784512009,
          -0.10742888946175128,
          0.8303853028041418,
          -0.3363984890144005,
          1.984245845100036,
          -0.847291760917492,
          0.6153958827465151,
          -3.4782991357780464,
          0.37692147039161017,
          -2.065912569650018,
          1.617669604184368,
          1.6762363353678633,
          0.845121190484336,
          -0.7458932449411994,
          1.1979306889321921,
          -0.7811156864240933
         ],
         "yaxis": "y2"
        },
        {
         "customdata": [
          "exponential model"
         ],
         "hovertemplate": "Signal: %{y:.2f}",
         "marker": {
          "color": "#AB63FA"
         },
         "mode": "lines",
         "name": "exponential model",
         "type": "scatter",
         "visible": false,
         "x": [
          0,
          1.2949640287769784,
          2.5899280575539567,
          3.884892086330935,
          5.179856115107913,
          6.474820143884892,
          7.76978417266187,
          9.06474820143885,
          10.359712230215827,
          11.654676258992804,
          12.949640287769784,
          14.244604316546763,
          15.53956834532374,
          16.834532374100718,
          18.1294964028777,
          19.424460431654676,
          20.719424460431654,
          22.01438848920863,
          23.30935251798561,
          24.60431654676259,
          25.899280575539567,
          27.194244604316545,
          28.489208633093526,
          29.784172661870503,
          31.07913669064748,
          32.37410071942446,
          33.669064748201436,
          34.96402877697842,
          36.2589928057554,
          37.55395683453237,
          38.84892086330935,
          40.14388489208633,
          41.43884892086331,
          42.73381294964029,
          44.02877697841726,
          45.32374100719424,
          46.61870503597122,
          47.9136690647482,
          49.20863309352518,
          50.50359712230215,
          51.798561151079134,
          53.093525179856115,
          54.38848920863309,
          55.68345323741007,
          56.97841726618705,
          58.273381294964025,
          59.568345323741006,
          60.86330935251798,
          62.15827338129496,
          63.45323741007194,
          64.74820143884892,
          66.0431654676259,
          67.33812949640287,
          68.63309352517986,
          69.92805755395683,
          71.22302158273381,
          72.5179856115108,
          73.81294964028777,
          75.10791366906474,
          76.40287769784172,
          77.6978417266187,
          78.99280575539568,
          80.28776978417265,
          81.58273381294964,
          82.87769784172662,
          84.17266187050359,
          85.46762589928058,
          86.76258992805755,
          88.05755395683452,
          89.35251798561151,
          90.64748201438849,
          91.94244604316546,
          93.23741007194243,
          94.53237410071942,
          95.8273381294964,
          97.12230215827337,
          98.41726618705036,
          99.71223021582733,
          101.0071942446043,
          102.3021582733813,
          103.59712230215827,
          104.89208633093524,
          106.18705035971223,
          107.4820143884892,
          108.77697841726618,
          110.07194244604317,
          111.36690647482014,
          112.66187050359711,
          113.9568345323741,
          115.25179856115108,
          116.54676258992805,
          117.84172661870502,
          119.13669064748201,
          120.43165467625899,
          121.72661870503596,
          123.02158273381295,
          124.31654676258992,
          125.6115107913669,
          126.90647482014388,
          128.20143884892084,
          129.49640287769785,
          130.79136690647482,
          132.0863309352518,
          133.38129496402877,
          134.67625899280574,
          135.97122302158272,
          137.26618705035972,
          138.5611510791367,
          139.85611510791367,
          141.15107913669064,
          142.44604316546761,
          143.7410071942446,
          145.0359712230216,
          146.33093525179856,
          147.62589928057554,
          148.9208633093525,
          150.2158273381295,
          151.51079136690646,
          152.80575539568343,
          154.10071942446044,
          155.3956834532374,
          156.69064748201438,
          157.98561151079136,
          159.28057553956833,
          160.5755395683453,
          161.8705035971223,
          163.16546762589928,
          164.46043165467626,
          165.75539568345323,
          167.0503597122302,
          168.34532374100718,
          169.64028776978415,
          170.93525179856115,
          172.23021582733813,
          173.5251798561151,
          174.82014388489208,
          176.11510791366905,
          177.41007194244602,
          178.70503597122303,
          180
         ],
         "xaxis": "x",
         "y": [
          0.41823899773756407,
          0.4240690205560356,
          0.4299803107031107,
          0.43597400100089023,
          0.44205124006239555,
          0.4482131925116851,
          0.45446103920703995,
          0.46079597746725903,
          0.4672192213011106,
          0.4737320016399808,
          0.4803355665737662,
          0.48703118159005343,
          0.4938201298166338,
          0.5007037122673983,
          0.5076832480916593,
          0.5147600748269495,
          0.5219355486553428,
          0.5292110446633488,
          0.5365879571054318,
          0.5440676996711996,
          0.5516517057563203,
          0.5593414287372132,
          0.5671383422495697,
          0.5750439404707568,
          0.5830597384061563,
          0.5911872721794965,
          0.5994280993272297,
          0.6077837990970146,
          0.6162559727503581,
          0.6248462438694764,
          0.633556258668434,
          0.6423876863086181,
          0.6513422192186133,
          0.6604215734185324,
          0.6696274888488695,
          0.6789617297039378,
          0.6884260847699536,
          0.6980223677678349,
          0.7077524177007768,
          0.7176180992066727,
          0.7276213029154488,
          0.7377639458113772,
          0.7480479716004426,
          0.7584753510828277,
          0.7690480825305915,
          0.7797681920706123,
          0.7906377340728685,
          0.8016587915441326,
          0.8128334765271511,
          0.8241639305053916,
          0.8356523248134295,
          0.847300861053056,
          0.8591117715151876,
          0.8710873196076538,
          0.8832298002889523,
          0.8955415405080451,
          0.9080248996502914,
          0.9206822699895905,
          0.933516077146831,
          0.9465287805547308,
          0.9597228739291532,
          0.9731008857469965,
          0.9866653797307444,
          1.000418955339769,
          1.0143642482684836,
          1.0285039309514405,
          1.0428407130754669,
          1.0573773420989425,
          1.0721166037783132,
          1.0870613227019463,
          1.1022143628314252,
          1.1175786280503908,
          1.1331570627210341,
          1.1489526522483438,
          1.1649684236522204,
          1.1812074461475663,
          1.1976728317324612,
          1.2143677357845342,
          1.2312953576656527,
          1.248458941335039,
          1.2658617759709314,
          1.283507196600914,
          1.3013985847410299,
          1.3195393690438073,
          1.3379330259553133,
          1.3565830803813734,
          1.3754931063630695,
          1.3946667277616625,
          1.4141076189530566,
          1.4338195055319451,
          1.4538061650257736,
          1.4740714276186544,
          1.4946191768853698,
          1.5154533505356107,
          1.5365779411685856,
          1.557996997038154,
          1.5797146228286167,
          1.6017349804413303,
          1.6240622897922787,
          1.646700829620765,
          1.66965493830938,
          1.6929290147153908,
          1.716527519013731,
          1.7404549735517316,
          1.7647159637157717,
          1.7893151388100075,
          1.8142572129473524,
          1.8395469659528734,
          1.8651892442797864,
          1.8911889619382103,
          1.9175511014368796,
          1.944280714737974,
          1.9713829242252623,
          1.998862923685739,
          2.0267259793049495,
          2.054977430676185,
          2.083622691823745,
          2.1126672522404664,
          2.1421166779397125,
          2.171976612522029,
          2.2022527782566645,
          2.23295097717817,
          2.264077092198285,
          2.295637088233321,
          2.3276370133472573,
          2.3600829999107797,
          2.3929812657764615,
          2.4263381154703434,
          2.460159941400109,
          2.4944532250801075,
          2.5292245383734513,
          2.564480544751431,
          2.600228000570482,
          2.6364737563669487,
          2.6732247581699076,
          2.7104880488322785,
          2.7482707693805004,
          2.786580160383012,
          2.825423563337816,
          2.864808422079379
         ],
         "yaxis": "y"
        },
        {
         "customdata": [
          "exponential model"
         ],
         "hoverinfo": "skip",
         "hovertemplate": "Signal: %{y:.2f}",
         "marker": {
          "color": "#AB63FA"
         },
         "mode": "markers",
         "name": "Residuals",
         "type": "scatter",
         "visible": false,
         "x": [
          0,
          0,
          0,
          20,
          20,
          20,
          40,
          40,
          40,
          60,
          60,
          60,
          80,
          80,
          80,
          100,
          100,
          100,
          120,
          120,
          120,
          140,
          140,
          140,
          160,
          160,
          160,
          180
         ],
         "xaxis": "x2",
         "y": [
          -100.45046319966997,
          -111.3110038526157,
          -108.2242385552398,
          -52.37050408845629,
          -37.745847884864034,
          -44.57923642565774,
          -13.812479210577841,
          -1.8326241549394606,
          -8.187256425908148,
          4.137777708239687,
          11.535896951270162,
          8.043348870356105,
          12.134507659838881,
          15.119098187300557,
          16.19986248118819,
          15.204258789871943,
          17.886763800460994,
          14.61370135648599,
          12.196627330094445,
          7.63173176548608,
          11.930703566280734,
          2.6132328386610792,
          6.472811104020715,
          6.5341760667340845,
          -2.5604621249962345,
          -4.097747315496382,
          -2.2195671557519034,
          -12.811448146470234
         ],
         "yaxis": "y2"
        }
       ],
       "layout": {
        "annotations": [
         {
          "font": {
           "size": 16
          },
          "showarrow": false,
          "text": "Standard",
          "x": 0.2125,
          "xanchor": "center",
          "xref": "paper",
          "y": 1,
          "yanchor": "bottom",
          "yref": "paper"
         },
         {
          "font": {
           "size": 16
          },
          "showarrow": false,
          "text": "Model Residuals",
          "x": 0.7875,
          "xanchor": "center",
          "xref": "paper",
          "y": 1,
          "yanchor": "bottom",
          "yref": "paper"
         },
         {
          "font": {
           "size": 16
          },
          "showarrow": false,
          "text": "ABTS / µmol L<sup>-1</sup>",
          "x": 0.5,
          "xanchor": "center",
          "xref": "paper",
          "y": 0,
          "yanchor": "top",
          "yref": "paper",
          "yshift": -30
         }
        ],
        "margin": {
         "b": 60,
         "l": 20,
         "r": 20,
         "t": 100
        },
        "template": {
         "data": {
          "bar": [
           {
            "error_x": {
             "color": "#2a3f5f"
            },
            "error_y": {
             "color": "#2a3f5f"
            },
            "marker": {
             "line": {
              "color": "#E5ECF6",
              "width": 0.5
             },
             "pattern": {
              "fillmode": "overlay",
              "size": 10,
              "solidity": 0.2
             }
            },
            "type": "bar"
           }
          ],
          "barpolar": [
           {
            "marker": {
             "line": {
              "color": "#E5ECF6",
              "width": 0.5
             },
             "pattern": {
              "fillmode": "overlay",
              "size": 10,
              "solidity": 0.2
             }
            },
            "type": "barpolar"
           }
          ],
          "carpet": [
           {
            "aaxis": {
             "endlinecolor": "#2a3f5f",
             "gridcolor": "white",
             "linecolor": "white",
             "minorgridcolor": "white",
             "startlinecolor": "#2a3f5f"
            },
            "baxis": {
             "endlinecolor": "#2a3f5f",
             "gridcolor": "white",
             "linecolor": "white",
             "minorgridcolor": "white",
             "startlinecolor": "#2a3f5f"
            },
            "type": "carpet"
           }
          ],
          "choropleth": [
           {
            "colorbar": {
             "outlinewidth": 0,
             "ticks": ""
            },
            "type": "choropleth"
           }
          ],
          "contour": [
           {
            "colorbar": {
             "outlinewidth": 0,
             "ticks": ""
            },
            "colorscale": [
             [
              0,
              "#0d0887"
             ],
             [
              0.1111111111111111,
              "#46039f"
             ],
             [
              0.2222222222222222,
              "#7201a8"
             ],
             [
              0.3333333333333333,
              "#9c179e"
             ],
             [
              0.4444444444444444,
              "#bd3786"
             ],
             [
              0.5555555555555556,
              "#d8576b"
             ],
             [
              0.6666666666666666,
              "#ed7953"
             ],
             [
              0.7777777777777778,
              "#fb9f3a"
             ],
             [
              0.8888888888888888,
              "#fdca26"
             ],
             [
              1,
              "#f0f921"
             ]
            ],
            "type": "contour"
           }
          ],
          "contourcarpet": [
           {
            "colorbar": {
             "outlinewidth": 0,
             "ticks": ""
            },
            "type": "contourcarpet"
           }
          ],
          "heatmap": [
           {
            "colorbar": {
             "outlinewidth": 0,
             "ticks": ""
            },
            "colorscale": [
             [
              0,
              "#0d0887"
             ],
             [
              0.1111111111111111,
              "#46039f"
             ],
             [
              0.2222222222222222,
              "#7201a8"
             ],
             [
              0.3333333333333333,
              "#9c179e"
             ],
             [
              0.4444444444444444,
              "#bd3786"
             ],
             [
              0.5555555555555556,
              "#d8576b"
             ],
             [
              0.6666666666666666,
              "#ed7953"
             ],
             [
              0.7777777777777778,
              "#fb9f3a"
             ],
             [
              0.8888888888888888,
              "#fdca26"
             ],
             [
              1,
              "#f0f921"
             ]
            ],
            "type": "heatmap"
           }
          ],
          "heatmapgl": [
           {
            "colorbar": {
             "outlinewidth": 0,
             "ticks": ""
            },
            "colorscale": [
             [
              0,
              "#0d0887"
             ],
             [
              0.1111111111111111,
              "#46039f"
             ],
             [
              0.2222222222222222,
              "#7201a8"
             ],
             [
              0.3333333333333333,
              "#9c179e"
             ],
             [
              0.4444444444444444,
              "#bd3786"
             ],
             [
              0.5555555555555556,
              "#d8576b"
             ],
             [
              0.6666666666666666,
              "#ed7953"
             ],
             [
              0.7777777777777778,
              "#fb9f3a"
             ],
             [
              0.8888888888888888,
              "#fdca26"
             ],
             [
              1,
              "#f0f921"
             ]
            ],
            "type": "heatmapgl"
           }
          ],
          "histogram": [
           {
            "marker": {
             "pattern": {
              "fillmode": "overlay",
              "size": 10,
              "solidity": 0.2
             }
            },
            "type": "histogram"
           }
          ],
          "histogram2d": [
           {
            "colorbar": {
             "outlinewidth": 0,
             "ticks": ""
            },
            "colorscale": [
             [
              0,
              "#0d0887"
             ],
             [
              0.1111111111111111,
              "#46039f"
             ],
             [
              0.2222222222222222,
              "#7201a8"
             ],
             [
              0.3333333333333333,
              "#9c179e"
             ],
             [
              0.4444444444444444,
              "#bd3786"
             ],
             [
              0.5555555555555556,
              "#d8576b"
             ],
             [
              0.6666666666666666,
              "#ed7953"
             ],
             [
              0.7777777777777778,
              "#fb9f3a"
             ],
             [
              0.8888888888888888,
              "#fdca26"
             ],
             [
              1,
              "#f0f921"
             ]
            ],
            "type": "histogram2d"
           }
          ],
          "histogram2dcontour": [
           {
            "colorbar": {
             "outlinewidth": 0,
             "ticks": ""
            },
            "colorscale": [
             [
              0,
              "#0d0887"
             ],
             [
              0.1111111111111111,
              "#46039f"
             ],
             [
              0.2222222222222222,
              "#7201a8"
             ],
             [
              0.3333333333333333,
              "#9c179e"
             ],
             [
              0.4444444444444444,
              "#bd3786"
             ],
             [
              0.5555555555555556,
              "#d8576b"
             ],
             [
              0.6666666666666666,
              "#ed7953"
             ],
             [
              0.7777777777777778,
              "#fb9f3a"
             ],
             [
              0.8888888888888888,
              "#fdca26"
             ],
             [
              1,
              "#f0f921"
             ]
            ],
            "type": "histogram2dcontour"
           }
          ],
          "mesh3d": [
           {
            "colorbar": {
             "outlinewidth": 0,
             "ticks": ""
            },
            "type": "mesh3d"
           }
          ],
          "parcoords": [
           {
            "line": {
             "colorbar": {
              "outlinewidth": 0,
              "ticks": ""
             }
            },
            "type": "parcoords"
           }
          ],
          "pie": [
           {
            "automargin": true,
            "type": "pie"
           }
          ],
          "scatter": [
           {
            "fillpattern": {
             "fillmode": "overlay",
             "size": 10,
             "solidity": 0.2
            },
            "type": "scatter"
           }
          ],
          "scatter3d": [
           {
            "line": {
             "colorbar": {
              "outlinewidth": 0,
              "ticks": ""
             }
            },
            "marker": {
             "colorbar": {
              "outlinewidth": 0,
              "ticks": ""
             }
            },
            "type": "scatter3d"
           }
          ],
          "scattercarpet": [
           {
            "marker": {
             "colorbar": {
              "outlinewidth": 0,
              "ticks": ""
             }
            },
            "type": "scattercarpet"
           }
          ],
          "scattergeo": [
           {
            "marker": {
             "colorbar": {
              "outlinewidth": 0,
              "ticks": ""
             }
            },
            "type": "scattergeo"
           }
          ],
          "scattergl": [
           {
            "marker": {
             "colorbar": {
              "outlinewidth": 0,
              "ticks": ""
             }
            },
            "type": "scattergl"
           }
          ],
          "scattermapbox": [
           {
            "marker": {
             "colorbar": {
              "outlinewidth": 0,
              "ticks": ""
             }
            },
            "type": "scattermapbox"
           }
          ],
          "scatterpolar": [
           {
            "marker": {
             "colorbar": {
              "outlinewidth": 0,
              "ticks": ""
             }
            },
            "type": "scatterpolar"
           }
          ],
          "scatterpolargl": [
           {
            "marker": {
             "colorbar": {
              "outlinewidth": 0,
              "ticks": ""
             }
            },
            "type": "scatterpolargl"
           }
          ],
          "scatterternary": [
           {
            "marker": {
             "colorbar": {
              "outlinewidth": 0,
              "ticks": ""
             }
            },
            "type": "scatterternary"
           }
          ],
          "surface": [
           {
            "colorbar": {
             "outlinewidth": 0,
             "ticks": ""
            },
            "colorscale": [
             [
              0,
              "#0d0887"
             ],
             [
              0.1111111111111111,
              "#46039f"
             ],
             [
              0.2222222222222222,
              "#7201a8"
             ],
             [
              0.3333333333333333,
              "#9c179e"
             ],
             [
              0.4444444444444444,
              "#bd3786"
             ],
             [
              0.5555555555555556,
              "#d8576b"
             ],
             [
              0.6666666666666666,
              "#ed7953"
             ],
             [
              0.7777777777777778,
              "#fb9f3a"
             ],
             [
              0.8888888888888888,
              "#fdca26"
             ],
             [
              1,
              "#f0f921"
             ]
            ],
            "type": "surface"
           }
          ],
          "table": [
           {
            "cells": {
             "fill": {
              "color": "#EBF0F8"
             },
             "line": {
              "color": "white"
             }
            },
            "header": {
             "fill": {
              "color": "#C8D4E3"
             },
             "line": {
              "color": "white"
             }
            },
            "type": "table"
           }
          ]
         },
         "layout": {
          "annotationdefaults": {
           "arrowcolor": "#2a3f5f",
           "arrowhead": 0,
           "arrowwidth": 1
          },
          "autotypenumbers": "strict",
          "coloraxis": {
           "colorbar": {
            "outlinewidth": 0,
            "ticks": ""
           }
          },
          "colorscale": {
           "diverging": [
            [
             0,
             "#8e0152"
            ],
            [
             0.1,
             "#c51b7d"
            ],
            [
             0.2,
             "#de77ae"
            ],
            [
             0.3,
             "#f1b6da"
            ],
            [
             0.4,
             "#fde0ef"
            ],
            [
             0.5,
             "#f7f7f7"
            ],
            [
             0.6,
             "#e6f5d0"
            ],
            [
             0.7,
             "#b8e186"
            ],
            [
             0.8,
             "#7fbc41"
            ],
            [
             0.9,
             "#4d9221"
            ],
            [
             1,
             "#276419"
            ]
           ],
           "sequential": [
            [
             0,
             "#0d0887"
            ],
            [
             0.1111111111111111,
             "#46039f"
            ],
            [
             0.2222222222222222,
             "#7201a8"
            ],
            [
             0.3333333333333333,
             "#9c179e"
            ],
            [
             0.4444444444444444,
             "#bd3786"
            ],
            [
             0.5555555555555556,
             "#d8576b"
            ],
            [
             0.6666666666666666,
             "#ed7953"
            ],
            [
             0.7777777777777778,
             "#fb9f3a"
            ],
            [
             0.8888888888888888,
             "#fdca26"
            ],
            [
             1,
             "#f0f921"
            ]
           ],
           "sequentialminus": [
            [
             0,
             "#0d0887"
            ],
            [
             0.1111111111111111,
             "#46039f"
            ],
            [
             0.2222222222222222,
             "#7201a8"
            ],
            [
             0.3333333333333333,
             "#9c179e"
            ],
            [
             0.4444444444444444,
             "#bd3786"
            ],
            [
             0.5555555555555556,
             "#d8576b"
            ],
            [
             0.6666666666666666,
             "#ed7953"
            ],
            [
             0.7777777777777778,
             "#fb9f3a"
            ],
            [
             0.8888888888888888,
             "#fdca26"
            ],
            [
             1,
             "#f0f921"
            ]
           ]
          },
          "colorway": [
           "#636efa",
           "#EF553B",
           "#00cc96",
           "#ab63fa",
           "#FFA15A",
           "#19d3f3",
           "#FF6692",
           "#B6E880",
           "#FF97FF",
           "#FECB52"
          ],
          "font": {
           "color": "#2a3f5f"
          },
          "geo": {
           "bgcolor": "white",
           "lakecolor": "white",
           "landcolor": "#E5ECF6",
           "showlakes": true,
           "showland": true,
           "subunitcolor": "white"
          },
          "hoverlabel": {
           "align": "left"
          },
          "hovermode": "closest",
          "mapbox": {
           "style": "light"
          },
          "paper_bgcolor": "white",
          "plot_bgcolor": "#E5ECF6",
          "polar": {
           "angularaxis": {
            "gridcolor": "white",
            "linecolor": "white",
            "ticks": ""
           },
           "bgcolor": "#E5ECF6",
           "radialaxis": {
            "gridcolor": "white",
            "linecolor": "white",
            "ticks": ""
           }
          },
          "scene": {
           "xaxis": {
            "backgroundcolor": "#E5ECF6",
            "gridcolor": "white",
            "gridwidth": 2,
            "linecolor": "white",
            "showbackground": true,
            "ticks": "",
            "zerolinecolor": "white"
           },
           "yaxis": {
            "backgroundcolor": "#E5ECF6",
            "gridcolor": "white",
            "gridwidth": 2,
            "linecolor": "white",
            "showbackground": true,
            "ticks": "",
            "zerolinecolor": "white"
           },
           "zaxis": {
            "backgroundcolor": "#E5ECF6",
            "gridcolor": "white",
            "gridwidth": 2,
            "linecolor": "white",
            "showbackground": true,
            "ticks": "",
            "zerolinecolor": "white"
           }
          },
          "shapedefaults": {
           "line": {
            "color": "#2a3f5f"
           }
          },
          "ternary": {
           "aaxis": {
            "gridcolor": "white",
            "linecolor": "white",
            "ticks": ""
           },
           "baxis": {
            "gridcolor": "white",
            "linecolor": "white",
            "ticks": ""
           },
           "bgcolor": "#E5ECF6",
           "caxis": {
            "gridcolor": "white",
            "linecolor": "white",
            "ticks": ""
           }
          },
          "title": {
           "x": 0.05
          },
          "xaxis": {
           "automargin": true,
           "gridcolor": "white",
           "linecolor": "white",
           "ticks": "",
           "title": {
            "standoff": 15
           },
           "zerolinecolor": "white",
           "zerolinewidth": 2
          },
          "yaxis": {
           "automargin": true,
           "gridcolor": "white",
           "linecolor": "white",
           "ticks": "",
           "title": {
            "standoff": 15
           },
           "zerolinecolor": "white",
           "zerolinewidth": 2
          }
         }
        },
        "updatemenus": [
         {
          "active": 0,
          "buttons": [
           {
            "args": [
             {
              "visible": [
               true,
               true,
               true,
               true,
               true,
               true,
               true,
               true,
               true,
               true,
               true,
               true,
               true,
               true,
               true,
               true,
               true,
               true,
               true,
               true,
               true,
               true,
               true,
               true,
               true,
               true,
               true,
               true,
               true,
               true,
               true,
               true,
               true,
               false,
               false,
               false,
               false,
               false,
               false,
               false,
               false
              ]
             }
            ],
            "label": "ABTS standard",
            "method": "update"
           },
           {
            "args": [
             {
              "title": "linear model",
              "visible": [
               true,
               true,
               true,
               true,
               true,
               true,
               true,
               true,
               true,
               true,
               true,
               true,
               true,
               true,
               true,
               true,
               true,
               true,
               true,
               true,
               true,
               true,
               true,
               true,
               true,
               true,
               true,
               true,
               true,
               true,
               true,
               true,
               true,
               true,
               true,
               false,
               false,
               false,
               false,
               false,
               false
              ]
             }
            ],
            "label": "linear model",
            "method": "update"
           },
           {
            "args": [
             {
              "title": "quadratic model",
              "visible": [
               true,
               true,
               true,
               true,
               true,
               true,
               true,
               true,
               true,
               true,
               true,
               true,
               true,
               true,
               true,
               true,
               true,
               true,
               true,
               true,
               true,
               true,
               true,
               true,
               true,
               true,
               true,
               true,
               true,
               true,
               true,
               true,
               true,
               false,
               false,
               true,
               true,
               false,
               false,
               false,
               false
              ]
             }
            ],
            "label": "quadratic model",
            "method": "update"
           },
           {
            "args": [
             {
              "title": "cubic model",
              "visible": [
               true,
               true,
               true,
               true,
               true,
               true,
               true,
               true,
               true,
               true,
               true,
               true,
               true,
               true,
               true,
               true,
               true,
               true,
               true,
               true,
               true,
               true,
               true,
               true,
               true,
               true,
               true,
               true,
               true,
               true,
               true,
               true,
               true,
               false,
               false,
               false,
               false,
               true,
               true,
               false,
               false
              ]
             }
            ],
            "label": "cubic model",
            "method": "update"
           },
           {
            "args": [
             {
              "title": "exponential model",
              "visible": [
               true,
               true,
               true,
               true,
               true,
               true,
               true,
               true,
               true,
               true,
               true,
               true,
               true,
               true,
               true,
               true,
               true,
               true,
               true,
               true,
               true,
               true,
               true,
               true,
               true,
               true,
               true,
               true,
               true,
               true,
               true,
               true,
               true,
               false,
               false,
               false,
               false,
               false,
               false,
               true,
               true
              ]
             }
            ],
            "label": "exponential model",
            "method": "update"
           },
           {
            "args": [
             {
              "visible": [
               true,
               true,
               true,
               true,
               true,
               true,
               true,
               true,
               true,
               true,
               true,
               true,
               true,
               true,
               true,
               true,
               true,
               true,
               true,
               true,
               true,
               true,
               true,
               true,
               true,
               true,
               true,
               true,
               true,
               true,
               true,
               true,
               true,
               true,
               true,
               true,
               true,
               true,
               true,
               true,
               true
              ]
             }
            ],
            "label": "all",
            "method": "update"
           }
          ],
          "direction": "right",
          "type": "buttons",
          "x": 0,
          "xanchor": "left",
          "y": 1.2,
          "yanchor": "top"
         }
        ],
        "xaxis": {
         "anchor": "y",
         "domain": [
          0,
          0.425
         ]
        },
        "xaxis2": {
         "anchor": "y2",
         "domain": [
          0.575,
          1
         ]
        },
        "yaxis": {
         "anchor": "x",
         "domain": [
          0,
          1
         ],
         "title": {
          "text": "E<sub>340 nm <sub>"
         }
        },
        "yaxis2": {
         "anchor": "x2",
         "domain": [
          0,
          1
         ],
         "title": {
          "text": "Residuals (%)"
         }
        }
       }
      }
     },
     "metadata": {},
     "output_type": "display_data"
    }
   ],
   "source": [
    "# Visualize the models\n",
    "calibrator.visualize()"
   ]
  },
  {
   "cell_type": "markdown",
   "metadata": {},
   "source": [
    "## Save model to `Standard`\n",
    "\n",
    "After assessing different models, the best model can be saved to the `Standard` object."
   ]
  },
  {
   "cell_type": "code",
   "execution_count": 8,
   "metadata": {},
   "outputs": [
    {
     "name": "stdout",
     "output_type": "stream",
     "text": [
      "\u001b[4mCalibrationModel\u001b[0m\n",
      "├── \u001b[94mid\u001b[0m = calibrationmodel1\n",
      "├── \u001b[94mname\u001b[0m = linear\n",
      "├── \u001b[94mequation\u001b[0m = a * concentration = signal\n",
      "├── \u001b[94mparameters\u001b[0m\n",
      "│   └── 0\n",
      "│       └── \u001b[4mParameter\u001b[0m\n",
      "│           ├── \u001b[94mid\u001b[0m = parameter0\n",
      "│           ├── \u001b[94mname\u001b[0m = a\n",
      "│           ├── \u001b[94mvalue\u001b[0m = 0.014030279062530362\n",
      "│           ├── \u001b[94minit_value\u001b[0m = 0.1\n",
      "│           ├── \u001b[94mstandard_error\u001b[0m = 5.8272177208505045e-05\n",
      "│           ├── \u001b[94mlower_bound\u001b[0m = -inf\n",
      "│           └── \u001b[94mupper_bound\u001b[0m = inf\n",
      "├── \u001b[94mwas_fitted\u001b[0m = True\n",
      "├── \u001b[94mcalibration_range\u001b[0m\n",
      "│   └── \u001b[4mCalibrationRange\u001b[0m\n",
      "│       ├── \u001b[94mid\u001b[0m = calibrationrange1\n",
      "│       ├── \u001b[94mconc_lower\u001b[0m = 0.0\n",
      "│       ├── \u001b[94mconc_upper\u001b[0m = 180.0\n",
      "│       ├── \u001b[94msignal_lower\u001b[0m = -0.04730702914723716\n",
      "│       └── \u001b[94msignal_upper\u001b[0m = 2.4977849765889673\n",
      "└── \u001b[94mstatistics\u001b[0m\n",
      "    └── \u001b[4mFitStatistics\u001b[0m\n",
      "        ├── \u001b[94mid\u001b[0m = fitstatistics1\n",
      "        ├── \u001b[94maic\u001b[0m = -194.1300522891733\n",
      "        ├── \u001b[94mbic\u001b[0m = -192.7978477789981\n",
      "        ├── \u001b[94mr2\u001b[0m = 0.998413963257924\n",
      "        └── \u001b[94mrmsd\u001b[0m = 0.030127335527077193\n",
      "\n",
      "\u001b[4mCalibrationModel\u001b[0m\n",
      "├── \u001b[94mid\u001b[0m = calibrationmodel1\n",
      "├── \u001b[94mname\u001b[0m = linear\n",
      "├── \u001b[94mequation\u001b[0m = a * concentration = signal\n",
      "├── \u001b[94mparameters\u001b[0m\n",
      "│   └── 0\n",
      "│       └── \u001b[4mParameter\u001b[0m\n",
      "│           ├── \u001b[94mid\u001b[0m = parameter0\n",
      "│           ├── \u001b[94mname\u001b[0m = a\n",
      "│           ├── \u001b[94mvalue\u001b[0m = 0.014030279062530362\n",
      "│           ├── \u001b[94minit_value\u001b[0m = 0.1\n",
      "│           ├── \u001b[94mstandard_error\u001b[0m = 5.8272177208505045e-05\n",
      "│           ├── \u001b[94mlower_bound\u001b[0m = -inf\n",
      "│           └── \u001b[94mupper_bound\u001b[0m = inf\n",
      "├── \u001b[94mwas_fitted\u001b[0m = True\n",
      "├── \u001b[94mcalibration_range\u001b[0m\n",
      "│   └── \u001b[4mCalibrationRange\u001b[0m\n",
      "│       ├── \u001b[94mid\u001b[0m = calibrationrange1\n",
      "│       ├── \u001b[94mconc_lower\u001b[0m = 0.0\n",
      "│       ├── \u001b[94mconc_upper\u001b[0m = 180.0\n",
      "│       ├── \u001b[94msignal_lower\u001b[0m = -0.04730702914723716\n",
      "│       └── \u001b[94msignal_upper\u001b[0m = 2.4977849765889673\n",
      "└── \u001b[94mstatistics\u001b[0m\n",
      "    └── \u001b[4mFitStatistics\u001b[0m\n",
      "        ├── \u001b[94mid\u001b[0m = fitstatistics1\n",
      "        ├── \u001b[94maic\u001b[0m = -194.1300522891733\n",
      "        ├── \u001b[94mbic\u001b[0m = -192.7978477789981\n",
      "        ├── \u001b[94mr2\u001b[0m = 0.998413963257924\n",
      "        └── \u001b[94mrmsd\u001b[0m = 0.030127335527077193\n",
      "\n"
     ]
    }
   ],
   "source": [
    "linear = calibrator.get_model(\"linear\")\n",
    "print(linear)"
   ]
  },
  {
   "cell_type": "code",
   "execution_count": 11,
   "metadata": {},
   "outputs": [],
   "source": [
    "standard = calibrator.save_model(linear)"
   ]
  },
  {
   "cell_type": "markdown",
   "metadata": {},
   "source": [
    "## Calculate concentrations\n",
    "\n",
    "Models can be used to calculate concentrations of unknown signals. "
   ]
  },
  {
   "cell_type": "code",
   "execution_count": 12,
   "metadata": {},
   "outputs": [
    {
     "data": {
      "text/plain": [
       "[71.27441981326136, 7.127441981326136, 159.22705386282587]"
      ]
     },
     "execution_count": 12,
     "metadata": {},
     "output_type": "execute_result"
    }
   ],
   "source": [
    "linear.calculate([1, 0.1, 2.234])"
   ]
  },
  {
   "cell_type": "markdown",
   "metadata": {},
   "source": [
    "If the signal is out of calibration bonds, the calculate method returns `float('nan')` values for the respective signals."
   ]
  },
  {
   "cell_type": "code",
   "execution_count": 13,
   "metadata": {},
   "outputs": [
    {
     "data": {
      "text/plain": [
       "[71.27441981326136, nan, nan, 35.63720990663068]"
      ]
     },
     "execution_count": 13,
     "metadata": {},
     "output_type": "execute_result"
    }
   ],
   "source": [
    "linear.calculate([1, 100, 5, 0.5])"
   ]
  }
 ],
 "metadata": {
  "kernelspec": {
   "display_name": "sdrdm_example",
   "language": "python",
   "name": "python3"
  },
  "language_info": {
   "codemirror_mode": {
    "name": "ipython",
    "version": 3
   },
   "file_extension": ".py",
   "mimetype": "text/x-python",
   "name": "python",
   "nbconvert_exporter": "python",
   "pygments_lexer": "ipython3",
   "version": "3.11.3"
  },
  "orig_nbformat": 4
 },
 "nbformat": 4,
 "nbformat_minor": 2
}
