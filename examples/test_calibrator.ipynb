{
 "cells": [
  {
   "cell_type": "code",
   "execution_count": 1,
   "metadata": {},
   "outputs": [],
   "source": [
    "import numpy as np\n",
    "from datetime import datetime\n",
    "\n",
    "\n",
    "from CaliPytion.core import Calibrator, Standard"
   ]
  },
  {
   "cell_type": "code",
   "execution_count": 2,
   "metadata": {},
   "outputs": [
    {
     "name": "stdout",
     "output_type": "stream",
     "text": [
      "Standard\n",
      "├── id\n",
      "├── species_id\n",
      "├── name\n",
      "├── wavelength\n",
      "├── signal_type\n",
      "├── samples\n",
      "│   └── 0\n",
      "│       ├── id\n",
      "│       ├── concentration\n",
      "│       ├── conc_unit\n",
      "│       └── signal\n",
      "├── ph\n",
      "├── temperature\n",
      "├── temperature_unit\n",
      "├── created\n",
      "└── model_result\n",
      "    ├── id\n",
      "    ├── name\n",
      "    ├── equation\n",
      "    ├── parameters\n",
      "    │   └── 0\n",
      "    │       ├── id\n",
      "    │       ├── name\n",
      "    │       ├── value\n",
      "    │       ├── init_value\n",
      "    │       ├── standard_error\n",
      "    │       ├── lower_bound\n",
      "    │       └── upper_bound\n",
      "    ├── was_fitted\n",
      "    ├── calibration_range\n",
      "    │   ├── id\n",
      "    │   ├── conc_lower\n",
      "    │   ├── conc_upper\n",
      "    │   ├── signal_lower\n",
      "    │   └── signal_upper\n",
      "    └── statistics\n",
      "        ├── id\n",
      "        ├── aic\n",
      "        ├── bic\n",
      "        ├── r2\n",
      "        └── rmsd\n",
      "\n"
     ]
    }
   ],
   "source": [
    "print(Standard)"
   ]
  },
  {
   "cell_type": "markdown",
   "metadata": {},
   "source": [
    "## Generate artificial data for a `Standard`"
   ]
  },
  {
   "cell_type": "code",
   "execution_count": 3,
   "metadata": {},
   "outputs": [],
   "source": [
    "def random(xs):\n",
    "    return xs + np.random.normal(0, 0.03, 1)\n",
    "\n",
    "\n",
    "SLOPE = 0.014\n",
    "CONC = np.linspace(0, 200, 11)\n",
    "ABSO = CONC * SLOPE"
   ]
  },
  {
   "cell_type": "code",
   "execution_count": 4,
   "metadata": {},
   "outputs": [],
   "source": [
    "# Generate standard\n",
    "standard = Standard(\n",
    "    species_id=\"s0\",\n",
    "    name=\"ABTS\",\n",
    "    wavelength=340,\n",
    "    ph=2,\n",
    "    temperature=25,\n",
    "    temperature_unit=\"C\",\n",
    "    created=datetime.now(),\n",
    ")\n",
    "\n",
    "# Add samples with noise\n",
    "for conc, abso in zip(CONC, ABSO):\n",
    "    standard.add_to_samples(\n",
    "        concentration=conc,\n",
    "        conc_unit=\"umol / l\",\n",
    "        signal=random(abso),\n",
    "    )\n",
    "    standard.add_to_samples(\n",
    "        concentration=conc,\n",
    "        conc_unit=\"umol / l\",\n",
    "        signal=random(abso),\n",
    "    )\n",
    "    standard.add_to_samples(\n",
    "        concentration=conc,\n",
    "        conc_unit=\"umol / l\",\n",
    "        signal=random(abso),\n",
    "    )"
   ]
  },
  {
   "cell_type": "markdown",
   "metadata": {},
   "source": [
    "## Initialize a `Calibrator` from a `Standard`\n",
    "\n",
    "By defining a cutoff value, samples with a higher signal than the defined cutoff are ignored for the calibration.\n",
    "For concentration calculation, the model does not extrapolate beyond the cutoff value by default."
   ]
  },
  {
   "cell_type": "code",
   "execution_count": 5,
   "metadata": {},
   "outputs": [],
   "source": [
    "# initialize calibrator\n",
    "calibrator = Calibrator.from_standard(standard, cutoff=2.5)"
   ]
  },
  {
   "cell_type": "markdown",
   "metadata": {},
   "source": [
    "CaliPytion contains predefined models, which can be used for calibration.\n",
    "Alternatively, custom models can be added. \n",
    "\n",
    "```{note}\n",
    "The equation of a model must include 'signal' and 'concentration' as variables.\n",
    "```"
   ]
  },
  {
   "cell_type": "code",
   "execution_count": 6,
   "metadata": {},
   "outputs": [],
   "source": [
    "exponential = calibrator.add_to_models(\n",
    "    name=\"exponential\",\n",
    "    equation=\"a * exp(b * concentration) = signal\",\n",
    ")"
   ]
  },
  {
   "cell_type": "markdown",
   "metadata": {},
   "source": [
    "By calling `fit_models`, all models are fitted to the data defined in `Standard`. A report, summarizing statistical parameters of each model is generated."
   ]
  },
  {
   "cell_type": "code",
   "execution_count": 7,
   "metadata": {},
   "outputs": [
    {
     "data": {
      "text/html": [
       "<style type=\"text/css\">\n",
       "#T_8b14a_row0_col0, #T_8b14a_row1_col0, #T_8b14a_row1_col2 {\n",
       "  background-color: #f7fbff;\n",
       "  color: #000000;\n",
       "  background-color: #08306b;\n",
       "  color: #f1f1f1;\n",
       "}\n",
       "#T_8b14a_row0_col1, #T_8b14a_row1_col1, #T_8b14a_row2_col1 {\n",
       "  background-color: #08306b;\n",
       "  color: #f1f1f1;\n",
       "}\n",
       "#T_8b14a_row0_col2, #T_8b14a_row2_col2 {\n",
       "  background-color: #f5fafe;\n",
       "  color: #000000;\n",
       "  background-color: #08326e;\n",
       "  color: #f1f1f1;\n",
       "}\n",
       "#T_8b14a_row2_col0 {\n",
       "  background-color: #f4f9fe;\n",
       "  color: #000000;\n",
       "  background-color: #083471;\n",
       "  color: #f1f1f1;\n",
       "}\n",
       "#T_8b14a_row3_col0, #T_8b14a_row3_col2 {\n",
       "  background-color: #08306b;\n",
       "  color: #f1f1f1;\n",
       "  background-color: #f7fbff;\n",
       "  color: #000000;\n",
       "}\n",
       "#T_8b14a_row3_col1 {\n",
       "  background-color: #f7fbff;\n",
       "  color: #000000;\n",
       "}\n",
       "</style>\n",
       "<table id=\"T_8b14a\">\n",
       "  <thead>\n",
       "    <tr>\n",
       "      <th class=\"blank level0\" >&nbsp;</th>\n",
       "      <th id=\"T_8b14a_level0_col0\" class=\"col_heading level0 col0\" >AIC</th>\n",
       "      <th id=\"T_8b14a_level0_col1\" class=\"col_heading level0 col1\" >R squared</th>\n",
       "      <th id=\"T_8b14a_level0_col2\" class=\"col_heading level0 col2\" >RMSD</th>\n",
       "    </tr>\n",
       "    <tr>\n",
       "      <th class=\"index_name level0\" >Model Name</th>\n",
       "      <th class=\"blank col0\" >&nbsp;</th>\n",
       "      <th class=\"blank col1\" >&nbsp;</th>\n",
       "      <th class=\"blank col2\" >&nbsp;</th>\n",
       "    </tr>\n",
       "  </thead>\n",
       "  <tbody>\n",
       "    <tr>\n",
       "      <th id=\"T_8b14a_level0_row0\" class=\"row_heading level0 row0\" >linear</th>\n",
       "      <td id=\"T_8b14a_row0_col0\" class=\"data row0 col0\" >-212</td>\n",
       "      <td id=\"T_8b14a_row0_col1\" class=\"data row0 col1\" >0.9988</td>\n",
       "      <td id=\"T_8b14a_row0_col2\" class=\"data row0 col2\" >0.0281</td>\n",
       "    </tr>\n",
       "    <tr>\n",
       "      <th id=\"T_8b14a_level0_row1\" class=\"row_heading level0 row1\" >cubic</th>\n",
       "      <td id=\"T_8b14a_row1_col0\" class=\"data row1 col0\" >-212</td>\n",
       "      <td id=\"T_8b14a_row1_col1\" class=\"data row1 col1\" >0.9989</td>\n",
       "      <td id=\"T_8b14a_row1_col2\" class=\"data row1 col2\" >0.0262</td>\n",
       "    </tr>\n",
       "    <tr>\n",
       "      <th id=\"T_8b14a_level0_row2\" class=\"row_heading level0 row2\" >quadratic</th>\n",
       "      <td id=\"T_8b14a_row2_col0\" class=\"data row2 col0\" >-210</td>\n",
       "      <td id=\"T_8b14a_row2_col1\" class=\"data row2 col1\" >0.9988</td>\n",
       "      <td id=\"T_8b14a_row2_col2\" class=\"data row2 col2\" >0.0280</td>\n",
       "    </tr>\n",
       "    <tr>\n",
       "      <th id=\"T_8b14a_level0_row3\" class=\"row_heading level0 row3\" >exponential</th>\n",
       "      <td id=\"T_8b14a_row3_col0\" class=\"data row3 col0\" >-88</td>\n",
       "      <td id=\"T_8b14a_row3_col1\" class=\"data row3 col1\" >0.9293</td>\n",
       "      <td id=\"T_8b14a_row3_col2\" class=\"data row3 col2\" >0.2142</td>\n",
       "    </tr>\n",
       "  </tbody>\n",
       "</table>\n"
      ],
      "text/plain": [
       "<pandas.io.formats.style.Styler at 0x157df5110>"
      ]
     },
     "metadata": {},
     "output_type": "display_data"
    }
   ],
   "source": [
    "# Fit all defined models\n",
    "calibrator.fit_models()"
   ]
  },
  {
   "cell_type": "markdown",
   "metadata": {},
   "source": [
    "## Model visualization\n",
    "\n",
    "Models can be visualized, displaying the measured samples used for fitting of thee model, as well as the fitted model. Additionally, the residuals of the model are visualized."
   ]
  },
  {
   "cell_type": "code",
   "execution_count": 8,
   "metadata": {},
   "outputs": [
    {
     "data": {
      "application/vnd.plotly.v1+json": {
       "config": {
        "plotlyServerURL": "https://plot.ly",
        "toImageButtonOptions": {
         "filename": "ABTS_calibration_curve",
         "format": "svg",
         "scale": 1
        }
       },
       "data": [
        {
         "customdata": [
          "ABTS standard"
         ],
         "hovertemplate": "Signal: %{y:.2f}",
         "marker": {
          "color": "#000000"
         },
         "mode": "markers",
         "name": "sample0",
         "showlegend": false,
         "type": "scatter",
         "visible": true,
         "x": [
          0
         ],
         "xaxis": "x",
         "y": [
          0.02350879425472881
         ],
         "yaxis": "y"
        },
        {
         "customdata": [
          "ABTS standard"
         ],
         "hovertemplate": "Signal: %{y:.2f}",
         "marker": {
          "color": "#000000"
         },
         "mode": "markers",
         "name": "sample1",
         "showlegend": false,
         "type": "scatter",
         "visible": true,
         "x": [
          0
         ],
         "xaxis": "x",
         "y": [
          -0.03469441725719837
         ],
         "yaxis": "y"
        },
        {
         "customdata": [
          "ABTS standard"
         ],
         "hovertemplate": "Signal: %{y:.2f}",
         "marker": {
          "color": "#000000"
         },
         "mode": "markers",
         "name": "sample2",
         "showlegend": false,
         "type": "scatter",
         "visible": true,
         "x": [
          0
         ],
         "xaxis": "x",
         "y": [
          0.015354991972206296
         ],
         "yaxis": "y"
        },
        {
         "customdata": [
          "ABTS standard"
         ],
         "hovertemplate": "Signal: %{y:.2f}",
         "marker": {
          "color": "#000000"
         },
         "mode": "markers",
         "name": "sample3",
         "showlegend": false,
         "type": "scatter",
         "visible": true,
         "x": [
          20
         ],
         "xaxis": "x",
         "y": [
          0.23738216698499187
         ],
         "yaxis": "y"
        },
        {
         "customdata": [
          "ABTS standard"
         ],
         "hovertemplate": "Signal: %{y:.2f}",
         "marker": {
          "color": "#000000"
         },
         "mode": "markers",
         "name": "sample4",
         "showlegend": false,
         "type": "scatter",
         "visible": true,
         "x": [
          20
         ],
         "xaxis": "x",
         "y": [
          0.23223526957039897
         ],
         "yaxis": "y"
        },
        {
         "customdata": [
          "ABTS standard"
         ],
         "hovertemplate": "Signal: %{y:.2f}",
         "marker": {
          "color": "#000000"
         },
         "mode": "markers",
         "name": "sample5",
         "showlegend": false,
         "type": "scatter",
         "visible": true,
         "x": [
          20
         ],
         "xaxis": "x",
         "y": [
          0.23059480051428363
         ],
         "yaxis": "y"
        },
        {
         "customdata": [
          "ABTS standard"
         ],
         "hovertemplate": "Signal: %{y:.2f}",
         "marker": {
          "color": "#000000"
         },
         "mode": "markers",
         "name": "sample6",
         "showlegend": false,
         "type": "scatter",
         "visible": true,
         "x": [
          40
         ],
         "xaxis": "x",
         "y": [
          0.5754866746102809
         ],
         "yaxis": "y"
        },
        {
         "customdata": [
          "ABTS standard"
         ],
         "hovertemplate": "Signal: %{y:.2f}",
         "marker": {
          "color": "#000000"
         },
         "mode": "markers",
         "name": "sample7",
         "showlegend": false,
         "type": "scatter",
         "visible": true,
         "x": [
          40
         ],
         "xaxis": "x",
         "y": [
          0.5828936668391351
         ],
         "yaxis": "y"
        },
        {
         "customdata": [
          "ABTS standard"
         ],
         "hovertemplate": "Signal: %{y:.2f}",
         "marker": {
          "color": "#000000"
         },
         "mode": "markers",
         "name": "sample8",
         "showlegend": false,
         "type": "scatter",
         "visible": true,
         "x": [
          40
         ],
         "xaxis": "x",
         "y": [
          0.5544498924491766
         ],
         "yaxis": "y"
        },
        {
         "customdata": [
          "ABTS standard"
         ],
         "hovertemplate": "Signal: %{y:.2f}",
         "marker": {
          "color": "#000000"
         },
         "mode": "markers",
         "name": "sample9",
         "showlegend": false,
         "type": "scatter",
         "visible": true,
         "x": [
          60
         ],
         "xaxis": "x",
         "y": [
          0.8684749330097387
         ],
         "yaxis": "y"
        },
        {
         "customdata": [
          "ABTS standard"
         ],
         "hovertemplate": "Signal: %{y:.2f}",
         "marker": {
          "color": "#000000"
         },
         "mode": "markers",
         "name": "sample10",
         "showlegend": false,
         "type": "scatter",
         "visible": true,
         "x": [
          60
         ],
         "xaxis": "x",
         "y": [
          0.8035866817568744
         ],
         "yaxis": "y"
        },
        {
         "customdata": [
          "ABTS standard"
         ],
         "hovertemplate": "Signal: %{y:.2f}",
         "marker": {
          "color": "#000000"
         },
         "mode": "markers",
         "name": "sample11",
         "showlegend": false,
         "type": "scatter",
         "visible": true,
         "x": [
          60
         ],
         "xaxis": "x",
         "y": [
          0.8267020523611049
         ],
         "yaxis": "y"
        },
        {
         "customdata": [
          "ABTS standard"
         ],
         "hovertemplate": "Signal: %{y:.2f}",
         "marker": {
          "color": "#000000"
         },
         "mode": "markers",
         "name": "sample12",
         "showlegend": false,
         "type": "scatter",
         "visible": true,
         "x": [
          80
         ],
         "xaxis": "x",
         "y": [
          1.052986259886406
         ],
         "yaxis": "y"
        },
        {
         "customdata": [
          "ABTS standard"
         ],
         "hovertemplate": "Signal: %{y:.2f}",
         "marker": {
          "color": "#000000"
         },
         "mode": "markers",
         "name": "sample13",
         "showlegend": false,
         "type": "scatter",
         "visible": true,
         "x": [
          80
         ],
         "xaxis": "x",
         "y": [
          1.112920169875264
         ],
         "yaxis": "y"
        },
        {
         "customdata": [
          "ABTS standard"
         ],
         "hovertemplate": "Signal: %{y:.2f}",
         "marker": {
          "color": "#000000"
         },
         "mode": "markers",
         "name": "sample14",
         "showlegend": false,
         "type": "scatter",
         "visible": true,
         "x": [
          80
         ],
         "xaxis": "x",
         "y": [
          1.150810438120253
         ],
         "yaxis": "y"
        },
        {
         "customdata": [
          "ABTS standard"
         ],
         "hovertemplate": "Signal: %{y:.2f}",
         "marker": {
          "color": "#000000"
         },
         "mode": "markers",
         "name": "sample15",
         "showlegend": false,
         "type": "scatter",
         "visible": true,
         "x": [
          100
         ],
         "xaxis": "x",
         "y": [
          1.3539385593720632
         ],
         "yaxis": "y"
        },
        {
         "customdata": [
          "ABTS standard"
         ],
         "hovertemplate": "Signal: %{y:.2f}",
         "marker": {
          "color": "#000000"
         },
         "mode": "markers",
         "name": "sample16",
         "showlegend": false,
         "type": "scatter",
         "visible": true,
         "x": [
          100
         ],
         "xaxis": "x",
         "y": [
          1.405477814998883
         ],
         "yaxis": "y"
        },
        {
         "customdata": [
          "ABTS standard"
         ],
         "hovertemplate": "Signal: %{y:.2f}",
         "marker": {
          "color": "#000000"
         },
         "mode": "markers",
         "name": "sample17",
         "showlegend": false,
         "type": "scatter",
         "visible": true,
         "x": [
          100
         ],
         "xaxis": "x",
         "y": [
          1.3926666539025483
         ],
         "yaxis": "y"
        },
        {
         "customdata": [
          "ABTS standard"
         ],
         "hovertemplate": "Signal: %{y:.2f}",
         "marker": {
          "color": "#000000"
         },
         "mode": "markers",
         "name": "sample18",
         "showlegend": false,
         "type": "scatter",
         "visible": true,
         "x": [
          120
         ],
         "xaxis": "x",
         "y": [
          1.6960144885716402
         ],
         "yaxis": "y"
        },
        {
         "customdata": [
          "ABTS standard"
         ],
         "hovertemplate": "Signal: %{y:.2f}",
         "marker": {
          "color": "#000000"
         },
         "mode": "markers",
         "name": "sample19",
         "showlegend": false,
         "type": "scatter",
         "visible": true,
         "x": [
          120
         ],
         "xaxis": "x",
         "y": [
          1.6924808386290713
         ],
         "yaxis": "y"
        },
        {
         "customdata": [
          "ABTS standard"
         ],
         "hovertemplate": "Signal: %{y:.2f}",
         "marker": {
          "color": "#000000"
         },
         "mode": "markers",
         "name": "sample20",
         "showlegend": false,
         "type": "scatter",
         "visible": true,
         "x": [
          120
         ],
         "xaxis": "x",
         "y": [
          1.6660154595205574
         ],
         "yaxis": "y"
        },
        {
         "customdata": [
          "ABTS standard"
         ],
         "hovertemplate": "Signal: %{y:.2f}",
         "marker": {
          "color": "#000000"
         },
         "mode": "markers",
         "name": "sample21",
         "showlegend": false,
         "type": "scatter",
         "visible": true,
         "x": [
          140
         ],
         "xaxis": "x",
         "y": [
          1.9370058366380924
         ],
         "yaxis": "y"
        },
        {
         "customdata": [
          "ABTS standard"
         ],
         "hovertemplate": "Signal: %{y:.2f}",
         "marker": {
          "color": "#000000"
         },
         "mode": "markers",
         "name": "sample22",
         "showlegend": false,
         "type": "scatter",
         "visible": true,
         "x": [
          140
         ],
         "xaxis": "x",
         "y": [
          1.996090655376538
         ],
         "yaxis": "y"
        },
        {
         "customdata": [
          "ABTS standard"
         ],
         "hovertemplate": "Signal: %{y:.2f}",
         "marker": {
          "color": "#000000"
         },
         "mode": "markers",
         "name": "sample23",
         "showlegend": false,
         "type": "scatter",
         "visible": true,
         "x": [
          140
         ],
         "xaxis": "x",
         "y": [
          1.9752849126515357
         ],
         "yaxis": "y"
        },
        {
         "customdata": [
          "ABTS standard"
         ],
         "hovertemplate": "Signal: %{y:.2f}",
         "marker": {
          "color": "#000000"
         },
         "mode": "markers",
         "name": "sample24",
         "showlegend": false,
         "type": "scatter",
         "visible": true,
         "x": [
          160
         ],
         "xaxis": "x",
         "y": [
          2.2502061845382086
         ],
         "yaxis": "y"
        },
        {
         "customdata": [
          "ABTS standard"
         ],
         "hovertemplate": "Signal: %{y:.2f}",
         "marker": {
          "color": "#000000"
         },
         "mode": "markers",
         "name": "sample25",
         "showlegend": false,
         "type": "scatter",
         "visible": true,
         "x": [
          160
         ],
         "xaxis": "x",
         "y": [
          2.241239442925189
         ],
         "yaxis": "y"
        },
        {
         "customdata": [
          "ABTS standard"
         ],
         "hovertemplate": "Signal: %{y:.2f}",
         "marker": {
          "color": "#000000"
         },
         "mode": "markers",
         "name": "sample26",
         "showlegend": false,
         "type": "scatter",
         "visible": true,
         "x": [
          160
         ],
         "xaxis": "x",
         "y": [
          2.22402081128993
         ],
         "yaxis": "y"
        },
        {
         "customdata": [
          "ABTS standard"
         ],
         "hovertemplate": "Signal: %{y:.2f}",
         "marker": {
          "color": "#000000"
         },
         "mode": "markers",
         "name": "sample27",
         "showlegend": false,
         "type": "scatter",
         "visible": true,
         "x": [
          180
         ],
         "xaxis": "x",
         "y": [
          2.4819659811696426
         ],
         "yaxis": "y"
        },
        {
         "customdata": [
          "ABTS standard"
         ],
         "hovertemplate": "Signal: %{y:.2f}",
         "marker": {
          "color": "#000000"
         },
         "mode": "markers",
         "name": "sample28",
         "showlegend": false,
         "type": "scatter",
         "visible": true,
         "x": [
          180
         ],
         "xaxis": "x",
         "y": [
          2.4929331030345123
         ],
         "yaxis": "y"
        },
        {
         "customdata": [
          "ABTS standard"
         ],
         "hovertemplate": "Signal: %{y:.2f}",
         "marker": {
          "color": "#000000"
         },
         "mode": "markers",
         "name": "sample29",
         "showlegend": false,
         "type": "scatter",
         "visible": true,
         "x": [
          180
         ],
         "xaxis": "x",
         "y": [
          2.499949447019015
         ],
         "yaxis": "y"
        },
        {
         "customdata": [
          "ABTS standard"
         ],
         "hovertemplate": "Signal: %{y:.2f}",
         "marker": {
          "color": "#000000"
         },
         "mode": "markers",
         "name": "sample30",
         "showlegend": false,
         "type": "scatter",
         "visible": true,
         "x": [
          200
         ],
         "xaxis": "x",
         "y": [
          2.8035092485908644
         ],
         "yaxis": "y"
        },
        {
         "customdata": [
          "ABTS standard"
         ],
         "hovertemplate": "Signal: %{y:.2f}",
         "marker": {
          "color": "#000000"
         },
         "mode": "markers",
         "name": "sample31",
         "showlegend": false,
         "type": "scatter",
         "visible": true,
         "x": [
          200
         ],
         "xaxis": "x",
         "y": [
          2.7903934181431516
         ],
         "yaxis": "y"
        },
        {
         "customdata": [
          "ABTS standard"
         ],
         "hovertemplate": "Signal: %{y:.2f}",
         "marker": {
          "color": "#000000"
         },
         "mode": "markers",
         "name": "sample32",
         "showlegend": false,
         "type": "scatter",
         "visible": true,
         "x": [
          200
         ],
         "xaxis": "x",
         "y": [
          2.741029341540795
         ],
         "yaxis": "y"
        },
        {
         "customdata": [
          "linear model"
         ],
         "hovertemplate": "Signal: %{y:.2f}",
         "marker": {
          "color": "#636EFA"
         },
         "mode": "lines",
         "name": "linear model",
         "type": "scatter",
         "visible": false,
         "x": [
          0,
          1.2080536912751678,
          2.4161073825503356,
          3.6241610738255035,
          4.832214765100671,
          6.0402684563758395,
          7.248322147651007,
          8.456375838926174,
          9.664429530201343,
          10.87248322147651,
          12.080536912751679,
          13.288590604026846,
          14.496644295302014,
          15.704697986577182,
          16.91275167785235,
          18.120805369127517,
          19.328859060402685,
          20.536912751677853,
          21.74496644295302,
          22.95302013422819,
          24.161073825503358,
          25.369127516778523,
          26.57718120805369,
          27.78523489932886,
          28.993288590604028,
          30.201342281879196,
          31.409395973154364,
          32.61744966442953,
          33.8255033557047,
          35.033557046979865,
          36.241610738255034,
          37.4496644295302,
          38.65771812080537,
          39.86577181208054,
          41.07382550335571,
          42.281879194630875,
          43.48993288590604,
          44.69798657718121,
          45.90604026845638,
          47.11409395973155,
          48.322147651006716,
          49.53020134228188,
          50.738255033557046,
          51.946308724832214,
          53.15436241610738,
          54.36241610738255,
          55.57046979865772,
          56.77852348993289,
          57.986577181208055,
          59.19463087248322,
          60.40268456375839,
          61.61073825503356,
          62.81879194630873,
          64.02684563758389,
          65.23489932885906,
          66.44295302013423,
          67.6510067114094,
          68.85906040268456,
          70.06711409395973,
          71.2751677852349,
          72.48322147651007,
          73.69127516778524,
          74.8993288590604,
          76.10738255033557,
          77.31543624161074,
          78.52348993288591,
          79.73154362416108,
          80.93959731543625,
          82.14765100671141,
          83.35570469798658,
          84.56375838926175,
          85.77181208053692,
          86.97986577181209,
          88.18791946308725,
          89.39597315436242,
          90.60402684563759,
          91.81208053691276,
          93.02013422818793,
          94.2281879194631,
          95.43624161073826,
          96.64429530201343,
          97.85234899328859,
          99.06040268456375,
          100.26845637583892,
          101.47651006711409,
          102.68456375838926,
          103.89261744966443,
          105.1006711409396,
          106.30872483221476,
          107.51677852348993,
          108.7248322147651,
          109.93288590604027,
          111.14093959731544,
          112.3489932885906,
          113.55704697986577,
          114.76510067114094,
          115.97315436241611,
          117.18120805369128,
          118.38926174496645,
          119.59731543624162,
          120.80536912751678,
          122.01342281879195,
          123.22147651006712,
          124.42953020134229,
          125.63758389261746,
          126.84563758389262,
          128.05369127516778,
          129.26174496644296,
          130.46979865771812,
          131.6778523489933,
          132.88590604026845,
          134.09395973154363,
          135.3020134228188,
          136.51006711409397,
          137.71812080536913,
          138.9261744966443,
          140.13422818791946,
          141.34228187919464,
          142.5503355704698,
          143.75838926174498,
          144.96644295302013,
          146.17449664429532,
          147.38255033557047,
          148.59060402684565,
          149.7986577181208,
          151.006711409396,
          152.21476510067114,
          153.42281879194633,
          154.63087248322148,
          155.83892617449663,
          157.04697986577182,
          158.25503355704697,
          159.46308724832215,
          160.6711409395973,
          161.8791946308725,
          163.08724832214764,
          164.29530201342283,
          165.50335570469798,
          166.71140939597316,
          167.91946308724832,
          169.1275167785235,
          170.33557046979865,
          171.54362416107384,
          172.751677852349,
          173.95973154362417,
          175.16778523489933,
          176.3758389261745,
          177.58389261744966,
          178.79194630872485,
          180
         ],
         "xaxis": "x",
         "y": [
          0,
          0.016837340103368462,
          0.033674680206736925,
          0.05051202031010539,
          0.06734936041347385,
          0.08418670051684232,
          0.10102404062021078,
          0.11786138072357924,
          0.1346987208269477,
          0.15153606093031619,
          0.16837340103368464,
          0.18521074113705308,
          0.20204808124042156,
          0.21888542134379002,
          0.23572276144715848,
          0.25256010155052694,
          0.2693974416538954,
          0.28623478175726386,
          0.30307212186063237,
          0.31990946196400083,
          0.3367468020673693,
          0.3535841421707377,
          0.37042148227410615,
          0.38725882237747467,
          0.4040961624808431,
          0.4209335025842116,
          0.43777084268758004,
          0.45460818279094845,
          0.47144552289431696,
          0.4882828629976854,
          0.5051202031010539,
          0.5219575432044223,
          0.5387948833077908,
          0.5556322234111593,
          0.5724695635145277,
          0.5893069036178963,
          0.6061442437212647,
          0.6229815838246332,
          0.6398189239280017,
          0.6566562640313701,
          0.6734936041347386,
          0.6903309442381069,
          0.7071682843414754,
          0.7240056244448438,
          0.7408429645482123,
          0.7576803046515809,
          0.7745176447549493,
          0.7913549848583178,
          0.8081923249616862,
          0.8250296650650547,
          0.8418670051684232,
          0.8587043452717916,
          0.8755416853751601,
          0.8923790254785284,
          0.9092163655818969,
          0.9260537056852655,
          0.9428910457886339,
          0.9597283858920024,
          0.9765657259953708,
          0.9934030660987393,
          1.0102404062021078,
          1.0270777463054763,
          1.0439150864088447,
          1.0607524265122132,
          1.0775897666155816,
          1.0944271067189502,
          1.1112644468223185,
          1.128101786925687,
          1.1449391270290554,
          1.161776467132424,
          1.1786138072357926,
          1.195451147339161,
          1.2122884874425295,
          1.2291258275458978,
          1.2459631676492664,
          1.2628005077526347,
          1.2796378478560033,
          1.2964751879593717,
          1.3133125280627402,
          1.3301498681661086,
          1.3469872082694772,
          1.3638245483728455,
          1.3806618884762138,
          1.3974992285795824,
          1.4143365686829508,
          1.4311739087863193,
          1.4480112488896877,
          1.4648485889930563,
          1.4816859290964246,
          1.4985232691997932,
          1.5153606093031617,
          1.53219794940653,
          1.5490352895098987,
          1.565872629613267,
          1.5827099697166356,
          1.599547309820004,
          1.6163846499233725,
          1.6332219900267408,
          1.6500593301301094,
          1.6668966702334778,
          1.6837340103368463,
          1.700571350440215,
          1.7174086905435832,
          1.7342460306469518,
          1.7510833707503202,
          1.7679207108536887,
          1.7847580509570569,
          1.8015953910604257,
          1.8184327311637938,
          1.8352700712671626,
          1.852107411370531,
          1.8689447514738995,
          1.8857820915772678,
          1.9026194316806364,
          1.9194567717840048,
          1.9362941118873733,
          1.9531314519907417,
          1.9699687920941102,
          1.9868061321974786,
          2.003643472300847,
          2.0204808124042155,
          2.0373181525075843,
          2.0541554926109526,
          2.070992832714321,
          2.0878301728176893,
          2.104667512921058,
          2.1215048530244265,
          2.138342193127795,
          2.155179533231163,
          2.1720168733345315,
          2.1888542134379003,
          2.2056915535412687,
          2.222528893644637,
          2.2393662337480054,
          2.256203573851374,
          2.2730409139547425,
          2.289878254058111,
          2.306715594161479,
          2.323552934264848,
          2.3403902743682163,
          2.357227614471585,
          2.374064954574953,
          2.390902294678322,
          2.40773963478169,
          2.424576974885059,
          2.441414314988427,
          2.4582516550917957,
          2.475088995195164,
          2.491926335298533,
          2.508763675401901
         ],
         "yaxis": "y"
        },
        {
         "customdata": [
          "linear model"
         ],
         "hoverinfo": "skip",
         "hovertemplate": "Signal: %{y:.2f}",
         "marker": {
          "color": "#636EFA"
         },
         "mode": "markers",
         "name": "Residuals",
         "type": "scatter",
         "visible": false,
         "x": [
          0,
          0,
          0,
          20,
          20,
          20,
          40,
          40,
          40,
          60,
          60,
          60,
          80,
          80,
          80,
          100,
          100,
          100,
          120,
          120,
          120,
          140,
          140,
          140,
          160,
          160,
          160,
          180,
          180,
          180
         ],
         "xaxis": "x2",
         "y": [
          0.02350879425472881,
          -0.03469441725719837,
          0.015354991972206296,
          -0.041369352504108226,
          -0.046516249918701125,
          -0.048156718974816465,
          0.01798363563208072,
          0.025390627860934933,
          -0.0030531465290235538,
          0.03222037454243831,
          -0.032667876710425925,
          -0.009552506106195402,
          -0.06201981806999446,
          -0.0020859080811364006,
          0.03580436016385269,
          -0.03981903807343734,
          0.011720217553382373,
          -0.0010909435429522496,
          0.023505371637039474,
          0.01997172169447059,
          -0.006493657414043286,
          -0.014254799785608174,
          0.04483001895283745,
          0.024024276227835095,
          0.020194028625407867,
          0.011227287012388398,
          -0.005991344622870987,
          -0.02679769423225853,
          -0.01583057236738883,
          -0.008814228382886036
         ],
         "yaxis": "y2"
        },
        {
         "customdata": [
          "linear model"
         ],
         "hovertemplate": "Signal: %{y:.2f}",
         "line": {
          "color": "grey",
          "dash": "dash",
          "width": 2
         },
         "showlegend": false,
         "type": "scatter",
         "visible": true,
         "x": [
          0,
          0,
          0,
          20,
          20,
          20,
          40,
          40,
          40,
          60,
          60,
          60,
          80,
          80,
          80,
          100,
          100,
          100,
          120,
          120,
          120,
          140,
          140,
          140,
          160,
          160,
          160,
          180,
          180,
          180
         ],
         "xaxis": "x2",
         "y": [
          0,
          0,
          0,
          0,
          0,
          0,
          0,
          0,
          0,
          0,
          0,
          0,
          0,
          0,
          0,
          0,
          0,
          0,
          0,
          0,
          0,
          0,
          0,
          0,
          0,
          0,
          0,
          0,
          0,
          0
         ],
         "yaxis": "y2"
        },
        {
         "customdata": [
          "quadratic model"
         ],
         "hovertemplate": "Signal: %{y:.2f}",
         "marker": {
          "color": "#EF553B"
         },
         "mode": "lines",
         "name": "quadratic model",
         "type": "scatter",
         "visible": false,
         "x": [
          0,
          1.2080536912751678,
          2.4161073825503356,
          3.6241610738255035,
          4.832214765100671,
          6.0402684563758395,
          7.248322147651007,
          8.456375838926174,
          9.664429530201343,
          10.87248322147651,
          12.080536912751679,
          13.288590604026846,
          14.496644295302014,
          15.704697986577182,
          16.91275167785235,
          18.120805369127517,
          19.328859060402685,
          20.536912751677853,
          21.74496644295302,
          22.95302013422819,
          24.161073825503358,
          25.369127516778523,
          26.57718120805369,
          27.78523489932886,
          28.993288590604028,
          30.201342281879196,
          31.409395973154364,
          32.61744966442953,
          33.8255033557047,
          35.033557046979865,
          36.241610738255034,
          37.4496644295302,
          38.65771812080537,
          39.86577181208054,
          41.07382550335571,
          42.281879194630875,
          43.48993288590604,
          44.69798657718121,
          45.90604026845638,
          47.11409395973155,
          48.322147651006716,
          49.53020134228188,
          50.738255033557046,
          51.946308724832214,
          53.15436241610738,
          54.36241610738255,
          55.57046979865772,
          56.77852348993289,
          57.986577181208055,
          59.19463087248322,
          60.40268456375839,
          61.61073825503356,
          62.81879194630873,
          64.02684563758389,
          65.23489932885906,
          66.44295302013423,
          67.6510067114094,
          68.85906040268456,
          70.06711409395973,
          71.2751677852349,
          72.48322147651007,
          73.69127516778524,
          74.8993288590604,
          76.10738255033557,
          77.31543624161074,
          78.52348993288591,
          79.73154362416108,
          80.93959731543625,
          82.14765100671141,
          83.35570469798658,
          84.56375838926175,
          85.77181208053692,
          86.97986577181209,
          88.18791946308725,
          89.39597315436242,
          90.60402684563759,
          91.81208053691276,
          93.02013422818793,
          94.2281879194631,
          95.43624161073826,
          96.64429530201343,
          97.85234899328859,
          99.06040268456375,
          100.26845637583892,
          101.47651006711409,
          102.68456375838926,
          103.89261744966443,
          105.1006711409396,
          106.30872483221476,
          107.51677852348993,
          108.7248322147651,
          109.93288590604027,
          111.14093959731544,
          112.3489932885906,
          113.55704697986577,
          114.76510067114094,
          115.97315436241611,
          117.18120805369128,
          118.38926174496645,
          119.59731543624162,
          120.80536912751678,
          122.01342281879195,
          123.22147651006712,
          124.42953020134229,
          125.63758389261746,
          126.84563758389262,
          128.05369127516778,
          129.26174496644296,
          130.46979865771812,
          131.6778523489933,
          132.88590604026845,
          134.09395973154363,
          135.3020134228188,
          136.51006711409397,
          137.71812080536913,
          138.9261744966443,
          140.13422818791946,
          141.34228187919464,
          142.5503355704698,
          143.75838926174498,
          144.96644295302013,
          146.17449664429532,
          147.38255033557047,
          148.59060402684565,
          149.7986577181208,
          151.006711409396,
          152.21476510067114,
          153.42281879194633,
          154.63087248322148,
          155.83892617449663,
          157.04697986577182,
          158.25503355704697,
          159.46308724832215,
          160.6711409395973,
          161.8791946308725,
          163.08724832214764,
          164.29530201342283,
          165.50335570469798,
          166.71140939597316,
          167.91946308724832,
          169.1275167785235,
          170.33557046979865,
          171.54362416107384,
          172.751677852349,
          173.95973154362417,
          175.16778523489933,
          176.3758389261745,
          177.58389261744966,
          178.79194630872485,
          180
         ],
         "xaxis": "x",
         "y": [
          0,
          0.01680429328582111,
          0.033609153258946735,
          0.05041457991937685,
          0.06722057326711148,
          0.08402713330215061,
          0.10083426002449425,
          0.11764195343414237,
          0.13445021353109504,
          0.15125904031535217,
          0.16806843378691383,
          0.18487839394577996,
          0.20168892079195064,
          0.2185000143254258,
          0.23531167454620547,
          0.25212390145428965,
          0.2689366950496783,
          0.2857500553323715,
          0.3025639823023692,
          0.3193784759596714,
          0.3361935363042781,
          0.35300916333618926,
          0.369825357055405,
          0.38664211746192517,
          0.4034594445557499,
          0.4202773383368791,
          0.43709579880531285,
          0.453914825961051,
          0.4707344198040937,
          0.487554580334441,
          0.5043753075520927,
          0.5211966014570489,
          0.5380184620493097,
          0.554840889328875,
          0.5716638832957447,
          0.5884874439499189,
          0.6053115712913977,
          0.622136265320181,
          0.6389615260362688,
          0.6557873534396611,
          0.6726137475303579,
          0.689440708308359,
          0.7062682357736648,
          0.7230963299262751,
          0.7399249907661899,
          0.7567542182934093,
          0.773584012507933,
          0.7904143734097614,
          0.8072453009988941,
          0.8240767952753315,
          0.8409088562390733,
          0.8577414838901196,
          0.8745746782284705,
          0.8914084392541257,
          0.9082427669670855,
          0.9250776613673498,
          0.9419131224549186,
          0.958749150229792,
          0.9755857446919699,
          0.9924229058414522,
          1.009260633678239,
          1.0260989282023305,
          1.0429377894137264,
          1.0597772173124267,
          1.0766172118984316,
          1.093457773171741,
          1.110298901132355,
          1.1271405957802734,
          1.1439828571154962,
          1.1608256851380236,
          1.1776690798478555,
          1.1945130412449918,
          1.211357569329433,
          1.2282026641011783,
          1.2450483255602283,
          1.2618945537065827,
          1.2787413485402417,
          1.295588710061205,
          1.312436638269473,
          1.3292851331650453,
          1.3461341947479224,
          1.3629838230181035,
          1.3798340179755895,
          1.39668477962038,
          1.4135361079524749,
          1.4303880029718743,
          1.4472404646785784,
          1.4640934930725868,
          1.4809470881538997,
          1.4978012499225173,
          1.5146559783784392,
          1.5315112735216658,
          1.5483671353521966,
          1.5652235638700323,
          1.5820805590751723,
          1.5989381209676168,
          1.6157962495473657,
          1.6326549448144194,
          1.6495142067687774,
          1.66637403541044,
          1.683234430739407,
          1.7000953927556786,
          1.7169569214592544,
          1.733819016850135,
          1.75068167892832,
          1.7675449076938097,
          1.7844087031466034,
          1.8012730652867024,
          1.8181379941141051,
          1.8350034896288128,
          1.8518695518308248,
          1.8687361807201415,
          1.8856033762967623,
          1.902471138560688,
          1.919339467511918,
          1.9362083631504527,
          1.9530778254762917,
          1.9699478544894355,
          1.9868184501898836,
          2.0036896125776362,
          2.020561341652693,
          2.037433637415055,
          2.054306499864721,
          2.0711799290016915,
          2.088053924825967,
          2.1049284873375464,
          2.1218036165364307,
          2.138679312422619,
          2.155555574996112,
          2.17243240425691,
          2.189309800205012,
          2.2061877628404183,
          2.22306629216313,
          2.2399453881731453,
          2.2568250508704657,
          2.2737052802550903,
          2.2905860763270196,
          2.307467439086253,
          2.324349368532791,
          2.341231864666634,
          2.3581149274877813,
          2.374998556996233,
          2.391882753191989,
          2.40876751607505,
          2.425652845645415,
          2.4425387419030846,
          2.459425204848059,
          2.4763122344803374,
          2.493199830799921,
          2.510087993806809
         ],
         "yaxis": "y"
        },
        {
         "customdata": [
          "quadratic model"
         ],
         "hoverinfo": "skip",
         "hovertemplate": "Signal: %{y:.2f}",
         "marker": {
          "color": "#EF553B"
         },
         "mode": "markers",
         "name": "Residuals",
         "type": "scatter",
         "visible": false,
         "x": [
          0,
          0,
          0,
          20,
          20,
          20,
          40,
          40,
          40,
          60,
          60,
          60,
          80,
          80,
          80,
          100,
          100,
          100,
          120,
          120,
          120,
          140,
          140,
          140,
          160,
          160,
          160,
          180,
          180,
          180
         ],
         "xaxis": "x2",
         "y": [
          0.02350879425472881,
          -0.03469441725719837,
          0.015354991972206296,
          -0.04089521381589817,
          -0.04604211123049107,
          -0.04768258028660641,
          0.018776591714089852,
          0.026183583942944066,
          -0.0022601904470144207,
          0.03317682672383537,
          -0.031711424529028864,
          -0.008596053924798341,
          -0.061055191083620564,
          -0.0011212810947625051,
          0.036768987150226584,
          -0.03900155757649748,
          0.012537698050322232,
          -0.0002734630460123899,
          0.024020384350134094,
          0.02048673440756521,
          -0.005978644700948665,
          -0.014197576150769997,
          0.044887242587675624,
          0.024081499862673272,
          0.01963814188757862,
          0.01067140027455915,
          -0.006547231360700234,
          -0.028122012637166183,
          -0.017154890772296483,
          -0.01013854678779369
         ],
         "yaxis": "y2"
        },
        {
         "customdata": [
          "quadratic model"
         ],
         "hovertemplate": "Signal: %{y:.2f}",
         "line": {
          "color": "grey",
          "dash": "dash",
          "width": 2
         },
         "showlegend": false,
         "type": "scatter",
         "visible": true,
         "x": [
          0,
          0,
          0,
          20,
          20,
          20,
          40,
          40,
          40,
          60,
          60,
          60,
          80,
          80,
          80,
          100,
          100,
          100,
          120,
          120,
          120,
          140,
          140,
          140,
          160,
          160,
          160,
          180,
          180,
          180
         ],
         "xaxis": "x2",
         "y": [
          0,
          0,
          0,
          0,
          0,
          0,
          0,
          0,
          0,
          0,
          0,
          0,
          0,
          0,
          0,
          0,
          0,
          0,
          0,
          0,
          0,
          0,
          0,
          0,
          0,
          0,
          0,
          0,
          0,
          0
         ],
         "yaxis": "y2"
        },
        {
         "customdata": [
          "cubic model"
         ],
         "hovertemplate": "Signal: %{y:.2f}",
         "marker": {
          "color": "#00CC96"
         },
         "mode": "lines",
         "name": "cubic model",
         "type": "scatter",
         "visible": false,
         "x": [
          0,
          1.2080536912751678,
          2.4161073825503356,
          3.6241610738255035,
          4.832214765100671,
          6.0402684563758395,
          7.248322147651007,
          8.456375838926174,
          9.664429530201343,
          10.87248322147651,
          12.080536912751679,
          13.288590604026846,
          14.496644295302014,
          15.704697986577182,
          16.91275167785235,
          18.120805369127517,
          19.328859060402685,
          20.536912751677853,
          21.74496644295302,
          22.95302013422819,
          24.161073825503358,
          25.369127516778523,
          26.57718120805369,
          27.78523489932886,
          28.993288590604028,
          30.201342281879196,
          31.409395973154364,
          32.61744966442953,
          33.8255033557047,
          35.033557046979865,
          36.241610738255034,
          37.4496644295302,
          38.65771812080537,
          39.86577181208054,
          41.07382550335571,
          42.281879194630875,
          43.48993288590604,
          44.69798657718121,
          45.90604026845638,
          47.11409395973155,
          48.322147651006716,
          49.53020134228188,
          50.738255033557046,
          51.946308724832214,
          53.15436241610738,
          54.36241610738255,
          55.57046979865772,
          56.77852348993289,
          57.986577181208055,
          59.19463087248322,
          60.40268456375839,
          61.61073825503356,
          62.81879194630873,
          64.02684563758389,
          65.23489932885906,
          66.44295302013423,
          67.6510067114094,
          68.85906040268456,
          70.06711409395973,
          71.2751677852349,
          72.48322147651007,
          73.69127516778524,
          74.8993288590604,
          76.10738255033557,
          77.31543624161074,
          78.52348993288591,
          79.73154362416108,
          80.93959731543625,
          82.14765100671141,
          83.35570469798658,
          84.56375838926175,
          85.77181208053692,
          86.97986577181209,
          88.18791946308725,
          89.39597315436242,
          90.60402684563759,
          91.81208053691276,
          93.02013422818793,
          94.2281879194631,
          95.43624161073826,
          96.64429530201343,
          97.85234899328859,
          99.06040268456375,
          100.26845637583892,
          101.47651006711409,
          102.68456375838926,
          103.89261744966443,
          105.1006711409396,
          106.30872483221476,
          107.51677852348993,
          108.7248322147651,
          109.93288590604027,
          111.14093959731544,
          112.3489932885906,
          113.55704697986577,
          114.76510067114094,
          115.97315436241611,
          117.18120805369128,
          118.38926174496645,
          119.59731543624162,
          120.80536912751678,
          122.01342281879195,
          123.22147651006712,
          124.42953020134229,
          125.63758389261746,
          126.84563758389262,
          128.05369127516778,
          129.26174496644296,
          130.46979865771812,
          131.6778523489933,
          132.88590604026845,
          134.09395973154363,
          135.3020134228188,
          136.51006711409397,
          137.71812080536913,
          138.9261744966443,
          140.13422818791946,
          141.34228187919464,
          142.5503355704698,
          143.75838926174498,
          144.96644295302013,
          146.17449664429532,
          147.38255033557047,
          148.59060402684565,
          149.7986577181208,
          151.006711409396,
          152.21476510067114,
          153.42281879194633,
          154.63087248322148,
          155.83892617449663,
          157.04697986577182,
          158.25503355704697,
          159.46308724832215,
          160.6711409395973,
          161.8791946308725,
          163.08724832214764,
          164.29530201342283,
          165.50335570469798,
          166.71140939597316,
          167.91946308724832,
          169.1275167785235,
          170.33557046979865,
          171.54362416107384,
          172.751677852349,
          173.95973154362417,
          175.16778523489933,
          176.3758389261745,
          177.58389261744966,
          178.79194630872485,
          180
         ],
         "xaxis": "x",
         "y": [
          0,
          0.01577039215480006,
          0.03158585081739121,
          0.04744572528435526,
          0.06334936485227405,
          0.0792961188177294,
          0.09528533647730313,
          0.11131636712757705,
          0.12738856006513302,
          0.14350126458655285,
          0.15965382998841837,
          0.17584560556731138,
          0.19207594061981373,
          0.20834418444250724,
          0.22464968633197369,
          0.240991795584795,
          0.2573698614975529,
          0.2737832333668293,
          0.290231260489206,
          0.30671329216126475,
          0.32322867767958746,
          0.3397767663407559,
          0.3563569074413519,
          0.3729684502779574,
          0.389610744147154,
          0.40628313834552376,
          0.42298498216964836,
          0.43971562491610966,
          0.4564744158814895,
          0.47326070436236967,
          0.4900738396553321,
          0.5069131710569584,
          0.5237780478638306,
          0.5406678193725305,
          0.5575818348796399,
          0.5745194436817406,
          0.5914799950754143,
          0.608462838357243,
          0.6254673228238086,
          0.6424927977716927,
          0.6595386124974773,
          0.6766041162977439,
          0.6936886584690747,
          0.7107915883080516,
          0.727912255111256,
          0.7450500081752701,
          0.7622041967966755,
          0.7793741702720541,
          0.7965592778979877,
          0.8137588689710583,
          0.8309722927878475,
          0.8481988986449371,
          0.8654380358389092,
          0.8826890536663452,
          0.8999513014238274,
          0.9172241284079373,
          0.9345068839152569,
          0.9517989172423679,
          0.9690995776858522,
          0.9864082145422916,
          1.003724177108268,
          1.0210468146803628,
          1.0383754765551587,
          1.0557095120292366,
          1.0730482703991788,
          1.0903911009615672,
          1.1077373530129833,
          1.1250863758500094,
          1.1424375187692266,
          1.1597901310672174,
          1.1771435620405635,
          1.1944971609858461,
          1.211850277199648,
          1.2292022599785504,
          1.2465524586191352,
          1.2639002224179845,
          1.2812449006716797,
          1.298585842676803,
          1.315922397729936,
          1.3332539151276606,
          1.3505797441665586,
          1.3678992341432117,
          1.3852117343542019,
          1.4025165940961113,
          1.419813162665521,
          1.4371007893590138,
          1.4543788234731707,
          1.4716466143045737,
          1.4889035111498048,
          1.5061488633054456,
          1.5233820200680783,
          1.5406023307342844,
          1.557809144600646,
          1.5750018109637445,
          1.592179679120162,
          1.6093420983664801,
          1.6264884179992813,
          1.6436179873151466,
          1.6607301556106584,
          1.6778242721823982,
          1.6948996863269477,
          1.711955747340889,
          1.7289918045208041,
          1.7460072071632746,
          1.7630013045648822,
          1.7799734460222087,
          1.796922980831836,
          1.8138492582903465,
          1.830751627694321,
          1.8476294383403422,
          1.8644820395249915,
          1.8813087805448507,
          1.8981090106965017,
          1.9148820792765266,
          1.9316273355815066,
          1.948344128908024,
          1.9650318085526604,
          1.981689723811998,
          1.9983172239826181,
          2.0149136583611034,
          2.031478376244034,
          2.048010726927994,
          2.0645100597095634,
          2.080975723885325,
          2.09740706875186,
          2.113803443605751,
          2.130164197743579,
          2.146488680461926,
          2.1627762410573745,
          2.1790262288265057,
          2.195237993065901,
          2.2114108830721433,
          2.227544248141814,
          2.2436374375714947,
          2.259689800657768,
          2.275700686697214,
          2.2916694449864163,
          2.3075954248219555,
          2.3234779755004142,
          2.339316446318374,
          2.3551101865724173,
          2.3708585455591247,
          2.386560872575079,
          2.402216516916861,
          2.4178248278810544,
          2.4333851547642387,
          2.4488968468629975,
          2.464359253473911,
          2.4797717238935633,
          2.4951336074185346
         ],
         "yaxis": "y"
        },
        {
         "customdata": [
          "cubic model"
         ],
         "hoverinfo": "skip",
         "hovertemplate": "Signal: %{y:.2f}",
         "marker": {
          "color": "#00CC96"
         },
         "mode": "markers",
         "name": "Residuals",
         "type": "scatter",
         "visible": false,
         "x": [
          0,
          0,
          0,
          20,
          20,
          20,
          40,
          40,
          40,
          60,
          60,
          60,
          80,
          80,
          80,
          100,
          100,
          100,
          120,
          120,
          120,
          140,
          140,
          140,
          160,
          160,
          160,
          180,
          180,
          180
         ],
         "xaxis": "x2",
         "y": [
          0.02350879425472881,
          -0.03469441725719837,
          0.015354991972206296,
          -0.029101917334412586,
          -0.034248814749005485,
          -0.035889283805120825,
          0.03294070551459716,
          0.04034769774345137,
          0.011903923353492885,
          0.04324194496546763,
          -0.02164630628739661,
          0.0014690643168339124,
          -0.05860621499419416,
          0.0013276949946638972,
          0.039217963239652986,
          -0.04473320394804037,
          0.006806051678779346,
          -0.006005109417555277,
          0.012496301493424511,
          0.008962651550855627,
          -0.01750272755765825,
          -0.026173243232276766,
          0.032911575506168855,
          0.012105832781166503,
          0.015504409126211094,
          0.006537667513191625,
          -0.01068096412206776,
          -0.013167626248892006,
          -0.002200504384022306,
          0.004815839600480487
         ],
         "yaxis": "y2"
        },
        {
         "customdata": [
          "cubic model"
         ],
         "hovertemplate": "Signal: %{y:.2f}",
         "line": {
          "color": "grey",
          "dash": "dash",
          "width": 2
         },
         "showlegend": false,
         "type": "scatter",
         "visible": true,
         "x": [
          0,
          0,
          0,
          20,
          20,
          20,
          40,
          40,
          40,
          60,
          60,
          60,
          80,
          80,
          80,
          100,
          100,
          100,
          120,
          120,
          120,
          140,
          140,
          140,
          160,
          160,
          160,
          180,
          180,
          180
         ],
         "xaxis": "x2",
         "y": [
          0,
          0,
          0,
          0,
          0,
          0,
          0,
          0,
          0,
          0,
          0,
          0,
          0,
          0,
          0,
          0,
          0,
          0,
          0,
          0,
          0,
          0,
          0,
          0,
          0,
          0,
          0,
          0,
          0,
          0
         ],
         "yaxis": "y2"
        },
        {
         "customdata": [
          "exponential model"
         ],
         "hovertemplate": "Signal: %{y:.2f}",
         "marker": {
          "color": "#AB63FA"
         },
         "mode": "lines",
         "name": "exponential model",
         "type": "scatter",
         "visible": false,
         "x": [
          0,
          1.2080536912751678,
          2.4161073825503356,
          3.6241610738255035,
          4.832214765100671,
          6.0402684563758395,
          7.248322147651007,
          8.456375838926174,
          9.664429530201343,
          10.87248322147651,
          12.080536912751679,
          13.288590604026846,
          14.496644295302014,
          15.704697986577182,
          16.91275167785235,
          18.120805369127517,
          19.328859060402685,
          20.536912751677853,
          21.74496644295302,
          22.95302013422819,
          24.161073825503358,
          25.369127516778523,
          26.57718120805369,
          27.78523489932886,
          28.993288590604028,
          30.201342281879196,
          31.409395973154364,
          32.61744966442953,
          33.8255033557047,
          35.033557046979865,
          36.241610738255034,
          37.4496644295302,
          38.65771812080537,
          39.86577181208054,
          41.07382550335571,
          42.281879194630875,
          43.48993288590604,
          44.69798657718121,
          45.90604026845638,
          47.11409395973155,
          48.322147651006716,
          49.53020134228188,
          50.738255033557046,
          51.946308724832214,
          53.15436241610738,
          54.36241610738255,
          55.57046979865772,
          56.77852348993289,
          57.986577181208055,
          59.19463087248322,
          60.40268456375839,
          61.61073825503356,
          62.81879194630873,
          64.02684563758389,
          65.23489932885906,
          66.44295302013423,
          67.6510067114094,
          68.85906040268456,
          70.06711409395973,
          71.2751677852349,
          72.48322147651007,
          73.69127516778524,
          74.8993288590604,
          76.10738255033557,
          77.31543624161074,
          78.52348993288591,
          79.73154362416108,
          80.93959731543625,
          82.14765100671141,
          83.35570469798658,
          84.56375838926175,
          85.77181208053692,
          86.97986577181209,
          88.18791946308725,
          89.39597315436242,
          90.60402684563759,
          91.81208053691276,
          93.02013422818793,
          94.2281879194631,
          95.43624161073826,
          96.64429530201343,
          97.85234899328859,
          99.06040268456375,
          100.26845637583892,
          101.47651006711409,
          102.68456375838926,
          103.89261744966443,
          105.1006711409396,
          106.30872483221476,
          107.51677852348993,
          108.7248322147651,
          109.93288590604027,
          111.14093959731544,
          112.3489932885906,
          113.55704697986577,
          114.76510067114094,
          115.97315436241611,
          117.18120805369128,
          118.38926174496645,
          119.59731543624162,
          120.80536912751678,
          122.01342281879195,
          123.22147651006712,
          124.42953020134229,
          125.63758389261746,
          126.84563758389262,
          128.05369127516778,
          129.26174496644296,
          130.46979865771812,
          131.6778523489933,
          132.88590604026845,
          134.09395973154363,
          135.3020134228188,
          136.51006711409397,
          137.71812080536913,
          138.9261744966443,
          140.13422818791946,
          141.34228187919464,
          142.5503355704698,
          143.75838926174498,
          144.96644295302013,
          146.17449664429532,
          147.38255033557047,
          148.59060402684565,
          149.7986577181208,
          151.006711409396,
          152.21476510067114,
          153.42281879194633,
          154.63087248322148,
          155.83892617449663,
          157.04697986577182,
          158.25503355704697,
          159.46308724832215,
          160.6711409395973,
          161.8791946308725,
          163.08724832214764,
          164.29530201342283,
          165.50335570469798,
          166.71140939597316,
          167.91946308724832,
          169.1275167785235,
          170.33557046979865,
          171.54362416107384,
          172.751677852349,
          173.95973154362417,
          175.16778523489933,
          176.3758389261745,
          177.58389261744966,
          178.79194630872485,
          180
         ],
         "xaxis": "x",
         "y": [
          0.4301605279478784,
          0.4355225744750292,
          0.4409514601031465,
          0.44644801799647,
          0.45201309170481674,
          0.45764753529303964,
          0.4633522134720996,
          0.4691280017317716,
          0.4749757864750055,
          0.4808964651539604,
          0.4868909464077363,
          0.4929601502018209,
          0.4991050079692767,
          0.5053264627536856,
          0.5116254693538776,
          0.5180029944704622,
          0.5244600168541863,
          0.5309975274561427,
          0.5376165295798495,
          0.5443180390352261,
          0.551103084294488,
          0.5579727066499853,
          0.564927960374009,
          0.5719699128805878,
          0.5790996448893037,
          0.5863182505911481,
          0.5936268378164461,
          0.6010265282048745,
          0.608518457377597,
          0.6161037751115478,
          0.6237836455158858,
          0.6315592472106494,
          0.6394317735076371,
          0.6474024325935445,
          0.6554724477153824,
          0.6636430573682075,
          0.6719155154851923,
          0.680291091630065,
          0.6887710711919476,
          0.6973567555826227,
          0.7060494624362604,
          0.7148505258116329,
          0.7237612963968517,
          0.7327831417166555,
          0.7419174463422823,
          0.7511656121039587,
          0.760529058306036,
          0.7700092219448096,
          0.7796075579290529,
          0.7893255393033004,
          0.7991646574739139,
          0.8091264224379667,
          0.8192123630149811,
          0.829424027081554,
          0.8397629818089086,
          0.8502308139034048,
          0.86082912985005,
          0.8715595561590441,
          0.8824237396153977,
          0.8934233475316624,
          0.9045600680038115,
          0.9158356101703088,
          0.9272517044744095,
          0.9388101029297277,
          0.9505125793891168,
          0.9623609298168996,
          0.9743569725644934,
          0.9865025486494698,
          0.9987995220380931,
          1.0112497799313815,
          1.023855233054733,
          1.0366178159511614,
          1.0495394872781898,
          1.062622230108442,
          1.0758680522339825,
          1.0892789864744497,
          1.102857090989031,
          1.1166044495923237,
          1.130523172074139,
          1.1446153945232849,
          1.158883279655392,
          1.173329017144821,
          1.1879548239607103,
          1.2027629447072108,
          1.217755651967962,
          1.2329352466548653,
          1.2483040583611977,
          1.2638644457191353,
          1.2796187967617272,
          1.295569529289386,
          1.3117190912409422,
          1.3280699610693292,
          1.3446246481219446,
          1.3613856930257606,
          1.378355668077228,
          1.3955371776370444,
          1.4129328585298415,
          1.4305453804488566,
          1.4483774463656456,
          1.4664317929449056,
          1.4847111909644664,
          1.5032184457405195,
          1.5219563975581454,
          1.5409279221072096,
          1.5601359309236897,
          1.5795833718365069,
          1.5992732294199232,
          1.6192085254515838,
          1.6393923193762612,
          1.659827708775389,
          1.6805178298424384,
          1.701465857864232,
          1.7226750077082456,
          1.744148534315993,
          1.7658897332025567,
          1.7879019409623476,
          1.8101885357811656,
          1.8327529379546483,
          1.8555986104131768,
          1.8787290592533303,
          1.9021478342759588,
          1.92585852953097,
          1.9498647838689003,
          1.9741702814993678,
          1.9987787525564809,
          2.0236939736712993,
          2.0489197685514258,
          2.0744600085678293,
          2.1003186133489775,
          2.1264995513823766,
          2.1530068406236142,
          2.179844549112981,
          2.2070167955998,
          2.234527750174514,
          2.262381634908674,
          2.2905827245028854,
          2.3191353469428515,
          2.348043884163576,
          2.377312772721855,
          2.4069465044771516,
          2.4369496272809554,
          2.4673267456747343,
          2.4980825215965887,
          2.5292216750967116,
          2.5607489850617724,
          2.5926692899483212,
          2.6249874885253477,
          2.6577085406260808,
          2.6908374679091756,
          2.7243793546293764
         ],
         "yaxis": "y"
        },
        {
         "customdata": [
          "exponential model"
         ],
         "hoverinfo": "skip",
         "hovertemplate": "Signal: %{y:.2f}",
         "marker": {
          "color": "#AB63FA"
         },
         "mode": "markers",
         "name": "Residuals",
         "type": "scatter",
         "visible": false,
         "x": [
          0,
          0,
          0,
          20,
          20,
          20,
          40,
          40,
          40,
          60,
          60,
          60,
          80,
          80,
          80,
          100,
          100,
          100,
          120,
          120,
          120,
          140,
          140,
          140,
          160,
          160,
          160,
          180,
          180,
          180
         ],
         "xaxis": "x2",
         "y": [
          -0.4066517336931496,
          -0.46485494520507675,
          -0.4148055359756721,
          -0.29069979944779706,
          -0.29584669686238996,
          -0.2974871659185053,
          -0.07280749733966474,
          -0.06540050511081053,
          -0.09384427950076901,
          0.07260353406137665,
          0.007715282808512414,
          0.030830653412742937,
          0.07594325831376803,
          0.13587716830262608,
          0.17376743654761517,
          0.15448217963098498,
          0.2060214352578047,
          0.19321027416147007,
          0.22351470648849237,
          0.21998105654592348,
          0.1935156774374096,
          0.1293072451286874,
          0.18839206386713303,
          0.16758632114213068,
          0.031004363589778983,
          0.022037621976759514,
          0.004818990341500129,
          -0.2424133734597338,
          -0.2314462515948641,
          -0.2244299076103613
         ],
         "yaxis": "y2"
        },
        {
         "customdata": [
          "exponential model"
         ],
         "hovertemplate": "Signal: %{y:.2f}",
         "line": {
          "color": "grey",
          "dash": "dash",
          "width": 2
         },
         "showlegend": false,
         "type": "scatter",
         "visible": true,
         "x": [
          0,
          0,
          0,
          20,
          20,
          20,
          40,
          40,
          40,
          60,
          60,
          60,
          80,
          80,
          80,
          100,
          100,
          100,
          120,
          120,
          120,
          140,
          140,
          140,
          160,
          160,
          160,
          180,
          180,
          180
         ],
         "xaxis": "x2",
         "y": [
          0,
          0,
          0,
          0,
          0,
          0,
          0,
          0,
          0,
          0,
          0,
          0,
          0,
          0,
          0,
          0,
          0,
          0,
          0,
          0,
          0,
          0,
          0,
          0,
          0,
          0,
          0,
          0,
          0,
          0
         ],
         "yaxis": "y2"
        }
       ],
       "layout": {
        "annotations": [
         {
          "font": {
           "size": 16
          },
          "showarrow": false,
          "text": "Standard",
          "x": 0.2125,
          "xanchor": "center",
          "xref": "paper",
          "y": 1,
          "yanchor": "bottom",
          "yref": "paper"
         },
         {
          "font": {
           "size": 16
          },
          "showarrow": false,
          "text": "Model Residuals",
          "x": 0.7875,
          "xanchor": "center",
          "xref": "paper",
          "y": 1,
          "yanchor": "bottom",
          "yref": "paper"
         },
         {
          "font": {
           "size": 16
          },
          "showarrow": false,
          "text": "ABTS / µmol L<sup>-1</sup>",
          "x": 0.5,
          "xanchor": "center",
          "xref": "paper",
          "y": 0,
          "yanchor": "top",
          "yref": "paper",
          "yshift": -30
         }
        ],
        "margin": {
         "b": 60,
         "l": 20,
         "r": 20,
         "t": 100
        },
        "template": {
         "data": {
          "bar": [
           {
            "error_x": {
             "color": "rgb(36,36,36)"
            },
            "error_y": {
             "color": "rgb(36,36,36)"
            },
            "marker": {
             "line": {
              "color": "white",
              "width": 0.5
             },
             "pattern": {
              "fillmode": "overlay",
              "size": 10,
              "solidity": 0.2
             }
            },
            "type": "bar"
           }
          ],
          "barpolar": [
           {
            "marker": {
             "line": {
              "color": "white",
              "width": 0.5
             },
             "pattern": {
              "fillmode": "overlay",
              "size": 10,
              "solidity": 0.2
             }
            },
            "type": "barpolar"
           }
          ],
          "carpet": [
           {
            "aaxis": {
             "endlinecolor": "rgb(36,36,36)",
             "gridcolor": "white",
             "linecolor": "white",
             "minorgridcolor": "white",
             "startlinecolor": "rgb(36,36,36)"
            },
            "baxis": {
             "endlinecolor": "rgb(36,36,36)",
             "gridcolor": "white",
             "linecolor": "white",
             "minorgridcolor": "white",
             "startlinecolor": "rgb(36,36,36)"
            },
            "type": "carpet"
           }
          ],
          "choropleth": [
           {
            "colorbar": {
             "outlinewidth": 1,
             "tickcolor": "rgb(36,36,36)",
             "ticks": "outside"
            },
            "type": "choropleth"
           }
          ],
          "contour": [
           {
            "colorbar": {
             "outlinewidth": 1,
             "tickcolor": "rgb(36,36,36)",
             "ticks": "outside"
            },
            "colorscale": [
             [
              0,
              "#440154"
             ],
             [
              0.1111111111111111,
              "#482878"
             ],
             [
              0.2222222222222222,
              "#3e4989"
             ],
             [
              0.3333333333333333,
              "#31688e"
             ],
             [
              0.4444444444444444,
              "#26828e"
             ],
             [
              0.5555555555555556,
              "#1f9e89"
             ],
             [
              0.6666666666666666,
              "#35b779"
             ],
             [
              0.7777777777777778,
              "#6ece58"
             ],
             [
              0.8888888888888888,
              "#b5de2b"
             ],
             [
              1,
              "#fde725"
             ]
            ],
            "type": "contour"
           }
          ],
          "contourcarpet": [
           {
            "colorbar": {
             "outlinewidth": 1,
             "tickcolor": "rgb(36,36,36)",
             "ticks": "outside"
            },
            "type": "contourcarpet"
           }
          ],
          "heatmap": [
           {
            "colorbar": {
             "outlinewidth": 1,
             "tickcolor": "rgb(36,36,36)",
             "ticks": "outside"
            },
            "colorscale": [
             [
              0,
              "#440154"
             ],
             [
              0.1111111111111111,
              "#482878"
             ],
             [
              0.2222222222222222,
              "#3e4989"
             ],
             [
              0.3333333333333333,
              "#31688e"
             ],
             [
              0.4444444444444444,
              "#26828e"
             ],
             [
              0.5555555555555556,
              "#1f9e89"
             ],
             [
              0.6666666666666666,
              "#35b779"
             ],
             [
              0.7777777777777778,
              "#6ece58"
             ],
             [
              0.8888888888888888,
              "#b5de2b"
             ],
             [
              1,
              "#fde725"
             ]
            ],
            "type": "heatmap"
           }
          ],
          "heatmapgl": [
           {
            "colorbar": {
             "outlinewidth": 1,
             "tickcolor": "rgb(36,36,36)",
             "ticks": "outside"
            },
            "colorscale": [
             [
              0,
              "#440154"
             ],
             [
              0.1111111111111111,
              "#482878"
             ],
             [
              0.2222222222222222,
              "#3e4989"
             ],
             [
              0.3333333333333333,
              "#31688e"
             ],
             [
              0.4444444444444444,
              "#26828e"
             ],
             [
              0.5555555555555556,
              "#1f9e89"
             ],
             [
              0.6666666666666666,
              "#35b779"
             ],
             [
              0.7777777777777778,
              "#6ece58"
             ],
             [
              0.8888888888888888,
              "#b5de2b"
             ],
             [
              1,
              "#fde725"
             ]
            ],
            "type": "heatmapgl"
           }
          ],
          "histogram": [
           {
            "marker": {
             "line": {
              "color": "white",
              "width": 0.6
             }
            },
            "type": "histogram"
           }
          ],
          "histogram2d": [
           {
            "colorbar": {
             "outlinewidth": 1,
             "tickcolor": "rgb(36,36,36)",
             "ticks": "outside"
            },
            "colorscale": [
             [
              0,
              "#440154"
             ],
             [
              0.1111111111111111,
              "#482878"
             ],
             [
              0.2222222222222222,
              "#3e4989"
             ],
             [
              0.3333333333333333,
              "#31688e"
             ],
             [
              0.4444444444444444,
              "#26828e"
             ],
             [
              0.5555555555555556,
              "#1f9e89"
             ],
             [
              0.6666666666666666,
              "#35b779"
             ],
             [
              0.7777777777777778,
              "#6ece58"
             ],
             [
              0.8888888888888888,
              "#b5de2b"
             ],
             [
              1,
              "#fde725"
             ]
            ],
            "type": "histogram2d"
           }
          ],
          "histogram2dcontour": [
           {
            "colorbar": {
             "outlinewidth": 1,
             "tickcolor": "rgb(36,36,36)",
             "ticks": "outside"
            },
            "colorscale": [
             [
              0,
              "#440154"
             ],
             [
              0.1111111111111111,
              "#482878"
             ],
             [
              0.2222222222222222,
              "#3e4989"
             ],
             [
              0.3333333333333333,
              "#31688e"
             ],
             [
              0.4444444444444444,
              "#26828e"
             ],
             [
              0.5555555555555556,
              "#1f9e89"
             ],
             [
              0.6666666666666666,
              "#35b779"
             ],
             [
              0.7777777777777778,
              "#6ece58"
             ],
             [
              0.8888888888888888,
              "#b5de2b"
             ],
             [
              1,
              "#fde725"
             ]
            ],
            "type": "histogram2dcontour"
           }
          ],
          "mesh3d": [
           {
            "colorbar": {
             "outlinewidth": 1,
             "tickcolor": "rgb(36,36,36)",
             "ticks": "outside"
            },
            "type": "mesh3d"
           }
          ],
          "parcoords": [
           {
            "line": {
             "colorbar": {
              "outlinewidth": 1,
              "tickcolor": "rgb(36,36,36)",
              "ticks": "outside"
             }
            },
            "type": "parcoords"
           }
          ],
          "pie": [
           {
            "automargin": true,
            "type": "pie"
           }
          ],
          "scatter": [
           {
            "fillpattern": {
             "fillmode": "overlay",
             "size": 10,
             "solidity": 0.2
            },
            "type": "scatter"
           }
          ],
          "scatter3d": [
           {
            "line": {
             "colorbar": {
              "outlinewidth": 1,
              "tickcolor": "rgb(36,36,36)",
              "ticks": "outside"
             }
            },
            "marker": {
             "colorbar": {
              "outlinewidth": 1,
              "tickcolor": "rgb(36,36,36)",
              "ticks": "outside"
             }
            },
            "type": "scatter3d"
           }
          ],
          "scattercarpet": [
           {
            "marker": {
             "colorbar": {
              "outlinewidth": 1,
              "tickcolor": "rgb(36,36,36)",
              "ticks": "outside"
             }
            },
            "type": "scattercarpet"
           }
          ],
          "scattergeo": [
           {
            "marker": {
             "colorbar": {
              "outlinewidth": 1,
              "tickcolor": "rgb(36,36,36)",
              "ticks": "outside"
             }
            },
            "type": "scattergeo"
           }
          ],
          "scattergl": [
           {
            "marker": {
             "colorbar": {
              "outlinewidth": 1,
              "tickcolor": "rgb(36,36,36)",
              "ticks": "outside"
             }
            },
            "type": "scattergl"
           }
          ],
          "scattermapbox": [
           {
            "marker": {
             "colorbar": {
              "outlinewidth": 1,
              "tickcolor": "rgb(36,36,36)",
              "ticks": "outside"
             }
            },
            "type": "scattermapbox"
           }
          ],
          "scatterpolar": [
           {
            "marker": {
             "colorbar": {
              "outlinewidth": 1,
              "tickcolor": "rgb(36,36,36)",
              "ticks": "outside"
             }
            },
            "type": "scatterpolar"
           }
          ],
          "scatterpolargl": [
           {
            "marker": {
             "colorbar": {
              "outlinewidth": 1,
              "tickcolor": "rgb(36,36,36)",
              "ticks": "outside"
             }
            },
            "type": "scatterpolargl"
           }
          ],
          "scatterternary": [
           {
            "marker": {
             "colorbar": {
              "outlinewidth": 1,
              "tickcolor": "rgb(36,36,36)",
              "ticks": "outside"
             }
            },
            "type": "scatterternary"
           }
          ],
          "surface": [
           {
            "colorbar": {
             "outlinewidth": 1,
             "tickcolor": "rgb(36,36,36)",
             "ticks": "outside"
            },
            "colorscale": [
             [
              0,
              "#440154"
             ],
             [
              0.1111111111111111,
              "#482878"
             ],
             [
              0.2222222222222222,
              "#3e4989"
             ],
             [
              0.3333333333333333,
              "#31688e"
             ],
             [
              0.4444444444444444,
              "#26828e"
             ],
             [
              0.5555555555555556,
              "#1f9e89"
             ],
             [
              0.6666666666666666,
              "#35b779"
             ],
             [
              0.7777777777777778,
              "#6ece58"
             ],
             [
              0.8888888888888888,
              "#b5de2b"
             ],
             [
              1,
              "#fde725"
             ]
            ],
            "type": "surface"
           }
          ],
          "table": [
           {
            "cells": {
             "fill": {
              "color": "rgb(237,237,237)"
             },
             "line": {
              "color": "white"
             }
            },
            "header": {
             "fill": {
              "color": "rgb(217,217,217)"
             },
             "line": {
              "color": "white"
             }
            },
            "type": "table"
           }
          ]
         },
         "layout": {
          "annotationdefaults": {
           "arrowhead": 0,
           "arrowwidth": 1
          },
          "autotypenumbers": "strict",
          "coloraxis": {
           "colorbar": {
            "outlinewidth": 1,
            "tickcolor": "rgb(36,36,36)",
            "ticks": "outside"
           }
          },
          "colorscale": {
           "diverging": [
            [
             0,
             "rgb(103,0,31)"
            ],
            [
             0.1,
             "rgb(178,24,43)"
            ],
            [
             0.2,
             "rgb(214,96,77)"
            ],
            [
             0.3,
             "rgb(244,165,130)"
            ],
            [
             0.4,
             "rgb(253,219,199)"
            ],
            [
             0.5,
             "rgb(247,247,247)"
            ],
            [
             0.6,
             "rgb(209,229,240)"
            ],
            [
             0.7,
             "rgb(146,197,222)"
            ],
            [
             0.8,
             "rgb(67,147,195)"
            ],
            [
             0.9,
             "rgb(33,102,172)"
            ],
            [
             1,
             "rgb(5,48,97)"
            ]
           ],
           "sequential": [
            [
             0,
             "#440154"
            ],
            [
             0.1111111111111111,
             "#482878"
            ],
            [
             0.2222222222222222,
             "#3e4989"
            ],
            [
             0.3333333333333333,
             "#31688e"
            ],
            [
             0.4444444444444444,
             "#26828e"
            ],
            [
             0.5555555555555556,
             "#1f9e89"
            ],
            [
             0.6666666666666666,
             "#35b779"
            ],
            [
             0.7777777777777778,
             "#6ece58"
            ],
            [
             0.8888888888888888,
             "#b5de2b"
            ],
            [
             1,
             "#fde725"
            ]
           ],
           "sequentialminus": [
            [
             0,
             "#440154"
            ],
            [
             0.1111111111111111,
             "#482878"
            ],
            [
             0.2222222222222222,
             "#3e4989"
            ],
            [
             0.3333333333333333,
             "#31688e"
            ],
            [
             0.4444444444444444,
             "#26828e"
            ],
            [
             0.5555555555555556,
             "#1f9e89"
            ],
            [
             0.6666666666666666,
             "#35b779"
            ],
            [
             0.7777777777777778,
             "#6ece58"
            ],
            [
             0.8888888888888888,
             "#b5de2b"
            ],
            [
             1,
             "#fde725"
            ]
           ]
          },
          "colorway": [
           "#1F77B4",
           "#FF7F0E",
           "#2CA02C",
           "#D62728",
           "#9467BD",
           "#8C564B",
           "#E377C2",
           "#7F7F7F",
           "#BCBD22",
           "#17BECF"
          ],
          "font": {
           "color": "rgb(36,36,36)"
          },
          "geo": {
           "bgcolor": "white",
           "lakecolor": "white",
           "landcolor": "white",
           "showlakes": true,
           "showland": true,
           "subunitcolor": "white"
          },
          "hoverlabel": {
           "align": "left"
          },
          "hovermode": "closest",
          "mapbox": {
           "style": "light"
          },
          "paper_bgcolor": "white",
          "plot_bgcolor": "white",
          "polar": {
           "angularaxis": {
            "gridcolor": "rgb(232,232,232)",
            "linecolor": "rgb(36,36,36)",
            "showgrid": false,
            "showline": true,
            "ticks": "outside"
           },
           "bgcolor": "white",
           "radialaxis": {
            "gridcolor": "rgb(232,232,232)",
            "linecolor": "rgb(36,36,36)",
            "showgrid": false,
            "showline": true,
            "ticks": "outside"
           }
          },
          "scene": {
           "xaxis": {
            "backgroundcolor": "white",
            "gridcolor": "rgb(232,232,232)",
            "gridwidth": 2,
            "linecolor": "rgb(36,36,36)",
            "showbackground": true,
            "showgrid": false,
            "showline": true,
            "ticks": "outside",
            "zeroline": false,
            "zerolinecolor": "rgb(36,36,36)"
           },
           "yaxis": {
            "backgroundcolor": "white",
            "gridcolor": "rgb(232,232,232)",
            "gridwidth": 2,
            "linecolor": "rgb(36,36,36)",
            "showbackground": true,
            "showgrid": false,
            "showline": true,
            "ticks": "outside",
            "zeroline": false,
            "zerolinecolor": "rgb(36,36,36)"
           },
           "zaxis": {
            "backgroundcolor": "white",
            "gridcolor": "rgb(232,232,232)",
            "gridwidth": 2,
            "linecolor": "rgb(36,36,36)",
            "showbackground": true,
            "showgrid": false,
            "showline": true,
            "ticks": "outside",
            "zeroline": false,
            "zerolinecolor": "rgb(36,36,36)"
           }
          },
          "shapedefaults": {
           "fillcolor": "black",
           "line": {
            "width": 0
           },
           "opacity": 0.3
          },
          "ternary": {
           "aaxis": {
            "gridcolor": "rgb(232,232,232)",
            "linecolor": "rgb(36,36,36)",
            "showgrid": false,
            "showline": true,
            "ticks": "outside"
           },
           "baxis": {
            "gridcolor": "rgb(232,232,232)",
            "linecolor": "rgb(36,36,36)",
            "showgrid": false,
            "showline": true,
            "ticks": "outside"
           },
           "bgcolor": "white",
           "caxis": {
            "gridcolor": "rgb(232,232,232)",
            "linecolor": "rgb(36,36,36)",
            "showgrid": false,
            "showline": true,
            "ticks": "outside"
           }
          },
          "title": {
           "x": 0.05
          },
          "xaxis": {
           "automargin": true,
           "gridcolor": "rgb(232,232,232)",
           "linecolor": "rgb(36,36,36)",
           "showgrid": false,
           "showline": true,
           "ticks": "outside",
           "title": {
            "standoff": 15
           },
           "zeroline": false,
           "zerolinecolor": "rgb(36,36,36)"
          },
          "yaxis": {
           "automargin": true,
           "gridcolor": "rgb(232,232,232)",
           "linecolor": "rgb(36,36,36)",
           "showgrid": false,
           "showline": true,
           "ticks": "outside",
           "title": {
            "standoff": 15
           },
           "zeroline": false,
           "zerolinecolor": "rgb(36,36,36)"
          }
         }
        },
        "updatemenus": [
         {
          "active": 0,
          "buttons": [
           {
            "args": [
             {
              "visible": [
               true,
               true,
               true,
               true,
               true,
               true,
               true,
               true,
               true,
               true,
               true,
               true,
               true,
               true,
               true,
               true,
               true,
               true,
               true,
               true,
               true,
               true,
               true,
               true,
               true,
               true,
               true,
               true,
               true,
               true,
               true,
               true,
               true,
               false,
               false,
               false,
               false,
               false,
               false,
               false,
               false,
               false,
               false,
               false,
               false
              ]
             }
            ],
            "label": "ABTS standard",
            "method": "update"
           },
           {
            "args": [
             {
              "title": "linear model",
              "visible": [
               true,
               true,
               true,
               true,
               true,
               true,
               true,
               true,
               true,
               true,
               true,
               true,
               true,
               true,
               true,
               true,
               true,
               true,
               true,
               true,
               true,
               true,
               true,
               true,
               true,
               true,
               true,
               true,
               true,
               true,
               true,
               true,
               true,
               true,
               true,
               true,
               false,
               false,
               false,
               false,
               false,
               false,
               false,
               false,
               false
              ]
             }
            ],
            "label": "linear model",
            "method": "update"
           },
           {
            "args": [
             {
              "title": "quadratic model",
              "visible": [
               true,
               true,
               true,
               true,
               true,
               true,
               true,
               true,
               true,
               true,
               true,
               true,
               true,
               true,
               true,
               true,
               true,
               true,
               true,
               true,
               true,
               true,
               true,
               true,
               true,
               true,
               true,
               true,
               true,
               true,
               true,
               true,
               true,
               false,
               false,
               false,
               true,
               true,
               true,
               false,
               false,
               false,
               false,
               false,
               false
              ]
             }
            ],
            "label": "quadratic model",
            "method": "update"
           },
           {
            "args": [
             {
              "title": "cubic model",
              "visible": [
               true,
               true,
               true,
               true,
               true,
               true,
               true,
               true,
               true,
               true,
               true,
               true,
               true,
               true,
               true,
               true,
               true,
               true,
               true,
               true,
               true,
               true,
               true,
               true,
               true,
               true,
               true,
               true,
               true,
               true,
               true,
               true,
               true,
               false,
               false,
               false,
               false,
               false,
               false,
               true,
               true,
               true,
               false,
               false,
               false
              ]
             }
            ],
            "label": "cubic model",
            "method": "update"
           },
           {
            "args": [
             {
              "title": "exponential model",
              "visible": [
               true,
               true,
               true,
               true,
               true,
               true,
               true,
               true,
               true,
               true,
               true,
               true,
               true,
               true,
               true,
               true,
               true,
               true,
               true,
               true,
               true,
               true,
               true,
               true,
               true,
               true,
               true,
               true,
               true,
               true,
               true,
               true,
               true,
               false,
               false,
               false,
               false,
               false,
               false,
               false,
               false,
               false,
               true,
               true,
               true
              ]
             }
            ],
            "label": "exponential model",
            "method": "update"
           },
           {
            "args": [
             {
              "visible": [
               true,
               true,
               true,
               true,
               true,
               true,
               true,
               true,
               true,
               true,
               true,
               true,
               true,
               true,
               true,
               true,
               true,
               true,
               true,
               true,
               true,
               true,
               true,
               true,
               true,
               true,
               true,
               true,
               true,
               true,
               true,
               true,
               true,
               true,
               true,
               true,
               true,
               true,
               true,
               true,
               true,
               true,
               true,
               true,
               true
              ]
             }
            ],
            "label": "all",
            "method": "update"
           }
          ],
          "direction": "right",
          "type": "buttons",
          "x": 0,
          "xanchor": "left",
          "y": 1.2,
          "yanchor": "top"
         }
        ],
        "xaxis": {
         "anchor": "y",
         "domain": [
          0,
          0.425
         ]
        },
        "xaxis2": {
         "anchor": "y2",
         "domain": [
          0.575,
          1
         ]
        },
        "yaxis": {
         "anchor": "x",
         "domain": [
          0,
          1
         ],
         "title": {
          "text": "E<sub>340 nm <sub>"
         }
        },
        "yaxis2": {
         "anchor": "x2",
         "domain": [
          0,
          1
         ],
         "title": {
          "text": "Residuals E<sub>340 nm <sub>"
         }
        }
       }
      }
     },
     "metadata": {},
     "output_type": "display_data"
    }
   ],
   "source": [
    "# Visualize the models\n",
    "calibrator.visualize()"
   ]
  },
  {
   "cell_type": "markdown",
   "metadata": {},
   "source": [
    "## Save model to `Standard`\n",
    "\n",
    "After assessing different models, the best model can be saved to the `Standard` object."
   ]
  },
  {
   "cell_type": "code",
   "execution_count": 9,
   "metadata": {},
   "outputs": [
    {
     "name": "stdout",
     "output_type": "stream",
     "text": [
      "\u001b[4mCalibrationModel\u001b[0m\n",
      "├── \u001b[94mid\u001b[0m = calibrationmodel1\n",
      "├── \u001b[94mname\u001b[0m = linear\n",
      "├── \u001b[94mequation\u001b[0m = a * concentration = signal\n",
      "├── \u001b[94mparameters\u001b[0m\n",
      "│   └── 0\n",
      "│       └── \u001b[4mParameter\u001b[0m\n",
      "│           ├── \u001b[94mid\u001b[0m = parameter0\n",
      "│           ├── \u001b[94mname\u001b[0m = a\n",
      "│           ├── \u001b[94mvalue\u001b[0m = 0.013937575974455005\n",
      "│           ├── \u001b[94minit_value\u001b[0m = 0.1\n",
      "│           ├── \u001b[94mstandard_error\u001b[0m = 4.879788345767215e-05\n",
      "│           ├── \u001b[94mlower_bound\u001b[0m = -inf\n",
      "│           └── \u001b[94mupper_bound\u001b[0m = inf\n",
      "├── \u001b[94mwas_fitted\u001b[0m = True\n",
      "├── \u001b[94mcalibration_range\u001b[0m\n",
      "│   └── \u001b[4mCalibrationRange\u001b[0m\n",
      "│       ├── \u001b[94mid\u001b[0m = calibrationrange4\n",
      "│       ├── \u001b[94mconc_lower\u001b[0m = 0.0\n",
      "│       ├── \u001b[94mconc_upper\u001b[0m = 180.0\n",
      "│       ├── \u001b[94msignal_lower\u001b[0m = -0.03469441725719837\n",
      "│       └── \u001b[94msignal_upper\u001b[0m = 2.499949447019015\n",
      "└── \u001b[94mstatistics\u001b[0m\n",
      "    └── \u001b[4mFitStatistics\u001b[0m\n",
      "        ├── \u001b[94mid\u001b[0m = fitstatistics4\n",
      "        ├── \u001b[94maic\u001b[0m = -212.40948313789045\n",
      "        ├── \u001b[94mbic\u001b[0m = -211.0082857562283\n",
      "        ├── \u001b[94mr2\u001b[0m = 0.9987881951991484\n",
      "        └── \u001b[94mrmsd\u001b[0m = 0.028057722144518307\n",
      "\n"
     ]
    }
   ],
   "source": [
    "linear = calibrator.get_model(\"linear\")\n",
    "print(linear)"
   ]
  },
  {
   "cell_type": "code",
   "execution_count": 10,
   "metadata": {},
   "outputs": [],
   "source": [
    "standard = calibrator.save_model(linear)"
   ]
  },
  {
   "cell_type": "markdown",
   "metadata": {},
   "source": [
    "## Calculate concentrations\n",
    "\n",
    "Models can be used to calculate concentrations of unknown signals. "
   ]
  },
  {
   "cell_type": "code",
   "execution_count": 11,
   "metadata": {},
   "outputs": [
    {
     "data": {
      "text/plain": [
       "[71.74848781687825, 7.1748487816878255, 160.286121782906]"
      ]
     },
     "execution_count": 11,
     "metadata": {},
     "output_type": "execute_result"
    }
   ],
   "source": [
    "linear.calculate([1, 0.1, 2.234])"
   ]
  },
  {
   "cell_type": "markdown",
   "metadata": {},
   "source": [
    "If the signal is out of calibration bonds, the calculate method returns `float('nan')` values for the respective signals."
   ]
  },
  {
   "cell_type": "code",
   "execution_count": 12,
   "metadata": {},
   "outputs": [
    {
     "data": {
      "text/plain": [
       "[71.74848781687825, nan, nan, 35.87424390843913]"
      ]
     },
     "execution_count": 12,
     "metadata": {},
     "output_type": "execute_result"
    }
   ],
   "source": [
    "linear.calculate([1, 100, 5, 0.5])"
   ]
  },
  {
   "cell_type": "code",
   "execution_count": 13,
   "metadata": {},
   "outputs": [
    {
     "ename": "ConfigError",
     "evalue": "field \"category\" not yet prepared so type is still a ForwardRef, you might need to call Category.update_forward_refs().",
     "output_type": "error",
     "traceback": [
      "\u001b[0;31m---------------------------------------------------------------------------\u001b[0m",
      "\u001b[0;31mConfigError\u001b[0m                               Traceback (most recent call last)",
      "\u001b[1;32m/Users/torstengiess/Documents/GitHub/CaliPytion/examples/test_calibrator.ipynb Cell 21\u001b[0m line \u001b[0;36m1\n\u001b[0;32m----> <a href='vscode-notebook-cell:/Users/torstengiess/Documents/GitHub/CaliPytion/examples/test_calibrator.ipynb#Y120sZmlsZQ%3D%3D?line=0'>1</a>\u001b[0m standard\u001b[39m.\u001b[39mto_animl()\n",
      "File \u001b[0;32m~/Documents/GitHub/CaliPytion/CaliPytion/core/standard.py:140\u001b[0m, in \u001b[0;36mStandard.to_animl\u001b[0;34m(self, animl_document, out_file)\u001b[0m\n\u001b[1;32m    137\u001b[0m \u001b[39mif\u001b[39;00m \u001b[39mnot\u001b[39;00m out_file:\n\u001b[1;32m    138\u001b[0m     out_file \u001b[39m=\u001b[39m \u001b[39mf\u001b[39m\u001b[39m\"\u001b[39m\u001b[39m./standard_\u001b[39m\u001b[39m{\u001b[39;00m\u001b[39mstr\u001b[39m(Datetime\u001b[39m.\u001b[39mtoday())\u001b[39m}\u001b[39;00m\u001b[39m.animl\u001b[39m\u001b[39m\"\u001b[39m\n\u001b[0;32m--> 140\u001b[0m map_standard_to_animl(standard\u001b[39m=\u001b[39m\u001b[39mself\u001b[39m, animl_document\u001b[39m=\u001b[39maniml_document)\n\u001b[1;32m    142\u001b[0m \u001b[39mwith\u001b[39;00m \u001b[39mopen\u001b[39m(out_file, \u001b[39m\"\u001b[39m\u001b[39mw\u001b[39m\u001b[39m\"\u001b[39m) \u001b[39mas\u001b[39;00m f:\n\u001b[1;32m    143\u001b[0m     f\u001b[39m.\u001b[39mwrite(animl_document\u001b[39m.\u001b[39mxml())\n",
      "File \u001b[0;32m~/Documents/GitHub/CaliPytion/CaliPytion/ioutils/animlio.py:35\u001b[0m, in \u001b[0;36mmap_standard_to_animl\u001b[0;34m(standard, animl_document)\u001b[0m\n\u001b[1;32m     30\u001b[0m animl_sample \u001b[39m=\u001b[39m animl_document\u001b[39m.\u001b[39msample_set\u001b[39m.\u001b[39madd_to_sample(\n\u001b[1;32m     31\u001b[0m     name\u001b[39m=\u001b[39m\u001b[39m\"\u001b[39m\u001b[39mTest Sample\u001b[39m\u001b[39m\"\u001b[39m, sample_id\u001b[39m=\u001b[39m\u001b[39m\"\u001b[39m\u001b[39msample0000\u001b[39m\u001b[39m\"\u001b[39m\n\u001b[1;32m     32\u001b[0m )\n\u001b[1;32m     34\u001b[0m \u001b[39m# Map to the Sample element\u001b[39;00m\n\u001b[0;32m---> 35\u001b[0m _map_to_sample(standard\u001b[39m=\u001b[39mstandard, sample\u001b[39m=\u001b[39maniml_sample)\n\u001b[1;32m     37\u001b[0m \u001b[39m# Create the ExperimentStepSet object and variables to keep track of\u001b[39;00m\n\u001b[1;32m     38\u001b[0m \u001b[39m# the current ExperimentStep and Series and iterate over the various\u001b[39;00m\n\u001b[1;32m     39\u001b[0m \u001b[39m# CaliPytion Sample objects (corresponding to ExperimentSteps)\u001b[39;00m\n\u001b[1;32m     40\u001b[0m experiment_step_set \u001b[39m=\u001b[39m animl_document\u001b[39m.\u001b[39mexperiment_step_set\n",
      "File \u001b[0;32m~/Documents/GitHub/CaliPytion/CaliPytion/ioutils/animlio.py:96\u001b[0m, in \u001b[0;36m_map_to_sample\u001b[0;34m(standard, sample)\u001b[0m\n\u001b[1;32m     88\u001b[0m \u001b[39m\u001b[39m\u001b[39m\"\"\"Map Standard data relevant to an AnIML Sample element.\u001b[39;00m\n\u001b[1;32m     89\u001b[0m \n\u001b[1;32m     90\u001b[0m \u001b[39mArgs:\u001b[39;00m\n\u001b[1;32m     91\u001b[0m \u001b[39m    standard (Standard): The Standard object to map\u001b[39;00m\n\u001b[1;32m     92\u001b[0m \u001b[39m    sample (Sample): The AnIML Sample object to map to\u001b[39;00m\n\u001b[1;32m     93\u001b[0m \u001b[39m\"\"\"\u001b[39;00m\n\u001b[1;32m     94\u001b[0m \u001b[39m# Create and fill the category element for general sample\u001b[39;00m\n\u001b[1;32m     95\u001b[0m \u001b[39m# description parameters\u001b[39;00m\n\u001b[0;32m---> 96\u001b[0m description_category \u001b[39m=\u001b[39m _animl_lib\u001b[39m.\u001b[39mCategory(name\u001b[39m=\u001b[39m\u001b[39m\"\u001b[39m\u001b[39mDescription\u001b[39m\u001b[39m\"\u001b[39m)\n\u001b[1;32m     98\u001b[0m description_category\u001b[39m.\u001b[39madd_to_parameter(\n\u001b[1;32m     99\u001b[0m     name\u001b[39m=\u001b[39m\u001b[39m\"\u001b[39m\u001b[39mDescriptive Name\u001b[39m\u001b[39m\"\u001b[39m,\n\u001b[1;32m    100\u001b[0m     value\u001b[39m=\u001b[39mstandard\u001b[39m.\u001b[39mname,\n\u001b[1;32m    101\u001b[0m     parameter_type\u001b[39m=\u001b[39m\u001b[39m\"\u001b[39m\u001b[39mstring\u001b[39m\u001b[39m\"\u001b[39m,\n\u001b[1;32m    102\u001b[0m )\n\u001b[1;32m    104\u001b[0m description_category\u001b[39m.\u001b[39madd_to_parameter(\n\u001b[1;32m    105\u001b[0m     name\u001b[39m=\u001b[39m\u001b[39m\"\u001b[39m\u001b[39mTemperature\u001b[39m\u001b[39m\"\u001b[39m,\n\u001b[1;32m    106\u001b[0m     value\u001b[39m=\u001b[39mstandard\u001b[39m.\u001b[39mtemperature,\n\u001b[1;32m    107\u001b[0m     parameter_type\u001b[39m=\u001b[39m\u001b[39m\"\u001b[39m\u001b[39mfloat\u001b[39m\u001b[39m\"\u001b[39m,\n\u001b[1;32m    108\u001b[0m     unit\u001b[39m=\u001b[39m_animl_lib\u001b[39m.\u001b[39mUnit(label\u001b[39m=\u001b[39mstandard\u001b[39m.\u001b[39mtemperature_unit),\n\u001b[1;32m    109\u001b[0m )\n",
      "File \u001b[0;32m/opt/homebrew/Caskroom/miniconda/base/envs/calipytion/lib/python3.11/site-packages/sdRDM/base/datamodel.py:84\u001b[0m, in \u001b[0;36mDataModel.__init__\u001b[0;34m(self, **data)\u001b[0m\n\u001b[1;32m     83\u001b[0m \u001b[39mdef\u001b[39;00m \u001b[39m__init__\u001b[39m(\u001b[39mself\u001b[39m, \u001b[39m*\u001b[39m\u001b[39m*\u001b[39mdata):\n\u001b[0;32m---> 84\u001b[0m     \u001b[39msuper\u001b[39m()\u001b[39m.\u001b[39m\u001b[39m__init__\u001b[39m(\u001b[39m*\u001b[39m\u001b[39m*\u001b[39mdata)\n\u001b[1;32m     85\u001b[0m     \u001b[39mself\u001b[39m\u001b[39m.\u001b[39m_initialize_references()\n\u001b[1;32m     87\u001b[0m     \u001b[39mfor\u001b[39;00m name, value \u001b[39min\u001b[39;00m data\u001b[39m.\u001b[39mitems():\n",
      "File \u001b[0;32m/opt/homebrew/Caskroom/miniconda/base/envs/calipytion/lib/python3.11/site-packages/pydantic/main.py:404\u001b[0m, in \u001b[0;36mBaseModel.__init__\u001b[0;34m(__pydantic_self__, **data)\u001b[0m\n\u001b[1;32m    398\u001b[0m \u001b[39m\u001b[39m\u001b[39m\"\"\"\u001b[39;00m\n\u001b[1;32m    399\u001b[0m \u001b[39mCreate a new model by parsing and validating input data from keyword arguments.\u001b[39;00m\n\u001b[1;32m    400\u001b[0m \n\u001b[1;32m    401\u001b[0m \u001b[39mRaises ValidationError if the input data cannot be parsed to form a valid model.\u001b[39;00m\n\u001b[1;32m    402\u001b[0m \u001b[39m\"\"\"\u001b[39;00m\n\u001b[1;32m    403\u001b[0m \u001b[39m# Uses something other than `self` the first arg to allow \"self\" as a settable attribute\u001b[39;00m\n\u001b[0;32m--> 404\u001b[0m values, fields_set, validation_error \u001b[39m=\u001b[39m validate_model(__pydantic_self__\u001b[39m.\u001b[39m\u001b[39m__class__\u001b[39m, data)\n\u001b[1;32m    405\u001b[0m \u001b[39mif\u001b[39;00m validation_error:\n\u001b[1;32m    406\u001b[0m     \u001b[39mraise\u001b[39;00m validation_error\n",
      "File \u001b[0;32m/opt/homebrew/Caskroom/miniconda/base/envs/calipytion/lib/python3.11/site-packages/pydantic/main.py:1040\u001b[0m, in \u001b[0;36mvalidate_model\u001b[0;34m(model, input_data, cls)\u001b[0m\n\u001b[1;32m   1037\u001b[0m     \u001b[39mif\u001b[39;00m check_extra:\n\u001b[1;32m   1038\u001b[0m         names_used\u001b[39m.\u001b[39madd(field\u001b[39m.\u001b[39mname \u001b[39mif\u001b[39;00m using_name \u001b[39melse\u001b[39;00m field\u001b[39m.\u001b[39malias)\n\u001b[0;32m-> 1040\u001b[0m v_, errors_ \u001b[39m=\u001b[39m field\u001b[39m.\u001b[39mvalidate(value, values, loc\u001b[39m=\u001b[39mfield\u001b[39m.\u001b[39malias, \u001b[39mcls\u001b[39m\u001b[39m=\u001b[39mcls_)\n\u001b[1;32m   1041\u001b[0m \u001b[39mif\u001b[39;00m \u001b[39misinstance\u001b[39m(errors_, ErrorWrapper):\n\u001b[1;32m   1042\u001b[0m     errors\u001b[39m.\u001b[39mappend(errors_)\n",
      "File \u001b[0;32m/opt/homebrew/Caskroom/miniconda/base/envs/calipytion/lib/python3.11/site-packages/pydantic/fields.py:699\u001b[0m, in \u001b[0;36mModelField.validate\u001b[0;34m(self, v, values, loc, cls)\u001b[0m\n\u001b[1;32m    697\u001b[0m \u001b[39mif\u001b[39;00m \u001b[39mself\u001b[39m\u001b[39m.\u001b[39mtype_\u001b[39m.\u001b[39m\u001b[39m__class__\u001b[39m \u001b[39mis\u001b[39;00m ForwardRef:\n\u001b[1;32m    698\u001b[0m     \u001b[39massert\u001b[39;00m \u001b[39mcls\u001b[39m \u001b[39mis\u001b[39;00m \u001b[39mnot\u001b[39;00m \u001b[39mNone\u001b[39;00m\n\u001b[0;32m--> 699\u001b[0m     \u001b[39mraise\u001b[39;00m ConfigError(\n\u001b[1;32m    700\u001b[0m         \u001b[39mf\u001b[39m\u001b[39m'\u001b[39m\u001b[39mfield \u001b[39m\u001b[39m\"\u001b[39m\u001b[39m{\u001b[39;00m\u001b[39mself\u001b[39m\u001b[39m.\u001b[39mname\u001b[39m}\u001b[39;00m\u001b[39m\"\u001b[39m\u001b[39m not yet prepared so type is still a ForwardRef, \u001b[39m\u001b[39m'\u001b[39m\n\u001b[1;32m    701\u001b[0m         \u001b[39mf\u001b[39m\u001b[39m'\u001b[39m\u001b[39myou might need to call \u001b[39m\u001b[39m{\u001b[39;00m\u001b[39mcls\u001b[39m\u001b[39m.\u001b[39m\u001b[39m__name__\u001b[39m\u001b[39m}\u001b[39;00m\u001b[39m.update_forward_refs().\u001b[39m\u001b[39m'\u001b[39m\n\u001b[1;32m    702\u001b[0m     )\n\u001b[1;32m    704\u001b[0m errors: Optional[\u001b[39m'\u001b[39m\u001b[39mErrorList\u001b[39m\u001b[39m'\u001b[39m]\n\u001b[1;32m    705\u001b[0m \u001b[39mif\u001b[39;00m \u001b[39mself\u001b[39m\u001b[39m.\u001b[39mpre_validators:\n",
      "\u001b[0;31mConfigError\u001b[0m: field \"category\" not yet prepared so type is still a ForwardRef, you might need to call Category.update_forward_refs()."
     ]
    }
   ],
   "source": [
    "standard.to_animl()"
   ]
  }
 ],
 "metadata": {
  "kernelspec": {
   "display_name": "sdrdm_example",
   "language": "python",
   "name": "python3"
  },
  "language_info": {
   "codemirror_mode": {
    "name": "ipython",
    "version": 3
   },
   "file_extension": ".py",
   "mimetype": "text/x-python",
   "name": "python",
   "nbconvert_exporter": "python",
   "pygments_lexer": "ipython3",
   "version": "3.11.3"
  },
  "orig_nbformat": 4
 },
 "nbformat": 4,
 "nbformat_minor": 2
}
