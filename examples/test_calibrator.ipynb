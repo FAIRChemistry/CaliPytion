{
 "cells": [
  {
   "cell_type": "code",
   "execution_count": 1,
   "metadata": {},
   "outputs": [],
   "source": [
    "import numpy as np\n",
    "from datetime import datetime\n",
    "\n",
    "\n",
    "from CaliPytion.core import Calibrator, Standard"
   ]
  },
  {
   "cell_type": "code",
   "execution_count": 2,
   "metadata": {},
   "outputs": [
    {
     "name": "stdout",
     "output_type": "stream",
     "text": [
      "Standard\n",
      "├── id\n",
      "├── species_id\n",
      "├── name\n",
      "├── wavelength\n",
      "├── signal_type\n",
      "├── samples\n",
      "│   └── 0\n",
      "│       ├── id\n",
      "│       ├── concentration\n",
      "│       ├── conc_unit\n",
      "│       └── signal\n",
      "├── ph\n",
      "├── temperature\n",
      "├── temperature_unit\n",
      "├── created\n",
      "└── model_result\n",
      "    ├── id\n",
      "    ├── name\n",
      "    ├── equation\n",
      "    ├── parameters\n",
      "    │   └── 0\n",
      "    │       ├── id\n",
      "    │       ├── name\n",
      "    │       ├── value\n",
      "    │       ├── init_value\n",
      "    │       ├── standard_error\n",
      "    │       ├── lower_bound\n",
      "    │       └── upper_bound\n",
      "    ├── was_fitted\n",
      "    ├── calibration_range\n",
      "    │   ├── id\n",
      "    │   ├── conc_lower\n",
      "    │   ├── conc_upper\n",
      "    │   ├── signal_lower\n",
      "    │   └── signal_upper\n",
      "    └── statistics\n",
      "        ├── id\n",
      "        ├── aic\n",
      "        ├── bic\n",
      "        ├── r2\n",
      "        └── rmsd\n",
      "\n"
     ]
    }
   ],
   "source": [
    "print(Standard)"
   ]
  },
  {
   "cell_type": "markdown",
   "metadata": {},
   "source": [
    "## Generate artificial data for a `Standard`"
   ]
  },
  {
   "cell_type": "code",
   "execution_count": 3,
   "metadata": {},
   "outputs": [],
   "source": [
    "def random(xs):\n",
    "    return xs + np.random.normal(0, 0.03, 1)\n",
    "\n",
    "\n",
    "SLOPE = 0.014\n",
    "CONC = np.linspace(0, 200, 11)\n",
    "ABSO = CONC * SLOPE"
   ]
  },
  {
   "cell_type": "code",
   "execution_count": 4,
   "metadata": {},
   "outputs": [],
   "source": [
    "# Generate standard\n",
    "standard = Standard(\n",
    "    species_id=\"s0\",\n",
    "    name=\"ABTS\",\n",
    "    wavelength=340,\n",
    "    ph=2,\n",
    "    temperature=25,\n",
    "    temperature_unit=\"C\",\n",
    "    created=datetime.now(),\n",
    ")\n",
    "\n",
    "# Add samples with noise\n",
    "for conc, abso in zip(CONC, ABSO):\n",
    "    standard.add_to_samples(\n",
    "        concentration=conc,\n",
    "        conc_unit=\"umol / l\",\n",
    "        signal=random(abso),\n",
    "    )\n",
    "    standard.add_to_samples(\n",
    "        concentration=conc,\n",
    "        conc_unit=\"umol / l\",\n",
    "        signal=random(abso),\n",
    "    )\n",
    "    standard.add_to_samples(\n",
    "        concentration=conc,\n",
    "        conc_unit=\"umol / l\",\n",
    "        signal=random(abso),\n",
    "    )"
   ]
  },
  {
   "cell_type": "markdown",
   "metadata": {},
   "source": [
    "## Initialize a `Calibrator` from a `Standard`\n",
    "\n",
    "By defining a cutoff value, samples with a higher signal than the defined cutoff are ignored for the calibration.\n",
    "For concentration calculation, the model does not extrapolate beyond the cutoff value by default."
   ]
  },
  {
   "cell_type": "code",
   "execution_count": 5,
   "metadata": {},
   "outputs": [],
   "source": [
    "# initialize calibrator\n",
    "calibrator = Calibrator.from_standard(standard, cutoff=2.5)"
   ]
  },
  {
   "cell_type": "markdown",
   "metadata": {},
   "source": [
    "CaliPytion contains predefined models, which can be used for calibration.\n",
    "Alternatively, custom models can be added. \n",
    "\n",
    "```{note}\n",
    "The equation of a model must include 'signal' and 'concentration' as variables.\n",
    "```"
   ]
  },
  {
   "cell_type": "code",
   "execution_count": 6,
   "metadata": {},
   "outputs": [],
   "source": [
    "exponential = calibrator.add_to_models(\n",
    "    name=\"exponential\",\n",
    "    equation=\"a * exp(b * concentration) = signal\",\n",
    ")"
   ]
  },
  {
   "cell_type": "markdown",
   "metadata": {},
   "source": [
    "By calling `fit_models`, all models are fitted to the data defined in `Standard`. A report, summarizing statistical parameters of each model is generated."
   ]
  },
  {
   "cell_type": "code",
   "execution_count": 7,
   "metadata": {},
   "outputs": [
    {
     "data": {
      "text/html": [
       "<style type=\"text/css\">\n",
       "#T_c0afb_row0_col0, #T_c0afb_row0_col2, #T_c0afb_row1_col2, #T_c0afb_row2_col2 {\n",
       "  background-color: #f7fbff;\n",
       "  color: #000000;\n",
       "  background-color: #08306b;\n",
       "  color: #f1f1f1;\n",
       "}\n",
       "#T_c0afb_row0_col1, #T_c0afb_row1_col1, #T_c0afb_row2_col1 {\n",
       "  background-color: #08306b;\n",
       "  color: #f1f1f1;\n",
       "}\n",
       "#T_c0afb_row1_col0 {\n",
       "  background-color: #f6faff;\n",
       "  color: #000000;\n",
       "  background-color: #08316d;\n",
       "  color: #f1f1f1;\n",
       "}\n",
       "#T_c0afb_row2_col0 {\n",
       "  background-color: #f3f8fe;\n",
       "  color: #000000;\n",
       "  background-color: #083573;\n",
       "  color: #f1f1f1;\n",
       "}\n",
       "#T_c0afb_row3_col0, #T_c0afb_row3_col2 {\n",
       "  background-color: #08306b;\n",
       "  color: #f1f1f1;\n",
       "  background-color: #f7fbff;\n",
       "  color: #000000;\n",
       "}\n",
       "#T_c0afb_row3_col1 {\n",
       "  background-color: #f7fbff;\n",
       "  color: #000000;\n",
       "}\n",
       "</style>\n",
       "<table id=\"T_c0afb\">\n",
       "  <thead>\n",
       "    <tr>\n",
       "      <th class=\"blank level0\" >&nbsp;</th>\n",
       "      <th id=\"T_c0afb_level0_col0\" class=\"col_heading level0 col0\" >AIC</th>\n",
       "      <th id=\"T_c0afb_level0_col1\" class=\"col_heading level0 col1\" >R squared</th>\n",
       "      <th id=\"T_c0afb_level0_col2\" class=\"col_heading level0 col2\" >RMSD</th>\n",
       "    </tr>\n",
       "    <tr>\n",
       "      <th class=\"index_name level0\" >Model Name</th>\n",
       "      <th class=\"blank col0\" >&nbsp;</th>\n",
       "      <th class=\"blank col1\" >&nbsp;</th>\n",
       "      <th class=\"blank col2\" >&nbsp;</th>\n",
       "    </tr>\n",
       "  </thead>\n",
       "  <tbody>\n",
       "    <tr>\n",
       "      <th id=\"T_c0afb_level0_row0\" class=\"row_heading level0 row0\" >linear</th>\n",
       "      <td id=\"T_c0afb_row0_col0\" class=\"data row0 col0\" >-225</td>\n",
       "      <td id=\"T_c0afb_row0_col1\" class=\"data row0 col1\" >0.9993</td>\n",
       "      <td id=\"T_c0afb_row0_col2\" class=\"data row0 col2\" >0.0200</td>\n",
       "    </tr>\n",
       "    <tr>\n",
       "      <th id=\"T_c0afb_level0_row1\" class=\"row_heading level0 row1\" >quadratic</th>\n",
       "      <td id=\"T_c0afb_row1_col0\" class=\"data row1 col0\" >-224</td>\n",
       "      <td id=\"T_c0afb_row1_col1\" class=\"data row1 col1\" >0.9994</td>\n",
       "      <td id=\"T_c0afb_row1_col2\" class=\"data row1 col2\" >0.0197</td>\n",
       "    </tr>\n",
       "    <tr>\n",
       "      <th id=\"T_c0afb_level0_row2\" class=\"row_heading level0 row2\" >cubic</th>\n",
       "      <td id=\"T_c0afb_row2_col0\" class=\"data row2 col0\" >-222</td>\n",
       "      <td id=\"T_c0afb_row2_col1\" class=\"data row2 col1\" >0.9994</td>\n",
       "      <td id=\"T_c0afb_row2_col2\" class=\"data row2 col2\" >0.0197</td>\n",
       "    </tr>\n",
       "    <tr>\n",
       "      <th id=\"T_c0afb_level0_row3\" class=\"row_heading level0 row3\" >exponential</th>\n",
       "      <td id=\"T_c0afb_row3_col0\" class=\"data row3 col0\" >-87</td>\n",
       "      <td id=\"T_c0afb_row3_col1\" class=\"data row3 col1\" >0.9285</td>\n",
       "      <td id=\"T_c0afb_row3_col2\" class=\"data row3 col2\" >0.2073</td>\n",
       "    </tr>\n",
       "  </tbody>\n",
       "</table>\n"
      ],
      "text/plain": [
       "<pandas.io.formats.style.Styler at 0x175849490>"
      ]
     },
     "metadata": {},
     "output_type": "display_data"
    }
   ],
   "source": [
    "# Fit all defined models\n",
    "calibrator.fit_models()"
   ]
  },
  {
   "cell_type": "markdown",
   "metadata": {},
   "source": [
    "## Model visualization\n",
    "\n",
    "Models can be visualized, displaying the measured samples used for fitting of thee model, as well as the fitted model. Additionally, the residuals of the model are visualized."
   ]
  },
  {
   "cell_type": "code",
   "execution_count": 8,
   "metadata": {},
   "outputs": [
    {
     "data": {
      "application/vnd.plotly.v1+json": {
       "config": {
        "plotlyServerURL": "https://plot.ly",
        "toImageButtonOptions": {
         "filename": "ABTS_calibration_curve",
         "format": "svg",
         "scale": 1
        }
       },
       "data": [
        {
         "customdata": [
          "ABTS standard"
         ],
         "hovertemplate": "Signal: %{y:.2f}",
         "marker": {
          "color": "#000000"
         },
         "mode": "markers",
         "name": "sample0",
         "showlegend": false,
         "type": "scatter",
         "visible": true,
         "x": [
          0
         ],
         "xaxis": "x",
         "y": [
          0.015036629702506594
         ],
         "yaxis": "y"
        },
        {
         "customdata": [
          "ABTS standard"
         ],
         "hovertemplate": "Signal: %{y:.2f}",
         "marker": {
          "color": "#000000"
         },
         "mode": "markers",
         "name": "sample1",
         "showlegend": false,
         "type": "scatter",
         "visible": true,
         "x": [
          0
         ],
         "xaxis": "x",
         "y": [
          -0.021146241615068246
         ],
         "yaxis": "y"
        },
        {
         "customdata": [
          "ABTS standard"
         ],
         "hovertemplate": "Signal: %{y:.2f}",
         "marker": {
          "color": "#000000"
         },
         "mode": "markers",
         "name": "sample2",
         "showlegend": false,
         "type": "scatter",
         "visible": true,
         "x": [
          0
         ],
         "xaxis": "x",
         "y": [
          -0.02438078114450399
         ],
         "yaxis": "y"
        },
        {
         "customdata": [
          "ABTS standard"
         ],
         "hovertemplate": "Signal: %{y:.2f}",
         "marker": {
          "color": "#000000"
         },
         "mode": "markers",
         "name": "sample3",
         "showlegend": false,
         "type": "scatter",
         "visible": true,
         "x": [
          20
         ],
         "xaxis": "x",
         "y": [
          0.24944313166520665
         ],
         "yaxis": "y"
        },
        {
         "customdata": [
          "ABTS standard"
         ],
         "hovertemplate": "Signal: %{y:.2f}",
         "marker": {
          "color": "#000000"
         },
         "mode": "markers",
         "name": "sample4",
         "showlegend": false,
         "type": "scatter",
         "visible": true,
         "x": [
          20
         ],
         "xaxis": "x",
         "y": [
          0.28325340336610866
         ],
         "yaxis": "y"
        },
        {
         "customdata": [
          "ABTS standard"
         ],
         "hovertemplate": "Signal: %{y:.2f}",
         "marker": {
          "color": "#000000"
         },
         "mode": "markers",
         "name": "sample5",
         "showlegend": false,
         "type": "scatter",
         "visible": true,
         "x": [
          20
         ],
         "xaxis": "x",
         "y": [
          0.3107871631885336
         ],
         "yaxis": "y"
        },
        {
         "customdata": [
          "ABTS standard"
         ],
         "hovertemplate": "Signal: %{y:.2f}",
         "marker": {
          "color": "#000000"
         },
         "mode": "markers",
         "name": "sample6",
         "showlegend": false,
         "type": "scatter",
         "visible": true,
         "x": [
          40
         ],
         "xaxis": "x",
         "y": [
          0.5095267226564514
         ],
         "yaxis": "y"
        },
        {
         "customdata": [
          "ABTS standard"
         ],
         "hovertemplate": "Signal: %{y:.2f}",
         "marker": {
          "color": "#000000"
         },
         "mode": "markers",
         "name": "sample7",
         "showlegend": false,
         "type": "scatter",
         "visible": true,
         "x": [
          40
         ],
         "xaxis": "x",
         "y": [
          0.5820912452475242
         ],
         "yaxis": "y"
        },
        {
         "customdata": [
          "ABTS standard"
         ],
         "hovertemplate": "Signal: %{y:.2f}",
         "marker": {
          "color": "#000000"
         },
         "mode": "markers",
         "name": "sample8",
         "showlegend": false,
         "type": "scatter",
         "visible": true,
         "x": [
          40
         ],
         "xaxis": "x",
         "y": [
          0.5548559173206248
         ],
         "yaxis": "y"
        },
        {
         "customdata": [
          "ABTS standard"
         ],
         "hovertemplate": "Signal: %{y:.2f}",
         "marker": {
          "color": "#000000"
         },
         "mode": "markers",
         "name": "sample9",
         "showlegend": false,
         "type": "scatter",
         "visible": true,
         "x": [
          60
         ],
         "xaxis": "x",
         "y": [
          0.835406593379007
         ],
         "yaxis": "y"
        },
        {
         "customdata": [
          "ABTS standard"
         ],
         "hovertemplate": "Signal: %{y:.2f}",
         "marker": {
          "color": "#000000"
         },
         "mode": "markers",
         "name": "sample10",
         "showlegend": false,
         "type": "scatter",
         "visible": true,
         "x": [
          60
         ],
         "xaxis": "x",
         "y": [
          0.8627658806365551
         ],
         "yaxis": "y"
        },
        {
         "customdata": [
          "ABTS standard"
         ],
         "hovertemplate": "Signal: %{y:.2f}",
         "marker": {
          "color": "#000000"
         },
         "mode": "markers",
         "name": "sample11",
         "showlegend": false,
         "type": "scatter",
         "visible": true,
         "x": [
          60
         ],
         "xaxis": "x",
         "y": [
          0.8430375340851699
         ],
         "yaxis": "y"
        },
        {
         "customdata": [
          "ABTS standard"
         ],
         "hovertemplate": "Signal: %{y:.2f}",
         "marker": {
          "color": "#000000"
         },
         "mode": "markers",
         "name": "sample12",
         "showlegend": false,
         "type": "scatter",
         "visible": true,
         "x": [
          80
         ],
         "xaxis": "x",
         "y": [
          1.1032001023807507
         ],
         "yaxis": "y"
        },
        {
         "customdata": [
          "ABTS standard"
         ],
         "hovertemplate": "Signal: %{y:.2f}",
         "marker": {
          "color": "#000000"
         },
         "mode": "markers",
         "name": "sample13",
         "showlegend": false,
         "type": "scatter",
         "visible": true,
         "x": [
          80
         ],
         "xaxis": "x",
         "y": [
          1.1060062004897824
         ],
         "yaxis": "y"
        },
        {
         "customdata": [
          "ABTS standard"
         ],
         "hovertemplate": "Signal: %{y:.2f}",
         "marker": {
          "color": "#000000"
         },
         "mode": "markers",
         "name": "sample14",
         "showlegend": false,
         "type": "scatter",
         "visible": true,
         "x": [
          80
         ],
         "xaxis": "x",
         "y": [
          1.1400160577719967
         ],
         "yaxis": "y"
        },
        {
         "customdata": [
          "ABTS standard"
         ],
         "hovertemplate": "Signal: %{y:.2f}",
         "marker": {
          "color": "#000000"
         },
         "mode": "markers",
         "name": "sample15",
         "showlegend": false,
         "type": "scatter",
         "visible": true,
         "x": [
          100
         ],
         "xaxis": "x",
         "y": [
          1.3969087736019103
         ],
         "yaxis": "y"
        },
        {
         "customdata": [
          "ABTS standard"
         ],
         "hovertemplate": "Signal: %{y:.2f}",
         "marker": {
          "color": "#000000"
         },
         "mode": "markers",
         "name": "sample16",
         "showlegend": false,
         "type": "scatter",
         "visible": true,
         "x": [
          100
         ],
         "xaxis": "x",
         "y": [
          1.3551545654760235
         ],
         "yaxis": "y"
        },
        {
         "customdata": [
          "ABTS standard"
         ],
         "hovertemplate": "Signal: %{y:.2f}",
         "marker": {
          "color": "#000000"
         },
         "mode": "markers",
         "name": "sample17",
         "showlegend": false,
         "type": "scatter",
         "visible": true,
         "x": [
          100
         ],
         "xaxis": "x",
         "y": [
          1.378100199925727
         ],
         "yaxis": "y"
        },
        {
         "customdata": [
          "ABTS standard"
         ],
         "hovertemplate": "Signal: %{y:.2f}",
         "marker": {
          "color": "#000000"
         },
         "mode": "markers",
         "name": "sample18",
         "showlegend": false,
         "type": "scatter",
         "visible": true,
         "x": [
          120
         ],
         "xaxis": "x",
         "y": [
          1.6761621510885485
         ],
         "yaxis": "y"
        },
        {
         "customdata": [
          "ABTS standard"
         ],
         "hovertemplate": "Signal: %{y:.2f}",
         "marker": {
          "color": "#000000"
         },
         "mode": "markers",
         "name": "sample19",
         "showlegend": false,
         "type": "scatter",
         "visible": true,
         "x": [
          120
         ],
         "xaxis": "x",
         "y": [
          1.686996625774264
         ],
         "yaxis": "y"
        },
        {
         "customdata": [
          "ABTS standard"
         ],
         "hovertemplate": "Signal: %{y:.2f}",
         "marker": {
          "color": "#000000"
         },
         "mode": "markers",
         "name": "sample20",
         "showlegend": false,
         "type": "scatter",
         "visible": true,
         "x": [
          120
         ],
         "xaxis": "x",
         "y": [
          1.659134913359565
         ],
         "yaxis": "y"
        },
        {
         "customdata": [
          "ABTS standard"
         ],
         "hovertemplate": "Signal: %{y:.2f}",
         "marker": {
          "color": "#000000"
         },
         "mode": "markers",
         "name": "sample21",
         "showlegend": false,
         "type": "scatter",
         "visible": true,
         "x": [
          140
         ],
         "xaxis": "x",
         "y": [
          1.9629918512373459
         ],
         "yaxis": "y"
        },
        {
         "customdata": [
          "ABTS standard"
         ],
         "hovertemplate": "Signal: %{y:.2f}",
         "marker": {
          "color": "#000000"
         },
         "mode": "markers",
         "name": "sample22",
         "showlegend": false,
         "type": "scatter",
         "visible": true,
         "x": [
          140
         ],
         "xaxis": "x",
         "y": [
          1.9436182869817475
         ],
         "yaxis": "y"
        },
        {
         "customdata": [
          "ABTS standard"
         ],
         "hovertemplate": "Signal: %{y:.2f}",
         "marker": {
          "color": "#000000"
         },
         "mode": "markers",
         "name": "sample23",
         "showlegend": false,
         "type": "scatter",
         "visible": true,
         "x": [
          140
         ],
         "xaxis": "x",
         "y": [
          1.9202913098029106
         ],
         "yaxis": "y"
        },
        {
         "customdata": [
          "ABTS standard"
         ],
         "hovertemplate": "Signal: %{y:.2f}",
         "marker": {
          "color": "#000000"
         },
         "mode": "markers",
         "name": "sample24",
         "showlegend": false,
         "type": "scatter",
         "visible": true,
         "x": [
          160
         ],
         "xaxis": "x",
         "y": [
          2.2112505070507837
         ],
         "yaxis": "y"
        },
        {
         "customdata": [
          "ABTS standard"
         ],
         "hovertemplate": "Signal: %{y:.2f}",
         "marker": {
          "color": "#000000"
         },
         "mode": "markers",
         "name": "sample25",
         "showlegend": false,
         "type": "scatter",
         "visible": true,
         "x": [
          160
         ],
         "xaxis": "x",
         "y": [
          2.2289015884535357
         ],
         "yaxis": "y"
        },
        {
         "customdata": [
          "ABTS standard"
         ],
         "hovertemplate": "Signal: %{y:.2f}",
         "marker": {
          "color": "#000000"
         },
         "mode": "markers",
         "name": "sample26",
         "showlegend": false,
         "type": "scatter",
         "visible": true,
         "x": [
          160
         ],
         "xaxis": "x",
         "y": [
          2.1992842251854396
         ],
         "yaxis": "y"
        },
        {
         "customdata": [
          "ABTS standard"
         ],
         "hovertemplate": "Signal: %{y:.2f}",
         "marker": {
          "color": "#000000"
         },
         "mode": "markers",
         "name": "sample27",
         "showlegend": false,
         "type": "scatter",
         "visible": true,
         "x": [
          180
         ],
         "xaxis": "x",
         "y": [
          2.4997201886011924
         ],
         "yaxis": "y"
        },
        {
         "customdata": [
          "ABTS standard"
         ],
         "hovertemplate": "Signal: %{y:.2f}",
         "marker": {
          "color": "#000000"
         },
         "mode": "markers",
         "name": "sample28",
         "showlegend": false,
         "type": "scatter",
         "visible": true,
         "x": [
          180
         ],
         "xaxis": "x",
         "y": [
          2.5500791180755478
         ],
         "yaxis": "y"
        },
        {
         "customdata": [
          "ABTS standard"
         ],
         "hovertemplate": "Signal: %{y:.2f}",
         "marker": {
          "color": "#000000"
         },
         "mode": "markers",
         "name": "sample29",
         "showlegend": false,
         "type": "scatter",
         "visible": true,
         "x": [
          180
         ],
         "xaxis": "x",
         "y": [
          2.4809974982496326
         ],
         "yaxis": "y"
        },
        {
         "customdata": [
          "ABTS standard"
         ],
         "hovertemplate": "Signal: %{y:.2f}",
         "marker": {
          "color": "#000000"
         },
         "mode": "markers",
         "name": "sample30",
         "showlegend": false,
         "type": "scatter",
         "visible": true,
         "x": [
          200
         ],
         "xaxis": "x",
         "y": [
          2.747418733655454
         ],
         "yaxis": "y"
        },
        {
         "customdata": [
          "ABTS standard"
         ],
         "hovertemplate": "Signal: %{y:.2f}",
         "marker": {
          "color": "#000000"
         },
         "mode": "markers",
         "name": "sample31",
         "showlegend": false,
         "type": "scatter",
         "visible": true,
         "x": [
          200
         ],
         "xaxis": "x",
         "y": [
          2.8320137701544423
         ],
         "yaxis": "y"
        },
        {
         "customdata": [
          "ABTS standard"
         ],
         "hovertemplate": "Signal: %{y:.2f}",
         "marker": {
          "color": "#000000"
         },
         "mode": "markers",
         "name": "sample32",
         "showlegend": false,
         "type": "scatter",
         "visible": true,
         "x": [
          200
         ],
         "xaxis": "x",
         "y": [
          2.797299244289382
         ],
         "yaxis": "y"
        },
        {
         "customdata": [
          "linear model"
         ],
         "hovertemplate": "Signal: %{y:.2f}",
         "marker": {
          "color": "#636EFA"
         },
         "mode": "lines",
         "name": "linear model",
         "type": "scatter",
         "visible": false,
         "x": [
          0,
          1.25,
          2.5,
          3.75,
          5,
          6.25,
          7.5,
          8.75,
          10,
          11.25,
          12.5,
          13.75,
          15,
          16.25,
          17.5,
          18.75,
          20,
          21.25,
          22.5,
          23.75,
          25,
          26.25,
          27.5,
          28.75,
          30,
          31.25,
          32.5,
          33.75,
          35,
          36.25,
          37.5,
          38.75,
          40,
          41.25,
          42.5,
          43.75,
          45,
          46.25,
          47.5,
          48.75,
          50,
          51.25,
          52.5,
          53.75,
          55,
          56.25,
          57.5,
          58.75,
          60,
          61.25,
          62.5,
          63.75,
          65,
          66.25,
          67.5,
          68.75,
          70,
          71.25,
          72.5,
          73.75,
          75,
          76.25,
          77.5,
          78.75,
          80,
          81.25,
          82.5,
          83.75,
          85,
          86.25,
          87.5,
          88.75,
          90,
          91.25,
          92.5,
          93.75,
          95,
          96.25,
          97.5,
          98.75,
          100,
          101.25,
          102.5,
          103.75,
          105,
          106.25,
          107.5,
          108.75,
          110,
          111.25,
          112.5,
          113.75,
          115,
          116.25,
          117.5,
          118.75,
          120,
          121.25,
          122.5,
          123.75,
          125,
          126.25,
          127.5,
          128.75,
          130,
          131.25,
          132.5,
          133.75,
          135,
          136.25,
          137.5,
          138.75,
          140,
          141.25,
          142.5,
          143.75,
          145,
          146.25,
          147.5,
          148.75,
          150,
          151.25,
          152.5,
          153.75,
          155,
          156.25,
          157.5,
          158.75,
          160,
          161.25,
          162.5,
          163.75,
          165,
          166.25,
          167.5,
          168.75,
          170,
          171.25,
          172.5,
          173.75,
          175,
          176.25,
          177.5,
          178.75,
          180
         ],
         "xaxis": "x",
         "y": [
          0,
          0.017334608418541973,
          0.034669216837083947,
          0.05200382525562593,
          0.06933843367416789,
          0.08667304209270987,
          0.10400765051125185,
          0.12134225892979382,
          0.13867686734833579,
          0.15601147576687777,
          0.17334608418541975,
          0.19068069260396173,
          0.2080153010225037,
          0.2253499094410457,
          0.24268451785958764,
          0.2600191262781296,
          0.27735373469667157,
          0.2946883431152136,
          0.31202295153375553,
          0.32935755995229754,
          0.3466921683708395,
          0.3640267767893815,
          0.38136138520792345,
          0.3986959936264654,
          0.4160306020450074,
          0.43336521046354937,
          0.4506998188820914,
          0.4680344273006333,
          0.4853690357191753,
          0.5027036441377173,
          0.5200382525562592,
          0.5373728609748012,
          0.5547074693933431,
          0.5720420778118852,
          0.5893766862304272,
          0.6067112946489691,
          0.6240459030675111,
          0.6413805114860531,
          0.6587151199045951,
          0.676049728323137,
          0.693384336741679,
          0.7107189451602209,
          0.728053553578763,
          0.745388161997305,
          0.7627227704158469,
          0.7800573788343889,
          0.7973919872529308,
          0.8147265956714729,
          0.8320612040900148,
          0.8493958125085568,
          0.8667304209270987,
          0.8840650293456407,
          0.9013996377641827,
          0.9187342461827247,
          0.9360688546012667,
          0.9534034630198086,
          0.9707380714383506,
          0.9880726798568926,
          1.0054072882754346,
          1.0227418966939765,
          1.0400765051125185,
          1.0574111135310604,
          1.0747457219496024,
          1.0920803303681443,
          1.1094149387866863,
          1.1267495472052285,
          1.1440841556237704,
          1.1614187640423124,
          1.1787533724608543,
          1.1960879808793963,
          1.2134225892979382,
          1.2307571977164802,
          1.2480918061350221,
          1.265426414553564,
          1.2827610229721063,
          1.3000956313906482,
          1.3174302398091902,
          1.3347648482277321,
          1.352099456646274,
          1.369434065064816,
          1.386768673483358,
          1.4041032819019,
          1.4214378903204419,
          1.4387724987389838,
          1.456107107157526,
          1.473441715576068,
          1.49077632399461,
          1.5081109324131519,
          1.5254455408316938,
          1.5427801492502358,
          1.5601147576687777,
          1.5774493660873197,
          1.5947839745058616,
          1.6121185829244036,
          1.6294531913429458,
          1.6467877997614877,
          1.6641224081800297,
          1.6814570165985716,
          1.6987916250171136,
          1.7161262334356555,
          1.7334608418541975,
          1.7507954502727394,
          1.7681300586912814,
          1.7854646671098233,
          1.8027992755283655,
          1.8201338839469074,
          1.8374684923654494,
          1.8548031007839914,
          1.8721377092025333,
          1.8894723176210753,
          1.9068069260396172,
          1.9241415344581592,
          1.9414761428767011,
          1.958810751295243,
          1.9761453597137852,
          1.9934799681323272,
          2.010814576550869,
          2.028149184969411,
          2.045483793387953,
          2.0628184018064952,
          2.080153010225037,
          2.097487618643579,
          2.114822227062121,
          2.132156835480663,
          2.1494914438992048,
          2.166826052317747,
          2.1841606607362887,
          2.201495269154831,
          2.2188298775733726,
          2.2361644859919148,
          2.253499094410457,
          2.2708337028289987,
          2.288168311247541,
          2.3055029196660826,
          2.3228375280846247,
          2.3401721365031665,
          2.3575067449217086,
          2.3748413533402504,
          2.3921759617587925,
          2.4095105701773347,
          2.4268451785958765,
          2.4441797870144186,
          2.4615143954329604,
          2.4788490038515025,
          2.4961836122700443
         ],
         "yaxis": "y"
        },
        {
         "customdata": [
          "linear model"
         ],
         "hoverinfo": "skip",
         "hovertemplate": "Signal: %{y:.2f}",
         "marker": {
          "color": "#636EFA"
         },
         "mode": "markers",
         "name": "Residuals",
         "type": "scatter",
         "visible": false,
         "x": [
          0,
          0,
          0,
          20,
          20,
          20,
          40,
          40,
          40,
          60,
          60,
          60,
          80,
          80,
          80,
          100,
          100,
          100,
          120,
          120,
          120,
          140,
          140,
          140,
          160,
          160,
          160,
          180,
          180
         ],
         "xaxis": "x2",
         "y": [
          0.015036629702506594,
          -0.021146241615068246,
          -0.02438078114450399,
          -0.02791060303146492,
          0.005899668669437086,
          0.03343342849186204,
          -0.045180746736891764,
          0.02738377585418106,
          0.00014844792728163636,
          0.0033453892889921955,
          0.0307046765465403,
          0.010976329995155076,
          -0.006214836405935564,
          -0.0034087382969039126,
          0.03060111898531037,
          0.010140100118552375,
          -0.03161410800733444,
          -0.008668473557631007,
          0.012039742908518836,
          0.022874217594234247,
          -0.004987494820464677,
          0.02151570836064476,
          0.0021421441050464285,
          -0.021184833073790488,
          -0.007579370522588835,
          0.01007171088016312,
          -0.019545652387932932,
          0.0035365763311481224,
          -0.0151861140204117
         ],
         "yaxis": "y2"
        },
        {
         "customdata": [
          "linear model"
         ],
         "hovertemplate": "Signal: %{y:.2f}",
         "line": {
          "color": "grey",
          "dash": "dash",
          "width": 2
         },
         "showlegend": false,
         "type": "scatter",
         "visible": true,
         "x": [
          0,
          0,
          0,
          20,
          20,
          20,
          40,
          40,
          40,
          60,
          60,
          60,
          80,
          80,
          80,
          100,
          100,
          100,
          120,
          120,
          120,
          140,
          140,
          140,
          160,
          160,
          160,
          180,
          180
         ],
         "xaxis": "x2",
         "y": [
          0,
          0,
          0,
          0,
          0,
          0,
          0,
          0,
          0,
          0,
          0,
          0,
          0,
          0,
          0,
          0,
          0,
          0,
          0,
          0,
          0,
          0,
          0,
          0,
          0,
          0,
          0,
          0,
          0
         ],
         "yaxis": "y2"
        },
        {
         "customdata": [
          "quadratic model"
         ],
         "hovertemplate": "Signal: %{y:.2f}",
         "marker": {
          "color": "#EF553B"
         },
         "mode": "lines",
         "name": "quadratic model",
         "type": "scatter",
         "visible": false,
         "x": [
          0,
          1.25,
          2.5,
          3.75,
          5,
          6.25,
          7.5,
          8.75,
          10,
          11.25,
          12.5,
          13.75,
          15,
          16.25,
          17.5,
          18.75,
          20,
          21.25,
          22.5,
          23.75,
          25,
          26.25,
          27.5,
          28.75,
          30,
          31.25,
          32.5,
          33.75,
          35,
          36.25,
          37.5,
          38.75,
          40,
          41.25,
          42.5,
          43.75,
          45,
          46.25,
          47.5,
          48.75,
          50,
          51.25,
          52.5,
          53.75,
          55,
          56.25,
          57.5,
          58.75,
          60,
          61.25,
          62.5,
          63.75,
          65,
          66.25,
          67.5,
          68.75,
          70,
          71.25,
          72.5,
          73.75,
          75,
          76.25,
          77.5,
          78.75,
          80,
          81.25,
          82.5,
          83.75,
          85,
          86.25,
          87.5,
          88.75,
          90,
          91.25,
          92.5,
          93.75,
          95,
          96.25,
          97.5,
          98.75,
          100,
          101.25,
          102.5,
          103.75,
          105,
          106.25,
          107.5,
          108.75,
          110,
          111.25,
          112.5,
          113.75,
          115,
          116.25,
          117.5,
          118.75,
          120,
          121.25,
          122.5,
          123.75,
          125,
          126.25,
          127.5,
          128.75,
          130,
          131.25,
          132.5,
          133.75,
          135,
          136.25,
          137.5,
          138.75,
          140,
          141.25,
          142.5,
          143.75,
          145,
          146.25,
          147.5,
          148.75,
          150,
          151.25,
          152.5,
          153.75,
          155,
          156.25,
          157.5,
          158.75,
          160,
          161.25,
          162.5,
          163.75,
          165,
          166.25,
          167.5,
          168.75,
          170,
          171.25,
          172.5,
          173.75,
          175,
          176.25,
          177.5,
          178.75,
          180
         ],
         "xaxis": "x",
         "y": [
          0,
          0.01748921513621014,
          0.034975606705268135,
          0.05245917470717398,
          0.0699399191419277,
          0.08741784000952925,
          0.10489293730997866,
          0.12236521104327591,
          0.13983466120942104,
          0.15730128780841401,
          0.17476509084025485,
          0.1922260703049435,
          0.20968422620248006,
          0.22713955853286447,
          0.2445920672960967,
          0.2620417524921768,
          0.27948861412110476,
          0.29693265218288056,
          0.3143738666775042,
          0.33181225760497574,
          0.34924782496529516,
          0.36668056875846233,
          0.3841104889844774,
          0.40153758564334036,
          0.41896185873505115,
          0.43638330825960975,
          0.45380193421701626,
          0.4712177366072706,
          0.48863071543037284,
          0.5060408706863229,
          0.5234482023751208,
          0.5408527104967666,
          0.5582543950512602,
          0.5756532560386017,
          0.593049293458791,
          0.6104425073118281,
          0.6278328975977132,
          0.6452204643164461,
          0.6626052074680269,
          0.6799871270524555,
          0.697366223069732,
          0.7147424955198562,
          0.7321159444028285,
          0.7494865697186485,
          0.7668543714673163,
          0.784219349648832,
          0.8015815042631956,
          0.8189408353104071,
          0.8362973427904663,
          0.8536510267033735,
          0.8710018870491284,
          0.8883499238277313,
          0.905695137039182,
          0.9230375266834806,
          0.940377092760627,
          0.9577138352706213,
          0.9750477542134633,
          0.9923788495891533,
          1.0097071213976911,
          1.027032569639077,
          1.0443551943133105,
          1.061674995420392,
          1.078991972960321,
          1.096306126933098,
          1.113617457338723,
          1.1309259641771958,
          1.1482316474485166,
          1.165534507152685,
          1.1828345432897014,
          1.2001317558595657,
          1.2174261448622778,
          1.2347177102978377,
          1.2520064521662455,
          1.2692923704675012,
          1.2865754652016048,
          1.3038557363685561,
          1.321133183968355,
          1.3384078080010022,
          1.3556796084664973,
          1.37294858536484,
          1.3902147386960306,
          1.4074780684600692,
          1.4247385746569554,
          1.4419962572866896,
          1.4592511163492716,
          1.4765031518447016,
          1.4937523637729793,
          1.510998752134105,
          1.5282423169280785,
          1.5454830581548995,
          1.5627209758145688,
          1.5799560699070858,
          1.5971883404324507,
          1.6144177873906633,
          1.631644410781724,
          1.6488682106056325,
          1.6660891868623888,
          1.6833073395519929,
          1.700522668674445,
          1.7177351742297449,
          1.7349448562178926,
          1.752151714638888,
          1.7693557494927317,
          1.7865569607794227,
          1.803755348498962,
          1.8209509126513488,
          1.8381436532365836,
          1.8553335702546663,
          1.8725206637055969,
          1.8897049335893754,
          1.9068863799060016,
          1.9240650026554758,
          1.9412408018377978,
          1.9584137774529675,
          1.9755839295009852,
          1.9927512579818507,
          2.009915762895564,
          2.027077444242125,
          2.044236302021534,
          2.061392336233791,
          2.078545546878896,
          2.095695933956849,
          2.112843497467649,
          2.1299882374112977,
          2.147130153787794,
          2.164269246597138,
          2.1814055158393297,
          2.1985389615143696,
          2.2156695836222573,
          2.232797382162993,
          2.249922357136576,
          2.267044508543007,
          2.284163836382286,
          2.301280340654413,
          2.3183940213593877,
          2.3355048784972103,
          2.352612912067881,
          2.3697181220713994,
          2.3868205085077654,
          2.4039200713769797,
          2.4210168106790415,
          2.438110726413951,
          2.455201818581709,
          2.4722900871823144,
          2.4893755322157674
         ],
         "yaxis": "y"
        },
        {
         "customdata": [
          "quadratic model"
         ],
         "hoverinfo": "skip",
         "hovertemplate": "Signal: %{y:.2f}",
         "marker": {
          "color": "#EF553B"
         },
         "mode": "markers",
         "name": "Residuals",
         "type": "scatter",
         "visible": false,
         "x": [
          0,
          0,
          0,
          20,
          20,
          20,
          40,
          40,
          40,
          60,
          60,
          60,
          80,
          80,
          80,
          100,
          100,
          100,
          120,
          120,
          120,
          140,
          140,
          140,
          160,
          160,
          160,
          180,
          180
         ],
         "xaxis": "x2",
         "y": [
          0.015036629702506594,
          -0.021146241615068246,
          -0.02438078114450399,
          -0.03004548245589811,
          0.0037647892450038967,
          0.03129854906742885,
          -0.048727672394808796,
          0.023836850196264026,
          -0.0033984777306353964,
          -0.0008907494114592795,
          0.026468537846088824,
          0.006740191294703601,
          -0.010417354957972247,
          -0.007611256848940595,
          0.02639860043327369,
          0.00669403490587972,
          -0.035060173220007096,
          -0.012114538770303662,
          0.010072964226159664,
          0.020907438911875076,
          -0.006954273502823849,
          0.021751049399548084,
          0.0023774851439497535,
          -0.020949492034887163,
          -0.004419076571473557,
          0.013232004831278399,
          -0.016385358436817654,
          0.010344656385425033,
          -0.00837803396613479
         ],
         "yaxis": "y2"
        },
        {
         "customdata": [
          "quadratic model"
         ],
         "hovertemplate": "Signal: %{y:.2f}",
         "line": {
          "color": "grey",
          "dash": "dash",
          "width": 2
         },
         "showlegend": false,
         "type": "scatter",
         "visible": true,
         "x": [
          0,
          0,
          0,
          20,
          20,
          20,
          40,
          40,
          40,
          60,
          60,
          60,
          80,
          80,
          80,
          100,
          100,
          100,
          120,
          120,
          120,
          140,
          140,
          140,
          160,
          160,
          160,
          180,
          180
         ],
         "xaxis": "x2",
         "y": [
          0,
          0,
          0,
          0,
          0,
          0,
          0,
          0,
          0,
          0,
          0,
          0,
          0,
          0,
          0,
          0,
          0,
          0,
          0,
          0,
          0,
          0,
          0,
          0,
          0,
          0,
          0,
          0,
          0
         ],
         "yaxis": "y2"
        },
        {
         "customdata": [
          "cubic model"
         ],
         "hovertemplate": "Signal: %{y:.2f}",
         "marker": {
          "color": "#00CC96"
         },
         "mode": "lines",
         "name": "cubic model",
         "type": "scatter",
         "visible": false,
         "x": [
          0,
          1.25,
          2.5,
          3.75,
          5,
          6.25,
          7.5,
          8.75,
          10,
          11.25,
          12.5,
          13.75,
          15,
          16.25,
          17.5,
          18.75,
          20,
          21.25,
          22.5,
          23.75,
          25,
          26.25,
          27.5,
          28.75,
          30,
          31.25,
          32.5,
          33.75,
          35,
          36.25,
          37.5,
          38.75,
          40,
          41.25,
          42.5,
          43.75,
          45,
          46.25,
          47.5,
          48.75,
          50,
          51.25,
          52.5,
          53.75,
          55,
          56.25,
          57.5,
          58.75,
          60,
          61.25,
          62.5,
          63.75,
          65,
          66.25,
          67.5,
          68.75,
          70,
          71.25,
          72.5,
          73.75,
          75,
          76.25,
          77.5,
          78.75,
          80,
          81.25,
          82.5,
          83.75,
          85,
          86.25,
          87.5,
          88.75,
          90,
          91.25,
          92.5,
          93.75,
          95,
          96.25,
          97.5,
          98.75,
          100,
          101.25,
          102.5,
          103.75,
          105,
          106.25,
          107.5,
          108.75,
          110,
          111.25,
          112.5,
          113.75,
          115,
          116.25,
          117.5,
          118.75,
          120,
          121.25,
          122.5,
          123.75,
          125,
          126.25,
          127.5,
          128.75,
          130,
          131.25,
          132.5,
          133.75,
          135,
          136.25,
          137.5,
          138.75,
          140,
          141.25,
          142.5,
          143.75,
          145,
          146.25,
          147.5,
          148.75,
          150,
          151.25,
          152.5,
          153.75,
          155,
          156.25,
          157.5,
          158.75,
          160,
          161.25,
          162.5,
          163.75,
          165,
          166.25,
          167.5,
          168.75,
          170,
          171.25,
          172.5,
          173.75,
          175,
          176.25,
          177.5,
          178.75,
          180
         ],
         "xaxis": "x",
         "y": [
          0,
          0.017482384276363845,
          0.03496225441023797,
          0.052439605629798144,
          0.06991443316322017,
          0.08738673223867982,
          0.10485649808435289,
          0.12232372592841514,
          0.1397884109990424,
          0.15725054852441042,
          0.174710133732695,
          0.19216716185207194,
          0.20962162811071697,
          0.22707352773680595,
          0.24452285595851458,
          0.2619696080040187,
          0.2794137791014941,
          0.2968553644791166,
          0.3142943593650619,
          0.3317307589875058,
          0.34916455857462414,
          0.36659575335459266,
          0.3840243385555872,
          0.40145030940578347,
          0.4188736611333573,
          0.4362943889664844,
          0.4537124881333407,
          0.47112795386210193,
          0.4885407813809438,
          0.5059509659180421,
          0.5233585027015728,
          0.5407633869597114,
          0.5581656139206339,
          0.5755651788125161,
          0.5929620768635336,
          0.6103563033018623,
          0.6277478533556781,
          0.6451367222531564,
          0.6625229052224735,
          0.6799063974918048,
          0.6972871942893263,
          0.7146652908432136,
          0.7320406823816427,
          0.7494133641327893,
          0.766783331324829,
          0.7841505791859378,
          0.8015151029442914,
          0.8188768978280656,
          0.8362359590654364,
          0.8535922818845791,
          0.87094586151367,
          0.8882966931808846,
          0.9056447721143986,
          0.9229900935423881,
          0.9403326526930287,
          0.9576724447944961,
          0.9750094650749662,
          0.9923437087626148,
          1.0096751710856176,
          1.0270038472721505,
          1.0443297325503893,
          1.0616528221485098,
          1.0789731112946874,
          1.0962905952170983,
          1.1136052691439182,
          1.1309171283033228,
          1.148226167923488,
          1.1655323832325892,
          1.182835769458803,
          1.2001363218303045,
          1.2174340355752695,
          1.2347289059218742,
          1.252020928098294,
          1.269310097332705,
          1.2865964088532826,
          1.303879857888203,
          1.3211604396656418,
          1.3384381494137745,
          1.3557129823607774,
          1.372984933734826,
          1.390253998764096,
          1.4075201726767637,
          1.424783450701004,
          1.4420438280649936,
          1.4593012999969077,
          1.4765558617249221,
          1.4938075084772129,
          1.511056235481956,
          1.5283020379673264,
          1.5455449111615007,
          1.5627848502926542,
          1.5800218505889632,
          1.597255907278603,
          1.6144870155897495,
          1.6317151707505784,
          1.6489403679892658,
          1.666162602533987,
          1.6833818696129186,
          1.7005981644542356,
          1.717811482286114,
          1.7350218183367296,
          1.7522291678342583,
          1.7694335260068759,
          1.7866348880827578,
          1.8038332492900804,
          1.821028604857019,
          1.8382209500117497,
          1.855410279982448,
          1.8725965899972896,
          1.889779875284451,
          1.9069601310721072,
          1.9241373525884342,
          1.9413115350616081,
          1.9584826737198044,
          1.9756507637911989,
          1.9928158005039673,
          2.0099777790862854,
          2.0271366947663294,
          2.0442925427722747,
          2.0614453183322974,
          2.078595016674573,
          2.0957416330272767,
          2.112885162618585,
          2.130025600676674,
          2.1471629424297194,
          2.164297183105896,
          2.181428317933381,
          2.1985563421403485,
          2.215681250954976,
          2.232803039605438,
          2.249921703319911,
          2.2670372373265706,
          2.2841496368535927,
          2.3012588971291525,
          2.318365013381427,
          2.3354679808385903,
          2.35256779472882,
          2.3696644502802906,
          2.3867579427211782,
          2.403848267279659,
          2.420935419183908,
          2.4380193936621017,
          2.4551001859424155,
          2.472177791253025,
          2.4892522048221073
         ],
         "yaxis": "y"
        },
        {
         "customdata": [
          "cubic model"
         ],
         "hoverinfo": "skip",
         "hovertemplate": "Signal: %{y:.2f}",
         "marker": {
          "color": "#00CC96"
         },
         "mode": "markers",
         "name": "Residuals",
         "type": "scatter",
         "visible": false,
         "x": [
          0,
          0,
          0,
          20,
          20,
          20,
          40,
          40,
          40,
          60,
          60,
          60,
          80,
          80,
          80,
          100,
          100,
          100,
          120,
          120,
          120,
          140,
          140,
          140,
          160,
          160,
          160,
          180,
          180
         ],
         "xaxis": "x2",
         "y": [
          0.015036629702506594,
          -0.021146241615068246,
          -0.02438078114450399,
          -0.029970647436287468,
          0.0038396242646145384,
          0.03137338408703949,
          -0.04863889126418253,
          0.023925631326890295,
          -0.0033096966000091266,
          -0.0008293656864293286,
          0.026529921571118775,
          0.006801575019733552,
          -0.010405166763167495,
          -0.007599068654135843,
          0.02641078862807844,
          0.006654774837814292,
          -0.035099433288072523,
          -0.01215379883836909,
          0.009999548554561422,
          0.020834023240276833,
          -0.0070276891744220915,
          0.021680316175737735,
          0.002306751920139405,
          -0.02102022525869751,
          -0.00443074390419218,
          0.013220337498559775,
          -0.016397025769536278,
          0.010467983779085088,
          -0.008254706572474735
         ],
         "yaxis": "y2"
        },
        {
         "customdata": [
          "cubic model"
         ],
         "hovertemplate": "Signal: %{y:.2f}",
         "line": {
          "color": "grey",
          "dash": "dash",
          "width": 2
         },
         "showlegend": false,
         "type": "scatter",
         "visible": true,
         "x": [
          0,
          0,
          0,
          20,
          20,
          20,
          40,
          40,
          40,
          60,
          60,
          60,
          80,
          80,
          80,
          100,
          100,
          100,
          120,
          120,
          120,
          140,
          140,
          140,
          160,
          160,
          160,
          180,
          180
         ],
         "xaxis": "x2",
         "y": [
          0,
          0,
          0,
          0,
          0,
          0,
          0,
          0,
          0,
          0,
          0,
          0,
          0,
          0,
          0,
          0,
          0,
          0,
          0,
          0,
          0,
          0,
          0,
          0,
          0,
          0,
          0,
          0,
          0
         ],
         "yaxis": "y2"
        },
        {
         "customdata": [
          "exponential model"
         ],
         "hovertemplate": "Signal: %{y:.2f}",
         "marker": {
          "color": "#AB63FA"
         },
         "mode": "lines",
         "name": "exponential model",
         "type": "scatter",
         "visible": false,
         "x": [
          0,
          1.25,
          2.5,
          3.75,
          5,
          6.25,
          7.5,
          8.75,
          10,
          11.25,
          12.5,
          13.75,
          15,
          16.25,
          17.5,
          18.75,
          20,
          21.25,
          22.5,
          23.75,
          25,
          26.25,
          27.5,
          28.75,
          30,
          31.25,
          32.5,
          33.75,
          35,
          36.25,
          37.5,
          38.75,
          40,
          41.25,
          42.5,
          43.75,
          45,
          46.25,
          47.5,
          48.75,
          50,
          51.25,
          52.5,
          53.75,
          55,
          56.25,
          57.5,
          58.75,
          60,
          61.25,
          62.5,
          63.75,
          65,
          66.25,
          67.5,
          68.75,
          70,
          71.25,
          72.5,
          73.75,
          75,
          76.25,
          77.5,
          78.75,
          80,
          81.25,
          82.5,
          83.75,
          85,
          86.25,
          87.5,
          88.75,
          90,
          91.25,
          92.5,
          93.75,
          95,
          96.25,
          97.5,
          98.75,
          100,
          101.25,
          102.5,
          103.75,
          105,
          106.25,
          107.5,
          108.75,
          110,
          111.25,
          112.5,
          113.75,
          115,
          116.25,
          117.5,
          118.75,
          120,
          121.25,
          122.5,
          123.75,
          125,
          126.25,
          127.5,
          128.75,
          130,
          131.25,
          132.5,
          133.75,
          135,
          136.25,
          137.5,
          138.75,
          140,
          141.25,
          142.5,
          143.75,
          145,
          146.25,
          147.5,
          148.75,
          150,
          151.25,
          152.5,
          153.75,
          155,
          156.25,
          157.5,
          158.75,
          160,
          161.25,
          162.5,
          163.75,
          165,
          166.25,
          167.5,
          168.75,
          170,
          171.25,
          172.5,
          173.75,
          175,
          176.25,
          177.5,
          178.75,
          180
         ],
         "xaxis": "x",
         "y": [
          0.42385147169669446,
          0.42939776234602767,
          0.43501662874894675,
          0.4407090205924302,
          0.44647589999054577,
          0.4523182416470641,
          0.45823703302020136,
          0.46423327448951685,
          0.47030797952499453,
          0.47646217485833736,
          0.4826969006565028,
          0.4890132106975094,
          0.495412172548544,
          0.5018948677463988,
          0.5084623919802703,
          0.5151158552769505,
          0.5218563821884394,
          0.5286851119820163,
          0.5356031988327936,
          0.5426118120187944,
          0.5497121361185799,
          0.5569053712114646,
          0.5641927330803502,
          0.571575453417215,
          0.579054780031291,
          0.5866319770599648,
          0.5943083251824407,
          0.6020851218361962,
          0.6099636814362732,
          0.617945335597436,
          0.6260314333592379,
          0.6342233414140334,
          0.6425224443379713,
          0.6509301448250149,
          0.6594478639240194,
          0.6680770412789157,
          0.6768191353720345,
          0.6856756237706166,
          0.6946480033765462,
          0.7037377906793547,
          0.7129465220125335,
          0.7222757538132016,
          0.7317270628851703,
          0.7413020466654513,
          0.7510023234942512,
          0.7608295328884993,
          0.7707853358189554,
          0.7808714149909418,
          0.791089475128751,
          0.8014412432637743,
          0.8119284690263988,
          0.8225529249417269,
          0.8333164067291646,
          0.8442207336059279,
          0.8552677485945235,
          0.8664593188342525,
          0.8777973358967883,
          0.8892837161058864,
          0.900920400861276,
          0.9127093569667912,
          0.9246525769627958,
          0.9367520794629557,
          0.9490099094954219,
          0.961428138848476,
          0.9740088664206971,
          0.9867542185757145,
          0.9996663495015992,
          1.0127474415749596,
          1.025999705729802,
          1.0394253818312167,
          1.0530267390539552,
          1.0668060762659588,
          1.08076572241691,
          1.0949080369318638,
          1.1092354101100337,
          1.1237502635287917,
          1.1384550504529614,
          1.1533522562494574,
          1.168444398807361,
          1.1837340289634841,
          1.1992237309335076,
          1.2149161227487582,
          1.2308138566987006,
          1.2469196197792232,
          1.2632361341467855,
          1.279766157578512,
          1.2965124839383035,
          1.3134779436490498,
          1.3306654041710206,
          1.3480777704865166,
          1.3657179855908625,
          1.3835890309898253,
          1.4016939272035398,
          1.4200357342770313,
          1.4386175522974147,
          1.4574425219178662,
          1.4765138248884453,
          1.495834684593871,
          1.5154083665983258,
          1.5352381791973961,
          1.5553274739772314,
          1.5756796463810205,
          1.5962981362828828,
          1.6171864285692648,
          1.6383480537279496,
          1.659786588444769,
          1.6815056562081279,
          1.7035089279214362,
          1.7258001225235569,
          1.748383007617371,
          1.7712614001065696,
          1.7944391668407755,
          1.8179202252691111,
          1.8417085441023153,
          1.8658081439835241,
          1.8902230981678305,
          1.914957533210736,
          1.9400156296656121,
          1.9654016227902846,
          1.991119803262869,
          2.0171745179069687,
          2.043570170426365,
          2.07031122214932,
          2.0974021927826203,
          2.124847661175486,
          2.152652266093476,
          2.180820707002521,
          2.2093577448632176,
          2.2382682029355094,
          2.26755696759391,
          2.2972289891533775,
          2.3272892827060114,
          2.3577429289686878,
          2.3885950751417893,
          2.4198509357791735,
          2.4515157936695253,
          2.4835950007292373,
          2.516093978906981,
          2.549018221100108,
          2.582373292083049,
          2.616164829447858,
          2.6503985445570613,
          2.6850802235089803,
          2.7202157281156842,
          2.755810996893737
         ],
         "yaxis": "y"
        },
        {
         "customdata": [
          "exponential model"
         ],
         "hoverinfo": "skip",
         "hovertemplate": "Signal: %{y:.2f}",
         "marker": {
          "color": "#AB63FA"
         },
         "mode": "markers",
         "name": "Residuals",
         "type": "scatter",
         "visible": false,
         "x": [
          0,
          0,
          0,
          20,
          20,
          20,
          40,
          40,
          40,
          60,
          60,
          60,
          80,
          80,
          80,
          100,
          100,
          100,
          120,
          120,
          120,
          140,
          140,
          140,
          160,
          160,
          160,
          180,
          180
         ],
         "xaxis": "x2",
         "y": [
          -0.4088148419941879,
          -0.4449977133117627,
          -0.44823225284119844,
          -0.2724132505232328,
          -0.23860297882233078,
          -0.21106921899990583,
          -0.13299572168151996,
          -0.06043119909044714,
          -0.08766652701734656,
          0.04431711825025597,
          0.07167640550780408,
          0.05194805895641885,
          0.12919123596005366,
          0.13199733406908531,
          0.1660071913512996,
          0.1976850426684027,
          0.15593083454251588,
          0.17887646899221932,
          0.1996483262001032,
          0.2104828008858186,
          0.18262108847111969,
          0.14507162596823475,
          0.12569806171263642,
          0.1023710845337995,
          -0.02701769588472569,
          -0.009366614481973734,
          -0.03898397775006979,
          -0.2560908082925448,
          -0.27481349864410465
         ],
         "yaxis": "y2"
        },
        {
         "customdata": [
          "exponential model"
         ],
         "hovertemplate": "Signal: %{y:.2f}",
         "line": {
          "color": "grey",
          "dash": "dash",
          "width": 2
         },
         "showlegend": false,
         "type": "scatter",
         "visible": true,
         "x": [
          0,
          0,
          0,
          20,
          20,
          20,
          40,
          40,
          40,
          60,
          60,
          60,
          80,
          80,
          80,
          100,
          100,
          100,
          120,
          120,
          120,
          140,
          140,
          140,
          160,
          160,
          160,
          180,
          180
         ],
         "xaxis": "x2",
         "y": [
          0,
          0,
          0,
          0,
          0,
          0,
          0,
          0,
          0,
          0,
          0,
          0,
          0,
          0,
          0,
          0,
          0,
          0,
          0,
          0,
          0,
          0,
          0,
          0,
          0,
          0,
          0,
          0,
          0
         ],
         "yaxis": "y2"
        }
       ],
       "layout": {
        "annotations": [
         {
          "font": {
           "size": 16
          },
          "showarrow": false,
          "text": "Standard",
          "x": 0.2125,
          "xanchor": "center",
          "xref": "paper",
          "y": 1,
          "yanchor": "bottom",
          "yref": "paper"
         },
         {
          "font": {
           "size": 16
          },
          "showarrow": false,
          "text": "Model Residuals",
          "x": 0.7875,
          "xanchor": "center",
          "xref": "paper",
          "y": 1,
          "yanchor": "bottom",
          "yref": "paper"
         },
         {
          "font": {
           "size": 16
          },
          "showarrow": false,
          "text": "ABTS / µmol L<sup>-1</sup>",
          "x": 0.5,
          "xanchor": "center",
          "xref": "paper",
          "y": 0,
          "yanchor": "top",
          "yref": "paper",
          "yshift": -30
         }
        ],
        "margin": {
         "b": 60,
         "l": 20,
         "r": 20,
         "t": 100
        },
        "template": {
         "data": {
          "bar": [
           {
            "error_x": {
             "color": "rgb(36,36,36)"
            },
            "error_y": {
             "color": "rgb(36,36,36)"
            },
            "marker": {
             "line": {
              "color": "white",
              "width": 0.5
             },
             "pattern": {
              "fillmode": "overlay",
              "size": 10,
              "solidity": 0.2
             }
            },
            "type": "bar"
           }
          ],
          "barpolar": [
           {
            "marker": {
             "line": {
              "color": "white",
              "width": 0.5
             },
             "pattern": {
              "fillmode": "overlay",
              "size": 10,
              "solidity": 0.2
             }
            },
            "type": "barpolar"
           }
          ],
          "carpet": [
           {
            "aaxis": {
             "endlinecolor": "rgb(36,36,36)",
             "gridcolor": "white",
             "linecolor": "white",
             "minorgridcolor": "white",
             "startlinecolor": "rgb(36,36,36)"
            },
            "baxis": {
             "endlinecolor": "rgb(36,36,36)",
             "gridcolor": "white",
             "linecolor": "white",
             "minorgridcolor": "white",
             "startlinecolor": "rgb(36,36,36)"
            },
            "type": "carpet"
           }
          ],
          "choropleth": [
           {
            "colorbar": {
             "outlinewidth": 1,
             "tickcolor": "rgb(36,36,36)",
             "ticks": "outside"
            },
            "type": "choropleth"
           }
          ],
          "contour": [
           {
            "colorbar": {
             "outlinewidth": 1,
             "tickcolor": "rgb(36,36,36)",
             "ticks": "outside"
            },
            "colorscale": [
             [
              0,
              "#440154"
             ],
             [
              0.1111111111111111,
              "#482878"
             ],
             [
              0.2222222222222222,
              "#3e4989"
             ],
             [
              0.3333333333333333,
              "#31688e"
             ],
             [
              0.4444444444444444,
              "#26828e"
             ],
             [
              0.5555555555555556,
              "#1f9e89"
             ],
             [
              0.6666666666666666,
              "#35b779"
             ],
             [
              0.7777777777777778,
              "#6ece58"
             ],
             [
              0.8888888888888888,
              "#b5de2b"
             ],
             [
              1,
              "#fde725"
             ]
            ],
            "type": "contour"
           }
          ],
          "contourcarpet": [
           {
            "colorbar": {
             "outlinewidth": 1,
             "tickcolor": "rgb(36,36,36)",
             "ticks": "outside"
            },
            "type": "contourcarpet"
           }
          ],
          "heatmap": [
           {
            "colorbar": {
             "outlinewidth": 1,
             "tickcolor": "rgb(36,36,36)",
             "ticks": "outside"
            },
            "colorscale": [
             [
              0,
              "#440154"
             ],
             [
              0.1111111111111111,
              "#482878"
             ],
             [
              0.2222222222222222,
              "#3e4989"
             ],
             [
              0.3333333333333333,
              "#31688e"
             ],
             [
              0.4444444444444444,
              "#26828e"
             ],
             [
              0.5555555555555556,
              "#1f9e89"
             ],
             [
              0.6666666666666666,
              "#35b779"
             ],
             [
              0.7777777777777778,
              "#6ece58"
             ],
             [
              0.8888888888888888,
              "#b5de2b"
             ],
             [
              1,
              "#fde725"
             ]
            ],
            "type": "heatmap"
           }
          ],
          "heatmapgl": [
           {
            "colorbar": {
             "outlinewidth": 1,
             "tickcolor": "rgb(36,36,36)",
             "ticks": "outside"
            },
            "colorscale": [
             [
              0,
              "#440154"
             ],
             [
              0.1111111111111111,
              "#482878"
             ],
             [
              0.2222222222222222,
              "#3e4989"
             ],
             [
              0.3333333333333333,
              "#31688e"
             ],
             [
              0.4444444444444444,
              "#26828e"
             ],
             [
              0.5555555555555556,
              "#1f9e89"
             ],
             [
              0.6666666666666666,
              "#35b779"
             ],
             [
              0.7777777777777778,
              "#6ece58"
             ],
             [
              0.8888888888888888,
              "#b5de2b"
             ],
             [
              1,
              "#fde725"
             ]
            ],
            "type": "heatmapgl"
           }
          ],
          "histogram": [
           {
            "marker": {
             "line": {
              "color": "white",
              "width": 0.6
             }
            },
            "type": "histogram"
           }
          ],
          "histogram2d": [
           {
            "colorbar": {
             "outlinewidth": 1,
             "tickcolor": "rgb(36,36,36)",
             "ticks": "outside"
            },
            "colorscale": [
             [
              0,
              "#440154"
             ],
             [
              0.1111111111111111,
              "#482878"
             ],
             [
              0.2222222222222222,
              "#3e4989"
             ],
             [
              0.3333333333333333,
              "#31688e"
             ],
             [
              0.4444444444444444,
              "#26828e"
             ],
             [
              0.5555555555555556,
              "#1f9e89"
             ],
             [
              0.6666666666666666,
              "#35b779"
             ],
             [
              0.7777777777777778,
              "#6ece58"
             ],
             [
              0.8888888888888888,
              "#b5de2b"
             ],
             [
              1,
              "#fde725"
             ]
            ],
            "type": "histogram2d"
           }
          ],
          "histogram2dcontour": [
           {
            "colorbar": {
             "outlinewidth": 1,
             "tickcolor": "rgb(36,36,36)",
             "ticks": "outside"
            },
            "colorscale": [
             [
              0,
              "#440154"
             ],
             [
              0.1111111111111111,
              "#482878"
             ],
             [
              0.2222222222222222,
              "#3e4989"
             ],
             [
              0.3333333333333333,
              "#31688e"
             ],
             [
              0.4444444444444444,
              "#26828e"
             ],
             [
              0.5555555555555556,
              "#1f9e89"
             ],
             [
              0.6666666666666666,
              "#35b779"
             ],
             [
              0.7777777777777778,
              "#6ece58"
             ],
             [
              0.8888888888888888,
              "#b5de2b"
             ],
             [
              1,
              "#fde725"
             ]
            ],
            "type": "histogram2dcontour"
           }
          ],
          "mesh3d": [
           {
            "colorbar": {
             "outlinewidth": 1,
             "tickcolor": "rgb(36,36,36)",
             "ticks": "outside"
            },
            "type": "mesh3d"
           }
          ],
          "parcoords": [
           {
            "line": {
             "colorbar": {
              "outlinewidth": 1,
              "tickcolor": "rgb(36,36,36)",
              "ticks": "outside"
             }
            },
            "type": "parcoords"
           }
          ],
          "pie": [
           {
            "automargin": true,
            "type": "pie"
           }
          ],
          "scatter": [
           {
            "fillpattern": {
             "fillmode": "overlay",
             "size": 10,
             "solidity": 0.2
            },
            "type": "scatter"
           }
          ],
          "scatter3d": [
           {
            "line": {
             "colorbar": {
              "outlinewidth": 1,
              "tickcolor": "rgb(36,36,36)",
              "ticks": "outside"
             }
            },
            "marker": {
             "colorbar": {
              "outlinewidth": 1,
              "tickcolor": "rgb(36,36,36)",
              "ticks": "outside"
             }
            },
            "type": "scatter3d"
           }
          ],
          "scattercarpet": [
           {
            "marker": {
             "colorbar": {
              "outlinewidth": 1,
              "tickcolor": "rgb(36,36,36)",
              "ticks": "outside"
             }
            },
            "type": "scattercarpet"
           }
          ],
          "scattergeo": [
           {
            "marker": {
             "colorbar": {
              "outlinewidth": 1,
              "tickcolor": "rgb(36,36,36)",
              "ticks": "outside"
             }
            },
            "type": "scattergeo"
           }
          ],
          "scattergl": [
           {
            "marker": {
             "colorbar": {
              "outlinewidth": 1,
              "tickcolor": "rgb(36,36,36)",
              "ticks": "outside"
             }
            },
            "type": "scattergl"
           }
          ],
          "scattermapbox": [
           {
            "marker": {
             "colorbar": {
              "outlinewidth": 1,
              "tickcolor": "rgb(36,36,36)",
              "ticks": "outside"
             }
            },
            "type": "scattermapbox"
           }
          ],
          "scatterpolar": [
           {
            "marker": {
             "colorbar": {
              "outlinewidth": 1,
              "tickcolor": "rgb(36,36,36)",
              "ticks": "outside"
             }
            },
            "type": "scatterpolar"
           }
          ],
          "scatterpolargl": [
           {
            "marker": {
             "colorbar": {
              "outlinewidth": 1,
              "tickcolor": "rgb(36,36,36)",
              "ticks": "outside"
             }
            },
            "type": "scatterpolargl"
           }
          ],
          "scatterternary": [
           {
            "marker": {
             "colorbar": {
              "outlinewidth": 1,
              "tickcolor": "rgb(36,36,36)",
              "ticks": "outside"
             }
            },
            "type": "scatterternary"
           }
          ],
          "surface": [
           {
            "colorbar": {
             "outlinewidth": 1,
             "tickcolor": "rgb(36,36,36)",
             "ticks": "outside"
            },
            "colorscale": [
             [
              0,
              "#440154"
             ],
             [
              0.1111111111111111,
              "#482878"
             ],
             [
              0.2222222222222222,
              "#3e4989"
             ],
             [
              0.3333333333333333,
              "#31688e"
             ],
             [
              0.4444444444444444,
              "#26828e"
             ],
             [
              0.5555555555555556,
              "#1f9e89"
             ],
             [
              0.6666666666666666,
              "#35b779"
             ],
             [
              0.7777777777777778,
              "#6ece58"
             ],
             [
              0.8888888888888888,
              "#b5de2b"
             ],
             [
              1,
              "#fde725"
             ]
            ],
            "type": "surface"
           }
          ],
          "table": [
           {
            "cells": {
             "fill": {
              "color": "rgb(237,237,237)"
             },
             "line": {
              "color": "white"
             }
            },
            "header": {
             "fill": {
              "color": "rgb(217,217,217)"
             },
             "line": {
              "color": "white"
             }
            },
            "type": "table"
           }
          ]
         },
         "layout": {
          "annotationdefaults": {
           "arrowhead": 0,
           "arrowwidth": 1
          },
          "autotypenumbers": "strict",
          "coloraxis": {
           "colorbar": {
            "outlinewidth": 1,
            "tickcolor": "rgb(36,36,36)",
            "ticks": "outside"
           }
          },
          "colorscale": {
           "diverging": [
            [
             0,
             "rgb(103,0,31)"
            ],
            [
             0.1,
             "rgb(178,24,43)"
            ],
            [
             0.2,
             "rgb(214,96,77)"
            ],
            [
             0.3,
             "rgb(244,165,130)"
            ],
            [
             0.4,
             "rgb(253,219,199)"
            ],
            [
             0.5,
             "rgb(247,247,247)"
            ],
            [
             0.6,
             "rgb(209,229,240)"
            ],
            [
             0.7,
             "rgb(146,197,222)"
            ],
            [
             0.8,
             "rgb(67,147,195)"
            ],
            [
             0.9,
             "rgb(33,102,172)"
            ],
            [
             1,
             "rgb(5,48,97)"
            ]
           ],
           "sequential": [
            [
             0,
             "#440154"
            ],
            [
             0.1111111111111111,
             "#482878"
            ],
            [
             0.2222222222222222,
             "#3e4989"
            ],
            [
             0.3333333333333333,
             "#31688e"
            ],
            [
             0.4444444444444444,
             "#26828e"
            ],
            [
             0.5555555555555556,
             "#1f9e89"
            ],
            [
             0.6666666666666666,
             "#35b779"
            ],
            [
             0.7777777777777778,
             "#6ece58"
            ],
            [
             0.8888888888888888,
             "#b5de2b"
            ],
            [
             1,
             "#fde725"
            ]
           ],
           "sequentialminus": [
            [
             0,
             "#440154"
            ],
            [
             0.1111111111111111,
             "#482878"
            ],
            [
             0.2222222222222222,
             "#3e4989"
            ],
            [
             0.3333333333333333,
             "#31688e"
            ],
            [
             0.4444444444444444,
             "#26828e"
            ],
            [
             0.5555555555555556,
             "#1f9e89"
            ],
            [
             0.6666666666666666,
             "#35b779"
            ],
            [
             0.7777777777777778,
             "#6ece58"
            ],
            [
             0.8888888888888888,
             "#b5de2b"
            ],
            [
             1,
             "#fde725"
            ]
           ]
          },
          "colorway": [
           "#1F77B4",
           "#FF7F0E",
           "#2CA02C",
           "#D62728",
           "#9467BD",
           "#8C564B",
           "#E377C2",
           "#7F7F7F",
           "#BCBD22",
           "#17BECF"
          ],
          "font": {
           "color": "rgb(36,36,36)"
          },
          "geo": {
           "bgcolor": "white",
           "lakecolor": "white",
           "landcolor": "white",
           "showlakes": true,
           "showland": true,
           "subunitcolor": "white"
          },
          "hoverlabel": {
           "align": "left"
          },
          "hovermode": "closest",
          "mapbox": {
           "style": "light"
          },
          "paper_bgcolor": "white",
          "plot_bgcolor": "white",
          "polar": {
           "angularaxis": {
            "gridcolor": "rgb(232,232,232)",
            "linecolor": "rgb(36,36,36)",
            "showgrid": false,
            "showline": true,
            "ticks": "outside"
           },
           "bgcolor": "white",
           "radialaxis": {
            "gridcolor": "rgb(232,232,232)",
            "linecolor": "rgb(36,36,36)",
            "showgrid": false,
            "showline": true,
            "ticks": "outside"
           }
          },
          "scene": {
           "xaxis": {
            "backgroundcolor": "white",
            "gridcolor": "rgb(232,232,232)",
            "gridwidth": 2,
            "linecolor": "rgb(36,36,36)",
            "showbackground": true,
            "showgrid": false,
            "showline": true,
            "ticks": "outside",
            "zeroline": false,
            "zerolinecolor": "rgb(36,36,36)"
           },
           "yaxis": {
            "backgroundcolor": "white",
            "gridcolor": "rgb(232,232,232)",
            "gridwidth": 2,
            "linecolor": "rgb(36,36,36)",
            "showbackground": true,
            "showgrid": false,
            "showline": true,
            "ticks": "outside",
            "zeroline": false,
            "zerolinecolor": "rgb(36,36,36)"
           },
           "zaxis": {
            "backgroundcolor": "white",
            "gridcolor": "rgb(232,232,232)",
            "gridwidth": 2,
            "linecolor": "rgb(36,36,36)",
            "showbackground": true,
            "showgrid": false,
            "showline": true,
            "ticks": "outside",
            "zeroline": false,
            "zerolinecolor": "rgb(36,36,36)"
           }
          },
          "shapedefaults": {
           "fillcolor": "black",
           "line": {
            "width": 0
           },
           "opacity": 0.3
          },
          "ternary": {
           "aaxis": {
            "gridcolor": "rgb(232,232,232)",
            "linecolor": "rgb(36,36,36)",
            "showgrid": false,
            "showline": true,
            "ticks": "outside"
           },
           "baxis": {
            "gridcolor": "rgb(232,232,232)",
            "linecolor": "rgb(36,36,36)",
            "showgrid": false,
            "showline": true,
            "ticks": "outside"
           },
           "bgcolor": "white",
           "caxis": {
            "gridcolor": "rgb(232,232,232)",
            "linecolor": "rgb(36,36,36)",
            "showgrid": false,
            "showline": true,
            "ticks": "outside"
           }
          },
          "title": {
           "x": 0.05
          },
          "xaxis": {
           "automargin": true,
           "gridcolor": "rgb(232,232,232)",
           "linecolor": "rgb(36,36,36)",
           "showgrid": false,
           "showline": true,
           "ticks": "outside",
           "title": {
            "standoff": 15
           },
           "zeroline": false,
           "zerolinecolor": "rgb(36,36,36)"
          },
          "yaxis": {
           "automargin": true,
           "gridcolor": "rgb(232,232,232)",
           "linecolor": "rgb(36,36,36)",
           "showgrid": false,
           "showline": true,
           "ticks": "outside",
           "title": {
            "standoff": 15
           },
           "zeroline": false,
           "zerolinecolor": "rgb(36,36,36)"
          }
         }
        },
        "updatemenus": [
         {
          "active": 0,
          "buttons": [
           {
            "args": [
             {
              "visible": [
               true,
               true,
               true,
               true,
               true,
               true,
               true,
               true,
               true,
               true,
               true,
               true,
               true,
               true,
               true,
               true,
               true,
               true,
               true,
               true,
               true,
               true,
               true,
               true,
               true,
               true,
               true,
               true,
               true,
               true,
               true,
               true,
               true,
               false,
               false,
               false,
               false,
               false,
               false,
               false,
               false,
               false,
               false,
               false,
               false
              ]
             }
            ],
            "label": "ABTS standard",
            "method": "update"
           },
           {
            "args": [
             {
              "title": "linear model",
              "visible": [
               true,
               true,
               true,
               true,
               true,
               true,
               true,
               true,
               true,
               true,
               true,
               true,
               true,
               true,
               true,
               true,
               true,
               true,
               true,
               true,
               true,
               true,
               true,
               true,
               true,
               true,
               true,
               true,
               true,
               true,
               true,
               true,
               true,
               true,
               true,
               true,
               false,
               false,
               false,
               false,
               false,
               false,
               false,
               false,
               false
              ]
             }
            ],
            "label": "linear model",
            "method": "update"
           },
           {
            "args": [
             {
              "title": "quadratic model",
              "visible": [
               true,
               true,
               true,
               true,
               true,
               true,
               true,
               true,
               true,
               true,
               true,
               true,
               true,
               true,
               true,
               true,
               true,
               true,
               true,
               true,
               true,
               true,
               true,
               true,
               true,
               true,
               true,
               true,
               true,
               true,
               true,
               true,
               true,
               false,
               false,
               false,
               true,
               true,
               true,
               false,
               false,
               false,
               false,
               false,
               false
              ]
             }
            ],
            "label": "quadratic model",
            "method": "update"
           },
           {
            "args": [
             {
              "title": "cubic model",
              "visible": [
               true,
               true,
               true,
               true,
               true,
               true,
               true,
               true,
               true,
               true,
               true,
               true,
               true,
               true,
               true,
               true,
               true,
               true,
               true,
               true,
               true,
               true,
               true,
               true,
               true,
               true,
               true,
               true,
               true,
               true,
               true,
               true,
               true,
               false,
               false,
               false,
               false,
               false,
               false,
               true,
               true,
               true,
               false,
               false,
               false
              ]
             }
            ],
            "label": "cubic model",
            "method": "update"
           },
           {
            "args": [
             {
              "title": "exponential model",
              "visible": [
               true,
               true,
               true,
               true,
               true,
               true,
               true,
               true,
               true,
               true,
               true,
               true,
               true,
               true,
               true,
               true,
               true,
               true,
               true,
               true,
               true,
               true,
               true,
               true,
               true,
               true,
               true,
               true,
               true,
               true,
               true,
               true,
               true,
               false,
               false,
               false,
               false,
               false,
               false,
               false,
               false,
               false,
               true,
               true,
               true
              ]
             }
            ],
            "label": "exponential model",
            "method": "update"
           },
           {
            "args": [
             {
              "visible": [
               true,
               true,
               true,
               true,
               true,
               true,
               true,
               true,
               true,
               true,
               true,
               true,
               true,
               true,
               true,
               true,
               true,
               true,
               true,
               true,
               true,
               true,
               true,
               true,
               true,
               true,
               true,
               true,
               true,
               true,
               true,
               true,
               true,
               true,
               true,
               true,
               true,
               true,
               true,
               true,
               true,
               true,
               true,
               true,
               true
              ]
             }
            ],
            "label": "all",
            "method": "update"
           }
          ],
          "direction": "right",
          "type": "buttons",
          "x": 0,
          "xanchor": "left",
          "y": 1.2,
          "yanchor": "top"
         }
        ],
        "xaxis": {
         "anchor": "y",
         "domain": [
          0,
          0.425
         ]
        },
        "xaxis2": {
         "anchor": "y2",
         "domain": [
          0.575,
          1
         ]
        },
        "yaxis": {
         "anchor": "x",
         "domain": [
          0,
          1
         ],
         "title": {
          "text": "E<sub>340 nm <sub>"
         }
        },
        "yaxis2": {
         "anchor": "x2",
         "domain": [
          0,
          1
         ],
         "title": {
          "text": "Residuals E<sub>340 nm <sub>"
         }
        }
       }
      }
     },
     "metadata": {},
     "output_type": "display_data"
    }
   ],
   "source": [
    "# Visualize the models\n",
    "calibrator.visualize()"
   ]
  },
  {
   "cell_type": "markdown",
   "metadata": {},
   "source": [
    "## Save model to `Standard`\n",
    "\n",
    "After assessing different models, the best model can be saved to the `Standard` object."
   ]
  },
  {
   "cell_type": "code",
   "execution_count": 9,
   "metadata": {},
   "outputs": [
    {
     "name": "stdout",
     "output_type": "stream",
     "text": [
      "\u001b[4mCalibrationModel\u001b[0m\n",
      "├── \u001b[94mid\u001b[0m = calibrationmodel1\n",
      "├── \u001b[94mname\u001b[0m = linear\n",
      "├── \u001b[94mequation\u001b[0m = a * concentration = signal\n",
      "├── \u001b[94mparameters\u001b[0m\n",
      "│   └── 0\n",
      "│       └── \u001b[4mParameter\u001b[0m\n",
      "│           ├── \u001b[94mid\u001b[0m = parameter0\n",
      "│           ├── \u001b[94mname\u001b[0m = a\n",
      "│           ├── \u001b[94mvalue\u001b[0m = 0.01386768673483358\n",
      "│           ├── \u001b[94minit_value\u001b[0m = 0.1\n",
      "│           ├── \u001b[94mstandard_error\u001b[0m = 3.661584457104056e-05\n",
      "│           ├── \u001b[94mlower_bound\u001b[0m = -inf\n",
      "│           └── \u001b[94mupper_bound\u001b[0m = inf\n",
      "├── \u001b[94mwas_fitted\u001b[0m = True\n",
      "├── \u001b[94mcalibration_range\u001b[0m\n",
      "│   └── \u001b[4mCalibrationRange\u001b[0m\n",
      "│       ├── \u001b[94mid\u001b[0m = calibrationrange4\n",
      "│       ├── \u001b[94mconc_lower\u001b[0m = 0.0\n",
      "│       ├── \u001b[94mconc_upper\u001b[0m = 180.0\n",
      "│       ├── \u001b[94msignal_lower\u001b[0m = -0.02438078114450399\n",
      "│       └── \u001b[94msignal_upper\u001b[0m = 2.4997201886011924\n",
      "└── \u001b[94mstatistics\u001b[0m\n",
      "    └── \u001b[4mFitStatistics\u001b[0m\n",
      "        ├── \u001b[94mid\u001b[0m = fitstatistics4\n",
      "        ├── \u001b[94maic\u001b[0m = -224.84130304293456\n",
      "        ├── \u001b[94mbic\u001b[0m = -223.4740072129481\n",
      "        ├── \u001b[94mr2\u001b[0m = 0.9993332811262043\n",
      "        └── \u001b[94mrmsd\u001b[0m = 0.020019330463896586\n",
      "\n"
     ]
    }
   ],
   "source": [
    "linear = calibrator.get_model(\"linear\")\n",
    "print(linear)"
   ]
  },
  {
   "cell_type": "code",
   "execution_count": 10,
   "metadata": {},
   "outputs": [],
   "source": [
    "standard = calibrator.save_model(linear)"
   ]
  },
  {
   "cell_type": "markdown",
   "metadata": {},
   "source": [
    "## Calculate concentrations\n",
    "\n",
    "Models can be used to calculate concentrations of unknown signals. "
   ]
  },
  {
   "cell_type": "code",
   "execution_count": 11,
   "metadata": {},
   "outputs": [
    {
     "data": {
      "text/plain": [
       "[72.11008000982224, 7.211008000982225, 161.09391874194287]"
      ]
     },
     "execution_count": 11,
     "metadata": {},
     "output_type": "execute_result"
    }
   ],
   "source": [
    "linear.calculate([1, 0.1, 2.234])"
   ]
  },
  {
   "cell_type": "markdown",
   "metadata": {},
   "source": [
    "If the signal is out of calibration bonds, the calculate method returns `float('nan')` values for the respective signals."
   ]
  },
  {
   "cell_type": "code",
   "execution_count": 12,
   "metadata": {},
   "outputs": [
    {
     "data": {
      "text/plain": [
       "[72.11008000982224, nan, nan, 36.05504000491112]"
      ]
     },
     "execution_count": 12,
     "metadata": {},
     "output_type": "execute_result"
    }
   ],
   "source": [
    "linear.calculate([1, 100, 5, 0.5])"
   ]
  },
  {
   "cell_type": "code",
   "execution_count": 13,
   "metadata": {},
   "outputs": [],
   "source": [
    "standard.to_animl(out_file=f\"../data/standard_{str(datetime.now().date())}.animl\")"
   ]
  }
 ],
 "metadata": {
  "kernelspec": {
   "display_name": "sdrdm_example",
   "language": "python",
   "name": "python3"
  },
  "language_info": {
   "codemirror_mode": {
    "name": "ipython",
    "version": 3
   },
   "file_extension": ".py",
   "mimetype": "text/x-python",
   "name": "python",
   "nbconvert_exporter": "python",
   "pygments_lexer": "ipython3",
   "version": "3.11.5"
  },
  "orig_nbformat": 4
 },
 "nbformat": 4,
 "nbformat_minor": 2
}
