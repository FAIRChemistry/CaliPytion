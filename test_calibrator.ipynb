{
 "cells": [
  {
   "cell_type": "code",
   "execution_count": 1,
   "metadata": {},
   "outputs": [],
   "source": [
    "from sdRDM import DataModel\n",
    "from sdRDM.generator import generate_python_api\n",
    "import numpy as np\n",
    "from datetime import datetime"
   ]
  },
  {
   "cell_type": "code",
   "execution_count": 2,
   "metadata": {},
   "outputs": [],
   "source": [
    "# generate_python_api(\"specifications/new_calibration.md\", \"\", \"CaliPytion\")"
   ]
  },
  {
   "cell_type": "code",
   "execution_count": 3,
   "metadata": {},
   "outputs": [],
   "source": [
    "%reload_ext autoreload\n",
    "%autoreload 2\n",
    "from CaliPytion import Calibrator, Standard\n",
    "from CaliPytion.modified import Sample"
   ]
  },
  {
   "cell_type": "code",
   "execution_count": 4,
   "metadata": {},
   "outputs": [],
   "source": [
    "def random(xs):\n",
    "    return xs+np.random.normal(0, 0.03, 1)\n",
    "\n",
    "\n",
    "PARAM_A = 0.014\n",
    "\n",
    "CONC = np.linspace(0, 200, 11)\n",
    "ABSO = CONC*PARAM_A"
   ]
  },
  {
   "cell_type": "code",
   "execution_count": 5,
   "metadata": {},
   "outputs": [],
   "source": [
    "standard = Standard(\n",
    "    species_id=\"s0\",\n",
    "    name=\"ABTS\",\n",
    "    wavelength=340,\n",
    "    ph=2,\n",
    "    temperature=25,\n",
    "    temperature_unit=\"C\",\n",
    "    created=datetime.now(),\n",
    ")\n",
    "\n",
    "# Add samples\n",
    "for conc, abso in zip(CONC, ABSO):\n",
    "    standard.add_to_samples(\n",
    "        concentration=conc,\n",
    "        conc_unit=\"umol / l\",\n",
    "        signal=random(abso),\n",
    "    )\n",
    "    standard.add_to_samples(\n",
    "        concentration=conc,\n",
    "        conc_unit=\"umol / l\",\n",
    "        signal=random(abso),\n",
    "    )\n",
    "    standard.add_to_samples(\n",
    "        concentration=conc,\n",
    "        conc_unit=\"umol / l\",\n",
    "        signal=random(abso),\n",
    "    )"
   ]
  },
  {
   "cell_type": "code",
   "execution_count": 6,
   "metadata": {},
   "outputs": [],
   "source": [
    "calibrator = Calibrator.from_standard(standard, cutoff=1)"
   ]
  },
  {
   "cell_type": "code",
   "execution_count": 7,
   "metadata": {},
   "outputs": [
    {
     "data": {
      "text/plain": [
       "[0.0, 0.0, 0.0, 20.0, 20.0, 20.0, 40.0, 40.0, 40.0, 60.0, 60.0, 60.0]"
      ]
     },
     "execution_count": 7,
     "metadata": {},
     "output_type": "execute_result"
    }
   ],
   "source": [
    "calibrator.concentrations"
   ]
  },
  {
   "cell_type": "code",
   "execution_count": 8,
   "metadata": {},
   "outputs": [
    {
     "name": "stdout",
     "output_type": "stream",
     "text": [
      "\u001b[4mCalibrator\u001b[0m\n",
      "├── \u001b[94mid\u001b[0m = calibrator0\n",
      "├── \u001b[94mstandard\u001b[0m\n",
      "│   └── \u001b[4mStandard\u001b[0m\n",
      "│       ├── \u001b[94mid\u001b[0m = standard1\n",
      "│       ├── \u001b[94mspecies_id\u001b[0m = s0\n",
      "│       ├── \u001b[94mname\u001b[0m = ABTS\n",
      "│       ├── \u001b[94mwavelength\u001b[0m = 340.0\n",
      "│       ├── \u001b[94msamples\u001b[0m\n",
      "│       │   ├── 0\n",
      "│       │   │   └── \u001b[4mSample\u001b[0m\n",
      "│       │   │       ├── \u001b[94mid\u001b[0m = sample0\n",
      "│       │   │       ├── \u001b[94mconcentration\u001b[0m = 0.0\n",
      "│       │   │       ├── \u001b[94mconc_unit\u001b[0m = umol / l\n",
      "│       │   │       └── \u001b[94msignal\u001b[0m = 0.03998664610119449\n",
      "│       │   ├── 1\n",
      "│       │   │   └── \u001b[4mSample\u001b[0m\n",
      "│       │   │       ├── \u001b[94mid\u001b[0m = sample1\n",
      "│       │   │       ├── \u001b[94mconcentration\u001b[0m = 0.0\n",
      "│       │   │       ├── \u001b[94mconc_unit\u001b[0m = umol / l\n",
      "│       │   │       └── \u001b[94msignal\u001b[0m = 0.029908585548001833\n",
      "│       │   ├── 2\n",
      "│       │   │   └── \u001b[4mSample\u001b[0m\n",
      "│       │   │       ├── \u001b[94mid\u001b[0m = sample2\n",
      "│       │   │       ├── \u001b[94mconcentration\u001b[0m = 0.0\n",
      "│       │   │       ├── \u001b[94mconc_unit\u001b[0m = umol / l\n",
      "│       │   │       └── \u001b[94msignal\u001b[0m = 0.014567241538710035\n",
      "│       │   ├── 3\n",
      "│       │   │   └── \u001b[4mSample\u001b[0m\n",
      "│       │   │       ├── \u001b[94mid\u001b[0m = sample3\n",
      "│       │   │       ├── \u001b[94mconcentration\u001b[0m = 20.0\n",
      "│       │   │       ├── \u001b[94mconc_unit\u001b[0m = umol / l\n",
      "│       │   │       └── \u001b[94msignal\u001b[0m = 0.28800364244345167\n",
      "│       │   ├── 4\n",
      "│       │   │   └── \u001b[4mSample\u001b[0m\n",
      "│       │   │       ├── \u001b[94mid\u001b[0m = sample4\n",
      "│       │   │       ├── \u001b[94mconcentration\u001b[0m = 20.0\n",
      "│       │   │       ├── \u001b[94mconc_unit\u001b[0m = umol / l\n",
      "│       │   │       └── \u001b[94msignal\u001b[0m = 0.2753484688866737\n",
      "│       │   ├── 5\n",
      "│       │   │   └── \u001b[4mSample\u001b[0m\n",
      "│       │   │       ├── \u001b[94mid\u001b[0m = sample5\n",
      "│       │   │       ├── \u001b[94mconcentration\u001b[0m = 20.0\n",
      "│       │   │       ├── \u001b[94mconc_unit\u001b[0m = umol / l\n",
      "│       │   │       └── \u001b[94msignal\u001b[0m = 0.3049556221386557\n",
      "│       │   ├── 6\n",
      "│       │   │   └── \u001b[4mSample\u001b[0m\n",
      "│       │   │       ├── \u001b[94mid\u001b[0m = sample6\n",
      "│       │   │       ├── \u001b[94mconcentration\u001b[0m = 40.0\n",
      "│       │   │       ├── \u001b[94mconc_unit\u001b[0m = umol / l\n",
      "│       │   │       └── \u001b[94msignal\u001b[0m = 0.593629088485268\n",
      "│       │   ├── 7\n",
      "│       │   │   └── \u001b[4mSample\u001b[0m\n",
      "│       │   │       ├── \u001b[94mid\u001b[0m = sample7\n",
      "│       │   │       ├── \u001b[94mconcentration\u001b[0m = 40.0\n",
      "│       │   │       ├── \u001b[94mconc_unit\u001b[0m = umol / l\n",
      "│       │   │       └── \u001b[94msignal\u001b[0m = 0.48168237843004613\n",
      "│       │   ├── 8\n",
      "│       │   │   └── \u001b[4mSample\u001b[0m\n",
      "│       │   │       ├── \u001b[94mid\u001b[0m = sample8\n",
      "│       │   │       ├── \u001b[94mconcentration\u001b[0m = 40.0\n",
      "│       │   │       ├── \u001b[94mconc_unit\u001b[0m = umol / l\n",
      "│       │   │       └── \u001b[94msignal\u001b[0m = 0.5294524846178409\n",
      "│       │   ├── 9\n",
      "│       │   │   └── \u001b[4mSample\u001b[0m\n",
      "│       │   │       ├── \u001b[94mid\u001b[0m = sample9\n",
      "│       │   │       ├── \u001b[94mconcentration\u001b[0m = 60.0\n",
      "│       │   │       ├── \u001b[94mconc_unit\u001b[0m = umol / l\n",
      "│       │   │       └── \u001b[94msignal\u001b[0m = 0.884372872259144\n",
      "│       │   ├── 10\n",
      "│       │   │   └── \u001b[4mSample\u001b[0m\n",
      "│       │   │       ├── \u001b[94mid\u001b[0m = sample10\n",
      "│       │   │       ├── \u001b[94mconcentration\u001b[0m = 60.0\n",
      "│       │   │       ├── \u001b[94mconc_unit\u001b[0m = umol / l\n",
      "│       │   │       └── \u001b[94msignal\u001b[0m = 0.8068103811835013\n",
      "│       │   ├── 11\n",
      "│       │   │   └── \u001b[4mSample\u001b[0m\n",
      "│       │   │       ├── \u001b[94mid\u001b[0m = sample11\n",
      "│       │   │       ├── \u001b[94mconcentration\u001b[0m = 60.0\n",
      "│       │   │       ├── \u001b[94mconc_unit\u001b[0m = umol / l\n",
      "│       │   │       └── \u001b[94msignal\u001b[0m = 0.8263278050458662\n",
      "│       │   ├── 12\n",
      "│       │   │   └── \u001b[4mSample\u001b[0m\n",
      "│       │   │       ├── \u001b[94mid\u001b[0m = sample12\n",
      "│       │   │       ├── \u001b[94mconcentration\u001b[0m = 80.0\n",
      "│       │   │       ├── \u001b[94mconc_unit\u001b[0m = umol / l\n",
      "│       │   │       └── \u001b[94msignal\u001b[0m = 1.0933554305050934\n",
      "│       │   ├── 13\n",
      "│       │   │   └── \u001b[4mSample\u001b[0m\n",
      "│       │   │       ├── \u001b[94mid\u001b[0m = sample13\n",
      "│       │   │       ├── \u001b[94mconcentration\u001b[0m = 80.0\n",
      "│       │   │       ├── \u001b[94mconc_unit\u001b[0m = umol / l\n",
      "│       │   │       └── \u001b[94msignal\u001b[0m = 1.115285799935226\n",
      "│       │   ├── 14\n",
      "│       │   │   └── \u001b[4mSample\u001b[0m\n",
      "│       │   │       ├── \u001b[94mid\u001b[0m = sample14\n",
      "│       │   │       ├── \u001b[94mconcentration\u001b[0m = 80.0\n",
      "│       │   │       ├── \u001b[94mconc_unit\u001b[0m = umol / l\n",
      "│       │   │       └── \u001b[94msignal\u001b[0m = 1.0915682015919197\n",
      "│       │   ├── 15\n",
      "│       │   │   └── \u001b[4mSample\u001b[0m\n",
      "│       │   │       ├── \u001b[94mid\u001b[0m = sample15\n",
      "│       │   │       ├── \u001b[94mconcentration\u001b[0m = 100.0\n",
      "│       │   │       ├── \u001b[94mconc_unit\u001b[0m = umol / l\n",
      "│       │   │       └── \u001b[94msignal\u001b[0m = 1.3748441984798336\n",
      "│       │   ├── 16\n",
      "│       │   │   └── \u001b[4mSample\u001b[0m\n",
      "│       │   │       ├── \u001b[94mid\u001b[0m = sample16\n",
      "│       │   │       ├── \u001b[94mconcentration\u001b[0m = 100.0\n",
      "│       │   │       ├── \u001b[94mconc_unit\u001b[0m = umol / l\n",
      "│       │   │       └── \u001b[94msignal\u001b[0m = 1.4052133315231414\n",
      "│       │   ├── 17\n",
      "│       │   │   └── \u001b[4mSample\u001b[0m\n",
      "│       │   │       ├── \u001b[94mid\u001b[0m = sample17\n",
      "│       │   │       ├── \u001b[94mconcentration\u001b[0m = 100.0\n",
      "│       │   │       ├── \u001b[94mconc_unit\u001b[0m = umol / l\n",
      "│       │   │       └── \u001b[94msignal\u001b[0m = 1.425246124974298\n",
      "│       │   ├── 18\n",
      "│       │   │   └── \u001b[4mSample\u001b[0m\n",
      "│       │   │       ├── \u001b[94mid\u001b[0m = sample18\n",
      "│       │   │       ├── \u001b[94mconcentration\u001b[0m = 120.0\n",
      "│       │   │       ├── \u001b[94mconc_unit\u001b[0m = umol / l\n",
      "│       │   │       └── \u001b[94msignal\u001b[0m = 1.6195753381854785\n",
      "│       │   ├── 19\n",
      "│       │   │   └── \u001b[4mSample\u001b[0m\n",
      "│       │   │       ├── \u001b[94mid\u001b[0m = sample19\n",
      "│       │   │       ├── \u001b[94mconcentration\u001b[0m = 120.0\n",
      "│       │   │       ├── \u001b[94mconc_unit\u001b[0m = umol / l\n",
      "│       │   │       └── \u001b[94msignal\u001b[0m = 1.6521862514578445\n",
      "│       │   ├── 20\n",
      "│       │   │   └── \u001b[4mSample\u001b[0m\n",
      "│       │   │       ├── \u001b[94mid\u001b[0m = sample20\n",
      "│       │   │       ├── \u001b[94mconcentration\u001b[0m = 120.0\n",
      "│       │   │       ├── \u001b[94mconc_unit\u001b[0m = umol / l\n",
      "│       │   │       └── \u001b[94msignal\u001b[0m = 1.7512328235286716\n",
      "│       │   ├── 21\n",
      "│       │   │   └── \u001b[4mSample\u001b[0m\n",
      "│       │   │       ├── \u001b[94mid\u001b[0m = sample21\n",
      "│       │   │       ├── \u001b[94mconcentration\u001b[0m = 140.0\n",
      "│       │   │       ├── \u001b[94mconc_unit\u001b[0m = umol / l\n",
      "│       │   │       └── \u001b[94msignal\u001b[0m = 1.932703279683089\n",
      "│       │   ├── 22\n",
      "│       │   │   └── \u001b[4mSample\u001b[0m\n",
      "│       │   │       ├── \u001b[94mid\u001b[0m = sample22\n",
      "│       │   │       ├── \u001b[94mconcentration\u001b[0m = 140.0\n",
      "│       │   │       ├── \u001b[94mconc_unit\u001b[0m = umol / l\n",
      "│       │   │       └── \u001b[94msignal\u001b[0m = 1.982514078923527\n",
      "│       │   ├── 23\n",
      "│       │   │   └── \u001b[4mSample\u001b[0m\n",
      "│       │   │       ├── \u001b[94mid\u001b[0m = sample23\n",
      "│       │   │       ├── \u001b[94mconcentration\u001b[0m = 140.0\n",
      "│       │   │       ├── \u001b[94mconc_unit\u001b[0m = umol / l\n",
      "│       │   │       └── \u001b[94msignal\u001b[0m = 1.9700537192666279\n",
      "│       │   ├── 24\n",
      "│       │   │   └── \u001b[4mSample\u001b[0m\n",
      "│       │   │       ├── \u001b[94mid\u001b[0m = sample24\n",
      "│       │   │       ├── \u001b[94mconcentration\u001b[0m = 160.0\n",
      "│       │   │       ├── \u001b[94mconc_unit\u001b[0m = umol / l\n",
      "│       │   │       └── \u001b[94msignal\u001b[0m = 2.259585940764317\n",
      "│       │   ├── 25\n",
      "│       │   │   └── \u001b[4mSample\u001b[0m\n",
      "│       │   │       ├── \u001b[94mid\u001b[0m = sample25\n",
      "│       │   │       ├── \u001b[94mconcentration\u001b[0m = 160.0\n",
      "│       │   │       ├── \u001b[94mconc_unit\u001b[0m = umol / l\n",
      "│       │   │       └── \u001b[94msignal\u001b[0m = 2.1800271837850476\n",
      "│       │   ├── 26\n",
      "│       │   │   └── \u001b[4mSample\u001b[0m\n",
      "│       │   │       ├── \u001b[94mid\u001b[0m = sample26\n",
      "│       │   │       ├── \u001b[94mconcentration\u001b[0m = 160.0\n",
      "│       │   │       ├── \u001b[94mconc_unit\u001b[0m = umol / l\n",
      "│       │   │       └── \u001b[94msignal\u001b[0m = 2.2380371769130845\n",
      "│       │   ├── 27\n",
      "│       │   │   └── \u001b[4mSample\u001b[0m\n",
      "│       │   │       ├── \u001b[94mid\u001b[0m = sample27\n",
      "│       │   │       ├── \u001b[94mconcentration\u001b[0m = 180.0\n",
      "│       │   │       ├── \u001b[94mconc_unit\u001b[0m = umol / l\n",
      "│       │   │       └── \u001b[94msignal\u001b[0m = 2.5353048197196375\n",
      "│       │   ├── 28\n",
      "│       │   │   └── \u001b[4mSample\u001b[0m\n",
      "│       │   │       ├── \u001b[94mid\u001b[0m = sample28\n",
      "│       │   │       ├── \u001b[94mconcentration\u001b[0m = 180.0\n",
      "│       │   │       ├── \u001b[94mconc_unit\u001b[0m = umol / l\n",
      "│       │   │       └── \u001b[94msignal\u001b[0m = 2.5430461233546255\n",
      "│       │   ├── 29\n",
      "│       │   │   └── \u001b[4mSample\u001b[0m\n",
      "│       │   │       ├── \u001b[94mid\u001b[0m = sample29\n",
      "│       │   │       ├── \u001b[94mconcentration\u001b[0m = 180.0\n",
      "│       │   │       ├── \u001b[94mconc_unit\u001b[0m = umol / l\n",
      "│       │   │       └── \u001b[94msignal\u001b[0m = 2.5347548666860966\n",
      "│       │   ├── 30\n",
      "│       │   │   └── \u001b[4mSample\u001b[0m\n",
      "│       │   │       ├── \u001b[94mid\u001b[0m = sample30\n",
      "│       │   │       ├── \u001b[94mconcentration\u001b[0m = 200.0\n",
      "│       │   │       ├── \u001b[94mconc_unit\u001b[0m = umol / l\n",
      "│       │   │       └── \u001b[94msignal\u001b[0m = 2.8123524755970193\n",
      "│       │   ├── 31\n",
      "│       │   │   └── \u001b[4mSample\u001b[0m\n",
      "│       │   │       ├── \u001b[94mid\u001b[0m = sample31\n",
      "│       │   │       ├── \u001b[94mconcentration\u001b[0m = 200.0\n",
      "│       │   │       ├── \u001b[94mconc_unit\u001b[0m = umol / l\n",
      "│       │   │       └── \u001b[94msignal\u001b[0m = 2.8077466827096824\n",
      "│       │   └── 32\n",
      "│       │       └── \u001b[4mSample\u001b[0m\n",
      "│       │           ├── \u001b[94mid\u001b[0m = sample32\n",
      "│       │           ├── \u001b[94mconcentration\u001b[0m = 200.0\n",
      "│       │           ├── \u001b[94mconc_unit\u001b[0m = umol / l\n",
      "│       │           └── \u001b[94msignal\u001b[0m = 2.794535574595507\n",
      "│       ├── \u001b[94mph\u001b[0m = 2.0\n",
      "│       ├── \u001b[94mtemperature\u001b[0m = 25.0\n",
      "│       ├── \u001b[94mtemperature_unit\u001b[0m = C\n",
      "│       ├── \u001b[94mcreated\u001b[0m = 2023-09-15 10:19:26.831828\n",
      "│       └── \u001b[94mmodel_result\u001b[0m\n",
      "│           └── \u001b[4mModel\u001b[0m\n",
      "│               └── \u001b[94mid\u001b[0m = model0\n",
      "├── \u001b[94mconcentrations\u001b[0m = [0.0, 0.0, 0.0, 20.0, 20.0, ...]\n",
      "├── \u001b[94mconc_unit\u001b[0m = umol / l\n",
      "├── \u001b[94msignals\u001b[0m = [0.03998664610119449, 0.029908585548001833, 0.014567241538710035, 0.28800364244345167, 0.2753484688866737, ...]\n",
      "├── \u001b[94mmodels\u001b[0m\n",
      "│   ├── 0\n",
      "│   │   └── \u001b[4mModel\u001b[0m\n",
      "│   │       ├── \u001b[94mid\u001b[0m = model1\n",
      "│   │       ├── \u001b[94mname\u001b[0m = linear\n",
      "│   │       └── \u001b[94mequation\u001b[0m = a * concentration = signal\n",
      "│   └── 1\n",
      "│       └── \u001b[4mModel\u001b[0m\n",
      "│           ├── \u001b[94mid\u001b[0m = model2\n",
      "│           ├── \u001b[94mname\u001b[0m = quadratic\n",
      "│           └── \u001b[94mequation\u001b[0m = a * concentration**2 + b * concentration = signal\n",
      "└── \u001b[94mcutoff\u001b[0m = 1.0\n",
      "\n"
     ]
    }
   ],
   "source": [
    "\n",
    "# Add models to calibrator\n",
    "linear = calibrator.add_to_models(\n",
    "    name=\"linear\", equation=\"a * concentration = signal\")\n",
    "quadratic = calibrator.add_to_models(\n",
    "    name=\"quadratic\", equation=\"a * concentration**2 + b * concentration = signal\")\n",
    "\n",
    "print(calibrator)"
   ]
  },
  {
   "cell_type": "code",
   "execution_count": 9,
   "metadata": {},
   "outputs": [
    {
     "data": {
      "text/html": [
       "<style type=\"text/css\">\n",
       "#T_48c09_row0_col0, #T_48c09_row0_col1, #T_48c09_row1_col2 {\n",
       "  background-color: #f7fbff;\n",
       "  color: #000000;\n",
       "}\n",
       "#T_48c09_row0_col2, #T_48c09_row1_col0, #T_48c09_row1_col1 {\n",
       "  background-color: #08306b;\n",
       "  color: #f1f1f1;\n",
       "}\n",
       "</style>\n",
       "<table id=\"T_48c09\">\n",
       "  <thead>\n",
       "    <tr>\n",
       "      <th class=\"blank level0\" >&nbsp;</th>\n",
       "      <th id=\"T_48c09_level0_col0\" class=\"col_heading level0 col0\" >AIC</th>\n",
       "      <th id=\"T_48c09_level0_col1\" class=\"col_heading level0 col1\" >R squared</th>\n",
       "      <th id=\"T_48c09_level0_col2\" class=\"col_heading level0 col2\" >RMSD</th>\n",
       "    </tr>\n",
       "    <tr>\n",
       "      <th class=\"index_name level0\" >Model Name</th>\n",
       "      <th class=\"blank col0\" >&nbsp;</th>\n",
       "      <th class=\"blank col1\" >&nbsp;</th>\n",
       "      <th class=\"blank col2\" >&nbsp;</th>\n",
       "    </tr>\n",
       "  </thead>\n",
       "  <tbody>\n",
       "    <tr>\n",
       "      <th id=\"T_48c09_level0_row0\" class=\"row_heading level0 row0\" >linear</th>\n",
       "      <td id=\"T_48c09_row0_col0\" class=\"data row0 col0\" >-79</td>\n",
       "      <td id=\"T_48c09_row0_col1\" class=\"data row0 col1\" >0.9867</td>\n",
       "      <td id=\"T_48c09_row0_col2\" class=\"data row0 col2\" >0.0347</td>\n",
       "    </tr>\n",
       "    <tr>\n",
       "      <th id=\"T_48c09_level0_row1\" class=\"row_heading level0 row1\" >quadratic</th>\n",
       "      <td id=\"T_48c09_row1_col0\" class=\"data row1 col0\" >-77</td>\n",
       "      <td id=\"T_48c09_row1_col1\" class=\"data row1 col1\" >0.9868</td>\n",
       "      <td id=\"T_48c09_row1_col2\" class=\"data row1 col2\" >0.0346</td>\n",
       "    </tr>\n",
       "  </tbody>\n",
       "</table>\n"
      ],
      "text/plain": [
       "<pandas.io.formats.style.Styler at 0x2850e1ad0>"
      ]
     },
     "execution_count": 9,
     "metadata": {},
     "output_type": "execute_result"
    }
   ],
   "source": [
    "calibrator.fit_models()"
   ]
  },
  {
   "cell_type": "code",
   "execution_count": 10,
   "metadata": {},
   "outputs": [
    {
     "data": {
      "text/html": [
       "<style type=\"text/css\">\n",
       "#T_b4604_row0_col0, #T_b4604_row0_col1, #T_b4604_row1_col2 {\n",
       "  background-color: #f7fbff;\n",
       "  color: #000000;\n",
       "}\n",
       "#T_b4604_row0_col2, #T_b4604_row1_col0, #T_b4604_row1_col1 {\n",
       "  background-color: #08306b;\n",
       "  color: #f1f1f1;\n",
       "}\n",
       "</style>\n",
       "<table id=\"T_b4604\">\n",
       "  <thead>\n",
       "    <tr>\n",
       "      <th class=\"blank level0\" >&nbsp;</th>\n",
       "      <th id=\"T_b4604_level0_col0\" class=\"col_heading level0 col0\" >AIC</th>\n",
       "      <th id=\"T_b4604_level0_col1\" class=\"col_heading level0 col1\" >R squared</th>\n",
       "      <th id=\"T_b4604_level0_col2\" class=\"col_heading level0 col2\" >RMSD</th>\n",
       "    </tr>\n",
       "    <tr>\n",
       "      <th class=\"index_name level0\" >Model Name</th>\n",
       "      <th class=\"blank col0\" >&nbsp;</th>\n",
       "      <th class=\"blank col1\" >&nbsp;</th>\n",
       "      <th class=\"blank col2\" >&nbsp;</th>\n",
       "    </tr>\n",
       "  </thead>\n",
       "  <tbody>\n",
       "    <tr>\n",
       "      <th id=\"T_b4604_level0_row0\" class=\"row_heading level0 row0\" >linear</th>\n",
       "      <td id=\"T_b4604_row0_col0\" class=\"data row0 col0\" >-79</td>\n",
       "      <td id=\"T_b4604_row0_col1\" class=\"data row0 col1\" >0.9867</td>\n",
       "      <td id=\"T_b4604_row0_col2\" class=\"data row0 col2\" >0.0347</td>\n",
       "    </tr>\n",
       "    <tr>\n",
       "      <th id=\"T_b4604_level0_row1\" class=\"row_heading level0 row1\" >quadratic</th>\n",
       "      <td id=\"T_b4604_row1_col0\" class=\"data row1 col0\" >-77</td>\n",
       "      <td id=\"T_b4604_row1_col1\" class=\"data row1 col1\" >0.9868</td>\n",
       "      <td id=\"T_b4604_row1_col2\" class=\"data row1 col2\" >0.0346</td>\n",
       "    </tr>\n",
       "  </tbody>\n",
       "</table>\n"
      ],
      "text/plain": [
       "<pandas.io.formats.style.Styler at 0x2876433d0>"
      ]
     },
     "execution_count": 10,
     "metadata": {},
     "output_type": "execute_result"
    }
   ],
   "source": [
    "calibrator.fit_statistics"
   ]
  },
  {
   "cell_type": "code",
   "execution_count": 11,
   "metadata": {},
   "outputs": [
    {
     "name": "stdout",
     "output_type": "stream",
     "text": [
      "\u001b[4mModel\u001b[0m\n",
      "├── \u001b[94mid\u001b[0m = model1\n",
      "├── \u001b[94mname\u001b[0m = linear\n",
      "├── \u001b[94mequation\u001b[0m = a * concentration = signal\n",
      "├── \u001b[94mparameters\u001b[0m\n",
      "│   └── 0\n",
      "│       └── \u001b[4mParameter\u001b[0m\n",
      "│           ├── \u001b[94mid\u001b[0m = parameter0\n",
      "│           ├── \u001b[94mname\u001b[0m = a\n",
      "│           ├── \u001b[94mvalue\u001b[0m = 0.013845677157142999\n",
      "│           ├── \u001b[94minit_value\u001b[0m = 0.1\n",
      "│           ├── \u001b[94mstandard_error\u001b[0m = 0.0002798150340324915\n",
      "│           ├── \u001b[94mlower_bound\u001b[0m = -inf\n",
      "│           └── \u001b[94mupper_bound\u001b[0m = inf\n",
      "├── \u001b[94maic\u001b[0m = -78.64768891881754\n",
      "├── \u001b[94mbic\u001b[0m = -78.16278226902953\n",
      "├── \u001b[94mr2\u001b[0m = 0.9867101011373692\n",
      "├── \u001b[94mresiduals\u001b[0m = [-0.03998664610119449, -0.029908585548001833, -0.014567241538710035, -0.011090099300591683, 0.001565074256186294, ...]\n",
      "└── \u001b[94mrmsd\u001b[0m = 0.03472413253603766\n",
      "\n"
     ]
    }
   ],
   "source": [
    "print(calibrator.models[0])"
   ]
  },
  {
   "cell_type": "code",
   "execution_count": 25,
   "metadata": {},
   "outputs": [
    {
     "data": {
      "application/vnd.plotly.v1+json": {
       "config": {
        "plotlyServerURL": "https://plot.ly",
        "toImageButtonOptions": {
         "filename": "linear_calibration_curve",
         "format": "svg",
         "scale": 1
        }
       },
       "data": [
        {
         "hoverinfo": "skip",
         "marker": {
          "color": "#1f77b4"
         },
         "mode": "markers",
         "name": "ABTS",
         "type": "scatter",
         "visible": true,
         "x": [
          0,
          0,
          0,
          20,
          20,
          20,
          40,
          40,
          40,
          60,
          60,
          60
         ],
         "xaxis": "x",
         "y": [
          0.03998664610119449,
          0.029908585548001833,
          0.014567241538710035,
          0.28800364244345167,
          0.2753484688866737,
          0.3049556221386557,
          0.593629088485268,
          0.48168237843004613,
          0.5294524846178409,
          0.884372872259144,
          0.8068103811835013,
          0.8263278050458662
         ],
         "yaxis": "y"
        },
        {
         "hoverinfo": "skip",
         "marker": {
          "color": "#1f77b4"
         },
         "mode": "lines",
         "name": "linear model",
         "type": "scatter",
         "visible": true,
         "x": [
          0,
          1.0169491525423728,
          2.0338983050847457,
          3.0508474576271185,
          4.067796610169491,
          5.084745762711864,
          6.101694915254237,
          7.11864406779661,
          8.135593220338983,
          9.152542372881356,
          10.169491525423728,
          11.1864406779661,
          12.203389830508474,
          13.220338983050848,
          14.23728813559322,
          15.254237288135592,
          16.271186440677965,
          17.28813559322034,
          18.305084745762713,
          19.322033898305083,
          20.338983050847457,
          21.35593220338983,
          22.3728813559322,
          23.389830508474574,
          24.406779661016948,
          25.423728813559322,
          26.440677966101696,
          27.457627118644066,
          28.47457627118644,
          29.491525423728813,
          30.508474576271183,
          31.525423728813557,
          32.54237288135593,
          33.559322033898304,
          34.57627118644068,
          35.59322033898305,
          36.610169491525426,
          37.62711864406779,
          38.644067796610166,
          39.66101694915254,
          40.67796610169491,
          41.69491525423729,
          42.71186440677966,
          43.728813559322035,
          44.7457627118644,
          45.762711864406775,
          46.77966101694915,
          47.79661016949152,
          48.813559322033896,
          49.83050847457627,
          50.847457627118644,
          51.86440677966102,
          52.88135593220339,
          53.89830508474576,
          54.91525423728813,
          55.932203389830505,
          56.94915254237288,
          57.96610169491525,
          58.983050847457626,
          60
         ],
         "xaxis": "x",
         "y": [
          0,
          0.014080349651331862,
          0.028160699302663725,
          0.04224104895399559,
          0.05632139860532745,
          0.07040174825665932,
          0.08448209790799117,
          0.09856244755932304,
          0.1126427972106549,
          0.12672314686198677,
          0.14080349651331864,
          0.15488384616465048,
          0.16896419581598235,
          0.18304454546731422,
          0.1971248951186461,
          0.21120524476997793,
          0.2252855944213098,
          0.23936594407264167,
          0.25344629372397354,
          0.2675266433753054,
          0.2816069930266373,
          0.29568734267796914,
          0.30976769232930096,
          0.32384804198063283,
          0.3379283916319647,
          0.35200874128329657,
          0.36608909093462844,
          0.3801694405859603,
          0.3942497902372922,
          0.40833013988862404,
          0.42241048953995586,
          0.4364908391912877,
          0.4505711888426196,
          0.46465153849395147,
          0.47873188814528334,
          0.4928122377966152,
          0.5068925874479471,
          0.5209729370992788,
          0.5350532867506108,
          0.5491336364019427,
          0.5632139860532746,
          0.5772943357046064,
          0.5913746853559383,
          0.6054550350072702,
          0.6195353846586019,
          0.6336157343099338,
          0.6476960839612657,
          0.6617764336125975,
          0.6758567832639294,
          0.6899371329152613,
          0.7040174825665931,
          0.718097832217925,
          0.7321781818692569,
          0.7462585315205887,
          0.7603388811719206,
          0.7744192308232525,
          0.7884995804745843,
          0.8025799301259162,
          0.8166602797772481,
          0.83074062942858
         ],
         "yaxis": "y"
        },
        {
         "hoverinfo": "skip",
         "marker": {
          "color": "#d62728"
         },
         "mode": "markers",
         "name": "Residuals",
         "type": "scatter",
         "visible": true,
         "x": [
          0,
          0,
          0,
          20,
          20,
          20,
          40,
          40,
          40,
          60,
          60,
          60
         ],
         "xaxis": "x2",
         "y": [
          0,
          0,
          0,
          -4.004895959483747,
          0.5651851615574001,
          -10.126654939852022,
          -7.186720040452138,
          13.026576280246124,
          4.401121265366244,
          -6.455955195962261,
          2.880592016010929,
          0.5311915929462926
         ],
         "yaxis": "y2"
        }
       ],
       "layout": {
        "annotations": [
         {
          "font": {
           "size": 16
          },
          "showarrow": false,
          "text": "Standard",
          "x": 0.2125,
          "xanchor": "center",
          "xref": "paper",
          "y": 1,
          "yanchor": "bottom",
          "yref": "paper"
         },
         {
          "font": {
           "size": 16
          },
          "showarrow": false,
          "text": "Model Residuals",
          "x": 0.7875,
          "xanchor": "center",
          "xref": "paper",
          "y": 1,
          "yanchor": "bottom",
          "yref": "paper"
         },
         {
          "font": {
           "size": 16
          },
          "showarrow": false,
          "text": "ABTS concentration (umol / l)",
          "x": 0.5,
          "xanchor": "center",
          "xref": "paper",
          "y": 0,
          "yanchor": "top",
          "yref": "paper",
          "yshift": -30
         }
        ],
        "shapes": [
         {
          "line": {
           "color": "#000000",
           "dash": "dot",
           "width": 2
          },
          "type": "line",
          "x0": 0,
          "x1": 1,
          "xref": "x2 domain",
          "y0": 0,
          "y1": 0,
          "yref": "y2"
         }
        ],
        "template": {
         "data": {
          "bar": [
           {
            "error_x": {
             "color": "#2a3f5f"
            },
            "error_y": {
             "color": "#2a3f5f"
            },
            "marker": {
             "line": {
              "color": "#E5ECF6",
              "width": 0.5
             },
             "pattern": {
              "fillmode": "overlay",
              "size": 10,
              "solidity": 0.2
             }
            },
            "type": "bar"
           }
          ],
          "barpolar": [
           {
            "marker": {
             "line": {
              "color": "#E5ECF6",
              "width": 0.5
             },
             "pattern": {
              "fillmode": "overlay",
              "size": 10,
              "solidity": 0.2
             }
            },
            "type": "barpolar"
           }
          ],
          "carpet": [
           {
            "aaxis": {
             "endlinecolor": "#2a3f5f",
             "gridcolor": "white",
             "linecolor": "white",
             "minorgridcolor": "white",
             "startlinecolor": "#2a3f5f"
            },
            "baxis": {
             "endlinecolor": "#2a3f5f",
             "gridcolor": "white",
             "linecolor": "white",
             "minorgridcolor": "white",
             "startlinecolor": "#2a3f5f"
            },
            "type": "carpet"
           }
          ],
          "choropleth": [
           {
            "colorbar": {
             "outlinewidth": 0,
             "ticks": ""
            },
            "type": "choropleth"
           }
          ],
          "contour": [
           {
            "colorbar": {
             "outlinewidth": 0,
             "ticks": ""
            },
            "colorscale": [
             [
              0,
              "#0d0887"
             ],
             [
              0.1111111111111111,
              "#46039f"
             ],
             [
              0.2222222222222222,
              "#7201a8"
             ],
             [
              0.3333333333333333,
              "#9c179e"
             ],
             [
              0.4444444444444444,
              "#bd3786"
             ],
             [
              0.5555555555555556,
              "#d8576b"
             ],
             [
              0.6666666666666666,
              "#ed7953"
             ],
             [
              0.7777777777777778,
              "#fb9f3a"
             ],
             [
              0.8888888888888888,
              "#fdca26"
             ],
             [
              1,
              "#f0f921"
             ]
            ],
            "type": "contour"
           }
          ],
          "contourcarpet": [
           {
            "colorbar": {
             "outlinewidth": 0,
             "ticks": ""
            },
            "type": "contourcarpet"
           }
          ],
          "heatmap": [
           {
            "colorbar": {
             "outlinewidth": 0,
             "ticks": ""
            },
            "colorscale": [
             [
              0,
              "#0d0887"
             ],
             [
              0.1111111111111111,
              "#46039f"
             ],
             [
              0.2222222222222222,
              "#7201a8"
             ],
             [
              0.3333333333333333,
              "#9c179e"
             ],
             [
              0.4444444444444444,
              "#bd3786"
             ],
             [
              0.5555555555555556,
              "#d8576b"
             ],
             [
              0.6666666666666666,
              "#ed7953"
             ],
             [
              0.7777777777777778,
              "#fb9f3a"
             ],
             [
              0.8888888888888888,
              "#fdca26"
             ],
             [
              1,
              "#f0f921"
             ]
            ],
            "type": "heatmap"
           }
          ],
          "heatmapgl": [
           {
            "colorbar": {
             "outlinewidth": 0,
             "ticks": ""
            },
            "colorscale": [
             [
              0,
              "#0d0887"
             ],
             [
              0.1111111111111111,
              "#46039f"
             ],
             [
              0.2222222222222222,
              "#7201a8"
             ],
             [
              0.3333333333333333,
              "#9c179e"
             ],
             [
              0.4444444444444444,
              "#bd3786"
             ],
             [
              0.5555555555555556,
              "#d8576b"
             ],
             [
              0.6666666666666666,
              "#ed7953"
             ],
             [
              0.7777777777777778,
              "#fb9f3a"
             ],
             [
              0.8888888888888888,
              "#fdca26"
             ],
             [
              1,
              "#f0f921"
             ]
            ],
            "type": "heatmapgl"
           }
          ],
          "histogram": [
           {
            "marker": {
             "pattern": {
              "fillmode": "overlay",
              "size": 10,
              "solidity": 0.2
             }
            },
            "type": "histogram"
           }
          ],
          "histogram2d": [
           {
            "colorbar": {
             "outlinewidth": 0,
             "ticks": ""
            },
            "colorscale": [
             [
              0,
              "#0d0887"
             ],
             [
              0.1111111111111111,
              "#46039f"
             ],
             [
              0.2222222222222222,
              "#7201a8"
             ],
             [
              0.3333333333333333,
              "#9c179e"
             ],
             [
              0.4444444444444444,
              "#bd3786"
             ],
             [
              0.5555555555555556,
              "#d8576b"
             ],
             [
              0.6666666666666666,
              "#ed7953"
             ],
             [
              0.7777777777777778,
              "#fb9f3a"
             ],
             [
              0.8888888888888888,
              "#fdca26"
             ],
             [
              1,
              "#f0f921"
             ]
            ],
            "type": "histogram2d"
           }
          ],
          "histogram2dcontour": [
           {
            "colorbar": {
             "outlinewidth": 0,
             "ticks": ""
            },
            "colorscale": [
             [
              0,
              "#0d0887"
             ],
             [
              0.1111111111111111,
              "#46039f"
             ],
             [
              0.2222222222222222,
              "#7201a8"
             ],
             [
              0.3333333333333333,
              "#9c179e"
             ],
             [
              0.4444444444444444,
              "#bd3786"
             ],
             [
              0.5555555555555556,
              "#d8576b"
             ],
             [
              0.6666666666666666,
              "#ed7953"
             ],
             [
              0.7777777777777778,
              "#fb9f3a"
             ],
             [
              0.8888888888888888,
              "#fdca26"
             ],
             [
              1,
              "#f0f921"
             ]
            ],
            "type": "histogram2dcontour"
           }
          ],
          "mesh3d": [
           {
            "colorbar": {
             "outlinewidth": 0,
             "ticks": ""
            },
            "type": "mesh3d"
           }
          ],
          "parcoords": [
           {
            "line": {
             "colorbar": {
              "outlinewidth": 0,
              "ticks": ""
             }
            },
            "type": "parcoords"
           }
          ],
          "pie": [
           {
            "automargin": true,
            "type": "pie"
           }
          ],
          "scatter": [
           {
            "fillpattern": {
             "fillmode": "overlay",
             "size": 10,
             "solidity": 0.2
            },
            "type": "scatter"
           }
          ],
          "scatter3d": [
           {
            "line": {
             "colorbar": {
              "outlinewidth": 0,
              "ticks": ""
             }
            },
            "marker": {
             "colorbar": {
              "outlinewidth": 0,
              "ticks": ""
             }
            },
            "type": "scatter3d"
           }
          ],
          "scattercarpet": [
           {
            "marker": {
             "colorbar": {
              "outlinewidth": 0,
              "ticks": ""
             }
            },
            "type": "scattercarpet"
           }
          ],
          "scattergeo": [
           {
            "marker": {
             "colorbar": {
              "outlinewidth": 0,
              "ticks": ""
             }
            },
            "type": "scattergeo"
           }
          ],
          "scattergl": [
           {
            "marker": {
             "colorbar": {
              "outlinewidth": 0,
              "ticks": ""
             }
            },
            "type": "scattergl"
           }
          ],
          "scattermapbox": [
           {
            "marker": {
             "colorbar": {
              "outlinewidth": 0,
              "ticks": ""
             }
            },
            "type": "scattermapbox"
           }
          ],
          "scatterpolar": [
           {
            "marker": {
             "colorbar": {
              "outlinewidth": 0,
              "ticks": ""
             }
            },
            "type": "scatterpolar"
           }
          ],
          "scatterpolargl": [
           {
            "marker": {
             "colorbar": {
              "outlinewidth": 0,
              "ticks": ""
             }
            },
            "type": "scatterpolargl"
           }
          ],
          "scatterternary": [
           {
            "marker": {
             "colorbar": {
              "outlinewidth": 0,
              "ticks": ""
             }
            },
            "type": "scatterternary"
           }
          ],
          "surface": [
           {
            "colorbar": {
             "outlinewidth": 0,
             "ticks": ""
            },
            "colorscale": [
             [
              0,
              "#0d0887"
             ],
             [
              0.1111111111111111,
              "#46039f"
             ],
             [
              0.2222222222222222,
              "#7201a8"
             ],
             [
              0.3333333333333333,
              "#9c179e"
             ],
             [
              0.4444444444444444,
              "#bd3786"
             ],
             [
              0.5555555555555556,
              "#d8576b"
             ],
             [
              0.6666666666666666,
              "#ed7953"
             ],
             [
              0.7777777777777778,
              "#fb9f3a"
             ],
             [
              0.8888888888888888,
              "#fdca26"
             ],
             [
              1,
              "#f0f921"
             ]
            ],
            "type": "surface"
           }
          ],
          "table": [
           {
            "cells": {
             "fill": {
              "color": "#EBF0F8"
             },
             "line": {
              "color": "white"
             }
            },
            "header": {
             "fill": {
              "color": "#C8D4E3"
             },
             "line": {
              "color": "white"
             }
            },
            "type": "table"
           }
          ]
         },
         "layout": {
          "annotationdefaults": {
           "arrowcolor": "#2a3f5f",
           "arrowhead": 0,
           "arrowwidth": 1
          },
          "autotypenumbers": "strict",
          "coloraxis": {
           "colorbar": {
            "outlinewidth": 0,
            "ticks": ""
           }
          },
          "colorscale": {
           "diverging": [
            [
             0,
             "#8e0152"
            ],
            [
             0.1,
             "#c51b7d"
            ],
            [
             0.2,
             "#de77ae"
            ],
            [
             0.3,
             "#f1b6da"
            ],
            [
             0.4,
             "#fde0ef"
            ],
            [
             0.5,
             "#f7f7f7"
            ],
            [
             0.6,
             "#e6f5d0"
            ],
            [
             0.7,
             "#b8e186"
            ],
            [
             0.8,
             "#7fbc41"
            ],
            [
             0.9,
             "#4d9221"
            ],
            [
             1,
             "#276419"
            ]
           ],
           "sequential": [
            [
             0,
             "#0d0887"
            ],
            [
             0.1111111111111111,
             "#46039f"
            ],
            [
             0.2222222222222222,
             "#7201a8"
            ],
            [
             0.3333333333333333,
             "#9c179e"
            ],
            [
             0.4444444444444444,
             "#bd3786"
            ],
            [
             0.5555555555555556,
             "#d8576b"
            ],
            [
             0.6666666666666666,
             "#ed7953"
            ],
            [
             0.7777777777777778,
             "#fb9f3a"
            ],
            [
             0.8888888888888888,
             "#fdca26"
            ],
            [
             1,
             "#f0f921"
            ]
           ],
           "sequentialminus": [
            [
             0,
             "#0d0887"
            ],
            [
             0.1111111111111111,
             "#46039f"
            ],
            [
             0.2222222222222222,
             "#7201a8"
            ],
            [
             0.3333333333333333,
             "#9c179e"
            ],
            [
             0.4444444444444444,
             "#bd3786"
            ],
            [
             0.5555555555555556,
             "#d8576b"
            ],
            [
             0.6666666666666666,
             "#ed7953"
            ],
            [
             0.7777777777777778,
             "#fb9f3a"
            ],
            [
             0.8888888888888888,
             "#fdca26"
            ],
            [
             1,
             "#f0f921"
            ]
           ]
          },
          "colorway": [
           "#636efa",
           "#EF553B",
           "#00cc96",
           "#ab63fa",
           "#FFA15A",
           "#19d3f3",
           "#FF6692",
           "#B6E880",
           "#FF97FF",
           "#FECB52"
          ],
          "font": {
           "color": "#2a3f5f"
          },
          "geo": {
           "bgcolor": "white",
           "lakecolor": "white",
           "landcolor": "#E5ECF6",
           "showlakes": true,
           "showland": true,
           "subunitcolor": "white"
          },
          "hoverlabel": {
           "align": "left"
          },
          "hovermode": "closest",
          "mapbox": {
           "style": "light"
          },
          "paper_bgcolor": "white",
          "plot_bgcolor": "#E5ECF6",
          "polar": {
           "angularaxis": {
            "gridcolor": "white",
            "linecolor": "white",
            "ticks": ""
           },
           "bgcolor": "#E5ECF6",
           "radialaxis": {
            "gridcolor": "white",
            "linecolor": "white",
            "ticks": ""
           }
          },
          "scene": {
           "xaxis": {
            "backgroundcolor": "#E5ECF6",
            "gridcolor": "white",
            "gridwidth": 2,
            "linecolor": "white",
            "showbackground": true,
            "ticks": "",
            "zerolinecolor": "white"
           },
           "yaxis": {
            "backgroundcolor": "#E5ECF6",
            "gridcolor": "white",
            "gridwidth": 2,
            "linecolor": "white",
            "showbackground": true,
            "ticks": "",
            "zerolinecolor": "white"
           },
           "zaxis": {
            "backgroundcolor": "#E5ECF6",
            "gridcolor": "white",
            "gridwidth": 2,
            "linecolor": "white",
            "showbackground": true,
            "ticks": "",
            "zerolinecolor": "white"
           }
          },
          "shapedefaults": {
           "line": {
            "color": "#2a3f5f"
           }
          },
          "ternary": {
           "aaxis": {
            "gridcolor": "white",
            "linecolor": "white",
            "ticks": ""
           },
           "baxis": {
            "gridcolor": "white",
            "linecolor": "white",
            "ticks": ""
           },
           "bgcolor": "#E5ECF6",
           "caxis": {
            "gridcolor": "white",
            "linecolor": "white",
            "ticks": ""
           }
          },
          "title": {
           "x": 0.05
          },
          "xaxis": {
           "automargin": true,
           "gridcolor": "white",
           "linecolor": "white",
           "ticks": "",
           "title": {
            "standoff": 15
           },
           "zerolinecolor": "white",
           "zerolinewidth": 2
          },
          "yaxis": {
           "automargin": true,
           "gridcolor": "white",
           "linecolor": "white",
           "ticks": "",
           "title": {
            "standoff": 15
           },
           "zerolinecolor": "white",
           "zerolinewidth": 2
          }
         }
        },
        "xaxis": {
         "anchor": "y",
         "domain": [
          0,
          0.425
         ]
        },
        "xaxis2": {
         "anchor": "y2",
         "domain": [
          0.575,
          1
         ]
        },
        "yaxis": {
         "anchor": "x",
         "domain": [
          0,
          1
         ],
         "title": {
          "text": "Signal (a.u.)"
         }
        },
        "yaxis2": {
         "anchor": "x2",
         "domain": [
          0,
          1
         ],
         "title": {
          "text": "Residuals (%)"
         }
        }
       }
      }
     },
     "metadata": {},
     "output_type": "display_data"
    }
   ],
   "source": [
    "calibrator.visualize(linear)"
   ]
  },
  {
   "cell_type": "markdown",
   "metadata": {},
   "source": [
    "## concentration calculation"
   ]
  },
  {
   "cell_type": "code",
   "execution_count": null,
   "metadata": {},
   "outputs": [
    {
     "data": {
      "text/plain": [
       "{'a': 0.014188716490768596}"
      ]
     },
     "execution_count": 17,
     "metadata": {},
     "output_type": "execute_result"
    }
   ],
   "source": [
    "linear._params"
   ]
  },
  {
   "cell_type": "code",
   "execution_count": null,
   "metadata": {},
   "outputs": [
    {
     "ename": "NameError",
     "evalue": "name 'model' is not defined",
     "output_type": "error",
     "traceback": [
      "\u001b[0;31m---------------------------------------------------------------------------\u001b[0m",
      "\u001b[0;31mNameError\u001b[0m                                 Traceback (most recent call last)",
      "\u001b[1;32m/Users/max/code/CaliPytion/test_calibrator.ipynb Cell 13\u001b[0m line \u001b[0;36m1\n\u001b[0;32m----> <a href='vscode-notebook-cell:/Users/max/code/CaliPytion/test_calibrator.ipynb#X16sZmlsZQ%3D%3D?line=0'>1</a>\u001b[0m model\u001b[39m.\u001b[39mcalculate_concentrations(\n\u001b[1;32m      <a href='vscode-notebook-cell:/Users/max/code/CaliPytion/test_calibrator.ipynb#X16sZmlsZQ%3D%3D?line=1'>2</a>\u001b[0m     signals\u001b[39m=\u001b[39m[\u001b[39m1\u001b[39m, \u001b[39m1.1\u001b[39m, \u001b[39m2.21\u001b[39m],\n\u001b[1;32m      <a href='vscode-notebook-cell:/Users/max/code/CaliPytion/test_calibrator.ipynb#X16sZmlsZQ%3D%3D?line=2'>3</a>\u001b[0m     cutoff\u001b[39m=\u001b[39m\u001b[39m3\u001b[39m,\n\u001b[1;32m      <a href='vscode-notebook-cell:/Users/max/code/CaliPytion/test_calibrator.ipynb#X16sZmlsZQ%3D%3D?line=3'>4</a>\u001b[0m     calibration_range\u001b[39m=\u001b[39mcalibrator\u001b[39m.\u001b[39mconcentrations\n\u001b[1;32m      <a href='vscode-notebook-cell:/Users/max/code/CaliPytion/test_calibrator.ipynb#X16sZmlsZQ%3D%3D?line=4'>5</a>\u001b[0m )\n",
      "\u001b[0;31mNameError\u001b[0m: name 'model' is not defined"
     ]
    }
   ],
   "source": [
    "model.calculate_concentrations(\n",
    "    signals=[1, 1.1, 2.21],\n",
    "    cutoff=3,\n",
    "    calibration_range=calibrator.concentrations\n",
    ")"
   ]
  },
  {
   "cell_type": "code",
   "execution_count": 27,
   "metadata": {},
   "outputs": [
    {
     "name": "stdout",
     "output_type": "stream",
     "text": [
      "\u001b[4mStandard\u001b[0m\n",
      "├── \u001b[94mid\u001b[0m = standard1\n",
      "├── \u001b[94mspecies_id\u001b[0m = s0\n",
      "├── \u001b[94mname\u001b[0m = ABTS\n",
      "├── \u001b[94mwavelength\u001b[0m = 340.0\n",
      "├── \u001b[94msamples\u001b[0m\n",
      "│   ├── 0\n",
      "│   │   └── \u001b[4mSample\u001b[0m\n",
      "│   │       ├── \u001b[94mid\u001b[0m = sample0\n",
      "│   │       ├── \u001b[94mconcentration\u001b[0m = 0.0\n",
      "│   │       ├── \u001b[94mconc_unit\u001b[0m = umol / l\n",
      "│   │       └── \u001b[94msignal\u001b[0m = 0.03998664610119449\n",
      "│   ├── 1\n",
      "│   │   └── \u001b[4mSample\u001b[0m\n",
      "│   │       ├── \u001b[94mid\u001b[0m = sample1\n",
      "│   │       ├── \u001b[94mconcentration\u001b[0m = 0.0\n",
      "│   │       ├── \u001b[94mconc_unit\u001b[0m = umol / l\n",
      "│   │       └── \u001b[94msignal\u001b[0m = 0.029908585548001833\n",
      "│   ├── 2\n",
      "│   │   └── \u001b[4mSample\u001b[0m\n",
      "│   │       ├── \u001b[94mid\u001b[0m = sample2\n",
      "│   │       ├── \u001b[94mconcentration\u001b[0m = 0.0\n",
      "│   │       ├── \u001b[94mconc_unit\u001b[0m = umol / l\n",
      "│   │       └── \u001b[94msignal\u001b[0m = 0.014567241538710035\n",
      "│   ├── 3\n",
      "│   │   └── \u001b[4mSample\u001b[0m\n",
      "│   │       ├── \u001b[94mid\u001b[0m = sample3\n",
      "│   │       ├── \u001b[94mconcentration\u001b[0m = 20.0\n",
      "│   │       ├── \u001b[94mconc_unit\u001b[0m = umol / l\n",
      "│   │       └── \u001b[94msignal\u001b[0m = 0.28800364244345167\n",
      "│   ├── 4\n",
      "│   │   └── \u001b[4mSample\u001b[0m\n",
      "│   │       ├── \u001b[94mid\u001b[0m = sample4\n",
      "│   │       ├── \u001b[94mconcentration\u001b[0m = 20.0\n",
      "│   │       ├── \u001b[94mconc_unit\u001b[0m = umol / l\n",
      "│   │       └── \u001b[94msignal\u001b[0m = 0.2753484688866737\n",
      "│   ├── 5\n",
      "│   │   └── \u001b[4mSample\u001b[0m\n",
      "│   │       ├── \u001b[94mid\u001b[0m = sample5\n",
      "│   │       ├── \u001b[94mconcentration\u001b[0m = 20.0\n",
      "│   │       ├── \u001b[94mconc_unit\u001b[0m = umol / l\n",
      "│   │       └── \u001b[94msignal\u001b[0m = 0.3049556221386557\n",
      "│   ├── 6\n",
      "│   │   └── \u001b[4mSample\u001b[0m\n",
      "│   │       ├── \u001b[94mid\u001b[0m = sample6\n",
      "│   │       ├── \u001b[94mconcentration\u001b[0m = 40.0\n",
      "│   │       ├── \u001b[94mconc_unit\u001b[0m = umol / l\n",
      "│   │       └── \u001b[94msignal\u001b[0m = 0.593629088485268\n",
      "│   ├── 7\n",
      "│   │   └── \u001b[4mSample\u001b[0m\n",
      "│   │       ├── \u001b[94mid\u001b[0m = sample7\n",
      "│   │       ├── \u001b[94mconcentration\u001b[0m = 40.0\n",
      "│   │       ├── \u001b[94mconc_unit\u001b[0m = umol / l\n",
      "│   │       └── \u001b[94msignal\u001b[0m = 0.48168237843004613\n",
      "│   ├── 8\n",
      "│   │   └── \u001b[4mSample\u001b[0m\n",
      "│   │       ├── \u001b[94mid\u001b[0m = sample8\n",
      "│   │       ├── \u001b[94mconcentration\u001b[0m = 40.0\n",
      "│   │       ├── \u001b[94mconc_unit\u001b[0m = umol / l\n",
      "│   │       └── \u001b[94msignal\u001b[0m = 0.5294524846178409\n",
      "│   ├── 9\n",
      "│   │   └── \u001b[4mSample\u001b[0m\n",
      "│   │       ├── \u001b[94mid\u001b[0m = sample9\n",
      "│   │       ├── \u001b[94mconcentration\u001b[0m = 60.0\n",
      "│   │       ├── \u001b[94mconc_unit\u001b[0m = umol / l\n",
      "│   │       └── \u001b[94msignal\u001b[0m = 0.884372872259144\n",
      "│   ├── 10\n",
      "│   │   └── \u001b[4mSample\u001b[0m\n",
      "│   │       ├── \u001b[94mid\u001b[0m = sample10\n",
      "│   │       ├── \u001b[94mconcentration\u001b[0m = 60.0\n",
      "│   │       ├── \u001b[94mconc_unit\u001b[0m = umol / l\n",
      "│   │       └── \u001b[94msignal\u001b[0m = 0.8068103811835013\n",
      "│   ├── 11\n",
      "│   │   └── \u001b[4mSample\u001b[0m\n",
      "│   │       ├── \u001b[94mid\u001b[0m = sample11\n",
      "│   │       ├── \u001b[94mconcentration\u001b[0m = 60.0\n",
      "│   │       ├── \u001b[94mconc_unit\u001b[0m = umol / l\n",
      "│   │       └── \u001b[94msignal\u001b[0m = 0.8263278050458662\n",
      "│   ├── 12\n",
      "│   │   └── \u001b[4mSample\u001b[0m\n",
      "│   │       ├── \u001b[94mid\u001b[0m = sample12\n",
      "│   │       ├── \u001b[94mconcentration\u001b[0m = 80.0\n",
      "│   │       ├── \u001b[94mconc_unit\u001b[0m = umol / l\n",
      "│   │       └── \u001b[94msignal\u001b[0m = 1.0933554305050934\n",
      "│   ├── 13\n",
      "│   │   └── \u001b[4mSample\u001b[0m\n",
      "│   │       ├── \u001b[94mid\u001b[0m = sample13\n",
      "│   │       ├── \u001b[94mconcentration\u001b[0m = 80.0\n",
      "│   │       ├── \u001b[94mconc_unit\u001b[0m = umol / l\n",
      "│   │       └── \u001b[94msignal\u001b[0m = 1.115285799935226\n",
      "│   ├── 14\n",
      "│   │   └── \u001b[4mSample\u001b[0m\n",
      "│   │       ├── \u001b[94mid\u001b[0m = sample14\n",
      "│   │       ├── \u001b[94mconcentration\u001b[0m = 80.0\n",
      "│   │       ├── \u001b[94mconc_unit\u001b[0m = umol / l\n",
      "│   │       └── \u001b[94msignal\u001b[0m = 1.0915682015919197\n",
      "│   ├── 15\n",
      "│   │   └── \u001b[4mSample\u001b[0m\n",
      "│   │       ├── \u001b[94mid\u001b[0m = sample15\n",
      "│   │       ├── \u001b[94mconcentration\u001b[0m = 100.0\n",
      "│   │       ├── \u001b[94mconc_unit\u001b[0m = umol / l\n",
      "│   │       └── \u001b[94msignal\u001b[0m = 1.3748441984798336\n",
      "│   ├── 16\n",
      "│   │   └── \u001b[4mSample\u001b[0m\n",
      "│   │       ├── \u001b[94mid\u001b[0m = sample16\n",
      "│   │       ├── \u001b[94mconcentration\u001b[0m = 100.0\n",
      "│   │       ├── \u001b[94mconc_unit\u001b[0m = umol / l\n",
      "│   │       └── \u001b[94msignal\u001b[0m = 1.4052133315231414\n",
      "│   ├── 17\n",
      "│   │   └── \u001b[4mSample\u001b[0m\n",
      "│   │       ├── \u001b[94mid\u001b[0m = sample17\n",
      "│   │       ├── \u001b[94mconcentration\u001b[0m = 100.0\n",
      "│   │       ├── \u001b[94mconc_unit\u001b[0m = umol / l\n",
      "│   │       └── \u001b[94msignal\u001b[0m = 1.425246124974298\n",
      "│   ├── 18\n",
      "│   │   └── \u001b[4mSample\u001b[0m\n",
      "│   │       ├── \u001b[94mid\u001b[0m = sample18\n",
      "│   │       ├── \u001b[94mconcentration\u001b[0m = 120.0\n",
      "│   │       ├── \u001b[94mconc_unit\u001b[0m = umol / l\n",
      "│   │       └── \u001b[94msignal\u001b[0m = 1.6195753381854785\n",
      "│   ├── 19\n",
      "│   │   └── \u001b[4mSample\u001b[0m\n",
      "│   │       ├── \u001b[94mid\u001b[0m = sample19\n",
      "│   │       ├── \u001b[94mconcentration\u001b[0m = 120.0\n",
      "│   │       ├── \u001b[94mconc_unit\u001b[0m = umol / l\n",
      "│   │       └── \u001b[94msignal\u001b[0m = 1.6521862514578445\n",
      "│   ├── 20\n",
      "│   │   └── \u001b[4mSample\u001b[0m\n",
      "│   │       ├── \u001b[94mid\u001b[0m = sample20\n",
      "│   │       ├── \u001b[94mconcentration\u001b[0m = 120.0\n",
      "│   │       ├── \u001b[94mconc_unit\u001b[0m = umol / l\n",
      "│   │       └── \u001b[94msignal\u001b[0m = 1.7512328235286716\n",
      "│   ├── 21\n",
      "│   │   └── \u001b[4mSample\u001b[0m\n",
      "│   │       ├── \u001b[94mid\u001b[0m = sample21\n",
      "│   │       ├── \u001b[94mconcentration\u001b[0m = 140.0\n",
      "│   │       ├── \u001b[94mconc_unit\u001b[0m = umol / l\n",
      "│   │       └── \u001b[94msignal\u001b[0m = 1.932703279683089\n",
      "│   ├── 22\n",
      "│   │   └── \u001b[4mSample\u001b[0m\n",
      "│   │       ├── \u001b[94mid\u001b[0m = sample22\n",
      "│   │       ├── \u001b[94mconcentration\u001b[0m = 140.0\n",
      "│   │       ├── \u001b[94mconc_unit\u001b[0m = umol / l\n",
      "│   │       └── \u001b[94msignal\u001b[0m = 1.982514078923527\n",
      "│   ├── 23\n",
      "│   │   └── \u001b[4mSample\u001b[0m\n",
      "│   │       ├── \u001b[94mid\u001b[0m = sample23\n",
      "│   │       ├── \u001b[94mconcentration\u001b[0m = 140.0\n",
      "│   │       ├── \u001b[94mconc_unit\u001b[0m = umol / l\n",
      "│   │       └── \u001b[94msignal\u001b[0m = 1.9700537192666279\n",
      "│   ├── 24\n",
      "│   │   └── \u001b[4mSample\u001b[0m\n",
      "│   │       ├── \u001b[94mid\u001b[0m = sample24\n",
      "│   │       ├── \u001b[94mconcentration\u001b[0m = 160.0\n",
      "│   │       ├── \u001b[94mconc_unit\u001b[0m = umol / l\n",
      "│   │       └── \u001b[94msignal\u001b[0m = 2.259585940764317\n",
      "│   ├── 25\n",
      "│   │   └── \u001b[4mSample\u001b[0m\n",
      "│   │       ├── \u001b[94mid\u001b[0m = sample25\n",
      "│   │       ├── \u001b[94mconcentration\u001b[0m = 160.0\n",
      "│   │       ├── \u001b[94mconc_unit\u001b[0m = umol / l\n",
      "│   │       └── \u001b[94msignal\u001b[0m = 2.1800271837850476\n",
      "│   ├── 26\n",
      "│   │   └── \u001b[4mSample\u001b[0m\n",
      "│   │       ├── \u001b[94mid\u001b[0m = sample26\n",
      "│   │       ├── \u001b[94mconcentration\u001b[0m = 160.0\n",
      "│   │       ├── \u001b[94mconc_unit\u001b[0m = umol / l\n",
      "│   │       └── \u001b[94msignal\u001b[0m = 2.2380371769130845\n",
      "│   ├── 27\n",
      "│   │   └── \u001b[4mSample\u001b[0m\n",
      "│   │       ├── \u001b[94mid\u001b[0m = sample27\n",
      "│   │       ├── \u001b[94mconcentration\u001b[0m = 180.0\n",
      "│   │       ├── \u001b[94mconc_unit\u001b[0m = umol / l\n",
      "│   │       └── \u001b[94msignal\u001b[0m = 2.5353048197196375\n",
      "│   ├── 28\n",
      "│   │   └── \u001b[4mSample\u001b[0m\n",
      "│   │       ├── \u001b[94mid\u001b[0m = sample28\n",
      "│   │       ├── \u001b[94mconcentration\u001b[0m = 180.0\n",
      "│   │       ├── \u001b[94mconc_unit\u001b[0m = umol / l\n",
      "│   │       └── \u001b[94msignal\u001b[0m = 2.5430461233546255\n",
      "│   ├── 29\n",
      "│   │   └── \u001b[4mSample\u001b[0m\n",
      "│   │       ├── \u001b[94mid\u001b[0m = sample29\n",
      "│   │       ├── \u001b[94mconcentration\u001b[0m = 180.0\n",
      "│   │       ├── \u001b[94mconc_unit\u001b[0m = umol / l\n",
      "│   │       └── \u001b[94msignal\u001b[0m = 2.5347548666860966\n",
      "│   ├── 30\n",
      "│   │   └── \u001b[4mSample\u001b[0m\n",
      "│   │       ├── \u001b[94mid\u001b[0m = sample30\n",
      "│   │       ├── \u001b[94mconcentration\u001b[0m = 200.0\n",
      "│   │       ├── \u001b[94mconc_unit\u001b[0m = umol / l\n",
      "│   │       └── \u001b[94msignal\u001b[0m = 2.8123524755970193\n",
      "│   ├── 31\n",
      "│   │   └── \u001b[4mSample\u001b[0m\n",
      "│   │       ├── \u001b[94mid\u001b[0m = sample31\n",
      "│   │       ├── \u001b[94mconcentration\u001b[0m = 200.0\n",
      "│   │       ├── \u001b[94mconc_unit\u001b[0m = umol / l\n",
      "│   │       └── \u001b[94msignal\u001b[0m = 2.8077466827096824\n",
      "│   └── 32\n",
      "│       └── \u001b[4mSample\u001b[0m\n",
      "│           ├── \u001b[94mid\u001b[0m = sample32\n",
      "│           ├── \u001b[94mconcentration\u001b[0m = 200.0\n",
      "│           ├── \u001b[94mconc_unit\u001b[0m = umol / l\n",
      "│           └── \u001b[94msignal\u001b[0m = 2.794535574595507\n",
      "├── \u001b[94mph\u001b[0m = 2.0\n",
      "├── \u001b[94mtemperature\u001b[0m = 25.0\n",
      "├── \u001b[94mtemperature_unit\u001b[0m = C\n",
      "├── \u001b[94mcreated\u001b[0m = 2023-09-15 10:19:26.831828\n",
      "└── \u001b[94mmodel_result\u001b[0m\n",
      "    └── \u001b[4mModel\u001b[0m\n",
      "        ├── \u001b[94mid\u001b[0m = model1\n",
      "        ├── \u001b[94mname\u001b[0m = linear\n",
      "        ├── \u001b[94mequation\u001b[0m = a * concentration = signal\n",
      "        ├── \u001b[94mparameters\u001b[0m\n",
      "        │   └── 0\n",
      "        │       └── \u001b[4mParameter\u001b[0m\n",
      "        │           ├── \u001b[94mid\u001b[0m = parameter0\n",
      "        │           ├── \u001b[94mname\u001b[0m = a\n",
      "        │           ├── \u001b[94mvalue\u001b[0m = 0.013845677157142999\n",
      "        │           ├── \u001b[94minit_value\u001b[0m = 0.1\n",
      "        │           ├── \u001b[94mstandard_error\u001b[0m = 0.0002798150340324915\n",
      "        │           ├── \u001b[94mlower_bound\u001b[0m = -inf\n",
      "        │           └── \u001b[94mupper_bound\u001b[0m = inf\n",
      "        ├── \u001b[94maic\u001b[0m = -78.64768891881754\n",
      "        ├── \u001b[94mbic\u001b[0m = -78.16278226902953\n",
      "        ├── \u001b[94mr2\u001b[0m = 0.9867101011373692\n",
      "        ├── \u001b[94mresiduals\u001b[0m = [-0.03998664610119449, -0.029908585548001833, -0.014567241538710035, -0.011090099300591683, 0.001565074256186294, ...]\n",
      "        └── \u001b[94mrmsd\u001b[0m = 0.03472413253603766\n",
      "\n"
     ]
    }
   ],
   "source": [
    "print(calibrator.save_fitted_model(linear))"
   ]
  },
  {
   "cell_type": "code",
   "execution_count": null,
   "metadata": {},
   "outputs": [
    {
     "name": "stdout",
     "output_type": "stream",
     "text": [
      "[0.5 1. ]\n"
     ]
    }
   ],
   "source": [
    "cutoff = 1.3\n",
    "\n",
    "concentrations = np.array([1, 2, 3, 4, 5]) * 10\n",
    "signals = np.array([1, 2, 3, 4, 5]) / 2\n",
    "\n",
    "\n",
    "concentrations = np.array([1, 2, 3, 4, 5]) * 10\n",
    "signals = np.array([1, 2, 3, 4, 5]) / 2\n",
    "\n",
    "above_cutoff_idx = [idx for idx,\n",
    "                    signal in enumerate(signals) if signal < cutoff]\n",
    "\n",
    "concentrations = concentrations[above_cutoff_idx]\n",
    "signals = signals[above_cutoff_idx]\n",
    "\n",
    "print(signals)"
   ]
  }
 ],
 "metadata": {
  "kernelspec": {
   "display_name": "sdrdm_example",
   "language": "python",
   "name": "python3"
  },
  "language_info": {
   "codemirror_mode": {
    "name": "ipython",
    "version": 3
   },
   "file_extension": ".py",
   "mimetype": "text/x-python",
   "name": "python",
   "nbconvert_exporter": "python",
   "pygments_lexer": "ipython3",
   "version": "3.11.3"
  },
  "orig_nbformat": 4
 },
 "nbformat": 4,
 "nbformat_minor": 2
}
