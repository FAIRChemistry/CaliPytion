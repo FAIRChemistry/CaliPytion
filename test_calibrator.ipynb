{
 "cells": [
  {
   "cell_type": "code",
   "execution_count": 11,
   "metadata": {},
   "outputs": [],
   "source": [
    "from sdRDM import DataModel\n",
    "from sdRDM.generator import generate_python_api\n",
    "import numpy as np\n",
    "from datetime import datetime"
   ]
  },
  {
   "cell_type": "code",
   "execution_count": 12,
   "metadata": {},
   "outputs": [],
   "source": [
    "# generate_python_api(\"specifications/new_calibration.md\", \"\", \"CaliPytion\")"
   ]
  },
  {
   "cell_type": "code",
   "execution_count": 13,
   "metadata": {},
   "outputs": [],
   "source": [
    "%reload_ext autoreload\n",
    "%autoreload 2\n",
    "from CaliPytion import Calibrator, Standard\n",
    "from CaliPytion.modified import Sample"
   ]
  },
  {
   "cell_type": "code",
   "execution_count": 14,
   "metadata": {},
   "outputs": [],
   "source": [
    "def random(xs):\n",
    "    return xs+np.random.normal(0, 0.03, 1)\n",
    "\n",
    "\n",
    "PARAM_A = 0.014\n",
    "\n",
    "CONC = np.linspace(0, 200, 11)\n",
    "ABSO = CONC*PARAM_A"
   ]
  },
  {
   "cell_type": "code",
   "execution_count": 15,
   "metadata": {},
   "outputs": [],
   "source": [
    "# Generate a test standard\n",
    "standard = Standard(\n",
    "    species_id=\"s0\",\n",
    "    name=\"ABTS\",\n",
    "    wavelength=340,\n",
    "    ph=2,\n",
    "    temperature=25,\n",
    "    temperature_unit=\"C\",\n",
    "    created=datetime.now(),\n",
    ")\n",
    "\n",
    "# Add samples\n",
    "for conc, abso in zip(CONC, ABSO):\n",
    "    standard.add_to_samples(\n",
    "        concentration=conc,\n",
    "        conc_unit=\"umol / l\",\n",
    "        signal=random(abso),\n",
    "    )\n",
    "    standard.add_to_samples(\n",
    "        concentration=conc,\n",
    "        conc_unit=\"umol / l\",\n",
    "        signal=random(abso),\n",
    "    )\n",
    "    standard.add_to_samples(\n",
    "        concentration=conc,\n",
    "        conc_unit=\"umol / l\",\n",
    "        signal=random(abso),\n",
    "    )"
   ]
  },
  {
   "cell_type": "code",
   "execution_count": 16,
   "metadata": {},
   "outputs": [],
   "source": [
    "# initialize calibrator\n",
    "calibrator = Calibrator.from_standard(standard, cutoff=2.5)"
   ]
  },
  {
   "cell_type": "code",
   "execution_count": 17,
   "metadata": {},
   "outputs": [],
   "source": [
    "# Add models to calibrator\n",
    "linear = calibrator.add_to_models(\n",
    "    name=\"linear\", equation=\"a * concentration = signal\")\n",
    "\n",
    "quadratic = calibrator.add_to_models(\n",
    "    name=\"quadratic\", equation=\"a * concentration**2 + b * concentration = signal\")\n",
    "\n",
    "cubic = calibrator.add_to_models(\n",
    "    name=\"cubic\", equation=\"a * concentration**3 + b * concentration**2 + c * concentration = signal\")"
   ]
  },
  {
   "cell_type": "code",
   "execution_count": 18,
   "metadata": {},
   "outputs": [
    {
     "name": "stdout",
     "output_type": "stream",
     "text": [
      "\u001b[4mCalibrationModel\u001b[0m\n",
      "├── \u001b[94mid\u001b[0m = calibrationmodel4\n",
      "├── \u001b[94mname\u001b[0m = linear\n",
      "├── \u001b[94mequation\u001b[0m = a * concentration = signal\n",
      "├── \u001b[94mparameters\u001b[0m\n",
      "│   └── 0\n",
      "│       └── \u001b[4mParameter\u001b[0m\n",
      "│           ├── \u001b[94mid\u001b[0m = parameter6\n",
      "│           ├── \u001b[94mname\u001b[0m = a\n",
      "│           ├── \u001b[94mvalue\u001b[0m = 0.013961395582609207\n",
      "│           ├── \u001b[94minit_value\u001b[0m = 0.1\n",
      "│           ├── \u001b[94mstandard_error\u001b[0m = 4.542752579214718e-05\n",
      "│           ├── \u001b[94mlower_bound\u001b[0m = -inf\n",
      "│           └── \u001b[94mupper_bound\u001b[0m = inf\n",
      "├── \u001b[94mwas_fitted\u001b[0m = True\n",
      "├── \u001b[94mcalibration_range\u001b[0m\n",
      "│   └── \u001b[4mCalibrationRange\u001b[0m\n",
      "│       ├── \u001b[94mid\u001b[0m = calibrationrange4\n",
      "│       ├── \u001b[94mconc_lower\u001b[0m = 0.0\n",
      "│       ├── \u001b[94mconc_upper\u001b[0m = 180.0\n",
      "│       ├── \u001b[94msignal_lower\u001b[0m = -0.04918465980388456\n",
      "│       └── \u001b[94msignal_upper\u001b[0m = 2.4846665347629826\n",
      "└── \u001b[94mstatistics\u001b[0m\n",
      "    └── \u001b[4mFitStatistics\u001b[0m\n",
      "        ├── \u001b[94mid\u001b[0m = fitstatistics4\n",
      "        ├── \u001b[94maic\u001b[0m = -208.0744178736034\n",
      "        ├── \u001b[94mbic\u001b[0m = -206.7422133634282\n",
      "        ├── \u001b[94mr2\u001b[0m = 0.9990356194336281\n",
      "        └── \u001b[94mrmsd\u001b[0m = 0.02348651410099541\n",
      "\n",
      "\u001b[4mCalibrationModel\u001b[0m\n",
      "├── \u001b[94mid\u001b[0m = calibrationmodel5\n",
      "├── \u001b[94mname\u001b[0m = quadratic\n",
      "├── \u001b[94mequation\u001b[0m = a * concentration**2 + b * concentration = signal\n",
      "├── \u001b[94mparameters\u001b[0m\n",
      "│   ├── 0\n",
      "│   │   └── \u001b[4mParameter\u001b[0m\n",
      "│   │       ├── \u001b[94mid\u001b[0m = parameter7\n",
      "│   │       ├── \u001b[94mname\u001b[0m = a\n",
      "│   │       ├── \u001b[94mvalue\u001b[0m = -1.8071694452128137e-06\n",
      "│   │       ├── \u001b[94minit_value\u001b[0m = 0.1\n",
      "│   │       ├── \u001b[94mstandard_error\u001b[0m = 1.2760111103746734e-06\n",
      "│   │       ├── \u001b[94mlower_bound\u001b[0m = -inf\n",
      "│   │       └── \u001b[94mupper_bound\u001b[0m = inf\n",
      "│   └── 1\n",
      "│       └── \u001b[4mParameter\u001b[0m\n",
      "│           ├── \u001b[94mid\u001b[0m = parameter8\n",
      "│           ├── \u001b[94mname\u001b[0m = b\n",
      "│           ├── \u001b[94mvalue\u001b[0m = 0.01420219504375126\n",
      "│           ├── \u001b[94minit_value\u001b[0m = 0.1\n",
      "│           ├── \u001b[94mstandard_error\u001b[0m = 0.00017577775969720522\n",
      "│           ├── \u001b[94mlower_bound\u001b[0m = -inf\n",
      "│           └── \u001b[94mupper_bound\u001b[0m = inf\n",
      "├── \u001b[94mwas_fitted\u001b[0m = True\n",
      "├── \u001b[94mcalibration_range\u001b[0m\n",
      "│   └── \u001b[4mCalibrationRange\u001b[0m\n",
      "│       ├── \u001b[94mid\u001b[0m = calibrationrange5\n",
      "│       ├── \u001b[94mconc_lower\u001b[0m = 0.0\n",
      "│       ├── \u001b[94mconc_upper\u001b[0m = 180.0\n",
      "│       ├── \u001b[94msignal_lower\u001b[0m = -0.04918465980388456\n",
      "│       └── \u001b[94msignal_upper\u001b[0m = 2.4846665347629826\n",
      "└── \u001b[94mstatistics\u001b[0m\n",
      "    └── \u001b[4mFitStatistics\u001b[0m\n",
      "        ├── \u001b[94mid\u001b[0m = fitstatistics5\n",
      "        ├── \u001b[94maic\u001b[0m = -208.1552461019498\n",
      "        ├── \u001b[94mbic\u001b[0m = -205.4908370815994\n",
      "        ├── \u001b[94mr2\u001b[0m = 0.9991046893963706\n",
      "        └── \u001b[94mrmsd\u001b[0m = 0.022629825337850424\n",
      "\n",
      "\u001b[4mCalibrationModel\u001b[0m\n",
      "├── \u001b[94mid\u001b[0m = calibrationmodel6\n",
      "├── \u001b[94mname\u001b[0m = cubic\n",
      "├── \u001b[94mequation\u001b[0m = a * concentration**3 + b * concentration**2 + c * concentration = signal\n",
      "├── \u001b[94mparameters\u001b[0m\n",
      "│   ├── 0\n",
      "│   │   └── \u001b[4mParameter\u001b[0m\n",
      "│   │       ├── \u001b[94mid\u001b[0m = parameter9\n",
      "│   │       ├── \u001b[94mname\u001b[0m = c\n",
      "│   │       ├── \u001b[94mvalue\u001b[0m = 0.013599090868458343\n",
      "│   │       ├── \u001b[94minit_value\u001b[0m = 0.1\n",
      "│   │       ├── \u001b[94mstandard_error\u001b[0m = 0.0004190693898320848\n",
      "│   │       ├── \u001b[94mlower_bound\u001b[0m = -inf\n",
      "│   │       └── \u001b[94mupper_bound\u001b[0m = inf\n",
      "│   ├── 1\n",
      "│   │   └── \u001b[4mParameter\u001b[0m\n",
      "│   │       ├── \u001b[94mid\u001b[0m = parameter10\n",
      "│   │       ├── \u001b[94mname\u001b[0m = b\n",
      "│   │       ├── \u001b[94mvalue\u001b[0m = 9.366358998770938e-06\n",
      "│   │       ├── \u001b[94minit_value\u001b[0m = 0.1\n",
      "│   │       ├── \u001b[94mstandard_error\u001b[0m = 7.196323488322363e-06\n",
      "│   │       ├── \u001b[94mlower_bound\u001b[0m = -inf\n",
      "│   │       └── \u001b[94mupper_bound\u001b[0m = inf\n",
      "│   └── 2\n",
      "│       └── \u001b[4mParameter\u001b[0m\n",
      "│           ├── \u001b[94mid\u001b[0m = parameter11\n",
      "│           ├── \u001b[94mname\u001b[0m = a\n",
      "│           ├── \u001b[94mvalue\u001b[0m = -4.667491126314071e-08\n",
      "│           ├── \u001b[94minit_value\u001b[0m = 0.1\n",
      "│           ├── \u001b[94mstandard_error\u001b[0m = 2.9610617000808195e-08\n",
      "│           ├── \u001b[94mlower_bound\u001b[0m = -inf\n",
      "│           └── \u001b[94mupper_bound\u001b[0m = inf\n",
      "├── \u001b[94mwas_fitted\u001b[0m = True\n",
      "├── \u001b[94mcalibration_range\u001b[0m\n",
      "│   └── \u001b[4mCalibrationRange\u001b[0m\n",
      "│       ├── \u001b[94mid\u001b[0m = calibrationrange6\n",
      "│       ├── \u001b[94mconc_lower\u001b[0m = 0.0\n",
      "│       ├── \u001b[94mconc_upper\u001b[0m = 180.0\n",
      "│       ├── \u001b[94msignal_lower\u001b[0m = -0.04918465980388456\n",
      "│       └── \u001b[94msignal_upper\u001b[0m = 2.4846665347629826\n",
      "└── \u001b[94mstatistics\u001b[0m\n",
      "    └── \u001b[4mFitStatistics\u001b[0m\n",
      "        ├── \u001b[94mid\u001b[0m = fitstatistics6\n",
      "        ├── \u001b[94maic\u001b[0m = -208.8083377018971\n",
      "        ├── \u001b[94mbic\u001b[0m = -204.81172417137148\n",
      "        ├── \u001b[94mr2\u001b[0m = 0.9991856278650274\n",
      "        └── \u001b[94mrmsd\u001b[0m = 0.02158270081760262\n",
      "\n"
     ]
    },
    {
     "data": {
      "text/html": [
       "<style type=\"text/css\">\n",
       "#T_240ab_row0_col0, #T_240ab_row0_col2, #T_240ab_row1_col1 {\n",
       "  background-color: #f7fbff;\n",
       "  color: #000000;\n",
       "}\n",
       "#T_240ab_row0_col1, #T_240ab_row1_col0, #T_240ab_row1_col2, #T_240ab_row2_col0 {\n",
       "  background-color: #08306b;\n",
       "  color: #f1f1f1;\n",
       "}\n",
       "#T_240ab_row2_col1 {\n",
       "  background-color: #6aaed6;\n",
       "  color: #f1f1f1;\n",
       "}\n",
       "#T_240ab_row2_col2 {\n",
       "  background-color: #63a8d3;\n",
       "  color: #f1f1f1;\n",
       "}\n",
       "</style>\n",
       "<table id=\"T_240ab\">\n",
       "  <thead>\n",
       "    <tr>\n",
       "      <th class=\"blank level0\" >&nbsp;</th>\n",
       "      <th id=\"T_240ab_level0_col0\" class=\"col_heading level0 col0\" >AIC</th>\n",
       "      <th id=\"T_240ab_level0_col1\" class=\"col_heading level0 col1\" >R squared</th>\n",
       "      <th id=\"T_240ab_level0_col2\" class=\"col_heading level0 col2\" >RMSD</th>\n",
       "    </tr>\n",
       "    <tr>\n",
       "      <th class=\"index_name level0\" >Model Name</th>\n",
       "      <th class=\"blank col0\" >&nbsp;</th>\n",
       "      <th class=\"blank col1\" >&nbsp;</th>\n",
       "      <th class=\"blank col2\" >&nbsp;</th>\n",
       "    </tr>\n",
       "  </thead>\n",
       "  <tbody>\n",
       "    <tr>\n",
       "      <th id=\"T_240ab_level0_row0\" class=\"row_heading level0 row0\" >cubic</th>\n",
       "      <td id=\"T_240ab_row0_col0\" class=\"data row0 col0\" >-209</td>\n",
       "      <td id=\"T_240ab_row0_col1\" class=\"data row0 col1\" >0.9992</td>\n",
       "      <td id=\"T_240ab_row0_col2\" class=\"data row0 col2\" >0.0216</td>\n",
       "    </tr>\n",
       "    <tr>\n",
       "      <th id=\"T_240ab_level0_row1\" class=\"row_heading level0 row1\" >linear</th>\n",
       "      <td id=\"T_240ab_row1_col0\" class=\"data row1 col0\" >-208</td>\n",
       "      <td id=\"T_240ab_row1_col1\" class=\"data row1 col1\" >0.9990</td>\n",
       "      <td id=\"T_240ab_row1_col2\" class=\"data row1 col2\" >0.0235</td>\n",
       "    </tr>\n",
       "    <tr>\n",
       "      <th id=\"T_240ab_level0_row2\" class=\"row_heading level0 row2\" >quadratic</th>\n",
       "      <td id=\"T_240ab_row2_col0\" class=\"data row2 col0\" >-208</td>\n",
       "      <td id=\"T_240ab_row2_col1\" class=\"data row2 col1\" >0.9991</td>\n",
       "      <td id=\"T_240ab_row2_col2\" class=\"data row2 col2\" >0.0226</td>\n",
       "    </tr>\n",
       "  </tbody>\n",
       "</table>\n"
      ],
      "text/plain": [
       "<pandas.io.formats.style.Styler at 0x28bf58790>"
      ]
     },
     "execution_count": 18,
     "metadata": {},
     "output_type": "execute_result"
    }
   ],
   "source": [
    "# Fit all defined models\n",
    "calibrator.fit_models()"
   ]
  },
  {
   "cell_type": "code",
   "execution_count": 19,
   "metadata": {},
   "outputs": [
    {
     "data": {
      "application/vnd.plotly.v1+json": {
       "config": {
        "plotlyServerURL": "https://plot.ly",
        "toImageButtonOptions": {
         "filename": "linear_calibration_curve",
         "format": "svg",
         "scale": 1
        }
       },
       "data": [
        {
         "hoverinfo": "skip",
         "marker": {
          "color": "#1f77b4"
         },
         "mode": "markers",
         "name": "ABTS",
         "type": "scatter",
         "visible": true,
         "x": [
          0,
          0,
          0,
          20,
          20,
          20,
          40,
          40,
          40,
          60,
          60,
          60,
          80,
          80,
          80,
          100,
          100,
          100,
          120,
          120,
          120,
          140,
          140,
          140,
          160,
          160,
          160,
          180
         ],
         "xaxis": "x",
         "y": [
          -0.0002765317154503179,
          0.011393449045881982,
          -0.04918465980388456,
          0.2899602433756215,
          0.2383420354078345,
          0.24860021351057718,
          0.5337615610945424,
          0.5538166407331118,
          0.5666678006598811,
          0.8503937114001948,
          0.8814772962007227,
          0.8625702116227232,
          1.1414372966025896,
          1.1098771571638488,
          1.117305747403048,
          1.3875307800438896,
          1.379364155995179,
          1.3897718273220365,
          1.686355617471023,
          1.6998964088472315,
          1.698820733492316,
          1.945528067706004,
          1.9621880840616706,
          1.9868394290391407,
          2.193198740604825,
          2.251209953714865,
          2.2111020008261755,
          2.4846665347629826
         ],
         "yaxis": "y"
        },
        {
         "hoverinfo": "skip",
         "marker": {
          "color": "#1f77b4"
         },
         "mode": "lines",
         "name": "linear model",
         "type": "scatter",
         "visible": true,
         "x": [
          0,
          1.2949640287769784,
          2.5899280575539567,
          3.884892086330935,
          5.179856115107913,
          6.474820143884892,
          7.76978417266187,
          9.06474820143885,
          10.359712230215827,
          11.654676258992804,
          12.949640287769784,
          14.244604316546763,
          15.53956834532374,
          16.834532374100718,
          18.1294964028777,
          19.424460431654676,
          20.719424460431654,
          22.01438848920863,
          23.30935251798561,
          24.60431654676259,
          25.899280575539567,
          27.194244604316545,
          28.489208633093526,
          29.784172661870503,
          31.07913669064748,
          32.37410071942446,
          33.669064748201436,
          34.96402877697842,
          36.2589928057554,
          37.55395683453237,
          38.84892086330935,
          40.14388489208633,
          41.43884892086331,
          42.73381294964029,
          44.02877697841726,
          45.32374100719424,
          46.61870503597122,
          47.9136690647482,
          49.20863309352518,
          50.50359712230215,
          51.798561151079134,
          53.093525179856115,
          54.38848920863309,
          55.68345323741007,
          56.97841726618705,
          58.273381294964025,
          59.568345323741006,
          60.86330935251798,
          62.15827338129496,
          63.45323741007194,
          64.74820143884892,
          66.0431654676259,
          67.33812949640287,
          68.63309352517986,
          69.92805755395683,
          71.22302158273381,
          72.5179856115108,
          73.81294964028777,
          75.10791366906474,
          76.40287769784172,
          77.6978417266187,
          78.99280575539568,
          80.28776978417265,
          81.58273381294964,
          82.87769784172662,
          84.17266187050359,
          85.46762589928058,
          86.76258992805755,
          88.05755395683452,
          89.35251798561151,
          90.64748201438849,
          91.94244604316546,
          93.23741007194243,
          94.53237410071942,
          95.8273381294964,
          97.12230215827337,
          98.41726618705036,
          99.71223021582733,
          101.0071942446043,
          102.3021582733813,
          103.59712230215827,
          104.89208633093524,
          106.18705035971223,
          107.4820143884892,
          108.77697841726618,
          110.07194244604317,
          111.36690647482014,
          112.66187050359711,
          113.9568345323741,
          115.25179856115108,
          116.54676258992805,
          117.84172661870502,
          119.13669064748201,
          120.43165467625899,
          121.72661870503596,
          123.02158273381295,
          124.31654676258992,
          125.6115107913669,
          126.90647482014388,
          128.20143884892084,
          129.49640287769785,
          130.79136690647482,
          132.0863309352518,
          133.38129496402877,
          134.67625899280574,
          135.97122302158272,
          137.26618705035972,
          138.5611510791367,
          139.85611510791367,
          141.15107913669064,
          142.44604316546761,
          143.7410071942446,
          145.0359712230216,
          146.33093525179856,
          147.62589928057554,
          148.9208633093525,
          150.2158273381295,
          151.51079136690646,
          152.80575539568343,
          154.10071942446044,
          155.3956834532374,
          156.69064748201438,
          157.98561151079136,
          159.28057553956833,
          160.5755395683453,
          161.8705035971223,
          163.16546762589928,
          164.46043165467626,
          165.75539568345323,
          167.0503597122302,
          168.34532374100718,
          169.64028776978415,
          170.93525179856115,
          172.23021582733813,
          173.5251798561151,
          174.82014388489208,
          176.11510791366905,
          177.41007194244602,
          178.70503597122303,
          180
         ],
         "xaxis": "x",
         "y": [
          0,
          0.01807950507100473,
          0.03615901014200946,
          0.054238515213014184,
          0.07231802028401892,
          0.09039752535502364,
          0.10847703042602837,
          0.1265565354970331,
          0.14463604056803783,
          0.16271554563904253,
          0.18079505071004728,
          0.198874555781052,
          0.21695406085205673,
          0.23503356592306146,
          0.2531130709940662,
          0.2711925760650709,
          0.28927208113607566,
          0.30735158620708036,
          0.32543109127808506,
          0.3435105963490898,
          0.36159010142009457,
          0.37966960649109927,
          0.397749111562104,
          0.41582861663310877,
          0.43390812170411347,
          0.4519876267751182,
          0.4700671318461229,
          0.4881466369171277,
          0.5062261419881324,
          0.5243056470591371,
          0.5423851521301418,
          0.5604646572011466,
          0.5785441622721513,
          0.5966236673431561,
          0.6147031724141607,
          0.6327826774851655,
          0.6508621825561701,
          0.6689416876271749,
          0.6870211926981796,
          0.7051006977691844,
          0.7231802028401891,
          0.7412597079111939,
          0.7593392129821985,
          0.7774187180532033,
          0.795498223124208,
          0.8135777281952128,
          0.8316572332662175,
          0.8497367383372222,
          0.8678162434082269,
          0.8858957484792317,
          0.9039752535502364,
          0.9220547586212411,
          0.9401342636922458,
          0.9582137687632507,
          0.9762932738342553,
          0.99437277890526,
          1.0124522839762649,
          1.0305317890472696,
          1.0486112941182741,
          1.066690799189279,
          1.0847703042602836,
          1.1028498093312884,
          1.1209293144022932,
          1.139008819473298,
          1.1570883245443027,
          1.1751678296153072,
          1.1932473346863122,
          1.2113268397573167,
          1.2294063448283215,
          1.2474858498993262,
          1.265565354970331,
          1.2836448600413357,
          1.3017243651123402,
          1.3198038701833452,
          1.3378833752543497,
          1.3559628803253545,
          1.3740423853963593,
          1.392121890467364,
          1.4102013955383688,
          1.4282809006093735,
          1.4463604056803783,
          1.4644399107513828,
          1.4825194158223878,
          1.5005989208933925,
          1.518678425964397,
          1.536757931035402,
          1.5548374361064066,
          1.5729169411774113,
          1.590996446248416,
          1.6090759513194208,
          1.6271554563904256,
          1.6452349614614301,
          1.663314466532435,
          1.6813939716034396,
          1.6994734766744444,
          1.7175529817454491,
          1.7356324868164539,
          1.7537119918874586,
          1.7717914969584634,
          1.789871002029468,
          1.807950507100473,
          1.8260300121714776,
          1.8441095172424822,
          1.862189022313487,
          1.8802685273844917,
          1.8983480324554962,
          1.9164275375265014,
          1.934507042597506,
          1.9525865476685107,
          1.9706660527395152,
          1.98874555781052,
          2.0068250628815245,
          2.0249045679525297,
          2.0429840730235345,
          2.061063578094539,
          2.0791430831655435,
          2.0972225882365483,
          2.115302093307553,
          2.133381598378558,
          2.151461103449563,
          2.1695406085205673,
          2.187620113591572,
          2.205699618662577,
          2.2237791237335816,
          2.2418586288045863,
          2.259938133875591,
          2.278017638946596,
          2.2960971440176006,
          2.3141766490886053,
          2.3322561541596096,
          2.3503356592306144,
          2.368415164301619,
          2.3864946693726243,
          2.404574174443629,
          2.4226536795146334,
          2.440733184585638,
          2.458812689656643,
          2.4768921947276477,
          2.4949716997986524,
          2.513051204869657
         ],
         "yaxis": "y"
        },
        {
         "hoverinfo": "skip",
         "marker": {
          "color": "#d62728"
         },
         "mode": "markers",
         "name": "Residuals",
         "type": "scatter",
         "visible": true,
         "x": [
          0,
          0,
          0,
          20,
          20,
          20,
          40,
          40,
          40,
          60,
          60,
          60,
          80,
          80,
          80,
          100,
          100,
          100,
          120,
          120,
          120,
          140,
          140,
          140,
          160,
          160,
          160,
          180
         ],
         "xaxis": "x2",
         "y": [
          0,
          0,
          0,
          3.8435741111747848,
          -14.642474673262065,
          -10.968709381660194,
          -4.421882838236076,
          -0.8307161242954879,
          1.4704793132826106,
          1.5172762599122898,
          5.227935008961542,
          2.9708678380226026,
          2.1958451295874646,
          -0.6298161064258251,
          0.03528486747435861,
          -0.6166130145151376,
          -1.201556260366808,
          -0.4560955888117634,
          0.6558649224870063,
          1.4640930646336818,
          1.399887726149267,
          -0.46389723135555605,
          0.38845392596298506,
          1.649653313312847,
          -1.8186108424957368,
          0.7783364310947465,
          -1.0171481540319665,
          -1.1294903204388453
         ],
         "yaxis": "y2"
        }
       ],
       "layout": {
        "annotations": [
         {
          "font": {
           "size": 16
          },
          "showarrow": false,
          "text": "Standard",
          "x": 0.2125,
          "xanchor": "center",
          "xref": "paper",
          "y": 1,
          "yanchor": "bottom",
          "yref": "paper"
         },
         {
          "font": {
           "size": 16
          },
          "showarrow": false,
          "text": "Model Residuals",
          "x": 0.7875,
          "xanchor": "center",
          "xref": "paper",
          "y": 1,
          "yanchor": "bottom",
          "yref": "paper"
         },
         {
          "font": {
           "size": 16
          },
          "showarrow": false,
          "text": "ABTS concentration (umol / l)",
          "x": 0.5,
          "xanchor": "center",
          "xref": "paper",
          "y": 0,
          "yanchor": "top",
          "yref": "paper",
          "yshift": -30
         }
        ],
        "shapes": [
         {
          "line": {
           "color": "#000000",
           "dash": "dot",
           "width": 2
          },
          "type": "line",
          "x0": 0,
          "x1": 1,
          "xref": "x2 domain",
          "y0": 0,
          "y1": 0,
          "yref": "y2"
         }
        ],
        "template": {
         "data": {
          "bar": [
           {
            "error_x": {
             "color": "#2a3f5f"
            },
            "error_y": {
             "color": "#2a3f5f"
            },
            "marker": {
             "line": {
              "color": "#E5ECF6",
              "width": 0.5
             },
             "pattern": {
              "fillmode": "overlay",
              "size": 10,
              "solidity": 0.2
             }
            },
            "type": "bar"
           }
          ],
          "barpolar": [
           {
            "marker": {
             "line": {
              "color": "#E5ECF6",
              "width": 0.5
             },
             "pattern": {
              "fillmode": "overlay",
              "size": 10,
              "solidity": 0.2
             }
            },
            "type": "barpolar"
           }
          ],
          "carpet": [
           {
            "aaxis": {
             "endlinecolor": "#2a3f5f",
             "gridcolor": "white",
             "linecolor": "white",
             "minorgridcolor": "white",
             "startlinecolor": "#2a3f5f"
            },
            "baxis": {
             "endlinecolor": "#2a3f5f",
             "gridcolor": "white",
             "linecolor": "white",
             "minorgridcolor": "white",
             "startlinecolor": "#2a3f5f"
            },
            "type": "carpet"
           }
          ],
          "choropleth": [
           {
            "colorbar": {
             "outlinewidth": 0,
             "ticks": ""
            },
            "type": "choropleth"
           }
          ],
          "contour": [
           {
            "colorbar": {
             "outlinewidth": 0,
             "ticks": ""
            },
            "colorscale": [
             [
              0,
              "#0d0887"
             ],
             [
              0.1111111111111111,
              "#46039f"
             ],
             [
              0.2222222222222222,
              "#7201a8"
             ],
             [
              0.3333333333333333,
              "#9c179e"
             ],
             [
              0.4444444444444444,
              "#bd3786"
             ],
             [
              0.5555555555555556,
              "#d8576b"
             ],
             [
              0.6666666666666666,
              "#ed7953"
             ],
             [
              0.7777777777777778,
              "#fb9f3a"
             ],
             [
              0.8888888888888888,
              "#fdca26"
             ],
             [
              1,
              "#f0f921"
             ]
            ],
            "type": "contour"
           }
          ],
          "contourcarpet": [
           {
            "colorbar": {
             "outlinewidth": 0,
             "ticks": ""
            },
            "type": "contourcarpet"
           }
          ],
          "heatmap": [
           {
            "colorbar": {
             "outlinewidth": 0,
             "ticks": ""
            },
            "colorscale": [
             [
              0,
              "#0d0887"
             ],
             [
              0.1111111111111111,
              "#46039f"
             ],
             [
              0.2222222222222222,
              "#7201a8"
             ],
             [
              0.3333333333333333,
              "#9c179e"
             ],
             [
              0.4444444444444444,
              "#bd3786"
             ],
             [
              0.5555555555555556,
              "#d8576b"
             ],
             [
              0.6666666666666666,
              "#ed7953"
             ],
             [
              0.7777777777777778,
              "#fb9f3a"
             ],
             [
              0.8888888888888888,
              "#fdca26"
             ],
             [
              1,
              "#f0f921"
             ]
            ],
            "type": "heatmap"
           }
          ],
          "heatmapgl": [
           {
            "colorbar": {
             "outlinewidth": 0,
             "ticks": ""
            },
            "colorscale": [
             [
              0,
              "#0d0887"
             ],
             [
              0.1111111111111111,
              "#46039f"
             ],
             [
              0.2222222222222222,
              "#7201a8"
             ],
             [
              0.3333333333333333,
              "#9c179e"
             ],
             [
              0.4444444444444444,
              "#bd3786"
             ],
             [
              0.5555555555555556,
              "#d8576b"
             ],
             [
              0.6666666666666666,
              "#ed7953"
             ],
             [
              0.7777777777777778,
              "#fb9f3a"
             ],
             [
              0.8888888888888888,
              "#fdca26"
             ],
             [
              1,
              "#f0f921"
             ]
            ],
            "type": "heatmapgl"
           }
          ],
          "histogram": [
           {
            "marker": {
             "pattern": {
              "fillmode": "overlay",
              "size": 10,
              "solidity": 0.2
             }
            },
            "type": "histogram"
           }
          ],
          "histogram2d": [
           {
            "colorbar": {
             "outlinewidth": 0,
             "ticks": ""
            },
            "colorscale": [
             [
              0,
              "#0d0887"
             ],
             [
              0.1111111111111111,
              "#46039f"
             ],
             [
              0.2222222222222222,
              "#7201a8"
             ],
             [
              0.3333333333333333,
              "#9c179e"
             ],
             [
              0.4444444444444444,
              "#bd3786"
             ],
             [
              0.5555555555555556,
              "#d8576b"
             ],
             [
              0.6666666666666666,
              "#ed7953"
             ],
             [
              0.7777777777777778,
              "#fb9f3a"
             ],
             [
              0.8888888888888888,
              "#fdca26"
             ],
             [
              1,
              "#f0f921"
             ]
            ],
            "type": "histogram2d"
           }
          ],
          "histogram2dcontour": [
           {
            "colorbar": {
             "outlinewidth": 0,
             "ticks": ""
            },
            "colorscale": [
             [
              0,
              "#0d0887"
             ],
             [
              0.1111111111111111,
              "#46039f"
             ],
             [
              0.2222222222222222,
              "#7201a8"
             ],
             [
              0.3333333333333333,
              "#9c179e"
             ],
             [
              0.4444444444444444,
              "#bd3786"
             ],
             [
              0.5555555555555556,
              "#d8576b"
             ],
             [
              0.6666666666666666,
              "#ed7953"
             ],
             [
              0.7777777777777778,
              "#fb9f3a"
             ],
             [
              0.8888888888888888,
              "#fdca26"
             ],
             [
              1,
              "#f0f921"
             ]
            ],
            "type": "histogram2dcontour"
           }
          ],
          "mesh3d": [
           {
            "colorbar": {
             "outlinewidth": 0,
             "ticks": ""
            },
            "type": "mesh3d"
           }
          ],
          "parcoords": [
           {
            "line": {
             "colorbar": {
              "outlinewidth": 0,
              "ticks": ""
             }
            },
            "type": "parcoords"
           }
          ],
          "pie": [
           {
            "automargin": true,
            "type": "pie"
           }
          ],
          "scatter": [
           {
            "fillpattern": {
             "fillmode": "overlay",
             "size": 10,
             "solidity": 0.2
            },
            "type": "scatter"
           }
          ],
          "scatter3d": [
           {
            "line": {
             "colorbar": {
              "outlinewidth": 0,
              "ticks": ""
             }
            },
            "marker": {
             "colorbar": {
              "outlinewidth": 0,
              "ticks": ""
             }
            },
            "type": "scatter3d"
           }
          ],
          "scattercarpet": [
           {
            "marker": {
             "colorbar": {
              "outlinewidth": 0,
              "ticks": ""
             }
            },
            "type": "scattercarpet"
           }
          ],
          "scattergeo": [
           {
            "marker": {
             "colorbar": {
              "outlinewidth": 0,
              "ticks": ""
             }
            },
            "type": "scattergeo"
           }
          ],
          "scattergl": [
           {
            "marker": {
             "colorbar": {
              "outlinewidth": 0,
              "ticks": ""
             }
            },
            "type": "scattergl"
           }
          ],
          "scattermapbox": [
           {
            "marker": {
             "colorbar": {
              "outlinewidth": 0,
              "ticks": ""
             }
            },
            "type": "scattermapbox"
           }
          ],
          "scatterpolar": [
           {
            "marker": {
             "colorbar": {
              "outlinewidth": 0,
              "ticks": ""
             }
            },
            "type": "scatterpolar"
           }
          ],
          "scatterpolargl": [
           {
            "marker": {
             "colorbar": {
              "outlinewidth": 0,
              "ticks": ""
             }
            },
            "type": "scatterpolargl"
           }
          ],
          "scatterternary": [
           {
            "marker": {
             "colorbar": {
              "outlinewidth": 0,
              "ticks": ""
             }
            },
            "type": "scatterternary"
           }
          ],
          "surface": [
           {
            "colorbar": {
             "outlinewidth": 0,
             "ticks": ""
            },
            "colorscale": [
             [
              0,
              "#0d0887"
             ],
             [
              0.1111111111111111,
              "#46039f"
             ],
             [
              0.2222222222222222,
              "#7201a8"
             ],
             [
              0.3333333333333333,
              "#9c179e"
             ],
             [
              0.4444444444444444,
              "#bd3786"
             ],
             [
              0.5555555555555556,
              "#d8576b"
             ],
             [
              0.6666666666666666,
              "#ed7953"
             ],
             [
              0.7777777777777778,
              "#fb9f3a"
             ],
             [
              0.8888888888888888,
              "#fdca26"
             ],
             [
              1,
              "#f0f921"
             ]
            ],
            "type": "surface"
           }
          ],
          "table": [
           {
            "cells": {
             "fill": {
              "color": "#EBF0F8"
             },
             "line": {
              "color": "white"
             }
            },
            "header": {
             "fill": {
              "color": "#C8D4E3"
             },
             "line": {
              "color": "white"
             }
            },
            "type": "table"
           }
          ]
         },
         "layout": {
          "annotationdefaults": {
           "arrowcolor": "#2a3f5f",
           "arrowhead": 0,
           "arrowwidth": 1
          },
          "autotypenumbers": "strict",
          "coloraxis": {
           "colorbar": {
            "outlinewidth": 0,
            "ticks": ""
           }
          },
          "colorscale": {
           "diverging": [
            [
             0,
             "#8e0152"
            ],
            [
             0.1,
             "#c51b7d"
            ],
            [
             0.2,
             "#de77ae"
            ],
            [
             0.3,
             "#f1b6da"
            ],
            [
             0.4,
             "#fde0ef"
            ],
            [
             0.5,
             "#f7f7f7"
            ],
            [
             0.6,
             "#e6f5d0"
            ],
            [
             0.7,
             "#b8e186"
            ],
            [
             0.8,
             "#7fbc41"
            ],
            [
             0.9,
             "#4d9221"
            ],
            [
             1,
             "#276419"
            ]
           ],
           "sequential": [
            [
             0,
             "#0d0887"
            ],
            [
             0.1111111111111111,
             "#46039f"
            ],
            [
             0.2222222222222222,
             "#7201a8"
            ],
            [
             0.3333333333333333,
             "#9c179e"
            ],
            [
             0.4444444444444444,
             "#bd3786"
            ],
            [
             0.5555555555555556,
             "#d8576b"
            ],
            [
             0.6666666666666666,
             "#ed7953"
            ],
            [
             0.7777777777777778,
             "#fb9f3a"
            ],
            [
             0.8888888888888888,
             "#fdca26"
            ],
            [
             1,
             "#f0f921"
            ]
           ],
           "sequentialminus": [
            [
             0,
             "#0d0887"
            ],
            [
             0.1111111111111111,
             "#46039f"
            ],
            [
             0.2222222222222222,
             "#7201a8"
            ],
            [
             0.3333333333333333,
             "#9c179e"
            ],
            [
             0.4444444444444444,
             "#bd3786"
            ],
            [
             0.5555555555555556,
             "#d8576b"
            ],
            [
             0.6666666666666666,
             "#ed7953"
            ],
            [
             0.7777777777777778,
             "#fb9f3a"
            ],
            [
             0.8888888888888888,
             "#fdca26"
            ],
            [
             1,
             "#f0f921"
            ]
           ]
          },
          "colorway": [
           "#636efa",
           "#EF553B",
           "#00cc96",
           "#ab63fa",
           "#FFA15A",
           "#19d3f3",
           "#FF6692",
           "#B6E880",
           "#FF97FF",
           "#FECB52"
          ],
          "font": {
           "color": "#2a3f5f"
          },
          "geo": {
           "bgcolor": "white",
           "lakecolor": "white",
           "landcolor": "#E5ECF6",
           "showlakes": true,
           "showland": true,
           "subunitcolor": "white"
          },
          "hoverlabel": {
           "align": "left"
          },
          "hovermode": "closest",
          "mapbox": {
           "style": "light"
          },
          "paper_bgcolor": "white",
          "plot_bgcolor": "#E5ECF6",
          "polar": {
           "angularaxis": {
            "gridcolor": "white",
            "linecolor": "white",
            "ticks": ""
           },
           "bgcolor": "#E5ECF6",
           "radialaxis": {
            "gridcolor": "white",
            "linecolor": "white",
            "ticks": ""
           }
          },
          "scene": {
           "xaxis": {
            "backgroundcolor": "#E5ECF6",
            "gridcolor": "white",
            "gridwidth": 2,
            "linecolor": "white",
            "showbackground": true,
            "ticks": "",
            "zerolinecolor": "white"
           },
           "yaxis": {
            "backgroundcolor": "#E5ECF6",
            "gridcolor": "white",
            "gridwidth": 2,
            "linecolor": "white",
            "showbackground": true,
            "ticks": "",
            "zerolinecolor": "white"
           },
           "zaxis": {
            "backgroundcolor": "#E5ECF6",
            "gridcolor": "white",
            "gridwidth": 2,
            "linecolor": "white",
            "showbackground": true,
            "ticks": "",
            "zerolinecolor": "white"
           }
          },
          "shapedefaults": {
           "line": {
            "color": "#2a3f5f"
           }
          },
          "ternary": {
           "aaxis": {
            "gridcolor": "white",
            "linecolor": "white",
            "ticks": ""
           },
           "baxis": {
            "gridcolor": "white",
            "linecolor": "white",
            "ticks": ""
           },
           "bgcolor": "#E5ECF6",
           "caxis": {
            "gridcolor": "white",
            "linecolor": "white",
            "ticks": ""
           }
          },
          "title": {
           "x": 0.05
          },
          "xaxis": {
           "automargin": true,
           "gridcolor": "white",
           "linecolor": "white",
           "ticks": "",
           "title": {
            "standoff": 15
           },
           "zerolinecolor": "white",
           "zerolinewidth": 2
          },
          "yaxis": {
           "automargin": true,
           "gridcolor": "white",
           "linecolor": "white",
           "ticks": "",
           "title": {
            "standoff": 15
           },
           "zerolinecolor": "white",
           "zerolinewidth": 2
          }
         }
        },
        "xaxis": {
         "anchor": "y",
         "domain": [
          0,
          0.425
         ]
        },
        "xaxis2": {
         "anchor": "y2",
         "domain": [
          0.575,
          1
         ]
        },
        "yaxis": {
         "anchor": "x",
         "domain": [
          0,
          1
         ],
         "title": {
          "text": "Signal (a.u.)"
         }
        },
        "yaxis2": {
         "anchor": "x2",
         "domain": [
          0,
          1
         ],
         "title": {
          "text": "Residuals (%)"
         }
        }
       }
      }
     },
     "metadata": {},
     "output_type": "display_data"
    },
    {
     "data": {
      "application/vnd.plotly.v1+json": {
       "config": {
        "plotlyServerURL": "https://plot.ly",
        "toImageButtonOptions": {
         "filename": "cubic_calibration_curve",
         "format": "svg",
         "scale": 1
        }
       },
       "data": [
        {
         "hoverinfo": "skip",
         "marker": {
          "color": "#1f77b4"
         },
         "mode": "markers",
         "name": "ABTS",
         "type": "scatter",
         "visible": true,
         "x": [
          0,
          0,
          0,
          20,
          20,
          20,
          40,
          40,
          40,
          60,
          60,
          60,
          80,
          80,
          80,
          100,
          100,
          100,
          120,
          120,
          120,
          140,
          140,
          140,
          160,
          160,
          160,
          180
         ],
         "xaxis": "x",
         "y": [
          -0.0002765317154503179,
          0.011393449045881982,
          -0.04918465980388456,
          0.2899602433756215,
          0.2383420354078345,
          0.24860021351057718,
          0.5337615610945424,
          0.5538166407331118,
          0.5666678006598811,
          0.8503937114001948,
          0.8814772962007227,
          0.8625702116227232,
          1.1414372966025896,
          1.1098771571638488,
          1.117305747403048,
          1.3875307800438896,
          1.379364155995179,
          1.3897718273220365,
          1.686355617471023,
          1.6998964088472315,
          1.698820733492316,
          1.945528067706004,
          1.9621880840616706,
          1.9868394290391407,
          2.193198740604825,
          2.251209953714865,
          2.2111020008261755,
          2.4846665347629826
         ],
         "yaxis": "y"
        },
        {
         "hoverinfo": "skip",
         "marker": {
          "color": "#1f77b4"
         },
         "mode": "lines",
         "name": "cubic model",
         "type": "scatter",
         "visible": true,
         "x": [
          0,
          1.2949640287769784,
          2.5899280575539567,
          3.884892086330935,
          5.179856115107913,
          6.474820143884892,
          7.76978417266187,
          9.06474820143885,
          10.359712230215827,
          11.654676258992804,
          12.949640287769784,
          14.244604316546763,
          15.53956834532374,
          16.834532374100718,
          18.1294964028777,
          19.424460431654676,
          20.719424460431654,
          22.01438848920863,
          23.30935251798561,
          24.60431654676259,
          25.899280575539567,
          27.194244604316545,
          28.489208633093526,
          29.784172661870503,
          31.07913669064748,
          32.37410071942446,
          33.669064748201436,
          34.96402877697842,
          36.2589928057554,
          37.55395683453237,
          38.84892086330935,
          40.14388489208633,
          41.43884892086331,
          42.73381294964029,
          44.02877697841726,
          45.32374100719424,
          46.61870503597122,
          47.9136690647482,
          49.20863309352518,
          50.50359712230215,
          51.798561151079134,
          53.093525179856115,
          54.38848920863309,
          55.68345323741007,
          56.97841726618705,
          58.273381294964025,
          59.568345323741006,
          60.86330935251798,
          62.15827338129496,
          63.45323741007194,
          64.74820143884892,
          66.0431654676259,
          67.33812949640287,
          68.63309352517986,
          69.92805755395683,
          71.22302158273381,
          72.5179856115108,
          73.81294964028777,
          75.10791366906474,
          76.40287769784172,
          77.6978417266187,
          78.99280575539568,
          80.28776978417265,
          81.58273381294964,
          82.87769784172662,
          84.17266187050359,
          85.46762589928058,
          86.76258992805755,
          88.05755395683452,
          89.35251798561151,
          90.64748201438849,
          91.94244604316546,
          93.23741007194243,
          94.53237410071942,
          95.8273381294964,
          97.12230215827337,
          98.41726618705036,
          99.71223021582733,
          101.0071942446043,
          102.3021582733813,
          103.59712230215827,
          104.89208633093524,
          106.18705035971223,
          107.4820143884892,
          108.77697841726618,
          110.07194244604317,
          111.36690647482014,
          112.66187050359711,
          113.9568345323741,
          115.25179856115108,
          116.54676258992805,
          117.84172661870502,
          119.13669064748201,
          120.43165467625899,
          121.72661870503596,
          123.02158273381295,
          124.31654676258992,
          125.6115107913669,
          126.90647482014388,
          128.20143884892084,
          129.49640287769785,
          130.79136690647482,
          132.0863309352518,
          133.38129496402877,
          134.67625899280574,
          135.97122302158272,
          137.26618705035972,
          138.5611510791367,
          139.85611510791367,
          141.15107913669064,
          142.44604316546761,
          143.7410071942446,
          145.0359712230216,
          146.33093525179856,
          147.62589928057554,
          148.9208633093525,
          150.2158273381295,
          151.51079136690646,
          152.80575539568343,
          154.10071942446044,
          155.3956834532374,
          156.69064748201438,
          157.98561151079136,
          159.28057553956833,
          160.5755395683453,
          161.8705035971223,
          163.16546762589928,
          164.46043165467626,
          165.75539568345323,
          167.0503597122302,
          168.34532374100718,
          169.64028776978415,
          170.93525179856115,
          172.23021582733813,
          173.5251798561151,
          174.82014388489208,
          176.11510791366905,
          177.41007194244602,
          178.70503597122303,
          180
         ],
         "xaxis": "x",
         "y": [
          0,
          0.017625938886644543,
          0.03528268311845488,
          0.052969624549415166,
          0.07068615503350956,
          0.08843166642472222,
          0.1062055505770373,
          0.12400719934443899,
          0.14183600458091136,
          0.15969135814043867,
          0.17757265187700502,
          0.1954792776445946,
          0.21341062729719154,
          0.23136609268878,
          0.2493450656733442,
          0.2673469381048682,
          0.28537110183733616,
          0.30341694872473235,
          0.32148387062104083,
          0.3395712593802458,
          0.3576785068563314,
          0.3758050049032818,
          0.39395014537508116,
          0.4121133201257136,
          0.4302939210091633,
          0.44849133987941453,
          0.46670496859045113,
          0.48493419899625767,
          0.503178422950818,
          0.5214370323081164,
          0.5397094189221371,
          0.557994974646864,
          0.5762930913362816,
          0.5946031608443738,
          0.6129245750251248,
          0.6312567257325189,
          0.6495990048205401,
          0.6679508041431726,
          0.6863115155544007,
          0.7046805309082083,
          0.7230572420585798,
          0.7414410408594992,
          0.7598313191649507,
          0.7782274688289185,
          0.7966288817053867,
          0.8150349496483394,
          0.833445064511761,
          0.8518586181496354,
          0.8702750024159469,
          0.8886936091646797,
          0.9071138302498177,
          0.9255350575253453,
          0.9439566828452465,
          0.9623780980635058,
          0.9807986950341068,
          0.9992178656110341,
          1.0176350016482718,
          1.0360494949998038,
          1.0544607375196144,
          1.072868121061688,
          1.0912710374800085,
          1.10966887862856,
          1.1280610363613268,
          1.1464469025322932,
          1.1648258689954432,
          1.1831973276047605,
          1.2015606702142303,
          1.2199152886778357,
          1.2382605748495614,
          1.2565959205833916,
          1.2749207177333102,
          1.2932343581533015,
          1.3115362336973497,
          1.329825736219439,
          1.3481022575735533,
          1.366365189613677,
          1.3846139241937943,
          1.402847853167889,
          1.4210663683899456,
          1.4392688617139482,
          1.4574547249938807,
          1.4756233500837277,
          1.493774128837473,
          1.5119064531091009,
          1.5300197147525956,
          1.5481133056219412,
          1.5661866175711217,
          1.5842390424541217,
          1.602269972124925,
          1.6202787984375155,
          1.638264913245878,
          1.6562277084039962,
          1.6741665757658546,
          1.692080907185437,
          1.7099700945167278,
          1.727833529613711,
          1.7456706043303707,
          1.7634807105206913,
          1.7812632400386572,
          1.7990175847382517,
          1.81674313647346,
          1.8344392870982653,
          1.8521054284666523,
          1.869740952432605,
          1.8873452508501076,
          1.904917715573144,
          1.9224577384556993,
          1.9399647113517566,
          1.9574380261153004,
          1.9748770746003148,
          1.9922812486607842,
          2.0096499401506924,
          2.0269825409240245,
          2.0442784428347633,
          2.061537037736893,
          2.078757717484399,
          2.095939873931265,
          2.1130828989314745,
          2.130186184339012,
          2.147249122007863,
          2.164271103792009,
          2.1812515215454362,
          2.1981897671221278,
          2.215085232376069,
          2.2319373091612422,
          2.2487453893316336,
          2.265508864741226,
          2.2822271272440036,
          2.298899568693951,
          2.3155255809450526,
          2.3321045558512923,
          2.3486358852666536,
          2.365118961045122,
          2.38155317504068,
          2.397937919107313,
          2.4142725850990048,
          2.4305565648697396,
          2.446789250273502,
          2.4629700331642748,
          2.4790983053960436
         ],
         "yaxis": "y"
        },
        {
         "hoverinfo": "skip",
         "marker": {
          "color": "#d62728"
         },
         "mode": "markers",
         "name": "Residuals",
         "type": "scatter",
         "visible": true,
         "x": [
          0,
          0,
          0,
          20,
          20,
          20,
          40,
          40,
          40,
          60,
          60,
          60,
          80,
          80,
          80,
          100,
          100,
          100,
          120,
          120,
          120,
          140,
          140,
          140,
          160,
          160,
          160,
          180
         ],
         "xaxis": "x2",
         "y": [
          0,
          0,
          0,
          5.304165070430276,
          -13.44189552463626,
          -9.716457624331651,
          -3.9932637787795002,
          -0.38599251554468533,
          1.9255226087291775,
          1.2876813070886464,
          4.989947903079622,
          2.737985392645016,
          1.5536727443503084,
          -1.25423276379066,
          -0.5933111132112187,
          -1.3765737639551416,
          -1.9570440901269643,
          -1.2172837762254152,
          0.014435002161228568,
          0.8175127070907442,
          0.7537165173944329,
          -0.706823184637068,
          0.14344774036713917,
          1.4015690680489212,
          -1.405026480198864,
          1.2028603084186833,
          -0.6001876688491026,
          0.22460704179495913
         ],
         "yaxis": "y2"
        }
       ],
       "layout": {
        "annotations": [
         {
          "font": {
           "size": 16
          },
          "showarrow": false,
          "text": "Standard",
          "x": 0.2125,
          "xanchor": "center",
          "xref": "paper",
          "y": 1,
          "yanchor": "bottom",
          "yref": "paper"
         },
         {
          "font": {
           "size": 16
          },
          "showarrow": false,
          "text": "Model Residuals",
          "x": 0.7875,
          "xanchor": "center",
          "xref": "paper",
          "y": 1,
          "yanchor": "bottom",
          "yref": "paper"
         },
         {
          "font": {
           "size": 16
          },
          "showarrow": false,
          "text": "ABTS concentration (umol / l)",
          "x": 0.5,
          "xanchor": "center",
          "xref": "paper",
          "y": 0,
          "yanchor": "top",
          "yref": "paper",
          "yshift": -30
         }
        ],
        "shapes": [
         {
          "line": {
           "color": "#000000",
           "dash": "dot",
           "width": 2
          },
          "type": "line",
          "x0": 0,
          "x1": 1,
          "xref": "x2 domain",
          "y0": 0,
          "y1": 0,
          "yref": "y2"
         }
        ],
        "template": {
         "data": {
          "bar": [
           {
            "error_x": {
             "color": "#2a3f5f"
            },
            "error_y": {
             "color": "#2a3f5f"
            },
            "marker": {
             "line": {
              "color": "#E5ECF6",
              "width": 0.5
             },
             "pattern": {
              "fillmode": "overlay",
              "size": 10,
              "solidity": 0.2
             }
            },
            "type": "bar"
           }
          ],
          "barpolar": [
           {
            "marker": {
             "line": {
              "color": "#E5ECF6",
              "width": 0.5
             },
             "pattern": {
              "fillmode": "overlay",
              "size": 10,
              "solidity": 0.2
             }
            },
            "type": "barpolar"
           }
          ],
          "carpet": [
           {
            "aaxis": {
             "endlinecolor": "#2a3f5f",
             "gridcolor": "white",
             "linecolor": "white",
             "minorgridcolor": "white",
             "startlinecolor": "#2a3f5f"
            },
            "baxis": {
             "endlinecolor": "#2a3f5f",
             "gridcolor": "white",
             "linecolor": "white",
             "minorgridcolor": "white",
             "startlinecolor": "#2a3f5f"
            },
            "type": "carpet"
           }
          ],
          "choropleth": [
           {
            "colorbar": {
             "outlinewidth": 0,
             "ticks": ""
            },
            "type": "choropleth"
           }
          ],
          "contour": [
           {
            "colorbar": {
             "outlinewidth": 0,
             "ticks": ""
            },
            "colorscale": [
             [
              0,
              "#0d0887"
             ],
             [
              0.1111111111111111,
              "#46039f"
             ],
             [
              0.2222222222222222,
              "#7201a8"
             ],
             [
              0.3333333333333333,
              "#9c179e"
             ],
             [
              0.4444444444444444,
              "#bd3786"
             ],
             [
              0.5555555555555556,
              "#d8576b"
             ],
             [
              0.6666666666666666,
              "#ed7953"
             ],
             [
              0.7777777777777778,
              "#fb9f3a"
             ],
             [
              0.8888888888888888,
              "#fdca26"
             ],
             [
              1,
              "#f0f921"
             ]
            ],
            "type": "contour"
           }
          ],
          "contourcarpet": [
           {
            "colorbar": {
             "outlinewidth": 0,
             "ticks": ""
            },
            "type": "contourcarpet"
           }
          ],
          "heatmap": [
           {
            "colorbar": {
             "outlinewidth": 0,
             "ticks": ""
            },
            "colorscale": [
             [
              0,
              "#0d0887"
             ],
             [
              0.1111111111111111,
              "#46039f"
             ],
             [
              0.2222222222222222,
              "#7201a8"
             ],
             [
              0.3333333333333333,
              "#9c179e"
             ],
             [
              0.4444444444444444,
              "#bd3786"
             ],
             [
              0.5555555555555556,
              "#d8576b"
             ],
             [
              0.6666666666666666,
              "#ed7953"
             ],
             [
              0.7777777777777778,
              "#fb9f3a"
             ],
             [
              0.8888888888888888,
              "#fdca26"
             ],
             [
              1,
              "#f0f921"
             ]
            ],
            "type": "heatmap"
           }
          ],
          "heatmapgl": [
           {
            "colorbar": {
             "outlinewidth": 0,
             "ticks": ""
            },
            "colorscale": [
             [
              0,
              "#0d0887"
             ],
             [
              0.1111111111111111,
              "#46039f"
             ],
             [
              0.2222222222222222,
              "#7201a8"
             ],
             [
              0.3333333333333333,
              "#9c179e"
             ],
             [
              0.4444444444444444,
              "#bd3786"
             ],
             [
              0.5555555555555556,
              "#d8576b"
             ],
             [
              0.6666666666666666,
              "#ed7953"
             ],
             [
              0.7777777777777778,
              "#fb9f3a"
             ],
             [
              0.8888888888888888,
              "#fdca26"
             ],
             [
              1,
              "#f0f921"
             ]
            ],
            "type": "heatmapgl"
           }
          ],
          "histogram": [
           {
            "marker": {
             "pattern": {
              "fillmode": "overlay",
              "size": 10,
              "solidity": 0.2
             }
            },
            "type": "histogram"
           }
          ],
          "histogram2d": [
           {
            "colorbar": {
             "outlinewidth": 0,
             "ticks": ""
            },
            "colorscale": [
             [
              0,
              "#0d0887"
             ],
             [
              0.1111111111111111,
              "#46039f"
             ],
             [
              0.2222222222222222,
              "#7201a8"
             ],
             [
              0.3333333333333333,
              "#9c179e"
             ],
             [
              0.4444444444444444,
              "#bd3786"
             ],
             [
              0.5555555555555556,
              "#d8576b"
             ],
             [
              0.6666666666666666,
              "#ed7953"
             ],
             [
              0.7777777777777778,
              "#fb9f3a"
             ],
             [
              0.8888888888888888,
              "#fdca26"
             ],
             [
              1,
              "#f0f921"
             ]
            ],
            "type": "histogram2d"
           }
          ],
          "histogram2dcontour": [
           {
            "colorbar": {
             "outlinewidth": 0,
             "ticks": ""
            },
            "colorscale": [
             [
              0,
              "#0d0887"
             ],
             [
              0.1111111111111111,
              "#46039f"
             ],
             [
              0.2222222222222222,
              "#7201a8"
             ],
             [
              0.3333333333333333,
              "#9c179e"
             ],
             [
              0.4444444444444444,
              "#bd3786"
             ],
             [
              0.5555555555555556,
              "#d8576b"
             ],
             [
              0.6666666666666666,
              "#ed7953"
             ],
             [
              0.7777777777777778,
              "#fb9f3a"
             ],
             [
              0.8888888888888888,
              "#fdca26"
             ],
             [
              1,
              "#f0f921"
             ]
            ],
            "type": "histogram2dcontour"
           }
          ],
          "mesh3d": [
           {
            "colorbar": {
             "outlinewidth": 0,
             "ticks": ""
            },
            "type": "mesh3d"
           }
          ],
          "parcoords": [
           {
            "line": {
             "colorbar": {
              "outlinewidth": 0,
              "ticks": ""
             }
            },
            "type": "parcoords"
           }
          ],
          "pie": [
           {
            "automargin": true,
            "type": "pie"
           }
          ],
          "scatter": [
           {
            "fillpattern": {
             "fillmode": "overlay",
             "size": 10,
             "solidity": 0.2
            },
            "type": "scatter"
           }
          ],
          "scatter3d": [
           {
            "line": {
             "colorbar": {
              "outlinewidth": 0,
              "ticks": ""
             }
            },
            "marker": {
             "colorbar": {
              "outlinewidth": 0,
              "ticks": ""
             }
            },
            "type": "scatter3d"
           }
          ],
          "scattercarpet": [
           {
            "marker": {
             "colorbar": {
              "outlinewidth": 0,
              "ticks": ""
             }
            },
            "type": "scattercarpet"
           }
          ],
          "scattergeo": [
           {
            "marker": {
             "colorbar": {
              "outlinewidth": 0,
              "ticks": ""
             }
            },
            "type": "scattergeo"
           }
          ],
          "scattergl": [
           {
            "marker": {
             "colorbar": {
              "outlinewidth": 0,
              "ticks": ""
             }
            },
            "type": "scattergl"
           }
          ],
          "scattermapbox": [
           {
            "marker": {
             "colorbar": {
              "outlinewidth": 0,
              "ticks": ""
             }
            },
            "type": "scattermapbox"
           }
          ],
          "scatterpolar": [
           {
            "marker": {
             "colorbar": {
              "outlinewidth": 0,
              "ticks": ""
             }
            },
            "type": "scatterpolar"
           }
          ],
          "scatterpolargl": [
           {
            "marker": {
             "colorbar": {
              "outlinewidth": 0,
              "ticks": ""
             }
            },
            "type": "scatterpolargl"
           }
          ],
          "scatterternary": [
           {
            "marker": {
             "colorbar": {
              "outlinewidth": 0,
              "ticks": ""
             }
            },
            "type": "scatterternary"
           }
          ],
          "surface": [
           {
            "colorbar": {
             "outlinewidth": 0,
             "ticks": ""
            },
            "colorscale": [
             [
              0,
              "#0d0887"
             ],
             [
              0.1111111111111111,
              "#46039f"
             ],
             [
              0.2222222222222222,
              "#7201a8"
             ],
             [
              0.3333333333333333,
              "#9c179e"
             ],
             [
              0.4444444444444444,
              "#bd3786"
             ],
             [
              0.5555555555555556,
              "#d8576b"
             ],
             [
              0.6666666666666666,
              "#ed7953"
             ],
             [
              0.7777777777777778,
              "#fb9f3a"
             ],
             [
              0.8888888888888888,
              "#fdca26"
             ],
             [
              1,
              "#f0f921"
             ]
            ],
            "type": "surface"
           }
          ],
          "table": [
           {
            "cells": {
             "fill": {
              "color": "#EBF0F8"
             },
             "line": {
              "color": "white"
             }
            },
            "header": {
             "fill": {
              "color": "#C8D4E3"
             },
             "line": {
              "color": "white"
             }
            },
            "type": "table"
           }
          ]
         },
         "layout": {
          "annotationdefaults": {
           "arrowcolor": "#2a3f5f",
           "arrowhead": 0,
           "arrowwidth": 1
          },
          "autotypenumbers": "strict",
          "coloraxis": {
           "colorbar": {
            "outlinewidth": 0,
            "ticks": ""
           }
          },
          "colorscale": {
           "diverging": [
            [
             0,
             "#8e0152"
            ],
            [
             0.1,
             "#c51b7d"
            ],
            [
             0.2,
             "#de77ae"
            ],
            [
             0.3,
             "#f1b6da"
            ],
            [
             0.4,
             "#fde0ef"
            ],
            [
             0.5,
             "#f7f7f7"
            ],
            [
             0.6,
             "#e6f5d0"
            ],
            [
             0.7,
             "#b8e186"
            ],
            [
             0.8,
             "#7fbc41"
            ],
            [
             0.9,
             "#4d9221"
            ],
            [
             1,
             "#276419"
            ]
           ],
           "sequential": [
            [
             0,
             "#0d0887"
            ],
            [
             0.1111111111111111,
             "#46039f"
            ],
            [
             0.2222222222222222,
             "#7201a8"
            ],
            [
             0.3333333333333333,
             "#9c179e"
            ],
            [
             0.4444444444444444,
             "#bd3786"
            ],
            [
             0.5555555555555556,
             "#d8576b"
            ],
            [
             0.6666666666666666,
             "#ed7953"
            ],
            [
             0.7777777777777778,
             "#fb9f3a"
            ],
            [
             0.8888888888888888,
             "#fdca26"
            ],
            [
             1,
             "#f0f921"
            ]
           ],
           "sequentialminus": [
            [
             0,
             "#0d0887"
            ],
            [
             0.1111111111111111,
             "#46039f"
            ],
            [
             0.2222222222222222,
             "#7201a8"
            ],
            [
             0.3333333333333333,
             "#9c179e"
            ],
            [
             0.4444444444444444,
             "#bd3786"
            ],
            [
             0.5555555555555556,
             "#d8576b"
            ],
            [
             0.6666666666666666,
             "#ed7953"
            ],
            [
             0.7777777777777778,
             "#fb9f3a"
            ],
            [
             0.8888888888888888,
             "#fdca26"
            ],
            [
             1,
             "#f0f921"
            ]
           ]
          },
          "colorway": [
           "#636efa",
           "#EF553B",
           "#00cc96",
           "#ab63fa",
           "#FFA15A",
           "#19d3f3",
           "#FF6692",
           "#B6E880",
           "#FF97FF",
           "#FECB52"
          ],
          "font": {
           "color": "#2a3f5f"
          },
          "geo": {
           "bgcolor": "white",
           "lakecolor": "white",
           "landcolor": "#E5ECF6",
           "showlakes": true,
           "showland": true,
           "subunitcolor": "white"
          },
          "hoverlabel": {
           "align": "left"
          },
          "hovermode": "closest",
          "mapbox": {
           "style": "light"
          },
          "paper_bgcolor": "white",
          "plot_bgcolor": "#E5ECF6",
          "polar": {
           "angularaxis": {
            "gridcolor": "white",
            "linecolor": "white",
            "ticks": ""
           },
           "bgcolor": "#E5ECF6",
           "radialaxis": {
            "gridcolor": "white",
            "linecolor": "white",
            "ticks": ""
           }
          },
          "scene": {
           "xaxis": {
            "backgroundcolor": "#E5ECF6",
            "gridcolor": "white",
            "gridwidth": 2,
            "linecolor": "white",
            "showbackground": true,
            "ticks": "",
            "zerolinecolor": "white"
           },
           "yaxis": {
            "backgroundcolor": "#E5ECF6",
            "gridcolor": "white",
            "gridwidth": 2,
            "linecolor": "white",
            "showbackground": true,
            "ticks": "",
            "zerolinecolor": "white"
           },
           "zaxis": {
            "backgroundcolor": "#E5ECF6",
            "gridcolor": "white",
            "gridwidth": 2,
            "linecolor": "white",
            "showbackground": true,
            "ticks": "",
            "zerolinecolor": "white"
           }
          },
          "shapedefaults": {
           "line": {
            "color": "#2a3f5f"
           }
          },
          "ternary": {
           "aaxis": {
            "gridcolor": "white",
            "linecolor": "white",
            "ticks": ""
           },
           "baxis": {
            "gridcolor": "white",
            "linecolor": "white",
            "ticks": ""
           },
           "bgcolor": "#E5ECF6",
           "caxis": {
            "gridcolor": "white",
            "linecolor": "white",
            "ticks": ""
           }
          },
          "title": {
           "x": 0.05
          },
          "xaxis": {
           "automargin": true,
           "gridcolor": "white",
           "linecolor": "white",
           "ticks": "",
           "title": {
            "standoff": 15
           },
           "zerolinecolor": "white",
           "zerolinewidth": 2
          },
          "yaxis": {
           "automargin": true,
           "gridcolor": "white",
           "linecolor": "white",
           "ticks": "",
           "title": {
            "standoff": 15
           },
           "zerolinecolor": "white",
           "zerolinewidth": 2
          }
         }
        },
        "xaxis": {
         "anchor": "y",
         "domain": [
          0,
          0.425
         ]
        },
        "xaxis2": {
         "anchor": "y2",
         "domain": [
          0.575,
          1
         ]
        },
        "yaxis": {
         "anchor": "x",
         "domain": [
          0,
          1
         ],
         "title": {
          "text": "Signal (a.u.)"
         }
        },
        "yaxis2": {
         "anchor": "x2",
         "domain": [
          0,
          1
         ],
         "title": {
          "text": "Residuals (%)"
         }
        }
       }
      }
     },
     "metadata": {},
     "output_type": "display_data"
    }
   ],
   "source": [
    "calibrator.visualize(linear)\n",
    "calibrator.visualize(cubic)"
   ]
  },
  {
   "cell_type": "markdown",
   "metadata": {},
   "source": [
    "## concentration calculation"
   ]
  },
  {
   "cell_type": "code",
   "execution_count": 20,
   "metadata": {},
   "outputs": [
    {
     "name": "stdout",
     "output_type": "stream",
     "text": [
      "\u001b[4mStandard\u001b[0m\n",
      "├── \u001b[94mid\u001b[0m = standard2\n",
      "├── \u001b[94mspecies_id\u001b[0m = s0\n",
      "├── \u001b[94mname\u001b[0m = ABTS\n",
      "├── \u001b[94mwavelength\u001b[0m = 340.0\n",
      "├── \u001b[94msamples\u001b[0m\n",
      "│   ├── 0\n",
      "│   │   └── \u001b[4mSample\u001b[0m\n",
      "│   │       ├── \u001b[94mid\u001b[0m = sample33\n",
      "│   │       ├── \u001b[94mconcentration\u001b[0m = 0.0\n",
      "│   │       ├── \u001b[94mconc_unit\u001b[0m = umol / l\n",
      "│   │       └── \u001b[94msignal\u001b[0m = -0.0002765317154503179\n",
      "│   ├── 1\n",
      "│   │   └── \u001b[4mSample\u001b[0m\n",
      "│   │       ├── \u001b[94mid\u001b[0m = sample34\n",
      "│   │       ├── \u001b[94mconcentration\u001b[0m = 0.0\n",
      "│   │       ├── \u001b[94mconc_unit\u001b[0m = umol / l\n",
      "│   │       └── \u001b[94msignal\u001b[0m = 0.011393449045881982\n",
      "│   ├── 2\n",
      "│   │   └── \u001b[4mSample\u001b[0m\n",
      "│   │       ├── \u001b[94mid\u001b[0m = sample35\n",
      "│   │       ├── \u001b[94mconcentration\u001b[0m = 0.0\n",
      "│   │       ├── \u001b[94mconc_unit\u001b[0m = umol / l\n",
      "│   │       └── \u001b[94msignal\u001b[0m = -0.04918465980388456\n",
      "│   ├── 3\n",
      "│   │   └── \u001b[4mSample\u001b[0m\n",
      "│   │       ├── \u001b[94mid\u001b[0m = sample36\n",
      "│   │       ├── \u001b[94mconcentration\u001b[0m = 20.0\n",
      "│   │       ├── \u001b[94mconc_unit\u001b[0m = umol / l\n",
      "│   │       └── \u001b[94msignal\u001b[0m = 0.2899602433756215\n",
      "│   ├── 4\n",
      "│   │   └── \u001b[4mSample\u001b[0m\n",
      "│   │       ├── \u001b[94mid\u001b[0m = sample37\n",
      "│   │       ├── \u001b[94mconcentration\u001b[0m = 20.0\n",
      "│   │       ├── \u001b[94mconc_unit\u001b[0m = umol / l\n",
      "│   │       └── \u001b[94msignal\u001b[0m = 0.2383420354078345\n",
      "│   ├── 5\n",
      "│   │   └── \u001b[4mSample\u001b[0m\n",
      "│   │       ├── \u001b[94mid\u001b[0m = sample38\n",
      "│   │       ├── \u001b[94mconcentration\u001b[0m = 20.0\n",
      "│   │       ├── \u001b[94mconc_unit\u001b[0m = umol / l\n",
      "│   │       └── \u001b[94msignal\u001b[0m = 0.24860021351057718\n",
      "│   ├── 6\n",
      "│   │   └── \u001b[4mSample\u001b[0m\n",
      "│   │       ├── \u001b[94mid\u001b[0m = sample39\n",
      "│   │       ├── \u001b[94mconcentration\u001b[0m = 40.0\n",
      "│   │       ├── \u001b[94mconc_unit\u001b[0m = umol / l\n",
      "│   │       └── \u001b[94msignal\u001b[0m = 0.5337615610945424\n",
      "│   ├── 7\n",
      "│   │   └── \u001b[4mSample\u001b[0m\n",
      "│   │       ├── \u001b[94mid\u001b[0m = sample40\n",
      "│   │       ├── \u001b[94mconcentration\u001b[0m = 40.0\n",
      "│   │       ├── \u001b[94mconc_unit\u001b[0m = umol / l\n",
      "│   │       └── \u001b[94msignal\u001b[0m = 0.5538166407331118\n",
      "│   ├── 8\n",
      "│   │   └── \u001b[4mSample\u001b[0m\n",
      "│   │       ├── \u001b[94mid\u001b[0m = sample41\n",
      "│   │       ├── \u001b[94mconcentration\u001b[0m = 40.0\n",
      "│   │       ├── \u001b[94mconc_unit\u001b[0m = umol / l\n",
      "│   │       └── \u001b[94msignal\u001b[0m = 0.5666678006598811\n",
      "│   ├── 9\n",
      "│   │   └── \u001b[4mSample\u001b[0m\n",
      "│   │       ├── \u001b[94mid\u001b[0m = sample42\n",
      "│   │       ├── \u001b[94mconcentration\u001b[0m = 60.0\n",
      "│   │       ├── \u001b[94mconc_unit\u001b[0m = umol / l\n",
      "│   │       └── \u001b[94msignal\u001b[0m = 0.8503937114001948\n",
      "│   ├── 10\n",
      "│   │   └── \u001b[4mSample\u001b[0m\n",
      "│   │       ├── \u001b[94mid\u001b[0m = sample43\n",
      "│   │       ├── \u001b[94mconcentration\u001b[0m = 60.0\n",
      "│   │       ├── \u001b[94mconc_unit\u001b[0m = umol / l\n",
      "│   │       └── \u001b[94msignal\u001b[0m = 0.8814772962007227\n",
      "│   ├── 11\n",
      "│   │   └── \u001b[4mSample\u001b[0m\n",
      "│   │       ├── \u001b[94mid\u001b[0m = sample44\n",
      "│   │       ├── \u001b[94mconcentration\u001b[0m = 60.0\n",
      "│   │       ├── \u001b[94mconc_unit\u001b[0m = umol / l\n",
      "│   │       └── \u001b[94msignal\u001b[0m = 0.8625702116227232\n",
      "│   ├── 12\n",
      "│   │   └── \u001b[4mSample\u001b[0m\n",
      "│   │       ├── \u001b[94mid\u001b[0m = sample45\n",
      "│   │       ├── \u001b[94mconcentration\u001b[0m = 80.0\n",
      "│   │       ├── \u001b[94mconc_unit\u001b[0m = umol / l\n",
      "│   │       └── \u001b[94msignal\u001b[0m = 1.1414372966025896\n",
      "│   ├── 13\n",
      "│   │   └── \u001b[4mSample\u001b[0m\n",
      "│   │       ├── \u001b[94mid\u001b[0m = sample46\n",
      "│   │       ├── \u001b[94mconcentration\u001b[0m = 80.0\n",
      "│   │       ├── \u001b[94mconc_unit\u001b[0m = umol / l\n",
      "│   │       └── \u001b[94msignal\u001b[0m = 1.1098771571638488\n",
      "│   ├── 14\n",
      "│   │   └── \u001b[4mSample\u001b[0m\n",
      "│   │       ├── \u001b[94mid\u001b[0m = sample47\n",
      "│   │       ├── \u001b[94mconcentration\u001b[0m = 80.0\n",
      "│   │       ├── \u001b[94mconc_unit\u001b[0m = umol / l\n",
      "│   │       └── \u001b[94msignal\u001b[0m = 1.117305747403048\n",
      "│   ├── 15\n",
      "│   │   └── \u001b[4mSample\u001b[0m\n",
      "│   │       ├── \u001b[94mid\u001b[0m = sample48\n",
      "│   │       ├── \u001b[94mconcentration\u001b[0m = 100.0\n",
      "│   │       ├── \u001b[94mconc_unit\u001b[0m = umol / l\n",
      "│   │       └── \u001b[94msignal\u001b[0m = 1.3875307800438896\n",
      "│   ├── 16\n",
      "│   │   └── \u001b[4mSample\u001b[0m\n",
      "│   │       ├── \u001b[94mid\u001b[0m = sample49\n",
      "│   │       ├── \u001b[94mconcentration\u001b[0m = 100.0\n",
      "│   │       ├── \u001b[94mconc_unit\u001b[0m = umol / l\n",
      "│   │       └── \u001b[94msignal\u001b[0m = 1.379364155995179\n",
      "│   ├── 17\n",
      "│   │   └── \u001b[4mSample\u001b[0m\n",
      "│   │       ├── \u001b[94mid\u001b[0m = sample50\n",
      "│   │       ├── \u001b[94mconcentration\u001b[0m = 100.0\n",
      "│   │       ├── \u001b[94mconc_unit\u001b[0m = umol / l\n",
      "│   │       └── \u001b[94msignal\u001b[0m = 1.3897718273220365\n",
      "│   ├── 18\n",
      "│   │   └── \u001b[4mSample\u001b[0m\n",
      "│   │       ├── \u001b[94mid\u001b[0m = sample51\n",
      "│   │       ├── \u001b[94mconcentration\u001b[0m = 120.0\n",
      "│   │       ├── \u001b[94mconc_unit\u001b[0m = umol / l\n",
      "│   │       └── \u001b[94msignal\u001b[0m = 1.686355617471023\n",
      "│   ├── 19\n",
      "│   │   └── \u001b[4mSample\u001b[0m\n",
      "│   │       ├── \u001b[94mid\u001b[0m = sample52\n",
      "│   │       ├── \u001b[94mconcentration\u001b[0m = 120.0\n",
      "│   │       ├── \u001b[94mconc_unit\u001b[0m = umol / l\n",
      "│   │       └── \u001b[94msignal\u001b[0m = 1.6998964088472315\n",
      "│   ├── 20\n",
      "│   │   └── \u001b[4mSample\u001b[0m\n",
      "│   │       ├── \u001b[94mid\u001b[0m = sample53\n",
      "│   │       ├── \u001b[94mconcentration\u001b[0m = 120.0\n",
      "│   │       ├── \u001b[94mconc_unit\u001b[0m = umol / l\n",
      "│   │       └── \u001b[94msignal\u001b[0m = 1.698820733492316\n",
      "│   ├── 21\n",
      "│   │   └── \u001b[4mSample\u001b[0m\n",
      "│   │       ├── \u001b[94mid\u001b[0m = sample54\n",
      "│   │       ├── \u001b[94mconcentration\u001b[0m = 140.0\n",
      "│   │       ├── \u001b[94mconc_unit\u001b[0m = umol / l\n",
      "│   │       └── \u001b[94msignal\u001b[0m = 1.945528067706004\n",
      "│   ├── 22\n",
      "│   │   └── \u001b[4mSample\u001b[0m\n",
      "│   │       ├── \u001b[94mid\u001b[0m = sample55\n",
      "│   │       ├── \u001b[94mconcentration\u001b[0m = 140.0\n",
      "│   │       ├── \u001b[94mconc_unit\u001b[0m = umol / l\n",
      "│   │       └── \u001b[94msignal\u001b[0m = 1.9621880840616706\n",
      "│   ├── 23\n",
      "│   │   └── \u001b[4mSample\u001b[0m\n",
      "│   │       ├── \u001b[94mid\u001b[0m = sample56\n",
      "│   │       ├── \u001b[94mconcentration\u001b[0m = 140.0\n",
      "│   │       ├── \u001b[94mconc_unit\u001b[0m = umol / l\n",
      "│   │       └── \u001b[94msignal\u001b[0m = 1.9868394290391407\n",
      "│   ├── 24\n",
      "│   │   └── \u001b[4mSample\u001b[0m\n",
      "│   │       ├── \u001b[94mid\u001b[0m = sample57\n",
      "│   │       ├── \u001b[94mconcentration\u001b[0m = 160.0\n",
      "│   │       ├── \u001b[94mconc_unit\u001b[0m = umol / l\n",
      "│   │       └── \u001b[94msignal\u001b[0m = 2.193198740604825\n",
      "│   ├── 25\n",
      "│   │   └── \u001b[4mSample\u001b[0m\n",
      "│   │       ├── \u001b[94mid\u001b[0m = sample58\n",
      "│   │       ├── \u001b[94mconcentration\u001b[0m = 160.0\n",
      "│   │       ├── \u001b[94mconc_unit\u001b[0m = umol / l\n",
      "│   │       └── \u001b[94msignal\u001b[0m = 2.251209953714865\n",
      "│   ├── 26\n",
      "│   │   └── \u001b[4mSample\u001b[0m\n",
      "│   │       ├── \u001b[94mid\u001b[0m = sample59\n",
      "│   │       ├── \u001b[94mconcentration\u001b[0m = 160.0\n",
      "│   │       ├── \u001b[94mconc_unit\u001b[0m = umol / l\n",
      "│   │       └── \u001b[94msignal\u001b[0m = 2.2111020008261755\n",
      "│   ├── 27\n",
      "│   │   └── \u001b[4mSample\u001b[0m\n",
      "│   │       ├── \u001b[94mid\u001b[0m = sample60\n",
      "│   │       ├── \u001b[94mconcentration\u001b[0m = 180.0\n",
      "│   │       ├── \u001b[94mconc_unit\u001b[0m = umol / l\n",
      "│   │       └── \u001b[94msignal\u001b[0m = 2.566039191412455\n",
      "│   ├── 28\n",
      "│   │   └── \u001b[4mSample\u001b[0m\n",
      "│   │       ├── \u001b[94mid\u001b[0m = sample61\n",
      "│   │       ├── \u001b[94mconcentration\u001b[0m = 180.0\n",
      "│   │       ├── \u001b[94mconc_unit\u001b[0m = umol / l\n",
      "│   │       └── \u001b[94msignal\u001b[0m = 2.4846665347629826\n",
      "│   ├── 29\n",
      "│   │   └── \u001b[4mSample\u001b[0m\n",
      "│   │       ├── \u001b[94mid\u001b[0m = sample62\n",
      "│   │       ├── \u001b[94mconcentration\u001b[0m = 180.0\n",
      "│   │       ├── \u001b[94mconc_unit\u001b[0m = umol / l\n",
      "│   │       └── \u001b[94msignal\u001b[0m = 2.5191637522549026\n",
      "│   ├── 30\n",
      "│   │   └── \u001b[4mSample\u001b[0m\n",
      "│   │       ├── \u001b[94mid\u001b[0m = sample63\n",
      "│   │       ├── \u001b[94mconcentration\u001b[0m = 200.0\n",
      "│   │       ├── \u001b[94mconc_unit\u001b[0m = umol / l\n",
      "│   │       └── \u001b[94msignal\u001b[0m = 2.806876021932088\n",
      "│   ├── 31\n",
      "│   │   └── \u001b[4mSample\u001b[0m\n",
      "│   │       ├── \u001b[94mid\u001b[0m = sample64\n",
      "│   │       ├── \u001b[94mconcentration\u001b[0m = 200.0\n",
      "│   │       ├── \u001b[94mconc_unit\u001b[0m = umol / l\n",
      "│   │       └── \u001b[94msignal\u001b[0m = 2.794874674073387\n",
      "│   └── 32\n",
      "│       └── \u001b[4mSample\u001b[0m\n",
      "│           ├── \u001b[94mid\u001b[0m = sample65\n",
      "│           ├── \u001b[94mconcentration\u001b[0m = 200.0\n",
      "│           ├── \u001b[94mconc_unit\u001b[0m = umol / l\n",
      "│           └── \u001b[94msignal\u001b[0m = 2.820230387647496\n",
      "├── \u001b[94mph\u001b[0m = 2.0\n",
      "├── \u001b[94mtemperature\u001b[0m = 25.0\n",
      "├── \u001b[94mtemperature_unit\u001b[0m = C\n",
      "├── \u001b[94mcreated\u001b[0m = 2023-09-15 14:16:42.758825\n",
      "└── \u001b[94mmodel_result\u001b[0m\n",
      "    └── \u001b[4mCalibrationModel\u001b[0m\n",
      "        ├── \u001b[94mid\u001b[0m = calibrationmodel4\n",
      "        ├── \u001b[94mname\u001b[0m = linear\n",
      "        ├── \u001b[94mequation\u001b[0m = a * concentration = signal\n",
      "        ├── \u001b[94mparameters\u001b[0m\n",
      "        │   └── 0\n",
      "        │       └── \u001b[4mParameter\u001b[0m\n",
      "        │           ├── \u001b[94mid\u001b[0m = parameter6\n",
      "        │           ├── \u001b[94mname\u001b[0m = a\n",
      "        │           ├── \u001b[94mvalue\u001b[0m = 0.013961395582609207\n",
      "        │           ├── \u001b[94minit_value\u001b[0m = 0.1\n",
      "        │           ├── \u001b[94mstandard_error\u001b[0m = 4.542752579214718e-05\n",
      "        │           ├── \u001b[94mlower_bound\u001b[0m = -inf\n",
      "        │           └── \u001b[94mupper_bound\u001b[0m = inf\n",
      "        ├── \u001b[94mwas_fitted\u001b[0m = True\n",
      "        ├── \u001b[94mcalibration_range\u001b[0m\n",
      "        │   └── \u001b[4mCalibrationRange\u001b[0m\n",
      "        │       ├── \u001b[94mid\u001b[0m = calibrationrange4\n",
      "        │       ├── \u001b[94mconc_lower\u001b[0m = 0.0\n",
      "        │       ├── \u001b[94mconc_upper\u001b[0m = 180.0\n",
      "        │       ├── \u001b[94msignal_lower\u001b[0m = -0.04918465980388456\n",
      "        │       └── \u001b[94msignal_upper\u001b[0m = 2.4846665347629826\n",
      "        └── \u001b[94mstatistics\u001b[0m\n",
      "            └── \u001b[4mFitStatistics\u001b[0m\n",
      "                ├── \u001b[94mid\u001b[0m = fitstatistics4\n",
      "                ├── \u001b[94maic\u001b[0m = -208.0744178736034\n",
      "                ├── \u001b[94mbic\u001b[0m = -206.7422133634282\n",
      "                ├── \u001b[94mr2\u001b[0m = 0.9990356194336281\n",
      "                └── \u001b[94mrmsd\u001b[0m = 0.02348651410099541\n",
      "\n"
     ]
    }
   ],
   "source": [
    "print(calibrator.save_fitted_model(linear))"
   ]
  },
  {
   "cell_type": "code",
   "execution_count": 29,
   "metadata": {},
   "outputs": [
    {
     "data": {
      "text/plain": [
       "[nan, 71.62607735616591, 157.577370183565, nan]"
      ]
     },
     "execution_count": 29,
     "metadata": {},
     "output_type": "execute_result"
    }
   ],
   "source": []
  }
 ],
 "metadata": {
  "kernelspec": {
   "display_name": "sdrdm_example",
   "language": "python",
   "name": "python3"
  },
  "language_info": {
   "codemirror_mode": {
    "name": "ipython",
    "version": 3
   },
   "file_extension": ".py",
   "mimetype": "text/x-python",
   "name": "python",
   "nbconvert_exporter": "python",
   "pygments_lexer": "ipython3",
   "version": "3.11.3"
  },
  "orig_nbformat": 4
 },
 "nbformat": 4,
 "nbformat_minor": 2
}
