{
 "cells": [
  {
   "cell_type": "code",
   "execution_count": 2,
   "metadata": {},
   "outputs": [],
   "source": [
    "%reload_ext autoreload\n",
    "%autoreload 2\n",
    "from CaliPytion.tools.standardcurve import StandardCurve"
   ]
  },
  {
   "cell_type": "code",
   "execution_count": 3,
   "metadata": {},
   "outputs": [],
   "source": [
    "import numpy as np\n",
    "import matplotlib.pyplot as plt"
   ]
  },
  {
   "cell_type": "code",
   "execution_count": 27,
   "metadata": {},
   "outputs": [],
   "source": [
    "f = lambda x, a: a * x\n",
    "concentrations = np.linspace(0, 10, 40)\n",
    "\n",
    "rand = lambda size: np.random.normal(1, 0.01, size)\n",
    "\n",
    "\n",
    "signals = f(concentrations, 0.5) + rand(len(concentrations))"
   ]
  },
  {
   "cell_type": "code",
   "execution_count": 28,
   "metadata": {},
   "outputs": [
    {
     "data": {
      "text/plain": [
       "<matplotlib.collections.PathCollection at 0x28ede2b50>"
      ]
     },
     "execution_count": 28,
     "metadata": {},
     "output_type": "execute_result"
    },
    {
     "data": {
      "image/png": "[encoded data removed]",
      "text/plain": [
       "<Figure size 640x480 with 1 Axes>"
      ]
     },
     "metadata": {},
     "output_type": "display_data"
    }
   ],
   "source": [
    "plt.scatter(concentrations, signals)"
   ]
  },
  {
   "cell_type": "code",
   "execution_count": 29,
   "metadata": {},
   "outputs": [
    {
     "name": "stdout",
     "output_type": "stream",
     "text": [
      "Standard curve data was blanked.\n",
      "{'Linear': -349.6953082150718, 'Quadratic': -348.6217882154671, 'Rational': -348.62169640140286, '3rd degree polynominal': -346.6256758826523}\n"
     ]
    }
   ],
   "source": [
    "standard = StandardCurve(\n",
    "    concentrations=concentrations,\n",
    "    signals=signals,\n",
    "    conc_unit=\"mmol / l\",\n",
    "    analyte_name=\"ABTS\",\n",
    "    wavelength=420,\n",
    ")\n",
    "print(standard.result_dict)\n",
    "\n",
    "# standard.visualize()"
   ]
  },
  {
   "cell_type": "code",
   "execution_count": 30,
   "metadata": {},
   "outputs": [
    {
     "data": {
      "application/vnd.plotly.v1+json": {
       "config": {
        "plotlyServerURL": "https://plot.ly",
        "toImageButtonOptions": {
         "filename": "custom_image",
         "format": "svg",
         "scale": 1
        }
       },
       "data": [
        {
         "hoverinfo": "skip",
         "marker": {
          "color": "#1f77b4"
         },
         "mode": "markers",
         "name": "ABTS Standard",
         "type": "scatter",
         "visible": true,
         "x": [
          0,
          0.2564102564102564,
          0.5128205128205128,
          0.7692307692307692,
          1.0256410256410255,
          1.282051282051282,
          1.5384615384615383,
          1.7948717948717947,
          2.051282051282051,
          2.3076923076923075,
          2.564102564102564,
          2.8205128205128203,
          3.0769230769230766,
          3.333333333333333,
          3.5897435897435894,
          3.846153846153846,
          4.102564102564102,
          4.358974358974359,
          4.615384615384615,
          4.871794871794871,
          5.128205128205128,
          5.384615384615384,
          5.6410256410256405,
          5.897435897435897,
          6.153846153846153,
          6.41025641025641,
          6.666666666666666,
          6.9230769230769225,
          7.179487179487179,
          7.435897435897435,
          7.692307692307692,
          7.948717948717948,
          8.205128205128204,
          8.46153846153846,
          8.717948717948717,
          8.974358974358974,
          9.23076923076923,
          9.487179487179485,
          9.743589743589743,
          10
         ],
         "xaxis": "x",
         "y": [
          0,
          0.12555259230111848,
          0.2576404169690323,
          0.3897297773374522,
          0.5152881053583231,
          0.6368323185365525,
          0.7645718857576271,
          0.8823912054148702,
          1.0184889121110754,
          1.1559647104643054,
          1.2896314251304017,
          1.400986193206718,
          1.5606990592906065,
          1.6688104248315694,
          1.7970446287306816,
          1.9107445858494942,
          2.0730804823696056,
          2.1973900359393888,
          2.2924668385864138,
          2.4544204211686873,
          2.564429056096423,
          2.706960727382187,
          2.8240564082130373,
          2.927270076153569,
          3.0569467140074256,
          3.2035345118323537,
          3.3351394061135204,
          3.475918465253809,
          3.595074277290557,
          3.711866154475371,
          3.8638794903074087,
          3.9780182479513257,
          4.069386122246622,
          4.22357397251316,
          4.364535369344338,
          4.499933824422204,
          4.59914355710367,
          4.730114439885281,
          4.866107839528974,
          5.0066808701769725
         ],
         "yaxis": "y"
        },
        {
         "hoverinfo": "skip",
         "marker": {
          "color": "#1f77b4"
         },
         "mode": "lines",
         "name": "Linear",
         "type": "scatter",
         "visible": true,
         "x": [
          0,
          0.05025125628140704,
          0.10050251256281408,
          0.15075376884422112,
          0.20100502512562815,
          0.2512562814070352,
          0.30150753768844224,
          0.35175879396984927,
          0.4020100502512563,
          0.45226130653266333,
          0.5025125628140704,
          0.5527638190954774,
          0.6030150753768845,
          0.6532663316582915,
          0.7035175879396985,
          0.7537688442211056,
          0.8040201005025126,
          0.8542713567839196,
          0.9045226130653267,
          0.9547738693467337,
          1.0050251256281408,
          1.0552763819095479,
          1.105527638190955,
          1.155778894472362,
          1.206030150753769,
          1.256281407035176,
          1.306532663316583,
          1.35678391959799,
          1.407035175879397,
          1.4572864321608041,
          1.5075376884422111,
          1.5577889447236182,
          1.6080402010050252,
          1.6582914572864322,
          1.7085427135678393,
          1.7587939698492463,
          1.8090452261306533,
          1.8592964824120604,
          1.9095477386934674,
          1.9597989949748744,
          2.0100502512562817,
          2.0603015075376887,
          2.1105527638190957,
          2.1608040201005028,
          2.21105527638191,
          2.261306532663317,
          2.311557788944724,
          2.361809045226131,
          2.412060301507538,
          2.462311557788945,
          2.512562814070352,
          2.562814070351759,
          2.613065326633166,
          2.663316582914573,
          2.71356783919598,
          2.763819095477387,
          2.814070351758794,
          2.864321608040201,
          2.9145728643216082,
          2.9648241206030153,
          3.0150753768844223,
          3.0653266331658293,
          3.1155778894472363,
          3.1658291457286434,
          3.2160804020100504,
          3.2663316582914574,
          3.3165829145728645,
          3.3668341708542715,
          3.4170854271356785,
          3.4673366834170856,
          3.5175879396984926,
          3.5678391959798996,
          3.6180904522613067,
          3.6683417085427137,
          3.7185929648241207,
          3.7688442211055277,
          3.819095477386935,
          3.869346733668342,
          3.919597989949749,
          3.969849246231156,
          4.020100502512563,
          4.07035175879397,
          4.120603015075377,
          4.170854271356784,
          4.2211055276381915,
          4.2713567839195985,
          4.3216080402010055,
          4.371859296482413,
          4.42211055276382,
          4.472361809045227,
          4.522613065326634,
          4.572864321608041,
          4.623115577889448,
          4.673366834170855,
          4.723618090452262,
          4.773869346733669,
          4.824120603015076,
          4.874371859296483,
          4.92462311557789,
          4.974874371859297,
          5.025125628140704,
          5.075376884422111,
          5.125628140703518,
          5.175879396984925,
          5.226130653266332,
          5.276381909547739,
          5.326633165829146,
          5.376884422110553,
          5.42713567839196,
          5.477386934673367,
          5.527638190954774,
          5.577889447236181,
          5.628140703517588,
          5.678391959798995,
          5.728643216080402,
          5.778894472361809,
          5.8291457286432165,
          5.8793969849246235,
          5.9296482412060305,
          5.9798994974874375,
          6.030150753768845,
          6.080402010050252,
          6.130653266331659,
          6.180904522613066,
          6.231155778894473,
          6.28140703517588,
          6.331658291457287,
          6.381909547738694,
          6.432160804020101,
          6.482412060301508,
          6.532663316582915,
          6.582914572864322,
          6.633165829145729,
          6.683417085427136,
          6.733668341708543,
          6.78391959798995,
          6.834170854271357,
          6.884422110552764,
          6.934673366834171,
          6.984924623115578,
          7.035175879396985,
          7.085427135678392,
          7.135678391959799,
          7.185929648241206,
          7.236180904522613,
          7.28643216080402,
          7.336683417085427,
          7.386934673366834,
          7.437185929648241,
          7.4874371859296485,
          7.5376884422110555,
          7.5879396984924625,
          7.63819095477387,
          7.688442211055277,
          7.738693467336684,
          7.788944723618091,
          7.839195979899498,
          7.889447236180905,
          7.939698492462312,
          7.989949748743719,
          8.040201005025127,
          8.090452261306533,
          8.14070351758794,
          8.190954773869347,
          8.241206030150755,
          8.291457286432161,
          8.341708542713569,
          8.391959798994975,
          8.442211055276383,
          8.492462311557789,
          8.542713567839197,
          8.592964824120603,
          8.643216080402011,
          8.693467336683417,
          8.743718592964825,
          8.793969849246231,
          8.84422110552764,
          8.894472361809045,
          8.944723618090453,
          8.99497487437186,
          9.045226130653267,
          9.095477386934673,
          9.145728643216081,
          9.195979899497488,
          9.246231155778895,
          9.296482412060302,
          9.34673366834171,
          9.396984924623116,
          9.447236180904524,
          9.49748743718593,
          9.547738693467338,
          9.597989949748744,
          9.648241206030152,
          9.698492462311558,
          9.748743718592966,
          9.798994974874372,
          9.84924623115578,
          9.899497487437186,
          9.949748743718594,
          10
         ],
         "xaxis": "x",
         "y": [
          0,
          0.025119980207210797,
          0.050239960414421594,
          0.0753599406216324,
          0.10047992082884319,
          0.125599901036054,
          0.1507198812432648,
          0.1758398614504756,
          0.20095984165768638,
          0.2260798218648972,
          0.251199802072108,
          0.2763197822793188,
          0.3014397624865296,
          0.3265597426937404,
          0.3516797229009512,
          0.37679970310816197,
          0.40191968331537276,
          0.42703966352258355,
          0.4521596437297944,
          0.4772796239370052,
          0.502399604144216,
          0.5275195843514268,
          0.5526395645586376,
          0.5777595447658483,
          0.6028795249730592,
          0.62799950518027,
          0.6531194853874808,
          0.6782394655946916,
          0.7033594458019023,
          0.7284794260091132,
          0.7535994062163239,
          0.7787193864235348,
          0.8038393666307455,
          0.8289593468379564,
          0.8540793270451671,
          0.8791993072523779,
          0.9043192874595888,
          0.9294392676667995,
          0.9545592478740104,
          0.9796792280812211,
          1.004799208288432,
          1.029919188495643,
          1.0550391687028535,
          1.0801591489100644,
          1.1052791291172752,
          1.130399109324486,
          1.1555190895316967,
          1.1806390697389075,
          1.2057590499461184,
          1.2308790301533292,
          1.25599901036054,
          1.2811189905677507,
          1.3062389707749615,
          1.3313589509821724,
          1.3564789311893832,
          1.3815989113965939,
          1.4067188916038047,
          1.4318388718110155,
          1.4569588520182264,
          1.4820788322254372,
          1.5071988124326479,
          1.5323187926398587,
          1.5574387728470696,
          1.5825587530542804,
          1.607678733261491,
          1.6327987134687019,
          1.6579186936759127,
          1.6830386738831236,
          1.7081586540903342,
          1.733278634297545,
          1.7583986145047559,
          1.7835185947119667,
          1.8086385749191776,
          1.8337585551263882,
          1.858878535333599,
          1.8839985155408099,
          1.9091184957480207,
          1.9342384759552314,
          1.9593584561624422,
          1.984478436369653,
          2.009598416576864,
          2.0347183967840747,
          2.059838376991286,
          2.0849583571984964,
          2.110078337405707,
          2.135198317612918,
          2.1603182978201287,
          2.18543827802734,
          2.2105582582345504,
          2.235678238441761,
          2.260798218648972,
          2.2859181988561827,
          2.3110381790633934,
          2.3361581592706044,
          2.361278139477815,
          2.386398119685026,
          2.4115180998922368,
          2.4366380800994474,
          2.4617580603066584,
          2.486878040513869,
          2.51199802072108,
          2.5371180009282908,
          2.5622379811355014,
          2.5873579613427125,
          2.612477941549923,
          2.6375979217571337,
          2.6627179019643448,
          2.6878378821715554,
          2.7129578623787665,
          2.738077842585977,
          2.7631978227931877,
          2.7883178030003988,
          2.8134377832076094,
          2.8385577634148205,
          2.863677743622031,
          2.8887977238292417,
          2.913917704036453,
          2.9390376842436634,
          2.9641576644508745,
          2.989277644658085,
          3.0143976248652957,
          3.039517605072507,
          3.0646375852797174,
          3.089757565486928,
          3.114877545694139,
          3.1399975259013497,
          3.165117506108561,
          3.1902374863157714,
          3.215357466522982,
          3.240477446730193,
          3.2655974269374037,
          3.290717407144615,
          3.3158373873518254,
          3.340957367559036,
          3.366077347766247,
          3.3911973279734577,
          3.4163173081806684,
          3.4414372883878794,
          3.46655726859509,
          3.491677248802301,
          3.5167972290095117,
          3.5419172092167224,
          3.5670371894239334,
          3.592157169631144,
          3.617277149838355,
          3.6423971300455658,
          3.6675171102527764,
          3.6926370904599874,
          3.717757070667198,
          3.7428770508744087,
          3.7679970310816198,
          3.7931170112888304,
          3.8182369914960415,
          3.843356971703252,
          3.8684769519104627,
          3.8935969321176738,
          3.9187169123248844,
          3.9438368925320955,
          3.968956872739306,
          3.9940768529465167,
          4.019196833153728,
          4.044316813360939,
          4.0694367935681495,
          4.09455677377536,
          4.119676753982572,
          4.144796734189781,
          4.169916714396993,
          4.1950366946042035,
          4.220156674811414,
          4.245276655018625,
          4.270396635225836,
          4.295516615433046,
          4.3206365956402575,
          4.345756575847468,
          4.37087655605468,
          4.395996536261889,
          4.421116516469101,
          4.4462364966763115,
          4.471356476883522,
          4.496476457090733,
          4.521596437297944,
          4.546716417505154,
          4.5718363977123655,
          4.596956377919576,
          4.622076358126787,
          4.647196338333997,
          4.672316318541209,
          4.6974362987484195,
          4.72255627895563,
          4.747676259162841,
          4.772796239370052,
          4.797916219577262,
          4.8230361997844735,
          4.848156179991684,
          4.873276160198895,
          4.898396140406105,
          4.923516120613317,
          4.948636100820527,
          4.973756081027738,
          4.998876061234949
         ],
         "yaxis": "y"
        },
        {
         "hoverinfo": "skip",
         "marker": {
          "color": "#d62728"
         },
         "mode": "markers",
         "name": "Residuals",
         "type": "scatter",
         "visible": true,
         "x": [
          0,
          0.2564102564102564,
          0.5128205128205128,
          0.7692307692307692,
          1.0256410256410255,
          1.282051282051282,
          1.5384615384615383,
          1.7948717948717947,
          2.051282051282051,
          2.3076923076923075,
          2.564102564102564,
          2.8205128205128203,
          3.0769230769230766,
          3.333333333333333,
          3.5897435897435894,
          3.846153846153846,
          4.102564102564102,
          4.358974358974359,
          4.615384615384615,
          4.871794871794871,
          5.128205128205128,
          5.384615384615384,
          5.6410256410256405,
          5.897435897435897,
          6.153846153846153,
          6.41025641025641,
          6.666666666666666,
          6.9230769230769225,
          7.179487179487179,
          7.435897435897435,
          7.692307692307692,
          7.948717948717948,
          8.205128205128204,
          8.46153846153846,
          8.717948717948717,
          8.974358974358974,
          9.23076923076923,
          9.487179487179485,
          9.743589743589743,
          10
         ],
         "xaxis": "x2",
         "y": [
          0,
          2.0469593612218553,
          -0.5023543163216124,
          -1.352524914074933,
          -0.5037725620763122,
          0.631821558745266,
          0.583307196521452,
          1.6543016309312808,
          0.6750040265074992,
          -0.20613335179380626,
          -0.6138679254639787,
          0.6350066299360916,
          -1.4682476732858034,
          -0.15113823922038935,
          -0.14356893426285955,
          0.6189418910822068,
          -1.085396274609011,
          -0.8440936956216918,
          0.6374348401664455,
          -0.783072090399633,
          -0.035219880059234654,
          -0.5668617873697112,
          -0.14814836842938423,
          0.70504234437534,
          0.6268939375372224,
          0.027250581126424093,
          -0.07667819502581609,
          -0.43799956179283006,
          -0.17101494188821448,
          0.14115293722678904,
          -0.48345419787648397,
          -0.11457657593899044,
          0.7864112705599906,
          0.1476241493978237,
          -0.15008863364021358,
          -0.30678725301311227,
          0.3294848849530611,
          0.261654011302199,
          0.09427623703719851,
          -0.15613127523901027
         ],
         "yaxis": "y2"
        }
       ],
       "layout": {
        "annotations": [
         {
          "font": {
           "size": 16
          },
          "showarrow": false,
          "text": "Standard Curve",
          "x": 0.2125,
          "xanchor": "center",
          "xref": "paper",
          "y": 1,
          "yanchor": "bottom",
          "yref": "paper"
         },
         {
          "font": {
           "size": 16
          },
          "showarrow": false,
          "text": "Residuals",
          "x": 0.7875,
          "xanchor": "center",
          "xref": "paper",
          "y": 1,
          "yanchor": "bottom",
          "yref": "paper"
         },
         {
          "font": {
           "size": 16
          },
          "showarrow": false,
          "text": "ABTS concentration (mmol L<sup>-1</sup>)",
          "x": 0.5,
          "xanchor": "center",
          "xref": "paper",
          "y": 0,
          "yanchor": "top",
          "yref": "paper",
          "yshift": -30
         }
        ],
        "shapes": [
         {
          "line": {
           "color": "#000000",
           "dash": "dot",
           "width": 2
          },
          "type": "line",
          "x0": 0,
          "x1": 1,
          "xref": "x2 domain",
          "y0": 0,
          "y1": 0,
          "yref": "y2"
         }
        ],
        "template": {
         "data": {
          "bar": [
           {
            "error_x": {
             "color": "#2a3f5f"
            },
            "error_y": {
             "color": "#2a3f5f"
            },
            "marker": {
             "line": {
              "color": "#E5ECF6",
              "width": 0.5
             },
             "pattern": {
              "fillmode": "overlay",
              "size": 10,
              "solidity": 0.2
             }
            },
            "type": "bar"
           }
          ],
          "barpolar": [
           {
            "marker": {
             "line": {
              "color": "#E5ECF6",
              "width": 0.5
             },
             "pattern": {
              "fillmode": "overlay",
              "size": 10,
              "solidity": 0.2
             }
            },
            "type": "barpolar"
           }
          ],
          "carpet": [
           {
            "aaxis": {
             "endlinecolor": "#2a3f5f",
             "gridcolor": "white",
             "linecolor": "white",
             "minorgridcolor": "white",
             "startlinecolor": "#2a3f5f"
            },
            "baxis": {
             "endlinecolor": "#2a3f5f",
             "gridcolor": "white",
             "linecolor": "white",
             "minorgridcolor": "white",
             "startlinecolor": "#2a3f5f"
            },
            "type": "carpet"
           }
          ],
          "choropleth": [
           {
            "colorbar": {
             "outlinewidth": 0,
             "ticks": ""
            },
            "type": "choropleth"
           }
          ],
          "contour": [
           {
            "colorbar": {
             "outlinewidth": 0,
             "ticks": ""
            },
            "colorscale": [
             [
              0,
              "#0d0887"
             ],
             [
              0.1111111111111111,
              "#46039f"
             ],
             [
              0.2222222222222222,
              "#7201a8"
             ],
             [
              0.3333333333333333,
              "#9c179e"
             ],
             [
              0.4444444444444444,
              "#bd3786"
             ],
             [
              0.5555555555555556,
              "#d8576b"
             ],
             [
              0.6666666666666666,
              "#ed7953"
             ],
             [
              0.7777777777777778,
              "#fb9f3a"
             ],
             [
              0.8888888888888888,
              "#fdca26"
             ],
             [
              1,
              "#f0f921"
             ]
            ],
            "type": "contour"
           }
          ],
          "contourcarpet": [
           {
            "colorbar": {
             "outlinewidth": 0,
             "ticks": ""
            },
            "type": "contourcarpet"
           }
          ],
          "heatmap": [
           {
            "colorbar": {
             "outlinewidth": 0,
             "ticks": ""
            },
            "colorscale": [
             [
              0,
              "#0d0887"
             ],
             [
              0.1111111111111111,
              "#46039f"
             ],
             [
              0.2222222222222222,
              "#7201a8"
             ],
             [
              0.3333333333333333,
              "#9c179e"
             ],
             [
              0.4444444444444444,
              "#bd3786"
             ],
             [
              0.5555555555555556,
              "#d8576b"
             ],
             [
              0.6666666666666666,
              "#ed7953"
             ],
             [
              0.7777777777777778,
              "#fb9f3a"
             ],
             [
              0.8888888888888888,
              "#fdca26"
             ],
             [
              1,
              "#f0f921"
             ]
            ],
            "type": "heatmap"
           }
          ],
          "heatmapgl": [
           {
            "colorbar": {
             "outlinewidth": 0,
             "ticks": ""
            },
            "colorscale": [
             [
              0,
              "#0d0887"
             ],
             [
              0.1111111111111111,
              "#46039f"
             ],
             [
              0.2222222222222222,
              "#7201a8"
             ],
             [
              0.3333333333333333,
              "#9c179e"
             ],
             [
              0.4444444444444444,
              "#bd3786"
             ],
             [
              0.5555555555555556,
              "#d8576b"
             ],
             [
              0.6666666666666666,
              "#ed7953"
             ],
             [
              0.7777777777777778,
              "#fb9f3a"
             ],
             [
              0.8888888888888888,
              "#fdca26"
             ],
             [
              1,
              "#f0f921"
             ]
            ],
            "type": "heatmapgl"
           }
          ],
          "histogram": [
           {
            "marker": {
             "pattern": {
              "fillmode": "overlay",
              "size": 10,
              "solidity": 0.2
             }
            },
            "type": "histogram"
           }
          ],
          "histogram2d": [
           {
            "colorbar": {
             "outlinewidth": 0,
             "ticks": ""
            },
            "colorscale": [
             [
              0,
              "#0d0887"
             ],
             [
              0.1111111111111111,
              "#46039f"
             ],
             [
              0.2222222222222222,
              "#7201a8"
             ],
             [
              0.3333333333333333,
              "#9c179e"
             ],
             [
              0.4444444444444444,
              "#bd3786"
             ],
             [
              0.5555555555555556,
              "#d8576b"
             ],
             [
              0.6666666666666666,
              "#ed7953"
             ],
             [
              0.7777777777777778,
              "#fb9f3a"
             ],
             [
              0.8888888888888888,
              "#fdca26"
             ],
             [
              1,
              "#f0f921"
             ]
            ],
            "type": "histogram2d"
           }
          ],
          "histogram2dcontour": [
           {
            "colorbar": {
             "outlinewidth": 0,
             "ticks": ""
            },
            "colorscale": [
             [
              0,
              "#0d0887"
             ],
             [
              0.1111111111111111,
              "#46039f"
             ],
             [
              0.2222222222222222,
              "#7201a8"
             ],
             [
              0.3333333333333333,
              "#9c179e"
             ],
             [
              0.4444444444444444,
              "#bd3786"
             ],
             [
              0.5555555555555556,
              "#d8576b"
             ],
             [
              0.6666666666666666,
              "#ed7953"
             ],
             [
              0.7777777777777778,
              "#fb9f3a"
             ],
             [
              0.8888888888888888,
              "#fdca26"
             ],
             [
              1,
              "#f0f921"
             ]
            ],
            "type": "histogram2dcontour"
           }
          ],
          "mesh3d": [
           {
            "colorbar": {
             "outlinewidth": 0,
             "ticks": ""
            },
            "type": "mesh3d"
           }
          ],
          "parcoords": [
           {
            "line": {
             "colorbar": {
              "outlinewidth": 0,
              "ticks": ""
             }
            },
            "type": "parcoords"
           }
          ],
          "pie": [
           {
            "automargin": true,
            "type": "pie"
           }
          ],
          "scatter": [
           {
            "fillpattern": {
             "fillmode": "overlay",
             "size": 10,
             "solidity": 0.2
            },
            "type": "scatter"
           }
          ],
          "scatter3d": [
           {
            "line": {
             "colorbar": {
              "outlinewidth": 0,
              "ticks": ""
             }
            },
            "marker": {
             "colorbar": {
              "outlinewidth": 0,
              "ticks": ""
             }
            },
            "type": "scatter3d"
           }
          ],
          "scattercarpet": [
           {
            "marker": {
             "colorbar": {
              "outlinewidth": 0,
              "ticks": ""
             }
            },
            "type": "scattercarpet"
           }
          ],
          "scattergeo": [
           {
            "marker": {
             "colorbar": {
              "outlinewidth": 0,
              "ticks": ""
             }
            },
            "type": "scattergeo"
           }
          ],
          "scattergl": [
           {
            "marker": {
             "colorbar": {
              "outlinewidth": 0,
              "ticks": ""
             }
            },
            "type": "scattergl"
           }
          ],
          "scattermapbox": [
           {
            "marker": {
             "colorbar": {
              "outlinewidth": 0,
              "ticks": ""
             }
            },
            "type": "scattermapbox"
           }
          ],
          "scatterpolar": [
           {
            "marker": {
             "colorbar": {
              "outlinewidth": 0,
              "ticks": ""
             }
            },
            "type": "scatterpolar"
           }
          ],
          "scatterpolargl": [
           {
            "marker": {
             "colorbar": {
              "outlinewidth": 0,
              "ticks": ""
             }
            },
            "type": "scatterpolargl"
           }
          ],
          "scatterternary": [
           {
            "marker": {
             "colorbar": {
              "outlinewidth": 0,
              "ticks": ""
             }
            },
            "type": "scatterternary"
           }
          ],
          "surface": [
           {
            "colorbar": {
             "outlinewidth": 0,
             "ticks": ""
            },
            "colorscale": [
             [
              0,
              "#0d0887"
             ],
             [
              0.1111111111111111,
              "#46039f"
             ],
             [
              0.2222222222222222,
              "#7201a8"
             ],
             [
              0.3333333333333333,
              "#9c179e"
             ],
             [
              0.4444444444444444,
              "#bd3786"
             ],
             [
              0.5555555555555556,
              "#d8576b"
             ],
             [
              0.6666666666666666,
              "#ed7953"
             ],
             [
              0.7777777777777778,
              "#fb9f3a"
             ],
             [
              0.8888888888888888,
              "#fdca26"
             ],
             [
              1,
              "#f0f921"
             ]
            ],
            "type": "surface"
           }
          ],
          "table": [
           {
            "cells": {
             "fill": {
              "color": "#EBF0F8"
             },
             "line": {
              "color": "white"
             }
            },
            "header": {
             "fill": {
              "color": "#C8D4E3"
             },
             "line": {
              "color": "white"
             }
            },
            "type": "table"
           }
          ]
         },
         "layout": {
          "annotationdefaults": {
           "arrowcolor": "#2a3f5f",
           "arrowhead": 0,
           "arrowwidth": 1
          },
          "autotypenumbers": "strict",
          "coloraxis": {
           "colorbar": {
            "outlinewidth": 0,
            "ticks": ""
           }
          },
          "colorscale": {
           "diverging": [
            [
             0,
             "#8e0152"
            ],
            [
             0.1,
             "#c51b7d"
            ],
            [
             0.2,
             "#de77ae"
            ],
            [
             0.3,
             "#f1b6da"
            ],
            [
             0.4,
             "#fde0ef"
            ],
            [
             0.5,
             "#f7f7f7"
            ],
            [
             0.6,
             "#e6f5d0"
            ],
            [
             0.7,
             "#b8e186"
            ],
            [
             0.8,
             "#7fbc41"
            ],
            [
             0.9,
             "#4d9221"
            ],
            [
             1,
             "#276419"
            ]
           ],
           "sequential": [
            [
             0,
             "#0d0887"
            ],
            [
             0.1111111111111111,
             "#46039f"
            ],
            [
             0.2222222222222222,
             "#7201a8"
            ],
            [
             0.3333333333333333,
             "#9c179e"
            ],
            [
             0.4444444444444444,
             "#bd3786"
            ],
            [
             0.5555555555555556,
             "#d8576b"
            ],
            [
             0.6666666666666666,
             "#ed7953"
            ],
            [
             0.7777777777777778,
             "#fb9f3a"
            ],
            [
             0.8888888888888888,
             "#fdca26"
            ],
            [
             1,
             "#f0f921"
            ]
           ],
           "sequentialminus": [
            [
             0,
             "#0d0887"
            ],
            [
             0.1111111111111111,
             "#46039f"
            ],
            [
             0.2222222222222222,
             "#7201a8"
            ],
            [
             0.3333333333333333,
             "#9c179e"
            ],
            [
             0.4444444444444444,
             "#bd3786"
            ],
            [
             0.5555555555555556,
             "#d8576b"
            ],
            [
             0.6666666666666666,
             "#ed7953"
            ],
            [
             0.7777777777777778,
             "#fb9f3a"
            ],
            [
             0.8888888888888888,
             "#fdca26"
            ],
            [
             1,
             "#f0f921"
            ]
           ]
          },
          "colorway": [
           "#636efa",
           "#EF553B",
           "#00cc96",
           "#ab63fa",
           "#FFA15A",
           "#19d3f3",
           "#FF6692",
           "#B6E880",
           "#FF97FF",
           "#FECB52"
          ],
          "font": {
           "color": "#2a3f5f"
          },
          "geo": {
           "bgcolor": "white",
           "lakecolor": "white",
           "landcolor": "#E5ECF6",
           "showlakes": true,
           "showland": true,
           "subunitcolor": "white"
          },
          "hoverlabel": {
           "align": "left"
          },
          "hovermode": "closest",
          "mapbox": {
           "style": "light"
          },
          "paper_bgcolor": "white",
          "plot_bgcolor": "#E5ECF6",
          "polar": {
           "angularaxis": {
            "gridcolor": "white",
            "linecolor": "white",
            "ticks": ""
           },
           "bgcolor": "#E5ECF6",
           "radialaxis": {
            "gridcolor": "white",
            "linecolor": "white",
            "ticks": ""
           }
          },
          "scene": {
           "xaxis": {
            "backgroundcolor": "#E5ECF6",
            "gridcolor": "white",
            "gridwidth": 2,
            "linecolor": "white",
            "showbackground": true,
            "ticks": "",
            "zerolinecolor": "white"
           },
           "yaxis": {
            "backgroundcolor": "#E5ECF6",
            "gridcolor": "white",
            "gridwidth": 2,
            "linecolor": "white",
            "showbackground": true,
            "ticks": "",
            "zerolinecolor": "white"
           },
           "zaxis": {
            "backgroundcolor": "#E5ECF6",
            "gridcolor": "white",
            "gridwidth": 2,
            "linecolor": "white",
            "showbackground": true,
            "ticks": "",
            "zerolinecolor": "white"
           }
          },
          "shapedefaults": {
           "line": {
            "color": "#2a3f5f"
           }
          },
          "ternary": {
           "aaxis": {
            "gridcolor": "white",
            "linecolor": "white",
            "ticks": ""
           },
           "baxis": {
            "gridcolor": "white",
            "linecolor": "white",
            "ticks": ""
           },
           "bgcolor": "#E5ECF6",
           "caxis": {
            "gridcolor": "white",
            "linecolor": "white",
            "ticks": ""
           }
          },
          "title": {
           "x": 0.05
          },
          "xaxis": {
           "automargin": true,
           "gridcolor": "white",
           "linecolor": "white",
           "ticks": "",
           "title": {
            "standoff": 15
           },
           "zerolinecolor": "white",
           "zerolinewidth": 2
          },
          "yaxis": {
           "automargin": true,
           "gridcolor": "white",
           "linecolor": "white",
           "ticks": "",
           "title": {
            "standoff": 15
           },
           "zerolinecolor": "white",
           "zerolinewidth": 2
          }
         }
        },
        "xaxis": {
         "anchor": "y",
         "domain": [
          0,
          0.425
         ]
        },
        "xaxis2": {
         "anchor": "y2",
         "domain": [
          0.575,
          1
         ]
        },
        "yaxis": {
         "anchor": "x",
         "domain": [
          0,
          1
         ],
         "title": {
          "text": "Signal (a.u.)"
         }
        },
        "yaxis2": {
         "anchor": "x2",
         "domain": [
          0,
          1
         ],
         "title": {
          "text": "Residuals (%)"
         }
        }
       }
      }
     },
     "metadata": {},
     "output_type": "display_data"
    }
   ],
   "source": [
    "standard.visualize()"
   ]
  },
  {
   "attachments": {},
   "cell_type": "markdown",
   "metadata": {},
   "source": [
    "# .from_excel"
   ]
  },
  {
   "cell_type": "code",
   "execution_count": 8,
   "metadata": {},
   "outputs": [],
   "source": [
    "from CaliPytion.core.calibration import Calibration"
   ]
  },
  {
   "cell_type": "code",
   "execution_count": 9,
   "metadata": {},
   "outputs": [],
   "source": [
    "path = \"/Users/max/Documents/enzymeml/glucosidase_inhibition/round2/data/p-NP_standard.xlsx\"\n",
    "standard = Calibration.from_excel(\n",
    "    path=path,\n",
    "    reactant_id=\"s1\",\n",
    "    wavelength=340,\n",
    "    concentration_unit=\"mmole / l\",\n",
    "    temperature=37,\n",
    "    temperature_unit=\"C\",\n",
    "    pH=7,\n",
    "    sheet_name=\"csv\",\n",
    ")"
   ]
  },
  {
   "cell_type": "code",
   "execution_count": 14,
   "metadata": {},
   "outputs": [
    {
     "name": "stdout",
     "output_type": "stream",
     "text": [
      "Found calibration data at 340.0 nm\n",
      "Standard deviation among blank measurements exceeds 5% (8.0%)\n",
      "Standard curve data was blanked.\n"
     ]
    },
    {
     "data": {
      "application/vnd.plotly.v1+json": {
       "config": {
        "plotlyServerURL": "https://plot.ly",
        "toImageButtonOptions": {
         "filename": "custom_image",
         "format": "svg",
         "scale": 1
        }
       },
       "data": [
        {
         "hoverinfo": "skip",
         "marker": {
          "color": "#1f77b4"
         },
         "mode": "markers",
         "name": "s1 Standard",
         "type": "scatter",
         "visible": true,
         "x": [
          0,
          0.001,
          0.005,
          0.01,
          0.05,
          0.1,
          0.25,
          0.5,
          0,
          0.001,
          0.005,
          0.01,
          0.05,
          0.1,
          0.25,
          0.5
         ],
         "xaxis": "x",
         "y": [
          0.003500000000000003,
          0.003500000000000003,
          0.0315,
          0.0675,
          0.35950000000000004,
          0.7095,
          1.7325,
          3.1765000000000003,
          -0.003499999999999996,
          0.0075,
          0.0325,
          0.0675,
          0.35450000000000004,
          0.7265,
          1.7425,
          3.2285
         ],
         "yaxis": "y"
        },
        {
         "hoverinfo": "skip",
         "marker": {
          "color": "#1f77b4"
         },
         "mode": "lines",
         "name": "3rd degree polynominal",
         "type": "scatter",
         "visible": true,
         "x": [
          0,
          0.006329113924050633,
          0.012658227848101266,
          0.0189873417721519,
          0.02531645569620253,
          0.03164556962025317,
          0.0379746835443038,
          0.04430379746835443,
          0.05063291139240506,
          0.056962025316455694,
          0.06329113924050633,
          0.06962025316455696,
          0.0759493670886076,
          0.08227848101265822,
          0.08860759493670886,
          0.09493670886075949,
          0.10126582278481013,
          0.10759493670886076,
          0.11392405063291139,
          0.12025316455696203,
          0.12658227848101267,
          0.13291139240506328,
          0.13924050632911392,
          0.14556962025316456,
          0.1518987341772152,
          0.15822784810126583,
          0.16455696202531644,
          0.17088607594936708,
          0.17721518987341772,
          0.18354430379746836,
          0.18987341772151897,
          0.1962025316455696,
          0.20253164556962025,
          0.2088607594936709,
          0.21518987341772153,
          0.22151898734177214,
          0.22784810126582278,
          0.23417721518987342,
          0.24050632911392406,
          0.24683544303797467,
          0.25316455696202533,
          0.25949367088607594,
          0.26582278481012656,
          0.2721518987341772,
          0.27848101265822783,
          0.2848101265822785,
          0.2911392405063291,
          0.2974683544303797,
          0.3037974683544304,
          0.310126582278481,
          0.31645569620253167,
          0.3227848101265823,
          0.3291139240506329,
          0.33544303797468356,
          0.34177215189873417,
          0.3481012658227848,
          0.35443037974683544,
          0.36075949367088606,
          0.3670886075949367,
          0.37341772151898733,
          0.37974683544303794,
          0.3860759493670886,
          0.3924050632911392,
          0.3987341772151899,
          0.4050632911392405,
          0.4113924050632911,
          0.4177215189873418,
          0.4240506329113924,
          0.43037974683544306,
          0.43670886075949367,
          0.4430379746835443,
          0.44936708860759494,
          0.45569620253164556,
          0.4620253164556962,
          0.46835443037974683,
          0.47468354430379744,
          0.4810126582278481,
          0.4873417721518987,
          0.49367088607594933,
          0.5
         ],
         "xaxis": "x",
         "y": [
          0,
          0.04568646520234419,
          0.09132783484867865,
          0.13692072185774742,
          0.18246173914829453,
          0.22794749963906402,
          0.2733746162487999,
          0.3187397018962462,
          0.3640393695001469,
          0.40927023197924617,
          0.45442890225228794,
          0.4995119932380162,
          0.5445161178551752,
          0.5894378890225086,
          0.6342739196587608,
          0.6790208226826756,
          0.7236752110129971,
          0.7682336975684695,
          0.8126928952678365,
          0.8570494170298424,
          0.9012998757732311,
          0.9454408844167466,
          0.9894690558791331,
          1.0333810030791344,
          1.077173338935495,
          1.1208426763669583,
          1.1643856282922684,
          1.2077988076301698,
          1.2510788272994064,
          1.294222300218722,
          1.3372258393068606,
          1.3800860574825666,
          1.4227995676645837,
          1.4653629827716563,
          1.507772915722528,
          1.5500259794359428,
          1.5921187868306452,
          1.6340479508253787,
          1.675810084338888,
          1.717401800289916,
          1.7588197115972084,
          1.8000604311795076,
          1.8411205719555583,
          1.881996746844105,
          1.922685568763891,
          1.9631836506336608,
          2.003487605372158,
          2.0435940458981268,
          2.083499585130312,
          2.1232008359874563,
          2.162694411388305,
          2.2019769242516007,
          2.2410449874960885,
          2.279895214040512,
          2.318524216803616,
          2.356928608704143,
          2.3951050026608387,
          2.4330500115924463,
          2.4707602484177102,
          2.5082323260553734,
          2.545462857424181,
          2.582448455442877,
          2.619185733030205,
          2.655671303104909,
          2.6919017785857333,
          2.7278737723914217,
          2.7635838974407188,
          2.7990287666523677,
          2.834204992945113,
          2.8691091892376988,
          2.903737968448869,
          2.9380879434973677,
          2.9721557273019386,
          3.0059379327813263,
          3.0394311728542744,
          3.0726320604395267,
          3.105537208455828,
          3.138143229821922,
          3.1704467374565524,
          3.202444344278464
         ],
         "yaxis": "y"
        },
        {
         "hoverinfo": "skip",
         "marker": {
          "color": "#d62728"
         },
         "mode": "markers",
         "name": "Residuals",
         "type": "scatter",
         "visible": true,
         "x": [
          0,
          0.001,
          0.005,
          0.01,
          0.05,
          0.1,
          0.25,
          0.5,
          0,
          0.001,
          0.005,
          0.01,
          0.05,
          0.1,
          0.25,
          0.5
         ],
         "xaxis": "x2",
         "y": [
          0,
          51.53242583069737,
          12.73255529565131,
          6.463276085723598,
          0.003461099545103409,
          0.7347860318541861,
          0.32406577694503,
          0.8101419256455165,
          0,
          -3.859087505648393,
          9.962160225671985,
          6.463276085723598,
          1.394233546004839,
          -1.6436616601239395,
          -0.2512642907205115,
          -0.8136177532042845
         ],
         "yaxis": "y2"
        }
       ],
       "layout": {
        "annotations": [
         {
          "font": {
           "size": 16
          },
          "showarrow": false,
          "text": "Standard Curve",
          "x": 0.2125,
          "xanchor": "center",
          "xref": "paper",
          "y": 1,
          "yanchor": "bottom",
          "yref": "paper"
         },
         {
          "font": {
           "size": 16
          },
          "showarrow": false,
          "text": "Residuals",
          "x": 0.7875,
          "xanchor": "center",
          "xref": "paper",
          "y": 1,
          "yanchor": "bottom",
          "yref": "paper"
         },
         {
          "font": {
           "size": 16
          },
          "showarrow": false,
          "text": "s1 concentration (mmol L<sup>-1</sup>)",
          "x": 0.5,
          "xanchor": "center",
          "xref": "paper",
          "y": 0,
          "yanchor": "top",
          "yref": "paper",
          "yshift": -30
         }
        ],
        "shapes": [
         {
          "line": {
           "color": "#000000",
           "dash": "dot",
           "width": 2
          },
          "type": "line",
          "x0": 0,
          "x1": 1,
          "xref": "x2 domain",
          "y0": 0,
          "y1": 0,
          "yref": "y2"
         }
        ],
        "template": {
         "data": {
          "bar": [
           {
            "error_x": {
             "color": "#2a3f5f"
            },
            "error_y": {
             "color": "#2a3f5f"
            },
            "marker": {
             "line": {
              "color": "#E5ECF6",
              "width": 0.5
             },
             "pattern": {
              "fillmode": "overlay",
              "size": 10,
              "solidity": 0.2
             }
            },
            "type": "bar"
           }
          ],
          "barpolar": [
           {
            "marker": {
             "line": {
              "color": "#E5ECF6",
              "width": 0.5
             },
             "pattern": {
              "fillmode": "overlay",
              "size": 10,
              "solidity": 0.2
             }
            },
            "type": "barpolar"
           }
          ],
          "carpet": [
           {
            "aaxis": {
             "endlinecolor": "#2a3f5f",
             "gridcolor": "white",
             "linecolor": "white",
             "minorgridcolor": "white",
             "startlinecolor": "#2a3f5f"
            },
            "baxis": {
             "endlinecolor": "#2a3f5f",
             "gridcolor": "white",
             "linecolor": "white",
             "minorgridcolor": "white",
             "startlinecolor": "#2a3f5f"
            },
            "type": "carpet"
           }
          ],
          "choropleth": [
           {
            "colorbar": {
             "outlinewidth": 0,
             "ticks": ""
            },
            "type": "choropleth"
           }
          ],
          "contour": [
           {
            "colorbar": {
             "outlinewidth": 0,
             "ticks": ""
            },
            "colorscale": [
             [
              0,
              "#0d0887"
             ],
             [
              0.1111111111111111,
              "#46039f"
             ],
             [
              0.2222222222222222,
              "#7201a8"
             ],
             [
              0.3333333333333333,
              "#9c179e"
             ],
             [
              0.4444444444444444,
              "#bd3786"
             ],
             [
              0.5555555555555556,
              "#d8576b"
             ],
             [
              0.6666666666666666,
              "#ed7953"
             ],
             [
              0.7777777777777778,
              "#fb9f3a"
             ],
             [
              0.8888888888888888,
              "#fdca26"
             ],
             [
              1,
              "#f0f921"
             ]
            ],
            "type": "contour"
           }
          ],
          "contourcarpet": [
           {
            "colorbar": {
             "outlinewidth": 0,
             "ticks": ""
            },
            "type": "contourcarpet"
           }
          ],
          "heatmap": [
           {
            "colorbar": {
             "outlinewidth": 0,
             "ticks": ""
            },
            "colorscale": [
             [
              0,
              "#0d0887"
             ],
             [
              0.1111111111111111,
              "#46039f"
             ],
             [
              0.2222222222222222,
              "#7201a8"
             ],
             [
              0.3333333333333333,
              "#9c179e"
             ],
             [
              0.4444444444444444,
              "#bd3786"
             ],
             [
              0.5555555555555556,
              "#d8576b"
             ],
             [
              0.6666666666666666,
              "#ed7953"
             ],
             [
              0.7777777777777778,
              "#fb9f3a"
             ],
             [
              0.8888888888888888,
              "#fdca26"
             ],
             [
              1,
              "#f0f921"
             ]
            ],
            "type": "heatmap"
           }
          ],
          "heatmapgl": [
           {
            "colorbar": {
             "outlinewidth": 0,
             "ticks": ""
            },
            "colorscale": [
             [
              0,
              "#0d0887"
             ],
             [
              0.1111111111111111,
              "#46039f"
             ],
             [
              0.2222222222222222,
              "#7201a8"
             ],
             [
              0.3333333333333333,
              "#9c179e"
             ],
             [
              0.4444444444444444,
              "#bd3786"
             ],
             [
              0.5555555555555556,
              "#d8576b"
             ],
             [
              0.6666666666666666,
              "#ed7953"
             ],
             [
              0.7777777777777778,
              "#fb9f3a"
             ],
             [
              0.8888888888888888,
              "#fdca26"
             ],
             [
              1,
              "#f0f921"
             ]
            ],
            "type": "heatmapgl"
           }
          ],
          "histogram": [
           {
            "marker": {
             "pattern": {
              "fillmode": "overlay",
              "size": 10,
              "solidity": 0.2
             }
            },
            "type": "histogram"
           }
          ],
          "histogram2d": [
           {
            "colorbar": {
             "outlinewidth": 0,
             "ticks": ""
            },
            "colorscale": [
             [
              0,
              "#0d0887"
             ],
             [
              0.1111111111111111,
              "#46039f"
             ],
             [
              0.2222222222222222,
              "#7201a8"
             ],
             [
              0.3333333333333333,
              "#9c179e"
             ],
             [
              0.4444444444444444,
              "#bd3786"
             ],
             [
              0.5555555555555556,
              "#d8576b"
             ],
             [
              0.6666666666666666,
              "#ed7953"
             ],
             [
              0.7777777777777778,
              "#fb9f3a"
             ],
             [
              0.8888888888888888,
              "#fdca26"
             ],
             [
              1,
              "#f0f921"
             ]
            ],
            "type": "histogram2d"
           }
          ],
          "histogram2dcontour": [
           {
            "colorbar": {
             "outlinewidth": 0,
             "ticks": ""
            },
            "colorscale": [
             [
              0,
              "#0d0887"
             ],
             [
              0.1111111111111111,
              "#46039f"
             ],
             [
              0.2222222222222222,
              "#7201a8"
             ],
             [
              0.3333333333333333,
              "#9c179e"
             ],
             [
              0.4444444444444444,
              "#bd3786"
             ],
             [
              0.5555555555555556,
              "#d8576b"
             ],
             [
              0.6666666666666666,
              "#ed7953"
             ],
             [
              0.7777777777777778,
              "#fb9f3a"
             ],
             [
              0.8888888888888888,
              "#fdca26"
             ],
             [
              1,
              "#f0f921"
             ]
            ],
            "type": "histogram2dcontour"
           }
          ],
          "mesh3d": [
           {
            "colorbar": {
             "outlinewidth": 0,
             "ticks": ""
            },
            "type": "mesh3d"
           }
          ],
          "parcoords": [
           {
            "line": {
             "colorbar": {
              "outlinewidth": 0,
              "ticks": ""
             }
            },
            "type": "parcoords"
           }
          ],
          "pie": [
           {
            "automargin": true,
            "type": "pie"
           }
          ],
          "scatter": [
           {
            "fillpattern": {
             "fillmode": "overlay",
             "size": 10,
             "solidity": 0.2
            },
            "type": "scatter"
           }
          ],
          "scatter3d": [
           {
            "line": {
             "colorbar": {
              "outlinewidth": 0,
              "ticks": ""
             }
            },
            "marker": {
             "colorbar": {
              "outlinewidth": 0,
              "ticks": ""
             }
            },
            "type": "scatter3d"
           }
          ],
          "scattercarpet": [
           {
            "marker": {
             "colorbar": {
              "outlinewidth": 0,
              "ticks": ""
             }
            },
            "type": "scattercarpet"
           }
          ],
          "scattergeo": [
           {
            "marker": {
             "colorbar": {
              "outlinewidth": 0,
              "ticks": ""
             }
            },
            "type": "scattergeo"
           }
          ],
          "scattergl": [
           {
            "marker": {
             "colorbar": {
              "outlinewidth": 0,
              "ticks": ""
             }
            },
            "type": "scattergl"
           }
          ],
          "scattermapbox": [
           {
            "marker": {
             "colorbar": {
              "outlinewidth": 0,
              "ticks": ""
             }
            },
            "type": "scattermapbox"
           }
          ],
          "scatterpolar": [
           {
            "marker": {
             "colorbar": {
              "outlinewidth": 0,
              "ticks": ""
             }
            },
            "type": "scatterpolar"
           }
          ],
          "scatterpolargl": [
           {
            "marker": {
             "colorbar": {
              "outlinewidth": 0,
              "ticks": ""
             }
            },
            "type": "scatterpolargl"
           }
          ],
          "scatterternary": [
           {
            "marker": {
             "colorbar": {
              "outlinewidth": 0,
              "ticks": ""
             }
            },
            "type": "scatterternary"
           }
          ],
          "surface": [
           {
            "colorbar": {
             "outlinewidth": 0,
             "ticks": ""
            },
            "colorscale": [
             [
              0,
              "#0d0887"
             ],
             [
              0.1111111111111111,
              "#46039f"
             ],
             [
              0.2222222222222222,
              "#7201a8"
             ],
             [
              0.3333333333333333,
              "#9c179e"
             ],
             [
              0.4444444444444444,
              "#bd3786"
             ],
             [
              0.5555555555555556,
              "#d8576b"
             ],
             [
              0.6666666666666666,
              "#ed7953"
             ],
             [
              0.7777777777777778,
              "#fb9f3a"
             ],
             [
              0.8888888888888888,
              "#fdca26"
             ],
             [
              1,
              "#f0f921"
             ]
            ],
            "type": "surface"
           }
          ],
          "table": [
           {
            "cells": {
             "fill": {
              "color": "#EBF0F8"
             },
             "line": {
              "color": "white"
             }
            },
            "header": {
             "fill": {
              "color": "#C8D4E3"
             },
             "line": {
              "color": "white"
             }
            },
            "type": "table"
           }
          ]
         },
         "layout": {
          "annotationdefaults": {
           "arrowcolor": "#2a3f5f",
           "arrowhead": 0,
           "arrowwidth": 1
          },
          "autotypenumbers": "strict",
          "coloraxis": {
           "colorbar": {
            "outlinewidth": 0,
            "ticks": ""
           }
          },
          "colorscale": {
           "diverging": [
            [
             0,
             "#8e0152"
            ],
            [
             0.1,
             "#c51b7d"
            ],
            [
             0.2,
             "#de77ae"
            ],
            [
             0.3,
             "#f1b6da"
            ],
            [
             0.4,
             "#fde0ef"
            ],
            [
             0.5,
             "#f7f7f7"
            ],
            [
             0.6,
             "#e6f5d0"
            ],
            [
             0.7,
             "#b8e186"
            ],
            [
             0.8,
             "#7fbc41"
            ],
            [
             0.9,
             "#4d9221"
            ],
            [
             1,
             "#276419"
            ]
           ],
           "sequential": [
            [
             0,
             "#0d0887"
            ],
            [
             0.1111111111111111,
             "#46039f"
            ],
            [
             0.2222222222222222,
             "#7201a8"
            ],
            [
             0.3333333333333333,
             "#9c179e"
            ],
            [
             0.4444444444444444,
             "#bd3786"
            ],
            [
             0.5555555555555556,
             "#d8576b"
            ],
            [
             0.6666666666666666,
             "#ed7953"
            ],
            [
             0.7777777777777778,
             "#fb9f3a"
            ],
            [
             0.8888888888888888,
             "#fdca26"
            ],
            [
             1,
             "#f0f921"
            ]
           ],
           "sequentialminus": [
            [
             0,
             "#0d0887"
            ],
            [
             0.1111111111111111,
             "#46039f"
            ],
            [
             0.2222222222222222,
             "#7201a8"
            ],
            [
             0.3333333333333333,
             "#9c179e"
            ],
            [
             0.4444444444444444,
             "#bd3786"
            ],
            [
             0.5555555555555556,
             "#d8576b"
            ],
            [
             0.6666666666666666,
             "#ed7953"
            ],
            [
             0.7777777777777778,
             "#fb9f3a"
            ],
            [
             0.8888888888888888,
             "#fdca26"
            ],
            [
             1,
             "#f0f921"
            ]
           ]
          },
          "colorway": [
           "#636efa",
           "#EF553B",
           "#00cc96",
           "#ab63fa",
           "#FFA15A",
           "#19d3f3",
           "#FF6692",
           "#B6E880",
           "#FF97FF",
           "#FECB52"
          ],
          "font": {
           "color": "#2a3f5f"
          },
          "geo": {
           "bgcolor": "white",
           "lakecolor": "white",
           "landcolor": "#E5ECF6",
           "showlakes": true,
           "showland": true,
           "subunitcolor": "white"
          },
          "hoverlabel": {
           "align": "left"
          },
          "hovermode": "closest",
          "mapbox": {
           "style": "light"
          },
          "paper_bgcolor": "white",
          "plot_bgcolor": "#E5ECF6",
          "polar": {
           "angularaxis": {
            "gridcolor": "white",
            "linecolor": "white",
            "ticks": ""
           },
           "bgcolor": "#E5ECF6",
           "radialaxis": {
            "gridcolor": "white",
            "linecolor": "white",
            "ticks": ""
           }
          },
          "scene": {
           "xaxis": {
            "backgroundcolor": "#E5ECF6",
            "gridcolor": "white",
            "gridwidth": 2,
            "linecolor": "white",
            "showbackground": true,
            "ticks": "",
            "zerolinecolor": "white"
           },
           "yaxis": {
            "backgroundcolor": "#E5ECF6",
            "gridcolor": "white",
            "gridwidth": 2,
            "linecolor": "white",
            "showbackground": true,
            "ticks": "",
            "zerolinecolor": "white"
           },
           "zaxis": {
            "backgroundcolor": "#E5ECF6",
            "gridcolor": "white",
            "gridwidth": 2,
            "linecolor": "white",
            "showbackground": true,
            "ticks": "",
            "zerolinecolor": "white"
           }
          },
          "shapedefaults": {
           "line": {
            "color": "#2a3f5f"
           }
          },
          "ternary": {
           "aaxis": {
            "gridcolor": "white",
            "linecolor": "white",
            "ticks": ""
           },
           "baxis": {
            "gridcolor": "white",
            "linecolor": "white",
            "ticks": ""
           },
           "bgcolor": "#E5ECF6",
           "caxis": {
            "gridcolor": "white",
            "linecolor": "white",
            "ticks": ""
           }
          },
          "title": {
           "x": 0.05
          },
          "xaxis": {
           "automargin": true,
           "gridcolor": "white",
           "linecolor": "white",
           "ticks": "",
           "title": {
            "standoff": 15
           },
           "zerolinecolor": "white",
           "zerolinewidth": 2
          },
          "yaxis": {
           "automargin": true,
           "gridcolor": "white",
           "linecolor": "white",
           "ticks": "",
           "title": {
            "standoff": 15
           },
           "zerolinecolor": "white",
           "zerolinewidth": 2
          }
         }
        },
        "xaxis": {
         "anchor": "y",
         "domain": [
          0,
          0.425
         ]
        },
        "xaxis2": {
         "anchor": "y2",
         "domain": [
          0.575,
          1
         ]
        },
        "yaxis": {
         "anchor": "x",
         "domain": [
          0,
          1
         ],
         "title": {
          "text": "Signal (a.u.)"
         }
        },
        "yaxis2": {
         "anchor": "x2",
         "domain": [
          0,
          1
         ],
         "title": {
          "text": "Residuals (%)"
         }
        }
       }
      }
     },
     "metadata": {},
     "output_type": "display_data"
    }
   ],
   "source": [
    "cal = Calibration.from_excel(\n",
    "    path=path,\n",
    "    reactant_id=\"s1\",\n",
    "    wavelength=340,\n",
    "    concentration_unit=\"mmole / l\",\n",
    "    temperature=37,\n",
    "    temperature_unit=\"C\",\n",
    "    pH=7,\n",
    "    sheet_name=\"csv\",\n",
    ")\n",
    "\n",
    "stand = StandardCurve.from_datamodel(cal, cutoff_signal=3.3)\n",
    "stand.visualize()"
   ]
  },
  {
   "cell_type": "code",
   "execution_count": 11,
   "metadata": {},
   "outputs": [
    {
     "data": {
      "text/plain": [
       "Result(id='result0', concentration=[0.05566404219598898, 0.08376833577273778, 0.1407568074112227, 0.46090892723844296], calibration_model=Model(id='model0', name='3rd degree polynominal', equation='signal = a*concentration**3 + b*concentration**2 + c*concentration', parameters=[Parameter(id='parameter0', name='a', value=-2.2266175404821187), Parameter(id='parameter1', name='c', value=7.22184566461567), Parameter(id='parameter2', name='b', value=-0.5206051818764259)]))"
      ]
     },
     "execution_count": 11,
     "metadata": {},
     "output_type": "execute_result"
    }
   ],
   "source": [
    "stand.calculate_concentration(np.array([0.4, 0.6, 1, 3]))"
   ]
  }
 ],
 "metadata": {
  "kernelspec": {
   "display_name": "calipytion",
   "language": "python",
   "name": "python3"
  },
  "language_info": {
   "codemirror_mode": {
    "name": "ipython",
    "version": 3
   },
   "file_extension": ".py",
   "mimetype": "text/x-python",
   "name": "python",
   "nbconvert_exporter": "python",
   "pygments_lexer": "ipython3",
   "version": "3.11.2"
  },
  "orig_nbformat": 4
 },
 "nbformat": 4,
 "nbformat_minor": 2
}
