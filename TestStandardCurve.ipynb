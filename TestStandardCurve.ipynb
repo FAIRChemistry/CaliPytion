{
 "cells": [
  {
   "cell_type": "code",
   "execution_count": 74,
   "metadata": {},
   "outputs": [],
   "source": [
    "%reload_ext autoreload\n",
    "%autoreload 2\n",
    "from CaliPytion.tools.standardcurve import StandardCurve"
   ]
  },
  {
   "cell_type": "code",
   "execution_count": 75,
   "metadata": {},
   "outputs": [],
   "source": [
    "import numpy as np\n",
    "import matplotlib.pyplot as plt"
   ]
  },
  {
   "cell_type": "code",
   "execution_count": 112,
   "metadata": {},
   "outputs": [],
   "source": [
    "f = lambda x, a: a * x\n",
    "concentrations = np.linspace(0, 10, 40)\n",
    "\n",
    "rand = lambda size: np.random.normal(1, 0.07, size)\n",
    "\n",
    "\n",
    "signals = f(concentrations, 0.5) + rand(len(concentrations))"
   ]
  },
  {
   "cell_type": "code",
   "execution_count": 113,
   "metadata": {},
   "outputs": [
    {
     "data": {
      "text/plain": [
       "<matplotlib.collections.PathCollection at 0x290c393d0>"
      ]
     },
     "execution_count": 113,
     "metadata": {},
     "output_type": "execute_result"
    },
    {
     "data": {
      "image/png": "[encoded data removed]",
      "text/plain": [
       "<Figure size 640x480 with 1 Axes>"
      ]
     },
     "metadata": {},
     "output_type": "display_data"
    }
   ],
   "source": [
    "plt.scatter(concentrations, signals)"
   ]
  },
  {
   "cell_type": "code",
   "execution_count": 114,
   "metadata": {},
   "outputs": [
    {
     "name": "stdout",
     "output_type": "stream",
     "text": [
      "Standard curve data was blanked.\n",
      "{'Quadratic': -212.86371364517103, '3rd degree polynominal': -211.1483139497681, 'Linear': -209.46165223832085, 'Rational': -207.4616469201905, 'Exponential': 5191.734718875792}\n"
     ]
    }
   ],
   "source": [
    "standard = StandardCurve(\n",
    "    concentrations=concentrations,\n",
    "    signals=signals,\n",
    "    conc_unit=\"mmol / l\",\n",
    "    analyte_name=\"ABTS\",\n",
    "    wavelength=420,\n",
    ")\n",
    "print(standard.result_dict)\n",
    "\n",
    "# standard.visualize()"
   ]
  },
  {
   "cell_type": "code",
   "execution_count": 131,
   "metadata": {},
   "outputs": [
    {
     "data": {
      "application/vnd.plotly.v1+json": {
       "config": {
        "plotlyServerURL": "https://plot.ly"
       },
       "data": [
        {
         "hoverinfo": "skip",
         "marker": {
          "color": "#1f77b4"
         },
         "mode": "markers",
         "name": "ABTS Standard",
         "type": "scatter",
         "visible": true,
         "x": [
          0,
          0.2564102564102564,
          0.5128205128205128,
          0.7692307692307692,
          1.0256410256410255,
          1.282051282051282,
          1.5384615384615383,
          1.7948717948717947,
          2.051282051282051,
          2.3076923076923075,
          2.564102564102564,
          2.8205128205128203,
          3.0769230769230766,
          3.333333333333333,
          3.5897435897435894,
          3.846153846153846,
          4.102564102564102,
          4.358974358974359,
          4.615384615384615,
          4.871794871794871,
          5.128205128205128,
          5.384615384615384,
          5.6410256410256405,
          5.897435897435897,
          6.153846153846153,
          6.41025641025641,
          6.666666666666666,
          6.9230769230769225,
          7.179487179487179,
          7.435897435897435,
          7.692307692307692,
          7.948717948717948,
          8.205128205128204,
          8.46153846153846,
          8.717948717948717,
          8.974358974358974,
          9.23076923076923,
          9.487179487179485,
          9.743589743589743,
          10
         ],
         "xaxis": "x",
         "y": [
          0,
          0.10029273588225918,
          0.2171219954606154,
          0.29234199822398343,
          0.514594594632475,
          0.5470661935529098,
          0.8428897469665053,
          0.7703990922814641,
          1.0319870781830338,
          1.0818696890737574,
          1.2450960412031797,
          1.2945028954371116,
          1.5050873569055043,
          1.6537516804755743,
          1.6841430427271202,
          2.0025521900801015,
          2.0403826393394735,
          2.124450099411423,
          2.305481250690133,
          2.467342560597566,
          2.573530839429732,
          2.6736827840784185,
          2.7814602650963747,
          2.6895770478772145,
          3.056489757885121,
          3.161023399704579,
          3.4131987704982336,
          3.4411844688378217,
          3.689254115577933,
          3.6876724222218407,
          3.8024753362904304,
          3.851997723443149,
          4.0323010548359655,
          4.264747713602316,
          4.354966214304461,
          4.5528920304037825,
          4.668045095219891,
          4.769395803445846,
          4.918562306975275,
          4.977430949128936
         ],
         "yaxis": "y"
        },
        {
         "hoverinfo": "skip",
         "marker": {
          "color": "#1f77b4"
         },
         "mode": "lines",
         "name": "Quadratic Model",
         "type": "scatter",
         "visible": true,
         "x": [
          0,
          0.05025125628140704,
          0.10050251256281408,
          0.15075376884422112,
          0.20100502512562815,
          0.2512562814070352,
          0.30150753768844224,
          0.35175879396984927,
          0.4020100502512563,
          0.45226130653266333,
          0.5025125628140704,
          0.5527638190954774,
          0.6030150753768845,
          0.6532663316582915,
          0.7035175879396985,
          0.7537688442211056,
          0.8040201005025126,
          0.8542713567839196,
          0.9045226130653267,
          0.9547738693467337,
          1.0050251256281408,
          1.0552763819095479,
          1.105527638190955,
          1.155778894472362,
          1.206030150753769,
          1.256281407035176,
          1.306532663316583,
          1.35678391959799,
          1.407035175879397,
          1.4572864321608041,
          1.5075376884422111,
          1.5577889447236182,
          1.6080402010050252,
          1.6582914572864322,
          1.7085427135678393,
          1.7587939698492463,
          1.8090452261306533,
          1.8592964824120604,
          1.9095477386934674,
          1.9597989949748744,
          2.0100502512562817,
          2.0603015075376887,
          2.1105527638190957,
          2.1608040201005028,
          2.21105527638191,
          2.261306532663317,
          2.311557788944724,
          2.361809045226131,
          2.412060301507538,
          2.462311557788945,
          2.512562814070352,
          2.562814070351759,
          2.613065326633166,
          2.663316582914573,
          2.71356783919598,
          2.763819095477387,
          2.814070351758794,
          2.864321608040201,
          2.9145728643216082,
          2.9648241206030153,
          3.0150753768844223,
          3.0653266331658293,
          3.1155778894472363,
          3.1658291457286434,
          3.2160804020100504,
          3.2663316582914574,
          3.3165829145728645,
          3.3668341708542715,
          3.4170854271356785,
          3.4673366834170856,
          3.5175879396984926,
          3.5678391959798996,
          3.6180904522613067,
          3.6683417085427137,
          3.7185929648241207,
          3.7688442211055277,
          3.819095477386935,
          3.869346733668342,
          3.919597989949749,
          3.969849246231156,
          4.020100502512563,
          4.07035175879397,
          4.120603015075377,
          4.170854271356784,
          4.2211055276381915,
          4.2713567839195985,
          4.3216080402010055,
          4.371859296482413,
          4.42211055276382,
          4.472361809045227,
          4.522613065326634,
          4.572864321608041,
          4.623115577889448,
          4.673366834170855,
          4.723618090452262,
          4.773869346733669,
          4.824120603015076,
          4.874371859296483,
          4.92462311557789,
          4.974874371859297,
          5.025125628140704,
          5.075376884422111,
          5.125628140703518,
          5.175879396984925,
          5.226130653266332,
          5.276381909547739,
          5.326633165829146,
          5.376884422110553,
          5.42713567839196,
          5.477386934673367,
          5.527638190954774,
          5.577889447236181,
          5.628140703517588,
          5.678391959798995,
          5.728643216080402,
          5.778894472361809,
          5.8291457286432165,
          5.8793969849246235,
          5.9296482412060305,
          5.9798994974874375,
          6.030150753768845,
          6.080402010050252,
          6.130653266331659,
          6.180904522613066,
          6.231155778894473,
          6.28140703517588,
          6.331658291457287,
          6.381909547738694,
          6.432160804020101,
          6.482412060301508,
          6.532663316582915,
          6.582914572864322,
          6.633165829145729,
          6.683417085427136,
          6.733668341708543,
          6.78391959798995,
          6.834170854271357,
          6.884422110552764,
          6.934673366834171,
          6.984924623115578,
          7.035175879396985,
          7.085427135678392,
          7.135678391959799,
          7.185929648241206,
          7.236180904522613,
          7.28643216080402,
          7.336683417085427,
          7.386934673366834,
          7.437185929648241,
          7.4874371859296485,
          7.5376884422110555,
          7.5879396984924625,
          7.63819095477387,
          7.688442211055277,
          7.738693467336684,
          7.788944723618091,
          7.839195979899498,
          7.889447236180905,
          7.939698492462312,
          7.989949748743719,
          8.040201005025127,
          8.090452261306533,
          8.14070351758794,
          8.190954773869347,
          8.241206030150755,
          8.291457286432161,
          8.341708542713569,
          8.391959798994975,
          8.442211055276383,
          8.492462311557789,
          8.542713567839197,
          8.592964824120603,
          8.643216080402011,
          8.693467336683417,
          8.743718592964825,
          8.793969849246231,
          8.84422110552764,
          8.894472361809045,
          8.944723618090453,
          8.99497487437186,
          9.045226130653267,
          9.095477386934673,
          9.145728643216081,
          9.195979899497488,
          9.246231155778895,
          9.296482412060302,
          9.34673366834171,
          9.396984924623116,
          9.447236180904524,
          9.49748743718593,
          9.547738693467338,
          9.597989949748744,
          9.648241206030152,
          9.698492462311558,
          9.748743718592966,
          9.798994974874372,
          9.84924623115578,
          9.899497487437186,
          9.949748743718594,
          10
         ],
         "xaxis": "x",
         "y": [
          0,
          0.024183779957242718,
          0.04837877026720316,
          0.07258497092988131,
          0.09680238194527717,
          0.12103100331339077,
          0.14527083503422208,
          0.1695218771077711,
          0.1937841295340378,
          0.2180575923130223,
          0.24234226544472448,
          0.2666381489291444,
          0.290945242766282,
          0.3152635469561373,
          0.3395930614987104,
          0.36393378639400115,
          0.38828572164200964,
          0.4126488672427358,
          0.4370232231961797,
          0.4614087895023414,
          0.4858055661612208,
          0.5102135531728178,
          0.5346327505371326,
          0.5590631582541651,
          0.5835047763239154,
          0.6079576047463833,
          0.6324216435215689,
          0.6568968926494723,
          0.6813833521300934,
          0.7058810219634323,
          0.7303899021494887,
          0.754909992688263,
          0.779441293579755,
          0.8039838048239647,
          0.8285375264208921,
          0.8531024583705372,
          0.8776786006728999,
          0.9022659533279805,
          0.9268645163357788,
          0.9514742896962949,
          0.9760952734095287,
          1.00072746747548,
          1.0253708718941492,
          1.050025486665536,
          1.0746913117896406,
          1.0993683472664628,
          1.124056593096003,
          1.1487560492782607,
          1.1734667158132361,
          1.1981885927009295,
          1.22292167994134,
          1.2476659775344687,
          1.272421485480315,
          1.2971882037788791,
          1.321966132430161,
          1.3467552714341604,
          1.3715556207908777,
          1.3963671805003126,
          1.4211899505624652,
          1.4460239309773355,
          1.4708691217449235,
          1.4957255228652293,
          1.5205931343382528,
          1.545471956163994,
          1.5703619883424529,
          1.5952632308736296,
          1.620175683757524,
          1.6450993469941362,
          1.670034220583466,
          1.6949803045255134,
          1.7199375988202785,
          1.7449061034677615,
          1.7698858184679624,
          1.7948767438208806,
          1.8198788795265168,
          1.8448922255848705,
          1.8699167819959421,
          1.8949525487597316,
          1.9199995258762383,
          1.9450577133454632,
          1.9701271111674057,
          1.9952077193420659,
          2.0202995378694437,
          2.0454025667495395,
          2.0705168059823524,
          2.0956422555678835,
          2.1207789155061323,
          2.1459267857970987,
          2.171085866440783,
          2.1962561574371846,
          2.2214376587863045,
          2.2466303704881416,
          2.271834292542697,
          2.2970494249499693,
          2.32227576770996,
          2.347513320822668,
          2.372762084288094,
          2.3980220581062377,
          2.423293242277099,
          2.4485756368006784,
          2.473869241676975,
          2.4991740569059897,
          2.5244900824877217,
          2.5498173184221713,
          2.575155764709339,
          2.6005054213492245,
          2.6258662883418276,
          2.6512383656871483,
          2.6766216533851868,
          2.7020161514359433,
          2.727421859839417,
          2.7528387785956085,
          2.778266907704518,
          2.8037062471661454,
          2.8291567969804903,
          2.854618557147553,
          2.8800915276673327,
          2.905575708539831,
          2.9310710997650467,
          2.95657770134298,
          2.982095513273631,
          3.007624535557,
          3.0331647681930867,
          3.058716211181891,
          3.084278864523413,
          3.1098527282176525,
          3.13543780226461,
          3.161034086664285,
          3.186641581416678,
          3.2122602865217886,
          3.2378902019796167,
          3.263531327790163,
          3.289183663953427,
          3.3148472104694084,
          3.3405219673381077,
          3.366207934559524,
          3.3919051121336588,
          3.4176135000605115,
          3.4433330983400814,
          3.469063906972369,
          3.4948059259573743,
          3.5205591552950977,
          3.5463235949855387,
          3.5720992450286975,
          3.5978861054245734,
          3.6236841761731675,
          3.6494934572744797,
          3.675313948728509,
          3.7011456505352562,
          3.726988562694721,
          3.752842685206904,
          3.7787080180718045,
          3.8045845612894227,
          3.830472314859758,
          3.8563712787828117,
          3.882281453058583,
          3.908202837687072,
          3.934135432668279,
          3.9600792380022027,
          3.986034253688845,
          4.012000479728205,
          4.0379779161202825,
          4.063966562865079,
          4.0899664199625905,
          4.115977487412822,
          4.14199976521577,
          4.168033253371437,
          4.1940779518798195,
          4.220133860740922,
          4.246200979954741,
          4.272279309521278,
          4.298368849440533,
          4.324469599712506,
          4.350581560337195,
          4.376704731314603,
          4.402839112644728,
          4.428984704327572,
          4.455141506363133,
          4.481309518751412,
          4.507488741492408,
          4.533679174586124,
          4.559880818032555,
          4.586093671831705,
          4.612317735983572,
          4.638553010488157,
          4.664799495345459,
          4.6910571905554805,
          4.717326096118218,
          4.743606212033675,
          4.769897538301848,
          4.79620007492274,
          4.822513821896348,
          4.8488387792226755,
          4.875174946901719,
          4.901522324933482,
          4.927880913317962,
          4.95425071205516,
          4.980631721145075,
          5.007023940587708,
          5.033427370383059
         ],
         "yaxis": "y"
        },
        {
         "hoverinfo": "skip",
         "marker": {
          "color": "#d62728"
         },
         "mode": "markers",
         "name": "Residuals",
         "type": "scatter",
         "visible": true,
         "x": [
          0,
          0.2564102564102564,
          0.5128205128205128,
          0.7692307692307692,
          1.0256410256410255,
          1.282051282051282,
          1.5384615384615383,
          1.7948717948717947,
          2.051282051282051,
          2.3076923076923075,
          2.564102564102564,
          2.8205128205128203,
          3.0769230769230766,
          3.333333333333333,
          3.5897435897435894,
          3.846153846153846,
          4.102564102564102,
          4.358974358974359,
          4.615384615384615,
          4.871794871794871,
          5.128205128205128,
          5.384615384615384,
          5.6410256410256405,
          5.897435897435897,
          6.153846153846153,
          6.41025641025641,
          6.666666666666666,
          6.9230769230769225,
          7.179487179487179,
          7.435897435897435,
          7.692307692307692,
          7.948717948717948,
          8.205128205128204,
          8.46153846153846,
          8.717948717948717,
          8.974358974358974,
          9.23076923076923,
          9.487179487179485,
          9.743589743589743,
          10
         ],
         "xaxis": "x2",
         "y": [
          0,
          18.8022367710447,
          12.211912289332725,
          21.29188714014084,
          -3.7870471051986905,
          11.834883316173247,
          -13.067039273800745,
          11.524218504131897,
          -3.5813914488720435,
          3.590175583704034,
          0.25671324063474404,
          5.836252938370992,
          -0.24137451076748323,
          -1.5517119323456647,
          4.080792165272505,
          -6.3266563059662495,
          -1.4464198264428045,
          0.7023885735190275,
          -1.6545829673480628,
          -2.946358766920227,
          -1.8901897107622558,
          -0.6982685516469953,
          0.11952366085126961,
          7.7245516529969,
          -0.37877091445181643,
          0.4551932755249698,
          -3.233451217656321,
          -0.11018970511462373,
          -3.375371790275335,
          0.34619092687973996,
          0.7824941716152526,
          2.843550063746419,
          1.5864266079641205,
          -0.817684861727066,
          0.191153613977548,
          -1.2485656101438551,
          -0.8112695780844528,
          -0.10268166676079375,
          -0.40301123761845337,
          1.1124908960365336
         ],
         "yaxis": "y2"
        }
       ],
       "layout": {
        "annotations": [
         {
          "font": {
           "size": 16
          },
          "showarrow": false,
          "text": "Standard Curve",
          "x": 0.2125,
          "xanchor": "center",
          "xref": "paper",
          "y": 1,
          "yanchor": "bottom",
          "yref": "paper"
         },
         {
          "font": {
           "size": 16
          },
          "showarrow": false,
          "text": "Residuals",
          "x": 0.7875,
          "xanchor": "center",
          "xref": "paper",
          "y": 1,
          "yanchor": "bottom",
          "yref": "paper"
         },
         {
          "font": {
           "size": 16
          },
          "showarrow": false,
          "text": "ABTS concentration (mmol L<sup>-1</sup>)",
          "x": 0.5,
          "xanchor": "center",
          "xref": "paper",
          "y": 0,
          "yanchor": "top",
          "yref": "paper",
          "yshift": -30
         }
        ],
        "shapes": [
         {
          "line": {
           "color": "#000000",
           "dash": "dot",
           "width": 2
          },
          "type": "line",
          "x0": 0,
          "x1": 1,
          "xref": "x2 domain",
          "y0": 0,
          "y1": 0,
          "yref": "y2"
         }
        ],
        "template": {
         "data": {
          "bar": [
           {
            "error_x": {
             "color": "#2a3f5f"
            },
            "error_y": {
             "color": "#2a3f5f"
            },
            "marker": {
             "line": {
              "color": "#E5ECF6",
              "width": 0.5
             },
             "pattern": {
              "fillmode": "overlay",
              "size": 10,
              "solidity": 0.2
             }
            },
            "type": "bar"
           }
          ],
          "barpolar": [
           {
            "marker": {
             "line": {
              "color": "#E5ECF6",
              "width": 0.5
             },
             "pattern": {
              "fillmode": "overlay",
              "size": 10,
              "solidity": 0.2
             }
            },
            "type": "barpolar"
           }
          ],
          "carpet": [
           {
            "aaxis": {
             "endlinecolor": "#2a3f5f",
             "gridcolor": "white",
             "linecolor": "white",
             "minorgridcolor": "white",
             "startlinecolor": "#2a3f5f"
            },
            "baxis": {
             "endlinecolor": "#2a3f5f",
             "gridcolor": "white",
             "linecolor": "white",
             "minorgridcolor": "white",
             "startlinecolor": "#2a3f5f"
            },
            "type": "carpet"
           }
          ],
          "choropleth": [
           {
            "colorbar": {
             "outlinewidth": 0,
             "ticks": ""
            },
            "type": "choropleth"
           }
          ],
          "contour": [
           {
            "colorbar": {
             "outlinewidth": 0,
             "ticks": ""
            },
            "colorscale": [
             [
              0,
              "#0d0887"
             ],
             [
              0.1111111111111111,
              "#46039f"
             ],
             [
              0.2222222222222222,
              "#7201a8"
             ],
             [
              0.3333333333333333,
              "#9c179e"
             ],
             [
              0.4444444444444444,
              "#bd3786"
             ],
             [
              0.5555555555555556,
              "#d8576b"
             ],
             [
              0.6666666666666666,
              "#ed7953"
             ],
             [
              0.7777777777777778,
              "#fb9f3a"
             ],
             [
              0.8888888888888888,
              "#fdca26"
             ],
             [
              1,
              "#f0f921"
             ]
            ],
            "type": "contour"
           }
          ],
          "contourcarpet": [
           {
            "colorbar": {
             "outlinewidth": 0,
             "ticks": ""
            },
            "type": "contourcarpet"
           }
          ],
          "heatmap": [
           {
            "colorbar": {
             "outlinewidth": 0,
             "ticks": ""
            },
            "colorscale": [
             [
              0,
              "#0d0887"
             ],
             [
              0.1111111111111111,
              "#46039f"
             ],
             [
              0.2222222222222222,
              "#7201a8"
             ],
             [
              0.3333333333333333,
              "#9c179e"
             ],
             [
              0.4444444444444444,
              "#bd3786"
             ],
             [
              0.5555555555555556,
              "#d8576b"
             ],
             [
              0.6666666666666666,
              "#ed7953"
             ],
             [
              0.7777777777777778,
              "#fb9f3a"
             ],
             [
              0.8888888888888888,
              "#fdca26"
             ],
             [
              1,
              "#f0f921"
             ]
            ],
            "type": "heatmap"
           }
          ],
          "heatmapgl": [
           {
            "colorbar": {
             "outlinewidth": 0,
             "ticks": ""
            },
            "colorscale": [
             [
              0,
              "#0d0887"
             ],
             [
              0.1111111111111111,
              "#46039f"
             ],
             [
              0.2222222222222222,
              "#7201a8"
             ],
             [
              0.3333333333333333,
              "#9c179e"
             ],
             [
              0.4444444444444444,
              "#bd3786"
             ],
             [
              0.5555555555555556,
              "#d8576b"
             ],
             [
              0.6666666666666666,
              "#ed7953"
             ],
             [
              0.7777777777777778,
              "#fb9f3a"
             ],
             [
              0.8888888888888888,
              "#fdca26"
             ],
             [
              1,
              "#f0f921"
             ]
            ],
            "type": "heatmapgl"
           }
          ],
          "histogram": [
           {
            "marker": {
             "pattern": {
              "fillmode": "overlay",
              "size": 10,
              "solidity": 0.2
             }
            },
            "type": "histogram"
           }
          ],
          "histogram2d": [
           {
            "colorbar": {
             "outlinewidth": 0,
             "ticks": ""
            },
            "colorscale": [
             [
              0,
              "#0d0887"
             ],
             [
              0.1111111111111111,
              "#46039f"
             ],
             [
              0.2222222222222222,
              "#7201a8"
             ],
             [
              0.3333333333333333,
              "#9c179e"
             ],
             [
              0.4444444444444444,
              "#bd3786"
             ],
             [
              0.5555555555555556,
              "#d8576b"
             ],
             [
              0.6666666666666666,
              "#ed7953"
             ],
             [
              0.7777777777777778,
              "#fb9f3a"
             ],
             [
              0.8888888888888888,
              "#fdca26"
             ],
             [
              1,
              "#f0f921"
             ]
            ],
            "type": "histogram2d"
           }
          ],
          "histogram2dcontour": [
           {
            "colorbar": {
             "outlinewidth": 0,
             "ticks": ""
            },
            "colorscale": [
             [
              0,
              "#0d0887"
             ],
             [
              0.1111111111111111,
              "#46039f"
             ],
             [
              0.2222222222222222,
              "#7201a8"
             ],
             [
              0.3333333333333333,
              "#9c179e"
             ],
             [
              0.4444444444444444,
              "#bd3786"
             ],
             [
              0.5555555555555556,
              "#d8576b"
             ],
             [
              0.6666666666666666,
              "#ed7953"
             ],
             [
              0.7777777777777778,
              "#fb9f3a"
             ],
             [
              0.8888888888888888,
              "#fdca26"
             ],
             [
              1,
              "#f0f921"
             ]
            ],
            "type": "histogram2dcontour"
           }
          ],
          "mesh3d": [
           {
            "colorbar": {
             "outlinewidth": 0,
             "ticks": ""
            },
            "type": "mesh3d"
           }
          ],
          "parcoords": [
           {
            "line": {
             "colorbar": {
              "outlinewidth": 0,
              "ticks": ""
             }
            },
            "type": "parcoords"
           }
          ],
          "pie": [
           {
            "automargin": true,
            "type": "pie"
           }
          ],
          "scatter": [
           {
            "fillpattern": {
             "fillmode": "overlay",
             "size": 10,
             "solidity": 0.2
            },
            "type": "scatter"
           }
          ],
          "scatter3d": [
           {
            "line": {
             "colorbar": {
              "outlinewidth": 0,
              "ticks": ""
             }
            },
            "marker": {
             "colorbar": {
              "outlinewidth": 0,
              "ticks": ""
             }
            },
            "type": "scatter3d"
           }
          ],
          "scattercarpet": [
           {
            "marker": {
             "colorbar": {
              "outlinewidth": 0,
              "ticks": ""
             }
            },
            "type": "scattercarpet"
           }
          ],
          "scattergeo": [
           {
            "marker": {
             "colorbar": {
              "outlinewidth": 0,
              "ticks": ""
             }
            },
            "type": "scattergeo"
           }
          ],
          "scattergl": [
           {
            "marker": {
             "colorbar": {
              "outlinewidth": 0,
              "ticks": ""
             }
            },
            "type": "scattergl"
           }
          ],
          "scattermapbox": [
           {
            "marker": {
             "colorbar": {
              "outlinewidth": 0,
              "ticks": ""
             }
            },
            "type": "scattermapbox"
           }
          ],
          "scatterpolar": [
           {
            "marker": {
             "colorbar": {
              "outlinewidth": 0,
              "ticks": ""
             }
            },
            "type": "scatterpolar"
           }
          ],
          "scatterpolargl": [
           {
            "marker": {
             "colorbar": {
              "outlinewidth": 0,
              "ticks": ""
             }
            },
            "type": "scatterpolargl"
           }
          ],
          "scatterternary": [
           {
            "marker": {
             "colorbar": {
              "outlinewidth": 0,
              "ticks": ""
             }
            },
            "type": "scatterternary"
           }
          ],
          "surface": [
           {
            "colorbar": {
             "outlinewidth": 0,
             "ticks": ""
            },
            "colorscale": [
             [
              0,
              "#0d0887"
             ],
             [
              0.1111111111111111,
              "#46039f"
             ],
             [
              0.2222222222222222,
              "#7201a8"
             ],
             [
              0.3333333333333333,
              "#9c179e"
             ],
             [
              0.4444444444444444,
              "#bd3786"
             ],
             [
              0.5555555555555556,
              "#d8576b"
             ],
             [
              0.6666666666666666,
              "#ed7953"
             ],
             [
              0.7777777777777778,
              "#fb9f3a"
             ],
             [
              0.8888888888888888,
              "#fdca26"
             ],
             [
              1,
              "#f0f921"
             ]
            ],
            "type": "surface"
           }
          ],
          "table": [
           {
            "cells": {
             "fill": {
              "color": "#EBF0F8"
             },
             "line": {
              "color": "white"
             }
            },
            "header": {
             "fill": {
              "color": "#C8D4E3"
             },
             "line": {
              "color": "white"
             }
            },
            "type": "table"
           }
          ]
         },
         "layout": {
          "annotationdefaults": {
           "arrowcolor": "#2a3f5f",
           "arrowhead": 0,
           "arrowwidth": 1
          },
          "autotypenumbers": "strict",
          "coloraxis": {
           "colorbar": {
            "outlinewidth": 0,
            "ticks": ""
           }
          },
          "colorscale": {
           "diverging": [
            [
             0,
             "#8e0152"
            ],
            [
             0.1,
             "#c51b7d"
            ],
            [
             0.2,
             "#de77ae"
            ],
            [
             0.3,
             "#f1b6da"
            ],
            [
             0.4,
             "#fde0ef"
            ],
            [
             0.5,
             "#f7f7f7"
            ],
            [
             0.6,
             "#e6f5d0"
            ],
            [
             0.7,
             "#b8e186"
            ],
            [
             0.8,
             "#7fbc41"
            ],
            [
             0.9,
             "#4d9221"
            ],
            [
             1,
             "#276419"
            ]
           ],
           "sequential": [
            [
             0,
             "#0d0887"
            ],
            [
             0.1111111111111111,
             "#46039f"
            ],
            [
             0.2222222222222222,
             "#7201a8"
            ],
            [
             0.3333333333333333,
             "#9c179e"
            ],
            [
             0.4444444444444444,
             "#bd3786"
            ],
            [
             0.5555555555555556,
             "#d8576b"
            ],
            [
             0.6666666666666666,
             "#ed7953"
            ],
            [
             0.7777777777777778,
             "#fb9f3a"
            ],
            [
             0.8888888888888888,
             "#fdca26"
            ],
            [
             1,
             "#f0f921"
            ]
           ],
           "sequentialminus": [
            [
             0,
             "#0d0887"
            ],
            [
             0.1111111111111111,
             "#46039f"
            ],
            [
             0.2222222222222222,
             "#7201a8"
            ],
            [
             0.3333333333333333,
             "#9c179e"
            ],
            [
             0.4444444444444444,
             "#bd3786"
            ],
            [
             0.5555555555555556,
             "#d8576b"
            ],
            [
             0.6666666666666666,
             "#ed7953"
            ],
            [
             0.7777777777777778,
             "#fb9f3a"
            ],
            [
             0.8888888888888888,
             "#fdca26"
            ],
            [
             1,
             "#f0f921"
            ]
           ]
          },
          "colorway": [
           "#636efa",
           "#EF553B",
           "#00cc96",
           "#ab63fa",
           "#FFA15A",
           "#19d3f3",
           "#FF6692",
           "#B6E880",
           "#FF97FF",
           "#FECB52"
          ],
          "font": {
           "color": "#2a3f5f"
          },
          "geo": {
           "bgcolor": "white",
           "lakecolor": "white",
           "landcolor": "#E5ECF6",
           "showlakes": true,
           "showland": true,
           "subunitcolor": "white"
          },
          "hoverlabel": {
           "align": "left"
          },
          "hovermode": "closest",
          "mapbox": {
           "style": "light"
          },
          "paper_bgcolor": "white",
          "plot_bgcolor": "#E5ECF6",
          "polar": {
           "angularaxis": {
            "gridcolor": "white",
            "linecolor": "white",
            "ticks": ""
           },
           "bgcolor": "#E5ECF6",
           "radialaxis": {
            "gridcolor": "white",
            "linecolor": "white",
            "ticks": ""
           }
          },
          "scene": {
           "xaxis": {
            "backgroundcolor": "#E5ECF6",
            "gridcolor": "white",
            "gridwidth": 2,
            "linecolor": "white",
            "showbackground": true,
            "ticks": "",
            "zerolinecolor": "white"
           },
           "yaxis": {
            "backgroundcolor": "#E5ECF6",
            "gridcolor": "white",
            "gridwidth": 2,
            "linecolor": "white",
            "showbackground": true,
            "ticks": "",
            "zerolinecolor": "white"
           },
           "zaxis": {
            "backgroundcolor": "#E5ECF6",
            "gridcolor": "white",
            "gridwidth": 2,
            "linecolor": "white",
            "showbackground": true,
            "ticks": "",
            "zerolinecolor": "white"
           }
          },
          "shapedefaults": {
           "line": {
            "color": "#2a3f5f"
           }
          },
          "ternary": {
           "aaxis": {
            "gridcolor": "white",
            "linecolor": "white",
            "ticks": ""
           },
           "baxis": {
            "gridcolor": "white",
            "linecolor": "white",
            "ticks": ""
           },
           "bgcolor": "#E5ECF6",
           "caxis": {
            "gridcolor": "white",
            "linecolor": "white",
            "ticks": ""
           }
          },
          "title": {
           "x": 0.05
          },
          "xaxis": {
           "automargin": true,
           "gridcolor": "white",
           "linecolor": "white",
           "ticks": "",
           "title": {
            "standoff": 15
           },
           "zerolinecolor": "white",
           "zerolinewidth": 2
          },
          "yaxis": {
           "automargin": true,
           "gridcolor": "white",
           "linecolor": "white",
           "ticks": "",
           "title": {
            "standoff": 15
           },
           "zerolinecolor": "white",
           "zerolinewidth": 2
          }
         }
        },
        "xaxis": {
         "anchor": "y",
         "domain": [
          0,
          0.425
         ]
        },
        "xaxis2": {
         "anchor": "y2",
         "domain": [
          0.575,
          1
         ]
        },
        "yaxis": {
         "anchor": "x",
         "domain": [
          0,
          1
         ],
         "title": {
          "text": "Signal (a.u.)"
         }
        },
        "yaxis2": {
         "anchor": "x2",
         "domain": [
          0,
          1
         ],
         "title": {
          "text": "Percentual Residuals"
         }
        }
       }
      }
     },
     "metadata": {},
     "output_type": "display_data"
    }
   ],
   "source": [
    "standard.visualize()"
   ]
  },
  {
   "attachments": {},
   "cell_type": "markdown",
   "metadata": {},
   "source": [
    "# .from_excel"
   ]
  },
  {
   "cell_type": "code",
   "execution_count": 81,
   "metadata": {},
   "outputs": [],
   "source": [
    "from CaliPytion.core.calibration import Calibration"
   ]
  },
  {
   "cell_type": "code",
   "execution_count": 82,
   "metadata": {},
   "outputs": [],
   "source": [
    "path = \"/Users/max/Documents/enzymeml/glucosidase_inhibition/round2/data/p-NP_standard.xlsx\"\n",
    "standard = Calibration.from_excel(\n",
    "    path=path,\n",
    "    reactant_id=\"s1\",\n",
    "    wavelength=340,\n",
    "    concentration_unit=\"mmole / l\",\n",
    "    temperature=37,\n",
    "    temperature_unit=\"C\",\n",
    "    pH=7,\n",
    "    sheet_name=\"csv\",\n",
    ")"
   ]
  },
  {
   "cell_type": "code",
   "execution_count": 133,
   "metadata": {},
   "outputs": [
    {
     "name": "stdout",
     "output_type": "stream",
     "text": [
      "Found calibration data at 340.0 nm\n",
      "Standard deviation among blank measurements exceeds 5% (8.0%)\n",
      "Standard curve data was blanked.\n",
      "{'concentration': array([0.   , 0.001, 0.005, 0.01 , 0.05 , 0.1  , 0.25 , 0.5  , 0.   ,\n",
      "       0.001, 0.005, 0.01 , 0.05 , 0.1  , 0.25 , 0.5  ]), 'a': 0.1}\n",
      "{'concentration': array([0.   , 0.001, 0.005, 0.01 , 0.05 , 0.1  , 0.25 , 0.5  , 0.   ,\n",
      "       0.001, 0.005, 0.01 , 0.05 , 0.1  , 0.25 , 0.5  ]), 'b': 0.1, 'a': 0.1}\n",
      "{'concentration': array([0.   , 0.001, 0.005, 0.01 , 0.05 , 0.1  , 0.25 , 0.5  , 0.   ,\n",
      "       0.001, 0.005, 0.01 , 0.05 , 0.1  , 0.25 , 0.5  ]), 'b': 0.1, 'c': 0.1, 'a': 0.1}\n",
      "{'concentration': array([0.   , 0.001, 0.005, 0.01 , 0.05 , 0.1  , 0.25 , 0.5  , 0.   ,\n",
      "       0.001, 0.005, 0.01 , 0.05 , 0.1  , 0.25 , 0.5  ]), 'b': 0.1, 'a': 0.1}\n",
      "{'concentration': array([0.   , 0.001, 0.005, 0.01 , 0.05 , 0.1  , 0.25 , 0.5  , 0.   ,\n",
      "       0.001, 0.005, 0.01 , 0.05 , 0.1  , 0.25 , 0.5  ]), 'b': 0.1, 'a': 0.1}\n"
     ]
    },
    {
     "data": {
      "application/vnd.plotly.v1+json": {
       "config": {
        "plotlyServerURL": "https://plot.ly"
       },
       "data": [
        {
         "hoverinfo": "skip",
         "marker": {
          "color": "#1f77b4"
         },
         "mode": "markers",
         "name": "s1 Standard",
         "type": "scatter",
         "visible": true,
         "x": [
          0,
          0.001,
          0.005,
          0.01,
          0.05,
          0.1,
          0.25,
          0.5,
          0,
          0.001,
          0.005,
          0.01,
          0.05,
          0.1,
          0.25,
          0.5
         ],
         "xaxis": "x",
         "y": [
          0.003500000000000003,
          0.003500000000000003,
          0.0315,
          0.0675,
          0.35950000000000004,
          0.7095,
          1.7325,
          3.1765000000000003,
          -0.003499999999999996,
          0.0075,
          0.0325,
          0.0675,
          0.35450000000000004,
          0.7265,
          1.7425,
          3.2285
         ],
         "yaxis": "y"
        },
        {
         "hoverinfo": "skip",
         "marker": {
          "color": "#1f77b4"
         },
         "mode": "lines",
         "name": "3rd degree polynominal Model",
         "type": "scatter",
         "visible": true,
         "x": [
          0,
          0.006329113924050633,
          0.012658227848101266,
          0.0189873417721519,
          0.02531645569620253,
          0.03164556962025317,
          0.0379746835443038,
          0.04430379746835443,
          0.05063291139240506,
          0.056962025316455694,
          0.06329113924050633,
          0.06962025316455696,
          0.0759493670886076,
          0.08227848101265822,
          0.08860759493670886,
          0.09493670886075949,
          0.10126582278481013,
          0.10759493670886076,
          0.11392405063291139,
          0.12025316455696203,
          0.12658227848101267,
          0.13291139240506328,
          0.13924050632911392,
          0.14556962025316456,
          0.1518987341772152,
          0.15822784810126583,
          0.16455696202531644,
          0.17088607594936708,
          0.17721518987341772,
          0.18354430379746836,
          0.18987341772151897,
          0.1962025316455696,
          0.20253164556962025,
          0.2088607594936709,
          0.21518987341772153,
          0.22151898734177214,
          0.22784810126582278,
          0.23417721518987342,
          0.24050632911392406,
          0.24683544303797467,
          0.25316455696202533,
          0.25949367088607594,
          0.26582278481012656,
          0.2721518987341772,
          0.27848101265822783,
          0.2848101265822785,
          0.2911392405063291,
          0.2974683544303797,
          0.3037974683544304,
          0.310126582278481,
          0.31645569620253167,
          0.3227848101265823,
          0.3291139240506329,
          0.33544303797468356,
          0.34177215189873417,
          0.3481012658227848,
          0.35443037974683544,
          0.36075949367088606,
          0.3670886075949367,
          0.37341772151898733,
          0.37974683544303794,
          0.3860759493670886,
          0.3924050632911392,
          0.3987341772151899,
          0.4050632911392405,
          0.4113924050632911,
          0.4177215189873418,
          0.4240506329113924,
          0.43037974683544306,
          0.43670886075949367,
          0.4430379746835443,
          0.44936708860759494,
          0.45569620253164556,
          0.4620253164556962,
          0.46835443037974683,
          0.47468354430379744,
          0.4810126582278481,
          0.4873417721518987,
          0.49367088607594933,
          0.5
         ],
         "xaxis": "x",
         "y": [
          0,
          0.04568646520234419,
          0.09132783484867865,
          0.13692072185774742,
          0.18246173914829453,
          0.22794749963906402,
          0.2733746162487999,
          0.3187397018962462,
          0.3640393695001469,
          0.40927023197924617,
          0.45442890225228794,
          0.4995119932380162,
          0.5445161178551752,
          0.5894378890225086,
          0.6342739196587608,
          0.6790208226826756,
          0.7236752110129971,
          0.7682336975684695,
          0.8126928952678365,
          0.8570494170298424,
          0.9012998757732311,
          0.9454408844167466,
          0.9894690558791331,
          1.0333810030791344,
          1.077173338935495,
          1.1208426763669583,
          1.1643856282922684,
          1.2077988076301698,
          1.2510788272994064,
          1.294222300218722,
          1.3372258393068606,
          1.3800860574825666,
          1.4227995676645837,
          1.4653629827716563,
          1.507772915722528,
          1.5500259794359428,
          1.5921187868306452,
          1.6340479508253787,
          1.675810084338888,
          1.717401800289916,
          1.7588197115972084,
          1.8000604311795076,
          1.8411205719555583,
          1.881996746844105,
          1.922685568763891,
          1.9631836506336608,
          2.003487605372158,
          2.0435940458981268,
          2.083499585130312,
          2.1232008359874563,
          2.162694411388305,
          2.2019769242516007,
          2.2410449874960885,
          2.279895214040512,
          2.318524216803616,
          2.356928608704143,
          2.3951050026608387,
          2.4330500115924463,
          2.4707602484177102,
          2.5082323260553734,
          2.545462857424181,
          2.582448455442877,
          2.619185733030205,
          2.655671303104909,
          2.6919017785857333,
          2.7278737723914217,
          2.7635838974407188,
          2.7990287666523677,
          2.834204992945113,
          2.8691091892376988,
          2.903737968448869,
          2.9380879434973677,
          2.9721557273019386,
          3.0059379327813263,
          3.0394311728542744,
          3.0726320604395267,
          3.105537208455828,
          3.138143229821922,
          3.1704467374565524,
          3.202444344278464
         ],
         "yaxis": "y"
        },
        {
         "hoverinfo": "skip",
         "marker": {
          "color": "#d62728"
         },
         "mode": "markers",
         "name": "Residuals",
         "type": "scatter",
         "visible": true,
         "x": [
          0,
          0.001,
          0.005,
          0.01,
          0.05,
          0.1,
          0.25,
          0.5,
          0,
          0.001,
          0.005,
          0.01,
          0.05,
          0.1,
          0.25,
          0.5
         ],
         "xaxis": "x2",
         "y": [
          0,
          51.53242583069737,
          12.73255529565131,
          6.463276085723598,
          0.003461099545103409,
          0.7347860318541861,
          0.32406577694503,
          0.8101419256455165,
          0,
          -3.859087505648393,
          9.962160225671985,
          6.463276085723598,
          1.394233546004839,
          -1.6436616601239395,
          -0.2512642907205115,
          -0.8136177532042845
         ],
         "yaxis": "y2"
        }
       ],
       "layout": {
        "annotations": [
         {
          "font": {
           "size": 16
          },
          "showarrow": false,
          "text": "Standard Curve",
          "x": 0.2125,
          "xanchor": "center",
          "xref": "paper",
          "y": 1,
          "yanchor": "bottom",
          "yref": "paper"
         },
         {
          "font": {
           "size": 16
          },
          "showarrow": false,
          "text": "Residuals",
          "x": 0.7875,
          "xanchor": "center",
          "xref": "paper",
          "y": 1,
          "yanchor": "bottom",
          "yref": "paper"
         },
         {
          "font": {
           "size": 16
          },
          "showarrow": false,
          "text": "s1 concentration (mmole L<sup>-1</sup>)",
          "x": 0.5,
          "xanchor": "center",
          "xref": "paper",
          "y": 0,
          "yanchor": "top",
          "yref": "paper",
          "yshift": -30
         }
        ],
        "shapes": [
         {
          "line": {
           "color": "#000000",
           "dash": "dot",
           "width": 2
          },
          "type": "line",
          "x0": 0,
          "x1": 1,
          "xref": "x2 domain",
          "y0": 0,
          "y1": 0,
          "yref": "y2"
         }
        ],
        "template": {
         "data": {
          "bar": [
           {
            "error_x": {
             "color": "#2a3f5f"
            },
            "error_y": {
             "color": "#2a3f5f"
            },
            "marker": {
             "line": {
              "color": "#E5ECF6",
              "width": 0.5
             },
             "pattern": {
              "fillmode": "overlay",
              "size": 10,
              "solidity": 0.2
             }
            },
            "type": "bar"
           }
          ],
          "barpolar": [
           {
            "marker": {
             "line": {
              "color": "#E5ECF6",
              "width": 0.5
             },
             "pattern": {
              "fillmode": "overlay",
              "size": 10,
              "solidity": 0.2
             }
            },
            "type": "barpolar"
           }
          ],
          "carpet": [
           {
            "aaxis": {
             "endlinecolor": "#2a3f5f",
             "gridcolor": "white",
             "linecolor": "white",
             "minorgridcolor": "white",
             "startlinecolor": "#2a3f5f"
            },
            "baxis": {
             "endlinecolor": "#2a3f5f",
             "gridcolor": "white",
             "linecolor": "white",
             "minorgridcolor": "white",
             "startlinecolor": "#2a3f5f"
            },
            "type": "carpet"
           }
          ],
          "choropleth": [
           {
            "colorbar": {
             "outlinewidth": 0,
             "ticks": ""
            },
            "type": "choropleth"
           }
          ],
          "contour": [
           {
            "colorbar": {
             "outlinewidth": 0,
             "ticks": ""
            },
            "colorscale": [
             [
              0,
              "#0d0887"
             ],
             [
              0.1111111111111111,
              "#46039f"
             ],
             [
              0.2222222222222222,
              "#7201a8"
             ],
             [
              0.3333333333333333,
              "#9c179e"
             ],
             [
              0.4444444444444444,
              "#bd3786"
             ],
             [
              0.5555555555555556,
              "#d8576b"
             ],
             [
              0.6666666666666666,
              "#ed7953"
             ],
             [
              0.7777777777777778,
              "#fb9f3a"
             ],
             [
              0.8888888888888888,
              "#fdca26"
             ],
             [
              1,
              "#f0f921"
             ]
            ],
            "type": "contour"
           }
          ],
          "contourcarpet": [
           {
            "colorbar": {
             "outlinewidth": 0,
             "ticks": ""
            },
            "type": "contourcarpet"
           }
          ],
          "heatmap": [
           {
            "colorbar": {
             "outlinewidth": 0,
             "ticks": ""
            },
            "colorscale": [
             [
              0,
              "#0d0887"
             ],
             [
              0.1111111111111111,
              "#46039f"
             ],
             [
              0.2222222222222222,
              "#7201a8"
             ],
             [
              0.3333333333333333,
              "#9c179e"
             ],
             [
              0.4444444444444444,
              "#bd3786"
             ],
             [
              0.5555555555555556,
              "#d8576b"
             ],
             [
              0.6666666666666666,
              "#ed7953"
             ],
             [
              0.7777777777777778,
              "#fb9f3a"
             ],
             [
              0.8888888888888888,
              "#fdca26"
             ],
             [
              1,
              "#f0f921"
             ]
            ],
            "type": "heatmap"
           }
          ],
          "heatmapgl": [
           {
            "colorbar": {
             "outlinewidth": 0,
             "ticks": ""
            },
            "colorscale": [
             [
              0,
              "#0d0887"
             ],
             [
              0.1111111111111111,
              "#46039f"
             ],
             [
              0.2222222222222222,
              "#7201a8"
             ],
             [
              0.3333333333333333,
              "#9c179e"
             ],
             [
              0.4444444444444444,
              "#bd3786"
             ],
             [
              0.5555555555555556,
              "#d8576b"
             ],
             [
              0.6666666666666666,
              "#ed7953"
             ],
             [
              0.7777777777777778,
              "#fb9f3a"
             ],
             [
              0.8888888888888888,
              "#fdca26"
             ],
             [
              1,
              "#f0f921"
             ]
            ],
            "type": "heatmapgl"
           }
          ],
          "histogram": [
           {
            "marker": {
             "pattern": {
              "fillmode": "overlay",
              "size": 10,
              "solidity": 0.2
             }
            },
            "type": "histogram"
           }
          ],
          "histogram2d": [
           {
            "colorbar": {
             "outlinewidth": 0,
             "ticks": ""
            },
            "colorscale": [
             [
              0,
              "#0d0887"
             ],
             [
              0.1111111111111111,
              "#46039f"
             ],
             [
              0.2222222222222222,
              "#7201a8"
             ],
             [
              0.3333333333333333,
              "#9c179e"
             ],
             [
              0.4444444444444444,
              "#bd3786"
             ],
             [
              0.5555555555555556,
              "#d8576b"
             ],
             [
              0.6666666666666666,
              "#ed7953"
             ],
             [
              0.7777777777777778,
              "#fb9f3a"
             ],
             [
              0.8888888888888888,
              "#fdca26"
             ],
             [
              1,
              "#f0f921"
             ]
            ],
            "type": "histogram2d"
           }
          ],
          "histogram2dcontour": [
           {
            "colorbar": {
             "outlinewidth": 0,
             "ticks": ""
            },
            "colorscale": [
             [
              0,
              "#0d0887"
             ],
             [
              0.1111111111111111,
              "#46039f"
             ],
             [
              0.2222222222222222,
              "#7201a8"
             ],
             [
              0.3333333333333333,
              "#9c179e"
             ],
             [
              0.4444444444444444,
              "#bd3786"
             ],
             [
              0.5555555555555556,
              "#d8576b"
             ],
             [
              0.6666666666666666,
              "#ed7953"
             ],
             [
              0.7777777777777778,
              "#fb9f3a"
             ],
             [
              0.8888888888888888,
              "#fdca26"
             ],
             [
              1,
              "#f0f921"
             ]
            ],
            "type": "histogram2dcontour"
           }
          ],
          "mesh3d": [
           {
            "colorbar": {
             "outlinewidth": 0,
             "ticks": ""
            },
            "type": "mesh3d"
           }
          ],
          "parcoords": [
           {
            "line": {
             "colorbar": {
              "outlinewidth": 0,
              "ticks": ""
             }
            },
            "type": "parcoords"
           }
          ],
          "pie": [
           {
            "automargin": true,
            "type": "pie"
           }
          ],
          "scatter": [
           {
            "fillpattern": {
             "fillmode": "overlay",
             "size": 10,
             "solidity": 0.2
            },
            "type": "scatter"
           }
          ],
          "scatter3d": [
           {
            "line": {
             "colorbar": {
              "outlinewidth": 0,
              "ticks": ""
             }
            },
            "marker": {
             "colorbar": {
              "outlinewidth": 0,
              "ticks": ""
             }
            },
            "type": "scatter3d"
           }
          ],
          "scattercarpet": [
           {
            "marker": {
             "colorbar": {
              "outlinewidth": 0,
              "ticks": ""
             }
            },
            "type": "scattercarpet"
           }
          ],
          "scattergeo": [
           {
            "marker": {
             "colorbar": {
              "outlinewidth": 0,
              "ticks": ""
             }
            },
            "type": "scattergeo"
           }
          ],
          "scattergl": [
           {
            "marker": {
             "colorbar": {
              "outlinewidth": 0,
              "ticks": ""
             }
            },
            "type": "scattergl"
           }
          ],
          "scattermapbox": [
           {
            "marker": {
             "colorbar": {
              "outlinewidth": 0,
              "ticks": ""
             }
            },
            "type": "scattermapbox"
           }
          ],
          "scatterpolar": [
           {
            "marker": {
             "colorbar": {
              "outlinewidth": 0,
              "ticks": ""
             }
            },
            "type": "scatterpolar"
           }
          ],
          "scatterpolargl": [
           {
            "marker": {
             "colorbar": {
              "outlinewidth": 0,
              "ticks": ""
             }
            },
            "type": "scatterpolargl"
           }
          ],
          "scatterternary": [
           {
            "marker": {
             "colorbar": {
              "outlinewidth": 0,
              "ticks": ""
             }
            },
            "type": "scatterternary"
           }
          ],
          "surface": [
           {
            "colorbar": {
             "outlinewidth": 0,
             "ticks": ""
            },
            "colorscale": [
             [
              0,
              "#0d0887"
             ],
             [
              0.1111111111111111,
              "#46039f"
             ],
             [
              0.2222222222222222,
              "#7201a8"
             ],
             [
              0.3333333333333333,
              "#9c179e"
             ],
             [
              0.4444444444444444,
              "#bd3786"
             ],
             [
              0.5555555555555556,
              "#d8576b"
             ],
             [
              0.6666666666666666,
              "#ed7953"
             ],
             [
              0.7777777777777778,
              "#fb9f3a"
             ],
             [
              0.8888888888888888,
              "#fdca26"
             ],
             [
              1,
              "#f0f921"
             ]
            ],
            "type": "surface"
           }
          ],
          "table": [
           {
            "cells": {
             "fill": {
              "color": "#EBF0F8"
             },
             "line": {
              "color": "white"
             }
            },
            "header": {
             "fill": {
              "color": "#C8D4E3"
             },
             "line": {
              "color": "white"
             }
            },
            "type": "table"
           }
          ]
         },
         "layout": {
          "annotationdefaults": {
           "arrowcolor": "#2a3f5f",
           "arrowhead": 0,
           "arrowwidth": 1
          },
          "autotypenumbers": "strict",
          "coloraxis": {
           "colorbar": {
            "outlinewidth": 0,
            "ticks": ""
           }
          },
          "colorscale": {
           "diverging": [
            [
             0,
             "#8e0152"
            ],
            [
             0.1,
             "#c51b7d"
            ],
            [
             0.2,
             "#de77ae"
            ],
            [
             0.3,
             "#f1b6da"
            ],
            [
             0.4,
             "#fde0ef"
            ],
            [
             0.5,
             "#f7f7f7"
            ],
            [
             0.6,
             "#e6f5d0"
            ],
            [
             0.7,
             "#b8e186"
            ],
            [
             0.8,
             "#7fbc41"
            ],
            [
             0.9,
             "#4d9221"
            ],
            [
             1,
             "#276419"
            ]
           ],
           "sequential": [
            [
             0,
             "#0d0887"
            ],
            [
             0.1111111111111111,
             "#46039f"
            ],
            [
             0.2222222222222222,
             "#7201a8"
            ],
            [
             0.3333333333333333,
             "#9c179e"
            ],
            [
             0.4444444444444444,
             "#bd3786"
            ],
            [
             0.5555555555555556,
             "#d8576b"
            ],
            [
             0.6666666666666666,
             "#ed7953"
            ],
            [
             0.7777777777777778,
             "#fb9f3a"
            ],
            [
             0.8888888888888888,
             "#fdca26"
            ],
            [
             1,
             "#f0f921"
            ]
           ],
           "sequentialminus": [
            [
             0,
             "#0d0887"
            ],
            [
             0.1111111111111111,
             "#46039f"
            ],
            [
             0.2222222222222222,
             "#7201a8"
            ],
            [
             0.3333333333333333,
             "#9c179e"
            ],
            [
             0.4444444444444444,
             "#bd3786"
            ],
            [
             0.5555555555555556,
             "#d8576b"
            ],
            [
             0.6666666666666666,
             "#ed7953"
            ],
            [
             0.7777777777777778,
             "#fb9f3a"
            ],
            [
             0.8888888888888888,
             "#fdca26"
            ],
            [
             1,
             "#f0f921"
            ]
           ]
          },
          "colorway": [
           "#636efa",
           "#EF553B",
           "#00cc96",
           "#ab63fa",
           "#FFA15A",
           "#19d3f3",
           "#FF6692",
           "#B6E880",
           "#FF97FF",
           "#FECB52"
          ],
          "font": {
           "color": "#2a3f5f"
          },
          "geo": {
           "bgcolor": "white",
           "lakecolor": "white",
           "landcolor": "#E5ECF6",
           "showlakes": true,
           "showland": true,
           "subunitcolor": "white"
          },
          "hoverlabel": {
           "align": "left"
          },
          "hovermode": "closest",
          "mapbox": {
           "style": "light"
          },
          "paper_bgcolor": "white",
          "plot_bgcolor": "#E5ECF6",
          "polar": {
           "angularaxis": {
            "gridcolor": "white",
            "linecolor": "white",
            "ticks": ""
           },
           "bgcolor": "#E5ECF6",
           "radialaxis": {
            "gridcolor": "white",
            "linecolor": "white",
            "ticks": ""
           }
          },
          "scene": {
           "xaxis": {
            "backgroundcolor": "#E5ECF6",
            "gridcolor": "white",
            "gridwidth": 2,
            "linecolor": "white",
            "showbackground": true,
            "ticks": "",
            "zerolinecolor": "white"
           },
           "yaxis": {
            "backgroundcolor": "#E5ECF6",
            "gridcolor": "white",
            "gridwidth": 2,
            "linecolor": "white",
            "showbackground": true,
            "ticks": "",
            "zerolinecolor": "white"
           },
           "zaxis": {
            "backgroundcolor": "#E5ECF6",
            "gridcolor": "white",
            "gridwidth": 2,
            "linecolor": "white",
            "showbackground": true,
            "ticks": "",
            "zerolinecolor": "white"
           }
          },
          "shapedefaults": {
           "line": {
            "color": "#2a3f5f"
           }
          },
          "ternary": {
           "aaxis": {
            "gridcolor": "white",
            "linecolor": "white",
            "ticks": ""
           },
           "baxis": {
            "gridcolor": "white",
            "linecolor": "white",
            "ticks": ""
           },
           "bgcolor": "#E5ECF6",
           "caxis": {
            "gridcolor": "white",
            "linecolor": "white",
            "ticks": ""
           }
          },
          "title": {
           "x": 0.05
          },
          "xaxis": {
           "automargin": true,
           "gridcolor": "white",
           "linecolor": "white",
           "ticks": "",
           "title": {
            "standoff": 15
           },
           "zerolinecolor": "white",
           "zerolinewidth": 2
          },
          "yaxis": {
           "automargin": true,
           "gridcolor": "white",
           "linecolor": "white",
           "ticks": "",
           "title": {
            "standoff": 15
           },
           "zerolinecolor": "white",
           "zerolinewidth": 2
          }
         }
        },
        "xaxis": {
         "anchor": "y",
         "domain": [
          0,
          0.425
         ]
        },
        "xaxis2": {
         "anchor": "y2",
         "domain": [
          0.575,
          1
         ]
        },
        "yaxis": {
         "anchor": "x",
         "domain": [
          0,
          1
         ],
         "title": {
          "text": "Signal (a.u.)"
         }
        },
        "yaxis2": {
         "anchor": "x2",
         "domain": [
          0,
          1
         ],
         "title": {
          "text": "Percentual Residuals"
         }
        }
       }
      }
     },
     "metadata": {},
     "output_type": "display_data"
    }
   ],
   "source": [
    "cal = Calibration.from_excel(\n",
    "    path=path,\n",
    "    reactant_id=\"s1\",\n",
    "    wavelength=340,\n",
    "    concentration_unit=\"mmole / l\",\n",
    "    temperature=37,\n",
    "    temperature_unit=\"C\",\n",
    "    pH=7,\n",
    "    sheet_name=\"csv\",\n",
    ")\n",
    "\n",
    "stand = StandardCurve.from_datamodel(cal, cutoff_signal=3.3)\n",
    "stand.visualize()"
   ]
  },
  {
   "cell_type": "code",
   "execution_count": 84,
   "metadata": {},
   "outputs": [
    {
     "data": {
      "text/plain": [
       "Result(id='result0', concentration=[0.05566404219598898, 0.08376833577273778, 0.1407568074112227, 0.46090892723844296], calibration_model=Model(id='model0', name='3rd degree polynominal', equation='signal = a*concentration**3 + b*concentration**2 + c*concentration', parameters=[Parameter(id='parameter0', name='b', value=-0.5206051818764259), Parameter(id='parameter1', name='c', value=7.22184566461567), Parameter(id='parameter2', name='a', value=-2.2266175404821187)]))"
      ]
     },
     "execution_count": 84,
     "metadata": {},
     "output_type": "execute_result"
    }
   ],
   "source": [
    "stand.calculate_concentration(np.array([0.4, 0.6, 1, 3]))"
   ]
  },
  {
   "cell_type": "code",
   "execution_count": 85,
   "metadata": {},
   "outputs": [
    {
     "data": {
      "text/plain": [
       "(8.659560562354934e-17+1.4142135623730951j)"
      ]
     },
     "execution_count": 85,
     "metadata": {},
     "output_type": "execute_result"
    }
   ],
   "source": [
    "(-2) ** 0.5"
   ]
  },
  {
   "cell_type": "code",
   "execution_count": 134,
   "metadata": {},
   "outputs": [
    {
     "data": {
      "text/plain": [
       "1.0"
      ]
     },
     "execution_count": 134,
     "metadata": {},
     "output_type": "execute_result"
    }
   ],
   "source": [
    "np.exp(0 / 0.1)"
   ]
  }
 ],
 "metadata": {
  "kernelspec": {
   "display_name": "calipytion",
   "language": "python",
   "name": "python3"
  },
  "language_info": {
   "codemirror_mode": {
    "name": "ipython",
    "version": 3
   },
   "file_extension": ".py",
   "mimetype": "text/x-python",
   "name": "python",
   "nbconvert_exporter": "python",
   "pygments_lexer": "ipython3",
   "version": "3.11.2"
  },
  "orig_nbformat": 4
 },
 "nbformat": 4,
 "nbformat_minor": 2
}
