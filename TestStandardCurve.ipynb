{
 "cells": [
  {
   "cell_type": "code",
   "execution_count": 1,
   "metadata": {},
   "outputs": [],
   "source": [
    "%reload_ext autoreload\n",
    "%autoreload 2\n",
    "from CaliPytion.tools.standardcurve import StandardCurve"
   ]
  },
  {
   "cell_type": "code",
   "execution_count": 2,
   "metadata": {},
   "outputs": [],
   "source": [
    "import numpy as np\n",
    "import matplotlib.pyplot as plt"
   ]
  },
  {
   "cell_type": "code",
   "execution_count": 3,
   "metadata": {},
   "outputs": [],
   "source": [
    "def f(x, a): return a * x\n",
    "\n",
    "\n",
    "concentrations = np.linspace(0, 10, 40)\n",
    "\n",
    "\n",
    "def rand(size): return np.random.normal(1, 0.01, size)\n",
    "\n",
    "\n",
    "signals = f(concentrations, 0.5) + rand(len(concentrations))"
   ]
  },
  {
   "cell_type": "code",
   "execution_count": 4,
   "metadata": {},
   "outputs": [
    {
     "data": {
      "text/plain": [
       "<matplotlib.collections.PathCollection at 0x288726a50>"
      ]
     },
     "execution_count": 4,
     "metadata": {},
     "output_type": "execute_result"
    },
    {
     "data": {
      "image/png": "[encoded data removed]",
      "text/plain": [
       "<Figure size 640x480 with 1 Axes>"
      ]
     },
     "metadata": {},
     "output_type": "display_data"
    }
   ],
   "source": [
    "plt.scatter(concentrations, signals)"
   ]
  },
  {
   "cell_type": "code",
   "execution_count": 5,
   "metadata": {},
   "outputs": [
    {
     "name": "stdout",
     "output_type": "stream",
     "text": [
      "Standard curve data was blanked.\n",
      "{'Quadratic': -358.13666478700816, '3rd degree polynominal': -357.20154151980296, 'Linear': -355.2471606991866, 'Rational': -353.247134798125}\n"
     ]
    }
   ],
   "source": [
    "standard = StandardCurve(\n",
    "    concentrations=concentrations,\n",
    "    signals=signals,\n",
    "    conc_unit=\"mmol / l\",\n",
    "    analyte_name=\"ABTS\",\n",
    "    wavelength=420,\n",
    ")\n",
    "print(standard.result_dict)\n",
    "\n",
    "# standard.visualize()"
   ]
  },
  {
   "cell_type": "code",
   "execution_count": 6,
   "metadata": {},
   "outputs": [
    {
     "data": {
      "application/vnd.plotly.v1+json": {
       "config": {
        "plotlyServerURL": "https://plot.ly",
        "toImageButtonOptions": {
         "filename": "custom_image",
         "format": "svg",
         "scale": 1
        }
       },
       "data": [
        {
         "hoverinfo": "skip",
         "marker": {
          "color": "#1f77b4"
         },
         "mode": "markers",
         "name": "ABTS Standard",
         "type": "scatter",
         "visible": true,
         "x": [
          0,
          0.2564102564102564,
          0.5128205128205128,
          0.7692307692307692,
          1.0256410256410255,
          1.282051282051282,
          1.5384615384615383,
          1.7948717948717947,
          2.051282051282051,
          2.3076923076923075,
          2.564102564102564,
          2.8205128205128203,
          3.0769230769230766,
          3.333333333333333,
          3.5897435897435894,
          3.846153846153846,
          4.102564102564102,
          4.358974358974359,
          4.615384615384615,
          4.871794871794871,
          5.128205128205128,
          5.384615384615384,
          5.6410256410256405,
          5.897435897435897,
          6.153846153846153,
          6.41025641025641,
          6.666666666666666,
          6.9230769230769225,
          7.179487179487179,
          7.435897435897435,
          7.692307692307692,
          7.948717948717948,
          8.205128205128204,
          8.46153846153846,
          8.717948717948717,
          8.974358974358974,
          9.23076923076923,
          9.487179487179485,
          9.743589743589743,
          10
         ],
         "xaxis": "x",
         "y": [
          0,
          0.1086025266652988,
          0.24358527824203668,
          0.38277367136790685,
          0.5109529590164208,
          0.6312309777867602,
          0.7455651802508687,
          0.8944332425431427,
          1.0131283454507796,
          1.1384845068663512,
          1.27665018198689,
          1.3929325732202664,
          1.4969884725058074,
          1.6742139894673156,
          1.7896091258136657,
          1.919792800115792,
          2.022850024688409,
          2.1577481910558123,
          2.288545337090805,
          2.4302635847761027,
          2.5482696132425753,
          2.677332205273081,
          2.817999974890973,
          2.9271509605509105,
          3.051280879490086,
          3.192685737962948,
          3.309517753497602,
          3.4625109187655947,
          3.565092601592728,
          3.69900276016971,
          3.822123542189892,
          3.9444750048091524,
          4.084797339773274,
          4.211753180346152,
          4.333757864906914,
          4.468338699379272,
          4.608438001996467,
          4.74984569871957,
          4.845173767412552,
          4.968426739671566
         ],
         "yaxis": "y"
        },
        {
         "hoverinfo": "skip",
         "marker": {
          "color": "#1f77b4"
         },
         "mode": "lines",
         "name": "Quadratic",
         "type": "scatter",
         "visible": true,
         "x": [
          0,
          0.05025125628140704,
          0.10050251256281408,
          0.15075376884422112,
          0.20100502512562815,
          0.2512562814070352,
          0.30150753768844224,
          0.35175879396984927,
          0.4020100502512563,
          0.45226130653266333,
          0.5025125628140704,
          0.5527638190954774,
          0.6030150753768845,
          0.6532663316582915,
          0.7035175879396985,
          0.7537688442211056,
          0.8040201005025126,
          0.8542713567839196,
          0.9045226130653267,
          0.9547738693467337,
          1.0050251256281408,
          1.0552763819095479,
          1.105527638190955,
          1.155778894472362,
          1.206030150753769,
          1.256281407035176,
          1.306532663316583,
          1.35678391959799,
          1.407035175879397,
          1.4572864321608041,
          1.5075376884422111,
          1.5577889447236182,
          1.6080402010050252,
          1.6582914572864322,
          1.7085427135678393,
          1.7587939698492463,
          1.8090452261306533,
          1.8592964824120604,
          1.9095477386934674,
          1.9597989949748744,
          2.0100502512562817,
          2.0603015075376887,
          2.1105527638190957,
          2.1608040201005028,
          2.21105527638191,
          2.261306532663317,
          2.311557788944724,
          2.361809045226131,
          2.412060301507538,
          2.462311557788945,
          2.512562814070352,
          2.562814070351759,
          2.613065326633166,
          2.663316582914573,
          2.71356783919598,
          2.763819095477387,
          2.814070351758794,
          2.864321608040201,
          2.9145728643216082,
          2.9648241206030153,
          3.0150753768844223,
          3.0653266331658293,
          3.1155778894472363,
          3.1658291457286434,
          3.2160804020100504,
          3.2663316582914574,
          3.3165829145728645,
          3.3668341708542715,
          3.4170854271356785,
          3.4673366834170856,
          3.5175879396984926,
          3.5678391959798996,
          3.6180904522613067,
          3.6683417085427137,
          3.7185929648241207,
          3.7688442211055277,
          3.819095477386935,
          3.869346733668342,
          3.919597989949749,
          3.969849246231156,
          4.020100502512563,
          4.07035175879397,
          4.120603015075377,
          4.170854271356784,
          4.2211055276381915,
          4.2713567839195985,
          4.3216080402010055,
          4.371859296482413,
          4.42211055276382,
          4.472361809045227,
          4.522613065326634,
          4.572864321608041,
          4.623115577889448,
          4.673366834170855,
          4.723618090452262,
          4.773869346733669,
          4.824120603015076,
          4.874371859296483,
          4.92462311557789,
          4.974874371859297,
          5.025125628140704,
          5.075376884422111,
          5.125628140703518,
          5.175879396984925,
          5.226130653266332,
          5.276381909547739,
          5.326633165829146,
          5.376884422110553,
          5.42713567839196,
          5.477386934673367,
          5.527638190954774,
          5.577889447236181,
          5.628140703517588,
          5.678391959798995,
          5.728643216080402,
          5.778894472361809,
          5.8291457286432165,
          5.8793969849246235,
          5.9296482412060305,
          5.9798994974874375,
          6.030150753768845,
          6.080402010050252,
          6.130653266331659,
          6.180904522613066,
          6.231155778894473,
          6.28140703517588,
          6.331658291457287,
          6.381909547738694,
          6.432160804020101,
          6.482412060301508,
          6.532663316582915,
          6.582914572864322,
          6.633165829145729,
          6.683417085427136,
          6.733668341708543,
          6.78391959798995,
          6.834170854271357,
          6.884422110552764,
          6.934673366834171,
          6.984924623115578,
          7.035175879396985,
          7.085427135678392,
          7.135678391959799,
          7.185929648241206,
          7.236180904522613,
          7.28643216080402,
          7.336683417085427,
          7.386934673366834,
          7.437185929648241,
          7.4874371859296485,
          7.5376884422110555,
          7.5879396984924625,
          7.63819095477387,
          7.688442211055277,
          7.738693467336684,
          7.788944723618091,
          7.839195979899498,
          7.889447236180905,
          7.939698492462312,
          7.989949748743719,
          8.040201005025127,
          8.090452261306533,
          8.14070351758794,
          8.190954773869347,
          8.241206030150755,
          8.291457286432161,
          8.341708542713569,
          8.391959798994975,
          8.442211055276383,
          8.492462311557789,
          8.542713567839197,
          8.592964824120603,
          8.643216080402011,
          8.693467336683417,
          8.743718592964825,
          8.793969849246231,
          8.84422110552764,
          8.894472361809045,
          8.944723618090453,
          8.99497487437186,
          9.045226130653267,
          9.095477386934673,
          9.145728643216081,
          9.195979899497488,
          9.246231155778895,
          9.296482412060302,
          9.34673366834171,
          9.396984924623116,
          9.447236180904524,
          9.49748743718593,
          9.547738693467338,
          9.597989949748744,
          9.648241206030152,
          9.698492462311558,
          9.748743718592966,
          9.798994974874372,
          9.84924623115578,
          9.899497487437186,
          9.949748743718594,
          10
         ],
         "xaxis": "x",
         "y": [
          0,
          0.024870662118256455,
          0.04974305369487961,
          0.07461717472986946,
          0.099493025223226,
          0.12437060517494926,
          0.1492499145850392,
          0.17413095345349583,
          0.19901372178031917,
          0.2238982195655092,
          0.24878444680906597,
          0.27367240351098937,
          0.2985620896712795,
          0.3234535052899363,
          0.34834665036695983,
          0.3732415249023501,
          0.398138128896107,
          0.4230364623482306,
          0.4479365252587209,
          0.4728383176275779,
          0.49774183945480166,
          0.5226470907403921,
          0.5475540714843491,
          0.572462781686673,
          0.5973732213473635,
          0.6222853904664206,
          0.6471992890438445,
          0.6721149170796351,
          0.6970322745737924,
          0.7219513615263163,
          0.7468721779372071,
          0.7717947238064644,
          0.7967189991340885,
          0.8216450039200792,
          0.8465727381644368,
          0.8715022018671609,
          0.8964333950282517,
          0.9213663176477094,
          0.9463009697255336,
          0.9712373512617245,
          0.9961754622562822,
          1.0211153027092066,
          1.0460568726204977,
          1.0710001719901554,
          1.0959452008181798,
          1.120891959104571,
          1.1458404468493288,
          1.1707906640524532,
          1.1957426107139446,
          1.2206962868338025,
          1.2456516924120271,
          1.2706088274486185,
          1.2955676919435766,
          1.3205282858969012,
          1.3454906093085925,
          1.3704546621786509,
          1.3954204445070755,
          1.420387956293867,
          1.4453571975390254,
          1.4703281682425502,
          1.4953008684044418,
          1.5202752980246999,
          1.5452514571033251,
          1.5702293456403167,
          1.595208963635675,
          1.6201903110894003,
          1.645173388001492,
          1.6701581943719503,
          1.6951447302007756,
          1.7201329954879676,
          1.7451229902335261,
          1.7701147144374514,
          1.7951081680997434,
          1.820103351220402,
          1.8451002637994274,
          1.8700989058368194,
          1.8950992773325783,
          1.9201013782867036,
          1.9451052086991958,
          1.9701107685700547,
          1.9951180578992804,
          2.0201270766868724,
          2.0451378249328314,
          2.070150302637157,
          2.0951645097998495,
          2.1201804464209086,
          2.145198112500334,
          2.1702175080381267,
          2.1952386330342857,
          2.2202614874888114,
          2.245286071401704,
          2.2703123847729634,
          2.2953404276025893,
          2.320370199890582,
          2.3454017016369413,
          2.3704349328416674,
          2.39546989350476,
          2.4205065836262194,
          2.4455450032060453,
          2.4705851522442384,
          2.4956270307407977,
          2.520670638695724,
          2.5457159761090167,
          2.5707630429806763,
          2.5958118393107026,
          2.6208623650990956,
          2.6459146203458555,
          2.6709686050509815,
          2.696024319214475,
          2.7210817628363344,
          2.7461409359165607,
          2.771201838455154,
          2.796264470452114,
          2.8213288319074405,
          2.846394922821134,
          2.871462743193194,
          2.8965322930236206,
          2.9216035723124136,
          2.946676581059574,
          2.971751319265101,
          2.996827786928994,
          3.021905984051254,
          3.0469859106318813,
          3.0720675666708748,
          3.0971509521682346,
          3.122236067123962,
          3.147322911538055,
          3.1724114854105157,
          3.1975017887413424,
          3.2225938215305363,
          3.247687583778097,
          3.272783075484024,
          3.297880296648318,
          3.3229792472709785,
          3.348079927352005,
          3.373182336891399,
          3.39828647588916,
          3.423392344345287,
          3.4484999422597813,
          3.473609269632642,
          3.4987203264638693,
          3.5238331127534632,
          3.548947628501424,
          3.5740638737077517,
          3.599181848372446,
          3.6243015524955067,
          3.6494229860769347,
          3.6745461491167286,
          3.6996710416148897,
          3.724797663571417,
          3.7499260149863116,
          3.7750560958595725,
          3.8001879061912005,
          3.8253214459811953,
          3.850456715229556,
          3.8755937139362837,
          3.9007324421013783,
          3.92587289972484,
          3.9510150868066676,
          3.9761590033468623,
          4.001304649345424,
          4.026452024802352,
          4.051601129717647,
          4.076751964091308,
          4.101904527923336,
          4.127058821213731,
          4.152214843962493,
          4.17737259616962,
          4.202532077835116,
          4.227693288958977,
          4.252856229541206,
          4.278020899581801,
          4.303187299080762,
          4.3283554280380905,
          4.353525286453786,
          4.378696874327847,
          4.4038701916602765,
          4.429045238451071,
          4.454222014700234,
          4.479400520407761,
          4.504580755573657,
          4.529762720197919,
          4.554946414280548,
          4.5801318378215425,
          4.605318990820905,
          4.630507873278634,
          4.65569848519473,
          4.6808908265691915,
          4.706084897402021,
          4.731280697693216,
          4.756478227442779,
          4.781677486650707,
          4.806878475317003,
          4.832081193441665,
          4.857285641024695,
          4.88249181806609,
          4.907699724565853,
          4.932909360523981,
          4.958120725940478,
          4.98333382081534
         ],
         "yaxis": "y"
        },
        {
         "hoverinfo": "skip",
         "marker": {
          "color": "#d62728"
         },
         "mode": "markers",
         "name": "Residuals",
         "type": "scatter",
         "visible": true,
         "x": [
          0,
          0.2564102564102564,
          0.5128205128205128,
          0.7692307692307692,
          1.0256410256410255,
          1.282051282051282,
          1.5384615384615383,
          1.7948717948717947,
          2.051282051282051,
          2.3076923076923075,
          2.564102564102564,
          2.8205128205128203,
          3.0769230769230766,
          3.333333333333333,
          3.5897435897435894,
          3.846153846153846,
          4.102564102564102,
          4.358974358974359,
          4.615384615384615,
          4.871794871794871,
          5.128205128205128,
          5.384615384615384,
          5.6410256410256405,
          5.897435897435897,
          6.153846153846153,
          6.41025641025641,
          6.666666666666666,
          6.9230769230769225,
          7.179487179487179,
          7.435897435897435,
          7.692307692307692,
          7.948717948717948,
          8.205128205128204,
          8.46153846153846,
          8.717948717948717,
          8.974358974358974,
          9.23076923076923,
          9.487179487179485,
          9.743589743589743,
          10
         ],
         "xaxis": "x2",
         "y": [
          0,
          14.43381519973328,
          4.058556315116731,
          -0.491422451518488,
          -0.5893760703374041,
          0.6031785405451174,
          2.1836197116452176,
          -0.5657623123665688,
          0.34529946233581177,
          0.4752743285733669,
          -0.42488971133564934,
          0.4067389537458722,
          1.903647511115739,
          -1.2526462951970427,
          -0.48287466448223937,
          -0.5884571482528207,
          0.653651373492266,
          0.27978170677433734,
          0.1284976156376078,
          -0.45638528706574255,
          -0.049831725085570565,
          -0.09380012547502549,
          -0.5462218135874364,
          0.11782486100933376,
          0.23805191948126236,
          -0.19208649961094232,
          0.1537128207570981,
          -0.5752798127900383,
          0.16105840631698293,
          0.0006496797601328625,
          0.1340732409738215,
          0.27943084695858145,
          -0.023292697344103514,
          0.010827612892690488,
          0.15803248925385974,
          0.01637853813154961,
          -0.23640947669434464,
          -0.5021783311603126,
          0.19623707973890947,
          0.2991387227864934
         ],
         "yaxis": "y2"
        }
       ],
       "layout": {
        "annotations": [
         {
          "font": {
           "size": 16
          },
          "showarrow": false,
          "text": "Standard Curve",
          "x": 0.2125,
          "xanchor": "center",
          "xref": "paper",
          "y": 1,
          "yanchor": "bottom",
          "yref": "paper"
         },
         {
          "font": {
           "size": 16
          },
          "showarrow": false,
          "text": "Residuals",
          "x": 0.7875,
          "xanchor": "center",
          "xref": "paper",
          "y": 1,
          "yanchor": "bottom",
          "yref": "paper"
         },
         {
          "font": {
           "size": 16
          },
          "showarrow": false,
          "text": "ABTS concentration (mmol L<sup>-1</sup>)",
          "x": 0.5,
          "xanchor": "center",
          "xref": "paper",
          "y": 0,
          "yanchor": "top",
          "yref": "paper",
          "yshift": -30
         }
        ],
        "shapes": [
         {
          "line": {
           "color": "#000000",
           "dash": "dot",
           "width": 2
          },
          "type": "line",
          "x0": 0,
          "x1": 1,
          "xref": "x2 domain",
          "y0": 0,
          "y1": 0,
          "yref": "y2"
         }
        ],
        "template": {
         "data": {
          "bar": [
           {
            "error_x": {
             "color": "#2a3f5f"
            },
            "error_y": {
             "color": "#2a3f5f"
            },
            "marker": {
             "line": {
              "color": "#E5ECF6",
              "width": 0.5
             },
             "pattern": {
              "fillmode": "overlay",
              "size": 10,
              "solidity": 0.2
             }
            },
            "type": "bar"
           }
          ],
          "barpolar": [
           {
            "marker": {
             "line": {
              "color": "#E5ECF6",
              "width": 0.5
             },
             "pattern": {
              "fillmode": "overlay",
              "size": 10,
              "solidity": 0.2
             }
            },
            "type": "barpolar"
           }
          ],
          "carpet": [
           {
            "aaxis": {
             "endlinecolor": "#2a3f5f",
             "gridcolor": "white",
             "linecolor": "white",
             "minorgridcolor": "white",
             "startlinecolor": "#2a3f5f"
            },
            "baxis": {
             "endlinecolor": "#2a3f5f",
             "gridcolor": "white",
             "linecolor": "white",
             "minorgridcolor": "white",
             "startlinecolor": "#2a3f5f"
            },
            "type": "carpet"
           }
          ],
          "choropleth": [
           {
            "colorbar": {
             "outlinewidth": 0,
             "ticks": ""
            },
            "type": "choropleth"
           }
          ],
          "contour": [
           {
            "colorbar": {
             "outlinewidth": 0,
             "ticks": ""
            },
            "colorscale": [
             [
              0,
              "#0d0887"
             ],
             [
              0.1111111111111111,
              "#46039f"
             ],
             [
              0.2222222222222222,
              "#7201a8"
             ],
             [
              0.3333333333333333,
              "#9c179e"
             ],
             [
              0.4444444444444444,
              "#bd3786"
             ],
             [
              0.5555555555555556,
              "#d8576b"
             ],
             [
              0.6666666666666666,
              "#ed7953"
             ],
             [
              0.7777777777777778,
              "#fb9f3a"
             ],
             [
              0.8888888888888888,
              "#fdca26"
             ],
             [
              1,
              "#f0f921"
             ]
            ],
            "type": "contour"
           }
          ],
          "contourcarpet": [
           {
            "colorbar": {
             "outlinewidth": 0,
             "ticks": ""
            },
            "type": "contourcarpet"
           }
          ],
          "heatmap": [
           {
            "colorbar": {
             "outlinewidth": 0,
             "ticks": ""
            },
            "colorscale": [
             [
              0,
              "#0d0887"
             ],
             [
              0.1111111111111111,
              "#46039f"
             ],
             [
              0.2222222222222222,
              "#7201a8"
             ],
             [
              0.3333333333333333,
              "#9c179e"
             ],
             [
              0.4444444444444444,
              "#bd3786"
             ],
             [
              0.5555555555555556,
              "#d8576b"
             ],
             [
              0.6666666666666666,
              "#ed7953"
             ],
             [
              0.7777777777777778,
              "#fb9f3a"
             ],
             [
              0.8888888888888888,
              "#fdca26"
             ],
             [
              1,
              "#f0f921"
             ]
            ],
            "type": "heatmap"
           }
          ],
          "heatmapgl": [
           {
            "colorbar": {
             "outlinewidth": 0,
             "ticks": ""
            },
            "colorscale": [
             [
              0,
              "#0d0887"
             ],
             [
              0.1111111111111111,
              "#46039f"
             ],
             [
              0.2222222222222222,
              "#7201a8"
             ],
             [
              0.3333333333333333,
              "#9c179e"
             ],
             [
              0.4444444444444444,
              "#bd3786"
             ],
             [
              0.5555555555555556,
              "#d8576b"
             ],
             [
              0.6666666666666666,
              "#ed7953"
             ],
             [
              0.7777777777777778,
              "#fb9f3a"
             ],
             [
              0.8888888888888888,
              "#fdca26"
             ],
             [
              1,
              "#f0f921"
             ]
            ],
            "type": "heatmapgl"
           }
          ],
          "histogram": [
           {
            "marker": {
             "pattern": {
              "fillmode": "overlay",
              "size": 10,
              "solidity": 0.2
             }
            },
            "type": "histogram"
           }
          ],
          "histogram2d": [
           {
            "colorbar": {
             "outlinewidth": 0,
             "ticks": ""
            },
            "colorscale": [
             [
              0,
              "#0d0887"
             ],
             [
              0.1111111111111111,
              "#46039f"
             ],
             [
              0.2222222222222222,
              "#7201a8"
             ],
             [
              0.3333333333333333,
              "#9c179e"
             ],
             [
              0.4444444444444444,
              "#bd3786"
             ],
             [
              0.5555555555555556,
              "#d8576b"
             ],
             [
              0.6666666666666666,
              "#ed7953"
             ],
             [
              0.7777777777777778,
              "#fb9f3a"
             ],
             [
              0.8888888888888888,
              "#fdca26"
             ],
             [
              1,
              "#f0f921"
             ]
            ],
            "type": "histogram2d"
           }
          ],
          "histogram2dcontour": [
           {
            "colorbar": {
             "outlinewidth": 0,
             "ticks": ""
            },
            "colorscale": [
             [
              0,
              "#0d0887"
             ],
             [
              0.1111111111111111,
              "#46039f"
             ],
             [
              0.2222222222222222,
              "#7201a8"
             ],
             [
              0.3333333333333333,
              "#9c179e"
             ],
             [
              0.4444444444444444,
              "#bd3786"
             ],
             [
              0.5555555555555556,
              "#d8576b"
             ],
             [
              0.6666666666666666,
              "#ed7953"
             ],
             [
              0.7777777777777778,
              "#fb9f3a"
             ],
             [
              0.8888888888888888,
              "#fdca26"
             ],
             [
              1,
              "#f0f921"
             ]
            ],
            "type": "histogram2dcontour"
           }
          ],
          "mesh3d": [
           {
            "colorbar": {
             "outlinewidth": 0,
             "ticks": ""
            },
            "type": "mesh3d"
           }
          ],
          "parcoords": [
           {
            "line": {
             "colorbar": {
              "outlinewidth": 0,
              "ticks": ""
             }
            },
            "type": "parcoords"
           }
          ],
          "pie": [
           {
            "automargin": true,
            "type": "pie"
           }
          ],
          "scatter": [
           {
            "fillpattern": {
             "fillmode": "overlay",
             "size": 10,
             "solidity": 0.2
            },
            "type": "scatter"
           }
          ],
          "scatter3d": [
           {
            "line": {
             "colorbar": {
              "outlinewidth": 0,
              "ticks": ""
             }
            },
            "marker": {
             "colorbar": {
              "outlinewidth": 0,
              "ticks": ""
             }
            },
            "type": "scatter3d"
           }
          ],
          "scattercarpet": [
           {
            "marker": {
             "colorbar": {
              "outlinewidth": 0,
              "ticks": ""
             }
            },
            "type": "scattercarpet"
           }
          ],
          "scattergeo": [
           {
            "marker": {
             "colorbar": {
              "outlinewidth": 0,
              "ticks": ""
             }
            },
            "type": "scattergeo"
           }
          ],
          "scattergl": [
           {
            "marker": {
             "colorbar": {
              "outlinewidth": 0,
              "ticks": ""
             }
            },
            "type": "scattergl"
           }
          ],
          "scattermapbox": [
           {
            "marker": {
             "colorbar": {
              "outlinewidth": 0,
              "ticks": ""
             }
            },
            "type": "scattermapbox"
           }
          ],
          "scatterpolar": [
           {
            "marker": {
             "colorbar": {
              "outlinewidth": 0,
              "ticks": ""
             }
            },
            "type": "scatterpolar"
           }
          ],
          "scatterpolargl": [
           {
            "marker": {
             "colorbar": {
              "outlinewidth": 0,
              "ticks": ""
             }
            },
            "type": "scatterpolargl"
           }
          ],
          "scatterternary": [
           {
            "marker": {
             "colorbar": {
              "outlinewidth": 0,
              "ticks": ""
             }
            },
            "type": "scatterternary"
           }
          ],
          "surface": [
           {
            "colorbar": {
             "outlinewidth": 0,
             "ticks": ""
            },
            "colorscale": [
             [
              0,
              "#0d0887"
             ],
             [
              0.1111111111111111,
              "#46039f"
             ],
             [
              0.2222222222222222,
              "#7201a8"
             ],
             [
              0.3333333333333333,
              "#9c179e"
             ],
             [
              0.4444444444444444,
              "#bd3786"
             ],
             [
              0.5555555555555556,
              "#d8576b"
             ],
             [
              0.6666666666666666,
              "#ed7953"
             ],
             [
              0.7777777777777778,
              "#fb9f3a"
             ],
             [
              0.8888888888888888,
              "#fdca26"
             ],
             [
              1,
              "#f0f921"
             ]
            ],
            "type": "surface"
           }
          ],
          "table": [
           {
            "cells": {
             "fill": {
              "color": "#EBF0F8"
             },
             "line": {
              "color": "white"
             }
            },
            "header": {
             "fill": {
              "color": "#C8D4E3"
             },
             "line": {
              "color": "white"
             }
            },
            "type": "table"
           }
          ]
         },
         "layout": {
          "annotationdefaults": {
           "arrowcolor": "#2a3f5f",
           "arrowhead": 0,
           "arrowwidth": 1
          },
          "autotypenumbers": "strict",
          "coloraxis": {
           "colorbar": {
            "outlinewidth": 0,
            "ticks": ""
           }
          },
          "colorscale": {
           "diverging": [
            [
             0,
             "#8e0152"
            ],
            [
             0.1,
             "#c51b7d"
            ],
            [
             0.2,
             "#de77ae"
            ],
            [
             0.3,
             "#f1b6da"
            ],
            [
             0.4,
             "#fde0ef"
            ],
            [
             0.5,
             "#f7f7f7"
            ],
            [
             0.6,
             "#e6f5d0"
            ],
            [
             0.7,
             "#b8e186"
            ],
            [
             0.8,
             "#7fbc41"
            ],
            [
             0.9,
             "#4d9221"
            ],
            [
             1,
             "#276419"
            ]
           ],
           "sequential": [
            [
             0,
             "#0d0887"
            ],
            [
             0.1111111111111111,
             "#46039f"
            ],
            [
             0.2222222222222222,
             "#7201a8"
            ],
            [
             0.3333333333333333,
             "#9c179e"
            ],
            [
             0.4444444444444444,
             "#bd3786"
            ],
            [
             0.5555555555555556,
             "#d8576b"
            ],
            [
             0.6666666666666666,
             "#ed7953"
            ],
            [
             0.7777777777777778,
             "#fb9f3a"
            ],
            [
             0.8888888888888888,
             "#fdca26"
            ],
            [
             1,
             "#f0f921"
            ]
           ],
           "sequentialminus": [
            [
             0,
             "#0d0887"
            ],
            [
             0.1111111111111111,
             "#46039f"
            ],
            [
             0.2222222222222222,
             "#7201a8"
            ],
            [
             0.3333333333333333,
             "#9c179e"
            ],
            [
             0.4444444444444444,
             "#bd3786"
            ],
            [
             0.5555555555555556,
             "#d8576b"
            ],
            [
             0.6666666666666666,
             "#ed7953"
            ],
            [
             0.7777777777777778,
             "#fb9f3a"
            ],
            [
             0.8888888888888888,
             "#fdca26"
            ],
            [
             1,
             "#f0f921"
            ]
           ]
          },
          "colorway": [
           "#636efa",
           "#EF553B",
           "#00cc96",
           "#ab63fa",
           "#FFA15A",
           "#19d3f3",
           "#FF6692",
           "#B6E880",
           "#FF97FF",
           "#FECB52"
          ],
          "font": {
           "color": "#2a3f5f"
          },
          "geo": {
           "bgcolor": "white",
           "lakecolor": "white",
           "landcolor": "#E5ECF6",
           "showlakes": true,
           "showland": true,
           "subunitcolor": "white"
          },
          "hoverlabel": {
           "align": "left"
          },
          "hovermode": "closest",
          "mapbox": {
           "style": "light"
          },
          "paper_bgcolor": "white",
          "plot_bgcolor": "#E5ECF6",
          "polar": {
           "angularaxis": {
            "gridcolor": "white",
            "linecolor": "white",
            "ticks": ""
           },
           "bgcolor": "#E5ECF6",
           "radialaxis": {
            "gridcolor": "white",
            "linecolor": "white",
            "ticks": ""
           }
          },
          "scene": {
           "xaxis": {
            "backgroundcolor": "#E5ECF6",
            "gridcolor": "white",
            "gridwidth": 2,
            "linecolor": "white",
            "showbackground": true,
            "ticks": "",
            "zerolinecolor": "white"
           },
           "yaxis": {
            "backgroundcolor": "#E5ECF6",
            "gridcolor": "white",
            "gridwidth": 2,
            "linecolor": "white",
            "showbackground": true,
            "ticks": "",
            "zerolinecolor": "white"
           },
           "zaxis": {
            "backgroundcolor": "#E5ECF6",
            "gridcolor": "white",
            "gridwidth": 2,
            "linecolor": "white",
            "showbackground": true,
            "ticks": "",
            "zerolinecolor": "white"
           }
          },
          "shapedefaults": {
           "line": {
            "color": "#2a3f5f"
           }
          },
          "ternary": {
           "aaxis": {
            "gridcolor": "white",
            "linecolor": "white",
            "ticks": ""
           },
           "baxis": {
            "gridcolor": "white",
            "linecolor": "white",
            "ticks": ""
           },
           "bgcolor": "#E5ECF6",
           "caxis": {
            "gridcolor": "white",
            "linecolor": "white",
            "ticks": ""
           }
          },
          "title": {
           "x": 0.05
          },
          "xaxis": {
           "automargin": true,
           "gridcolor": "white",
           "linecolor": "white",
           "ticks": "",
           "title": {
            "standoff": 15
           },
           "zerolinecolor": "white",
           "zerolinewidth": 2
          },
          "yaxis": {
           "automargin": true,
           "gridcolor": "white",
           "linecolor": "white",
           "ticks": "",
           "title": {
            "standoff": 15
           },
           "zerolinecolor": "white",
           "zerolinewidth": 2
          }
         }
        },
        "xaxis": {
         "anchor": "y",
         "domain": [
          0,
          0.425
         ]
        },
        "xaxis2": {
         "anchor": "y2",
         "domain": [
          0.575,
          1
         ]
        },
        "yaxis": {
         "anchor": "x",
         "domain": [
          0,
          1
         ],
         "title": {
          "text": "Signal (a.u.)"
         }
        },
        "yaxis2": {
         "anchor": "x2",
         "domain": [
          0,
          1
         ],
         "title": {
          "text": "Residuals (%)"
         }
        }
       }
      }
     },
     "metadata": {},
     "output_type": "display_data"
    }
   ],
   "source": [
    "standard.visualize()"
   ]
  },
  {
   "attachments": {},
   "cell_type": "markdown",
   "metadata": {},
   "source": [
    "# .from_excel"
   ]
  },
  {
   "cell_type": "code",
   "execution_count": 53,
   "metadata": {},
   "outputs": [
    {
     "name": "stdout",
     "output_type": "stream",
     "text": [
      "Standard deviation among blank measurements exceeds 5% (8.0%)\n",
      "Standard curve data was blanked.\n"
     ]
    },
    {
     "data": {
      "application/vnd.plotly.v1+json": {
       "config": {
        "plotlyServerURL": "https://plot.ly",
        "toImageButtonOptions": {
         "filename": "custom_image",
         "format": "svg",
         "scale": 1
        }
       },
       "data": [
        {
         "hoverinfo": "skip",
         "marker": {
          "color": "#1f77b4"
         },
         "mode": "markers",
         "name": "hierhgisf Standard",
         "type": "scatter",
         "visible": true,
         "x": [
          0,
          0.001,
          0.005,
          0.01,
          0.05,
          0.1,
          0.25,
          0.5,
          0,
          0.001,
          0.005,
          0.01,
          0.05,
          0.1,
          0.25,
          0.5
         ],
         "xaxis": "x",
         "y": [
          0.003500000000000003,
          0.003500000000000003,
          0.0315,
          0.0675,
          0.35950000000000004,
          0.7095,
          1.7325,
          3.1765000000000003,
          -0.003499999999999996,
          0.0075,
          0.0325,
          0.0675,
          0.35450000000000004,
          0.7265,
          1.7425,
          3.2285
         ],
         "yaxis": "y"
        },
        {
         "hoverinfo": "skip",
         "marker": {
          "color": "#1f77b4"
         },
         "mode": "lines",
         "name": "3rd degree polynominal",
         "type": "scatter",
         "visible": true,
         "x": [
          0,
          0.006329113924050633,
          0.012658227848101266,
          0.0189873417721519,
          0.02531645569620253,
          0.03164556962025317,
          0.0379746835443038,
          0.04430379746835443,
          0.05063291139240506,
          0.056962025316455694,
          0.06329113924050633,
          0.06962025316455696,
          0.0759493670886076,
          0.08227848101265822,
          0.08860759493670886,
          0.09493670886075949,
          0.10126582278481013,
          0.10759493670886076,
          0.11392405063291139,
          0.12025316455696203,
          0.12658227848101267,
          0.13291139240506328,
          0.13924050632911392,
          0.14556962025316456,
          0.1518987341772152,
          0.15822784810126583,
          0.16455696202531644,
          0.17088607594936708,
          0.17721518987341772,
          0.18354430379746836,
          0.18987341772151897,
          0.1962025316455696,
          0.20253164556962025,
          0.2088607594936709,
          0.21518987341772153,
          0.22151898734177214,
          0.22784810126582278,
          0.23417721518987342,
          0.24050632911392406,
          0.24683544303797467,
          0.25316455696202533,
          0.25949367088607594,
          0.26582278481012656,
          0.2721518987341772,
          0.27848101265822783,
          0.2848101265822785,
          0.2911392405063291,
          0.2974683544303797,
          0.3037974683544304,
          0.310126582278481,
          0.31645569620253167,
          0.3227848101265823,
          0.3291139240506329,
          0.33544303797468356,
          0.34177215189873417,
          0.3481012658227848,
          0.35443037974683544,
          0.36075949367088606,
          0.3670886075949367,
          0.37341772151898733,
          0.37974683544303794,
          0.3860759493670886,
          0.3924050632911392,
          0.3987341772151899,
          0.4050632911392405,
          0.4113924050632911,
          0.4177215189873418,
          0.4240506329113924,
          0.43037974683544306,
          0.43670886075949367,
          0.4430379746835443,
          0.44936708860759494,
          0.45569620253164556,
          0.4620253164556962,
          0.46835443037974683,
          0.47468354430379744,
          0.4810126582278481,
          0.4873417721518987,
          0.49367088607594933,
          0.5
         ],
         "xaxis": "x",
         "y": [
          0,
          0.04568646520234419,
          0.09132783484867865,
          0.13692072185774742,
          0.18246173914829453,
          0.22794749963906402,
          0.2733746162487999,
          0.3187397018962462,
          0.3640393695001469,
          0.40927023197924617,
          0.45442890225228794,
          0.4995119932380162,
          0.5445161178551752,
          0.5894378890225086,
          0.6342739196587608,
          0.6790208226826756,
          0.7236752110129971,
          0.7682336975684695,
          0.8126928952678365,
          0.8570494170298424,
          0.9012998757732311,
          0.9454408844167466,
          0.9894690558791331,
          1.0333810030791344,
          1.077173338935495,
          1.1208426763669583,
          1.1643856282922684,
          1.2077988076301698,
          1.2510788272994064,
          1.294222300218722,
          1.3372258393068606,
          1.3800860574825666,
          1.4227995676645837,
          1.4653629827716563,
          1.507772915722528,
          1.5500259794359428,
          1.5921187868306452,
          1.6340479508253787,
          1.675810084338888,
          1.717401800289916,
          1.7588197115972084,
          1.8000604311795076,
          1.8411205719555583,
          1.881996746844105,
          1.922685568763891,
          1.9631836506336608,
          2.003487605372158,
          2.0435940458981268,
          2.083499585130312,
          2.1232008359874563,
          2.162694411388305,
          2.2019769242516007,
          2.2410449874960885,
          2.279895214040512,
          2.318524216803616,
          2.356928608704143,
          2.3951050026608387,
          2.4330500115924463,
          2.4707602484177102,
          2.5082323260553734,
          2.545462857424181,
          2.582448455442877,
          2.619185733030205,
          2.655671303104909,
          2.6919017785857333,
          2.7278737723914217,
          2.7635838974407188,
          2.7990287666523677,
          2.834204992945113,
          2.8691091892376988,
          2.903737968448869,
          2.9380879434973677,
          2.9721557273019386,
          3.0059379327813263,
          3.0394311728542744,
          3.0726320604395267,
          3.105537208455828,
          3.138143229821922,
          3.1704467374565524,
          3.202444344278464
         ],
         "yaxis": "y"
        },
        {
         "hoverinfo": "skip",
         "marker": {
          "color": "#d62728"
         },
         "mode": "markers",
         "name": "Residuals",
         "type": "scatter",
         "visible": true,
         "x": [
          0,
          0.001,
          0.005,
          0.01,
          0.05,
          0.1,
          0.25,
          0.5,
          0,
          0.001,
          0.005,
          0.01,
          0.05,
          0.1,
          0.25,
          0.5
         ],
         "xaxis": "x2",
         "y": [
          0,
          51.53242583069737,
          12.73255529565131,
          6.463276085723598,
          0.003461099545103409,
          0.7347860318541861,
          0.32406577694503,
          0.8101419256455165,
          0,
          -3.859087505648393,
          9.962160225671985,
          6.463276085723598,
          1.394233546004839,
          -1.6436616601239395,
          -0.2512642907205115,
          -0.8136177532042845
         ],
         "yaxis": "y2"
        }
       ],
       "layout": {
        "annotations": [
         {
          "font": {
           "size": 16
          },
          "showarrow": false,
          "text": "Standard Curve",
          "x": 0.2125,
          "xanchor": "center",
          "xref": "paper",
          "y": 1,
          "yanchor": "bottom",
          "yref": "paper"
         },
         {
          "font": {
           "size": 16
          },
          "showarrow": false,
          "text": "Residuals",
          "x": 0.7875,
          "xanchor": "center",
          "xref": "paper",
          "y": 1,
          "yanchor": "bottom",
          "yref": "paper"
         },
         {
          "font": {
           "size": 16
          },
          "showarrow": false,
          "text": "hierhgisf concentration (mmol L<sup>-1</sup>)",
          "x": 0.5,
          "xanchor": "center",
          "xref": "paper",
          "y": 0,
          "yanchor": "top",
          "yref": "paper",
          "yshift": -30
         }
        ],
        "shapes": [
         {
          "line": {
           "color": "#000000",
           "dash": "dot",
           "width": 2
          },
          "type": "line",
          "x0": 0,
          "x1": 1,
          "xref": "x2 domain",
          "y0": 0,
          "y1": 0,
          "yref": "y2"
         }
        ],
        "template": {
         "data": {
          "bar": [
           {
            "error_x": {
             "color": "#2a3f5f"
            },
            "error_y": {
             "color": "#2a3f5f"
            },
            "marker": {
             "line": {
              "color": "#E5ECF6",
              "width": 0.5
             },
             "pattern": {
              "fillmode": "overlay",
              "size": 10,
              "solidity": 0.2
             }
            },
            "type": "bar"
           }
          ],
          "barpolar": [
           {
            "marker": {
             "line": {
              "color": "#E5ECF6",
              "width": 0.5
             },
             "pattern": {
              "fillmode": "overlay",
              "size": 10,
              "solidity": 0.2
             }
            },
            "type": "barpolar"
           }
          ],
          "carpet": [
           {
            "aaxis": {
             "endlinecolor": "#2a3f5f",
             "gridcolor": "white",
             "linecolor": "white",
             "minorgridcolor": "white",
             "startlinecolor": "#2a3f5f"
            },
            "baxis": {
             "endlinecolor": "#2a3f5f",
             "gridcolor": "white",
             "linecolor": "white",
             "minorgridcolor": "white",
             "startlinecolor": "#2a3f5f"
            },
            "type": "carpet"
           }
          ],
          "choropleth": [
           {
            "colorbar": {
             "outlinewidth": 0,
             "ticks": ""
            },
            "type": "choropleth"
           }
          ],
          "contour": [
           {
            "colorbar": {
             "outlinewidth": 0,
             "ticks": ""
            },
            "colorscale": [
             [
              0,
              "#0d0887"
             ],
             [
              0.1111111111111111,
              "#46039f"
             ],
             [
              0.2222222222222222,
              "#7201a8"
             ],
             [
              0.3333333333333333,
              "#9c179e"
             ],
             [
              0.4444444444444444,
              "#bd3786"
             ],
             [
              0.5555555555555556,
              "#d8576b"
             ],
             [
              0.6666666666666666,
              "#ed7953"
             ],
             [
              0.7777777777777778,
              "#fb9f3a"
             ],
             [
              0.8888888888888888,
              "#fdca26"
             ],
             [
              1,
              "#f0f921"
             ]
            ],
            "type": "contour"
           }
          ],
          "contourcarpet": [
           {
            "colorbar": {
             "outlinewidth": 0,
             "ticks": ""
            },
            "type": "contourcarpet"
           }
          ],
          "heatmap": [
           {
            "colorbar": {
             "outlinewidth": 0,
             "ticks": ""
            },
            "colorscale": [
             [
              0,
              "#0d0887"
             ],
             [
              0.1111111111111111,
              "#46039f"
             ],
             [
              0.2222222222222222,
              "#7201a8"
             ],
             [
              0.3333333333333333,
              "#9c179e"
             ],
             [
              0.4444444444444444,
              "#bd3786"
             ],
             [
              0.5555555555555556,
              "#d8576b"
             ],
             [
              0.6666666666666666,
              "#ed7953"
             ],
             [
              0.7777777777777778,
              "#fb9f3a"
             ],
             [
              0.8888888888888888,
              "#fdca26"
             ],
             [
              1,
              "#f0f921"
             ]
            ],
            "type": "heatmap"
           }
          ],
          "heatmapgl": [
           {
            "colorbar": {
             "outlinewidth": 0,
             "ticks": ""
            },
            "colorscale": [
             [
              0,
              "#0d0887"
             ],
             [
              0.1111111111111111,
              "#46039f"
             ],
             [
              0.2222222222222222,
              "#7201a8"
             ],
             [
              0.3333333333333333,
              "#9c179e"
             ],
             [
              0.4444444444444444,
              "#bd3786"
             ],
             [
              0.5555555555555556,
              "#d8576b"
             ],
             [
              0.6666666666666666,
              "#ed7953"
             ],
             [
              0.7777777777777778,
              "#fb9f3a"
             ],
             [
              0.8888888888888888,
              "#fdca26"
             ],
             [
              1,
              "#f0f921"
             ]
            ],
            "type": "heatmapgl"
           }
          ],
          "histogram": [
           {
            "marker": {
             "pattern": {
              "fillmode": "overlay",
              "size": 10,
              "solidity": 0.2
             }
            },
            "type": "histogram"
           }
          ],
          "histogram2d": [
           {
            "colorbar": {
             "outlinewidth": 0,
             "ticks": ""
            },
            "colorscale": [
             [
              0,
              "#0d0887"
             ],
             [
              0.1111111111111111,
              "#46039f"
             ],
             [
              0.2222222222222222,
              "#7201a8"
             ],
             [
              0.3333333333333333,
              "#9c179e"
             ],
             [
              0.4444444444444444,
              "#bd3786"
             ],
             [
              0.5555555555555556,
              "#d8576b"
             ],
             [
              0.6666666666666666,
              "#ed7953"
             ],
             [
              0.7777777777777778,
              "#fb9f3a"
             ],
             [
              0.8888888888888888,
              "#fdca26"
             ],
             [
              1,
              "#f0f921"
             ]
            ],
            "type": "histogram2d"
           }
          ],
          "histogram2dcontour": [
           {
            "colorbar": {
             "outlinewidth": 0,
             "ticks": ""
            },
            "colorscale": [
             [
              0,
              "#0d0887"
             ],
             [
              0.1111111111111111,
              "#46039f"
             ],
             [
              0.2222222222222222,
              "#7201a8"
             ],
             [
              0.3333333333333333,
              "#9c179e"
             ],
             [
              0.4444444444444444,
              "#bd3786"
             ],
             [
              0.5555555555555556,
              "#d8576b"
             ],
             [
              0.6666666666666666,
              "#ed7953"
             ],
             [
              0.7777777777777778,
              "#fb9f3a"
             ],
             [
              0.8888888888888888,
              "#fdca26"
             ],
             [
              1,
              "#f0f921"
             ]
            ],
            "type": "histogram2dcontour"
           }
          ],
          "mesh3d": [
           {
            "colorbar": {
             "outlinewidth": 0,
             "ticks": ""
            },
            "type": "mesh3d"
           }
          ],
          "parcoords": [
           {
            "line": {
             "colorbar": {
              "outlinewidth": 0,
              "ticks": ""
             }
            },
            "type": "parcoords"
           }
          ],
          "pie": [
           {
            "automargin": true,
            "type": "pie"
           }
          ],
          "scatter": [
           {
            "fillpattern": {
             "fillmode": "overlay",
             "size": 10,
             "solidity": 0.2
            },
            "type": "scatter"
           }
          ],
          "scatter3d": [
           {
            "line": {
             "colorbar": {
              "outlinewidth": 0,
              "ticks": ""
             }
            },
            "marker": {
             "colorbar": {
              "outlinewidth": 0,
              "ticks": ""
             }
            },
            "type": "scatter3d"
           }
          ],
          "scattercarpet": [
           {
            "marker": {
             "colorbar": {
              "outlinewidth": 0,
              "ticks": ""
             }
            },
            "type": "scattercarpet"
           }
          ],
          "scattergeo": [
           {
            "marker": {
             "colorbar": {
              "outlinewidth": 0,
              "ticks": ""
             }
            },
            "type": "scattergeo"
           }
          ],
          "scattergl": [
           {
            "marker": {
             "colorbar": {
              "outlinewidth": 0,
              "ticks": ""
             }
            },
            "type": "scattergl"
           }
          ],
          "scattermapbox": [
           {
            "marker": {
             "colorbar": {
              "outlinewidth": 0,
              "ticks": ""
             }
            },
            "type": "scattermapbox"
           }
          ],
          "scatterpolar": [
           {
            "marker": {
             "colorbar": {
              "outlinewidth": 0,
              "ticks": ""
             }
            },
            "type": "scatterpolar"
           }
          ],
          "scatterpolargl": [
           {
            "marker": {
             "colorbar": {
              "outlinewidth": 0,
              "ticks": ""
             }
            },
            "type": "scatterpolargl"
           }
          ],
          "scatterternary": [
           {
            "marker": {
             "colorbar": {
              "outlinewidth": 0,
              "ticks": ""
             }
            },
            "type": "scatterternary"
           }
          ],
          "surface": [
           {
            "colorbar": {
             "outlinewidth": 0,
             "ticks": ""
            },
            "colorscale": [
             [
              0,
              "#0d0887"
             ],
             [
              0.1111111111111111,
              "#46039f"
             ],
             [
              0.2222222222222222,
              "#7201a8"
             ],
             [
              0.3333333333333333,
              "#9c179e"
             ],
             [
              0.4444444444444444,
              "#bd3786"
             ],
             [
              0.5555555555555556,
              "#d8576b"
             ],
             [
              0.6666666666666666,
              "#ed7953"
             ],
             [
              0.7777777777777778,
              "#fb9f3a"
             ],
             [
              0.8888888888888888,
              "#fdca26"
             ],
             [
              1,
              "#f0f921"
             ]
            ],
            "type": "surface"
           }
          ],
          "table": [
           {
            "cells": {
             "fill": {
              "color": "#EBF0F8"
             },
             "line": {
              "color": "white"
             }
            },
            "header": {
             "fill": {
              "color": "#C8D4E3"
             },
             "line": {
              "color": "white"
             }
            },
            "type": "table"
           }
          ]
         },
         "layout": {
          "annotationdefaults": {
           "arrowcolor": "#2a3f5f",
           "arrowhead": 0,
           "arrowwidth": 1
          },
          "autotypenumbers": "strict",
          "coloraxis": {
           "colorbar": {
            "outlinewidth": 0,
            "ticks": ""
           }
          },
          "colorscale": {
           "diverging": [
            [
             0,
             "#8e0152"
            ],
            [
             0.1,
             "#c51b7d"
            ],
            [
             0.2,
             "#de77ae"
            ],
            [
             0.3,
             "#f1b6da"
            ],
            [
             0.4,
             "#fde0ef"
            ],
            [
             0.5,
             "#f7f7f7"
            ],
            [
             0.6,
             "#e6f5d0"
            ],
            [
             0.7,
             "#b8e186"
            ],
            [
             0.8,
             "#7fbc41"
            ],
            [
             0.9,
             "#4d9221"
            ],
            [
             1,
             "#276419"
            ]
           ],
           "sequential": [
            [
             0,
             "#0d0887"
            ],
            [
             0.1111111111111111,
             "#46039f"
            ],
            [
             0.2222222222222222,
             "#7201a8"
            ],
            [
             0.3333333333333333,
             "#9c179e"
            ],
            [
             0.4444444444444444,
             "#bd3786"
            ],
            [
             0.5555555555555556,
             "#d8576b"
            ],
            [
             0.6666666666666666,
             "#ed7953"
            ],
            [
             0.7777777777777778,
             "#fb9f3a"
            ],
            [
             0.8888888888888888,
             "#fdca26"
            ],
            [
             1,
             "#f0f921"
            ]
           ],
           "sequentialminus": [
            [
             0,
             "#0d0887"
            ],
            [
             0.1111111111111111,
             "#46039f"
            ],
            [
             0.2222222222222222,
             "#7201a8"
            ],
            [
             0.3333333333333333,
             "#9c179e"
            ],
            [
             0.4444444444444444,
             "#bd3786"
            ],
            [
             0.5555555555555556,
             "#d8576b"
            ],
            [
             0.6666666666666666,
             "#ed7953"
            ],
            [
             0.7777777777777778,
             "#fb9f3a"
            ],
            [
             0.8888888888888888,
             "#fdca26"
            ],
            [
             1,
             "#f0f921"
            ]
           ]
          },
          "colorway": [
           "#636efa",
           "#EF553B",
           "#00cc96",
           "#ab63fa",
           "#FFA15A",
           "#19d3f3",
           "#FF6692",
           "#B6E880",
           "#FF97FF",
           "#FECB52"
          ],
          "font": {
           "color": "#2a3f5f"
          },
          "geo": {
           "bgcolor": "white",
           "lakecolor": "white",
           "landcolor": "#E5ECF6",
           "showlakes": true,
           "showland": true,
           "subunitcolor": "white"
          },
          "hoverlabel": {
           "align": "left"
          },
          "hovermode": "closest",
          "mapbox": {
           "style": "light"
          },
          "paper_bgcolor": "white",
          "plot_bgcolor": "#E5ECF6",
          "polar": {
           "angularaxis": {
            "gridcolor": "white",
            "linecolor": "white",
            "ticks": ""
           },
           "bgcolor": "#E5ECF6",
           "radialaxis": {
            "gridcolor": "white",
            "linecolor": "white",
            "ticks": ""
           }
          },
          "scene": {
           "xaxis": {
            "backgroundcolor": "#E5ECF6",
            "gridcolor": "white",
            "gridwidth": 2,
            "linecolor": "white",
            "showbackground": true,
            "ticks": "",
            "zerolinecolor": "white"
           },
           "yaxis": {
            "backgroundcolor": "#E5ECF6",
            "gridcolor": "white",
            "gridwidth": 2,
            "linecolor": "white",
            "showbackground": true,
            "ticks": "",
            "zerolinecolor": "white"
           },
           "zaxis": {
            "backgroundcolor": "#E5ECF6",
            "gridcolor": "white",
            "gridwidth": 2,
            "linecolor": "white",
            "showbackground": true,
            "ticks": "",
            "zerolinecolor": "white"
           }
          },
          "shapedefaults": {
           "line": {
            "color": "#2a3f5f"
           }
          },
          "ternary": {
           "aaxis": {
            "gridcolor": "white",
            "linecolor": "white",
            "ticks": ""
           },
           "baxis": {
            "gridcolor": "white",
            "linecolor": "white",
            "ticks": ""
           },
           "bgcolor": "#E5ECF6",
           "caxis": {
            "gridcolor": "white",
            "linecolor": "white",
            "ticks": ""
           }
          },
          "title": {
           "x": 0.05
          },
          "xaxis": {
           "automargin": true,
           "gridcolor": "white",
           "linecolor": "white",
           "ticks": "",
           "title": {
            "standoff": 15
           },
           "zerolinecolor": "white",
           "zerolinewidth": 2
          },
          "yaxis": {
           "automargin": true,
           "gridcolor": "white",
           "linecolor": "white",
           "ticks": "",
           "title": {
            "standoff": 15
           },
           "zerolinecolor": "white",
           "zerolinewidth": 2
          }
         }
        },
        "xaxis": {
         "anchor": "y",
         "domain": [
          0,
          0.425
         ]
        },
        "xaxis2": {
         "anchor": "y2",
         "domain": [
          0.575,
          1
         ]
        },
        "yaxis": {
         "anchor": "x",
         "domain": [
          0,
          1
         ],
         "title": {
          "text": "Signal (a.u.)"
         }
        },
        "yaxis2": {
         "anchor": "x2",
         "domain": [
          0,
          1
         ],
         "title": {
          "text": "Residuals (%)"
         }
        }
       }
      }
     },
     "metadata": {},
     "output_type": "display_data"
    }
   ],
   "source": [
    "path = \"/Users/max/Documents/enzymeml/glucosidase_inhibition/round2/data/p-NP_standard.xlsx\"\n",
    "d = StandardCurve.from_excel(\n",
    "    path=path,\n",
    "    reactant_id=\"s1\",\n",
    "    wavelength=340,\n",
    "    conc_unit=\"mmole / l\",\n",
    "    analyte_name=\"hierhgisf\",\n",
    "    sheet_name=\"csv\",\n",
    "    cutoff_signal=3.3\n",
    ").visualize()\n",
    "\n",
    "d"
   ]
  },
  {
   "cell_type": "code",
   "execution_count": 34,
   "metadata": {},
   "outputs": [
    {
     "ename": "NameError",
     "evalue": "name 'Calibration' is not defined",
     "output_type": "error",
     "traceback": [
      "\u001b[0;31m---------------------------------------------------------------------------\u001b[0m",
      "\u001b[0;31mNameError\u001b[0m                                 Traceback (most recent call last)",
      "Cell \u001b[0;32mIn[34], line 1\u001b[0m\n\u001b[0;32m----> 1\u001b[0m cal \u001b[39m=\u001b[39m Calibration\u001b[39m.\u001b[39mfrom_excel(\n\u001b[1;32m      2\u001b[0m     path\u001b[39m=\u001b[39mpath,\n\u001b[1;32m      3\u001b[0m     reactant_id\u001b[39m=\u001b[39m\u001b[39m\"\u001b[39m\u001b[39ms1\u001b[39m\u001b[39m\"\u001b[39m,\n\u001b[1;32m      4\u001b[0m     wavelength\u001b[39m=\u001b[39m\u001b[39m340\u001b[39m,\n\u001b[1;32m      5\u001b[0m     concentration_unit\u001b[39m=\u001b[39m\u001b[39m\"\u001b[39m\u001b[39mmmole / l\u001b[39m\u001b[39m\"\u001b[39m,\n\u001b[1;32m      6\u001b[0m     temperature\u001b[39m=\u001b[39m\u001b[39m37\u001b[39m,\n\u001b[1;32m      7\u001b[0m     temperature_unit\u001b[39m=\u001b[39m\u001b[39m\"\u001b[39m\u001b[39mC\u001b[39m\u001b[39m\"\u001b[39m,\n\u001b[1;32m      8\u001b[0m     pH\u001b[39m=\u001b[39m\u001b[39m7\u001b[39m,\n\u001b[1;32m      9\u001b[0m     sheet_name\u001b[39m=\u001b[39m\u001b[39m\"\u001b[39m\u001b[39mcsv\u001b[39m\u001b[39m\"\u001b[39m,\n\u001b[1;32m     10\u001b[0m )\n\u001b[1;32m     12\u001b[0m stand \u001b[39m=\u001b[39m StandardCurve\u001b[39m.\u001b[39mfrom_datamodel(cal, cutoff_signal\u001b[39m=\u001b[39m\u001b[39m3.3\u001b[39m)\n\u001b[1;32m     13\u001b[0m stand\u001b[39m.\u001b[39mvisualize()\n",
      "\u001b[0;31mNameError\u001b[0m: name 'Calibration' is not defined"
     ]
    }
   ],
   "source": [
    "cal = Calibration.from_excel(\n",
    "    path=path,\n",
    "    reactant_id=\"s1\",\n",
    "    wavelength=340,\n",
    "    concentration_unit=\"mmole / l\",\n",
    "    temperature=37,\n",
    "    temperature_unit=\"C\",\n",
    "    pH=7,\n",
    "    sheet_name=\"csv\",\n",
    ")\n",
    "\n",
    "stand = StandardCurve.from_datamodel(cal, cutoff_signal=3.3)\n",
    "stand.visualize()"
   ]
  },
  {
   "cell_type": "code",
   "execution_count": null,
   "metadata": {},
   "outputs": [
    {
     "ename": "NameError",
     "evalue": "name 'stand' is not defined",
     "output_type": "error",
     "traceback": [
      "\u001b[0;31m---------------------------------------------------------------------------\u001b[0m",
      "\u001b[0;31mNameError\u001b[0m                                 Traceback (most recent call last)",
      "Cell \u001b[0;32mIn[10], line 1\u001b[0m\n\u001b[0;32m----> 1\u001b[0m stand\u001b[39m.\u001b[39mcalculate_concentration(np\u001b[39m.\u001b[39marray([\u001b[39m0.4\u001b[39m, \u001b[39m0.6\u001b[39m, \u001b[39m1\u001b[39m, \u001b[39m3\u001b[39m]))\n",
      "\u001b[0;31mNameError\u001b[0m: name 'stand' is not defined"
     ]
    }
   ],
   "source": [
    "stand.calculate_concentration(np.array([0.4, 0.6, 1, 3]))"
   ]
  },
  {
   "cell_type": "code",
   "execution_count": 2,
   "metadata": {},
   "outputs": [
    {
     "data": {
      "text/plain": [
       "3.45"
      ]
     },
     "execution_count": 2,
     "metadata": {},
     "output_type": "execute_result"
    }
   ],
   "source": [
    "a = 3.4545454545\n",
    "\n",
    "round(a, 2)"
   ]
  }
 ],
 "metadata": {
  "kernelspec": {
   "display_name": "calipytion",
   "language": "python",
   "name": "python3"
  },
  "language_info": {
   "codemirror_mode": {
    "name": "ipython",
    "version": 3
   },
   "file_extension": ".py",
   "mimetype": "text/x-python",
   "name": "python",
   "nbconvert_exporter": "python",
   "pygments_lexer": "ipython3",
   "version": "3.11.3"
  },
  "orig_nbformat": 4
 },
 "nbformat": 4,
 "nbformat_minor": 2
}
