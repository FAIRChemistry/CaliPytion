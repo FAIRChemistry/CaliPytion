{
 "cells": [
  {
   "cell_type": "code",
   "execution_count": 1,
   "metadata": {},
   "outputs": [],
   "source": [
    "%reload_ext autoreload\n",
    "%autoreload 2\n",
    "from CaliPytion.tools.standardcurve import StandardCurve"
   ]
  },
  {
   "cell_type": "code",
   "execution_count": 2,
   "metadata": {},
   "outputs": [],
   "source": [
    "import numpy as np\n",
    "import matplotlib.pyplot as plt"
   ]
  },
  {
   "cell_type": "code",
   "execution_count": 3,
   "metadata": {},
   "outputs": [],
   "source": [
    "f = lambda x, a: a * x\n",
    "concentrations = np.linspace(0, 10, 40)\n",
    "\n",
    "rand = lambda size: np.random.normal(1, 0.01, size)\n",
    "\n",
    "\n",
    "signals = f(concentrations, 0.5) + rand(len(concentrations))"
   ]
  },
  {
   "cell_type": "code",
   "execution_count": 4,
   "metadata": {},
   "outputs": [
    {
     "data": {
      "text/plain": [
       "<matplotlib.collections.PathCollection at 0x173edfd90>"
      ]
     },
     "execution_count": 4,
     "metadata": {},
     "output_type": "execute_result"
    },
    {
     "data": {
      "image/png": "[encoded data removed]",
      "text/plain": [
       "<Figure size 640x480 with 1 Axes>"
      ]
     },
     "metadata": {},
     "output_type": "display_data"
    }
   ],
   "source": [
    "plt.scatter(concentrations, signals)"
   ]
  },
  {
   "cell_type": "code",
   "execution_count": 5,
   "metadata": {},
   "outputs": [
    {
     "name": "stdout",
     "output_type": "stream",
     "text": [
      "Standard curve data was blanked.\n",
      "{'3rd degree polynominal': -369.1177368898756, 'Rational': -365.49537972705025, 'Quadratic': -365.4869326226728, 'Linear': -364.6400633796093}\n"
     ]
    }
   ],
   "source": [
    "standard = StandardCurve(\n",
    "    concentrations=concentrations,\n",
    "    signals=signals,\n",
    "    conc_unit=\"mmol / l\",\n",
    "    analyte_name=\"ABTS\",\n",
    "    wavelength=420,\n",
    ")\n",
    "print(standard.result_dict)\n",
    "\n",
    "# standard.visualize()"
   ]
  },
  {
   "cell_type": "code",
   "execution_count": 6,
   "metadata": {},
   "outputs": [
    {
     "data": {
      "application/vnd.plotly.v1+json": {
       "config": {
        "plotlyServerURL": "https://plot.ly",
        "toImageButtonOptions": {
         "filename": "custom_image",
         "format": "svg",
         "scale": 1
        }
       },
       "data": [
        {
         "hoverinfo": "skip",
         "marker": {
          "color": "#1f77b4"
         },
         "mode": "markers",
         "name": "ABTS Standard",
         "type": "scatter",
         "visible": true,
         "x": [
          0,
          0.2564102564102564,
          0.5128205128205128,
          0.7692307692307692,
          1.0256410256410255,
          1.282051282051282,
          1.5384615384615383,
          1.7948717948717947,
          2.051282051282051,
          2.3076923076923075,
          2.564102564102564,
          2.8205128205128203,
          3.0769230769230766,
          3.333333333333333,
          3.5897435897435894,
          3.846153846153846,
          4.102564102564102,
          4.358974358974359,
          4.615384615384615,
          4.871794871794871,
          5.128205128205128,
          5.384615384615384,
          5.6410256410256405,
          5.897435897435897,
          6.153846153846153,
          6.41025641025641,
          6.666666666666666,
          6.9230769230769225,
          7.179487179487179,
          7.435897435897435,
          7.692307692307692,
          7.948717948717948,
          8.205128205128204,
          8.46153846153846,
          8.717948717948717,
          8.974358974358974,
          9.23076923076923,
          9.487179487179485,
          9.743589743589743,
          10
         ],
         "xaxis": "x",
         "y": [
          0,
          0.13940018110684615,
          0.2668258490923685,
          0.3968453912703296,
          0.5337618416753267,
          0.634683679917706,
          0.7678600735639756,
          0.9196707776395752,
          1.0409989736160827,
          1.1637164661059891,
          1.2743160995882403,
          1.4134937798133336,
          1.56331987016624,
          1.681692021493159,
          1.7993042111830497,
          1.9404325058630805,
          2.0616657450661755,
          2.176830848148759,
          2.317228307828924,
          2.4566553931271926,
          2.5767626365084952,
          2.7099090067788207,
          2.8248502841702106,
          2.9486245458853295,
          3.0883987398776167,
          3.2079948506450204,
          3.3301788782944657,
          3.466835880168736,
          3.5835701303920864,
          3.71818042766194,
          3.865841778629801,
          3.993549406470912,
          4.112969831910082,
          4.254559890467095,
          4.364268845909036,
          4.489971599833106,
          4.616688622281139,
          4.744164976784782,
          4.897950706573304,
          5.016972310083246
         ],
         "yaxis": "y"
        },
        {
         "hoverinfo": "skip",
         "marker": {
          "color": "#1f77b4"
         },
         "mode": "lines",
         "name": "3rd degree polynominal",
         "type": "scatter",
         "visible": true,
         "x": [
          0,
          0.05025125628140704,
          0.10050251256281408,
          0.15075376884422112,
          0.20100502512562815,
          0.2512562814070352,
          0.30150753768844224,
          0.35175879396984927,
          0.4020100502512563,
          0.45226130653266333,
          0.5025125628140704,
          0.5527638190954774,
          0.6030150753768845,
          0.6532663316582915,
          0.7035175879396985,
          0.7537688442211056,
          0.8040201005025126,
          0.8542713567839196,
          0.9045226130653267,
          0.9547738693467337,
          1.0050251256281408,
          1.0552763819095479,
          1.105527638190955,
          1.155778894472362,
          1.206030150753769,
          1.256281407035176,
          1.306532663316583,
          1.35678391959799,
          1.407035175879397,
          1.4572864321608041,
          1.5075376884422111,
          1.5577889447236182,
          1.6080402010050252,
          1.6582914572864322,
          1.7085427135678393,
          1.7587939698492463,
          1.8090452261306533,
          1.8592964824120604,
          1.9095477386934674,
          1.9597989949748744,
          2.0100502512562817,
          2.0603015075376887,
          2.1105527638190957,
          2.1608040201005028,
          2.21105527638191,
          2.261306532663317,
          2.311557788944724,
          2.361809045226131,
          2.412060301507538,
          2.462311557788945,
          2.512562814070352,
          2.562814070351759,
          2.613065326633166,
          2.663316582914573,
          2.71356783919598,
          2.763819095477387,
          2.814070351758794,
          2.864321608040201,
          2.9145728643216082,
          2.9648241206030153,
          3.0150753768844223,
          3.0653266331658293,
          3.1155778894472363,
          3.1658291457286434,
          3.2160804020100504,
          3.2663316582914574,
          3.3165829145728645,
          3.3668341708542715,
          3.4170854271356785,
          3.4673366834170856,
          3.5175879396984926,
          3.5678391959798996,
          3.6180904522613067,
          3.6683417085427137,
          3.7185929648241207,
          3.7688442211055277,
          3.819095477386935,
          3.869346733668342,
          3.919597989949749,
          3.969849246231156,
          4.020100502512563,
          4.07035175879397,
          4.120603015075377,
          4.170854271356784,
          4.2211055276381915,
          4.2713567839195985,
          4.3216080402010055,
          4.371859296482413,
          4.42211055276382,
          4.472361809045227,
          4.522613065326634,
          4.572864321608041,
          4.623115577889448,
          4.673366834170855,
          4.723618090452262,
          4.773869346733669,
          4.824120603015076,
          4.874371859296483,
          4.92462311557789,
          4.974874371859297,
          5.025125628140704,
          5.075376884422111,
          5.125628140703518,
          5.175879396984925,
          5.226130653266332,
          5.276381909547739,
          5.326633165829146,
          5.376884422110553,
          5.42713567839196,
          5.477386934673367,
          5.527638190954774,
          5.577889447236181,
          5.628140703517588,
          5.678391959798995,
          5.728643216080402,
          5.778894472361809,
          5.8291457286432165,
          5.8793969849246235,
          5.9296482412060305,
          5.9798994974874375,
          6.030150753768845,
          6.080402010050252,
          6.130653266331659,
          6.180904522613066,
          6.231155778894473,
          6.28140703517588,
          6.331658291457287,
          6.381909547738694,
          6.432160804020101,
          6.482412060301508,
          6.532663316582915,
          6.582914572864322,
          6.633165829145729,
          6.683417085427136,
          6.733668341708543,
          6.78391959798995,
          6.834170854271357,
          6.884422110552764,
          6.934673366834171,
          6.984924623115578,
          7.035175879396985,
          7.085427135678392,
          7.135678391959799,
          7.185929648241206,
          7.236180904522613,
          7.28643216080402,
          7.336683417085427,
          7.386934673366834,
          7.437185929648241,
          7.4874371859296485,
          7.5376884422110555,
          7.5879396984924625,
          7.63819095477387,
          7.688442211055277,
          7.738693467336684,
          7.788944723618091,
          7.839195979899498,
          7.889447236180905,
          7.939698492462312,
          7.989949748743719,
          8.040201005025127,
          8.090452261306533,
          8.14070351758794,
          8.190954773869347,
          8.241206030150755,
          8.291457286432161,
          8.341708542713569,
          8.391959798994975,
          8.442211055276383,
          8.492462311557789,
          8.542713567839197,
          8.592964824120603,
          8.643216080402011,
          8.693467336683417,
          8.743718592964825,
          8.793969849246231,
          8.84422110552764,
          8.894472361809045,
          8.944723618090453,
          8.99497487437186,
          9.045226130653267,
          9.095477386934673,
          9.145728643216081,
          9.195979899497488,
          9.246231155778895,
          9.296482412060302,
          9.34673366834171,
          9.396984924623116,
          9.447236180904524,
          9.49748743718593,
          9.547738693467338,
          9.597989949748744,
          9.648241206030152,
          9.698492462311558,
          9.748743718592966,
          9.798994974874372,
          9.84924623115578,
          9.899497487437186,
          9.949748743718594,
          10
         ],
         "xaxis": "x",
         "y": [
          0,
          0.025562606101874677,
          0.0511147401323152,
          0.0766565069452151,
          0.10218801139446794,
          0.12770935833396727,
          0.15322065261760662,
          0.1787219990992795,
          0.20421350263287952,
          0.22969526807230017,
          0.25516740027143503,
          0.2806300040841776,
          0.30608318436442156,
          0.3315270459660602,
          0.3569616937429873,
          0.3823872325490963,
          0.4078037672382808,
          0.43321140266443425,
          0.4586102436814503,
          0.4840003951432224,
          0.5093819619036443,
          0.5347550488166093,
          0.5601197607360109,
          0.5854762025157428,
          0.6108244790096986,
          0.6361646950717719,
          0.6614969555558559,
          0.6868213653158445,
          0.712138029205631,
          0.737447052079109,
          0.7627485387901721,
          0.7880425941927138,
          0.8133293231406278,
          0.8386088304878075,
          0.8638812210881464,
          0.8891465997955382,
          0.9144050714638763,
          0.9396567409470543,
          0.9649017130989658,
          0.9901400927735041,
          1.015371984824563,
          1.0405974941060363,
          1.065816725471817,
          1.0910297837757987,
          1.1162367738718753,
          1.14143780061394,
          1.1666329688558865,
          1.1918223834516084,
          1.2170061492549993,
          1.2421843711199525,
          1.2673571539003619,
          1.2925246024501207,
          1.3176868216231221,
          1.3428439162732608,
          1.3679959912544293,
          1.3931431514205215,
          1.418285501625431,
          1.4434231467230514,
          1.4685561915672758,
          1.4936847410119987,
          1.5188088999111122,
          1.5439287731185112,
          1.5690444654880886,
          1.594156081873738,
          1.6192637271293533,
          1.6443675061088272,
          1.669467523666054,
          1.6945638846549274,
          1.71965669392934,
          1.7447460563431865,
          1.7698320767503597,
          1.7949148600047529,
          1.8199945109602607,
          1.8450711344707755,
          1.8701448353901913,
          1.895215718572402,
          1.9202838888713005,
          1.945349451140781,
          1.9704125102347363,
          1.995473171007061,
          2.020531538311648,
          2.0455877170023906,
          2.070641811933182,
          2.095693927957917,
          2.1207441699304885,
          2.14579264270479,
          2.170839451134715,
          2.195884700074157,
          2.2209284943770093,
          2.2459709388971665,
          2.2710121384885213,
          2.2960521980049675,
          2.321091222300398,
          2.3461293162287076,
          2.371166584643789,
          2.396203132399535,
          2.4212390643498414,
          2.4462744853485994,
          2.471309500249703,
          2.4963442139070473,
          2.521378731174525,
          2.5464131569060284,
          2.571447595955453,
          2.596482153176691,
          2.6215169334236363,
          2.6465520415501826,
          2.6715875824102233,
          2.696623660857653,
          2.721660381746363,
          2.746697849930248,
          2.7717361702632024,
          2.7967754475991184,
          2.821815786791891,
          2.8468572926954123,
          2.871900070163576,
          2.8969442240502774,
          2.9219898592094076,
          2.947037080494861,
          2.972085992760532,
          2.9971367008603136,
          3.022189309648099,
          3.0472439239777818,
          3.0723006487032567,
          3.0973595886784158,
          3.122420848757153,
          3.147484533793362,
          3.172550748640936,
          3.19761959815377,
          3.222691187185756,
          3.247765620590788,
          3.272843003222759,
          3.297923439935563,
          3.3230070355830943,
          3.348093895019246,
          3.3731841230979103,
          3.3982778246729826,
          3.423375104598356,
          3.448476067727923,
          3.4735808189155777,
          3.498689463015215,
          3.5238021048807266,
          3.5489188493660064,
          3.5740398013249486,
          3.5991650656114467,
          3.6242947470793934,
          3.6494289505826836,
          3.674567780975209,
          3.699711343110865,
          3.724859741843544,
          3.75001308202714,
          3.7751714685155466,
          3.800335006162656,
          3.825503799822364,
          3.850677954348563,
          3.8758575745951465,
          3.9010427654160083,
          3.926233631665042,
          3.9514302781961397,
          3.976632809863198,
          4.001841331520107,
          4.027055948020763,
          4.052276764219058,
          4.077503884968886,
          4.10273741512414,
          4.127977459538714,
          4.153224123066503,
          4.178477510561398,
          4.203737726877294,
          4.229004876868084,
          4.254279065387661,
          4.279560397289921,
          4.304848977428755,
          4.330144910658057,
          4.3554483018317205,
          4.380759255803642,
          4.406077877427709,
          4.431404271557821,
          4.4567385430478685,
          4.482080796751745,
          4.507431137523346,
          4.532789670216564,
          4.55815649968529,
          4.583531730783423,
          4.6089154683648506,
          4.634307817283472,
          4.659708882393174,
          4.685118768547857,
          4.71053758060141,
          4.7359654234077295,
          4.761402401820706,
          4.7868486206942364,
          4.812304184882212,
          4.837769199238527,
          4.863243768617075,
          4.888727997871748,
          4.914221991856442,
          4.939725855425049,
          4.965239693431464,
          4.990763610729579,
          5.016297712173287
         ],
         "yaxis": "y"
        },
        {
         "hoverinfo": "skip",
         "marker": {
          "color": "#d62728"
         },
         "mode": "markers",
         "name": "Residuals",
         "type": "scatter",
         "visible": true,
         "x": [
          0,
          0.2564102564102564,
          0.5128205128205128,
          0.7692307692307692,
          1.0256410256410255,
          1.282051282051282,
          1.5384615384615383,
          1.7948717948717947,
          2.051282051282051,
          2.3076923076923075,
          2.564102564102564,
          2.8205128205128203,
          3.0769230769230766,
          3.333333333333333,
          3.5897435897435894,
          3.846153846153846,
          4.102564102564102,
          4.358974358974359,
          4.615384615384615,
          4.871794871794871,
          5.128205128205128,
          5.384615384615384,
          5.6410256410256405,
          5.897435897435897,
          6.153846153846153,
          6.41025641025641,
          6.666666666666666,
          6.9230769230769225,
          7.179487179487179,
          7.435897435897435,
          7.692307692307692,
          7.948717948717948,
          8.205128205128204,
          8.46153846153846,
          8.717948717948717,
          8.974358974358974,
          9.23076923076923,
          9.487179487179485,
          9.743589743589743,
          10
         ],
         "xaxis": "x2",
         "y": [
          0,
          -6.962381779205283,
          -2.471118630898013,
          -1.700816270291308,
          -2.6874934905358483,
          2.229493698073183,
          1.3432749925459069,
          -1.365529457170675,
          -0.4757080372611769,
          0.08402357886305868,
          1.4579486839902835,
          0.5638205717237749,
          -0.8772395211054743,
          -0.2299777264140828,
          0.36233312504950815,
          -0.343961297240361,
          -0.0008477513372515051,
          0.5769513425769703,
          0.00046693795205146274,
          -0.47708832149009445,
          -0.15669031169721545,
          -0.34933060599538923,
          0.11973136178219962,
          0.25047969142712007,
          -0.14698135843523719,
          0.11729858557624599,
          0.2860218516285319,
          0.027429392287061007,
          0.34409612899849995,
          0.16203206336018305,
          -0.3433285442128936,
          -0.3112772080101627,
          -0.07577137005973679,
          -0.37357957872751885,
          0.08034936788722186,
          0.15695721015216538,
          0.2119367575479044,
          0.2526990943221071,
          -0.24225640155511943,
          -0.013448123470061633
         ],
         "yaxis": "y2"
        }
       ],
       "layout": {
        "annotations": [
         {
          "font": {
           "size": 16
          },
          "showarrow": false,
          "text": "Standard Curve",
          "x": 0.2125,
          "xanchor": "center",
          "xref": "paper",
          "y": 1,
          "yanchor": "bottom",
          "yref": "paper"
         },
         {
          "font": {
           "size": 16
          },
          "showarrow": false,
          "text": "Residuals",
          "x": 0.7875,
          "xanchor": "center",
          "xref": "paper",
          "y": 1,
          "yanchor": "bottom",
          "yref": "paper"
         },
         {
          "font": {
           "size": 16
          },
          "showarrow": false,
          "text": "ABTS concentration (mmol L<sup>-1</sup>)",
          "x": 0.5,
          "xanchor": "center",
          "xref": "paper",
          "y": 0,
          "yanchor": "top",
          "yref": "paper",
          "yshift": -30
         }
        ],
        "shapes": [
         {
          "line": {
           "color": "#000000",
           "dash": "dot",
           "width": 2
          },
          "type": "line",
          "x0": 0,
          "x1": 1,
          "xref": "x2 domain",
          "y0": 0,
          "y1": 0,
          "yref": "y2"
         }
        ],
        "template": {
         "data": {
          "bar": [
           {
            "error_x": {
             "color": "#2a3f5f"
            },
            "error_y": {
             "color": "#2a3f5f"
            },
            "marker": {
             "line": {
              "color": "#E5ECF6",
              "width": 0.5
             },
             "pattern": {
              "fillmode": "overlay",
              "size": 10,
              "solidity": 0.2
             }
            },
            "type": "bar"
           }
          ],
          "barpolar": [
           {
            "marker": {
             "line": {
              "color": "#E5ECF6",
              "width": 0.5
             },
             "pattern": {
              "fillmode": "overlay",
              "size": 10,
              "solidity": 0.2
             }
            },
            "type": "barpolar"
           }
          ],
          "carpet": [
           {
            "aaxis": {
             "endlinecolor": "#2a3f5f",
             "gridcolor": "white",
             "linecolor": "white",
             "minorgridcolor": "white",
             "startlinecolor": "#2a3f5f"
            },
            "baxis": {
             "endlinecolor": "#2a3f5f",
             "gridcolor": "white",
             "linecolor": "white",
             "minorgridcolor": "white",
             "startlinecolor": "#2a3f5f"
            },
            "type": "carpet"
           }
          ],
          "choropleth": [
           {
            "colorbar": {
             "outlinewidth": 0,
             "ticks": ""
            },
            "type": "choropleth"
           }
          ],
          "contour": [
           {
            "colorbar": {
             "outlinewidth": 0,
             "ticks": ""
            },
            "colorscale": [
             [
              0,
              "#0d0887"
             ],
             [
              0.1111111111111111,
              "#46039f"
             ],
             [
              0.2222222222222222,
              "#7201a8"
             ],
             [
              0.3333333333333333,
              "#9c179e"
             ],
             [
              0.4444444444444444,
              "#bd3786"
             ],
             [
              0.5555555555555556,
              "#d8576b"
             ],
             [
              0.6666666666666666,
              "#ed7953"
             ],
             [
              0.7777777777777778,
              "#fb9f3a"
             ],
             [
              0.8888888888888888,
              "#fdca26"
             ],
             [
              1,
              "#f0f921"
             ]
            ],
            "type": "contour"
           }
          ],
          "contourcarpet": [
           {
            "colorbar": {
             "outlinewidth": 0,
             "ticks": ""
            },
            "type": "contourcarpet"
           }
          ],
          "heatmap": [
           {
            "colorbar": {
             "outlinewidth": 0,
             "ticks": ""
            },
            "colorscale": [
             [
              0,
              "#0d0887"
             ],
             [
              0.1111111111111111,
              "#46039f"
             ],
             [
              0.2222222222222222,
              "#7201a8"
             ],
             [
              0.3333333333333333,
              "#9c179e"
             ],
             [
              0.4444444444444444,
              "#bd3786"
             ],
             [
              0.5555555555555556,
              "#d8576b"
             ],
             [
              0.6666666666666666,
              "#ed7953"
             ],
             [
              0.7777777777777778,
              "#fb9f3a"
             ],
             [
              0.8888888888888888,
              "#fdca26"
             ],
             [
              1,
              "#f0f921"
             ]
            ],
            "type": "heatmap"
           }
          ],
          "heatmapgl": [
           {
            "colorbar": {
             "outlinewidth": 0,
             "ticks": ""
            },
            "colorscale": [
             [
              0,
              "#0d0887"
             ],
             [
              0.1111111111111111,
              "#46039f"
             ],
             [
              0.2222222222222222,
              "#7201a8"
             ],
             [
              0.3333333333333333,
              "#9c179e"
             ],
             [
              0.4444444444444444,
              "#bd3786"
             ],
             [
              0.5555555555555556,
              "#d8576b"
             ],
             [
              0.6666666666666666,
              "#ed7953"
             ],
             [
              0.7777777777777778,
              "#fb9f3a"
             ],
             [
              0.8888888888888888,
              "#fdca26"
             ],
             [
              1,
              "#f0f921"
             ]
            ],
            "type": "heatmapgl"
           }
          ],
          "histogram": [
           {
            "marker": {
             "pattern": {
              "fillmode": "overlay",
              "size": 10,
              "solidity": 0.2
             }
            },
            "type": "histogram"
           }
          ],
          "histogram2d": [
           {
            "colorbar": {
             "outlinewidth": 0,
             "ticks": ""
            },
            "colorscale": [
             [
              0,
              "#0d0887"
             ],
             [
              0.1111111111111111,
              "#46039f"
             ],
             [
              0.2222222222222222,
              "#7201a8"
             ],
             [
              0.3333333333333333,
              "#9c179e"
             ],
             [
              0.4444444444444444,
              "#bd3786"
             ],
             [
              0.5555555555555556,
              "#d8576b"
             ],
             [
              0.6666666666666666,
              "#ed7953"
             ],
             [
              0.7777777777777778,
              "#fb9f3a"
             ],
             [
              0.8888888888888888,
              "#fdca26"
             ],
             [
              1,
              "#f0f921"
             ]
            ],
            "type": "histogram2d"
           }
          ],
          "histogram2dcontour": [
           {
            "colorbar": {
             "outlinewidth": 0,
             "ticks": ""
            },
            "colorscale": [
             [
              0,
              "#0d0887"
             ],
             [
              0.1111111111111111,
              "#46039f"
             ],
             [
              0.2222222222222222,
              "#7201a8"
             ],
             [
              0.3333333333333333,
              "#9c179e"
             ],
             [
              0.4444444444444444,
              "#bd3786"
             ],
             [
              0.5555555555555556,
              "#d8576b"
             ],
             [
              0.6666666666666666,
              "#ed7953"
             ],
             [
              0.7777777777777778,
              "#fb9f3a"
             ],
             [
              0.8888888888888888,
              "#fdca26"
             ],
             [
              1,
              "#f0f921"
             ]
            ],
            "type": "histogram2dcontour"
           }
          ],
          "mesh3d": [
           {
            "colorbar": {
             "outlinewidth": 0,
             "ticks": ""
            },
            "type": "mesh3d"
           }
          ],
          "parcoords": [
           {
            "line": {
             "colorbar": {
              "outlinewidth": 0,
              "ticks": ""
             }
            },
            "type": "parcoords"
           }
          ],
          "pie": [
           {
            "automargin": true,
            "type": "pie"
           }
          ],
          "scatter": [
           {
            "fillpattern": {
             "fillmode": "overlay",
             "size": 10,
             "solidity": 0.2
            },
            "type": "scatter"
           }
          ],
          "scatter3d": [
           {
            "line": {
             "colorbar": {
              "outlinewidth": 0,
              "ticks": ""
             }
            },
            "marker": {
             "colorbar": {
              "outlinewidth": 0,
              "ticks": ""
             }
            },
            "type": "scatter3d"
           }
          ],
          "scattercarpet": [
           {
            "marker": {
             "colorbar": {
              "outlinewidth": 0,
              "ticks": ""
             }
            },
            "type": "scattercarpet"
           }
          ],
          "scattergeo": [
           {
            "marker": {
             "colorbar": {
              "outlinewidth": 0,
              "ticks": ""
             }
            },
            "type": "scattergeo"
           }
          ],
          "scattergl": [
           {
            "marker": {
             "colorbar": {
              "outlinewidth": 0,
              "ticks": ""
             }
            },
            "type": "scattergl"
           }
          ],
          "scattermapbox": [
           {
            "marker": {
             "colorbar": {
              "outlinewidth": 0,
              "ticks": ""
             }
            },
            "type": "scattermapbox"
           }
          ],
          "scatterpolar": [
           {
            "marker": {
             "colorbar": {
              "outlinewidth": 0,
              "ticks": ""
             }
            },
            "type": "scatterpolar"
           }
          ],
          "scatterpolargl": [
           {
            "marker": {
             "colorbar": {
              "outlinewidth": 0,
              "ticks": ""
             }
            },
            "type": "scatterpolargl"
           }
          ],
          "scatterternary": [
           {
            "marker": {
             "colorbar": {
              "outlinewidth": 0,
              "ticks": ""
             }
            },
            "type": "scatterternary"
           }
          ],
          "surface": [
           {
            "colorbar": {
             "outlinewidth": 0,
             "ticks": ""
            },
            "colorscale": [
             [
              0,
              "#0d0887"
             ],
             [
              0.1111111111111111,
              "#46039f"
             ],
             [
              0.2222222222222222,
              "#7201a8"
             ],
             [
              0.3333333333333333,
              "#9c179e"
             ],
             [
              0.4444444444444444,
              "#bd3786"
             ],
             [
              0.5555555555555556,
              "#d8576b"
             ],
             [
              0.6666666666666666,
              "#ed7953"
             ],
             [
              0.7777777777777778,
              "#fb9f3a"
             ],
             [
              0.8888888888888888,
              "#fdca26"
             ],
             [
              1,
              "#f0f921"
             ]
            ],
            "type": "surface"
           }
          ],
          "table": [
           {
            "cells": {
             "fill": {
              "color": "#EBF0F8"
             },
             "line": {
              "color": "white"
             }
            },
            "header": {
             "fill": {
              "color": "#C8D4E3"
             },
             "line": {
              "color": "white"
             }
            },
            "type": "table"
           }
          ]
         },
         "layout": {
          "annotationdefaults": {
           "arrowcolor": "#2a3f5f",
           "arrowhead": 0,
           "arrowwidth": 1
          },
          "autotypenumbers": "strict",
          "coloraxis": {
           "colorbar": {
            "outlinewidth": 0,
            "ticks": ""
           }
          },
          "colorscale": {
           "diverging": [
            [
             0,
             "#8e0152"
            ],
            [
             0.1,
             "#c51b7d"
            ],
            [
             0.2,
             "#de77ae"
            ],
            [
             0.3,
             "#f1b6da"
            ],
            [
             0.4,
             "#fde0ef"
            ],
            [
             0.5,
             "#f7f7f7"
            ],
            [
             0.6,
             "#e6f5d0"
            ],
            [
             0.7,
             "#b8e186"
            ],
            [
             0.8,
             "#7fbc41"
            ],
            [
             0.9,
             "#4d9221"
            ],
            [
             1,
             "#276419"
            ]
           ],
           "sequential": [
            [
             0,
             "#0d0887"
            ],
            [
             0.1111111111111111,
             "#46039f"
            ],
            [
             0.2222222222222222,
             "#7201a8"
            ],
            [
             0.3333333333333333,
             "#9c179e"
            ],
            [
             0.4444444444444444,
             "#bd3786"
            ],
            [
             0.5555555555555556,
             "#d8576b"
            ],
            [
             0.6666666666666666,
             "#ed7953"
            ],
            [
             0.7777777777777778,
             "#fb9f3a"
            ],
            [
             0.8888888888888888,
             "#fdca26"
            ],
            [
             1,
             "#f0f921"
            ]
           ],
           "sequentialminus": [
            [
             0,
             "#0d0887"
            ],
            [
             0.1111111111111111,
             "#46039f"
            ],
            [
             0.2222222222222222,
             "#7201a8"
            ],
            [
             0.3333333333333333,
             "#9c179e"
            ],
            [
             0.4444444444444444,
             "#bd3786"
            ],
            [
             0.5555555555555556,
             "#d8576b"
            ],
            [
             0.6666666666666666,
             "#ed7953"
            ],
            [
             0.7777777777777778,
             "#fb9f3a"
            ],
            [
             0.8888888888888888,
             "#fdca26"
            ],
            [
             1,
             "#f0f921"
            ]
           ]
          },
          "colorway": [
           "#636efa",
           "#EF553B",
           "#00cc96",
           "#ab63fa",
           "#FFA15A",
           "#19d3f3",
           "#FF6692",
           "#B6E880",
           "#FF97FF",
           "#FECB52"
          ],
          "font": {
           "color": "#2a3f5f"
          },
          "geo": {
           "bgcolor": "white",
           "lakecolor": "white",
           "landcolor": "#E5ECF6",
           "showlakes": true,
           "showland": true,
           "subunitcolor": "white"
          },
          "hoverlabel": {
           "align": "left"
          },
          "hovermode": "closest",
          "mapbox": {
           "style": "light"
          },
          "paper_bgcolor": "white",
          "plot_bgcolor": "#E5ECF6",
          "polar": {
           "angularaxis": {
            "gridcolor": "white",
            "linecolor": "white",
            "ticks": ""
           },
           "bgcolor": "#E5ECF6",
           "radialaxis": {
            "gridcolor": "white",
            "linecolor": "white",
            "ticks": ""
           }
          },
          "scene": {
           "xaxis": {
            "backgroundcolor": "#E5ECF6",
            "gridcolor": "white",
            "gridwidth": 2,
            "linecolor": "white",
            "showbackground": true,
            "ticks": "",
            "zerolinecolor": "white"
           },
           "yaxis": {
            "backgroundcolor": "#E5ECF6",
            "gridcolor": "white",
            "gridwidth": 2,
            "linecolor": "white",
            "showbackground": true,
            "ticks": "",
            "zerolinecolor": "white"
           },
           "zaxis": {
            "backgroundcolor": "#E5ECF6",
            "gridcolor": "white",
            "gridwidth": 2,
            "linecolor": "white",
            "showbackground": true,
            "ticks": "",
            "zerolinecolor": "white"
           }
          },
          "shapedefaults": {
           "line": {
            "color": "#2a3f5f"
           }
          },
          "ternary": {
           "aaxis": {
            "gridcolor": "white",
            "linecolor": "white",
            "ticks": ""
           },
           "baxis": {
            "gridcolor": "white",
            "linecolor": "white",
            "ticks": ""
           },
           "bgcolor": "#E5ECF6",
           "caxis": {
            "gridcolor": "white",
            "linecolor": "white",
            "ticks": ""
           }
          },
          "title": {
           "x": 0.05
          },
          "xaxis": {
           "automargin": true,
           "gridcolor": "white",
           "linecolor": "white",
           "ticks": "",
           "title": {
            "standoff": 15
           },
           "zerolinecolor": "white",
           "zerolinewidth": 2
          },
          "yaxis": {
           "automargin": true,
           "gridcolor": "white",
           "linecolor": "white",
           "ticks": "",
           "title": {
            "standoff": 15
           },
           "zerolinecolor": "white",
           "zerolinewidth": 2
          }
         }
        },
        "xaxis": {
         "anchor": "y",
         "domain": [
          0,
          0.425
         ]
        },
        "xaxis2": {
         "anchor": "y2",
         "domain": [
          0.575,
          1
         ]
        },
        "yaxis": {
         "anchor": "x",
         "domain": [
          0,
          1
         ],
         "title": {
          "text": "Signal (a.u.)"
         }
        },
        "yaxis2": {
         "anchor": "x2",
         "domain": [
          0,
          1
         ],
         "title": {
          "text": "Residuals (%)"
         }
        }
       }
      }
     },
     "metadata": {},
     "output_type": "display_data"
    }
   ],
   "source": [
    "standard.visualize()"
   ]
  },
  {
   "attachments": {},
   "cell_type": "markdown",
   "metadata": {},
   "source": [
    "# .from_excel"
   ]
  },
  {
   "cell_type": "code",
   "execution_count": 7,
   "metadata": {},
   "outputs": [
    {
     "ename": "NameError",
     "evalue": "name 'Calibration' is not defined",
     "output_type": "error",
     "traceback": [
      "\u001b[0;31m---------------------------------------------------------------------------\u001b[0m",
      "\u001b[0;31mNameError\u001b[0m                                 Traceback (most recent call last)",
      "Cell \u001b[0;32mIn[7], line 2\u001b[0m\n\u001b[1;32m      1\u001b[0m path \u001b[39m=\u001b[39m \u001b[39m\"\u001b[39m\u001b[39m/Users/max/Documents/enzymeml/glucosidase_inhibition/round2/data/p-NP_standard.xlsx\u001b[39m\u001b[39m\"\u001b[39m\n\u001b[0;32m----> 2\u001b[0m standard \u001b[39m=\u001b[39m Calibration\u001b[39m.\u001b[39mfrom_excel(\n\u001b[1;32m      3\u001b[0m     path\u001b[39m=\u001b[39mpath,\n\u001b[1;32m      4\u001b[0m     reactant_id\u001b[39m=\u001b[39m\u001b[39m\"\u001b[39m\u001b[39ms1\u001b[39m\u001b[39m\"\u001b[39m,\n\u001b[1;32m      5\u001b[0m     wavelength\u001b[39m=\u001b[39m\u001b[39m340\u001b[39m,\n\u001b[1;32m      6\u001b[0m     concentration_unit\u001b[39m=\u001b[39m\u001b[39m\"\u001b[39m\u001b[39mmmole / l\u001b[39m\u001b[39m\"\u001b[39m,\n\u001b[1;32m      7\u001b[0m     temperature\u001b[39m=\u001b[39m\u001b[39m37\u001b[39m,\n\u001b[1;32m      8\u001b[0m     temperature_unit\u001b[39m=\u001b[39m\u001b[39m\"\u001b[39m\u001b[39mC\u001b[39m\u001b[39m\"\u001b[39m,\n\u001b[1;32m      9\u001b[0m     pH\u001b[39m=\u001b[39m\u001b[39m7\u001b[39m,\n\u001b[1;32m     10\u001b[0m     sheet_name\u001b[39m=\u001b[39m\u001b[39m\"\u001b[39m\u001b[39mcsv\u001b[39m\u001b[39m\"\u001b[39m,\n\u001b[1;32m     11\u001b[0m )\n",
      "\u001b[0;31mNameError\u001b[0m: name 'Calibration' is not defined"
     ]
    }
   ],
   "source": [
    "path = \"/Users/max/Documents/enzymeml/glucosidase_inhibition/round2/data/p-NP_standard.xlsx\"\n",
    "standard = Calibration.from_excel(\n",
    "    path=path,\n",
    "    reactant_id=\"s1\",\n",
    "    wavelength=340,\n",
    "    concentration_unit=\"mmole / l\",\n",
    "    temperature=37,\n",
    "    temperature_unit=\"C\",\n",
    "    pH=7,\n",
    "    sheet_name=\"csv\",\n",
    ")"
   ]
  },
  {
   "cell_type": "code",
   "execution_count": null,
   "metadata": {},
   "outputs": [
    {
     "ename": "AttributeError",
     "evalue": "type object 'Calibration' has no attribute 'from_excel'",
     "output_type": "error",
     "traceback": [
      "\u001b[0;31m---------------------------------------------------------------------------\u001b[0m",
      "\u001b[0;31mAttributeError\u001b[0m                            Traceback (most recent call last)",
      "Cell \u001b[0;32mIn[9], line 1\u001b[0m\n\u001b[0;32m----> 1\u001b[0m cal \u001b[39m=\u001b[39m Calibration\u001b[39m.\u001b[39;49mfrom_excel(\n\u001b[1;32m      2\u001b[0m     path\u001b[39m=\u001b[39mpath,\n\u001b[1;32m      3\u001b[0m     reactant_id\u001b[39m=\u001b[39m\u001b[39m\"\u001b[39m\u001b[39ms1\u001b[39m\u001b[39m\"\u001b[39m,\n\u001b[1;32m      4\u001b[0m     wavelength\u001b[39m=\u001b[39m\u001b[39m340\u001b[39m,\n\u001b[1;32m      5\u001b[0m     concentration_unit\u001b[39m=\u001b[39m\u001b[39m\"\u001b[39m\u001b[39mmmole / l\u001b[39m\u001b[39m\"\u001b[39m,\n\u001b[1;32m      6\u001b[0m     temperature\u001b[39m=\u001b[39m\u001b[39m37\u001b[39m,\n\u001b[1;32m      7\u001b[0m     temperature_unit\u001b[39m=\u001b[39m\u001b[39m\"\u001b[39m\u001b[39mC\u001b[39m\u001b[39m\"\u001b[39m,\n\u001b[1;32m      8\u001b[0m     pH\u001b[39m=\u001b[39m\u001b[39m7\u001b[39m,\n\u001b[1;32m      9\u001b[0m     sheet_name\u001b[39m=\u001b[39m\u001b[39m\"\u001b[39m\u001b[39mcsv\u001b[39m\u001b[39m\"\u001b[39m,\n\u001b[1;32m     10\u001b[0m )\n\u001b[1;32m     12\u001b[0m stand \u001b[39m=\u001b[39m StandardCurve\u001b[39m.\u001b[39mfrom_datamodel(cal, cutoff_signal\u001b[39m=\u001b[39m\u001b[39m3.3\u001b[39m)\n\u001b[1;32m     13\u001b[0m stand\u001b[39m.\u001b[39mvisualize()\n",
      "\u001b[0;31mAttributeError\u001b[0m: type object 'Calibration' has no attribute 'from_excel'"
     ]
    }
   ],
   "source": [
    "cal = Calibration.from_excel(\n",
    "    path=path,\n",
    "    reactant_id=\"s1\",\n",
    "    wavelength=340,\n",
    "    concentration_unit=\"mmole / l\",\n",
    "    temperature=37,\n",
    "    temperature_unit=\"C\",\n",
    "    pH=7,\n",
    "    sheet_name=\"csv\",\n",
    ")\n",
    "\n",
    "stand = StandardCurve.from_datamodel(cal, cutoff_signal=3.3)\n",
    "stand.visualize()"
   ]
  },
  {
   "cell_type": "code",
   "execution_count": null,
   "metadata": {},
   "outputs": [
    {
     "ename": "NameError",
     "evalue": "name 'stand' is not defined",
     "output_type": "error",
     "traceback": [
      "\u001b[0;31m---------------------------------------------------------------------------\u001b[0m",
      "\u001b[0;31mNameError\u001b[0m                                 Traceback (most recent call last)",
      "Cell \u001b[0;32mIn[10], line 1\u001b[0m\n\u001b[0;32m----> 1\u001b[0m stand\u001b[39m.\u001b[39mcalculate_concentration(np\u001b[39m.\u001b[39marray([\u001b[39m0.4\u001b[39m, \u001b[39m0.6\u001b[39m, \u001b[39m1\u001b[39m, \u001b[39m3\u001b[39m]))\n",
      "\u001b[0;31mNameError\u001b[0m: name 'stand' is not defined"
     ]
    }
   ],
   "source": [
    "stand.calculate_concentration(np.array([0.4, 0.6, 1, 3]))"
   ]
  },
  {
   "cell_type": "code",
   "execution_count": null,
   "metadata": {},
   "outputs": [],
   "source": []
  }
 ],
 "metadata": {
  "kernelspec": {
   "display_name": "calipytion",
   "language": "python",
   "name": "python3"
  },
  "language_info": {
   "codemirror_mode": {
    "name": "ipython",
    "version": 3
   },
   "file_extension": ".py",
   "mimetype": "text/x-python",
   "name": "python",
   "nbconvert_exporter": "python",
   "pygments_lexer": "ipython3",
   "version": "3.11.2"
  },
  "orig_nbformat": 4
 },
 "nbformat": 4,
 "nbformat_minor": 2
}
