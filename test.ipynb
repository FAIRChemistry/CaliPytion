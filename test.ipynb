{
 "cells": [
  {
   "cell_type": "code",
   "execution_count": 1,
   "metadata": {},
   "outputs": [],
   "source": [
    "from sdRDM import DataModel\n",
    "%load_ext autoreload\n",
    "%autoreload 2\n",
    "\n",
    "from CaliPytion.tools.standardcurve import StandardCurve"
   ]
  },
  {
   "cell_type": "code",
   "execution_count": 2,
   "metadata": {},
   "outputs": [
    {
     "data": {
      "text/plain": [
       "Calibration(id='calibration0', reactant_id='s0', date=datetime.datetime(2023, 3, 14, 0, 0), pH=7.0, temperature=25.0, temperature_unit='C', device=Device(id='device0', manufacturer='IBTB', model='photo 3000', software_version=None), standard=[Standard(id='standard0', wavelength=420.0, concentration=[0.0, 10.0, 20.0, 30.0, 40.0, 50.0, 60.0, 70.0], concentration_unit='umole / l', absorption=[Series(id='series0', values=[0.2, 0.6000000000000001, 1.0, 1.4, 1.8, 2.2, 2.6, 3.0000000000000004]), Series(id='series0', values=[0.33, 1.23, 2.13, 3.03, 3.9299999999999997, 4.83, 5.7299999999999995, 6.63])])], spectrum=Spectrum(id='spectrum0', concentration=2.0, wavelength=[300.0, 310.0, 320.0, 330.0, 340.0, 350.0, 360.0, 370.0, 380.0, 390.0, 400.0], concentration_unit='umole / l', absorption=[Series(id='series1', values=[1.0, 1.0, 1.0, 1.0, 1.0, 1.0, 1.0, 1.0, 1.0, 1.0, 1.0])]), result=None)"
      ]
     },
     "execution_count": 2,
     "metadata": {},
     "output_type": "execute_result"
    }
   ],
   "source": [
    "test_data, lib = DataModel.parse(path=\"linear_test.json\")\n",
    "test_data"
   ]
  },
  {
   "cell_type": "code",
   "execution_count": 4,
   "metadata": {},
   "outputs": [
    {
     "name": "stdout",
     "output_type": "stream",
     "text": [
      "Found calibration data at 420.0 nm\n",
      "Standard deviation among blank measurements exceeds 5% (24.5%)\n",
      "Standard curve data was blanked.\n"
     ]
    },
    {
     "ename": "ValueError",
     "evalue": "The truth value of an array with more than one element is ambiguous. Use a.any() or a.all()",
     "output_type": "error",
     "traceback": [
      "\u001b[0;31m---------------------------------------------------------------------------\u001b[0m",
      "\u001b[0;31mValueError\u001b[0m                                Traceback (most recent call last)",
      "Cell \u001b[0;32mIn[4], line 1\u001b[0m\n\u001b[0;32m----> 1\u001b[0m standard_curve \u001b[39m=\u001b[39m StandardCurve\u001b[39m.\u001b[39;49mfrom_calibration_datamodel(test_data)\n\u001b[1;32m      3\u001b[0m \u001b[39mfor\u001b[39;00m model \u001b[39min\u001b[39;00m standard_curve\u001b[39m.\u001b[39mmodels\u001b[39m.\u001b[39mvalues():\n\u001b[1;32m      4\u001b[0m     model\u001b[39m.\u001b[39mrsmd\n",
      "File \u001b[0;32m~/code/CaliPytion/CaliPytion/tools/standardcurve.py:300\u001b[0m, in \u001b[0;36mStandardCurve.from_calibration_datamodel\u001b[0;34m(cls, calibration_data, wavelength, blank_data, cutoff)\u001b[0m\n\u001b[1;32m    297\u001b[0m concentrations \u001b[39m=\u001b[39m tile(standard\u001b[39m.\u001b[39mconcentration, \u001b[39mlen\u001b[39m(standard\u001b[39m.\u001b[39mabsorption))\n\u001b[1;32m    298\u001b[0m signals \u001b[39m=\u001b[39m array([measurement\u001b[39m.\u001b[39mvalues \u001b[39mfor\u001b[39;00m measurement \u001b[39min\u001b[39;00m standard\u001b[39m.\u001b[39mabsorption])\u001b[39m.\u001b[39mflatten()\n\u001b[0;32m--> 300\u001b[0m \u001b[39mreturn\u001b[39;00m \u001b[39mcls\u001b[39;49m(concentrations\u001b[39m=\u001b[39;49mconcentrations,\n\u001b[1;32m    301\u001b[0m            signals\u001b[39m=\u001b[39;49msignals,\n\u001b[1;32m    302\u001b[0m            cutoff_signal\u001b[39m=\u001b[39;49mcutoff,\n\u001b[1;32m    303\u001b[0m            blank_data\u001b[39m=\u001b[39;49mblank_data,\n\u001b[1;32m    304\u001b[0m            wavelength\u001b[39m=\u001b[39;49mwavelength,\n\u001b[1;32m    305\u001b[0m            analyte_name\u001b[39m=\u001b[39;49mcalibration_data\u001b[39m.\u001b[39;49mreactant_id)\n",
      "File \u001b[0;32m~/code/CaliPytion/CaliPytion/tools/standardcurve.py:48\u001b[0m, in \u001b[0;36mStandardCurve.__init__\u001b[0;34m(self, concentrations, signals, conc_unit, wavelength, analyte_name, blank_data, cutoff_signal)\u001b[0m\n\u001b[1;32m     45\u001b[0m     \u001b[39mself\u001b[39m\u001b[39m.\u001b[39m_cutoff_signal()\n\u001b[1;32m     47\u001b[0m \u001b[39mself\u001b[39m\u001b[39m.\u001b[39mmodels \u001b[39m=\u001b[39m \u001b[39mself\u001b[39m\u001b[39m.\u001b[39m_initialize_models()\n\u001b[0;32m---> 48\u001b[0m \u001b[39mself\u001b[39;49m\u001b[39m.\u001b[39;49m_fit_models(concentrations\u001b[39m=\u001b[39;49mconcentrations, signals\u001b[39m=\u001b[39;49msignals)\n",
      "File \u001b[0;32m~/code/CaliPytion/CaliPytion/tools/standardcurve.py:107\u001b[0m, in \u001b[0;36mStandardCurve._fit_models\u001b[0;34m(self, concentrations, signals)\u001b[0m\n\u001b[1;32m    105\u001b[0m \u001b[39mdef\u001b[39;00m \u001b[39m_fit_models\u001b[39m(\u001b[39mself\u001b[39m, concentrations: ndarray, signals: ndarray):\n\u001b[1;32m    106\u001b[0m     \u001b[39mfor\u001b[39;00m model \u001b[39min\u001b[39;00m \u001b[39mself\u001b[39m\u001b[39m.\u001b[39mmodels\u001b[39m.\u001b[39mvalues():\n\u001b[0;32m--> 107\u001b[0m         model\u001b[39m.\u001b[39;49mfit(signals, concentrations)\n\u001b[1;32m    109\u001b[0m     \u001b[39mself\u001b[39m\u001b[39m.\u001b[39mresult_dict \u001b[39m=\u001b[39m \u001b[39mself\u001b[39m\u001b[39m.\u001b[39m_evaluate_aic()\n\u001b[1;32m    111\u001b[0m     display(DataFrame\u001b[39m.\u001b[39mfrom_dict(\u001b[39mself\u001b[39m\u001b[39m.\u001b[39mresult_dict, orient\u001b[39m=\u001b[39m\u001b[39m'\u001b[39m\u001b[39mindex\u001b[39m\u001b[39m'\u001b[39m, columns\u001b[39m=\u001b[39m[\u001b[39m\"\u001b[39m\u001b[39mAIC\u001b[39m\u001b[39m\"\u001b[39m])\u001b[39m.\u001b[39mrename(columns\u001b[39m=\u001b[39m{\u001b[39m0\u001b[39m: \u001b[39m\"\u001b[39m\u001b[39mAIC\u001b[39m\u001b[39m\"\u001b[39m})\u001b[39m.\u001b[39mround()\u001b[39m.\u001b[39mastype(\u001b[39m\"\u001b[39m\u001b[39mint\u001b[39m\u001b[39m\"\u001b[39m)\u001b[39m.\u001b[39mstyle\u001b[39m.\u001b[39mset_table_attributes(\u001b[39m'\u001b[39m\u001b[39mstyle=\u001b[39m\u001b[39m\"\u001b[39m\u001b[39mfont-size: 12px\u001b[39m\u001b[39m\"\u001b[39m\u001b[39m'\u001b[39m))\n",
      "File \u001b[0;32m~/code/CaliPytion/CaliPytion/tools/calibrationmodel.py:41\u001b[0m, in \u001b[0;36mCalibrationModel.fit\u001b[0;34m(self, concentrations, signals)\u001b[0m\n\u001b[1;32m     38\u001b[0m params[\u001b[39m\"\u001b[39m\u001b[39mconcentration\u001b[39m\u001b[39m\"\u001b[39m] \u001b[39m=\u001b[39m concentrations\n\u001b[1;32m     40\u001b[0m \u001b[39m# fit data to model\u001b[39;00m\n\u001b[0;32m---> 41\u001b[0m result \u001b[39m=\u001b[39m lm_mod\u001b[39m.\u001b[39;49mfit(data\u001b[39m=\u001b[39;49msignals, \u001b[39m*\u001b[39;49m\u001b[39m*\u001b[39;49mparams)\n\u001b[1;32m     43\u001b[0m \u001b[39m# extract fit statistics\u001b[39;00m\n\u001b[1;32m     44\u001b[0m \u001b[39mself\u001b[39m\u001b[39m.\u001b[39maic \u001b[39m=\u001b[39m result\u001b[39m.\u001b[39maic\n",
      "File \u001b[0;32m~/miniconda3/envs/calipytion/lib/python3.11/site-packages/lmfit/model.py:988\u001b[0m, in \u001b[0;36mModel.fit\u001b[0;34m(self, data, params, weights, method, iter_cb, scale_covar, verbose, fit_kws, nan_policy, calc_covar, max_nfev, **kwargs)\u001b[0m\n\u001b[1;32m    986\u001b[0m         params[name] \u001b[39m=\u001b[39m deepcopy(p)\n\u001b[1;32m    987\u001b[0m     \u001b[39melse\u001b[39;00m:\n\u001b[0;32m--> 988\u001b[0m         params[name]\u001b[39m.\u001b[39;49mset(value\u001b[39m=\u001b[39;49mp)\n\u001b[1;32m    989\u001b[0m     \u001b[39mdel\u001b[39;00m kwargs[name]\n\u001b[1;32m    991\u001b[0m \u001b[39m# All remaining kwargs should correspond to independent variables.\u001b[39;00m\n",
      "File \u001b[0;32m~/miniconda3/envs/calipytion/lib/python3.11/site-packages/lmfit/parameter.py:667\u001b[0m, in \u001b[0;36mParameter.set\u001b[0;34m(self, value, vary, min, max, expr, brute_step)\u001b[0m\n\u001b[1;32m    664\u001b[0m \u001b[39m# need to set this after min and max, so that it will use new\u001b[39;00m\n\u001b[1;32m    665\u001b[0m \u001b[39m# bounds in the setter for value\u001b[39;00m\n\u001b[1;32m    666\u001b[0m \u001b[39mif\u001b[39;00m value \u001b[39mis\u001b[39;00m \u001b[39mnot\u001b[39;00m \u001b[39mNone\u001b[39;00m:\n\u001b[0;32m--> 667\u001b[0m     \u001b[39mself\u001b[39;49m\u001b[39m.\u001b[39;49mvalue \u001b[39m=\u001b[39m value\n\u001b[1;32m    668\u001b[0m     \u001b[39mself\u001b[39m\u001b[39m.\u001b[39m__set_expression(\u001b[39m\"\u001b[39m\u001b[39m\"\u001b[39m)\n\u001b[1;32m    670\u001b[0m \u001b[39mif\u001b[39;00m expr \u001b[39mis\u001b[39;00m \u001b[39mnot\u001b[39;00m \u001b[39mNone\u001b[39;00m:\n",
      "File \u001b[0;32m~/miniconda3/envs/calipytion/lib/python3.11/site-packages/lmfit/parameter.py:822\u001b[0m, in \u001b[0;36mParameter.value\u001b[0;34m(self, val)\u001b[0m\n\u001b[1;32m    820\u001b[0m \u001b[39mself\u001b[39m\u001b[39m.\u001b[39m_val \u001b[39m=\u001b[39m val\n\u001b[1;32m    821\u001b[0m \u001b[39mif\u001b[39;00m \u001b[39mself\u001b[39m\u001b[39m.\u001b[39m_val \u001b[39mis\u001b[39;00m \u001b[39mnot\u001b[39;00m \u001b[39mNone\u001b[39;00m:\n\u001b[0;32m--> 822\u001b[0m     \u001b[39mif\u001b[39;00m \u001b[39mself\u001b[39m\u001b[39m.\u001b[39m_val \u001b[39m>\u001b[39m \u001b[39mself\u001b[39m\u001b[39m.\u001b[39mmax:\n\u001b[1;32m    823\u001b[0m         \u001b[39mself\u001b[39m\u001b[39m.\u001b[39m_val \u001b[39m=\u001b[39m \u001b[39mself\u001b[39m\u001b[39m.\u001b[39mmax\n\u001b[1;32m    824\u001b[0m     \u001b[39melif\u001b[39;00m \u001b[39mself\u001b[39m\u001b[39m.\u001b[39m_val \u001b[39m<\u001b[39m \u001b[39mself\u001b[39m\u001b[39m.\u001b[39mmin:\n",
      "\u001b[0;31mValueError\u001b[0m: The truth value of an array with more than one element is ambiguous. Use a.any() or a.all()"
     ]
    }
   ],
   "source": [
    "standard_curve = StandardCurve.from_calibration_datamodel(test_data)\n",
    "\n",
    "for model in standard_curve.models.values():\n",
    "    model.rsmd\n"
   ]
  },
  {
   "cell_type": "code",
   "execution_count": 5,
   "metadata": {},
   "outputs": [
    {
     "name": "stdout",
     "output_type": "stream",
     "text": [
      "['aman', 'satyam', 'ammy', 'sayam']\n",
      "['aman', 'sayam', 'satyam', 'ammy']\n"
     ]
    }
   ],
   "source": [
    "list = ['aman', 'satyam', 'ammy', 'sayam']\n",
    "i= 'sayam'\n",
    "print(list)\n",
    "\n",
    "list.insert( 1,list.pop(list.index(i) ))\n",
    "\n",
    "print(list) "
   ]
  }
 ],
 "metadata": {
  "kernelspec": {
   "display_name": "calipytion",
   "language": "python",
   "name": "python3"
  },
  "language_info": {
   "codemirror_mode": {
    "name": "ipython",
    "version": 3
   },
   "file_extension": ".py",
   "mimetype": "text/x-python",
   "name": "python",
   "nbconvert_exporter": "python",
   "pygments_lexer": "ipython3",
   "version": "3.11.2"
  },
  "orig_nbformat": 4
 },
 "nbformat": 4,
 "nbformat_minor": 2
}
