{
 "cells": [
  {
   "cell_type": "code",
   "execution_count": 4,
   "metadata": {},
   "outputs": [],
   "source": [
    "%reload_ext autoreload\n",
    "%autoreload 2\n",
    "\n",
    "import pyenzyme as pe\n",
    "from calipytion import Calibrator\n",
    "from pyenzyme.units import uM, s"
   ]
  },
  {
   "cell_type": "code",
   "execution_count": 5,
   "metadata": {},
   "outputs": [],
   "source": [
    "enzmldoc = pe.EnzymeMLDocument(name=\"Test calipytion conversion\")\n",
    "\n",
    "nadh = enzmldoc.add_to_small_molecules(\n",
    "    id=\"s0\",\n",
    "    ld_id=\"https://pubchem.ncbi.nlm.nih.gov/compound/1_4-Dihydronicotinamide-adenine-dinucleotide\",\n",
    "    name=\"NADH\",\n",
    ")\n",
    "\n",
    "measurement = enzmldoc.add_to_measurements(id=\"m0\", name=\"NADH measurement\")\n",
    "\n",
    "measurement.add_to_species_data(\n",
    "    species_id=nadh.id,\n",
    "    initial=0.5,\n",
    "    prepared=0.5,\n",
    "    data=[2.7, 2.45, 1.9999, 1.52, 1, 0.5, 0.23],\n",
    "    data_unit=uM,\n",
    "    time=[0, 10, 20, 30, 40, 50, 60],\n",
    "    time_unit=s,\n",
    "    data_type=pe.DataTypes.ABSORBANCE,\n",
    ")\n",
    "\n",
    "cal = Calibrator.from_json(\"abts_standard.json\")"
   ]
  },
  {
   "cell_type": "code",
   "execution_count": 6,
   "metadata": {},
   "outputs": [
    {
     "name": "stdout",
     "output_type": "stream",
     "text": [
      "✅ Models have been successfully fitted.\n"
     ]
    },
    {
     "data": {
      "text/html": [
       "<pre style=\"white-space:pre;overflow-x:auto;line-height:normal;font-family:Menlo,'DejaVu Sans Mono',consolas,'Courier New',monospace\"><span style=\"font-style: italic\">                                                 Model Overview                                                 </span>\n",
       "┏━━━━━━━━━━━━┳━━━━━━┳━━━━━━━━━━━┳━━━━━━━━┳━━━━━━━━━━━━━━━━━━━━━━━━━━━━━━━━┳━━━━━━━━━━━━━━━━━━━━━━━━━━━━━━━━━━━━┓\n",
       "┃<span style=\"font-weight: bold\"> Model Name </span>┃<span style=\"font-weight: bold\"> AIC  </span>┃<span style=\"font-weight: bold\"> R squared </span>┃<span style=\"font-weight: bold\"> RMSD   </span>┃<span style=\"font-weight: bold\"> Equation                       </span>┃<span style=\"font-weight: bold\"> Relative Parameter Standard Errors </span>┃\n",
       "┡━━━━━━━━━━━━╇━━━━━━╇━━━━━━━━━━━╇━━━━━━━━╇━━━━━━━━━━━━━━━━━━━━━━━━━━━━━━━━╇━━━━━━━━━━━━━━━━━━━━━━━━━━━━━━━━━━━━┩\n",
       "│<span style=\"color: #800080; text-decoration-color: #800080\"> linear     </span>│<span style=\"color: #008080; text-decoration-color: #008080\"> -193 </span>│<span style=\"color: #008080; text-decoration-color: #008080\"> 1.0       </span>│<span style=\"color: #008080; text-decoration-color: #008080\"> 0.0    </span>│<span style=\"color: #008080; text-decoration-color: #008080\"> a * s2                         </span>│<span style=\"color: #008080; text-decoration-color: #008080\"> a: 0.0%,                           </span>│\n",
       "│<span style=\"color: #800080; text-decoration-color: #800080\"> quadratic  </span>│<span style=\"color: #008080; text-decoration-color: #008080\"> -59  </span>│<span style=\"color: #008080; text-decoration-color: #008080\"> 1.0       </span>│<span style=\"color: #008080; text-decoration-color: #008080\"> 0.0015 </span>│<span style=\"color: #008080; text-decoration-color: #008080\"> a * s2 + b * s2**2 + c         </span>│<span style=\"color: #008080; text-decoration-color: #008080\"> a: n.a., b: n.a., c: n.a.,         </span>│\n",
       "│<span style=\"color: #800080; text-decoration-color: #800080\"> cubic      </span>│<span style=\"color: #008080; text-decoration-color: #008080\"> -18  </span>│<span style=\"color: #008080; text-decoration-color: #008080\"> 0.9957    </span>│<span style=\"color: #008080; text-decoration-color: #008080\"> 0.0924 </span>│<span style=\"color: #008080; text-decoration-color: #008080\"> a * s2 + b * s2**2 + c * s2**3 </span>│<span style=\"color: #008080; text-decoration-color: #008080\"> a: n.a., b: n.a., c: n.a.,         </span>│\n",
       "└────────────┴──────┴───────────┴────────┴────────────────────────────────┴────────────────────────────────────┘\n",
       "</pre>\n"
      ],
      "text/plain": [
       "\u001b[3m                                                 Model Overview                                                 \u001b[0m\n",
       "┏━━━━━━━━━━━━┳━━━━━━┳━━━━━━━━━━━┳━━━━━━━━┳━━━━━━━━━━━━━━━━━━━━━━━━━━━━━━━━┳━━━━━━━━━━━━━━━━━━━━━━━━━━━━━━━━━━━━┓\n",
       "┃\u001b[1m \u001b[0m\u001b[1mModel Name\u001b[0m\u001b[1m \u001b[0m┃\u001b[1m \u001b[0m\u001b[1mAIC \u001b[0m\u001b[1m \u001b[0m┃\u001b[1m \u001b[0m\u001b[1mR squared\u001b[0m\u001b[1m \u001b[0m┃\u001b[1m \u001b[0m\u001b[1mRMSD  \u001b[0m\u001b[1m \u001b[0m┃\u001b[1m \u001b[0m\u001b[1mEquation                      \u001b[0m\u001b[1m \u001b[0m┃\u001b[1m \u001b[0m\u001b[1mRelative Parameter Standard Errors\u001b[0m\u001b[1m \u001b[0m┃\n",
       "┡━━━━━━━━━━━━╇━━━━━━╇━━━━━━━━━━━╇━━━━━━━━╇━━━━━━━━━━━━━━━━━━━━━━━━━━━━━━━━╇━━━━━━━━━━━━━━━━━━━━━━━━━━━━━━━━━━━━┩\n",
       "│\u001b[35m \u001b[0m\u001b[35mlinear    \u001b[0m\u001b[35m \u001b[0m│\u001b[36m \u001b[0m\u001b[36m-193\u001b[0m\u001b[36m \u001b[0m│\u001b[36m \u001b[0m\u001b[36m1.0      \u001b[0m\u001b[36m \u001b[0m│\u001b[36m \u001b[0m\u001b[36m0.0   \u001b[0m\u001b[36m \u001b[0m│\u001b[36m \u001b[0m\u001b[36ma * s2                        \u001b[0m\u001b[36m \u001b[0m│\u001b[36m \u001b[0m\u001b[36ma: 0.0%,                          \u001b[0m\u001b[36m \u001b[0m│\n",
       "│\u001b[35m \u001b[0m\u001b[35mquadratic \u001b[0m\u001b[35m \u001b[0m│\u001b[36m \u001b[0m\u001b[36m-59 \u001b[0m\u001b[36m \u001b[0m│\u001b[36m \u001b[0m\u001b[36m1.0      \u001b[0m\u001b[36m \u001b[0m│\u001b[36m \u001b[0m\u001b[36m0.0015\u001b[0m\u001b[36m \u001b[0m│\u001b[36m \u001b[0m\u001b[36ma * s2 + b * s2**2 + c        \u001b[0m\u001b[36m \u001b[0m│\u001b[36m \u001b[0m\u001b[36ma: n.a., b: n.a., c: n.a.,        \u001b[0m\u001b[36m \u001b[0m│\n",
       "│\u001b[35m \u001b[0m\u001b[35mcubic     \u001b[0m\u001b[35m \u001b[0m│\u001b[36m \u001b[0m\u001b[36m-18 \u001b[0m\u001b[36m \u001b[0m│\u001b[36m \u001b[0m\u001b[36m0.9957   \u001b[0m\u001b[36m \u001b[0m│\u001b[36m \u001b[0m\u001b[36m0.0924\u001b[0m\u001b[36m \u001b[0m│\u001b[36m \u001b[0m\u001b[36ma * s2 + b * s2**2 + c * s2**3\u001b[0m\u001b[36m \u001b[0m│\u001b[36m \u001b[0m\u001b[36ma: n.a., b: n.a., c: n.a.,        \u001b[0m\u001b[36m \u001b[0m│\n",
       "└────────────┴──────┴───────────┴────────┴────────────────────────────────┴────────────────────────────────────┘\n"
      ]
     },
     "metadata": {},
     "output_type": "display_data"
    },
    {
     "data": {
      "text/html": [
       "<pre style=\"white-space:pre;overflow-x:auto;line-height:normal;font-family:Menlo,'DejaVu Sans Mono',consolas,'Courier New',monospace\"></pre>\n"
      ],
      "text/plain": []
     },
     "metadata": {},
     "output_type": "display_data"
    },
    {
     "data": {
      "text/plain": [
       "\u001b[1m[\u001b[0m\u001b[1;36m5.000000006984919\u001b[0m, \u001b[1;36m10.000000013969839\u001b[0m, \u001b[1;36m15.000000020954758\u001b[0m, \u001b[1;36m20.000000027939677\u001b[0m, \u001b[1;36m35.000000048894435\u001b[0m\u001b[1m]\u001b[0m"
      ]
     },
     "execution_count": 6,
     "metadata": {},
     "output_type": "execute_result"
    }
   ],
   "source": [
    "import pyenzyme as pe\n",
    "from pyenzyme.units import mM, second\n",
    "\n",
    "from calipytion import Calibrator\n",
    "from calipytion.tools.enzymeml import convert_measurement\n",
    "from calipytion.units import celsius as cal_celsius\n",
    "from calipytion.units import mM as cal_mM\n",
    "\n",
    "# create a mock calibrator\n",
    "cal_data = {\n",
    "    \"molecule_id\": \"s2\",\n",
    "    \"molecule_name\": \"NADH\",\n",
    "    \"ld_id\": \"www.example.com/s2\",\n",
    "    \"signals\": [0, 1, 2, 3, 4],\n",
    "    \"concentrations\": [0, 10, 20, 30, 40],\n",
    "    \"conc_unit\": cal_mM,\n",
    "}\n",
    "\n",
    "standard_params = {\n",
    "    \"ph\": 3,\n",
    "    \"temperature\": 25,\n",
    "    \"temp_unit\": cal_celsius,\n",
    "}\n",
    "\n",
    "meas_data_dict = {\n",
    "    \"species_id\": \"s2\",\n",
    "    \"initial\": 3,\n",
    "    \"prepared\": 3,\n",
    "    \"data\": [0.5, 1, 1.5, 2, 3.5],\n",
    "    \"data_unit\": mM,\n",
    "    \"time\": [0, 1, 2, 3, 4],\n",
    "    \"time_unit\": second,\n",
    "    \"data_type\": pe.DataTypes.ABSORBANCE,\n",
    "}\n",
    "\n",
    "\n",
    "c = Calibrator(**cal_data)\n",
    "c.fit_models()\n",
    "\n",
    "c.calculate_concentrations(c.models[0], [0.5, 1, 1.5, 2, 3.5])"
   ]
  }
 ],
 "metadata": {
  "kernelspec": {
   "display_name": "calipytion-RTzWLG9W-py3.11",
   "language": "python",
   "name": "python3"
  },
  "language_info": {
   "codemirror_mode": {
    "name": "ipython",
    "version": 3
   },
   "file_extension": ".py",
   "mimetype": "text/x-python",
   "name": "python",
   "nbconvert_exporter": "python",
   "pygments_lexer": "ipython3",
   "version": "3.11.5"
  }
 },
 "nbformat": 4,
 "nbformat_minor": 2
}
